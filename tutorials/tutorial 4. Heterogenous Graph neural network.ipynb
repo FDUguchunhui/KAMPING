{
 "cells": [
  {
   "cell_type": "code",
   "execution_count": 1,
   "id": "initial_id",
   "metadata": {
    "collapsed": true,
    "ExecuteTime": {
     "end_time": "2024-12-16T17:12:01.414543Z",
     "start_time": "2024-12-16T17:11:58.458582Z"
    }
   },
   "outputs": [],
   "source": [
    "# Import kamping library before starting the tutorial\n",
    "import kamping\n",
    "\n",
    "%load_ext autoreload\n",
    "%autoreload 2"
   ]
  },
  {
   "cell_type": "code",
   "outputs": [
    {
     "name": "stderr",
     "output_type": "stream",
     "text": [
      "WARNING:root:ERROR: File \"../data/kgml_hsa/hsa00190.xml\" cannot be parsed.\n",
      "\n",
      "            Visit https://www.kegg.jp/kegg-bin/show_pathway?hsa00190 for pathway details.\n",
      "\n",
      "            There are likely no edges in which to parse...\n",
      "INFO:KeggGraph:Now parsing: path:hsa00220...\n",
      "INFO:KeggGraph:Graph path:hsa00220 parsed successfully!\n",
      "INFO:KeggGraph:Now parsing: path:hsa00230...\n",
      "INFO:KeggGraph:Graph path:hsa00230 parsed successfully!\n",
      "INFO:KeggGraph:Now parsing: path:hsa00232...\n",
      "INFO:KeggGraph:Graph path:hsa00232 parsed successfully!\n",
      "INFO:KeggGraph:Now parsing: path:hsa00240...\n",
      "INFO:KeggGraph:Graph path:hsa00240 parsed successfully!\n",
      "INFO:KeggGraph:Now parsing: path:hsa00250...\n",
      "INFO:KeggGraph:Graph path:hsa00250 parsed successfully!\n",
      "INFO:KeggGraph:Now parsing: path:hsa00260...\n",
      "INFO:KeggGraph:Graph path:hsa00260 parsed successfully!\n",
      "INFO:KeggGraph:Now parsing: path:hsa00270...\n",
      "INFO:KeggGraph:Graph path:hsa00270 parsed successfully!\n",
      "INFO:KeggGraph:Now parsing: path:hsa00280...\n",
      "INFO:KeggGraph:Graph path:hsa00280 parsed successfully!\n",
      "INFO:KeggGraph:Now parsing: path:hsa00290...\n",
      "INFO:KeggGraph:Graph path:hsa00290 parsed successfully!\n",
      "INFO:KeggGraph:Now parsing: path:hsa00310...\n",
      "INFO:KeggGraph:Graph path:hsa00310 parsed successfully!\n",
      "INFO:KeggGraph:Now parsing: path:hsa00330...\n",
      "INFO:KeggGraph:Graph path:hsa00330 parsed successfully!\n",
      "INFO:KeggGraph:Now parsing: path:hsa00340...\n",
      "INFO:KeggGraph:Graph path:hsa00340 parsed successfully!\n",
      "INFO:KeggGraph:Now parsing: path:hsa00350...\n",
      "INFO:KeggGraph:Graph path:hsa00350 parsed successfully!\n",
      "INFO:KeggGraph:Now parsing: path:hsa00360...\n",
      "INFO:KeggGraph:Graph path:hsa00360 parsed successfully!\n",
      "INFO:KeggGraph:Now parsing: path:hsa00380...\n",
      "INFO:KeggGraph:Graph path:hsa00380 parsed successfully!\n",
      "INFO:KeggGraph:Now parsing: path:hsa00400...\n",
      "INFO:KeggGraph:Graph path:hsa00400 parsed successfully!\n",
      "INFO:KeggGraph:Now parsing: path:hsa00410...\n",
      "INFO:KeggGraph:Graph path:hsa00410 parsed successfully!\n",
      "INFO:KeggGraph:Now parsing: path:hsa00430...\n",
      "INFO:KeggGraph:Graph path:hsa00430 parsed successfully!\n",
      "INFO:KeggGraph:Now parsing: path:hsa00440...\n",
      "INFO:KeggGraph:Graph path:hsa00440 parsed successfully!\n",
      "INFO:KeggGraph:Now parsing: path:hsa00450...\n",
      "INFO:KeggGraph:Graph path:hsa00450 parsed successfully!\n",
      "INFO:KeggGraph:Now parsing: path:hsa00470...\n",
      "INFO:KeggGraph:Graph path:hsa00470 parsed successfully!\n",
      "INFO:KeggGraph:Now parsing: path:hsa00480...\n",
      "INFO:KeggGraph:Graph path:hsa00480 parsed successfully!\n",
      "INFO:KeggGraph:Now parsing: path:hsa00500...\n",
      "INFO:KeggGraph:Graph path:hsa00500 parsed successfully!\n",
      "INFO:KeggGraph:Now parsing: path:hsa00510...\n",
      "INFO:KeggGraph:Graph path:hsa00510 parsed successfully!\n",
      "INFO:KeggGraph:Now parsing: path:hsa00511...\n",
      "WARNING:root:ERROR: File \"../data/kgml_hsa/hsa00511.xml\" cannot be parsed.\n",
      "\n",
      "            Visit https://www.kegg.jp/kegg-bin/show_pathway?hsa00511 for pathway details.\n",
      "\n",
      "            There are likely no edges in which to parse...\n",
      "INFO:KeggGraph:Now parsing: path:hsa00512...\n",
      "INFO:KeggGraph:Graph path:hsa00512 parsed successfully!\n",
      "INFO:KeggGraph:Now parsing: path:hsa00513...\n",
      "INFO:KeggGraph:Graph path:hsa00513 parsed successfully!\n",
      "INFO:KeggGraph:Now parsing: path:hsa00514...\n",
      "WARNING:root:ERROR: File \"../data/kgml_hsa/hsa00514.xml\" cannot be parsed.\n",
      "\n",
      "            Visit https://www.kegg.jp/kegg-bin/show_pathway?hsa00514 for pathway details.\n",
      "\n",
      "            There are likely no edges in which to parse...\n",
      "INFO:KeggGraph:Now parsing: path:hsa00515...\n",
      "INFO:KeggGraph:Graph path:hsa00515 parsed successfully!\n",
      "INFO:KeggGraph:Now parsing: path:hsa00520...\n",
      "INFO:KeggGraph:Graph path:hsa00520 parsed successfully!\n",
      "INFO:KeggGraph:Now parsing: path:hsa00524...\n",
      "INFO:KeggGraph:Graph path:hsa00524 parsed successfully!\n",
      "INFO:KeggGraph:Now parsing: path:hsa00531...\n",
      "INFO:KeggGraph:Graph path:hsa00531 parsed successfully!\n",
      "INFO:KeggGraph:Now parsing: path:hsa00532...\n",
      "INFO:KeggGraph:Graph path:hsa00532 parsed successfully!\n",
      "INFO:KeggGraph:Now parsing: path:hsa00533...\n",
      "WARNING:root:ERROR: File \"../data/kgml_hsa/hsa00533.xml\" cannot be parsed.\n",
      "\n",
      "            Visit https://www.kegg.jp/kegg-bin/show_pathway?hsa00533 for pathway details.\n",
      "\n",
      "            There are likely no edges in which to parse...\n",
      "INFO:KeggGraph:Now parsing: path:hsa00534...\n",
      "INFO:KeggGraph:Graph path:hsa00534 parsed successfully!\n",
      "INFO:KeggGraph:Now parsing: path:hsa00561...\n",
      "INFO:KeggGraph:Graph path:hsa00561 parsed successfully!\n",
      "INFO:KeggGraph:Now parsing: path:hsa00562...\n",
      "INFO:KeggGraph:Graph path:hsa00562 parsed successfully!\n",
      "INFO:KeggGraph:Now parsing: path:hsa00563...\n",
      "INFO:KeggGraph:Graph path:hsa00563 parsed successfully!\n",
      "INFO:KeggGraph:Now parsing: path:hsa00564...\n",
      "INFO:KeggGraph:Graph path:hsa00564 parsed successfully!\n",
      "INFO:KeggGraph:Now parsing: path:hsa00565...\n",
      "INFO:KeggGraph:Graph path:hsa00565 parsed successfully!\n",
      "INFO:KeggGraph:Now parsing: path:hsa00590...\n",
      "INFO:KeggGraph:Graph path:hsa00590 parsed successfully!\n",
      "INFO:KeggGraph:Now parsing: path:hsa00591...\n",
      "INFO:KeggGraph:Graph path:hsa00591 parsed successfully!\n",
      "INFO:KeggGraph:Now parsing: path:hsa00592...\n",
      "INFO:KeggGraph:Graph path:hsa00592 parsed successfully!\n",
      "INFO:KeggGraph:Now parsing: path:hsa00600...\n",
      "INFO:KeggGraph:Graph path:hsa00600 parsed successfully!\n",
      "INFO:KeggGraph:Now parsing: path:hsa00601...\n",
      "INFO:KeggGraph:Graph path:hsa00601 parsed successfully!\n",
      "INFO:KeggGraph:Now parsing: path:hsa00603...\n",
      "INFO:KeggGraph:Graph path:hsa00603 parsed successfully!\n",
      "INFO:KeggGraph:Now parsing: path:hsa00604...\n",
      "INFO:KeggGraph:Graph path:hsa00604 parsed successfully!\n",
      "INFO:KeggGraph:Now parsing: path:hsa00620...\n",
      "INFO:KeggGraph:Graph path:hsa00620 parsed successfully!\n",
      "INFO:KeggGraph:Now parsing: path:hsa00630...\n",
      "INFO:KeggGraph:Graph path:hsa00630 parsed successfully!\n",
      "INFO:KeggGraph:Now parsing: path:hsa00640...\n",
      "INFO:KeggGraph:Graph path:hsa00640 parsed successfully!\n",
      "INFO:KeggGraph:Now parsing: path:hsa00650...\n",
      "INFO:KeggGraph:Graph path:hsa00650 parsed successfully!\n",
      "INFO:KeggGraph:Now parsing: path:hsa00670...\n",
      "INFO:KeggGraph:Graph path:hsa00670 parsed successfully!\n",
      "INFO:KeggGraph:Now parsing: path:hsa00730...\n",
      "INFO:KeggGraph:Graph path:hsa00730 parsed successfully!\n",
      "INFO:KeggGraph:Now parsing: path:hsa00740...\n",
      "INFO:KeggGraph:Graph path:hsa00740 parsed successfully!\n",
      "INFO:KeggGraph:Now parsing: path:hsa00750...\n",
      "INFO:KeggGraph:Graph path:hsa00750 parsed successfully!\n",
      "INFO:KeggGraph:Now parsing: path:hsa00760...\n",
      "INFO:KeggGraph:Graph path:hsa00760 parsed successfully!\n",
      "INFO:KeggGraph:Now parsing: path:hsa00770...\n",
      "INFO:KeggGraph:Graph path:hsa00770 parsed successfully!\n",
      "INFO:KeggGraph:Now parsing: path:hsa00780...\n",
      "INFO:KeggGraph:Graph path:hsa00780 parsed successfully!\n",
      "INFO:KeggGraph:Now parsing: path:hsa00785...\n",
      "INFO:KeggGraph:Graph path:hsa00785 parsed successfully!\n",
      "INFO:KeggGraph:Now parsing: path:hsa00790...\n",
      "INFO:KeggGraph:Graph path:hsa00790 parsed successfully!\n",
      "INFO:KeggGraph:Now parsing: path:hsa00830...\n",
      "INFO:KeggGraph:Graph path:hsa00830 parsed successfully!\n",
      "INFO:KeggGraph:Now parsing: path:hsa00860...\n",
      "INFO:KeggGraph:Graph path:hsa00860 parsed successfully!\n",
      "INFO:KeggGraph:Now parsing: path:hsa00900...\n",
      "INFO:KeggGraph:Graph path:hsa00900 parsed successfully!\n",
      "INFO:KeggGraph:Now parsing: path:hsa00910...\n",
      "INFO:KeggGraph:Graph path:hsa00910 parsed successfully!\n",
      "INFO:KeggGraph:Now parsing: path:hsa00920...\n",
      "INFO:KeggGraph:Graph path:hsa00920 parsed successfully!\n",
      "INFO:KeggGraph:Now parsing: path:hsa00970...\n",
      "INFO:KeggGraph:Graph path:hsa00970 parsed successfully!\n",
      "INFO:KeggGraph:Now parsing: path:hsa00980...\n",
      "INFO:KeggGraph:Graph path:hsa00980 parsed successfully!\n",
      "INFO:KeggGraph:Now parsing: path:hsa00982...\n",
      "INFO:KeggGraph:Graph path:hsa00982 parsed successfully!\n",
      "INFO:KeggGraph:Now parsing: path:hsa00983...\n",
      "INFO:KeggGraph:Graph path:hsa00983 parsed successfully!\n",
      "INFO:KeggGraph:Now parsing: path:hsa01040...\n",
      "INFO:KeggGraph:Graph path:hsa01040 parsed successfully!\n",
      "INFO:KeggGraph:Now parsing: path:hsa01200...\n",
      "INFO:KeggGraph:Graph path:hsa01200 parsed successfully!\n",
      "INFO:KeggGraph:Now parsing: path:hsa01210...\n",
      "INFO:KeggGraph:Graph path:hsa01210 parsed successfully!\n",
      "INFO:KeggGraph:Now parsing: path:hsa01212...\n",
      "INFO:KeggGraph:Graph path:hsa01212 parsed successfully!\n",
      "INFO:KeggGraph:Now parsing: path:hsa01230...\n",
      "INFO:KeggGraph:Graph path:hsa01230 parsed successfully!\n",
      "INFO:KeggGraph:Now parsing: path:hsa01232...\n",
      "INFO:KeggGraph:Graph path:hsa01232 parsed successfully!\n",
      "INFO:KeggGraph:Now parsing: path:hsa01240...\n",
      "INFO:KeggGraph:Graph path:hsa01240 parsed successfully!\n",
      "INFO:KeggGraph:Now parsing: path:hsa01250...\n",
      "INFO:KeggGraph:Graph path:hsa01250 parsed successfully!\n",
      "INFO:KeggGraph:Now parsing: path:hsa01521...\n",
      "INFO:KeggGraph:Graph path:hsa01521 parsed successfully!\n",
      "INFO:KeggGraph:Now parsing: path:hsa01522...\n",
      "INFO:KeggGraph:Graph path:hsa01522 parsed successfully!\n",
      "INFO:KeggGraph:Now parsing: path:hsa01523...\n",
      "INFO:KeggGraph:Graph path:hsa01523 parsed successfully!\n",
      "INFO:KeggGraph:Now parsing: path:hsa01524...\n",
      "INFO:KeggGraph:Graph path:hsa01524 parsed successfully!\n",
      "INFO:KeggGraph:Now parsing: path:hsa02010...\n",
      "WARNING:root:ERROR: File \"../data/kgml_hsa/hsa02010.xml\" cannot be parsed.\n",
      "\n",
      "            Visit https://www.kegg.jp/kegg-bin/show_pathway?hsa02010 for pathway details.\n",
      "\n",
      "            There are likely no edges in which to parse...\n",
      "INFO:KeggGraph:Now parsing: path:hsa03008...\n",
      "WARNING:root:ERROR: File \"../data/kgml_hsa/hsa03008.xml\" cannot be parsed.\n",
      "\n",
      "            Visit https://www.kegg.jp/kegg-bin/show_pathway?hsa03008 for pathway details.\n",
      "\n",
      "            There are likely no edges in which to parse...\n",
      "INFO:KeggGraph:Now parsing: path:hsa03010...\n",
      "WARNING:root:ERROR: File \"../data/kgml_hsa/hsa03010.xml\" cannot be parsed.\n",
      "\n",
      "            Visit https://www.kegg.jp/kegg-bin/show_pathway?hsa03010 for pathway details.\n",
      "\n",
      "            There are likely no edges in which to parse...\n",
      "INFO:KeggGraph:Now parsing: path:hsa03013...\n",
      "WARNING:root:ERROR: File \"../data/kgml_hsa/hsa03013.xml\" cannot be parsed.\n",
      "\n",
      "            Visit https://www.kegg.jp/kegg-bin/show_pathway?hsa03013 for pathway details.\n",
      "\n",
      "            There are likely no edges in which to parse...\n",
      "INFO:KeggGraph:Now parsing: path:hsa03015...\n",
      "INFO:KeggGraph:Graph path:hsa03015 parsed successfully!\n",
      "INFO:KeggGraph:Now parsing: path:hsa03018...\n",
      "INFO:KeggGraph:Graph path:hsa03018 parsed successfully!\n",
      "INFO:KeggGraph:Now parsing: path:hsa03020...\n",
      "WARNING:root:ERROR: File \"../data/kgml_hsa/hsa03020.xml\" cannot be parsed.\n",
      "\n",
      "            Visit https://www.kegg.jp/kegg-bin/show_pathway?hsa03020 for pathway details.\n",
      "\n",
      "            There are likely no edges in which to parse...\n",
      "INFO:KeggGraph:Now parsing: path:hsa03022...\n",
      "WARNING:root:ERROR: File \"../data/kgml_hsa/hsa03022.xml\" cannot be parsed.\n",
      "\n",
      "            Visit https://www.kegg.jp/kegg-bin/show_pathway?hsa03022 for pathway details.\n",
      "\n",
      "            There are likely no edges in which to parse...\n",
      "INFO:KeggGraph:Now parsing: path:hsa03030...\n",
      "WARNING:root:ERROR: File \"../data/kgml_hsa/hsa03030.xml\" cannot be parsed.\n",
      "\n",
      "            Visit https://www.kegg.jp/kegg-bin/show_pathway?hsa03030 for pathway details.\n",
      "\n",
      "            There are likely no edges in which to parse...\n",
      "INFO:KeggGraph:Now parsing: path:hsa03040...\n",
      "WARNING:root:ERROR: File \"../data/kgml_hsa/hsa03040.xml\" cannot be parsed.\n",
      "\n",
      "            Visit https://www.kegg.jp/kegg-bin/show_pathway?hsa03040 for pathway details.\n",
      "\n",
      "            There are likely no edges in which to parse...\n",
      "INFO:KeggGraph:Now parsing: path:hsa03050...\n",
      "WARNING:root:ERROR: File \"../data/kgml_hsa/hsa03050.xml\" cannot be parsed.\n",
      "\n",
      "            Visit https://www.kegg.jp/kegg-bin/show_pathway?hsa03050 for pathway details.\n",
      "\n",
      "            There are likely no edges in which to parse...\n",
      "INFO:KeggGraph:Now parsing: path:hsa03060...\n",
      "WARNING:root:ERROR: File \"../data/kgml_hsa/hsa03060.xml\" cannot be parsed.\n",
      "\n",
      "            Visit https://www.kegg.jp/kegg-bin/show_pathway?hsa03060 for pathway details.\n",
      "\n",
      "            There are likely no edges in which to parse...\n",
      "INFO:KeggGraph:Now parsing: path:hsa03082...\n",
      "WARNING:root:ERROR: File \"../data/kgml_hsa/hsa03082.xml\" cannot be parsed.\n",
      "\n",
      "            Visit https://www.kegg.jp/kegg-bin/show_pathway?hsa03082 for pathway details.\n",
      "\n",
      "            There are likely no edges in which to parse...\n",
      "INFO:KeggGraph:Now parsing: path:hsa03083...\n",
      "WARNING:root:ERROR: File \"../data/kgml_hsa/hsa03083.xml\" cannot be parsed.\n",
      "\n",
      "            Visit https://www.kegg.jp/kegg-bin/show_pathway?hsa03083 for pathway details.\n",
      "\n",
      "            There are likely no edges in which to parse...\n",
      "INFO:KeggGraph:Now parsing: path:hsa03250...\n",
      "INFO:KeggGraph:Graph path:hsa03250 parsed successfully!\n",
      "INFO:KeggGraph:Now parsing: path:hsa03260...\n",
      "WARNING:root:ERROR: File \"../data/kgml_hsa/hsa03260.xml\" cannot be parsed.\n",
      "\n",
      "            Visit https://www.kegg.jp/kegg-bin/show_pathway?hsa03260 for pathway details.\n",
      "\n",
      "            There are likely no edges in which to parse...\n",
      "INFO:KeggGraph:Now parsing: path:hsa03264...\n",
      "WARNING:root:ERROR: File \"../data/kgml_hsa/hsa03264.xml\" cannot be parsed.\n",
      "\n",
      "            Visit https://www.kegg.jp/kegg-bin/show_pathway?hsa03264 for pathway details.\n",
      "\n",
      "            There are likely no edges in which to parse...\n",
      "INFO:KeggGraph:Now parsing: path:hsa03265...\n",
      "WARNING:root:ERROR: File \"../data/kgml_hsa/hsa03265.xml\" cannot be parsed.\n",
      "\n",
      "            Visit https://www.kegg.jp/kegg-bin/show_pathway?hsa03265 for pathway details.\n",
      "\n",
      "            There are likely no edges in which to parse...\n",
      "INFO:KeggGraph:Now parsing: path:hsa03266...\n",
      "WARNING:root:ERROR: File \"../data/kgml_hsa/hsa03266.xml\" cannot be parsed.\n",
      "\n",
      "            Visit https://www.kegg.jp/kegg-bin/show_pathway?hsa03266 for pathway details.\n",
      "\n",
      "            There are likely no edges in which to parse...\n",
      "INFO:KeggGraph:Now parsing: path:hsa03267...\n",
      "WARNING:root:ERROR: File \"../data/kgml_hsa/hsa03267.xml\" cannot be parsed.\n",
      "\n",
      "            Visit https://www.kegg.jp/kegg-bin/show_pathway?hsa03267 for pathway details.\n",
      "\n",
      "            There are likely no edges in which to parse...\n",
      "INFO:KeggGraph:Now parsing: path:hsa03271...\n",
      "WARNING:root:ERROR: File \"../data/kgml_hsa/hsa03271.xml\" cannot be parsed.\n",
      "\n",
      "            Visit https://www.kegg.jp/kegg-bin/show_pathway?hsa03271 for pathway details.\n",
      "\n",
      "            There are likely no edges in which to parse...\n",
      "INFO:KeggGraph:Now parsing: path:hsa03320...\n",
      "INFO:KeggGraph:Graph path:hsa03320 parsed successfully!\n",
      "INFO:KeggGraph:Now parsing: path:hsa03410...\n",
      "WARNING:root:ERROR: File \"../data/kgml_hsa/hsa03410.xml\" cannot be parsed.\n",
      "\n",
      "            Visit https://www.kegg.jp/kegg-bin/show_pathway?hsa03410 for pathway details.\n",
      "\n",
      "            There are likely no edges in which to parse...\n",
      "INFO:KeggGraph:Now parsing: path:hsa03420...\n",
      "WARNING:root:ERROR: File \"../data/kgml_hsa/hsa03420.xml\" cannot be parsed.\n",
      "\n",
      "            Visit https://www.kegg.jp/kegg-bin/show_pathway?hsa03420 for pathway details.\n",
      "\n",
      "            There are likely no edges in which to parse...\n",
      "INFO:KeggGraph:Now parsing: path:hsa03430...\n",
      "WARNING:root:ERROR: File \"../data/kgml_hsa/hsa03430.xml\" cannot be parsed.\n",
      "\n",
      "            Visit https://www.kegg.jp/kegg-bin/show_pathway?hsa03430 for pathway details.\n",
      "\n",
      "            There are likely no edges in which to parse...\n",
      "INFO:KeggGraph:Now parsing: path:hsa03440...\n",
      "INFO:KeggGraph:Graph path:hsa03440 parsed successfully!\n",
      "INFO:KeggGraph:Now parsing: path:hsa03450...\n",
      "WARNING:root:ERROR: File \"../data/kgml_hsa/hsa03450.xml\" cannot be parsed.\n",
      "\n",
      "            Visit https://www.kegg.jp/kegg-bin/show_pathway?hsa03450 for pathway details.\n",
      "\n",
      "            There are likely no edges in which to parse...\n",
      "INFO:KeggGraph:Now parsing: path:hsa03460...\n",
      "INFO:KeggGraph:Graph path:hsa03460 parsed successfully!\n",
      "INFO:KeggGraph:Now parsing: path:hsa04010...\n",
      "INFO:KeggGraph:Graph path:hsa04010 parsed successfully!\n",
      "INFO:KeggGraph:Now parsing: path:hsa04012...\n",
      "INFO:KeggGraph:Graph path:hsa04012 parsed successfully!\n",
      "INFO:KeggGraph:Now parsing: path:hsa04014...\n",
      "INFO:KeggGraph:Graph path:hsa04014 parsed successfully!\n",
      "INFO:KeggGraph:Now parsing: path:hsa04015...\n",
      "INFO:KeggGraph:Graph path:hsa04015 parsed successfully!\n",
      "INFO:KeggGraph:Now parsing: path:hsa04020...\n",
      "INFO:KeggGraph:Graph path:hsa04020 parsed successfully!\n",
      "INFO:KeggGraph:Now parsing: path:hsa04022...\n",
      "INFO:KeggGraph:Graph path:hsa04022 parsed successfully!\n",
      "INFO:KeggGraph:Now parsing: path:hsa04024...\n",
      "INFO:KeggGraph:Graph path:hsa04024 parsed successfully!\n",
      "INFO:KeggGraph:Now parsing: path:hsa04060...\n",
      "INFO:KeggGraph:Graph path:hsa04060 parsed successfully!\n",
      "INFO:KeggGraph:Now parsing: path:hsa04061...\n",
      "INFO:KeggGraph:Graph path:hsa04061 parsed successfully!\n",
      "INFO:KeggGraph:Now parsing: path:hsa04062...\n",
      "INFO:KeggGraph:Graph path:hsa04062 parsed successfully!\n",
      "INFO:KeggGraph:Now parsing: path:hsa04064...\n",
      "INFO:KeggGraph:Graph path:hsa04064 parsed successfully!\n",
      "INFO:KeggGraph:Now parsing: path:hsa04066...\n",
      "INFO:KeggGraph:Graph path:hsa04066 parsed successfully!\n",
      "INFO:KeggGraph:Now parsing: path:hsa04068...\n",
      "INFO:KeggGraph:Graph path:hsa04068 parsed successfully!\n",
      "INFO:KeggGraph:Now parsing: path:hsa04070...\n",
      "WARNING:root:ERROR: File \"../data/kgml_hsa/hsa04070.xml\" cannot be parsed.\n",
      "\n",
      "            Visit https://www.kegg.jp/kegg-bin/show_pathway?hsa04070 for pathway details.\n",
      "\n",
      "            There are likely no edges in which to parse...\n",
      "INFO:KeggGraph:Now parsing: path:hsa04071...\n",
      "INFO:KeggGraph:Graph path:hsa04071 parsed successfully!\n",
      "INFO:KeggGraph:Now parsing: path:hsa04072...\n",
      "INFO:KeggGraph:Graph path:hsa04072 parsed successfully!\n",
      "INFO:KeggGraph:Now parsing: path:hsa04080...\n",
      "INFO:KeggGraph:Graph path:hsa04080 parsed successfully!\n",
      "INFO:KeggGraph:Now parsing: path:hsa04110...\n",
      "INFO:KeggGraph:Graph path:hsa04110 parsed successfully!\n",
      "INFO:KeggGraph:Now parsing: path:hsa04114...\n",
      "INFO:KeggGraph:Graph path:hsa04114 parsed successfully!\n",
      "INFO:KeggGraph:Now parsing: path:hsa04115...\n",
      "INFO:KeggGraph:Graph path:hsa04115 parsed successfully!\n",
      "INFO:KeggGraph:Now parsing: path:hsa04120...\n",
      "WARNING:root:ERROR: File \"../data/kgml_hsa/hsa04120.xml\" cannot be parsed.\n",
      "\n",
      "            Visit https://www.kegg.jp/kegg-bin/show_pathway?hsa04120 for pathway details.\n",
      "\n",
      "            There are likely no edges in which to parse...\n",
      "INFO:KeggGraph:Now parsing: path:hsa04122...\n",
      "INFO:KeggGraph:Graph path:hsa04122 parsed successfully!\n",
      "INFO:KeggGraph:Now parsing: path:hsa04130...\n",
      "INFO:KeggGraph:Graph path:hsa04130 parsed successfully!\n",
      "INFO:KeggGraph:Now parsing: path:hsa04136...\n",
      "INFO:KeggGraph:Graph path:hsa04136 parsed successfully!\n",
      "INFO:KeggGraph:Now parsing: path:hsa04137...\n",
      "INFO:KeggGraph:Graph path:hsa04137 parsed successfully!\n",
      "INFO:KeggGraph:Now parsing: path:hsa04140...\n",
      "INFO:KeggGraph:Graph path:hsa04140 parsed successfully!\n",
      "INFO:KeggGraph:Now parsing: path:hsa04141...\n",
      "INFO:KeggGraph:Graph path:hsa04141 parsed successfully!\n",
      "INFO:KeggGraph:Now parsing: path:hsa04142...\n",
      "WARNING:root:ERROR: File \"../data/kgml_hsa/hsa04142.xml\" cannot be parsed.\n",
      "\n",
      "            Visit https://www.kegg.jp/kegg-bin/show_pathway?hsa04142 for pathway details.\n",
      "\n",
      "            There are likely no edges in which to parse...\n",
      "INFO:KeggGraph:Now parsing: path:hsa04144...\n",
      "INFO:KeggGraph:Graph path:hsa04144 parsed successfully!\n",
      "INFO:KeggGraph:Now parsing: path:hsa04145...\n",
      "INFO:KeggGraph:Graph path:hsa04145 parsed successfully!\n",
      "INFO:KeggGraph:Now parsing: path:hsa04146...\n",
      "WARNING:root:ERROR: File \"../data/kgml_hsa/hsa04146.xml\" cannot be parsed.\n",
      "\n",
      "            Visit https://www.kegg.jp/kegg-bin/show_pathway?hsa04146 for pathway details.\n",
      "\n",
      "            There are likely no edges in which to parse...\n",
      "INFO:KeggGraph:Now parsing: path:hsa04148...\n",
      "INFO:KeggGraph:Graph path:hsa04148 parsed successfully!\n",
      "INFO:KeggGraph:Now parsing: path:hsa04150...\n",
      "INFO:KeggGraph:Graph path:hsa04150 parsed successfully!\n",
      "INFO:KeggGraph:Now parsing: path:hsa04151...\n",
      "INFO:KeggGraph:Graph path:hsa04151 parsed successfully!\n",
      "INFO:KeggGraph:Now parsing: path:hsa04152...\n",
      "INFO:KeggGraph:Graph path:hsa04152 parsed successfully!\n",
      "INFO:KeggGraph:Now parsing: path:hsa04210...\n",
      "INFO:KeggGraph:Graph path:hsa04210 parsed successfully!\n",
      "INFO:KeggGraph:Now parsing: path:hsa04211...\n",
      "INFO:KeggGraph:Graph path:hsa04211 parsed successfully!\n",
      "INFO:KeggGraph:Now parsing: path:hsa04213...\n",
      "INFO:KeggGraph:Graph path:hsa04213 parsed successfully!\n",
      "INFO:KeggGraph:Now parsing: path:hsa04215...\n",
      "INFO:KeggGraph:Graph path:hsa04215 parsed successfully!\n",
      "INFO:KeggGraph:Now parsing: path:hsa04216...\n",
      "INFO:KeggGraph:Graph path:hsa04216 parsed successfully!\n",
      "INFO:KeggGraph:Now parsing: path:hsa04217...\n",
      "INFO:KeggGraph:Graph path:hsa04217 parsed successfully!\n",
      "INFO:KeggGraph:Now parsing: path:hsa04218...\n",
      "INFO:KeggGraph:Graph path:hsa04218 parsed successfully!\n",
      "INFO:KeggGraph:Now parsing: path:hsa04260...\n",
      "INFO:KeggGraph:Graph path:hsa04260 parsed successfully!\n",
      "INFO:KeggGraph:Now parsing: path:hsa04261...\n",
      "INFO:KeggGraph:Graph path:hsa04261 parsed successfully!\n",
      "INFO:KeggGraph:Now parsing: path:hsa04270...\n",
      "INFO:KeggGraph:Graph path:hsa04270 parsed successfully!\n",
      "INFO:KeggGraph:Now parsing: path:hsa04310...\n",
      "INFO:KeggGraph:Graph path:hsa04310 parsed successfully!\n",
      "INFO:KeggGraph:Now parsing: path:hsa04330...\n",
      "INFO:KeggGraph:Graph path:hsa04330 parsed successfully!\n",
      "INFO:KeggGraph:Now parsing: path:hsa04340...\n",
      "INFO:KeggGraph:Graph path:hsa04340 parsed successfully!\n",
      "INFO:KeggGraph:Now parsing: path:hsa04350...\n",
      "INFO:KeggGraph:Graph path:hsa04350 parsed successfully!\n",
      "INFO:KeggGraph:Now parsing: path:hsa04360...\n",
      "INFO:KeggGraph:Graph path:hsa04360 parsed successfully!\n",
      "INFO:KeggGraph:Now parsing: path:hsa04370...\n",
      "INFO:KeggGraph:Graph path:hsa04370 parsed successfully!\n",
      "INFO:KeggGraph:Now parsing: path:hsa04371...\n",
      "INFO:KeggGraph:Graph path:hsa04371 parsed successfully!\n",
      "INFO:KeggGraph:Now parsing: path:hsa04380...\n",
      "INFO:KeggGraph:Graph path:hsa04380 parsed successfully!\n",
      "INFO:KeggGraph:Now parsing: path:hsa04390...\n",
      "INFO:KeggGraph:Graph path:hsa04390 parsed successfully!\n",
      "INFO:KeggGraph:Now parsing: path:hsa04392...\n",
      "INFO:KeggGraph:Graph path:hsa04392 parsed successfully!\n",
      "INFO:KeggGraph:Now parsing: path:hsa04510...\n",
      "INFO:KeggGraph:Graph path:hsa04510 parsed successfully!\n",
      "INFO:KeggGraph:Now parsing: path:hsa04512...\n",
      "INFO:KeggGraph:Graph path:hsa04512 parsed successfully!\n",
      "INFO:KeggGraph:Now parsing: path:hsa04514...\n",
      "INFO:KeggGraph:Graph path:hsa04514 parsed successfully!\n",
      "INFO:KeggGraph:Now parsing: path:hsa04520...\n",
      "INFO:KeggGraph:Graph path:hsa04520 parsed successfully!\n",
      "INFO:KeggGraph:Now parsing: path:hsa04530...\n",
      "INFO:KeggGraph:Graph path:hsa04530 parsed successfully!\n",
      "INFO:KeggGraph:Now parsing: path:hsa04540...\n",
      "INFO:KeggGraph:Graph path:hsa04540 parsed successfully!\n",
      "INFO:KeggGraph:Now parsing: path:hsa04550...\n",
      "INFO:KeggGraph:Graph path:hsa04550 parsed successfully!\n",
      "INFO:KeggGraph:Now parsing: path:hsa04610...\n",
      "INFO:KeggGraph:Graph path:hsa04610 parsed successfully!\n",
      "INFO:KeggGraph:Now parsing: path:hsa04611...\n",
      "INFO:KeggGraph:Graph path:hsa04611 parsed successfully!\n",
      "INFO:KeggGraph:Now parsing: path:hsa04612...\n",
      "INFO:KeggGraph:Graph path:hsa04612 parsed successfully!\n",
      "INFO:KeggGraph:Now parsing: path:hsa04613...\n",
      "INFO:KeggGraph:Graph path:hsa04613 parsed successfully!\n",
      "INFO:KeggGraph:Now parsing: path:hsa04614...\n",
      "INFO:KeggGraph:Graph path:hsa04614 parsed successfully!\n",
      "INFO:KeggGraph:Now parsing: path:hsa04620...\n",
      "INFO:KeggGraph:Graph path:hsa04620 parsed successfully!\n",
      "INFO:KeggGraph:Now parsing: path:hsa04621...\n",
      "INFO:KeggGraph:Graph path:hsa04621 parsed successfully!\n",
      "INFO:KeggGraph:Now parsing: path:hsa04622...\n",
      "INFO:KeggGraph:Graph path:hsa04622 parsed successfully!\n",
      "INFO:KeggGraph:Now parsing: path:hsa04623...\n",
      "INFO:KeggGraph:Graph path:hsa04623 parsed successfully!\n",
      "INFO:KeggGraph:Now parsing: path:hsa04625...\n",
      "INFO:KeggGraph:Graph path:hsa04625 parsed successfully!\n",
      "INFO:KeggGraph:Now parsing: path:hsa04630...\n",
      "INFO:KeggGraph:Graph path:hsa04630 parsed successfully!\n",
      "INFO:KeggGraph:Now parsing: path:hsa04640...\n",
      "WARNING:root:ERROR: File \"../data/kgml_hsa/hsa04640.xml\" cannot be parsed.\n",
      "\n",
      "            Visit https://www.kegg.jp/kegg-bin/show_pathway?hsa04640 for pathway details.\n",
      "\n",
      "            There are likely no edges in which to parse...\n",
      "INFO:KeggGraph:Now parsing: path:hsa04650...\n",
      "INFO:KeggGraph:Graph path:hsa04650 parsed successfully!\n",
      "INFO:KeggGraph:Now parsing: path:hsa04657...\n",
      "INFO:KeggGraph:Graph path:hsa04657 parsed successfully!\n",
      "INFO:KeggGraph:Now parsing: path:hsa04658...\n",
      "INFO:KeggGraph:Graph path:hsa04658 parsed successfully!\n",
      "INFO:KeggGraph:Now parsing: path:hsa04659...\n",
      "INFO:KeggGraph:Graph path:hsa04659 parsed successfully!\n",
      "INFO:KeggGraph:Now parsing: path:hsa04660...\n",
      "INFO:KeggGraph:Graph path:hsa04660 parsed successfully!\n",
      "INFO:KeggGraph:Now parsing: path:hsa04662...\n",
      "INFO:KeggGraph:Graph path:hsa04662 parsed successfully!\n",
      "INFO:KeggGraph:Now parsing: path:hsa04664...\n",
      "INFO:KeggGraph:Graph path:hsa04664 parsed successfully!\n",
      "INFO:KeggGraph:Now parsing: path:hsa04666...\n",
      "INFO:KeggGraph:Graph path:hsa04666 parsed successfully!\n",
      "INFO:KeggGraph:Now parsing: path:hsa04668...\n",
      "INFO:KeggGraph:Graph path:hsa04668 parsed successfully!\n",
      "INFO:KeggGraph:Now parsing: path:hsa04670...\n",
      "INFO:KeggGraph:Graph path:hsa04670 parsed successfully!\n",
      "INFO:KeggGraph:Now parsing: path:hsa04672...\n",
      "INFO:KeggGraph:Graph path:hsa04672 parsed successfully!\n",
      "INFO:KeggGraph:Now parsing: path:hsa04710...\n",
      "INFO:KeggGraph:Graph path:hsa04710 parsed successfully!\n",
      "INFO:KeggGraph:Now parsing: path:hsa04713...\n",
      "INFO:KeggGraph:Graph path:hsa04713 parsed successfully!\n",
      "INFO:KeggGraph:Now parsing: path:hsa04714...\n",
      "INFO:KeggGraph:Graph path:hsa04714 parsed successfully!\n",
      "INFO:KeggGraph:Now parsing: path:hsa04720...\n",
      "INFO:KeggGraph:Graph path:hsa04720 parsed successfully!\n",
      "INFO:KeggGraph:Now parsing: path:hsa04721...\n",
      "INFO:KeggGraph:Graph path:hsa04721 parsed successfully!\n",
      "INFO:KeggGraph:Now parsing: path:hsa04722...\n",
      "INFO:KeggGraph:Graph path:hsa04722 parsed successfully!\n",
      "INFO:KeggGraph:Now parsing: path:hsa04723...\n",
      "INFO:KeggGraph:Graph path:hsa04723 parsed successfully!\n",
      "INFO:KeggGraph:Now parsing: path:hsa04724...\n",
      "INFO:KeggGraph:Graph path:hsa04724 parsed successfully!\n",
      "INFO:KeggGraph:Now parsing: path:hsa04725...\n",
      "INFO:KeggGraph:Graph path:hsa04725 parsed successfully!\n",
      "INFO:KeggGraph:Now parsing: path:hsa04726...\n",
      "INFO:KeggGraph:Graph path:hsa04726 parsed successfully!\n",
      "INFO:KeggGraph:Now parsing: path:hsa04727...\n",
      "INFO:KeggGraph:Graph path:hsa04727 parsed successfully!\n",
      "INFO:KeggGraph:Now parsing: path:hsa04728...\n",
      "INFO:KeggGraph:Graph path:hsa04728 parsed successfully!\n",
      "INFO:KeggGraph:Now parsing: path:hsa04730...\n",
      "INFO:KeggGraph:Graph path:hsa04730 parsed successfully!\n",
      "INFO:KeggGraph:Now parsing: path:hsa04740...\n",
      "INFO:KeggGraph:Graph path:hsa04740 parsed successfully!\n",
      "INFO:KeggGraph:Now parsing: path:hsa04742...\n",
      "INFO:KeggGraph:Graph path:hsa04742 parsed successfully!\n",
      "INFO:KeggGraph:Now parsing: path:hsa04744...\n",
      "INFO:KeggGraph:Graph path:hsa04744 parsed successfully!\n",
      "INFO:KeggGraph:Now parsing: path:hsa04750...\n",
      "INFO:KeggGraph:Graph path:hsa04750 parsed successfully!\n",
      "INFO:KeggGraph:Now parsing: path:hsa04810...\n",
      "INFO:KeggGraph:Graph path:hsa04810 parsed successfully!\n",
      "INFO:KeggGraph:Now parsing: path:hsa04814...\n",
      "WARNING:root:ERROR: File \"../data/kgml_hsa/hsa04814.xml\" cannot be parsed.\n",
      "\n",
      "            Visit https://www.kegg.jp/kegg-bin/show_pathway?hsa04814 for pathway details.\n",
      "\n",
      "            There are likely no edges in which to parse...\n",
      "INFO:KeggGraph:Now parsing: path:hsa04820...\n",
      "WARNING:root:ERROR: File \"../data/kgml_hsa/hsa04820.xml\" cannot be parsed.\n",
      "\n",
      "            Visit https://www.kegg.jp/kegg-bin/show_pathway?hsa04820 for pathway details.\n",
      "\n",
      "            There are likely no edges in which to parse...\n",
      "INFO:KeggGraph:Now parsing: path:hsa04910...\n",
      "INFO:KeggGraph:Graph path:hsa04910 parsed successfully!\n",
      "INFO:KeggGraph:Now parsing: path:hsa04911...\n",
      "INFO:KeggGraph:Graph path:hsa04911 parsed successfully!\n",
      "INFO:KeggGraph:Now parsing: path:hsa04912...\n",
      "INFO:KeggGraph:Graph path:hsa04912 parsed successfully!\n",
      "INFO:KeggGraph:Now parsing: path:hsa04913...\n",
      "INFO:KeggGraph:Graph path:hsa04913 parsed successfully!\n",
      "INFO:KeggGraph:Now parsing: path:hsa04914...\n",
      "INFO:KeggGraph:Graph path:hsa04914 parsed successfully!\n",
      "INFO:KeggGraph:Now parsing: path:hsa04915...\n",
      "INFO:KeggGraph:Graph path:hsa04915 parsed successfully!\n",
      "INFO:KeggGraph:Now parsing: path:hsa04916...\n",
      "INFO:KeggGraph:Graph path:hsa04916 parsed successfully!\n",
      "INFO:KeggGraph:Now parsing: path:hsa04917...\n",
      "INFO:KeggGraph:Graph path:hsa04917 parsed successfully!\n",
      "INFO:KeggGraph:Now parsing: path:hsa04918...\n",
      "INFO:KeggGraph:Graph path:hsa04918 parsed successfully!\n",
      "INFO:KeggGraph:Now parsing: path:hsa04919...\n",
      "INFO:KeggGraph:Graph path:hsa04919 parsed successfully!\n",
      "INFO:KeggGraph:Now parsing: path:hsa04920...\n",
      "INFO:KeggGraph:Graph path:hsa04920 parsed successfully!\n",
      "INFO:KeggGraph:Now parsing: path:hsa04921...\n",
      "INFO:KeggGraph:Graph path:hsa04921 parsed successfully!\n",
      "INFO:KeggGraph:Now parsing: path:hsa04922...\n",
      "INFO:KeggGraph:Graph path:hsa04922 parsed successfully!\n",
      "INFO:KeggGraph:Now parsing: path:hsa04923...\n",
      "INFO:KeggGraph:Graph path:hsa04923 parsed successfully!\n",
      "INFO:KeggGraph:Now parsing: path:hsa04924...\n",
      "INFO:KeggGraph:Graph path:hsa04924 parsed successfully!\n",
      "INFO:KeggGraph:Now parsing: path:hsa04925...\n",
      "INFO:KeggGraph:Graph path:hsa04925 parsed successfully!\n",
      "INFO:KeggGraph:Now parsing: path:hsa04926...\n",
      "INFO:KeggGraph:Graph path:hsa04926 parsed successfully!\n",
      "INFO:KeggGraph:Now parsing: path:hsa04927...\n",
      "INFO:KeggGraph:Graph path:hsa04927 parsed successfully!\n",
      "INFO:KeggGraph:Now parsing: path:hsa04928...\n",
      "INFO:KeggGraph:Graph path:hsa04928 parsed successfully!\n",
      "INFO:KeggGraph:Now parsing: path:hsa04929...\n",
      "WARNING:root:ERROR: File \"../data/kgml_hsa/hsa04929.xml\" cannot be parsed.\n",
      "\n",
      "            Visit https://www.kegg.jp/kegg-bin/show_pathway?hsa04929 for pathway details.\n",
      "\n",
      "            There are likely no edges in which to parse...\n",
      "INFO:KeggGraph:Now parsing: path:hsa04930...\n",
      "INFO:KeggGraph:Graph path:hsa04930 parsed successfully!\n",
      "INFO:KeggGraph:Now parsing: path:hsa04931...\n",
      "INFO:KeggGraph:Graph path:hsa04931 parsed successfully!\n",
      "INFO:KeggGraph:Now parsing: path:hsa04932...\n",
      "INFO:KeggGraph:Graph path:hsa04932 parsed successfully!\n",
      "INFO:KeggGraph:Now parsing: path:hsa04933...\n",
      "INFO:KeggGraph:Graph path:hsa04933 parsed successfully!\n",
      "INFO:KeggGraph:Now parsing: path:hsa04934...\n",
      "INFO:KeggGraph:Graph path:hsa04934 parsed successfully!\n",
      "INFO:KeggGraph:Now parsing: path:hsa04935...\n",
      "INFO:KeggGraph:Graph path:hsa04935 parsed successfully!\n",
      "INFO:KeggGraph:Now parsing: path:hsa04936...\n",
      "INFO:KeggGraph:Graph path:hsa04936 parsed successfully!\n",
      "INFO:KeggGraph:Now parsing: path:hsa04940...\n",
      "INFO:KeggGraph:Graph path:hsa04940 parsed successfully!\n",
      "INFO:KeggGraph:Now parsing: path:hsa04950...\n",
      "INFO:KeggGraph:Graph path:hsa04950 parsed successfully!\n",
      "INFO:KeggGraph:Now parsing: path:hsa04960...\n",
      "INFO:KeggGraph:Graph path:hsa04960 parsed successfully!\n",
      "INFO:KeggGraph:Now parsing: path:hsa04961...\n",
      "INFO:KeggGraph:Graph path:hsa04961 parsed successfully!\n",
      "INFO:KeggGraph:Now parsing: path:hsa04962...\n",
      "INFO:KeggGraph:Graph path:hsa04962 parsed successfully!\n",
      "INFO:KeggGraph:Now parsing: path:hsa04964...\n",
      "WARNING:root:ERROR: File \"../data/kgml_hsa/hsa04964.xml\" cannot be parsed.\n",
      "\n",
      "            Visit https://www.kegg.jp/kegg-bin/show_pathway?hsa04964 for pathway details.\n",
      "\n",
      "            There are likely no edges in which to parse...\n",
      "INFO:KeggGraph:Now parsing: path:hsa04966...\n",
      "INFO:KeggGraph:Graph path:hsa04966 parsed successfully!\n",
      "INFO:KeggGraph:Now parsing: path:hsa04970...\n",
      "INFO:KeggGraph:Graph path:hsa04970 parsed successfully!\n",
      "INFO:KeggGraph:Now parsing: path:hsa04971...\n",
      "INFO:KeggGraph:Graph path:hsa04971 parsed successfully!\n",
      "INFO:KeggGraph:Now parsing: path:hsa04972...\n",
      "INFO:KeggGraph:Graph path:hsa04972 parsed successfully!\n",
      "INFO:KeggGraph:Now parsing: path:hsa04973...\n",
      "INFO:KeggGraph:Graph path:hsa04973 parsed successfully!\n",
      "INFO:KeggGraph:Now parsing: path:hsa04974...\n",
      "INFO:KeggGraph:Graph path:hsa04974 parsed successfully!\n",
      "INFO:KeggGraph:Now parsing: path:hsa04975...\n",
      "INFO:KeggGraph:Graph path:hsa04975 parsed successfully!\n",
      "INFO:KeggGraph:Now parsing: path:hsa04976...\n",
      "INFO:KeggGraph:Graph path:hsa04976 parsed successfully!\n",
      "INFO:KeggGraph:Now parsing: path:hsa04977...\n",
      "INFO:KeggGraph:Graph path:hsa04977 parsed successfully!\n",
      "INFO:KeggGraph:Now parsing: path:hsa04978...\n",
      "INFO:KeggGraph:Graph path:hsa04978 parsed successfully!\n",
      "INFO:KeggGraph:Now parsing: path:hsa04979...\n",
      "INFO:KeggGraph:Graph path:hsa04979 parsed successfully!\n",
      "INFO:KeggGraph:Now parsing: path:hsa04980...\n",
      "INFO:KeggGraph:Graph path:hsa04980 parsed successfully!\n",
      "INFO:KeggGraph:Now parsing: path:hsa05010...\n",
      "INFO:KeggGraph:Graph path:hsa05010 parsed successfully!\n",
      "INFO:KeggGraph:Now parsing: path:hsa05012...\n",
      "INFO:KeggGraph:Graph path:hsa05012 parsed successfully!\n",
      "INFO:KeggGraph:Now parsing: path:hsa05014...\n",
      "INFO:KeggGraph:Graph path:hsa05014 parsed successfully!\n",
      "INFO:KeggGraph:Now parsing: path:hsa05016...\n",
      "INFO:KeggGraph:Graph path:hsa05016 parsed successfully!\n",
      "INFO:KeggGraph:Now parsing: path:hsa05017...\n",
      "INFO:KeggGraph:Graph path:hsa05017 parsed successfully!\n",
      "INFO:KeggGraph:Now parsing: path:hsa05020...\n",
      "INFO:KeggGraph:Graph path:hsa05020 parsed successfully!\n",
      "INFO:KeggGraph:Now parsing: path:hsa05022...\n",
      "INFO:KeggGraph:Graph path:hsa05022 parsed successfully!\n",
      "INFO:KeggGraph:Now parsing: path:hsa05030...\n",
      "INFO:KeggGraph:Graph path:hsa05030 parsed successfully!\n",
      "INFO:KeggGraph:Now parsing: path:hsa05031...\n",
      "INFO:KeggGraph:Graph path:hsa05031 parsed successfully!\n",
      "INFO:KeggGraph:Now parsing: path:hsa05032...\n",
      "INFO:KeggGraph:Graph path:hsa05032 parsed successfully!\n",
      "INFO:KeggGraph:Now parsing: path:hsa05033...\n",
      "INFO:KeggGraph:Graph path:hsa05033 parsed successfully!\n",
      "INFO:KeggGraph:Now parsing: path:hsa05034...\n",
      "INFO:KeggGraph:Graph path:hsa05034 parsed successfully!\n",
      "INFO:KeggGraph:Now parsing: path:hsa05100...\n",
      "INFO:KeggGraph:Graph path:hsa05100 parsed successfully!\n",
      "INFO:KeggGraph:Now parsing: path:hsa05110...\n",
      "INFO:KeggGraph:Graph path:hsa05110 parsed successfully!\n",
      "INFO:KeggGraph:Now parsing: path:hsa05120...\n",
      "INFO:KeggGraph:Graph path:hsa05120 parsed successfully!\n",
      "INFO:KeggGraph:Now parsing: path:hsa05130...\n",
      "INFO:KeggGraph:Graph path:hsa05130 parsed successfully!\n",
      "INFO:KeggGraph:Now parsing: path:hsa05131...\n",
      "INFO:KeggGraph:Graph path:hsa05131 parsed successfully!\n",
      "INFO:KeggGraph:Now parsing: path:hsa05132...\n",
      "INFO:KeggGraph:Graph path:hsa05132 parsed successfully!\n",
      "INFO:KeggGraph:Now parsing: path:hsa05133...\n",
      "INFO:KeggGraph:Graph path:hsa05133 parsed successfully!\n",
      "INFO:KeggGraph:Now parsing: path:hsa05134...\n",
      "INFO:KeggGraph:Graph path:hsa05134 parsed successfully!\n",
      "INFO:KeggGraph:Now parsing: path:hsa05135...\n",
      "INFO:KeggGraph:Graph path:hsa05135 parsed successfully!\n",
      "INFO:KeggGraph:Now parsing: path:hsa05140...\n",
      "INFO:KeggGraph:Graph path:hsa05140 parsed successfully!\n",
      "INFO:KeggGraph:Now parsing: path:hsa05142...\n",
      "INFO:KeggGraph:Graph path:hsa05142 parsed successfully!\n",
      "INFO:KeggGraph:Now parsing: path:hsa05143...\n",
      "INFO:KeggGraph:Graph path:hsa05143 parsed successfully!\n",
      "INFO:KeggGraph:Now parsing: path:hsa05144...\n",
      "INFO:KeggGraph:Graph path:hsa05144 parsed successfully!\n",
      "INFO:KeggGraph:Now parsing: path:hsa05145...\n",
      "INFO:KeggGraph:Graph path:hsa05145 parsed successfully!\n",
      "INFO:KeggGraph:Now parsing: path:hsa05146...\n",
      "INFO:KeggGraph:Graph path:hsa05146 parsed successfully!\n",
      "INFO:KeggGraph:Now parsing: path:hsa05150...\n",
      "INFO:KeggGraph:Graph path:hsa05150 parsed successfully!\n",
      "INFO:KeggGraph:Now parsing: path:hsa05152...\n",
      "INFO:KeggGraph:Graph path:hsa05152 parsed successfully!\n",
      "INFO:KeggGraph:Now parsing: path:hsa05160...\n",
      "INFO:KeggGraph:Graph path:hsa05160 parsed successfully!\n",
      "INFO:KeggGraph:Now parsing: path:hsa05161...\n",
      "INFO:KeggGraph:Graph path:hsa05161 parsed successfully!\n",
      "INFO:KeggGraph:Now parsing: path:hsa05162...\n",
      "INFO:KeggGraph:Graph path:hsa05162 parsed successfully!\n",
      "INFO:KeggGraph:Now parsing: path:hsa05163...\n",
      "INFO:KeggGraph:Graph path:hsa05163 parsed successfully!\n",
      "INFO:KeggGraph:Now parsing: path:hsa05164...\n",
      "INFO:KeggGraph:Graph path:hsa05164 parsed successfully!\n",
      "INFO:KeggGraph:Now parsing: path:hsa05165...\n",
      "INFO:KeggGraph:Graph path:hsa05165 parsed successfully!\n",
      "INFO:KeggGraph:Now parsing: path:hsa05166...\n",
      "INFO:KeggGraph:Graph path:hsa05166 parsed successfully!\n",
      "INFO:KeggGraph:Now parsing: path:hsa05167...\n",
      "INFO:KeggGraph:Graph path:hsa05167 parsed successfully!\n",
      "INFO:KeggGraph:Now parsing: path:hsa05168...\n",
      "INFO:KeggGraph:Graph path:hsa05168 parsed successfully!\n",
      "INFO:KeggGraph:Now parsing: path:hsa05169...\n",
      "INFO:KeggGraph:Graph path:hsa05169 parsed successfully!\n",
      "INFO:KeggGraph:Now parsing: path:hsa05170...\n",
      "INFO:KeggGraph:Graph path:hsa05170 parsed successfully!\n",
      "INFO:KeggGraph:Now parsing: path:hsa05171...\n",
      "INFO:KeggGraph:Graph path:hsa05171 parsed successfully!\n",
      "INFO:KeggGraph:Now parsing: path:hsa05200...\n",
      "INFO:KeggGraph:Graph path:hsa05200 parsed successfully!\n",
      "INFO:KeggGraph:Now parsing: path:hsa05202...\n",
      "INFO:KeggGraph:Graph path:hsa05202 parsed successfully!\n",
      "INFO:KeggGraph:Now parsing: path:hsa05203...\n",
      "INFO:KeggGraph:Graph path:hsa05203 parsed successfully!\n",
      "INFO:KeggGraph:Now parsing: path:hsa05204...\n",
      "WARNING:root:ERROR: File \"../data/kgml_hsa/hsa05204.xml\" cannot be parsed.\n",
      "\n",
      "            Visit https://www.kegg.jp/kegg-bin/show_pathway?hsa05204 for pathway details.\n",
      "\n",
      "            There are likely no edges in which to parse...\n",
      "INFO:KeggGraph:Now parsing: path:hsa05205...\n",
      "INFO:KeggGraph:Graph path:hsa05205 parsed successfully!\n",
      "INFO:KeggGraph:Now parsing: path:hsa05206...\n",
      "INFO:KeggGraph:Graph path:hsa05206 parsed successfully!\n",
      "INFO:KeggGraph:Now parsing: path:hsa05207...\n",
      "INFO:KeggGraph:Graph path:hsa05207 parsed successfully!\n",
      "INFO:KeggGraph:Now parsing: path:hsa05208...\n",
      "INFO:KeggGraph:Graph path:hsa05208 parsed successfully!\n",
      "INFO:KeggGraph:Now parsing: path:hsa05210...\n",
      "INFO:KeggGraph:Graph path:hsa05210 parsed successfully!\n",
      "INFO:KeggGraph:Now parsing: path:hsa05211...\n",
      "INFO:KeggGraph:Graph path:hsa05211 parsed successfully!\n",
      "INFO:KeggGraph:Now parsing: path:hsa05212...\n",
      "INFO:KeggGraph:Graph path:hsa05212 parsed successfully!\n",
      "INFO:KeggGraph:Now parsing: path:hsa05213...\n",
      "INFO:KeggGraph:Graph path:hsa05213 parsed successfully!\n",
      "INFO:KeggGraph:Now parsing: path:hsa05214...\n",
      "INFO:KeggGraph:Graph path:hsa05214 parsed successfully!\n",
      "INFO:KeggGraph:Now parsing: path:hsa05215...\n",
      "INFO:KeggGraph:Graph path:hsa05215 parsed successfully!\n",
      "INFO:KeggGraph:Now parsing: path:hsa05216...\n",
      "INFO:KeggGraph:Graph path:hsa05216 parsed successfully!\n",
      "INFO:KeggGraph:Now parsing: path:hsa05217...\n",
      "INFO:KeggGraph:Graph path:hsa05217 parsed successfully!\n",
      "INFO:KeggGraph:Now parsing: path:hsa05218...\n",
      "INFO:KeggGraph:Graph path:hsa05218 parsed successfully!\n",
      "INFO:KeggGraph:Now parsing: path:hsa05219...\n",
      "INFO:KeggGraph:Graph path:hsa05219 parsed successfully!\n",
      "INFO:KeggGraph:Now parsing: path:hsa05220...\n",
      "INFO:KeggGraph:Graph path:hsa05220 parsed successfully!\n",
      "INFO:KeggGraph:Now parsing: path:hsa05221...\n",
      "INFO:KeggGraph:Graph path:hsa05221 parsed successfully!\n",
      "INFO:KeggGraph:Now parsing: path:hsa05222...\n",
      "INFO:KeggGraph:Graph path:hsa05222 parsed successfully!\n",
      "INFO:KeggGraph:Now parsing: path:hsa05223...\n",
      "INFO:KeggGraph:Graph path:hsa05223 parsed successfully!\n",
      "INFO:KeggGraph:Now parsing: path:hsa05224...\n",
      "INFO:KeggGraph:Graph path:hsa05224 parsed successfully!\n",
      "INFO:KeggGraph:Now parsing: path:hsa05225...\n",
      "INFO:KeggGraph:Graph path:hsa05225 parsed successfully!\n",
      "INFO:KeggGraph:Now parsing: path:hsa05226...\n",
      "INFO:KeggGraph:Graph path:hsa05226 parsed successfully!\n",
      "INFO:KeggGraph:Now parsing: path:hsa05230...\n",
      "INFO:KeggGraph:Graph path:hsa05230 parsed successfully!\n",
      "INFO:KeggGraph:Now parsing: path:hsa05231...\n",
      "INFO:KeggGraph:Graph path:hsa05231 parsed successfully!\n",
      "INFO:KeggGraph:Now parsing: path:hsa05235...\n",
      "INFO:KeggGraph:Graph path:hsa05235 parsed successfully!\n",
      "INFO:KeggGraph:Now parsing: path:hsa05310...\n",
      "INFO:KeggGraph:Graph path:hsa05310 parsed successfully!\n",
      "INFO:KeggGraph:Now parsing: path:hsa05320...\n",
      "INFO:KeggGraph:Graph path:hsa05320 parsed successfully!\n",
      "INFO:KeggGraph:Now parsing: path:hsa05321...\n",
      "INFO:KeggGraph:Graph path:hsa05321 parsed successfully!\n",
      "INFO:KeggGraph:Now parsing: path:hsa05322...\n",
      "INFO:KeggGraph:Graph path:hsa05322 parsed successfully!\n",
      "INFO:KeggGraph:Now parsing: path:hsa05323...\n",
      "INFO:KeggGraph:Graph path:hsa05323 parsed successfully!\n",
      "INFO:KeggGraph:Now parsing: path:hsa05330...\n",
      "INFO:KeggGraph:Graph path:hsa05330 parsed successfully!\n",
      "INFO:KeggGraph:Now parsing: path:hsa05332...\n",
      "INFO:KeggGraph:Graph path:hsa05332 parsed successfully!\n",
      "INFO:KeggGraph:Now parsing: path:hsa05340...\n",
      "WARNING:root:ERROR: File \"../data/kgml_hsa/hsa05340.xml\" cannot be parsed.\n",
      "\n",
      "            Visit https://www.kegg.jp/kegg-bin/show_pathway?hsa05340 for pathway details.\n",
      "\n",
      "            There are likely no edges in which to parse...\n",
      "INFO:KeggGraph:Now parsing: path:hsa05410...\n",
      "INFO:KeggGraph:Graph path:hsa05410 parsed successfully!\n",
      "INFO:KeggGraph:Now parsing: path:hsa05412...\n",
      "INFO:KeggGraph:Graph path:hsa05412 parsed successfully!\n",
      "INFO:KeggGraph:Now parsing: path:hsa05414...\n",
      "INFO:KeggGraph:Graph path:hsa05414 parsed successfully!\n",
      "INFO:KeggGraph:Now parsing: path:hsa05415...\n",
      "INFO:KeggGraph:Graph path:hsa05415 parsed successfully!\n",
      "INFO:KeggGraph:Now parsing: path:hsa05416...\n",
      "INFO:KeggGraph:Graph path:hsa05416 parsed successfully!\n",
      "INFO:KeggGraph:Now parsing: path:hsa05417...\n",
      "INFO:KeggGraph:Graph path:hsa05417 parsed successfully!\n",
      "INFO:KeggGraph:Now parsing: path:hsa05418...\n",
      "INFO:KeggGraph:Graph path:hsa05418 parsed successfully!\n"
     ]
    }
   ],
   "source": [
    "gene_graphs = kamping.create_graphs('../data/kgml_hsa', type='mixed', verbose=True, ignore_file=['hsa01100.xml'])"
   ],
   "metadata": {
    "collapsed": false,
    "ExecuteTime": {
     "end_time": "2024-12-16T17:12:08.601078Z",
     "start_time": "2024-12-16T17:12:01.415611Z"
    }
   },
   "id": "583eb4b13c81dee6",
   "execution_count": 2
  },
  {
   "cell_type": "code",
   "outputs": [
    {
     "data": {
      "text/plain": "KEGG Pathway: \n            [Title]: Glycolysis / Gluconeogenesis\n            [Name]: path:hsa00010\n            [Org]: hsa\n            [Link]: https://www.kegg.jp/kegg-bin/show_pathway?hsa00010\n            [Image]: https://www.kegg.jp/kegg/pathway/hsa/hsa00010.png\n            [Link]: https://www.kegg.jp/kegg-bin/show_pathway?hsa00010\n            Graph type: mixed \n            Number of Genes: 67\n            Number of Compounds: 26\n            Gene ID type : kegg\n            Compound ID type : kegg\n            Number of Nodes: 93\n            Number of Edges: 279"
     },
     "execution_count": 3,
     "metadata": {},
     "output_type": "execute_result"
    }
   ],
   "source": [
    "gene_graph_00010 = [graph for graph in gene_graphs if graph.name == 'path:hsa00010'][0]\n",
    "gene_graph_00010"
   ],
   "metadata": {
    "collapsed": false,
    "ExecuteTime": {
     "end_time": "2024-12-16T17:12:08.631618Z",
     "start_time": "2024-12-16T17:12:08.601802Z"
    }
   },
   "id": "1be288ad720d0949",
   "execution_count": 3
  },
  {
   "cell_type": "code",
   "outputs": [],
   "source": [
    "converter = kamping.Converter('hsa', gene_target='uniprot', verbose=True)"
   ],
   "metadata": {
    "collapsed": false,
    "ExecuteTime": {
     "end_time": "2024-12-16T17:12:11.313975Z",
     "start_time": "2024-12-16T17:12:08.632863Z"
    }
   },
   "id": "e67994a8e2796503",
   "execution_count": 4
  },
  {
   "cell_type": "code",
   "outputs": [
    {
     "name": "stderr",
     "output_type": "stream",
     "text": [
      "INFO:kamping.parser.convert:Conversion of path:hsa00010 complete!\n",
      "INFO:kamping.parser.convert:Conversion of path:hsa00020 complete!\n",
      "INFO:kamping.parser.convert:Conversion of path:hsa00030 complete!\n",
      "INFO:kamping.parser.convert:Conversion of path:hsa00040 complete!\n",
      "INFO:kamping.parser.convert:Conversion of path:hsa00051 complete!\n",
      "INFO:kamping.parser.convert:Conversion of path:hsa00052 complete!\n",
      "INFO:kamping.parser.convert:Conversion of path:hsa00053 complete!\n",
      "INFO:kamping.parser.convert:Conversion of path:hsa00061 complete!\n",
      "INFO:kamping.parser.convert:Conversion of path:hsa00062 complete!\n",
      "INFO:kamping.parser.convert:Conversion of path:hsa00071 complete!\n",
      "INFO:kamping.parser.convert:Conversion of path:hsa00100 complete!\n",
      "INFO:kamping.parser.convert:Conversion of path:hsa00120 complete!\n",
      "INFO:kamping.parser.convert:Conversion of path:hsa00130 complete!\n",
      "INFO:kamping.parser.convert:Conversion of path:hsa00140 complete!\n",
      "INFO:kamping.parser.convert:Conversion of path:hsa00220 complete!\n",
      "INFO:kamping.parser.convert:Conversion of path:hsa00230 complete!\n",
      "INFO:kamping.parser.convert:Conversion of path:hsa00232 complete!\n",
      "INFO:kamping.parser.convert:Conversion of path:hsa00240 complete!\n",
      "INFO:kamping.parser.convert:Conversion of path:hsa00250 complete!\n",
      "INFO:kamping.parser.convert:Conversion of path:hsa00260 complete!\n",
      "INFO:kamping.parser.convert:Conversion of path:hsa00270 complete!\n",
      "INFO:kamping.parser.convert:Conversion of path:hsa00280 complete!\n",
      "INFO:kamping.parser.convert:Conversion of path:hsa00290 complete!\n",
      "INFO:kamping.parser.convert:Conversion of path:hsa00310 complete!\n",
      "INFO:kamping.parser.convert:Conversion of path:hsa00330 complete!\n",
      "INFO:kamping.parser.convert:Conversion of path:hsa00340 complete!\n",
      "INFO:kamping.parser.convert:Conversion of path:hsa00350 complete!\n",
      "INFO:kamping.parser.convert:Conversion of path:hsa00360 complete!\n",
      "INFO:kamping.parser.convert:Conversion of path:hsa00380 complete!\n",
      "INFO:kamping.parser.convert:Conversion of path:hsa00400 complete!\n",
      "INFO:kamping.parser.convert:Conversion of path:hsa00410 complete!\n",
      "INFO:kamping.parser.convert:Conversion of path:hsa00430 complete!\n",
      "INFO:kamping.parser.convert:Conversion of path:hsa00440 complete!\n",
      "INFO:kamping.parser.convert:Conversion of path:hsa00450 complete!\n",
      "INFO:kamping.parser.convert:Conversion of path:hsa00470 complete!\n",
      "INFO:kamping.parser.convert:Conversion of path:hsa00480 complete!\n",
      "INFO:kamping.parser.convert:Conversion of path:hsa00500 complete!\n",
      "INFO:kamping.parser.convert:Conversion of path:hsa00510 complete!\n",
      "INFO:kamping.parser.convert:Conversion of path:hsa00512 complete!\n",
      "INFO:kamping.parser.convert:Conversion of path:hsa00513 complete!\n",
      "INFO:kamping.parser.convert:Conversion of path:hsa00515 complete!\n",
      "INFO:kamping.parser.convert:Conversion of path:hsa00520 complete!\n",
      "INFO:kamping.parser.convert:Conversion of path:hsa00524 complete!\n",
      "INFO:kamping.parser.convert:Conversion of path:hsa00531 complete!\n",
      "INFO:kamping.parser.convert:Conversion of path:hsa00532 complete!\n",
      "INFO:kamping.parser.convert:Conversion of path:hsa00534 complete!\n",
      "INFO:kamping.parser.convert:Conversion of path:hsa00561 complete!\n",
      "INFO:kamping.parser.convert:Conversion of path:hsa00562 complete!\n",
      "INFO:kamping.parser.convert:Conversion of path:hsa00563 complete!\n",
      "INFO:kamping.parser.convert:Conversion of path:hsa00564 complete!\n",
      "INFO:kamping.parser.convert:Conversion of path:hsa00565 complete!\n",
      "INFO:kamping.parser.convert:Conversion of path:hsa00590 complete!\n",
      "INFO:kamping.parser.convert:Conversion of path:hsa00591 complete!\n",
      "INFO:kamping.parser.convert:Conversion of path:hsa00592 complete!\n",
      "INFO:kamping.parser.convert:Conversion of path:hsa00600 complete!\n",
      "INFO:kamping.parser.convert:Conversion of path:hsa00601 complete!\n",
      "INFO:kamping.parser.convert:Conversion of path:hsa00603 complete!\n",
      "INFO:kamping.parser.convert:Conversion of path:hsa00604 complete!\n",
      "INFO:kamping.parser.convert:Conversion of path:hsa00620 complete!\n",
      "INFO:kamping.parser.convert:Conversion of path:hsa00630 complete!\n",
      "INFO:kamping.parser.convert:Conversion of path:hsa00640 complete!\n",
      "INFO:kamping.parser.convert:Conversion of path:hsa00650 complete!\n",
      "INFO:kamping.parser.convert:Conversion of path:hsa00670 complete!\n",
      "INFO:kamping.parser.convert:Conversion of path:hsa00730 complete!\n",
      "INFO:kamping.parser.convert:Conversion of path:hsa00740 complete!\n",
      "INFO:kamping.parser.convert:Conversion of path:hsa00750 complete!\n",
      "INFO:kamping.parser.convert:Conversion of path:hsa00760 complete!\n",
      "INFO:kamping.parser.convert:Conversion of path:hsa00770 complete!\n",
      "INFO:kamping.parser.convert:Conversion of path:hsa00780 complete!\n",
      "INFO:kamping.parser.convert:Conversion of path:hsa00785 complete!\n",
      "INFO:kamping.parser.convert:Conversion of path:hsa00790 complete!\n",
      "INFO:kamping.parser.convert:Conversion of path:hsa00830 complete!\n",
      "INFO:kamping.parser.convert:Conversion of path:hsa00860 complete!\n",
      "INFO:kamping.parser.convert:Conversion of path:hsa00900 complete!\n",
      "INFO:kamping.parser.convert:Conversion of path:hsa00910 complete!\n",
      "INFO:kamping.parser.convert:Conversion of path:hsa00920 complete!\n",
      "INFO:kamping.parser.convert:Conversion of path:hsa00970 complete!\n",
      "INFO:kamping.parser.convert:Conversion of path:hsa00980 complete!\n",
      "INFO:kamping.parser.convert:Conversion of path:hsa00982 complete!\n",
      "INFO:kamping.parser.convert:Conversion of path:hsa00983 complete!\n",
      "INFO:kamping.parser.convert:Conversion of path:hsa01040 complete!\n",
      "INFO:kamping.parser.convert:Conversion of path:hsa01200 complete!\n",
      "INFO:kamping.parser.convert:Conversion of path:hsa01210 complete!\n",
      "INFO:kamping.parser.convert:Conversion of path:hsa01212 complete!\n",
      "INFO:kamping.parser.convert:Conversion of path:hsa01230 complete!\n",
      "INFO:kamping.parser.convert:Conversion of path:hsa01232 complete!\n",
      "INFO:kamping.parser.convert:Conversion of path:hsa01240 complete!\n",
      "INFO:kamping.parser.convert:Conversion of path:hsa01250 complete!\n",
      "INFO:kamping.parser.convert:Conversion of path:hsa01521 complete!\n",
      "INFO:kamping.parser.convert:Conversion of path:hsa01522 complete!\n",
      "INFO:kamping.parser.convert:Conversion of path:hsa01523 complete!\n",
      "INFO:kamping.parser.convert:Conversion of path:hsa01524 complete!\n",
      "INFO:kamping.parser.convert:Conversion of path:hsa03015 complete!\n",
      "INFO:kamping.parser.convert:Conversion of path:hsa03018 complete!\n",
      "INFO:kamping.parser.convert:Conversion of path:hsa03250 complete!\n",
      "INFO:kamping.parser.convert:Conversion of path:hsa03320 complete!\n",
      "INFO:kamping.parser.convert:Conversion of path:hsa03440 complete!\n",
      "INFO:kamping.parser.convert:Conversion of path:hsa03460 complete!\n",
      "INFO:kamping.parser.convert:Conversion of path:hsa04010 complete!\n",
      "INFO:kamping.parser.convert:Conversion of path:hsa04012 complete!\n",
      "INFO:kamping.parser.convert:Conversion of path:hsa04014 complete!\n",
      "INFO:kamping.parser.convert:Conversion of path:hsa04015 complete!\n",
      "INFO:kamping.parser.convert:Conversion of path:hsa04020 complete!\n",
      "INFO:kamping.parser.convert:Conversion of path:hsa04022 complete!\n",
      "INFO:kamping.parser.convert:Conversion of path:hsa04024 complete!\n",
      "INFO:kamping.parser.convert:Conversion of path:hsa04060 complete!\n",
      "INFO:kamping.parser.convert:Conversion of path:hsa04061 complete!\n",
      "INFO:kamping.parser.convert:Conversion of path:hsa04062 complete!\n",
      "INFO:kamping.parser.convert:Conversion of path:hsa04064 complete!\n",
      "INFO:kamping.parser.convert:Conversion of path:hsa04066 complete!\n",
      "INFO:kamping.parser.convert:Conversion of path:hsa04068 complete!\n",
      "INFO:kamping.parser.convert:Conversion of path:hsa04071 complete!\n",
      "INFO:kamping.parser.convert:Conversion of path:hsa04072 complete!\n",
      "INFO:kamping.parser.convert:Conversion of path:hsa04080 complete!\n",
      "INFO:kamping.parser.convert:Conversion of path:hsa04110 complete!\n",
      "INFO:kamping.parser.convert:Conversion of path:hsa04114 complete!\n",
      "INFO:kamping.parser.convert:Conversion of path:hsa04115 complete!\n",
      "INFO:kamping.parser.convert:Conversion of path:hsa04122 complete!\n",
      "INFO:kamping.parser.convert:Conversion of path:hsa04130 complete!\n",
      "INFO:kamping.parser.convert:Conversion of path:hsa04136 complete!\n",
      "INFO:kamping.parser.convert:Conversion of path:hsa04137 complete!\n",
      "INFO:kamping.parser.convert:Conversion of path:hsa04140 complete!\n",
      "INFO:kamping.parser.convert:Conversion of path:hsa04141 complete!\n",
      "INFO:kamping.parser.convert:Conversion of path:hsa04144 complete!\n",
      "INFO:kamping.parser.convert:Conversion of path:hsa04145 complete!\n",
      "INFO:kamping.parser.convert:Conversion of path:hsa04148 complete!\n",
      "INFO:kamping.parser.convert:Conversion of path:hsa04150 complete!\n",
      "INFO:kamping.parser.convert:Conversion of path:hsa04151 complete!\n",
      "INFO:kamping.parser.convert:Conversion of path:hsa04152 complete!\n",
      "INFO:kamping.parser.convert:Conversion of path:hsa04210 complete!\n",
      "INFO:kamping.parser.convert:Conversion of path:hsa04211 complete!\n",
      "INFO:kamping.parser.convert:Conversion of path:hsa04213 complete!\n",
      "INFO:kamping.parser.convert:Conversion of path:hsa04215 complete!\n",
      "INFO:kamping.parser.convert:Conversion of path:hsa04216 complete!\n",
      "INFO:kamping.parser.convert:Conversion of path:hsa04217 complete!\n",
      "INFO:kamping.parser.convert:Conversion of path:hsa04218 complete!\n",
      "INFO:kamping.parser.convert:Conversion of path:hsa04260 complete!\n",
      "INFO:kamping.parser.convert:Conversion of path:hsa04261 complete!\n",
      "INFO:kamping.parser.convert:Conversion of path:hsa04270 complete!\n",
      "INFO:kamping.parser.convert:Conversion of path:hsa04310 complete!\n",
      "INFO:kamping.parser.convert:Conversion of path:hsa04330 complete!\n",
      "INFO:kamping.parser.convert:Conversion of path:hsa04340 complete!\n",
      "INFO:kamping.parser.convert:Conversion of path:hsa04350 complete!\n",
      "INFO:kamping.parser.convert:Conversion of path:hsa04360 complete!\n",
      "INFO:kamping.parser.convert:Conversion of path:hsa04370 complete!\n",
      "INFO:kamping.parser.convert:Conversion of path:hsa04371 complete!\n",
      "INFO:kamping.parser.convert:Conversion of path:hsa04380 complete!\n",
      "INFO:kamping.parser.convert:Conversion of path:hsa04390 complete!\n",
      "INFO:kamping.parser.convert:Conversion of path:hsa04392 complete!\n",
      "INFO:kamping.parser.convert:Conversion of path:hsa04510 complete!\n",
      "INFO:kamping.parser.convert:Conversion of path:hsa04512 complete!\n",
      "INFO:kamping.parser.convert:Conversion of path:hsa04514 complete!\n",
      "INFO:kamping.parser.convert:Conversion of path:hsa04520 complete!\n",
      "INFO:kamping.parser.convert:Conversion of path:hsa04530 complete!\n",
      "INFO:kamping.parser.convert:Conversion of path:hsa04540 complete!\n",
      "INFO:kamping.parser.convert:Conversion of path:hsa04550 complete!\n",
      "INFO:kamping.parser.convert:Conversion of path:hsa04610 complete!\n",
      "INFO:kamping.parser.convert:Conversion of path:hsa04611 complete!\n",
      "INFO:kamping.parser.convert:Conversion of path:hsa04612 complete!\n",
      "INFO:kamping.parser.convert:Conversion of path:hsa04613 complete!\n",
      "INFO:kamping.parser.convert:Conversion of path:hsa04614 complete!\n",
      "INFO:kamping.parser.convert:Conversion of path:hsa04620 complete!\n",
      "INFO:kamping.parser.convert:Conversion of path:hsa04621 complete!\n",
      "INFO:kamping.parser.convert:Conversion of path:hsa04622 complete!\n",
      "INFO:kamping.parser.convert:Conversion of path:hsa04623 complete!\n",
      "INFO:kamping.parser.convert:Conversion of path:hsa04625 complete!\n",
      "INFO:kamping.parser.convert:Conversion of path:hsa04630 complete!\n",
      "INFO:kamping.parser.convert:Conversion of path:hsa04650 complete!\n",
      "INFO:kamping.parser.convert:Conversion of path:hsa04657 complete!\n",
      "INFO:kamping.parser.convert:Conversion of path:hsa04658 complete!\n",
      "INFO:kamping.parser.convert:Conversion of path:hsa04659 complete!\n",
      "INFO:kamping.parser.convert:Conversion of path:hsa04660 complete!\n",
      "INFO:kamping.parser.convert:Conversion of path:hsa04662 complete!\n",
      "INFO:kamping.parser.convert:Conversion of path:hsa04664 complete!\n",
      "INFO:kamping.parser.convert:Conversion of path:hsa04666 complete!\n",
      "INFO:kamping.parser.convert:Conversion of path:hsa04668 complete!\n",
      "INFO:kamping.parser.convert:Conversion of path:hsa04670 complete!\n",
      "INFO:kamping.parser.convert:Conversion of path:hsa04672 complete!\n",
      "INFO:kamping.parser.convert:Conversion of path:hsa04710 complete!\n",
      "INFO:kamping.parser.convert:Conversion of path:hsa04713 complete!\n",
      "INFO:kamping.parser.convert:Conversion of path:hsa04714 complete!\n",
      "INFO:kamping.parser.convert:Conversion of path:hsa04720 complete!\n",
      "INFO:kamping.parser.convert:Conversion of path:hsa04721 complete!\n",
      "INFO:kamping.parser.convert:Conversion of path:hsa04722 complete!\n",
      "INFO:kamping.parser.convert:Conversion of path:hsa04723 complete!\n",
      "INFO:kamping.parser.convert:Conversion of path:hsa04724 complete!\n",
      "INFO:kamping.parser.convert:Conversion of path:hsa04725 complete!\n",
      "INFO:kamping.parser.convert:Conversion of path:hsa04726 complete!\n",
      "INFO:kamping.parser.convert:Conversion of path:hsa04727 complete!\n",
      "INFO:kamping.parser.convert:Conversion of path:hsa04728 complete!\n",
      "INFO:kamping.parser.convert:Conversion of path:hsa04730 complete!\n",
      "INFO:kamping.parser.convert:Conversion of path:hsa04740 complete!\n",
      "INFO:kamping.parser.convert:Conversion of path:hsa04742 complete!\n",
      "INFO:kamping.parser.convert:Conversion of path:hsa04744 complete!\n",
      "INFO:kamping.parser.convert:Conversion of path:hsa04750 complete!\n",
      "INFO:kamping.parser.convert:Conversion of path:hsa04810 complete!\n",
      "INFO:kamping.parser.convert:Conversion of path:hsa04910 complete!\n",
      "INFO:kamping.parser.convert:Conversion of path:hsa04911 complete!\n",
      "INFO:kamping.parser.convert:Conversion of path:hsa04912 complete!\n",
      "INFO:kamping.parser.convert:Conversion of path:hsa04913 complete!\n",
      "INFO:kamping.parser.convert:Conversion of path:hsa04914 complete!\n",
      "INFO:kamping.parser.convert:Conversion of path:hsa04915 complete!\n",
      "INFO:kamping.parser.convert:Conversion of path:hsa04916 complete!\n",
      "INFO:kamping.parser.convert:Conversion of path:hsa04917 complete!\n",
      "INFO:kamping.parser.convert:Conversion of path:hsa04918 complete!\n",
      "INFO:kamping.parser.convert:Conversion of path:hsa04919 complete!\n",
      "INFO:kamping.parser.convert:Conversion of path:hsa04920 complete!\n",
      "INFO:kamping.parser.convert:Conversion of path:hsa04921 complete!\n",
      "INFO:kamping.parser.convert:Conversion of path:hsa04922 complete!\n",
      "INFO:kamping.parser.convert:Conversion of path:hsa04923 complete!\n",
      "INFO:kamping.parser.convert:Conversion of path:hsa04924 complete!\n",
      "INFO:kamping.parser.convert:Conversion of path:hsa04925 complete!\n",
      "INFO:kamping.parser.convert:Conversion of path:hsa04926 complete!\n",
      "INFO:kamping.parser.convert:Conversion of path:hsa04927 complete!\n",
      "INFO:kamping.parser.convert:Conversion of path:hsa04928 complete!\n",
      "INFO:kamping.parser.convert:Conversion of path:hsa04930 complete!\n",
      "INFO:kamping.parser.convert:Conversion of path:hsa04931 complete!\n",
      "INFO:kamping.parser.convert:Conversion of path:hsa04932 complete!\n",
      "INFO:kamping.parser.convert:Conversion of path:hsa04933 complete!\n",
      "INFO:kamping.parser.convert:Conversion of path:hsa04934 complete!\n",
      "INFO:kamping.parser.convert:Conversion of path:hsa04935 complete!\n",
      "INFO:kamping.parser.convert:Conversion of path:hsa04936 complete!\n",
      "INFO:kamping.parser.convert:Conversion of path:hsa04940 complete!\n",
      "INFO:kamping.parser.convert:Conversion of path:hsa04950 complete!\n",
      "INFO:kamping.parser.convert:Conversion of path:hsa04960 complete!\n",
      "INFO:kamping.parser.convert:Conversion of path:hsa04961 complete!\n",
      "INFO:kamping.parser.convert:Conversion of path:hsa04962 complete!\n",
      "INFO:kamping.parser.convert:Conversion of path:hsa04966 complete!\n",
      "INFO:kamping.parser.convert:Conversion of path:hsa04970 complete!\n",
      "INFO:kamping.parser.convert:Conversion of path:hsa04971 complete!\n",
      "INFO:kamping.parser.convert:Conversion of path:hsa04972 complete!\n",
      "INFO:kamping.parser.convert:Conversion of path:hsa04973 complete!\n",
      "INFO:kamping.parser.convert:Conversion of path:hsa04974 complete!\n",
      "INFO:kamping.parser.convert:Conversion of path:hsa04975 complete!\n",
      "INFO:kamping.parser.convert:Conversion of path:hsa04976 complete!\n",
      "INFO:kamping.parser.convert:Conversion of path:hsa04977 complete!\n",
      "INFO:kamping.parser.convert:Conversion of path:hsa04978 complete!\n",
      "INFO:kamping.parser.convert:Conversion of path:hsa04979 complete!\n",
      "INFO:kamping.parser.convert:Conversion of path:hsa04980 complete!\n",
      "INFO:kamping.parser.convert:Conversion of path:hsa05010 complete!\n",
      "INFO:kamping.parser.convert:Conversion of path:hsa05012 complete!\n",
      "INFO:kamping.parser.convert:Conversion of path:hsa05014 complete!\n",
      "INFO:kamping.parser.convert:Conversion of path:hsa05016 complete!\n",
      "INFO:kamping.parser.convert:Conversion of path:hsa05017 complete!\n",
      "INFO:kamping.parser.convert:Conversion of path:hsa05020 complete!\n",
      "INFO:kamping.parser.convert:Conversion of path:hsa05022 complete!\n",
      "INFO:kamping.parser.convert:Conversion of path:hsa05030 complete!\n",
      "INFO:kamping.parser.convert:Conversion of path:hsa05031 complete!\n",
      "INFO:kamping.parser.convert:Conversion of path:hsa05032 complete!\n",
      "INFO:kamping.parser.convert:Conversion of path:hsa05033 complete!\n",
      "INFO:kamping.parser.convert:Conversion of path:hsa05034 complete!\n",
      "INFO:kamping.parser.convert:Conversion of path:hsa05100 complete!\n",
      "INFO:kamping.parser.convert:Conversion of path:hsa05110 complete!\n",
      "INFO:kamping.parser.convert:Conversion of path:hsa05120 complete!\n",
      "INFO:kamping.parser.convert:Conversion of path:hsa05130 complete!\n",
      "INFO:kamping.parser.convert:Conversion of path:hsa05131 complete!\n",
      "INFO:kamping.parser.convert:Conversion of path:hsa05132 complete!\n",
      "INFO:kamping.parser.convert:Conversion of path:hsa05133 complete!\n",
      "INFO:kamping.parser.convert:Conversion of path:hsa05134 complete!\n",
      "INFO:kamping.parser.convert:Conversion of path:hsa05135 complete!\n",
      "INFO:kamping.parser.convert:Conversion of path:hsa05140 complete!\n",
      "INFO:kamping.parser.convert:Conversion of path:hsa05142 complete!\n",
      "INFO:kamping.parser.convert:Conversion of path:hsa05143 complete!\n",
      "INFO:kamping.parser.convert:Conversion of path:hsa05144 complete!\n",
      "INFO:kamping.parser.convert:Conversion of path:hsa05145 complete!\n",
      "INFO:kamping.parser.convert:Conversion of path:hsa05146 complete!\n",
      "INFO:kamping.parser.convert:Conversion of path:hsa05150 complete!\n",
      "INFO:kamping.parser.convert:Conversion of path:hsa05152 complete!\n",
      "INFO:kamping.parser.convert:Conversion of path:hsa05160 complete!\n",
      "INFO:kamping.parser.convert:Conversion of path:hsa05161 complete!\n",
      "INFO:kamping.parser.convert:Conversion of path:hsa05162 complete!\n",
      "INFO:kamping.parser.convert:Conversion of path:hsa05163 complete!\n",
      "INFO:kamping.parser.convert:Conversion of path:hsa05164 complete!\n",
      "INFO:kamping.parser.convert:Conversion of path:hsa05165 complete!\n",
      "INFO:kamping.parser.convert:Conversion of path:hsa05166 complete!\n",
      "INFO:kamping.parser.convert:Conversion of path:hsa05167 complete!\n",
      "INFO:kamping.parser.convert:Conversion of path:hsa05168 complete!\n",
      "INFO:kamping.parser.convert:Conversion of path:hsa05169 complete!\n",
      "INFO:kamping.parser.convert:Conversion of path:hsa05170 complete!\n",
      "INFO:kamping.parser.convert:Conversion of path:hsa05171 complete!\n",
      "INFO:kamping.parser.convert:Conversion of path:hsa05200 complete!\n",
      "INFO:kamping.parser.convert:Conversion of path:hsa05202 complete!\n",
      "INFO:kamping.parser.convert:Conversion of path:hsa05203 complete!\n",
      "INFO:kamping.parser.convert:Conversion of path:hsa05205 complete!\n",
      "INFO:kamping.parser.convert:Conversion of path:hsa05206 complete!\n",
      "INFO:kamping.parser.convert:Conversion of path:hsa05207 complete!\n",
      "INFO:kamping.parser.convert:Conversion of path:hsa05208 complete!\n",
      "INFO:kamping.parser.convert:Conversion of path:hsa05210 complete!\n",
      "INFO:kamping.parser.convert:Conversion of path:hsa05211 complete!\n",
      "INFO:kamping.parser.convert:Conversion of path:hsa05212 complete!\n",
      "INFO:kamping.parser.convert:Conversion of path:hsa05213 complete!\n",
      "INFO:kamping.parser.convert:Conversion of path:hsa05214 complete!\n",
      "INFO:kamping.parser.convert:Conversion of path:hsa05215 complete!\n",
      "INFO:kamping.parser.convert:Conversion of path:hsa05216 complete!\n",
      "INFO:kamping.parser.convert:Conversion of path:hsa05217 complete!\n",
      "INFO:kamping.parser.convert:Conversion of path:hsa05218 complete!\n",
      "INFO:kamping.parser.convert:Conversion of path:hsa05219 complete!\n",
      "INFO:kamping.parser.convert:Conversion of path:hsa05220 complete!\n",
      "INFO:kamping.parser.convert:Conversion of path:hsa05221 complete!\n",
      "INFO:kamping.parser.convert:Conversion of path:hsa05222 complete!\n",
      "INFO:kamping.parser.convert:Conversion of path:hsa05223 complete!\n",
      "INFO:kamping.parser.convert:Conversion of path:hsa05224 complete!\n",
      "INFO:kamping.parser.convert:Conversion of path:hsa05225 complete!\n",
      "INFO:kamping.parser.convert:Conversion of path:hsa05226 complete!\n",
      "INFO:kamping.parser.convert:Conversion of path:hsa05230 complete!\n",
      "INFO:kamping.parser.convert:Conversion of path:hsa05231 complete!\n",
      "INFO:kamping.parser.convert:Conversion of path:hsa05235 complete!\n",
      "INFO:kamping.parser.convert:Conversion of path:hsa05310 complete!\n",
      "INFO:kamping.parser.convert:Conversion of path:hsa05320 complete!\n",
      "INFO:kamping.parser.convert:Conversion of path:hsa05321 complete!\n",
      "INFO:kamping.parser.convert:Conversion of path:hsa05322 complete!\n",
      "INFO:kamping.parser.convert:Conversion of path:hsa05323 complete!\n",
      "INFO:kamping.parser.convert:Conversion of path:hsa05330 complete!\n",
      "INFO:kamping.parser.convert:Conversion of path:hsa05332 complete!\n",
      "INFO:kamping.parser.convert:Conversion of path:hsa05410 complete!\n",
      "INFO:kamping.parser.convert:Conversion of path:hsa05412 complete!\n",
      "INFO:kamping.parser.convert:Conversion of path:hsa05414 complete!\n",
      "INFO:kamping.parser.convert:Conversion of path:hsa05415 complete!\n",
      "INFO:kamping.parser.convert:Conversion of path:hsa05416 complete!\n",
      "INFO:kamping.parser.convert:Conversion of path:hsa05417 complete!\n",
      "INFO:kamping.parser.convert:Conversion of path:hsa05418 complete!\n"
     ]
    }
   ],
   "source": [
    "for graph in gene_graphs:\n",
    "    converter.convert(graph)"
   ],
   "metadata": {
    "collapsed": false,
    "ExecuteTime": {
     "end_time": "2024-12-16T17:12:14.089700Z",
     "start_time": "2024-12-16T17:12:11.314735Z"
    }
   },
   "id": "abe84ecc3926b4ed",
   "execution_count": 5
  },
  {
   "cell_type": "code",
   "outputs": [
    {
     "name": "stderr",
     "output_type": "stream",
     "text": [
      "WARNING:root:Successfully parse 1432 rows with valid SMILES from the MOL file!\n",
      "'\n",
      "                    total 231 Invalid rows with \"None\" in the ROMol column\n"
     ]
    }
   ],
   "source": [
    "import pandas as pd\n",
    "\n",
    "# uncommented code below if run the first time\n",
    "# save the mols to a file\n",
    "# mols.to_pickle('data/mols.pkl')\n",
    "# retrieve mol from file\n",
    "mols = pd.read_pickle('data/mols.pkl')\n",
    "mol_embeddings = kamping.get_mol_embeddings_from_dataframe(mols, transformer='morgan')"
   ],
   "metadata": {
    "collapsed": false,
    "ExecuteTime": {
     "end_time": "2024-12-16T17:15:24.635403Z",
     "start_time": "2024-12-16T17:15:24.505567Z"
    }
   },
   "id": "335cc08f673296cc",
   "execution_count": 26
  },
  {
   "cell_type": "code",
   "outputs": [
    {
     "data": {
      "text/plain": "{'cpd:C00038': array([0., 0., 0., ..., 0., 0., 0.], dtype=float32),\n 'cpd:C01180': array([0., 0., 0., ..., 0., 0., 0.], dtype=float32),\n 'cpd:C20683': array([0., 0., 0., ..., 0., 0., 0.], dtype=float32),\n 'cpd:C02593': array([0., 1., 0., ..., 0., 0., 0.], dtype=float32),\n 'cpd:C00286': array([0., 0., 0., ..., 0., 0., 0.], dtype=float32),\n 'cpd:C03564': array([0., 0., 0., ..., 0., 0., 0.], dtype=float32),\n 'cpd:C05452': array([0., 1., 0., ..., 0., 0., 0.], dtype=float32),\n 'cpd:C00603': array([0., 1., 0., ..., 0., 0., 0.], dtype=float32),\n 'cpd:C05443': array([0., 1., 0., ..., 0., 0., 0.], dtype=float32),\n 'cpd:C06157': array([0., 1., 0., ..., 0., 0., 0.], dtype=float32),\n 'cpd:C00055': array([0., 0., 0., ..., 0., 0., 0.], dtype=float32),\n 'cpd:C04487': array([0., 1., 0., ..., 0., 0., 0.], dtype=float32),\n 'cpd:C05294': array([0., 0., 0., ..., 0., 0., 0.], dtype=float32),\n 'cpd:C01674': array([0., 0., 0., ..., 0., 0., 0.], dtype=float32),\n 'cpd:C16549': array([0., 1., 0., ..., 0., 0., 0.], dtype=float32),\n 'cpd:C02839': array([0., 1., 0., ..., 0., 0., 0.], dtype=float32),\n 'cpd:C18075': array([0., 0., 0., ..., 0., 0., 0.], dtype=float32),\n 'cpd:C01322': array([0., 0., 0., ..., 0., 0., 0.], dtype=float32),\n 'cpd:C07585': array([0., 0., 0., ..., 0., 0., 0.], dtype=float32),\n 'cpd:C02218': array([0., 0., 0., ..., 0., 1., 0.], dtype=float32),\n 'cpd:C04911': array([0., 1., 0., ..., 0., 0., 0.], dtype=float32),\n 'cpd:C00402': array([0., 1., 0., ..., 0., 0., 0.], dtype=float32),\n 'cpd:C00091': array([0., 1., 0., ..., 0., 0., 0.], dtype=float32),\n 'cpd:C07151': array([0., 0., 0., ..., 0., 0., 0.], dtype=float32),\n 'cpd:C11455': array([0., 1., 0., ..., 0., 0., 0.], dtype=float32),\n 'cpd:C03201': array([0., 1., 0., ..., 0., 0., 0.], dtype=float32),\n 'cpd:C03722': array([0., 0., 0., ..., 0., 0., 0.], dtype=float32),\n 'cpd:C16336': array([0., 1., 1., ..., 0., 0., 0.], dtype=float32),\n 'cpd:C17343': array([0., 1., 0., ..., 0., 0., 0.], dtype=float32),\n 'dr:D01244': array([0., 0., 0., ..., 0., 0., 0.], dtype=float32),\n 'cpd:C05763': array([0., 0., 0., ..., 0., 0., 0.], dtype=float32),\n 'cpd:C05474': array([0., 0., 0., ..., 0., 0., 0.], dtype=float32),\n 'cpd:C03862': array([0., 1., 0., ..., 0., 0., 0.], dtype=float32),\n 'cpd:C20372': array([0., 0., 0., ..., 0., 0., 0.], dtype=float32),\n 'cpd:C00181': array([0., 0., 0., ..., 0., 0., 0.], dtype=float32),\n 'cpd:C00957': array([0., 0., 0., ..., 0., 0., 0.], dtype=float32),\n 'cpd:C15975': array([0., 1., 0., ..., 0., 0., 0.], dtype=float32),\n 'cpd:C00068': array([0., 0., 0., ..., 0., 0., 0.], dtype=float32),\n 'cpd:C15520': array([0., 1., 0., ..., 0., 0., 0.], dtype=float32),\n 'cpd:C18126': array([0., 1., 0., ..., 0., 0., 0.], dtype=float32),\n 'cpd:C05828': array([0., 0., 0., ..., 0., 0., 0.], dtype=float32),\n 'cpd:C03345': array([0., 1., 0., ..., 0., 0., 0.], dtype=float32),\n 'cpd:C03917': array([0., 0., 0., ..., 0., 0., 0.], dtype=float32),\n 'cpd:C01262': array([0., 1., 0., ..., 0., 0., 0.], dtype=float32),\n 'cpd:C00559': array([0., 0., 0., ..., 0., 0., 0.], dtype=float32),\n 'cpd:C00118': array([0., 1., 0., ..., 0., 0., 0.], dtype=float32),\n 'cpd:C01931': array([0., 1., 0., ..., 0., 0., 0.], dtype=float32),\n 'cpd:C15610': array([0., 1., 0., ..., 0., 0., 0.], dtype=float32),\n 'cpd:C00376': array([0., 0., 0., ..., 0., 0., 0.], dtype=float32),\n 'cpd:C05260': array([0., 1., 0., ..., 0., 0., 0.], dtype=float32),\n 'cpd:C16601': array([0., 0., 0., ..., 0., 0., 0.], dtype=float32),\n 'cpd:C05578': array([0., 0., 0., ..., 0., 0., 0.], dtype=float32),\n 'cpd:C01024': array([0., 0., 0., ..., 0., 0., 0.], dtype=float32),\n 'cpd:C05271': array([0., 1., 0., ..., 0., 0., 0.], dtype=float32),\n 'cpd:C00719': array([0., 0., 0., ..., 0., 0., 0.], dtype=float32),\n 'cpd:C05960': array([0., 0., 0., ..., 0., 0., 0.], dtype=float32),\n 'dr:D02271': array([0., 0., 0., ..., 0., 0., 0.], dtype=float32),\n 'cpd:C00704': array([0., 0., 0., ..., 0., 0., 0.], dtype=float32),\n 'cpd:C06482': array([0., 1., 0., ..., 0., 0., 0.], dtype=float32),\n 'cpd:C00033': array([0., 0., 0., ..., 0., 0., 0.], dtype=float32),\n 'cpd:C03410': array([0., 1., 0., ..., 0., 0., 0.], dtype=float32),\n 'cpd:C01051': array([0., 0., 0., ..., 0., 0., 0.], dtype=float32),\n 'cpd:C00449': array([0., 1., 0., ..., 0., 0., 0.], dtype=float32),\n 'cpd:C04734': array([0., 0., 0., ..., 0., 0., 0.], dtype=float32),\n 'cpd:C04748': array([0., 1., 0., ..., 0., 0., 0.], dtype=float32),\n 'cpd:C00019': array([0., 1., 0., ..., 0., 0., 0.], dtype=float32),\n 'cpd:C16584': array([0., 1., 0., ..., 0., 0., 0.], dtype=float32),\n 'cpd:C00307': array([0., 0., 0., ..., 0., 0., 0.], dtype=float32),\n 'cpd:C05545': array([0., 1., 0., ..., 0., 0., 0.], dtype=float32),\n 'cpd:C02946': array([0., 0., 0., ..., 0., 0., 0.], dtype=float32),\n 'cpd:C00672': array([0., 0., 0., ..., 0., 0., 0.], dtype=float32),\n 'cpd:C07481': array([1., 0., 0., ..., 0., 0., 0.], dtype=float32),\n 'cpd:C00188': array([0., 1., 0., ..., 0., 0., 0.], dtype=float32),\n 'cpd:C05936': array([0., 0., 0., ..., 0., 0., 0.], dtype=float32),\n 'cpd:C16576': array([0., 0., 0., ..., 0., 0., 0.], dtype=float32),\n 'cpd:C03344': array([0., 1., 0., ..., 0., 0., 0.], dtype=float32),\n 'cpd:C19607': array([0., 0., 0., ..., 0., 0., 0.], dtype=float32),\n 'cpd:C15519': array([0., 1., 0., ..., 0., 0., 0.], dtype=float32),\n 'cpd:C14849': array([0., 0., 0., ..., 0., 0., 0.], dtype=float32),\n 'cpd:C00383': array([0., 0., 0., ..., 0., 0., 0.], dtype=float32),\n 'cpd:C20775': array([0., 1., 0., ..., 0., 0., 0.], dtype=float32),\n 'cpd:C06800': array([0., 0., 0., ..., 0., 0., 0.], dtype=float32),\n 'cpd:C00058': array([0., 0., 0., ..., 0., 0., 0.], dtype=float32),\n 'cpd:C00075': array([0., 0., 0., ..., 0., 0., 0.], dtype=float32),\n 'cpd:C18026': array([0., 1., 0., ..., 0., 0., 0.], dtype=float32),\n 'cpd:C00700': array([0., 0., 0., ..., 0., 0., 0.], dtype=float32),\n 'cpd:C00288': array([0., 0., 0., ..., 0., 0., 0.], dtype=float32),\n 'cpd:C00643': array([0., 1., 0., ..., 0., 0., 0.], dtype=float32),\n 'cpd:C14775': array([0., 1., 0., ..., 0., 0., 0.], dtype=float32),\n 'cpd:C04549': array([0., 1., 0., ..., 0., 0., 0.], dtype=float32),\n 'cpd:C21797': array([0., 0., 0., ..., 0., 0., 0.], dtype=float32),\n 'cpd:C03313': array([0., 1., 0., ..., 0., 0., 0.], dtype=float32),\n 'cpd:C05579': array([0., 0., 0., ..., 0., 0., 0.], dtype=float32),\n 'cpd:C03557': array([0., 0., 0., ..., 0., 0., 0.], dtype=float32),\n 'cpd:C05262': array([0., 1., 0., ..., 0., 0., 0.], dtype=float32),\n 'dr:D01309': array([0., 0., 0., ..., 0., 0., 0.], dtype=float32),\n 'cpd:C00222': array([0., 0., 0., ..., 0., 0., 0.], dtype=float32),\n 'cpd:C04244': array([0., 1., 0., ..., 0., 0., 0.], dtype=float32),\n 'cpd:C02320': array([0., 1., 0., ..., 0., 0., 0.], dtype=float32),\n 'cpd:C04405': array([0., 1., 0., ..., 0., 0., 0.], dtype=float32),\n 'cpd:C06697': array([0., 0., 0., ..., 0., 0., 0.], dtype=float32),\n 'cpd:C05947': array([0., 1., 0., ..., 0., 0., 0.], dtype=float32),\n 'cpd:C06899': array([0., 1., 0., ..., 0., 0., 0.], dtype=float32),\n 'cpd:C03272': array([0., 1., 0., ..., 0., 0., 0.], dtype=float32),\n 'cpd:C05924': array([0., 0., 0., ..., 0., 0., 0.], dtype=float32),\n 'cpd:C00379': array([0., 1., 0., ..., 0., 0., 0.], dtype=float32),\n 'cpd:C05337': array([0., 1., 0., ..., 0., 0., 0.], dtype=float32),\n 'cpd:C19562': array([0., 0., 0., ..., 0., 0., 0.], dtype=float32),\n 'cpd:C05746': array([0., 0., 0., ..., 0., 0., 0.], dtype=float32),\n 'cpd:C00214': array([0., 0., 0., ..., 0., 0., 0.], dtype=float32),\n 'cpd:C00328': array([0., 1., 0., ..., 0., 0., 0.], dtype=float32),\n 'cpd:C00886': array([0., 1., 0., ..., 0., 0., 0.], dtype=float32),\n 'cpd:C05130': array([0., 0., 0., ..., 0., 0., 0.], dtype=float32),\n 'cpd:C05755': array([0., 0., 0., ..., 0., 0., 0.], dtype=float32),\n 'cpd:C16682': array([0., 0., 0., ..., 0., 0., 0.], dtype=float32),\n 'cpd:C00114': array([0., 0., 0., ..., 0., 0., 0.], dtype=float32),\n 'cpd:C00100': array([0., 1., 0., ..., 0., 0., 0.], dtype=float32),\n 'cpd:C16614': array([0., 0., 0., ..., 0., 0., 0.], dtype=float32),\n 'cpd:C00144': array([0., 0., 0., ..., 0., 0., 0.], dtype=float32),\n 'cpd:C11695': array([0., 0., 0., ..., 0., 0., 0.], dtype=float32),\n 'cpd:C00847': array([0., 0., 0., ..., 0., 0., 0.], dtype=float32),\n 'cpd:C00385': array([0., 0., 0., ..., 0., 0., 0.], dtype=float32),\n 'cpd:C01061': array([0., 0., 0., ..., 0., 0., 0.], dtype=float32),\n 'cpd:C05577': array([0., 1., 0., ..., 0., 0., 0.], dtype=float32),\n 'cpd:C00227': array([0., 0., 0., ..., 0., 0., 0.], dtype=float32),\n 'cpd:C04853': array([0., 1., 0., ..., 0., 0., 0.], dtype=float32),\n 'cpd:C00658': array([0., 1., 0., ..., 0., 0., 0.], dtype=float32),\n 'cpd:C05729': array([0., 1., 0., ..., 0., 0., 0.], dtype=float32),\n 'cpd:C00655': array([0., 0., 0., ..., 0., 0., 0.], dtype=float32),\n 'cpd:C00458': array([0., 0., 0., ..., 0., 0., 0.], dtype=float32),\n 'cpd:C00641': array([0., 1., 0., ..., 0., 0., 0.], dtype=float32),\n 'cpd:C11131': array([0., 0., 0., ..., 0., 0., 0.], dtype=float32),\n 'cpd:C00388': array([0., 0., 0., ..., 0., 0., 0.], dtype=float32),\n 'cpd:C03373': array([0., 0., 0., ..., 0., 0., 0.], dtype=float32),\n 'dr:D01977': array([0., 0., 0., ..., 0., 0., 0.], dtype=float32),\n 'cpd:C20376': array([0., 0., 0., ..., 0., 0., 0.], dtype=float32),\n 'cpd:C16578': array([0., 0., 0., ..., 0., 0., 0.], dtype=float32),\n 'cpd:C14770': array([0., 0., 0., ..., 0., 0., 0.], dtype=float32),\n 'cpd:C00670': array([0., 1., 0., ..., 0., 0., 0.], dtype=float32),\n 'cpd:C02972': array([0., 1., 0., ..., 0., 0., 0.], dtype=float32),\n 'cpd:C00513': array([0., 1., 0., ..., 0., 0., 0.], dtype=float32),\n 'cpd:C01801': array([0., 0., 0., ..., 0., 0., 0.], dtype=float32),\n 'cpd:C15606': array([0., 0., 0., ..., 0., 0., 0.], dtype=float32),\n 'cpd:C19848': array([0., 0., 0., ..., 0., 0., 0.], dtype=float32),\n 'cpd:C03263': array([0., 0., 0., ..., 0., 0., 0.], dtype=float32),\n 'cpd:C16619': array([0., 0., 0., ..., 0., 0., 0.], dtype=float32),\n 'cpd:C00986': array([0., 0., 0., ..., 0., 0., 0.], dtype=float32),\n 'cpd:C16662': array([0., 1., 0., ..., 0., 0., 0.], dtype=float32),\n 'cpd:C05498': array([0., 0., 0., ..., 0., 0., 0.], dtype=float32),\n 'cpd:C17332': array([0., 1., 0., ..., 0., 0., 0.], dtype=float32),\n 'cpd:C00231': array([0., 1., 0., ..., 0., 0., 0.], dtype=float32),\n 'cpd:C16327': array([0., 1., 0., ..., 0., 0., 0.], dtype=float32),\n 'dr:D00252': array([0., 0., 0., ..., 0., 0., 0.], dtype=float32),\n 'cpd:C06000': array([0., 1., 0., ..., 0., 0., 0.], dtype=float32),\n 'cpd:C00011': array([0., 0., 0., ..., 0., 0., 0.], dtype=float32),\n 'cpd:C01277': array([0., 1., 0., ..., 0., 0., 0.], dtype=float32),\n 'cpd:C02051': array([0., 0., 0., ..., 0., 0., 0.], dtype=float32),\n 'cpd:C00256': array([0., 1., 0., ..., 0., 0., 0.], dtype=float32),\n 'cpd:C00322': array([0., 0., 0., ..., 0., 0., 0.], dtype=float32),\n 'cpd:C16358': array([0., 0., 0., ..., 0., 0., 0.], dtype=float32),\n 'cpd:C00089': array([1., 0., 0., ..., 0., 0., 0.], dtype=float32),\n 'cpd:C01079': array([0., 0., 0., ..., 0., 0., 0.], dtype=float32),\n 'cpd:C16608': array([0., 0., 0., ..., 0., 0., 0.], dtype=float32),\n 'cpd:C15670': array([0., 1., 0., ..., 0., 0., 0.], dtype=float32),\n 'cpd:C05848': array([0., 0., 0., ..., 0., 0., 0.], dtype=float32),\n 'cpd:C00159': array([0., 0., 0., ..., 0., 0., 0.], dtype=float32),\n 'cpd:C00954': array([0., 0., 0., ..., 0., 0., 0.], dtype=float32),\n 'cpd:C19691': array([0., 1., 0., ..., 0., 0., 0.], dtype=float32),\n 'cpd:C00519': array([0., 0., 0., ..., 0., 0., 0.], dtype=float32),\n 'cpd:C01152': array([0., 1., 0., ..., 0., 0., 0.], dtype=float32),\n 'cpd:C02189': array([0., 1., 0., ..., 0., 0., 0.], dtype=float32),\n 'cpd:C00364': array([0., 0., 0., ..., 0., 0., 0.], dtype=float32),\n 'cpd:C03594': array([0., 1., 0., ..., 0., 0., 0.], dtype=float32),\n 'cpd:C01035': array([0., 0., 0., ..., 0., 0., 0.], dtype=float32),\n 'cpd:C06049': array([0., 0., 0., ..., 0., 0., 0.], dtype=float32),\n 'cpd:C14869': array([0., 0., 0., ..., 0., 0., 0.], dtype=float32),\n 'cpd:C16679': array([0., 0., 0., ..., 0., 0., 0.], dtype=float32),\n 'cpd:C05141': array([0., 0., 0., ..., 0., 0., 0.], dtype=float32),\n 'cpd:C18041': array([0., 1., 0., ..., 0., 0., 0.], dtype=float32),\n 'cpd:C00194': array([0., 1., 0., ..., 0., 0., 0.], dtype=float32),\n 'cpd:C00631': array([0., 1., 0., ..., 0., 0., 0.], dtype=float32),\n 'cpd:C04637': array([1., 1., 0., ..., 0., 0., 0.], dtype=float32),\n 'cpd:C00310': array([0., 0., 0., ..., 0., 0., 0.], dtype=float32),\n 'cpd:C01528': array([0., 0., 0., ..., 0., 0., 0.], dtype=float32),\n 'cpd:C01996': array([0., 0., 0., ..., 0., 0., 0.], dtype=float32),\n 'cpd:C00252': array([0., 0., 0., ..., 0., 0., 0.], dtype=float32),\n 'cpd:C00386': array([0., 1., 0., ..., 0., 0., 0.], dtype=float32),\n 'cpd:C00186': array([0., 1., 0., ..., 0., 0., 0.], dtype=float32),\n 'cpd:C00076': array([0., 0., 0., ..., 0., 0., 0.], dtype=float32),\n 'cpd:C01005': array([0., 1., 0., ..., 0., 0., 0.], dtype=float32),\n 'cpd:C00366': array([0., 0., 0., ..., 0., 0., 0.], dtype=float32),\n 'cpd:C00638': array([0., 0., 0., ..., 0., 0., 0.], dtype=float32),\n 'cpd:C00468': array([0., 0., 0., ..., 0., 0., 0.], dtype=float32),\n 'cpd:C00828': array([0., 1., 0., ..., 0., 0., 0.], dtype=float32),\n 'cpd:C00063': array([0., 0., 0., ..., 0., 0., 0.], dtype=float32),\n 'cpd:C01132': array([0., 0., 0., ..., 0., 0., 0.], dtype=float32),\n 'cpd:C04392': array([0., 0., 0., ..., 0., 0., 0.], dtype=float32),\n 'cpd:C05581': array([0., 0., 0., ..., 0., 0., 0.], dtype=float32),\n 'cpd:C15973': array([0., 1., 0., ..., 0., 0., 0.], dtype=float32),\n 'cpd:C05341': array([0., 1., 0., ..., 0., 0., 0.], dtype=float32),\n 'cpd:C05587': array([0., 0., 0., ..., 0., 0., 0.], dtype=float32),\n 'cpd:C00039': array([0., 0., 0., ..., 0., 0., 0.], dtype=float32),\n 'cpd:C03150': array([0., 0., 0., ..., 0., 0., 0.], dtype=float32),\n 'dr:D08086': array([0., 0., 1., ..., 0., 0., 0.], dtype=float32),\n 'cpd:C05335': array([0., 1., 0., ..., 0., 0., 0.], dtype=float32),\n 'cpd:C02538': array([0., 0., 0., ..., 0., 0., 0.], dtype=float32),\n 'cpd:C06341': array([0., 1., 0., ..., 0., 0., 0.], dtype=float32),\n 'cpd:C16360': array([0., 0., 0., ..., 0., 0., 0.], dtype=float32),\n 'cpd:C01209': array([0., 0., 0., ..., 0., 0., 0.], dtype=float32),\n 'cpd:C15492': array([0., 1., 0., ..., 0., 0., 0.], dtype=float32),\n 'cpd:C01943': array([0., 1., 0., ..., 0., 1., 0.], dtype=float32),\n 'cpd:C00027': array([0., 0., 0., ..., 0., 0., 0.], dtype=float32),\n 'cpd:C02166': array([0., 1., 0., ..., 0., 0., 0.], dtype=float32),\n 'cpd:C00645': array([0., 0., 0., ..., 0., 0., 0.], dtype=float32),\n 'cpd:C05264': array([0., 1., 0., ..., 0., 0., 0.], dtype=float32),\n 'cpd:C00437': array([0., 1., 0., ..., 0., 0., 0.], dtype=float32),\n 'cpd:C22499': array([0., 0., 0., ..., 0., 0., 0.], dtype=float32),\n 'cpd:C01832': array([0., 1., 0., ..., 0., 0., 0.], dtype=float32),\n 'cpd:C00956': array([0., 1., 0., ..., 0., 0., 0.], dtype=float32),\n 'cpd:C05269': array([0., 1., 0., ..., 0., 0., 0.], dtype=float32),\n 'cpd:C00245': array([0., 0., 0., ..., 0., 0., 0.], dtype=float32),\n 'cpd:C02554': array([0., 1., 0., ..., 0., 1., 0.], dtype=float32),\n 'cpd:C02188': array([0., 1., 0., ..., 0., 0., 0.], dtype=float32),\n 'cpd:C04233': array([0., 1., 0., ..., 0., 0., 0.], dtype=float32),\n 'cpd:C04895': array([0., 1., 0., ..., 0., 0., 0.], dtype=float32),\n 'cpd:C00015': array([0., 0., 0., ..., 0., 0., 0.], dtype=float32),\n 'cpd:C05356': array([0., 1., 0., ..., 0., 0., 0.], dtype=float32),\n 'cpd:C20934': array([0., 1., 0., ..., 0., 0., 0.], dtype=float32),\n 'dr:D04197': array([0., 0., 0., ..., 0., 0., 0.], dtype=float32),\n 'cpd:C11556': array([0., 1., 0., ..., 0., 0., 0.], dtype=float32),\n 'cpd:C00061': array([0., 1., 0., ..., 0., 0., 0.], dtype=float32),\n 'cpd:C04185': array([0., 0., 0., ..., 0., 0., 0.], dtype=float32),\n 'cpd:C03231': array([0., 1., 0., ..., 0., 0., 0.], dtype=float32),\n 'dr:D01223': array([0., 0., 0., ..., 0., 0., 0.], dtype=float32),\n 'cpd:C05527': array([0., 0., 0., ..., 0., 0., 0.], dtype=float32),\n 'cpd:C00873': array([0., 1., 0., ..., 0., 0., 0.], dtype=float32),\n 'cpd:C00818': array([0., 1., 0., ..., 0., 0., 0.], dtype=float32),\n 'dr:D07760': array([0., 0., 0., ..., 0., 0., 0.], dtype=float32),\n 'cpd:C00533': array([0., 0., 0., ..., 0., 0., 0.], dtype=float32),\n 'cpd:C00083': array([0., 1., 0., ..., 0., 0., 0.], dtype=float32),\n 'cpd:C01236': array([0., 0., 0., ..., 0., 0., 0.], dtype=float32),\n 'cpd:C21018': array([0., 1., 0., ..., 0., 0., 0.], dtype=float32),\n 'cpd:C16622': array([0., 0., 0., ..., 0., 0., 0.], dtype=float32),\n 'cpd:C03912': array([0., 0., 0., ..., 0., 0., 0.], dtype=float32),\n 'cpd:C14808': array([0., 1., 0., ..., 0., 0., 0.], dtype=float32),\n 'dr:D08234': array([0., 1., 0., ..., 0., 0., 0.], dtype=float32),\n 'cpd:C05922': array([0., 0., 0., ..., 0., 0., 0.], dtype=float32),\n 'cpd:C01261': array([0., 0., 0., ..., 0., 0., 0.], dtype=float32),\n 'cpd:C00080': array([0., 0., 0., ..., 0., 0., 0.], dtype=float32),\n 'cpd:C16632': array([0., 1., 0., ..., 0., 0., 0.], dtype=float32),\n 'cpd:C02630': array([0., 1., 0., ..., 0., 0., 0.], dtype=float32),\n 'cpd:C14852': array([0., 0., 0., ..., 0., 0., 0.], dtype=float32),\n 'cpd:C06136': array([0., 1., 0., ..., 0., 0., 0.], dtype=float32),\n 'cpd:C02380': array([0., 0., 0., ..., 0., 0., 0.], dtype=float32),\n 'cpd:C00095': array([0., 0., 0., ..., 0., 0., 0.], dtype=float32),\n 'cpd:C00735': array([0., 0., 0., ..., 0., 0., 0.], dtype=float32),\n 'cpd:C12145': array([0., 1., 0., ..., 0., 0., 0.], dtype=float32),\n 'cpd:C16550': array([0., 0., 0., ..., 0., 0., 0.], dtype=float32),\n 'cpd:C01143': array([0., 0., 0., ..., 0., 0., 0.], dtype=float32),\n 'cpd:C04518': array([0., 1., 0., ..., 0., 0., 0.], dtype=float32),\n 'cpd:C13550': array([0., 1., 0., ..., 0., 0., 0.], dtype=float32),\n 'cpd:C16577': array([0., 0., 0., ..., 0., 0., 0.], dtype=float32),\n 'cpd:C00857': array([0., 0., 0., ..., 0., 0., 0.], dtype=float32),\n 'cpd:C16339': array([0., 1., 0., ..., 0., 0., 0.], dtype=float32),\n 'cpd:C00275': array([0., 0., 0., ..., 0., 0., 0.], dtype=float32),\n 'cpd:C16633': array([0., 0., 0., ..., 0., 0., 0.], dtype=float32),\n 'dr:D04931': array([0., 0., 0., ..., 0., 0., 0.], dtype=float32),\n 'cpd:C04281': array([0., 0., 0., ..., 0., 0., 0.], dtype=float32),\n 'cpd:C05497': array([0., 0., 0., ..., 0., 0., 0.], dtype=float32),\n 'cpd:C14791': array([0., 1., 0., ..., 0., 0., 0.], dtype=float32),\n 'cpd:C04717': array([0., 1., 0., ..., 0., 0., 0.], dtype=float32),\n 'cpd:C01231': array([0., 0., 0., ..., 0., 0., 0.], dtype=float32),\n 'cpd:C00407': array([0., 1., 0., ..., 0., 0., 0.], dtype=float32),\n 'cpd:C05766': array([0., 0., 0., ..., 0., 0., 0.], dtype=float32),\n 'cpd:C01259': array([0., 1., 0., ..., 0., 0., 0.], dtype=float32),\n 'cpd:C03785': array([0., 0., 0., ..., 0., 0., 0.], dtype=float32),\n 'cpd:C00253': array([0., 0., 0., ..., 0., 0., 0.], dtype=float32),\n 'cpd:C00899': array([0., 0., 0., ..., 0., 0., 0.], dtype=float32),\n 'cpd:C01693': array([0., 0., 0., ..., 0., 0., 0.], dtype=float32),\n 'cpd:C04246': array([0., 0., 0., ..., 0., 0., 0.], dtype=float32),\n 'cpd:C00255': array([0., 1., 0., ..., 0., 0., 0.], dtype=float32),\n 'cpd:C01561': array([0., 1., 0., ..., 0., 0., 0.], dtype=float32),\n 'cpd:C18038': array([0., 0., 0., ..., 0., 0., 0.], dtype=float32),\n 'cpd:C08012': array([0., 1., 0., ..., 0., 0., 0.], dtype=float32),\n 'cpd:C03170': array([0., 1., 0., ..., 0., 0., 0.], dtype=float32),\n 'cpd:C05949': array([0., 1., 0., ..., 0., 0., 0.], dtype=float32),\n 'cpd:C15780': array([0., 1., 0., ..., 0., 1., 0.], dtype=float32),\n 'cpd:C00584': array([0., 1., 0., ..., 0., 0., 0.], dtype=float32),\n 'cpd:C05279': array([0., 1., 0., ..., 0., 0., 0.], dtype=float32),\n 'cpd:C07645': array([0., 0., 0., ..., 0., 0., 0.], dtype=float32),\n 'cpd:C00272': array([0., 1., 0., ..., 0., 0., 0.], dtype=float32),\n 'cpd:C20876': array([0., 1., 0., ..., 0., 0., 0.], dtype=float32),\n 'cpd:C03715': array([0., 0., 0., ..., 0., 0., 0.], dtype=float32),\n 'cpd:C00294': array([0., 0., 0., ..., 0., 0., 0.], dtype=float32),\n 'cpd:C16604': array([0., 0., 0., ..., 0., 0., 0.], dtype=float32),\n 'cpd:C14853': array([0., 0., 0., ..., 0., 0., 0.], dtype=float32),\n 'cpd:C03892': array([0., 1., 0., ..., 0., 0., 0.], dtype=float32),\n 'cpd:C03681': array([0., 0., 0., ..., 0., 0., 0.], dtype=float32),\n 'cpd:C02553': array([0., 1., 0., ..., 0., 0., 0.], dtype=float32),\n 'cpd:C05401': array([0., 1., 0., ..., 0., 0., 0.], dtype=float32),\n 'cpd:C04282': array([0., 0., 0., ..., 0., 0., 0.], dtype=float32),\n 'cpd:C05477': array([0., 0., 0., ..., 0., 0., 0.], dtype=float32),\n 'cpd:C00020': array([0., 0., 0., ..., 0., 0., 0.], dtype=float32),\n 'cpd:C00163': array([0., 0., 1., ..., 0., 0., 0.], dtype=float32),\n 'cpd:C02465': array([1., 1., 0., ..., 0., 0., 0.], dtype=float32),\n 'cpd:C05745': array([0., 0., 0., ..., 0., 0., 0.], dtype=float32),\n 'cpd:C01222': array([0., 0., 0., ..., 0., 0., 0.], dtype=float32),\n 'cpd:C19574': array([0., 1., 0., ..., 0., 0., 0.], dtype=float32),\n 'cpd:C00122': array([0., 0., 0., ..., 0., 0., 0.], dtype=float32),\n 'cpd:C05503': array([0., 0., 0., ..., 0., 0., 0.], dtype=float32),\n 'cpd:C14771': array([0., 0., 0., ..., 0., 0., 0.], dtype=float32),\n 'cpd:C01233': array([0., 1., 0., ..., 0., 0., 0.], dtype=float32),\n 'cpd:C01120': array([0., 1., 0., ..., 0., 0., 0.], dtype=float32),\n 'cpd:C05274': array([0., 1., 0., ..., 0., 0., 0.], dtype=float32),\n 'cpd:C00160': array([0., 0., 0., ..., 0., 0., 0.], dtype=float32),\n 'cpd:C01571': array([0., 0., 0., ..., 0., 0., 0.], dtype=float32),\n 'cpd:C17559': array([0., 0., 0., ..., 0., 0., 0.], dtype=float32),\n 'cpd:C00147': array([0., 0., 0., ..., 0., 0., 0.], dtype=float32),\n 'cpd:C05747': array([0., 1., 0., ..., 0., 0., 0.], dtype=float32),\n 'cpd:C07496': array([0., 0., 0., ..., 0., 0., 0.], dtype=float32),\n 'cpd:C05965': array([0., 1., 0., ..., 0., 0., 0.], dtype=float32),\n 'cpd:C00526': array([0., 0., 0., ..., 0., 0., 0.], dtype=float32),\n 'cpd:C19580': array([0., 1., 0., ..., 0., 0., 0.], dtype=float32),\n 'cpd:C06002': array([0., 1., 0., ..., 0., 0., 0.], dtype=float32),\n 'cpd:C04308': array([0., 1., 0., ..., 0., 0., 0.], dtype=float32),\n 'cpd:C15979': array([0., 1., 0., ..., 0., 0., 0.], dtype=float32),\n 'cpd:C04373': array([0., 0., 0., ..., 0., 0., 0.], dtype=float32),\n 'cpd:C00984': array([0., 0., 0., ..., 0., 0., 0.], dtype=float32),\n 'cpd:C16607': array([0., 0., 0., ..., 0., 0., 0.], dtype=float32),\n 'cpd:C00229': array([0., 0., 0., ..., 0., 0., 0.], dtype=float32),\n 'cpd:C21028': array([0., 0., 0., ..., 0., 0., 0.], dtype=float32),\n 'cpd:C16543': array([0., 0., 0., ..., 0., 0., 0.], dtype=float32),\n 'cpd:C01194': array([0., 1., 0., ..., 0., 0., 0.], dtype=float32),\n 'cpd:C00012': array([0., 1., 0., ..., 0., 0., 0.], dtype=float32),\n 'cpd:C05448': array([0., 1., 0., ..., 0., 0., 0.], dtype=float32),\n 'cpd:C07490': array([0., 0., 0., ..., 0., 0., 0.], dtype=float32),\n 'cpd:C05852': array([0., 0., 0., ..., 0., 0., 0.], dtype=float32),\n 'cpd:C05147': array([0., 0., 0., ..., 0., 0., 0.], dtype=float32),\n 'cpd:C00190': array([0., 0., 0., ..., 0., 0., 0.], dtype=float32),\n 'cpd:C05263': array([0., 1., 0., ..., 0., 0., 0.], dtype=float32),\n 'cpd:C00532': array([0., 1., 0., ..., 0., 0., 0.], dtype=float32),\n 'cpd:C16643': array([0., 0., 0., ..., 0., 0., 0.], dtype=float32),\n 'cpd:C00105': array([0., 0., 0., ..., 0., 0., 0.], dtype=float32),\n 'cpd:C14802': array([0., 0., 0., ..., 0., 0., 0.], dtype=float32),\n 'cpd:C00390': array([0., 0., 0., ..., 0., 0., 0.], dtype=float32),\n 'cpd:C00309': array([0., 0., 0., ..., 0., 0., 0.], dtype=float32),\n 'cpd:C21284': array([0., 0., 0., ..., 0., 0., 0.], dtype=float32),\n 'cpd:C05653': array([0., 0., 0., ..., 0., 0., 0.], dtype=float32),\n 'cpd:C07888': array([0., 0., 0., ..., 0., 0., 0.], dtype=float32),\n 'cpd:C00311': array([0., 1., 0., ..., 0., 0., 0.], dtype=float32),\n 'cpd:C05445': array([0., 1., 0., ..., 0., 0., 0.], dtype=float32),\n 'cpd:C05295': array([0., 0., 0., ..., 0., 0., 0.], dtype=float32),\n 'cpd:C05754': array([0., 0., 0., ..., 0., 0., 0.], dtype=float32),\n 'cpd:C04063': array([1., 0., 0., ..., 0., 0., 0.], dtype=float32),\n 'cpd:C07073': array([0., 0., 0., ..., 0., 0., 0.], dtype=float32),\n 'cpd:C00331': array([0., 0., 0., ..., 0., 0., 0.], dtype=float32),\n 'cpd:C08150': array([0., 0., 0., ..., 0., 0., 0.], dtype=float32),\n 'cpd:C14773': array([0., 1., 0., ..., 0., 0., 0.], dtype=float32),\n 'cpd:C16356': array([0., 0., 0., ..., 0., 0., 0.], dtype=float32),\n 'cpd:C03852': array([0., 0., 0., ..., 0., 0., 0.], dtype=float32),\n 'cpd:C05668': array([0., 1., 0., ..., 0., 0., 0.], dtype=float32),\n 'cpd:C02700': array([0., 1., 0., ..., 0., 0., 0.], dtype=float32),\n 'cpd:C00430': array([0., 0., 0., ..., 0., 0., 0.], dtype=float32),\n 'cpd:C05843': array([0., 0., 0., ..., 0., 0., 0.], dtype=float32),\n 'cpd:C00086': array([0., 0., 0., ..., 0., 0., 0.], dtype=float32),\n 'cpd:C00835': array([0., 1., 0., ..., 0., 0., 0.], dtype=float32),\n 'cpd:C16359': array([0., 0., 0., ..., 0., 0., 0.], dtype=float32),\n 'cpd:C07447': array([0., 0., 0., ..., 0., 0., 0.], dtype=float32),\n 'cpd:C13050': array([0., 0., 0., ..., 0., 0., 0.], dtype=float32),\n 'cpd:C00219': array([0., 0., 0., ..., 0., 0., 0.], dtype=float32),\n 'cpd:C05473': array([0., 0., 0., ..., 0., 0., 0.], dtype=float32),\n 'cpd:C04317': array([0., 1., 0., ..., 0., 0., 0.], dtype=float32),\n 'cpd:C06037': array([0., 1., 0., ..., 0., 0., 0.], dtype=float32),\n 'cpd:C00581': array([0., 0., 0., ..., 0., 0., 0.], dtype=float32),\n 'cpd:C00079': array([0., 1., 0., ..., 0., 0., 0.], dtype=float32),\n 'cpd:C21383': array([0., 1., 0., ..., 0., 0., 0.], dtype=float32),\n 'cpd:C00295': array([0., 0., 0., ..., 0., 0., 0.], dtype=float32),\n 'cpd:C00410': array([0., 0., 0., ..., 0., 0., 0.], dtype=float32),\n 'cpd:C12673': array([0., 0., 0., ..., 0., 0., 0.], dtype=float32),\n 'cpd:C04475': array([0., 1., 0., ..., 0., 0., 0.], dtype=float32),\n 'cpd:C14807': array([0., 0., 0., ..., 0., 0., 0.], dtype=float32),\n 'cpd:C03287': array([0., 1., 0., ..., 0., 0., 0.], dtype=float32),\n 'cpd:C03547': array([0., 0., 0., ..., 0., 0., 0.], dtype=float32),\n 'cpd:C00044': array([0., 0., 0., ..., 0., 0., 0.], dtype=float32),\n 'cpd:C14039': array([0., 0., 0., ..., 0., 1., 0.], dtype=float32),\n 'cpd:C07572': array([0., 0., 0., ..., 0., 0., 0.], dtype=float32),\n 'cpd:C01144': array([0., 1., 0., ..., 0., 0., 0.], dtype=float32),\n 'cpd:C16659': array([0., 0., 0., ..., 0., 0., 0.], dtype=float32),\n 'cpd:C00894': array([0., 1., 0., ..., 0., 0., 0.], dtype=float32),\n 'cpd:C01802': array([0., 1., 0., ..., 0., 0., 0.], dtype=float32),\n 'cpd:C16334': array([0., 1., 0., ..., 0., 0., 0.], dtype=float32),\n 'cpd:C00233': array([0., 1., 0., ..., 0., 0., 0.], dtype=float32),\n 'cpd:C00541': array([0., 1., 0., ..., 0., 0., 0.], dtype=float32),\n 'cpd:C07108': array([0., 0., 1., ..., 0., 0., 0.], dtype=float32),\n 'cpd:C04823': array([0., 1., 0., ..., 0., 0., 0.], dtype=float32),\n 'cpd:C00124': array([0., 0., 0., ..., 0., 0., 0.], dtype=float32),\n 'cpd:C00668': array([0., 0., 0., ..., 0., 0., 0.], dtype=float32),\n 'cpd:C02140': array([0., 0., 0., ..., 0., 0., 0.], dtype=float32),\n 'cpd:C16219': array([0., 0., 0., ..., 0., 0., 0.], dtype=float32),\n 'cpd:C14865': array([0., 1., 0., ..., 0., 0., 0.], dtype=float32),\n 'cpd:C14813': array([0., 1., 0., ..., 0., 0., 0.], dtype=float32),\n 'cpd:C02515': array([1., 1., 0., ..., 0., 0., 0.], dtype=float32),\n 'cpd:C03454': array([0., 1., 0., ..., 0., 0., 0.], dtype=float32),\n 'cpd:C01220': array([0., 0., 0., ..., 0., 0., 0.], dtype=float32),\n 'cpd:C00354': array([0., 0., 0., ..., 0., 0., 0.], dtype=float32),\n 'cpd:C01720': array([0., 1., 0., ..., 0., 0., 0.], dtype=float32),\n 'cpd:C11150': array([0., 0., 0., ..., 0., 0., 0.], dtype=float32),\n 'cpd:C01252': array([0., 0., 0., ..., 0., 0., 0.], dtype=float32),\n 'cpd:C01673': array([0., 1., 0., ..., 0., 0., 0.], dtype=float32),\n 'cpd:C15777': array([0., 1., 0., ..., 0., 1., 0.], dtype=float32),\n 'cpd:C15816': array([0., 1., 0., ..., 0., 0., 0.], dtype=float32),\n 'cpd:C04006': array([0., 0., 0., ..., 0., 0., 0.], dtype=float32),\n 'cpd:C07086': array([0., 0., 0., ..., 0., 0., 0.], dtype=float32),\n 'cpd:C05753': array([0., 0., 0., ..., 0., 0., 0.], dtype=float32),\n 'cpd:C00696': array([0., 1., 0., ..., 0., 0., 0.], dtype=float32),\n 'cpd:C02090': array([0., 1., 0., ..., 0., 0., 0.], dtype=float32),\n 'cpd:C00018': array([0., 0., 0., ..., 0., 0., 0.], dtype=float32),\n 'cpd:C17267': array([0., 1., 0., ..., 0., 0., 0.], dtype=float32),\n 'cpd:C00046': array([0., 0., 0., ..., 0., 0., 0.], dtype=float32),\n 'cpd:C16638': array([0., 1., 0., ..., 0., 0., 0.], dtype=float32),\n 'cpd:C00546': array([0., 0., 0., ..., 0., 0., 0.], dtype=float32),\n 'cpd:C00003': array([0., 0., 0., ..., 0., 0., 0.], dtype=float32),\n 'cpd:C01697': array([0., 1., 0., ..., 0., 0., 0.], dtype=float32),\n 'cpd:C04737': array([0., 1., 0., ..., 0., 0., 0.], dtype=float32),\n 'cpd:C00639': array([0., 1., 0., ..., 0., 0., 0.], dtype=float32),\n 'cpd:C16238': array([0., 0., 0., ..., 0., 0., 0.], dtype=float32),\n 'cpd:C18060': array([0., 0., 0., ..., 0., 0., 0.], dtype=float32),\n 'cpd:C00217': array([0., 1., 0., ..., 0., 0., 0.], dtype=float32),\n 'cpd:C05103': array([0., 1., 0., ..., 0., 0., 0.], dtype=float32),\n 'cpd:C04707': array([0., 0., 0., ..., 0., 0., 0.], dtype=float32),\n 'cpd:C05265': array([0., 1., 0., ..., 0., 0., 0.], dtype=float32),\n 'cpd:C01678': array([0., 0., 0., ..., 0., 0., 0.], dtype=float32),\n 'cpd:C11135': array([0., 0., 0., ..., 0., 0., 0.], dtype=float32),\n 'cpd:C01103': array([0., 0., 0., ..., 0., 0., 0.], dtype=float32),\n 'cpd:C19858': array([0., 0., 0., ..., 0., 0., 0.], dtype=float32),\n 'cpd:C00268': array([0., 1., 0., ..., 0., 0., 0.], dtype=float32),\n 'cpd:C05267': array([0., 1., 0., ..., 0., 0., 0.], dtype=float32),\n 'cpd:C17333': array([0., 1., 0., ..., 0., 0., 0.], dtype=float32),\n 'cpd:C00283': array([0., 0., 0., ..., 0., 0., 0.], dtype=float32),\n 'cpd:C01036': array([0., 0., 0., ..., 0., 0., 0.], dtype=float32),\n 'cpd:C05643': array([0., 0., 0., ..., 0., 0., 0.], dtype=float32),\n 'cpd:C01013': array([0., 0., 0., ..., 0., 0., 0.], dtype=float32),\n 'cpd:C00942': array([0., 0., 0., ..., 0., 0., 1.], dtype=float32),\n 'cpd:C00534': array([0., 0., 0., ..., 0., 0., 0.], dtype=float32),\n 'cpd:C00636': array([0., 0., 0., ..., 0., 0., 0.], dtype=float32),\n 'cpd:C14782': array([0., 1., 0., ..., 0., 0., 0.], dtype=float32),\n 'cpd:C05297': array([0., 0., 0., ..., 0., 0., 0.], dtype=float32),\n 'cpd:C05583': array([0., 1., 0., ..., 0., 0., 0.], dtype=float32),\n 'cpd:C04598': array([0., 1., 0., ..., 0., 0., 0.], dtype=float32),\n 'cpd:C00250': array([0., 0., 0., ..., 0., 0., 0.], dtype=float32),\n 'cpd:C05770': array([0., 0., 0., ..., 0., 0., 0.], dtype=float32),\n 'cpd:C05439': array([0., 1., 0., ..., 0., 0., 0.], dtype=float32),\n 'cpd:C01211': array([0., 1., 0., ..., 0., 0., 0.], dtype=float32),\n 'cpd:C02305': array([0., 0., 0., ..., 0., 0., 0.], dtype=float32),\n 'cpd:C05444': array([0., 1., 0., ..., 0., 0., 0.], dtype=float32),\n 'cpd:C03827': array([0., 1., 0., ..., 0., 0., 0.], dtype=float32),\n 'cpd:C00829': array([0., 0., 0., ..., 0., 0., 0.], dtype=float32),\n 'cpd:C00127': array([1., 1., 0., ..., 0., 0., 0.], dtype=float32),\n 'cpd:C01921': array([0., 1., 0., ..., 0., 0., 0.], dtype=float32),\n 'cpd:C05726': array([0., 1., 0., ..., 0., 0., 0.], dtype=float32),\n 'cpd:C02430': array([0., 1., 0., ..., 1., 0., 0.], dtype=float32),\n 'cpd:C04554': array([0., 1., 0., ..., 0., 0., 0.], dtype=float32),\n 'cpd:C05290': array([0., 0., 0., ..., 0., 0., 0.], dtype=float32),\n 'cpd:C05584': array([0., 1., 0., ..., 0., 0., 0.], dtype=float32),\n 'cpd:C00051': array([0., 1., 0., ..., 0., 0., 0.], dtype=float32),\n 'cpd:C07643': array([0., 0., 0., ..., 0., 0., 0.], dtype=float32),\n 'cpd:C16660': array([0., 0., 0., ..., 0., 0., 0.], dtype=float32),\n 'cpd:C05758': array([0., 0., 0., ..., 0., 0., 0.], dtype=float32),\n 'cpd:C22160': array([0., 0., 0., ..., 0., 0., 0.], dtype=float32),\n 'cpd:C04640': array([0., 0., 0., ..., 0., 0., 0.], dtype=float32),\n 'cpd:C00762': array([0., 0., 0., ..., 0., 0., 0.], dtype=float32),\n 'cpd:C05750': array([0., 0., 0., ..., 0., 0., 0.], dtype=float32),\n 'cpd:C05223': array([0., 0., 0., ..., 0., 0., 0.], dtype=float32),\n 'cpd:C00450': array([0., 0., 0., ..., 0., 0., 0.], dtype=float32),\n 'cpd:C00029': array([0., 0., 0., ..., 0., 0., 0.], dtype=float32),\n 'cpd:C04633': array([0., 1., 0., ..., 0., 0., 0.], dtype=float32),\n 'cpd:C00459': array([0., 0., 0., ..., 0., 0., 0.], dtype=float32),\n 'cpd:C19561': array([0., 0., 0., ..., 0., 0., 0.], dtype=float32),\n 'cpd:C17339': array([0., 1., 0., ..., 0., 0., 0.], dtype=float32),\n 'cpd:C08276': array([0., 0., 0., ..., 0., 0., 0.], dtype=float32),\n 'cpd:C04409': array([0., 0., 0., ..., 0., 0., 0.], dtype=float32),\n 'cpd:C00398': array([0., 0., 0., ..., 0., 0., 0.], dtype=float32),\n 'cpd:C05447': array([0., 1., 0., ..., 0., 0., 0.], dtype=float32),\n 'cpd:C15782': array([0., 1., 0., ..., 0., 0., 0.], dtype=float32),\n 'cpd:C04477': array([1., 0., 0., ..., 0., 0., 0.], dtype=float32),\n 'cpd:C01419': array([0., 1., 0., ..., 0., 0., 0.], dtype=float32),\n 'cpd:C21106': array([0., 1., 0., ..., 0., 0., 0.], dtype=float32),\n 'cpd:C05840': array([0., 0., 0., ..., 0., 0., 0.], dtype=float32),\n 'cpd:C16553': array([0., 0., 0., ..., 0., 0., 0.], dtype=float32),\n 'cpd:C18044': array([0., 0., 0., ..., 0., 0., 0.], dtype=float32),\n 'cpd:C00792': array([0., 1., 0., ..., 0., 0., 0.], dtype=float32),\n 'cpd:C14868': array([0., 1., 0., ..., 0., 0., 0.], dtype=float32),\n 'cpd:C00189': array([0., 0., 0., ..., 0., 0., 0.], dtype=float32),\n 'cpd:C16756': array([0., 0., 0., ..., 0., 0., 0.], dtype=float32),\n 'cpd:C05938': array([0., 1., 0., ..., 0., 0., 0.], dtype=float32),\n 'cpd:C20239': array([0., 0., 0., ..., 0., 0., 0.], dtype=float32),\n 'cpd:C00158': array([0., 0., 0., ..., 0., 0., 0.], dtype=float32),\n 'cpd:C12248': array([0., 0., 0., ..., 0., 0., 0.], dtype=float32),\n 'cpd:C18129': array([0., 1., 0., ..., 0., 0., 0.], dtype=float32),\n 'cpd:C03108': array([0., 1., 0., ..., 0., 0., 0.], dtype=float32),\n 'cpd:C18872': array([0., 0., 0., ..., 0., 0., 0.], dtype=float32),\n 'cpd:C00152': array([0., 1., 0., ..., 0., 0., 0.], dtype=float32),\n 'cpd:C02835': array([0., 0., 0., ..., 0., 0., 0.], dtype=float32),\n 'cpd:C05475': array([0., 0., 0., ..., 0., 0., 0.], dtype=float32),\n 'cpd:C03939': array([0., 0., 0., ..., 0., 0., 0.], dtype=float32),\n 'cpd:C03794': array([0., 1., 0., ..., 0., 0., 0.], dtype=float32),\n 'cpd:C00630': array([0., 1., 0., ..., 0., 0., 0.], dtype=float32),\n 'cpd:C00605': array([0., 1., 0., ..., 0., 0., 0.], dtype=float32),\n 'cpd:C15980': array([0., 1., 0., ..., 0., 0., 0.], dtype=float32),\n 'cpd:C21015': array([0., 1., 0., ..., 0., 0., 0.], dtype=float32),\n 'cpd:C01330': array([0., 0., 0., ..., 0., 0., 0.], dtype=float32),\n 'cpd:C05512': array([0., 0., 0., ..., 0., 0., 0.], dtype=float32),\n 'cpd:C00184': array([0., 0., 0., ..., 0., 0., 0.], dtype=float32),\n 'cpd:C05465': array([0., 1., 0., ..., 0., 0., 0.], dtype=float32),\n 'cpd:C18040': array([0., 0., 0., ..., 0., 0., 0.], dtype=float32),\n 'cpd:C16453': array([0., 0., 0., ..., 0., 0., 0.], dtype=float32),\n 'cpd:C00137': array([0., 0., 0., ..., 0., 0., 0.], dtype=float32),\n 'cpd:C19595': array([0., 0., 0., ..., 0., 0., 0.], dtype=float32),\n 'cpd:C00016': array([0., 1., 0., ..., 0., 0., 0.], dtype=float32),\n 'cpd:C05823': array([0., 1., 0., ..., 0., 0., 0.], dtype=float32),\n 'cpd:C11221': array([1., 1., 0., ..., 0., 0., 0.], dtype=float32),\n 'cpd:C05259': array([0., 1., 0., ..., 0., 0., 0.], dtype=float32),\n 'cpd:C05959': array([0., 1., 0., ..., 0., 0., 0.], dtype=float32),\n 'cpd:C00128': array([0., 1., 0., ..., 0., 0., 0.], dtype=float32),\n 'cpd:C06427': array([0., 0., 0., ..., 0., 0., 0.], dtype=float32),\n 'cpd:C06241': array([0., 1., 0., ..., 0., 0., 0.], dtype=float32),\n 'cpd:C05787': array([0., 0., 0., ..., 0., 0., 0.], dtype=float32),\n 'cpd:C00429': array([0., 0., 0., ..., 0., 0., 0.], dtype=float32),\n 'cpd:C02191': array([0., 0., 0., ..., 0., 0., 0.], dtype=float32),\n 'cpd:C06213': array([0., 0., 0., ..., 0., 0., 0.], dtype=float32),\n 'cpd:C22112': array([0., 1., 0., ..., 0., 0., 0.], dtype=float32),\n 'cpd:C00131': array([0., 0., 0., ..., 0., 0., 0.], dtype=float32),\n 'cpd:C05500': array([0., 1., 0., ..., 0., 0., 0.], dtype=float32),\n 'cpd:C05340': array([0., 1., 0., ..., 0., 0., 0.], dtype=float32),\n 'cpd:C01301': array([0., 1., 0., ..., 0., 0., 0.], dtype=float32),\n 'cpd:C01243': array([1., 0., 0., ..., 0., 0., 0.], dtype=float32),\n 'cpd:C00166': array([0., 0., 0., ..., 0., 0., 0.], dtype=float32),\n 'cpd:C02350': array([0., 0., 0., ..., 0., 0., 0.], dtype=float32),\n 'cpd:C00208': array([0., 0., 0., ..., 0., 0., 0.], dtype=float32),\n 'cpd:C00601': array([0., 0., 0., ..., 0., 0., 0.], dtype=float32),\n 'cpd:C17938': array([0., 0., 0., ..., 0., 0., 0.], dtype=float32),\n 'cpd:C03227': array([0., 1., 0., ..., 0., 0., 1.], dtype=float32),\n 'cpd:C03740': array([0., 1., 0., ..., 0., 0., 0.], dtype=float32),\n 'cpd:C00213': array([0., 0., 0., ..., 1., 0., 0.], dtype=float32),\n 'cpd:C06113': array([0., 1., 0., ..., 0., 0., 0.], dtype=float32),\n 'cpd:C16634': array([0., 0., 0., ..., 0., 0., 0.], dtype=float32),\n 'cpd:C01490': array([0., 0., 0., ..., 0., 0., 0.], dtype=float32),\n 'cpd:C14863': array([0., 1., 0., ..., 0., 0., 0.], dtype=float32),\n 'cpd:C00306': array([0., 1., 0., ..., 0., 0., 0.], dtype=float32),\n 'cpd:C16587': array([0., 1., 0., ..., 0., 0., 0.], dtype=float32),\n 'cpd:C18902': array([0., 0., 0., ..., 0., 0., 0.], dtype=float32),\n 'cpd:C05594': array([0., 1., 0., ..., 0., 0., 0.], dtype=float32),\n 'cpd:C00025': array([0., 1., 0., ..., 0., 0., 0.], dtype=float32),\n 'cpd:C00258': array([0., 1., 0., ..., 0., 0., 0.], dtype=float32),\n 'cpd:C11508': array([0., 1., 0., ..., 0., 1., 0.], dtype=float32),\n 'cpd:C04730': array([0., 1., 0., ..., 0., 0., 0.], dtype=float32),\n 'cpd:C05859': array([0., 0., 0., ..., 0., 0., 0.], dtype=float32),\n 'cpd:C00504': array([0., 1., 0., ..., 0., 0., 0.], dtype=float32),\n 'cpd:C14814': array([0., 1., 0., ..., 0., 0., 0.], dtype=float32),\n 'cpd:C00074': array([0., 0., 0., ..., 0., 1., 0.], dtype=float32),\n 'cpd:C03366': array([0., 1., 0., ..., 0., 0., 0.], dtype=float32),\n 'cpd:C00151': array([0., 1., 0., ..., 0., 0., 0.], dtype=float32),\n 'cpd:C14800': array([0., 0., 0., ..., 0., 0., 0.], dtype=float32),\n 'cpd:C05272': array([0., 1., 0., ..., 0., 0., 0.], dtype=float32),\n 'cpd:C00195': array([0., 1., 0., ..., 0., 0., 0.], dtype=float32),\n 'cpd:C00417': array([0., 0., 0., ..., 0., 0., 0.], dtype=float32),\n 'cpd:C15781': array([0., 1., 0., ..., 0., 1., 0.], dtype=float32),\n 'cpd:C03232': array([0., 0., 0., ..., 0., 0., 0.], dtype=float32),\n 'cpd:C16680': array([0., 0., 0., ..., 0., 0., 0.], dtype=float32),\n 'cpd:C00683': array([0., 1., 0., ..., 0., 0., 0.], dtype=float32),\n 'cpd:C00141': array([0., 1., 0., ..., 0., 0., 0.], dtype=float32),\n 'cpd:C01260': array([0., 0., 0., ..., 0., 0., 0.], dtype=float32),\n 'cpd:C00751': array([0., 0., 0., ..., 0., 0., 0.], dtype=float32),\n 'cpd:C12144': array([0., 1., 0., ..., 0., 0., 0.], dtype=float32),\n 'cpd:C14826': array([0., 0., 0., ..., 0., 0., 0.], dtype=float32),\n 'cpd:C14749': array([0., 1., 0., ..., 0., 0., 0.], dtype=float32),\n 'cpd:C05350': array([0., 0., 0., ..., 0., 0., 0.], dtype=float32),\n 'cpd:C05285': array([0., 0., 0., ..., 0., 0., 0.], dtype=float32),\n 'cpd:C05639': array([0., 0., 0., ..., 0., 0., 0.], dtype=float32),\n 'cpd:C05455': array([0., 1., 0., ..., 0., 0., 0.], dtype=float32),\n 'cpd:C00794': array([0., 1., 0., ..., 0., 0., 0.], dtype=float32),\n 'cpd:C03511': array([0., 1., 0., ..., 0., 0., 0.], dtype=float32),\n 'cpd:C00179': array([0., 0., 0., ..., 0., 0., 0.], dtype=float32),\n 'cpd:C00065': array([0., 1., 0., ..., 0., 0., 0.], dtype=float32),\n 'cpd:C06506': array([1., 0., 0., ..., 0., 0., 0.], dtype=float32),\n 'cpd:C00921': array([0., 0., 0., ..., 0., 0., 0.], dtype=float32),\n 'cpd:C06459': array([0., 0., 0., ..., 0., 0., 0.], dtype=float32),\n 'cpd:C02987': array([0., 1., 0., ..., 0., 0., 0.], dtype=float32),\n 'cpd:C01137': array([0., 0., 0., ..., 0., 0., 0.], dtype=float32),\n 'cpd:C03771': array([0., 0., 0., ..., 0., 0., 0.], dtype=float32),\n 'cpd:C00357': array([0., 0., 0., ..., 0., 0., 0.], dtype=float32),\n 'cpd:C16338': array([0., 1., 0., ..., 0., 0., 0.], dtype=float32),\n 'cpd:C01097': array([0., 0., 0., ..., 0., 0., 0.], dtype=float32),\n 'cpd:C01598': array([0., 0., 0., ..., 0., 0., 0.], dtype=float32),\n 'cpd:C00881': array([0., 0., 0., ..., 0., 0., 0.], dtype=float32),\n 'cpd:C04618': array([0., 1., 0., ..., 0., 0., 0.], dtype=float32),\n 'cpd:C00535': array([0., 0., 0., ..., 0., 0., 0.], dtype=float32),\n 'cpd:C00965': array([0., 0., 0., ..., 0., 0., 0.], dtype=float32),\n 'cpd:C01724': array([0., 1., 0., ..., 0., 0., 0.], dtype=float32),\n 'cpd:C00721': array([0., 0., 0., ..., 0., 0., 0.], dtype=float32),\n 'cpd:C22136': array([0., 1., 0., ..., 0., 0., 0.], dtype=float32),\n 'cpd:C21486': array([0., 0., 0., ..., 0., 0., 0.], dtype=float32),\n 'cpd:C17335': array([0., 1., 0., ..., 0., 0., 0.], dtype=float32),\n 'cpd:C05466': array([0., 1., 0., ..., 0., 0., 0.], dtype=float32),\n 'cpd:C20879': array([0., 1., 0., ..., 0., 0., 0.], dtype=float32),\n 'cpd:C00280': array([0., 0., 0., ..., 0., 0., 0.], dtype=float32),\n 'cpd:C01165': array([0., 1., 0., ..., 0., 0., 0.], dtype=float32),\n 'cpd:C18043': array([0., 1., 0., ..., 0., 0., 0.], dtype=float32),\n 'cpd:C06196': array([0., 0., 0., ..., 0., 0., 0.], dtype=float32),\n 'cpd:C14819': array([0., 0., 0., ..., 0., 0., 1.], dtype=float32),\n 'cpd:C00305': array([0., 0., 0., ..., 0., 0., 0.], dtype=float32),\n 'cpd:C00440': array([0., 1., 0., ..., 0., 0., 0.], dtype=float32),\n 'cpd:C01962': array([0., 1., 0., ..., 0., 0., 0.], dtype=float32),\n 'cpd:C20120': array([0., 1., 0., ..., 0., 0., 0.], dtype=float32),\n 'cpd:C03021': array([0., 1., 0., ..., 0., 0., 0.], dtype=float32),\n 'cpd:C14772': array([0., 1., 0., ..., 0., 0., 0.], dtype=float32),\n 'cpd:C03692': array([0., 1., 0., ..., 0., 0., 0.], dtype=float32),\n 'cpd:C16661': array([0., 1., 0., ..., 0., 0., 0.], dtype=float32),\n 'cpd:C21860': array([0., 0., 0., ..., 0., 0., 0.], dtype=float32),\n 'cpd:C05122': array([0., 1., 0., ..., 0., 0., 0.], dtype=float32),\n 'cpd:C00103': array([0., 0., 0., ..., 0., 0., 0.], dtype=float32),\n 'cpd:C05673': array([0., 0., 0., ..., 0., 0., 0.], dtype=float32),\n 'cpd:C01595': array([0., 0., 0., ..., 0., 0., 0.], dtype=float32),\n 'cpd:C00238': array([0., 0., 0., ..., 0., 0., 0.], dtype=float32),\n 'cpd:C00156': array([0., 0., 0., ..., 0., 0., 0.], dtype=float32),\n 'cpd:C04688': array([0., 1., 0., ..., 0., 0., 0.], dtype=float32),\n 'cpd:C16596': array([0., 0., 0., ..., 0., 0., 0.], dtype=float32),\n 'cpd:C01124': array([0., 0., 0., ..., 0., 0., 0.], dtype=float32),\n 'cpd:C16332': array([0., 1., 0., ..., 0., 0., 0.], dtype=float32),\n 'cpd:C04884': array([0., 1., 0., ..., 0., 0., 0.], dtype=float32),\n 'cpd:C05276': array([0., 1., 0., ..., 0., 0., 0.], dtype=float32),\n 'cpd:C00349': array([0., 1., 0., ..., 0., 0., 0.], dtype=float32),\n 'cpd:C18239': array([0., 0., 0., ..., 0., 0., 1.], dtype=float32),\n 'cpd:C00365': array([0., 0., 0., ..., 0., 0., 0.], dtype=float32),\n 'cpd:C02059': array([0., 1., 0., ..., 0., 0., 0.], dtype=float32),\n 'cpd:C00387': array([0., 0., 0., ..., 0., 0., 0.], dtype=float32),\n 'cpd:C14861': array([0., 1., 0., ..., 0., 0., 0.], dtype=float32),\n 'cpd:C06205': array([0., 0., 0., ..., 0., 0., 0.], dtype=float32),\n 'cpd:C16651': array([0., 1., 0., ..., 0., 0., 0.], dtype=float32),\n 'cpd:C00135': array([0., 1., 0., ..., 0., 0., 0.], dtype=float32),\n 'cpd:C00988': array([0., 0., 0., ..., 0., 0., 0.], dtype=float32),\n 'cpd:C00695': array([0., 1., 0., ..., 0., 0., 0.], dtype=float32),\n 'cpd:C00129': array([0., 0., 0., ..., 0., 1., 0.], dtype=float32),\n 'cpd:C05467': array([0., 1., 0., ..., 0., 0., 0.], dtype=float32),\n 'cpd:C02714': array([0., 0., 0., ..., 0., 0., 0.], dtype=float32),\n 'cpd:C05635': array([0., 0., 0., ..., 0., 0., 0.], dtype=float32),\n 'cpd:C05951': array([0., 1., 0., ..., 0., 0., 0.], dtype=float32),\n 'cpd:C01204': array([0., 0., 0., ..., 0., 0., 0.], dtype=float32),\n 'cpd:C00937': array([0., 1., 0., ..., 0., 0., 0.], dtype=float32),\n 'cpd:C19673': array([0., 0., 0., ..., 0., 0., 0.], dtype=float32),\n 'cpd:C04376': array([0., 0., 0., ..., 0., 0., 0.], dtype=float32),\n 'cpd:C07535': array([0., 0., 0., ..., 0., 0., 0.], dtype=float32),\n 'cpd:C01019': array([0., 0., 0., ..., 0., 0., 0.], dtype=float32),\n 'cpd:C00099': array([0., 0., 0., ..., 0., 0., 0.], dtype=float32),\n 'cpd:C00606': array([0., 1., 0., ..., 0., 0., 0.], dtype=float32),\n 'cpd:C03205': array([0., 0., 0., ..., 0., 0., 0.], dtype=float32),\n 'cpd:C03221': array([0., 1., 0., ..., 0., 0., 0.], dtype=float32),\n 'cpd:C00052': array([0., 0., 0., ..., 0., 0., 0.], dtype=float32),\n 'dr:D00842': array([0., 0., 0., ..., 0., 0., 0.], dtype=float32),\n 'cpd:C01134': array([0., 1., 0., ..., 0., 0., 0.], dtype=float32),\n 'cpd:C03758': array([0., 0., 0., ..., 0., 0., 0.], dtype=float32),\n 'cpd:C05489': array([0., 0., 0., ..., 0., 0., 0.], dtype=float32),\n 'cpd:C00341': array([0., 0., 0., ..., 0., 0., 0.], dtype=float32),\n 'cpd:C01345': array([0., 0., 0., ..., 0., 0., 0.], dtype=float32),\n 'cpd:C01190': array([0., 1., 0., ..., 0., 0., 0.], dtype=float32),\n 'cpd:C05645': array([0., 0., 0., ..., 0., 0., 1.], dtype=float32),\n 'cpd:C06124': array([0., 1., 0., ..., 0., 0., 0.], dtype=float32),\n 'cpd:C13856': array([0., 1., 0., ..., 0., 0., 0.], dtype=float32),\n 'cpd:C15613': array([0., 1., 0., ..., 0., 0., 0.], dtype=float32),\n 'cpd:C16328': array([0., 1., 0., ..., 0., 0., 0.], dtype=float32),\n 'cpd:C02110': array([0., 0., 0., ..., 0., 0., 0.], dtype=float32),\n 'cpd:C05404': array([0., 0., 0., ..., 0., 0., 0.], dtype=float32),\n 'cpd:C00940': array([0., 0., 0., ..., 0., 0., 0.], dtype=float32),\n 'cpd:C00084': array([0., 0., 0., ..., 0., 0., 0.], dtype=float32),\n 'cpd:C00183': array([0., 1., 0., ..., 0., 1., 0.], dtype=float32),\n 'cpd:C00499': array([0., 1., 0., ..., 0., 0., 0.], dtype=float32),\n 'cpd:C00418': array([0., 0., 0., ..., 0., 0., 0.], dtype=float32),\n 'cpd:C04257': array([0., 0., 0., ..., 0., 0., 0.], dtype=float32),\n 'cpd:C22500': array([0., 0., 0., ..., 0., 0., 0.], dtype=float32),\n 'cpd:C01159': array([0., 1., 0., ..., 0., 0., 0.], dtype=float32),\n 'cpd:C16641': array([0., 0., 1., ..., 0., 0., 0.], dtype=float32),\n 'cpd:C00408': array([0., 0., 0., ..., 0., 0., 0.], dtype=float32),\n 'cpd:C05757': array([0., 1., 0., ..., 0., 0., 0.], dtype=float32),\n 'cpd:C11376': array([0., 0., 0., ..., 0., 0., 0.], dtype=float32),\n 'cpd:C00346': array([0., 0., 0., ..., 0., 0., 0.], dtype=float32),\n 'cpd:C15977': array([0., 1., 0., ..., 0., 0., 0.], dtype=float32),\n 'cpd:C00362': array([0., 0., 0., ..., 0., 0., 0.], dtype=float32),\n 'cpd:C01060': array([0., 1., 0., ..., 0., 0., 0.], dtype=float32),\n 'cpd:C18042': array([0., 1., 0., ..., 0., 0., 0.], dtype=float32),\n 'cpd:C03546': array([0., 0., 0., ..., 0., 0., 0.], dtype=float32),\n 'cpd:C05636': array([0., 0., 0., ..., 0., 0., 1.], dtype=float32),\n 'cpd:C02076': array([0., 0., 0., ..., 0., 0., 0.], dtype=float32),\n 'cpd:C00165': array([0., 1., 0., ..., 0., 0., 0.], dtype=float32),\n 'cpd:C00401': array([0., 0., 0., ..., 0., 0., 0.], dtype=float32),\n 'cpd:C01284': array([1., 0., 0., ..., 0., 0., 0.], dtype=float32),\n 'cpd:C00014': array([0., 0., 0., ..., 0., 0., 0.], dtype=float32),\n 'cpd:C16331': array([0., 1., 0., ..., 0., 0., 0.], dtype=float32),\n 'cpd:C00121': array([0., 0., 0., ..., 0., 0., 0.], dtype=float32),\n 'cpd:C05453': array([0., 1., 0., ..., 0., 0., 0.], dtype=float32),\n 'cpd:C04043': array([0., 0., 0., ..., 0., 0., 0.], dtype=float32),\n 'cpd:C00800': array([0., 1., 0., ..., 0., 0., 0.], dtype=float32),\n 'cpd:C00515': array([0., 1., 0., ..., 0., 0., 0.], dtype=float32),\n 'cpd:C00951': array([0., 0., 0., ..., 0., 0., 0.], dtype=float32),\n 'cpd:C00110': array([0., 1., 0., ..., 0., 0., 0.], dtype=float32),\n 'cpd:C17336': array([0., 1., 0., ..., 0., 0., 0.], dtype=float32),\n 'cpd:C00047': array([0., 1., 0., ..., 0., 0., 0.], dtype=float32),\n 'cpd:C02702': array([0., 0., 0., ..., 0., 0., 0.], dtype=float32),\n 'cpd:C04555': array([0., 0., 0., ..., 0., 0., 0.], dtype=float32),\n 'cpd:C01780': array([0., 0., 0., ..., 0., 0., 0.], dtype=float32),\n 'cpd:C11557': array([0., 1., 0., ..., 0., 0., 0.], dtype=float32),\n 'cpd:C00647': array([0., 0., 0., ..., 0., 0., 0.], dtype=float32),\n 'cpd:C07047': array([0., 0., 0., ..., 0., 0., 0.], dtype=float32),\n 'cpd:C21310': array([0., 0., 0., ..., 0., 0., 0.], dtype=float32),\n 'cpd:C00500': array([0., 0., 0., ..., 0., 0., 0.], dtype=float32),\n 'cpd:C00355': array([0., 1., 0., ..., 0., 0., 0.], dtype=float32),\n 'cpd:C00164': array([0., 0., 0., ..., 0., 0., 0.], dtype=float32),\n 'cpd:C00106': array([0., 0., 0., ..., 0., 0., 0.], dtype=float32),\n 'cpd:C05302': array([0., 0., 0., ..., 0., 0., 0.], dtype=float32),\n 'cpd:C06508': array([1., 1., 0., ..., 0., 0., 0.], dtype=float32),\n 'cpd:C03451': array([0., 1., 0., ..., 0., 0., 0.], dtype=float32),\n 'cpd:C16365': array([0., 0., 0., ..., 0., 0., 0.], dtype=float32),\n 'cpd:C01944': array([0., 1., 0., ..., 0., 0., 0.], dtype=float32),\n 'cpd:C22467': array([0., 1., 0., ..., 0., 0., 0.], dtype=float32),\n 'cpd:C05768': array([0., 0., 0., ..., 0., 0., 0.], dtype=float32),\n 'cpd:C03845': array([0., 1., 0., ..., 0., 0., 0.], dtype=float32),\n 'cpd:C03069': array([0., 1., 0., ..., 0., 0., 0.], dtype=float32),\n 'cpd:C03691': array([0., 1., 0., ..., 0., 0., 0.], dtype=float32),\n 'cpd:C00698': array([0., 0., 0., ..., 0., 0., 0.], dtype=float32),\n 'dr:D00358': array([0., 0., 0., ..., 0., 0., 0.], dtype=float32),\n 'cpd:C04438': array([0., 1., 0., ..., 0., 0., 0.], dtype=float32),\n 'cpd:C00588': array([0., 0., 0., ..., 0., 0., 0.], dtype=float32),\n 'cpd:C14825': array([0., 0., 0., ..., 0., 0., 0.], dtype=float32),\n 'cpd:C02163': array([0., 1., 0., ..., 0., 0., 0.], dtype=float32),\n 'cpd:C11583': array([0., 1., 0., ..., 0., 0., 0.], dtype=float32),\n 'cpd:C03405': array([0., 1., 0., ..., 0., 0., 0.], dtype=float32),\n 'cpd:C13713': array([0., 0., 0., ..., 0., 0., 0.], dtype=float32),\n 'cpd:C16560': array([0., 0., 0., ..., 0., 0., 0.], dtype=float32),\n 'cpd:C00096': array([0., 0., 0., ..., 0., 0., 0.], dtype=float32),\n 'cpd:C17554': array([0., 0., 0., ..., 0., 0., 0.], dtype=float32),\n 'cpd:C19566': array([0., 1., 0., ..., 0., 0., 0.], dtype=float32),\n 'cpd:C01164': array([0., 1., 0., ..., 0., 0., 0.], dtype=float32),\n 'cpd:C05275': array([0., 1., 0., ..., 0., 0., 0.], dtype=float32),\n 'cpd:C00555': array([0., 0., 0., ..., 0., 0., 0.], dtype=float32),\n 'cpd:C11906': array([0., 0., 0., ..., 0., 0., 0.], dtype=float32),\n 'cpd:C05589': array([0., 1., 0., ..., 0., 0., 0.], dtype=float32),\n 'cpd:C05300': array([0., 0., 0., ..., 0., 0., 0.], dtype=float32),\n 'cpd:C01794': array([0., 1., 0., ..., 0., 0., 0.], dtype=float32),\n 'cpd:C05261': array([0., 1., 0., ..., 0., 0., 0.], dtype=float32),\n 'cpd:C05703': array([0., 0., 0., ..., 0., 0., 0.], dtype=float32),\n 'cpd:C14845': array([0., 0., 0., ..., 0., 0., 0.], dtype=float32),\n 'cpd:C05460': array([0., 1., 0., ..., 0., 0., 0.], dtype=float32),\n 'cpd:C03406': array([0., 1., 0., ..., 0., 0., 0.], dtype=float32),\n 'cpd:C08821': array([0., 1., 0., ..., 0., 0., 0.], dtype=float32),\n 'cpd:C00078': array([0., 1., 0., ..., 0., 0., 0.], dtype=float32),\n 'cpd:C00506': array([0., 1., 0., ..., 0., 0., 0.], dtype=float32),\n 'cpd:C05841': array([0., 0., 0., ..., 0., 0., 0.], dtype=float32),\n 'cpd:C00483': array([0., 0., 0., ..., 0., 0., 0.], dtype=float32),\n 'cpd:C00674': array([0., 0., 0., ..., 0., 0., 0.], dtype=float32),\n 'cpd:C00473': array([0., 0., 0., ..., 0., 0., 0.], dtype=float32),\n 'cpd:C01898': array([0., 0., 0., ..., 0., 0., 0.], dtype=float32),\n 'cpd:C00642': array([0., 0., 0., ..., 0., 0., 0.], dtype=float32),\n 'cpd:C21748': array([0., 0., 0., ..., 0., 0., 0.], dtype=float32),\n 'cpd:C01346': array([0., 0., 0., ..., 0., 0., 0.], dtype=float32),\n 'cpd:C01179': array([0., 0., 0., ..., 0., 0., 0.], dtype=float32),\n 'cpd:C00026': array([0., 0., 0., ..., 0., 0., 0.], dtype=float32),\n 'cpd:C01094': array([0., 0., 0., ..., 0., 0., 0.], dtype=float32),\n 'cpd:C05488': array([0., 0., 0., ..., 0., 0., 0.], dtype=float32),\n 'cpd:C02588': array([0., 0., 0., ..., 0., 0., 0.], dtype=float32),\n 'cpd:C02220': array([0., 0., 0., ..., 0., 0., 0.], dtype=float32),\n 'cpd:C04756': array([0., 1., 0., ..., 0., 0., 0.], dtype=float32),\n 'cpd:C05981': array([1., 1., 0., ..., 0., 0., 0.], dtype=float32),\n 'cpd:C21750': array([0., 0., 0., ..., 0., 0., 0.], dtype=float32),\n 'cpd:C14839': array([0., 0., 0., ..., 0., 0., 0.], dtype=float32),\n 'cpd:C00022': array([0., 0., 0., ..., 0., 0., 0.], dtype=float32),\n 'cpd:C02170': array([0., 1., 0., ..., 0., 0., 0.], dtype=float32),\n 'cpd:C00486': array([0., 0., 0., ..., 0., 0., 0.], dtype=float32),\n 'cpd:C19489': array([0., 0., 0., ..., 0., 0., 0.], dtype=float32),\n 'cpd:C01290': array([0., 1., 0., ..., 0., 0., 0.], dtype=float32),\n 'cpd:C05402': array([0., 0., 0., ..., 0., 0., 0.], dtype=float32),\n 'cpd:C05270': array([0., 1., 0., ..., 0., 0., 0.], dtype=float32),\n 'cpd:C00031': array([0., 0., 0., ..., 0., 0., 0.], dtype=float32),\n 'cpd:C07712': array([0., 1., 0., ..., 0., 0., 0.], dtype=float32),\n 'cpd:C05576': array([0., 1., 0., ..., 0., 0., 0.], dtype=float32),\n 'cpd:C00094': array([0., 0., 0., ..., 0., 0., 0.], dtype=float32),\n 'cpd:C03824': array([0., 0., 0., ..., 0., 0., 0.], dtype=float32),\n 'cpd:C05634': array([0., 0., 0., ..., 0., 0., 0.], dtype=float32),\n 'cpd:C14857': array([0., 0., 0., ..., 0., 0., 0.], dtype=float32),\n 'cpd:C14866': array([0., 0., 0., ..., 0., 0., 0.], dtype=float32),\n 'dr:D04716': array([0., 1., 0., ..., 0., 0., 0.], dtype=float32),\n 'cpd:C14859': array([0., 0., 0., ..., 0., 0., 0.], dtype=float32),\n 'cpd:C07054': array([0., 0., 0., ..., 0., 0., 0.], dtype=float32),\n 'cpd:C02075': array([0., 0., 0., ..., 0., 0., 0.], dtype=float32),\n 'cpd:C00035': array([0., 0., 0., ..., 0., 0., 0.], dtype=float32),\n 'cpd:C02960': array([0., 1., 0., ..., 0., 0., 0.], dtype=float32),\n 'cpd:C05676': array([0., 1., 0., ..., 0., 0., 0.], dtype=float32),\n 'cpd:C00008': array([0., 0., 0., ..., 0., 0., 0.], dtype=float32),\n 'cpd:C16561': array([0., 0., 0., ..., 0., 0., 0.], dtype=float32),\n 'cpd:C05172': array([0., 0., 0., ..., 0., 0., 0.], dtype=float32),\n 'cpd:C21016': array([0., 1., 0., ..., 0., 0., 0.], dtype=float32),\n 'cpd:C11736': array([0., 0., 0., ..., 0., 0., 0.], dtype=float32),\n 'cpd:C05382': array([0., 1., 0., ..., 0., 0., 0.], dtype=float32),\n 'cpd:C04506': array([0., 1., 0., ..., 0., 0., 0.], dtype=float32),\n 'cpd:C00116': array([0., 1., 0., ..., 0., 0., 0.], dtype=float32),\n 'cpd:C20878': array([0., 1., 0., ..., 0., 0., 0.], dtype=float32),\n 'cpd:C19563': array([0., 0., 0., ..., 0., 0., 0.], dtype=float32),\n 'cpd:C11554': array([1., 1., 0., ..., 0., 0., 0.], dtype=float32),\n 'cpd:C00264': array([0., 1., 0., ..., 0., 0., 0.], dtype=float32),\n 'cpd:C00819': array([0., 1., 0., ..., 0., 0., 0.], dtype=float32),\n 'cpd:C20825': array([0., 1., 0., ..., 0., 0., 0.], dtype=float32),\n 'cpd:C00877': array([0., 1., 0., ..., 0., 0., 0.], dtype=float32),\n 'cpd:C00909': array([0., 0., 0., ..., 0., 0., 0.], dtype=float32),\n 'cpd:C05108': array([0., 1., 0., ..., 0., 0., 0.], dtype=float32),\n 'cpd:C05379': array([0., 1., 0., ..., 0., 0., 0.], dtype=float32),\n 'cpd:C14874': array([0., 1., 0., ..., 0., 1., 0.], dtype=float32),\n 'cpd:C00081': array([0., 0., 0., ..., 0., 0., 0.], dtype=float32),\n 'cpd:C15645': array([0., 1., 0., ..., 0., 0., 0.], dtype=float32),\n 'cpd:C05381': array([0., 1., 0., ..., 0., 0., 0.], dtype=float32),\n 'cpd:C00267': array([0., 0., 0., ..., 0., 0., 0.], dtype=float32),\n 'cpd:C00010': array([0., 1., 0., ..., 0., 0., 0.], dtype=float32),\n 'cpd:C00143': array([0., 1., 0., ..., 0., 0., 0.], dtype=float32),\n 'cpd:C07649': array([0., 0., 0., ..., 0., 0., 0.], dtype=float32),\n 'cpd:C00330': array([0., 0., 0., ..., 0., 0., 0.], dtype=float32),\n 'cpd:C02237': array([0., 0., 0., ..., 0., 0., 0.], dtype=float32),\n 'cpd:C01107': array([0., 0., 0., ..., 0., 0., 0.], dtype=float32),\n 'dr:D00536': array([0., 1., 0., ..., 0., 0., 0.], dtype=float32),\n 'cpd:C05546': array([0., 1., 0., ..., 0., 0., 0.], dtype=float32),\n 'cpd:C05125': array([0., 1., 0., ..., 0., 0., 0.], dtype=float32),\n 'cpd:C01228': array([0., 0., 0., ..., 0., 0., 0.], dtype=float32),\n 'cpd:C00570': array([0., 0., 0., ..., 0., 0., 0.], dtype=float32),\n 'cpd:C14855': array([0., 1., 0., ..., 0., 0., 0.], dtype=float32),\n 'cpd:C15978': array([0., 1., 0., ..., 0., 0., 0.], dtype=float32),\n 'cpd:C04062': array([0., 0., 0., ..., 0., 0., 0.], dtype=float32),\n 'cpd:C16565': array([0., 0., 0., ..., 0., 0., 0.], dtype=float32),\n 'cpd:C00048': array([0., 0., 0., ..., 0., 0., 0.], dtype=float32),\n 'cpd:C02362': array([0., 0., 0., ..., 0., 0., 0.], dtype=float32),\n 'cpd:C05552': array([0., 1., 0., ..., 0., 0., 0.], dtype=float32),\n 'cpd:C15783': array([0., 1., 0., ..., 0., 0., 0.], dtype=float32),\n 'cpd:C04520': array([1., 0., 0., ..., 0., 0., 0.], dtype=float32),\n 'cpd:C00006': array([0., 0., 0., ..., 0., 0., 0.], dtype=float32),\n 'cpd:C20265': array([0., 0., 0., ..., 0., 0., 0.], dtype=float32),\n 'cpd:C00199': array([0., 1., 0., ..., 0., 0., 0.], dtype=float32),\n 'cpd:C05921': array([0., 0., 0., ..., 0., 0., 0.], dtype=float32),\n 'cpd:C00206': array([0., 0., 0., ..., 0., 0., 0.], dtype=float32),\n 'cpd:C02985': array([0., 0., 0., ..., 0., 0., 0.], dtype=float32),\n 'cpd:C14848': array([0., 1., 0., ..., 0., 0., 0.], dtype=float32),\n 'dr:D08233': array([0., 0., 0., ..., 0., 0., 0.], dtype=float32),\n 'cpd:C15614': array([0., 1., 0., ..., 0., 0., 0.], dtype=float32),\n 'cpd:C05774': array([1., 1., 0., ..., 0., 0., 0.], dtype=float32),\n 'cpd:C00197': array([0., 1., 0., ..., 0., 0., 0.], dtype=float32),\n 'cpd:C00059': array([0., 0., 0., ..., 0., 0., 0.], dtype=float32),\n 'cpd:C05638': array([0., 0., 0., ..., 0., 0., 0.], dtype=float32),\n 'cpd:C00109': array([0., 0., 0., ..., 0., 0., 0.], dtype=float32),\n 'cpd:C00785': array([0., 0., 0., ..., 0., 0., 0.], dtype=float32),\n 'cpd:C11039': array([0., 0., 0., ..., 0., 0., 0.], dtype=float32),\n 'cpd:C00344': array([0., 1., 0., ..., 0., 0., 0.], dtype=float32),\n 'cpd:C22443': array([0., 0., 0., ..., 0., 0., 0.], dtype=float32),\n 'cpd:C00315': array([0., 0., 0., ..., 0., 0., 0.], dtype=float32),\n 'cpd:C01879': array([0., 0., 0., ..., 0., 0., 0.], dtype=float32),\n 'cpd:C00232': array([0., 0., 0., ..., 0., 0., 0.], dtype=float32),\n 'cpd:C14864': array([0., 1., 0., ..., 0., 0., 0.], dtype=float32),\n 'cpd:C17432': array([0., 0., 0., ..., 0., 0., 0.], dtype=float32),\n 'cpd:C02094': array([0., 0., 0., ..., 0., 0., 0.], dtype=float32),\n 'cpd:C06174': array([0., 0., 0., ..., 0., 0., 0.], dtype=float32),\n 'cpd:C05139': array([0., 0., 0., ..., 0., 0., 0.], dtype=float32),\n 'cpd:C00203': array([0., 0., 0., ..., 0., 0., 0.], dtype=float32),\n 'cpd:C05437': array([0., 1., 0., ..., 0., 0., 0.], dtype=float32),\n 'cpd:C05451': array([0., 1., 0., ..., 0., 0., 0.], dtype=float32),\n 'cpd:C01935': array([0., 0., 0., ..., 0., 0., 0.], dtype=float32),\n 'cpd:C01312': array([0., 1., 0., ..., 0., 0., 0.], dtype=float32),\n 'cpd:C00352': array([0., 0., 0., ..., 0., 0., 0.], dtype=float32),\n 'cpd:C05399': array([0., 1., 0., ..., 0., 0., 0.], dtype=float32),\n 'cpd:C02642': array([0., 0., 0., ..., 0., 0., 0.], dtype=float32),\n 'cpd:C00123': array([0., 1., 0., ..., 0., 0., 0.], dtype=float32),\n 'cpd:C14818': array([0., 0., 0., ..., 0., 0., 0.], dtype=float32),\n 'cpd:C05299': array([0., 0., 0., ..., 0., 0., 0.], dtype=float32),\n 'cpd:C05127': array([0., 0., 0., ..., 0., 0., 0.], dtype=float32),\n 'cpd:C14847': array([0., 1., 0., ..., 0., 0., 0.], dtype=float32),\n 'cpd:C00831': array([0., 1., 0., ..., 0., 0., 0.], dtype=float32),\n 'cpd:C03838': array([0., 0., 0., ..., 0., 0., 0.], dtype=float32),\n 'cpd:C02514': array([0., 0., 0., ..., 0., 0., 0.], dtype=float32),\n 'cpd:C00621': array([0., 1., 0., ..., 0., 0., 0.], dtype=float32),\n 'cpd:C05109': array([0., 1., 0., ..., 0., 0., 0.], dtype=float32),\n 'cpd:C22159': array([0., 0., 0., ..., 0., 0., 0.], dtype=float32),\n 'cpd:C00167': array([0., 0., 0., ..., 0., 0., 0.], dtype=float32),\n 'cpd:C16546': array([0., 0., 1., ..., 0., 0., 0.], dtype=float32),\n 'cpd:C06054': array([0., 1., 0., ..., 0., 0., 0.], dtype=float32),\n 'cpd:C03765': array([0., 0., 0., ..., 0., 0., 0.], dtype=float32),\n 'cpd:C00149': array([0., 1., 0., ..., 0., 0., 0.], dtype=float32),\n 'cpd:C00864': array([0., 1., 0., ..., 0., 0., 0.], dtype=float32),\n 'cpd:C05984': array([0., 1., 0., ..., 0., 0., 0.], dtype=float32),\n 'cpd:C00745': array([0., 0., 0., ..., 0., 0., 0.], dtype=float32),\n 'cpd:C00750': array([0., 0., 0., ..., 0., 0., 0.], dtype=float32),\n 'cpd:C16609': array([0., 0., 0., ..., 0., 0., 0.], dtype=float32),\n 'cpd:C00524': array([0., 1., 0., ..., 0., 0., 0.], dtype=float32),\n 'cpd:C01888': array([0., 0., 0., ..., 0., 0., 0.], dtype=float32),\n 'cpd:C01189': array([0., 1., 0., ..., 0., 0., 0.], dtype=float32),\n 'cpd:C01044': array([0., 1., 0., ..., 0., 0., 0.], dtype=float32),\n 'cpd:C00191': array([0., 0., 0., ..., 0., 0., 0.], dtype=float32),\n 'cpd:C00032': array([0., 0., 0., ..., 0., 0., 0.], dtype=float32),\n 'cpd:C02356': array([0., 1., 0., ..., 0., 0., 0.], dtype=float32),\n 'cpd:C00978': array([0., 0., 0., ..., 0., 0., 0.], dtype=float32),\n 'cpd:C00173': array([0., 0., 0., ..., 0., 0., 0.], dtype=float32),\n 'cpd:C07501': array([0., 1., 0., ..., 0., 0., 0.], dtype=float32),\n 'cpd:C16620': array([0., 0., 0., ..., 0., 0., 0.], dtype=float32),\n 'cpd:C00168': array([0., 0., 0., ..., 0., 0., 0.], dtype=float32),\n 'cpd:C05675': array([0., 1., 0., ..., 0., 0., 0.], dtype=float32),\n 'cpd:C00092': array([0., 0., 0., ..., 0., 0., 0.], dtype=float32),\n 'cpd:C04722': array([0., 1., 0., ..., 0., 0., 0.], dtype=float32),\n 'cpd:C02679': array([0., 0., 0., ..., 0., 0., 0.], dtype=float32),\n 'cpd:C05107': array([0., 1., 0., ..., 0., 0., 0.], dtype=float32),\n 'cpd:C15812': array([0., 1., 0., ..., 0., 0., 0.], dtype=float32),\n 'cpd:C12650': array([0., 0., 0., ..., 0., 0., 0.], dtype=float32),\n 'cpd:C12739': array([0., 0., 0., ..., 0., 0., 0.], dtype=float32),\n 'cpd:C05528': array([0., 0., 0., ..., 0., 0., 0.], dtype=float32),\n 'cpd:C16612': array([0., 0., 0., ..., 0., 0., 0.], dtype=float32),\n 'cpd:C02135': array([0., 1., 0., ..., 0., 0., 0.], dtype=float32),\n 'cpd:C02670': array([0., 1., 0., ..., 0., 0., 0.], dtype=float32),\n 'cpd:C05469': array([0., 0., 0., ..., 0., 0., 0.], dtype=float32),\n 'cpd:C14786': array([0., 0., 0., ..., 0., 0., 0.], dtype=float32),\n 'cpd:C00693': array([0., 0., 0., ..., 0., 0., 0.], dtype=float32),\n 'cpd:C19559': array([0., 0., 0., ..., 0., 0., 0.], dtype=float32),\n 'cpd:C00178': array([0., 0., 0., ..., 0., 0., 0.], dtype=float32),\n 'dr:D00346': array([0., 0., 0., ..., 0., 0., 0.], dtype=float32),\n 'cpd:C14774': array([0., 1., 0., ..., 0., 0., 0.], dtype=float32),\n 'cpd:C00329': array([0., 0., 0., ..., 0., 0., 0.], dtype=float32),\n 'cpd:C16548': array([0., 0., 1., ..., 0., 0., 0.], dtype=float32),\n 'cpd:C01205': array([0., 1., 0., ..., 0., 0., 0.], dtype=float32),\n 'cpd:C16545': array([0., 0., 1., ..., 0., 0., 0.], dtype=float32),\n 'cpd:C01245': array([1., 0., 0., ..., 0., 0., 0.], dtype=float32),\n 'cpd:C00312': array([0., 0., 0., ..., 0., 0., 0.], dtype=float32),\n 'cpd:C03492': array([0., 1., 0., ..., 0., 0., 0.], dtype=float32),\n 'cpd:C00671': array([0., 1., 0., ..., 0., 0., 0.], dtype=float32),\n 'cpd:C02763': array([0., 0., 0., ..., 0., 0., 0.], dtype=float32),\n 'cpd:C05698': array([0., 1., 0., ..., 0., 0., 0.], dtype=float32),\n 'cpd:C17346': array([0., 1., 0., ..., 0., 0., 0.], dtype=float32),\n 'cpd:C05471': array([0., 0., 0., ..., 0., 0., 0.], dtype=float32),\n 'cpd:C03461': array([0., 0., 0., ..., 0., 0., 0.], dtype=float32),\n 'cpd:C01081': array([0., 0., 0., ..., 0., 0., 0.], dtype=float32),\n 'cpd:C00070': array([0., 0., 0., ..., 0., 0., 0.], dtype=float32),\n 'cpd:C04242': array([0., 0., 0., ..., 0., 0., 0.], dtype=float32),\n 'cpd:C05487': array([0., 0., 0., ..., 0., 0., 0.], dtype=float32),\n 'cpd:C22441': array([0., 0., 0., ..., 0., 0., 0.], dtype=float32),\n 'cpd:C01672': array([0., 0., 0., ..., 0., 0., 0.], dtype=float32),\n 'cpd:C21754': array([0., 0., 0., ..., 0., 0., 0.], dtype=float32),\n 'cpd:C00299': array([0., 0., 0., ..., 0., 0., 0.], dtype=float32),\n 'cpd:C11038': array([0., 0., 0., ..., 0., 0., 0.], dtype=float32),\n 'cpd:C00073': array([0., 1., 0., ..., 1., 0., 0.], dtype=float32),\n 'cpd:C11522': array([0., 1., 0., ..., 0., 1., 0.], dtype=float32),\n 'cpd:C09332': array([0., 1., 0., ..., 0., 0., 0.], dtype=float32),\n 'cpd:C05140': array([0., 0., 0., ..., 0., 0., 0.], dtype=float32),\n 'cpd:C15647': array([0., 1., 0., ..., 0., 0., 0.], dtype=float32),\n 'cpd:C00024': array([0., 1., 0., ..., 0., 0., 0.], dtype=float32),\n 'cpd:C00235': array([0., 0., 0., ..., 0., 0., 0.], dtype=float32),\n 'cpd:C14787': array([0., 0., 0., ..., 0., 0., 0.], dtype=float32),\n 'cpd:C20640': array([0., 0., 0., ..., 0., 0., 1.], dtype=float32),\n 'cpd:C00350': array([0., 1., 0., ..., 0., 0., 0.], dtype=float32),\n 'cpd:C05504': array([0., 0., 0., ..., 0., 0., 0.], dtype=float32),\n 'cpd:C04042': array([0., 1., 0., ..., 0., 0., 0.], dtype=float32),\n 'cpd:C05760': array([0., 0., 0., ..., 0., 0., 0.], dtype=float32),\n 'cpd:C04635': array([0., 1., 0., ..., 0., 0., 0.], dtype=float32),\n 'cpd:C00360': array([0., 0., 0., ..., 0., 0., 0.], dtype=float32),\n 'cpd:C00416': array([0., 1., 0., ..., 0., 0., 0.], dtype=float32),\n 'cpd:C14556': array([0., 0., 0., ..., 0., 0., 0.], dtype=float32),\n 'cpd:C05580': array([0., 1., 0., ..., 0., 0., 0.], dtype=float32),\n 'cpd:C02047': array([0., 1., 0., ..., 0., 0., 0.], dtype=float32),\n 'cpd:C03541': array([0., 1., 0., ..., 0., 0., 0.], dtype=float32),\n 'cpd:C05588': array([0., 1., 0., ..., 0., 0., 0.], dtype=float32),\n 'cpd:C19585': array([0., 0., 0., ..., 0., 0., 0.], dtype=float32),\n 'cpd:C04620': array([0., 1., 0., ..., 0., 0., 0.], dtype=float32),\n 'cpd:C00082': array([0., 1., 0., ..., 0., 0., 0.], dtype=float32),\n 'cpd:C05847': array([0., 0., 0., ..., 0., 0., 0.], dtype=float32),\n 'cpd:C14812': array([0., 1., 0., ..., 0., 0., 0.], dtype=float32),\n 'cpd:C16615': array([0., 0., 0., ..., 0., 0., 0.], dtype=float32),\n 'cpd:C19588': array([0., 0., 0., ..., 0., 0., 0.], dtype=float32),\n 'cpd:C01235': array([0., 0., 0., ..., 0., 0., 0.], dtype=float32),\n 'cpd:C16254': array([0., 1., 0., ..., 0., 0., 0.], dtype=float32),\n 'cpd:C06135': array([0., 1., 0., ..., 0., 0., 0.], dtype=float32),\n 'cpd:C05301': array([0., 0., 0., ..., 0., 0., 0.], dtype=float32),\n 'cpd:C16618': array([0., 0., 0., ..., 0., 0., 0.], dtype=float32),\n 'cpd:C20877': array([0., 1., 0., ..., 0., 0., 0.], dtype=float32),\n 'cpd:C04517': array([0., 1., 0., ..., 0., 0., 0.], dtype=float32),\n 'cpd:C05791': array([0., 0., 0., ..., 0., 0., 0.], dtype=float32),\n 'dr:D00195': array([0., 0., 0., ..., 0., 0., 0.], dtype=float32),\n 'cpd:C11132': array([0., 0., 0., ..., 0., 0., 0.], dtype=float32),\n 'cpd:C01516': array([0., 0., 0., ..., 0., 0., 0.], dtype=float32),\n 'cpd:C16844': array([0., 0., 0., ..., 0., 0., 0.], dtype=float32),\n 'cpd:C02282': array([0., 1., 0., ..., 0., 0., 0.], dtype=float32),\n 'cpd:C00415': array([0., 1., 0., ..., 0., 0., 0.], dtype=float32),\n 'cpd:C05293': array([0., 0., 0., ..., 0., 0., 0.], dtype=float32),\n 'cpd:C00279': array([0., 1., 0., ..., 0., 0., 0.], dtype=float32),\n 'cpd:C03512': array([0., 1., 0., ..., 0., 0., 0.], dtype=float32),\n 'cpd:C01242': array([0., 1., 0., ..., 0., 0., 0.], dtype=float32),\n 'cpd:C00002': array([0., 0., 0., ..., 0., 0., 0.], dtype=float32),\n 'cpd:C05273': array([0., 1., 0., ..., 0., 0., 0.], dtype=float32),\n 'cpd:C15776': array([0., 1., 0., ..., 0., 1., 0.], dtype=float32),\n 'dr:D00584': array([0., 0., 0., ..., 0., 0., 0.], dtype=float32),\n 'cpd:C04352': array([0., 1., 0., ..., 0., 0., 0.], dtype=float32),\n 'cpd:C00620': array([0., 0., 0., ..., 0., 0., 0.], dtype=float32),\n 'cpd:C05998': array([0., 1., 0., ..., 0., 0., 0.], dtype=float32),\n 'cpd:C00270': array([0., 1., 0., ..., 0., 0., 0.], dtype=float32),\n ...}"
     },
     "execution_count": 27,
     "metadata": {},
     "output_type": "execute_result"
    }
   ],
   "source": [
    "mol_embeddings"
   ],
   "metadata": {
    "collapsed": false,
    "ExecuteTime": {
     "end_time": "2024-12-16T17:15:25.701805Z",
     "start_time": "2024-12-16T17:15:25.628283Z"
    }
   },
   "id": "c6c1fdc1502359b4",
   "execution_count": 27
  },
  {
   "cell_type": "code",
   "outputs": [
    {
     "data": {
      "text/plain": "{'up:Q09472': array([ 0.07514679,  0.05754357,  0.02730095, ...,  0.01029478,\n        -0.00694583,  0.00510776], dtype=float32),\n 'up:Q05940': array([ 0.03543108,  0.11163083,  0.06609377, ...,  0.00057277,\n        -0.00168417, -0.00779132], dtype=float32),\n 'up:Q8NFF5': array([ 0.03544585,  0.05745461,  0.06277175, ..., -0.02915345,\n         0.00568385,  0.05075936], dtype=float32),\n 'up:B3KXW6': array([ 0.00720328,  0.04428549,  0.025407  , ..., -0.02186162,\n        -0.05797382,  0.02092825], dtype=float32),\n 'up:P08697': array([-0.002179  ,  0.04799882,  0.05717658, ...,  0.00177752,\n        -0.01672771,  0.06153679], dtype=float32),\n 'up:P56750': array([ 0.00189529,  0.11344011,  0.02590067, ..., -0.00397826,\n         0.01495809, -0.03836733], dtype=float32),\n 'up:A8K8E4': array([-0.01210068,  0.06828921,  0.00862978, ...,  0.00124401,\n         0.00249301,  0.00844896], dtype=float32),\n 'up:Q6FI00': array([ 0.01111019,  0.0441544 , -0.01572975, ...,  0.00072912,\n        -0.06173321,  0.01923172], dtype=float32),\n 'up:O75843': array([0.01870523, 0.04524052, 0.0534337 , ..., 0.00707291, 0.03075044,\n        0.03749765], dtype=float32),\n 'up:V9HWB8': array([ 0.07793119,  0.10689893,  0.02149623, ...,  0.01875799,\n        -0.00498057,  0.02448395], dtype=float32),\n 'up:Q9H344': array([-0.04295587,  0.11063659,  0.0155244 , ...,  0.00931225,\n         0.0071891 ,  0.00372098], dtype=float32),\n 'up:O95298': array([ 0.04155701, -0.01625383,  0.0248802 , ..., -0.03558621,\n         0.06045104,  0.01805855], dtype=float32),\n 'up:V9HVZ4': array([ 0.01536994,  0.11299178,  0.00422223, ..., -0.01728777,\n        -0.00249507,  0.08431342], dtype=float32),\n 'up:B3KNA8': array([ 0.00490011,  0.01990633, -0.01156512, ...,  0.0362203 ,\n        -0.00633373,  0.03619817], dtype=float32),\n 'up:P03372': array([-0.00637862,  0.06487973,  0.01146935, ..., -0.0112873 ,\n        -0.05551734,  0.01848218], dtype=float32),\n 'up:A0A140VJC7': array([ 0.02224704,  0.02426244,  0.03019384, ...,  0.00227073,\n        -0.01940088,  0.00123473], dtype=float32),\n 'up:Q8NGJ7': array([-0.04601205,  0.10259704,  0.02795605, ...,  0.00733933,\n         0.01350702,  0.00571394], dtype=float32),\n 'up:A0A0S2Z3V2': array([-0.00839567,  0.00206771,  0.02983128, ...,  0.04325329,\n         0.06103371,  0.03641375], dtype=float32),\n 'up:Q07817': array([ 0.0312576 , -0.01689542,  0.00773005, ..., -0.07446852,\n         0.04583799,  0.02702242], dtype=float32),\n 'up:P53708': array([ 0.03032181,  0.09130868,  0.07070715, ...,  0.0070847 ,\n         0.01836935, -0.03671682], dtype=float32),\n 'up:Q96N76': array([ 0.04822005,  0.07542634,  0.05943077, ..., -0.01776506,\n         0.01690125,  0.04928803], dtype=float32),\n 'up:B2R8G6': array([ 0.035195  ,  0.04353164,  0.04051645, ..., -0.05802754,\n         0.0156867 ,  0.04893159], dtype=float32),\n 'up:A0A126GWD0': array([-0.04121183,  0.11047518,  0.04431486, ..., -0.04073661,\n         0.0100246 ,  0.00616823], dtype=float32),\n 'up:O75367': array([ 0.01503799,  0.06164839,  0.06573208, ..., -0.00247786,\n         0.00478545, -0.00952143], dtype=float32),\n 'up:Q13825': array([ 0.05975948,  0.04015561,  0.02632331, ..., -0.0004934 ,\n         0.05660852,  0.03682901], dtype=float32),\n 'up:B4E0D0': array([-0.05772096,  0.08361267,  0.00788347, ...,  0.0060858 ,\n         0.08701283,  0.06179762], dtype=float32),\n 'up:O00220': array([ 0.0262156 , -0.02303691,  0.07167827, ..., -0.01520519,\n         0.0817238 ,  0.0965272 ], dtype=float32),\n 'up:Q5T764': array([ 0.04884683, -0.01438343,  0.04471623, ..., -0.03655272,\n         0.04627575,  0.03209448], dtype=float32),\n 'up:V9HW50': array([ 0.00270859,  0.10640068,  0.03739002, ..., -0.01991577,\n         0.03490834, -0.01450617], dtype=float32),\n 'up:O60671': array([-0.0163744 ,  0.03006646, -0.00640211, ...,  0.03692303,\n         0.04213115,  0.01697604], dtype=float32),\n 'up:P20023': array([-0.00472276,  0.10892969,  0.08188462, ...,  0.01845561,\n         0.06305563,  0.02870981], dtype=float32),\n 'up:O43150': array([ 0.01132351,  0.04719346,  0.03775853, ...,  0.0046251 ,\n        -0.02512568,  0.00492833], dtype=float32),\n 'up:Q9NSB8': array([ 0.00768005, -0.0207714 ,  0.00343874, ..., -0.01653533,\n         0.00390492, -0.01707297], dtype=float32),\n 'up:A0A126GVZ6': array([-0.0488762 ,  0.11071779,  0.01568278, ..., -0.02261837,\n         0.01836676,  0.00813051], dtype=float32),\n 'up:O60391': array([-0.00332027,  0.04877594,  0.06184337, ..., -0.01921768,\n         0.00941198,  0.05575909], dtype=float32),\n 'up:Q9Y3D6': array([ 0.04805181,  0.07440528,  0.03264691, ..., -0.08018856,\n        -0.00935701,  0.03655092], dtype=float32),\n 'up:P19367': array([ 0.03971146,  0.12107887,  0.05354983, ...,  0.0490774 ,\n        -0.01469006, -0.02654967], dtype=float32),\n 'up:A0N0X8': array([ 0.01601462,  0.05485734, -0.01966275, ..., -0.02541682,\n        -0.01434653, -0.01126347], dtype=float32),\n 'up:P05177': array([ 0.01575883,  0.05615817, -0.00792428, ..., -0.02364929,\n        -0.02754041, -0.00316921], dtype=float32),\n 'up:Q9H492': array([0.02468038, 0.11322054, 0.04067285, ..., 0.0218275 , 0.01055584,\n        0.08767747], dtype=float32),\n 'up:Q13705': array([ 0.03615194,  0.0960914 ,  0.06046474, ..., -0.02757933,\n        -0.04376864,  0.00631678], dtype=float32),\n 'up:A8K8W7': array([ 0.04451922,  0.04880357,  0.09862014, ..., -0.04459781,\n         0.06081609,  0.01910163], dtype=float32),\n 'up:O14512': array([-0.00972761,  0.03001312,  0.05671296, ..., -0.0110137 ,\n        -0.01473944,  0.02842279], dtype=float32),\n 'up:A0A090N7W4': array([ 0.06130237,  0.13621378, -0.00276788, ..., -0.02823087,\n        -0.01663978, -0.00252473], dtype=float32),\n 'up:Q504Q3': array([ 0.02285592,  0.06752326,  0.02483998, ..., -0.05407524,\n        -0.03261241,  0.01360366], dtype=float32),\n 'up:A0A0S2Z4E6': array([ 0.05042338,  0.08781923,  0.03845527, ..., -0.04867646,\n         0.00202096,  0.03593418], dtype=float32),\n 'up:V9HW06': array([ 0.02638562,  0.07382914,  0.00951957, ..., -0.01598041,\n         0.03008486,  0.03635937], dtype=float32),\n 'up:P28223': array([ 0.0107986 ,  0.08331464,  0.03969007, ..., -0.00963419,\n        -0.01152157,  0.02103761], dtype=float32),\n 'up:Q03426': array([ 0.1036735 ,  0.05573627,  0.03559127, ..., -0.03495821,\n        -0.00707149, -0.0249044 ], dtype=float32),\n 'up:A6NIX2': array([-0.02117671,  0.02752287, -0.00474422, ..., -0.01138731,\n         0.00967301,  0.0674756 ], dtype=float32),\n 'up:Q53Y06': array([0.05264715, 0.05676856, 0.01248909, ..., 0.01624794, 0.00650396,\n        0.03651521], dtype=float32),\n 'up:Q99708': array([ 0.03432532, -0.04979349, -0.00720271, ...,  0.01343127,\n         0.04971705,  0.0325885 ], dtype=float32),\n 'up:Q13576': array([ 0.00764498,  0.00612234,  0.05644412, ...,  0.00961623,\n        -0.00125894,  0.01161042], dtype=float32),\n 'up:A8K571': array([ 0.02159274,  0.06968108,  0.01554145, ...,  0.01615717,\n        -0.01758775,  0.02249071], dtype=float32),\n 'up:Q9NZK7': array([ 0.01495643,  0.10140339,  0.01333132, ..., -0.05073608,\n        -0.08229866, -0.00525707], dtype=float32),\n 'up:Q8IWA4': array([ 0.01811659,  0.06095359,  0.02458769, ..., -0.01243193,\n        -0.01831777,  0.00216564], dtype=float32),\n 'up:P78543': array([-0.00433764,  0.01565978,  0.01269522, ..., -0.00279074,\n         0.00271796,  0.03952186], dtype=float32),\n 'up:Q53PC4': array([-0.02868164,  0.09788348,  0.04812491, ..., -0.00315106,\n        -0.00394237,  0.00461829], dtype=float32),\n 'up:Q13607': array([-0.06805707,  0.07422467,  0.03829588, ..., -0.0469479 ,\n         0.05010292,  0.0097359 ], dtype=float32),\n 'up:Q99500': array([-0.0071624 ,  0.06456484,  0.03017582, ...,  0.00914373,\n        -0.01681284,  0.01475615], dtype=float32),\n 'up:Q6P3U7': array([ 0.04381382,  0.08032143,  0.03581079, ..., -0.01110623,\n        -0.05424878,  0.00559764], dtype=float32),\n 'up:Q13478': array([ 0.00894031, -0.0066365 ,  0.02557386, ..., -0.00232864,\n         0.0482706 ,  0.02998424], dtype=float32),\n 'up:Q6PK81': array([-0.08022647,  0.04748331,  0.0312924 , ...,  0.00037924,\n         0.07233498,  0.07268526], dtype=float32),\n 'up:Q9NPC2': array([ 0.05974564,  0.13742684,  0.00711362, ...,  0.00289934,\n        -0.0447615 , -0.00596676], dtype=float32),\n 'up:X5D7F5': array([ 0.00832184,  0.06110409,  0.00925078, ...,  0.0447447 ,\n        -0.01406078,  0.00183239], dtype=float32),\n 'up:Q8NGX9': array([-0.08117352,  0.06970969,  0.01843193, ..., -0.04069779,\n         0.04389452,  0.02769275], dtype=float32),\n 'up:P27701': array([ 0.04569182,  0.11463851,  0.02581413, ..., -0.0509622 ,\n        -0.00605437, -0.00209521], dtype=float32),\n 'up:O95813': array([-0.01348887, -0.00484342,  0.02001401, ...,  0.01646283,\n         0.04673289,  0.03302679], dtype=float32),\n 'up:H6SG14': array([0.03531777, 0.03911943, 0.01426983, ..., 0.01593213, 0.00381812,\n        0.05973816], dtype=float32),\n 'up:A8ASI8': array([ 0.02540025, -0.04953473,  0.02625401, ...,  0.0303007 ,\n         0.00115115,  0.00583088], dtype=float32),\n 'up:P17612': array([ 0.07590144,  0.1132813 ,  0.00070185, ..., -0.00505083,\n        -0.00473708,  0.01881718], dtype=float32),\n 'up:O15553': array([-0.056462  ,  0.02142097,  0.10741679, ...,  0.00316424,\n         0.09097036,  0.0564255 ], dtype=float32),\n 'up:Q5STV3': array([-0.03524832,  0.0528755 ,  0.06822816, ..., -0.00673217,\n        -0.00902941,  0.06627814], dtype=float32),\n 'up:Q9UG63': array([ 0.04391869,  0.11780059,  0.01379908, ..., -0.01009794,\n        -0.01715424,  0.00408478], dtype=float32),\n 'up:P30536': array([ 0.05189696,  0.10521407,  0.0364277 , ..., -0.06342547,\n        -0.04108457,  0.08666151], dtype=float32),\n 'up:A0A126GWR0': array([-0.07362827,  0.08744279,  0.03679637, ..., -0.04500154,\n         0.0544513 ,  0.00983901], dtype=float32),\n 'up:A8K647': array([-0.04617938,  0.06976508,  0.0451358 , ..., -0.00120591,\n         0.02204894,  0.03125828], dtype=float32),\n 'up:Q96M32': array([ 0.01944241,  0.01034121,  0.06594247, ..., -0.05445855,\n         0.03633809,  0.00566939], dtype=float32),\n 'up:Q14353': array([ 0.02936475,  0.04101557,  0.03080178, ..., -0.06619418,\n         0.00830893,  0.01186483], dtype=float32),\n 'up:Q15067': array([ 0.06994029,  0.10741842,  0.00929805, ...,  0.01821443,\n        -0.0012324 ,  0.01564155], dtype=float32),\n 'up:Q7KZN9': array([ 0.07179213,  0.09472705, -0.01033944, ..., -0.08779494,\n         0.01800373,  0.0281099 ], dtype=float32),\n 'up:Q5VWC8': array([-0.00679717,  0.03726676, -0.00242447, ..., -0.00732608,\n         0.02048012,  0.07873379], dtype=float32),\n 'up:A0A024RCP6': array([-0.0269731 , -0.06407075,  0.06910487, ...,  0.03563572,\n         0.05562387,  0.12421329], dtype=float32),\n 'up:Q9Y216': array([ 0.01501035,  0.06379508,  0.02673499, ..., -0.00271442,\n        -0.01137803, -0.01520144], dtype=float32),\n 'up:P98196': array([ 0.02781509,  0.10832561,  0.04188608, ...,  0.01583049,\n        -0.01177941,  0.0144059 ], dtype=float32),\n 'up:I6L9H2': array([ 0.00857391,  0.04570308,  0.05933754, ..., -0.01199463,\n         0.00862572, -0.02484537], dtype=float32),\n 'up:Q546S1': array([-0.01295186,  0.07460842,  0.05711382, ..., -0.01503681,\n        -0.0296587 , -0.01535916], dtype=float32),\n 'up:P17787': array([ 0.01506771,  0.09188645,  0.00260312, ...,  0.02198068,\n        -0.02499307,  0.0212937 ], dtype=float32),\n 'up:A8K0T6': array([ 0.03085418, -0.05095449,  0.02600985, ..., -0.03406273,\n         0.09062349,  0.05497045], dtype=float32),\n 'up:Q7Z348': array([ 0.05256512,  0.13752839,  0.00512878, ...,  0.00396448,\n        -0.02638999, -0.03337862], dtype=float32),\n 'up:Q9UI32': array([ 0.02354244,  0.07473935,  0.04171488, ..., -0.01487374,\n        -0.00793967, -0.00792279], dtype=float32),\n 'up:Q13017': array([ 0.00765476, -0.02875995,  0.00512301, ..., -0.01302596,\n         0.03786403,  0.00924771], dtype=float32),\n 'up:P11274': array([ 0.0148034 ,  0.06027491,  0.04764188, ...,  0.01947708,\n        -0.04259146,  0.02423996], dtype=float32),\n 'up:E9KL48': array([0.08161294, 0.08755843, 0.03620533, ..., 0.01659524, 0.02901008,\n        0.03401771], dtype=float32),\n 'up:P36959': array([0.05993272, 0.08859918, 0.02794194, ..., 0.00659338, 0.00970368,\n        0.00069285], dtype=float32),\n 'up:P61586': array([ 0.08852746,  0.15990433,  0.02345132, ..., -0.05284022,\n        -0.00029875,  0.01380466], dtype=float32),\n 'up:V9HWC3': array([ 0.07701685,  0.12836836,  0.05133048, ..., -0.06045133,\n        -0.01566497,  0.01505635], dtype=float32),\n 'up:Q96BA8': array([ 0.0092718 , -0.0301649 ,  0.01613973, ..., -0.05562137,\n        -0.03559613,  0.04201371], dtype=float32),\n 'up:O00548': array([ 0.0043103 ,  0.06657284,  0.03257457, ..., -0.00801943,\n        -0.00710617,  0.01231503], dtype=float32),\n 'up:P05121': array([-0.01009021,  0.02780827,  0.03089626, ..., -0.00181515,\n         0.02463524,  0.07214047], dtype=float32),\n 'up:Q9NTN9': array([-0.00791714,  0.05112835,  0.03299255, ..., -0.00295068,\n         0.02866241,  0.02554399], dtype=float32),\n 'up:P26439': array([ 0.02098658,  0.02431087,  0.04848756, ..., -0.05809899,\n         0.00283494, -0.01281117], dtype=float32),\n 'up:P07099': array([ 0.04648411,  0.09274702,  0.03859466, ..., -0.09641408,\n         0.01031446,  0.01926801], dtype=float32),\n 'up:Q8NGU2': array([-0.06747906,  0.04966309,  0.01733418, ..., -0.02020193,\n         0.06377923,  0.02067475], dtype=float32),\n 'up:P52798': array([ 0.00244392,  0.04434313,  0.06064437, ..., -0.025483  ,\n         0.02303709,  0.04241999], dtype=float32),\n 'up:Q59H15': array([ 0.08372129,  0.04511901,  0.00066017, ..., -0.0152841 ,\n        -0.00788112,  0.03528765], dtype=float32),\n 'up:O00750': array([ 0.00263829,  0.04652661,  0.03780524, ...,  0.00475883,\n        -0.00747422, -0.00035449], dtype=float32),\n 'up:A0A384N669': array([ 0.0360727 ,  0.00517875,  0.02384926, ..., -0.01235871,\n         0.00239715,  0.02863311], dtype=float32),\n 'up:Q01130': array([ 0.05405869,  0.03050174,  0.02816175, ...,  0.00041256,\n         0.09279794, -0.01510087], dtype=float32),\n 'up:Q8WXB4': array([-0.07870689,  0.03421025,  0.01546207, ..., -0.00897789,\n         0.10467578,  0.08228681], dtype=float32),\n 'up:P63000': array([ 0.08439585,  0.20251556,  0.02253025, ..., -0.03665606,\n        -0.01304405,  0.00916523], dtype=float32),\n 'up:A8K596': array([ 0.04722672,  0.10954506,  0.07806773, ...,  0.01243615,\n        -0.02783068,  0.039138  ], dtype=float32),\n 'up:Q5KU18': array([-0.05364686,  0.06560278,  0.02340653, ..., -0.00097599,\n         0.00972804,  0.06687846], dtype=float32),\n 'up:A0A140VK76': array([0.04476404, 0.05476937, 0.00518084, ..., 0.00394581, 0.02115698,\n        0.02896205], dtype=float32),\n 'up:Q969P5': array([-0.00141724,  0.01329102,  0.01052933, ..., -0.01227201,\n        -0.05782811,  0.00615684], dtype=float32),\n 'up:Q96EN8': array([0.04224474, 0.08058048, 0.05967008, ..., 0.00436001, 0.00748673,\n        0.00085022], dtype=float32),\n 'up:Q15119': array([ 0.0581729 ,  0.05253432,  0.03725891, ...,  0.02084976,\n        -0.02744045, -0.01531186], dtype=float32),\n 'up:P10916': array([ 0.03313662,  0.09583778,  0.048172  , ..., -0.04757325,\n        -0.00068705,  0.06711827], dtype=float32),\n 'up:Q8NC26': array([-0.08589892, -0.04978497,  0.02364973, ..., -0.03552836,\n         0.08465778,  0.12525134], dtype=float32),\n 'up:Q7L2R6': array([-0.04958107,  0.08473391,  0.02410119, ..., -0.02137893,\n         0.06486789,  0.07349452], dtype=float32),\n 'up:P24752': array([0.03501274, 0.07333457, 0.00697631, ..., 0.00252815, 0.01769412,\n        0.00565383], dtype=float32),\n 'up:Q13547': array([ 0.08821775,  0.13071401,  0.0581242 , ..., -0.01843286,\n        -0.02283777,  0.0379623 ], dtype=float32),\n 'up:P17535': array([-0.01812504, -0.02111092, -0.02616967, ..., -0.0461438 ,\n        -0.00967932,  0.0462673 ], dtype=float32),\n 'up:Q9BXL6': array([-0.02997165, -0.03047886,  0.0286684 , ..., -0.00516215,\n         0.03437683,  0.05926073], dtype=float32),\n 'up:Q9HAZ2': array([ 0.02444423,  0.02834148,  0.04036779, ...,  0.0054528 ,\n        -0.01867479,  0.06440135], dtype=float32),\n 'up:Q96CS4': array([-0.08219869,  0.06129919,  0.04201253, ...,  0.00025372,\n         0.03696915,  0.04603842], dtype=float32),\n 'up:P51805': array([0.01982978, 0.09651127, 0.0709319 , ..., 0.01516899, 0.00295952,\n        0.00142616], dtype=float32),\n 'up:Q8TB92': array([ 0.07038212,  0.05793051,  0.00338881, ..., -0.02218322,\n        -0.00201186,  0.02203132], dtype=float32),\n 'up:O14950': array([ 0.03939129,  0.10295143,  0.04534035, ..., -0.05010478,\n         0.00235283,  0.08051408], dtype=float32),\n 'up:A0A024R1I3': array([ 0.02610376,  0.0593088 , -0.00508348, ..., -0.07611759,\n         0.02396411,  0.04309352], dtype=float32),\n 'up:Q14289': array([ 0.02395702,  0.03372978,  0.03436231, ...,  0.02408677,\n        -0.01185443, -0.00203916], dtype=float32),\n 'up:A4QPA9': array([ 0.07135489,  0.08722141,  0.03806022, ...,  0.01446893,\n        -0.00931285, -0.01049534], dtype=float32),\n 'up:Q9BTZ2': array([ 0.02967088,  0.01110104,  0.00737362, ..., -0.01553659,\n         0.01280937, -0.01745418], dtype=float32),\n 'up:P78536': array([ 0.02153965,  0.0160233 ,  0.02072412, ..., -0.00868603,\n         0.02084949, -0.00315632], dtype=float32),\n 'up:Q92922': array([ 0.03210986,  0.06083241,  0.05760987, ..., -0.01307696,\n        -0.01290689,  0.01543366], dtype=float32),\n 'up:Q8N141': array([-0.06728347,  0.09909318,  0.00678364, ...,  0.01446471,\n         0.0604095 ,  0.05144549], dtype=float32),\n 'up:Q8N684': array([-0.00788318, -0.01794386,  0.0362669 , ..., -0.0080675 ,\n         0.02867713, -0.00834954], dtype=float32),\n 'up:O60341': array([ 0.03531235,  0.05405603,  0.06794708, ..., -0.00275898,\n        -0.00350502,  0.00254694], dtype=float32),\n 'up:O15047': array([0.03070083, 0.00819205, 0.06915995, ..., 0.01720332, 0.01873964,\n        0.0130905 ], dtype=float32),\n 'up:Q68D60': array([-0.01042939, -0.04039425,  0.04030693, ..., -0.01530668,\n        -0.02145601,  0.01248988], dtype=float32),\n 'up:Q9BPX5': array([ 0.00564468, -0.01060696,  0.06750908, ..., -0.02150322,\n        -0.03771467,  0.04474093], dtype=float32),\n 'up:Q8NGF0': array([-0.04011384,  0.09065718,  0.02441933, ...,  0.01457909,\n         0.02538212,  0.02274697], dtype=float32),\n 'up:O95786': array([ 0.02392404, -0.013469  ,  0.03083406, ..., -0.00531536,\n         0.05369117, -0.003108  ], dtype=float32),\n 'up:P52209': array([ 0.06607292,  0.11590435,  0.00426375, ..., -0.02846103,\n        -0.00836789,  0.05638217], dtype=float32),\n 'up:P12755': array([-0.00479822, -0.01333354,  0.01961152, ...,  0.00351734,\n        -0.00866208,  0.01397291], dtype=float32),\n 'up:O95168': array([ 0.02329564, -0.03759849,  0.01787621, ..., -0.02475315,\n         0.04813408,  0.02698239], dtype=float32),\n 'up:J3KQV8': array([ 0.01033208,  0.05011261,  0.04986112, ...,  0.01316658,\n         0.00966672, -0.00483556], dtype=float32),\n 'up:B2R907': array([ 0.07487225,  0.05316057,  0.08936727, ..., -0.06595681,\n         0.07370257,  0.01007387], dtype=float32),\n 'up:H9NIL8': array([ 0.02539076,  0.09482998,  0.05547378, ..., -0.00305583,\n        -0.01527839, -0.01391132], dtype=float32),\n 'up:Q5VZM2': array([ 0.03994039,  0.07366426,  0.02860154, ..., -0.01223285,\n         0.00555211,  0.01336589], dtype=float32),\n 'up:Q32MC3': array([ 0.01892051,  0.06841046,  0.00736067, ...,  0.00481131,\n        -0.00081423, -0.00243307], dtype=float32),\n 'up:Q07890': array([-0.00121684,  0.05148807,  0.04595374, ...,  0.02039309,\n        -0.01764178,  0.01824486], dtype=float32),\n 'up:Q8NGQ5': array([-0.07722715,  0.06572637,  0.04636673, ..., -0.02578931,\n         0.05042475,  0.03565115], dtype=float32),\n 'up:P54619': array([ 0.02752228,  0.0861539 ,  0.05775811, ...,  0.04593933,\n        -0.00855898,  0.01190445], dtype=float32),\n 'up:Q6FGA0': array([ 0.0775663 , -0.02849374,  0.01636075, ...,  0.02277433,\n         0.04943307,  0.03112604], dtype=float32),\n 'up:P30153': array([ 0.06316327,  0.09981309,  0.01913471, ..., -0.0258862 ,\n         0.00954749,  0.07685087], dtype=float32),\n 'up:P28336': array([ 0.01234268,  0.09525634,  0.02881697, ..., -0.00738831,\n        -0.00953277,  0.01967173], dtype=float32),\n 'up:A0A384MDX3': array([-0.02794979,  0.09861495, -0.07055299, ...,  0.01974001,\n        -0.01702907, -0.03403861], dtype=float32),\n 'up:Q96SQ9': array([-0.00254286,  0.08465541,  0.00823571, ..., -0.01853484,\n        -0.02373647,  0.0002538 ], dtype=float32),\n 'up:Q8NGZ4': array([-0.04064812,  0.10804347,  0.03729987, ..., -0.0462137 ,\n         0.00965253,  0.00612449], dtype=float32),\n 'up:Q9UL59': array([-0.08485811,  0.04190241,  0.03587891, ..., -0.00401317,\n         0.09081519,  0.0743086 ], dtype=float32),\n 'up:Q53XM7': array([ 0.01388993,  0.0471434 ,  0.04269058, ..., -0.02075798,\n         0.01623715,  0.01111866], dtype=float32),\n 'up:Q15669': array([-0.02150695,  0.06305572, -0.03646222, ..., -0.05808081,\n         0.0519481 ,  0.01000105], dtype=float32),\n 'up:A0A384P5L6': array([ 0.03707653,  0.15337855,  0.04123295, ..., -0.00136187,\n         0.01551395,  0.03241782], dtype=float32),\n 'up:O75489': array([ 0.03500473,  0.02851368,  0.01124776, ...,  0.02332401,\n        -0.01488421,  0.06629267], dtype=float32),\n 'up:P23945': array([ 0.02148778,  0.06334724,  0.02961881, ...,  0.01100278,\n        -0.00526872,  0.00553646], dtype=float32),\n 'up:P68431': array([ 0.14113851,  0.18182212, -0.02822368, ..., -0.04627547,\n         0.0529151 ,  0.10482793], dtype=float32),\n 'up:Q9NXA8': array([ 0.09063873,  0.09879086,  0.0182531 , ..., -0.04098056,\n         0.01208242,  0.02036653], dtype=float32),\n 'up:Q15761': array([-0.01814106,  0.02802004, -0.00652539, ...,  0.00054205,\n         0.06928644,  0.02465341], dtype=float32),\n 'up:Q7L5L3': array([ 0.03914667,  0.02505084,  0.02606571, ..., -0.04632661,\n        -0.01563174,  0.05387858], dtype=float32),\n 'up:A0A024RBI1': array([ 0.04118136,  0.03865039,  0.04197626, ..., -0.02836127,\n         0.02191167,  0.00375096], dtype=float32),\n 'up:Q8TAS6': array([0.01823478, 0.03473027, 0.07390846, ..., 0.03580753, 0.04118066,\n        0.00806884], dtype=float32),\n 'up:Q6NUN9': array([-0.07380589, -0.0407571 ,  0.04524235, ..., -0.01136145,\n         0.00973651,  0.09609389], dtype=float32),\n 'up:B2RDZ2': array([ 0.03105379,  0.10652726,  0.06423828, ...,  0.01400869,\n        -0.03481537, -0.01013182], dtype=float32),\n 'up:P35414': array([-0.01161627,  0.06891092,  0.02698858, ...,  0.00052855,\n         0.01495894,  0.0246347 ], dtype=float32),\n 'up:A8K761': array([ 0.02077473, -0.00793197, -0.02394909, ...,  0.06353676,\n        -0.00861251,  0.08870529], dtype=float32),\n 'up:Q8NGH3': array([-0.05303532,  0.08377544,  0.03071061, ..., -0.03198917,\n         0.0428066 ,  0.00924191], dtype=float32),\n 'up:O75044': array([ 0.03614698,  0.06146432,  0.03511959, ...,  0.01344347,\n        -0.03252815,  0.01955427], dtype=float32),\n 'up:P36897': array([ 0.0502683 ,  0.11106588,  0.06315197, ..., -0.02477012,\n        -0.038169  , -0.00214255], dtype=float32),\n 'up:P48454': array([ 0.05122159,  0.11008435,  0.02169408, ...,  0.01791795,\n        -0.0289185 ,  0.01964139], dtype=float32),\n 'up:Q6URC4': array([0.01541475, 0.03460387, 0.05023757, ..., 0.01740833, 0.00417421,\n        0.01112177], dtype=float32),\n 'up:Q9BXA5': array([-0.03742797,  0.05074185,  0.01383775, ...,  0.0114937 ,\n         0.01987439,  0.02142652], dtype=float32),\n 'up:U5YWV7': array([ 0.07971611,  0.1746794 , -0.06184532, ..., -0.02350222,\n        -0.03970347,  0.0706523 ], dtype=float32),\n 'up:P53778': array([ 0.04590413,  0.09288441, -0.00488638, ..., -0.01702341,\n        -0.01237129,  0.01236891], dtype=float32),\n 'up:A0A7U3JVY7': array([ 0.00685067,  0.08766989,  0.08390643, ...,  0.01505742,\n        -0.03224782,  0.02149203], dtype=float32),\n 'up:Q8NGS4': array([-0.07615082,  0.07048778,  0.03739096, ..., -0.02577853,\n         0.04495534,  0.02095903], dtype=float32),\n 'up:Q8NGI3': array([-4.6838459e-02,  7.7790327e-02,  2.2979256e-02, ...,\n         2.4925113e-05,  2.0324592e-02,  2.9042164e-02], dtype=float32),\n 'up:Q8NGR8': array([-0.07207398,  0.09597464,  0.02217436, ..., -0.04714855,\n         0.03817555, -0.0025399 ], dtype=float32),\n 'up:Q6ZTQ3': array([-0.01497054,  0.00726147,  0.03141588, ...,  0.02225623,\n        -0.01627338,  0.01027086], dtype=float32),\n 'up:P04150': array([-0.00397458,  0.01792142,  0.00945229, ..., -0.03482043,\n        -0.03472618,  0.00984008], dtype=float32),\n 'up:P04798': array([ 0.01601462,  0.05485734, -0.01966275, ..., -0.02541682,\n        -0.01434653, -0.01126347], dtype=float32),\n 'up:Q8NGY6': array([-0.07750762,  0.07282777,  0.02230693, ..., -0.02904036,\n         0.05127384,  0.01484163], dtype=float32),\n 'up:Q96R48': array([-0.06738567,  0.10379256,  0.02449615, ..., -0.05387631,\n         0.0287315 ,  0.01705379], dtype=float32),\n 'up:A0A0U5J7Q1': array([-0.00751023, -0.02100859,  0.04322087, ..., -0.02248556,\n         0.02109407,  0.0617852 ], dtype=float32),\n 'up:F5CTF3': array([ 0.04097699,  0.08808392,  0.00303431, ..., -0.036028  ,\n         0.01616   ,  0.03973056], dtype=float32),\n 'up:A8K899': array([ 0.03021949,  0.04836475,  0.04102914, ...,  0.00405412,\n        -0.04662009, -0.01380562], dtype=float32),\n 'up:Q9NZZ3': array([ 0.03804743,  0.06339914,  0.00151022, ...,  0.00129212,\n        -0.03335642,  0.03197505], dtype=float32),\n 'up:P54756': array([ 0.05234737,  0.10313611,  0.04487407, ...,  0.0174308 ,\n        -0.02849774, -0.00140444], dtype=float32),\n 'up:Q8N163': array([-0.02507524, -0.02527042,  0.0452338 , ..., -0.00749423,\n         0.02383929,  0.02101687], dtype=float32),\n 'up:O96028': array([ 0.01344608,  0.08245672,  0.04037565, ...,  0.00457343,\n        -0.03069389, -0.00036895], dtype=float32),\n 'up:O60353': array([ 0.00273168,  0.04950086,  0.0376549 , ...,  0.00874812,\n         0.00791019, -0.00053431], dtype=float32),\n 'up:O60266': array([ 0.05867401,  0.06266656,  0.04265826, ...,  0.03484606,\n        -0.02534087, -0.00745649], dtype=float32),\n 'up:Q7Z5Q1': array([ 0.02639134,  0.09226876,  0.04891455, ..., -0.0187539 ,\n        -0.02845335,  0.00660461], dtype=float32),\n 'up:Q59FP8': array([ 0.03596983,  0.06406385,  0.02604341, ...,  0.02607437,\n        -0.02118202, -0.01160453], dtype=float32),\n 'up:Q3KNS6': array([-0.05322779,  0.05234162,  0.01410008, ...,  0.00889769,\n         0.06285354,  0.06199877], dtype=float32),\n 'up:P41587': array([ 0.01518956,  0.13360614,  0.04387809, ..., -0.00091789,\n        -0.03457332,  0.00620996], dtype=float32),\n 'up:Q9UHJ6': array([ 0.05809623,  0.05435449,  0.07641846, ..., -0.05650081,\n         0.01400083,  0.0164215 ], dtype=float32),\n 'up:Q8N142': array([ 0.04984315,  0.12490048,  0.04943486, ..., -0.00822768,\n         0.00481265,  0.03488019], dtype=float32),\n 'up:P10606': array([0.05776527, 0.06675968, 0.01253205, ..., 0.08013563, 0.02140924,\n        0.06766891], dtype=float32),\n 'up:Q13564': array([ 0.00234009,  0.04826759,  0.06028118, ..., -0.01395847,\n         0.02381503, -0.0093851 ], dtype=float32),\n 'up:Q9NQV7': array([ 0.01655781,  0.10025337,  0.06661395, ..., -0.04906556,\n         0.00882254,  0.05478611], dtype=float32),\n 'up:P38398': array([ 0.02836674, -0.07567798,  0.01652544, ..., -0.00534101,\n         0.01977501,  0.03299176], dtype=float32),\n 'up:Q4FZB7': array([ 0.01626109, -0.01565943,  0.00280723, ...,  0.01209809,\n         0.01665449,  0.00715937], dtype=float32),\n 'up:Q6E213': array([ 0.01989182,  0.06379795,  0.05502591, ...,  0.01422443,\n         0.050224  , -0.01108513], dtype=float32),\n 'up:Q6PIA1': array([ 0.06021051,  0.1491387 ,  0.04043816, ...,  0.04226935,\n        -0.04524827, -0.01849111], dtype=float32),\n 'up:X5DNV3': array([ 0.07547483,  0.11893742,  0.04222396, ..., -0.00200479,\n        -0.04814516,  0.01219445], dtype=float32),\n 'up:Q9UQ10': array([ 9.8088337e-03,  6.8217590e-02,  2.9323572e-02, ...,\n        -6.6303909e-02,  1.1925373e-02, -7.8697718e-05], dtype=float32),\n 'up:Q9BQS7': array([-4.7628800e-03,  1.1587041e-01,  4.1096922e-02, ...,\n        -9.3890922e-03,  8.0656214e-03, -2.3595834e-05], dtype=float32),\n 'up:Q99594': array([ 0.01925878,  0.08183374,  0.05528207, ...,  0.0076555 ,\n        -0.04675744, -0.00640007], dtype=float32),\n 'up:Q9Y617': array([ 0.04533272,  0.06012206,  0.03833971, ..., -0.05974356,\n         0.04239498,  0.02344532], dtype=float32),\n 'up:O14508': array([-0.02315247,  0.0300069 ,  0.05293184, ..., -0.0027769 ,\n        -0.05006712,  0.02832785], dtype=float32),\n 'up:Q8N8Z8': array([-0.07273293,  0.10113503,  0.02312347, ..., -0.01854423,\n         0.09882422,  0.09736887], dtype=float32),\n 'up:A0A1U9X8V5': array([-0.08973662,  0.00404713,  0.06629623, ..., -0.01535899,\n         0.02874992,  0.06434767], dtype=float32),\n 'up:A8K881': array([-0.0116498 ,  0.00642705,  0.05204859, ..., -0.03291845,\n         0.03888685,  0.03795688], dtype=float32),\n 'up:A0A090N8Y6': array([-0.00340923,  0.1102751 ,  0.03397084, ..., -0.00047408,\n        -0.0247706 ,  0.02199113], dtype=float32),\n 'up:Q9BUB5': array([ 0.0207572 ,  0.04924766,  0.03916266, ...,  0.00175095,\n        -0.01438082,  0.01525879], dtype=float32),\n 'up:Q60FE5': array([0.01642207, 0.07190113, 0.03232879, ..., 0.07624929, 0.06534079,\n        0.01454058], dtype=float32),\n 'up:F1T0L7': array([-0.02957828, -0.04644968,  0.02009933, ..., -0.0388312 ,\n         0.06748342,  0.0502292 ], dtype=float32),\n 'up:Q8WZA2': array([ 0.01229595,  0.07211364,  0.05397901, ...,  0.02375782,\n        -0.02484514,  0.02293739], dtype=float32),\n 'up:Q16478': array([ 0.04862003,  0.10029855,  0.0526256 , ..., -0.00897075,\n        -0.02042947,  0.01680397], dtype=float32),\n 'up:A6NN14': array([ 0.03288807,  0.16247824, -0.00571608, ...,  0.00630214,\n         0.0915935 ,  0.00444088], dtype=float32),\n 'up:A0A126GWP9': array([-0.02775869,  0.13516325,  0.03393687, ..., -0.0503494 ,\n        -0.00077716,  0.01591337], dtype=float32),\n 'up:Q14032': array([ 0.04680899,  0.07236091,  0.0625943 , ..., -0.07916352,\n         0.02883245, -0.02018772], dtype=float32),\n 'up:Q9Y264': array([-0.00107456,  0.01278226,  0.0249414 , ..., -0.02587806,\n         0.01090119,  0.03056018], dtype=float32),\n 'up:Q5SUL5': array([ 0.02520574,  0.14705929,  0.03482623, ..., -0.05386525,\n         0.03076728,  0.05019866], dtype=float32),\n 'up:Q8TF30': array([-0.00320951, -0.01028559,  0.04819893, ..., -0.00557026,\n         0.00982725,  0.03605444], dtype=float32),\n 'up:A0A8D9PH75': array([ 0.07761519,  0.13320595,  0.06111434, ..., -0.00039258,\n        -0.02714298,  0.00282953], dtype=float32),\n 'up:P43626': array([-0.01602693,  0.06311461,  0.0684001 , ...,  0.01867549,\n         0.00861268,  0.0666553 ], dtype=float32),\n 'up:A0A7U3JW18': array([-0.03691871,  0.07122863,  0.0649536 , ...,  0.02309089,\n        -0.0126204 ,  0.01500864], dtype=float32),\n 'up:B3KTG1': array([-0.06614418,  0.05420652,  0.02525599, ..., -0.00518962,\n         0.09798156,  0.06506605], dtype=float32),\n 'up:Q05516': array([ 0.01186496,  0.02428696,  0.02610227, ..., -0.0120615 ,\n        -0.02133428,  0.03374272], dtype=float32),\n 'up:Q8NH43': array([-0.05667912,  0.0950039 ,  0.03074424, ..., -0.02239395,\n         0.0221496 ,  0.00493105], dtype=float32),\n 'up:Q8IY33': array([-0.01758403, -0.02560843,  0.02230698, ...,  0.04016505,\n         0.03947107,  0.03385076], dtype=float32),\n 'up:A0A126GW73': array([-0.04454242,  0.12181588,  0.01189206, ..., -0.04079605,\n        -0.00867598,  0.0162323 ], dtype=float32),\n 'up:P24046': array([ 0.03846524,  0.09355967,  0.01165186, ...,  0.03966056,\n        -0.02682522,  0.01600693], dtype=float32),\n 'up:P07332': array([ 0.00155794,  0.05275401,  0.04304908, ..., -0.02450128,\n        -0.01801604,  0.0260831 ], dtype=float32),\n 'up:A0A126GVZ2': array([-0.06267394,  0.07197544,  0.03636066, ..., -0.03455383,\n         0.07391075,  0.02562151], dtype=float32),\n 'up:Q86SZ7': array([ 0.0260958 , -0.02518505,  0.01858744, ..., -0.01123567,\n         0.00191891,  0.00410731], dtype=float32),\n 'up:Q9NWM0': array([ 0.04071848,  0.05903113,  0.04656687, ..., -0.02004991,\n        -0.00325601,  0.0141494 ], dtype=float32),\n 'up:P41968': array([ 0.01364646,  0.09096996,  0.02063094, ...,  0.00822792,\n        -0.03125846,  0.01110872], dtype=float32),\n 'up:P13747': array([ 0.02195816,  0.12173581,  0.04780269, ..., -0.05206088,\n         0.04523246,  0.04368426], dtype=float32),\n 'up:Q13243': array([ 0.0157434 ,  0.03234619,  0.00879053, ...,  0.00577328,\n         0.07807703, -0.01373901], dtype=float32),\n 'up:A0A0S2Z3W7': array([ 0.08188058,  0.08824518,  0.04302815, ..., -0.06354631,\n        -0.03969353,  0.01253125], dtype=float32),\n 'up:Q13131': array([ 0.06337672,  0.08669364,  0.0165386 , ...,  0.007146  ,\n        -0.01505377,  0.0033057 ], dtype=float32),\n 'up:Q7Z3D6': array([ 0.00344191,  0.04281313,  0.07739504, ..., -0.06235265,\n         0.02652611,  0.02796348], dtype=float32),\n 'up:Q8NGY5': array([-7.1987756e-02,  7.7186100e-02,  2.5556508e-02, ...,\n        -4.2009804e-02,  4.5449212e-02,  4.8994145e-05], dtype=float32),\n 'up:Q9Y6F6': array([ 0.0082627 , -0.0302526 ,  0.04897949, ..., -0.00039647,\n         0.00916844,  0.04410238], dtype=float32),\n 'up:A0A1V0E3R6': array([-0.03130496,  0.05899576,  0.03323356, ..., -0.00780708,\n         0.01684582,  0.02276795], dtype=float32),\n 'up:A0A0A0MQS9': array([ 0.00611329, -0.00785175,  0.05940837, ...,  0.03164415,\n         0.06283472, -0.00850085], dtype=float32),\n 'up:Q13127': array([ 0.00729043,  0.02902662,  0.06493402, ..., -0.0487893 ,\n         0.05537602,  0.04499521], dtype=float32),\n 'up:O43819': array([ 0.02697597,  0.06348877,  0.00197235, ..., -0.06164148,\n         0.0108726 ,  0.06242748], dtype=float32),\n 'up:A0PJM9': array([ 0.00933565,  0.09815117,  0.00966058, ..., -0.03855144,\n         0.001556  ,  0.02011955], dtype=float32),\n 'up:A0A140VK43': array([ 0.0087702 ,  0.08785864,  0.02088266, ..., -0.01957768,\n         0.02488052,  0.0001299 ], dtype=float32),\n 'up:Q6VVX0': array([ 0.01392122,  0.07815018, -0.01349388, ..., -0.02295326,\n        -0.02328824, -0.01673681], dtype=float32),\n 'up:P56202': array([-0.01244656,  0.03332353,  0.02875683, ..., -0.04509163,\n         0.02629918,  0.04536604], dtype=float32),\n 'up:Q04864': array([-0.01973449,  0.02632012,  0.05396958, ..., -0.05563239,\n         0.018562  , -0.04089815], dtype=float32),\n 'up:P30953': array([-0.02549949,  0.13565567,  0.03655229, ..., -0.06194874,\n         0.00848426,  0.02106996], dtype=float32),\n 'up:Q9HB75': array([-0.0105553 , -0.00849193,  0.05488643, ..., -0.06853036,\n         0.05025603,  0.03736098], dtype=float32),\n 'up:Q8IUR2': array([-0.05728317, -0.01170617,  0.01061209, ...,  0.01774073,\n         0.02324971,  0.07320537], dtype=float32),\n 'up:A8MXY4': array([0.00383615, 0.16453625, 0.00401087, ..., 0.01566678, 0.08442522,\n        0.02404027], dtype=float32),\n 'up:P01023': array([ 0.03408133,  0.09673653,  0.08465601, ...,  0.04307367,\n         0.03291808, -0.03797211], dtype=float32),\n 'up:Q6NX49': array([-0.09235264,  0.03695939,  0.02624463, ..., -0.0184829 ,\n         0.09698573,  0.08040049], dtype=float32),\n 'up:P38936': array([ 0.01631557, -0.05164371,  0.04653586, ..., -0.00027879,\n         0.04590595,  0.09522733], dtype=float32),\n 'up:P51532': array([ 0.07757159,  0.08603382,  0.04201616, ...,  0.03504366,\n        -0.02323795,  0.00727229], dtype=float32),\n 'up:Q8NGL2': array([-0.06004078,  0.10260994,  0.01683396, ..., -0.05279776,\n         0.03099718,  0.00236834], dtype=float32),\n 'up:Q9UBR2': array([ 0.03689329,  0.10621638,  0.01965227, ..., -0.03067368,\n         0.01184195,  0.00775849], dtype=float32),\n 'up:Q13972': array([ 0.01849122,  0.06534149,  0.03731218, ...,  0.02298489,\n        -0.03390925,  0.01335945], dtype=float32),\n 'up:Q5MIZ7': array([ 0.06743845,  0.05270446,  0.0273795 , ...,  0.00783834,\n        -0.01282935,  0.03277127], dtype=float32),\n 'up:P49662': array([ 0.03080054,  0.03365537,  0.0796985 , ..., -0.04347602,\n         0.0269657 , -0.01662107], dtype=float32),\n 'up:A0A8Q3SHR1': array([-0.03536006,  0.00369258,  0.07939415, ..., -0.00160709,\n         0.03344512,  0.09657532], dtype=float32),\n 'up:Q9NPB8': array([ 0.05789217,  0.02001314,  0.00700095, ..., -0.05846798,\n         0.00628187,  0.04544244], dtype=float32),\n 'up:A0A1V0E3N7': array([-0.03130496,  0.05899576,  0.03323356, ..., -0.00780708,\n         0.01684582,  0.02276795], dtype=float32),\n 'up:Q8TBZ8': array([-4.23516482e-02,  1.23785205e-01,  3.80813666e-02, ...,\n        -1.20815297e-04,  6.07620217e-02,  6.58389851e-02], dtype=float32),\n 'up:B3KTW0': array([ 0.06899064,  0.08437326,  0.0069746 , ..., -0.0061971 ,\n        -0.02536724,  0.0429521 ], dtype=float32),\n 'up:Q96DA2': array([ 0.03248833,  0.13783573,  0.00735918, ..., -0.03018495,\n         0.01635996,  0.00314297], dtype=float32),\n 'up:Q92752': array([ 0.01653787,  0.04561672,  0.01937499, ...,  0.04643047,\n         0.02855592, -0.00326257], dtype=float32),\n 'up:Q9Y3S1': array([ 0.01502017, -0.00810678,  0.05411195, ..., -0.01032896,\n         0.05269542,  0.03369012], dtype=float32),\n 'up:Q16774': array([ 0.05093111,  0.083938  ,  0.01669114, ..., -0.05395656,\n         0.01486337,  0.01181677], dtype=float32),\n 'up:A0A126GW95': array([-0.03638671,  0.12369189,  0.0241672 , ..., -0.03817796,\n         0.00826756,  0.00439962], dtype=float32),\n 'up:P30532': array([ 0.02676602,  0.09286142,  0.01997417, ...,  0.02217048,\n        -0.02823341,  0.01537986], dtype=float32),\n 'up:Q8TB72': array([ 0.05058202,  0.05497323,  0.0236086 , ..., -0.01985588,\n        -0.04691989,  0.01803466], dtype=float32),\n 'up:P21549': array([ 0.03395634,  0.06545734,  0.028195  , ..., -0.05858687,\n         0.00958708,  0.00856207], dtype=float32),\n 'up:P04035': array([0.02023705, 0.00670231, 0.04319324, ..., 0.01928404, 0.02671175,\n        0.00559442], dtype=float32),\n 'up:Q9UL54': array([ 0.00447675,  0.02249685,  0.03953857, ..., -0.01420275,\n        -0.0013521 ,  0.03199421], dtype=float32),\n 'up:P20366': array([ 0.02284338, -0.03699294,  0.10492196, ..., -0.06303816,\n         0.02649063,  0.03718492], dtype=float32),\n 'up:F8WD26': array([ 0.0168781 , -0.00243094,  0.05264664, ...,  0.02412826,\n        -0.00229894,  0.01257019], dtype=float32),\n 'up:P35520': array([ 0.04627404,  0.07260279,  0.04186882, ..., -0.00483682,\n        -0.00685276,  0.03080808], dtype=float32),\n 'up:S4X0W3': array([ 0.0246118 ,  0.10547356,  0.03879733, ..., -0.01394761,\n        -0.0066642 ,  0.01604541], dtype=float32),\n 'up:P25685': array([ 0.0441597 ,  0.09209351, -0.02157401, ..., -0.0636839 ,\n         0.02734379,  0.01709723], dtype=float32),\n 'up:Q92539': array([-0.0076639 ,  0.01770367,  0.05087362, ..., -0.00439947,\n        -0.03020233,  0.01930199], dtype=float32),\n 'up:A0A126GVG1': array([-0.03939343,  0.09450387,  0.01921451, ..., -0.02940927,\n         0.02530685,  0.01576619], dtype=float32),\n 'up:Q9UKJ1': array([-0.02583589,  0.01672727,  0.06293178, ..., -0.00679682,\n         0.03196625,  0.05184757], dtype=float32),\n 'up:P18054': array([-0.01358404,  0.04950456,  0.03579399, ..., -0.03514196,\n         0.06013678,  0.02295503], dtype=float32),\n 'up:Q99712': array([ 0.02244927,  0.06990706,  0.00593478, ..., -0.0059446 ,\n        -0.02872933, -0.01948202], dtype=float32),\n 'up:P20132': array([ 0.07640257,  0.07101675,  0.04508887, ..., -0.05581915,\n         0.02226478, -0.00773772], dtype=float32),\n 'up:Q15223': array([ 0.02868052,  0.02424558,  0.03111868, ..., -0.00354636,\n         0.010573  ,  0.01094247], dtype=float32),\n 'up:Q9BYG4': array([-0.03507788, -0.01152079,  0.0357352 , ...,  0.01118396,\n        -0.01318863,  0.04889145], dtype=float32),\n 'up:P23467': array([ 0.01925858,  0.04431478,  0.02466173, ...,  0.02130274,\n         0.04229383, -0.00131462], dtype=float32),\n 'up:P51854': array([ 0.04496323,  0.04751447, -0.00321125, ..., -0.03297967,\n         0.05143039,  0.03131859], dtype=float32),\n 'up:O95870': array([ 0.02227494, -0.01051668,  0.06283417, ..., -0.04787682,\n         0.01478968,  0.03036254], dtype=float32),\n 'up:Q96RI0': array([-0.05569302,  0.04922478,  0.03573405, ..., -0.006568  ,\n         0.00523278,  0.07750347], dtype=float32),\n 'up:Q9Y6F1': array([-0.00943014,  0.05806031,  0.06403308, ...,  0.01982735,\n         0.00372634, -0.0016799 ], dtype=float32),\n 'up:Q02930': array([ 0.03017312,  0.05480703,  0.05453734, ..., -0.02602906,\n        -0.03416874, -0.00319023], dtype=float32),\n 'up:O14548': array([ 0.0775663 , -0.02849374,  0.01636075, ...,  0.02277433,\n         0.04943307,  0.03112604], dtype=float32),\n 'up:Q96GX9': array([ 0.07235491,  0.10789643,  0.0218048 , ..., -0.03311144,\n        -0.01342381,  0.02914288], dtype=float32),\n 'up:P19634': array([0.05201754, 0.08031717, 0.04971666, ..., 0.03886557, 0.00146666,\n        0.01009285], dtype=float32),\n 'up:P04424': array([ 0.08493336,  0.07216588, -0.01421442, ..., -0.01325359,\n        -0.01765254,  0.02143087], dtype=float32),\n 'up:A0A0U5JA19': array([-0.00610455,  0.02115307,  0.05986324, ..., -0.01511377,\n         0.0284845 ,  0.07130754], dtype=float32),\n 'up:Q14934': array([ 0.00308423,  0.00253516,  0.0197112 , ..., -0.03535545,\n         0.01721818,  0.03885927], dtype=float32),\n 'up:Q8TES3': array([ 0.00409713, -0.0374785 ,  0.01984659, ...,  0.01005227,\n         0.02972082,  0.02588402], dtype=float32),\n 'up:A0A024R240': array([ 0.06404992,  0.1461297 ,  0.03686733, ..., -0.02362576,\n         0.00051282,  0.02292317], dtype=float32),\n 'up:Q8IU89': array([ 0.02155062,  0.07696067,  0.01409668, ..., -0.0019    ,\n        -0.00202839,  0.02322344], dtype=float32),\n 'up:V9HWN8': array([ 0.02838027,  0.08578503,  0.02465708, ..., -0.04133553,\n         0.02004363,  0.03165704], dtype=float32),\n 'up:P60006': array([ 0.07372565,  0.02821944,  0.03747208, ..., -0.09467108,\n        -0.03302918,  0.04191512], dtype=float32),\n 'up:B7ZMJ6': array([0.00644332, 0.06064702, 0.07454275, ..., 0.02494566, 0.02662827,\n        0.00392296], dtype=float32),\n 'up:Q9Y6K1': array([ 0.03164216,  0.07968786,  0.07806022, ..., -0.02017216,\n        -0.03591371, -0.00714059], dtype=float32),\n 'up:Q8IVF2': array([ 0.06027042,  0.09420971,  0.02887847, ..., -0.02860662,\n         0.16026951,  0.00706329], dtype=float32),\n 'up:B3KQ54': array([-0.07395837,  0.05157341,  0.0332121 , ...,  0.00839554,\n         0.07749432,  0.05602361], dtype=float32),\n 'up:P49767': array([ 0.00083052,  0.0579178 ,  0.06012199, ...,  0.01406267,\n        -0.01382231,  0.04582549], dtype=float32),\n 'up:P30566': array([ 0.09337266,  0.07703909,  0.00207478, ...,  0.00284842,\n        -0.00895295,  0.03012953], dtype=float32),\n 'up:Q86SW9': array([ 0.04338672,  0.04091519,  0.09680573, ...,  0.04898914,\n         0.04942091, -0.00372383], dtype=float32),\n 'up:Q96I99': array([ 0.05738077,  0.07102294,  0.00745557, ..., -0.01712561,\n         0.02169501,  0.05573282], dtype=float32),\n 'up:A8K1Y9': array([ 0.04923652,  0.12285183,  0.04932203, ..., -0.01950994,\n         0.00806648,  0.01574185], dtype=float32),\n 'up:P35579': array([ 0.03747362,  0.04782495, -0.00693963, ...,  0.01526776,\n        -0.00137133,  0.02758629], dtype=float32),\n 'up:P07437': array([ 0.15034832,  0.18607415, -0.0407113 , ..., -0.03641013,\n         0.00090783,  0.10312083], dtype=float32),\n 'up:Q6NUL7': array([ 0.06118364,  0.07175926,  0.07072829, ..., -0.03758009,\n        -0.02493445,  0.02099939], dtype=float32),\n 'up:Q6ZNH5': array([-0.04366589,  0.0180936 ,  0.01230746, ..., -0.0112424 ,\n         0.08526518,  0.0614228 ], dtype=float32),\n 'up:Q13185': array([ 0.03995685,  0.07736383,  0.03970079, ..., -0.00233135,\n        -0.02931945,  0.0329096 ], dtype=float32),\n 'up:P11310': array([ 0.08913308,  0.098256  , -0.00987441, ..., -0.0081938 ,\n        -0.01050467,  0.02160572], dtype=float32),\n 'up:O14638': array([ 0.02542623,  0.07609395,  0.05058834, ..., -0.02169569,\n         0.00292614,  0.01773788], dtype=float32),\n 'up:P50591': array([-0.00167875,  0.04111426,  0.04420114, ..., -0.00212825,\n         0.00577101,  0.05259211], dtype=float32),\n 'up:Q13616': array([ 0.06546178,  0.08825898,  0.01620504, ..., -0.00575238,\n        -0.02766121,  0.04053052], dtype=float32),\n 'up:Q9UGM1': array([ 0.02936814,  0.08072627,  0.00889069, ...,  0.02591204,\n        -0.02547155,  0.00840522], dtype=float32),\n 'up:P35869': array([ 0.02544482,  0.02388423,  0.05988308, ..., -0.04593067,\n        -0.01262793,  0.01398596], dtype=float32),\n 'up:Q86X67': array([ 0.0332906 ,  0.00763204, -0.02301628, ..., -0.05736102,\n        -0.01493927,  0.01416916], dtype=float32),\n 'up:A0A126GWK9': array([-0.06993061,  0.07890379,  0.00554896, ..., -0.03556628,\n         0.02227989,  0.0244426 ], dtype=float32),\n 'up:Q96PQ6': array([-0.0831499 ,  0.05360425,  0.02882284, ...,  0.00287129,\n         0.07433862,  0.06022597], dtype=float32),\n 'up:Q13635': array([ 0.02524974,  0.04719548,  0.06482793, ...,  0.02399573,\n        -0.00950947,  0.00829687], dtype=float32),\n 'up:Q8NGY9': array([-0.06481695,  0.09305254,  0.01146826, ..., -0.03942999,\n         0.01652504,  0.01095267], dtype=float32),\n 'up:V9HWC9': array([ 0.0731099 ,  0.07576972,  0.04815627, ..., -0.08050422,\n         0.04527878, -0.03679847], dtype=float32),\n 'up:P13498': array([0.01300652, 0.00736869, 0.06185222, ..., 0.00522638, 0.01780644,\n        0.00996489], dtype=float32),\n 'up:P46439': array([ 0.02475733,  0.13316804,  0.03000227, ..., -0.058228  ,\n         0.00575665,  0.05962563], dtype=float32),\n 'up:Q8NH40': array([-0.06932192,  0.05449884,  0.03389494, ..., -0.03083741,\n         0.06101708,  0.0272213 ], dtype=float32),\n 'up:Q14588': array([-0.04633375,  0.06810883,  0.00375839, ...,  0.01375494,\n         0.06493924,  0.04719456], dtype=float32),\n 'up:P55199': array([-0.00567284, -0.00152979,  0.01593837, ..., -0.00958194,\n        -0.00755433,  0.03319213], dtype=float32),\n 'up:Q5T4W7': array([-0.00944108, -0.01679946,  0.0207008 , ..., -0.00643645,\n         0.07796404,  0.09833202], dtype=float32),\n 'up:A3KFT3': array([-0.05942576,  0.07302189,  0.01084345, ..., -0.0383106 ,\n         0.02553697,  0.01359583], dtype=float32),\n 'up:O75342': array([-0.01611125,  0.05964896,  0.02834022, ..., -0.04286713,\n         0.05850479,  0.00667422], dtype=float32),\n 'up:A0A140VK27': array([ 0.07424571,  0.08207021,  0.01101303, ..., -0.03289574,\n        -0.0099606 ,  0.0142215 ], dtype=float32),\n 'up:A0A1V0E3N6': array([-0.03130496,  0.05899576,  0.03323356, ..., -0.00780708,\n         0.01684582,  0.02276795], dtype=float32),\n 'up:Q9Y4K3': array([-0.00564944,  0.02844236,  0.00654004, ..., -0.01212643,\n        -0.01648593,  0.01620672], dtype=float32),\n 'up:O75474': array([-0.00982938, -0.0582628 , -0.01512372, ..., -0.00093543,\n         0.02092362,  0.06529044], dtype=float32),\n 'up:H9NAJ8': array([-0.01481836,  0.0401147 ,  0.03884102, ...,  0.02285196,\n         0.02578338,  0.01252723], dtype=float32),\n 'up:A0A126GVP9': array([-0.05977654,  0.07341631,  0.04125392, ..., -0.03595429,\n         0.05755097,  0.01859393], dtype=float32),\n 'up:B3KS07': array([ 0.00824324,  0.04482453,  0.01464121, ...,  0.01708556,\n        -0.00942411, -0.00647238], dtype=float32),\n 'up:Q9NZL3': array([-0.06082756,  0.07687645,  0.02039512, ..., -0.00101808,\n         0.078201  ,  0.05703555], dtype=float32),\n 'up:Q659C3': array([ 0.02318365,  0.11529287,  0.02508594, ...,  0.01893555,\n        -0.00731243,  0.01631177], dtype=float32),\n 'up:P16989': array([ 0.02404691,  0.00866277,  0.06439234, ..., -0.04552063,\n         0.02036133,  0.06510676], dtype=float32),\n 'up:A0A024RA75': array([ 0.025919  ,  0.05644624,  0.00703836, ..., -0.02954011,\n         0.025231  ,  0.04004937], dtype=float32),\n 'up:O94805': array([ 0.00456016,  0.15025744,  0.05546167, ..., -0.01308617,\n         0.01472914,  0.01019897], dtype=float32),\n 'up:Q08AJ9': array([ 0.04510362,  0.15255944,  0.02051938, ..., -0.01341399,\n         0.04307225,  0.08014345], dtype=float32),\n 'up:O43283': array([ 0.0183013 , -0.01616001,  0.01969351, ..., -0.00077863,\n         0.00995966, -0.00735519], dtype=float32),\n 'up:A0A0S2Z5P3': array([ 0.01520258,  0.02565866,  0.01044315, ..., -0.03504438,\n         0.00732376,  0.02450723], dtype=float32),\n 'up:Q8N587': array([-0.08228766,  0.01727407,  0.01481553, ...,  0.01247448,\n         0.09437362,  0.08414476], dtype=float32),\n 'up:Q9NS64': array([ 0.01757625, -0.0742667 ,  0.04770187, ..., -0.05653105,\n         0.03080474,  0.05140831], dtype=float32),\n 'up:O96019': array([ 0.01117677,  0.15265965,  0.05153333, ..., -0.01367851,\n         0.01571331,  0.01115892], dtype=float32),\n 'up:O14727': array([ 0.03759019,  0.01461159,  0.01891788, ..., -0.0470793 ,\n         0.03821864,  0.0153346 ], dtype=float32),\n 'up:Q9HB65': array([-0.01627885, -0.02360804,  0.02991118, ..., -0.03283365,\n         0.04305688,  0.04484297], dtype=float32),\n 'up:Q9BV79': array([ 0.02340832,  0.05654097,  0.06394108, ..., -0.052878  ,\n         0.0646053 ,  0.00687895], dtype=float32),\n 'up:P01375': array([-0.0085655 ,  0.03058328,  0.06458469, ..., -0.00870626,\n         0.03970427,  0.04936628], dtype=float32),\n 'up:P0DKX0': array([-0.02530975,  0.12987112, -0.01118921, ..., -0.00389946,\n         0.08595796,  0.05415584], dtype=float32),\n 'up:P54687': array([ 0.05684904,  0.05569621,  0.01764176, ..., -0.01645996,\n         0.02068301,  0.02725317], dtype=float32),\n 'up:O95571': array([ 0.04572234,  0.0606808 ,  0.01558697, ..., -0.05254242,\n         0.02386661,  0.04338397], dtype=float32),\n 'up:Q8TAU3': array([-0.07551311,  0.04973077,  0.03703249, ..., -0.00201467,\n         0.07383604,  0.07139007], dtype=float32),\n 'up:O75791': array([0.00643652, 0.00492234, 0.01804844, ..., 0.01029576, 0.0105748 ,\n        0.00640206], dtype=float32),\n 'up:Q8N3R9': array([-0.001902  ,  0.02883436,  0.06765846, ..., -0.00158574,\n        -0.00558691,  0.03129291], dtype=float32),\n 'up:P12272': array([-0.01330738, -0.02826298,  0.07252593, ...,  0.02075621,\n         0.00170913,  0.02143434], dtype=float32),\n 'up:A0A384N6C2': array([ 0.06241268,  0.09931882,  0.04016231, ...,  0.02075156,\n        -0.01101191,  0.0264585 ], dtype=float32),\n 'up:Q9H3L0': array([0.02439518, 0.03024718, 0.00693602, ..., 0.00269874, 0.06212976,\n        0.00998802], dtype=float32),\n 'up:B2R8L3': array([ 0.03001766,  0.05268323, -0.00111113, ..., -0.0067712 ,\n        -0.0084894 , -0.00033974], dtype=float32),\n 'up:Q99705': array([-0.01008782,  0.06616198,  0.02959098, ..., -0.00887485,\n         0.01675907,  0.01956539], dtype=float32),\n 'up:Q92956': array([-0.01356206,  0.04036974,  0.06886069, ..., -0.00481513,\n         0.05895234,  0.03718162], dtype=float32),\n 'up:P15407': array([-0.00080686, -0.00505698,  0.04556157, ..., -0.01402895,\n        -0.00686211,  0.00166211], dtype=float32),\n 'up:Q8NBJ5': array([ 0.02724591,  0.04991052,  0.08295973, ..., -0.00618102,\n        -0.02844849, -0.00099952], dtype=float32),\n 'up:Q92947': array([ 0.06396674,  0.05931615, -0.01099878, ..., -0.02323602,\n         0.01346487,  0.03627508], dtype=float32),\n 'up:O43193': array([-0.01657951,  0.09096794,  0.02731539, ..., -0.00398673,\n         0.00421816,  0.03564342], dtype=float32),\n 'up:P30793': array([ 0.06740697,  0.03520227, -0.01331166, ..., -0.00161324,\n        -0.0166451 ,  0.07158489], dtype=float32),\n 'up:Q9NP31': array([-3.3785746e-02, -1.5912354e-02,  4.1041147e-02, ...,\n         1.5195924e-02, -7.1060356e-05,  8.9189261e-02], dtype=float32),\n 'up:Q8NG85': array([-0.06434882,  0.08696061,  0.01081618, ..., -0.03760206,\n         0.02338823,  0.01353189], dtype=float32),\n 'up:Q8NH70': array([-0.06263249,  0.07694044,  0.02632954, ..., -0.01630706,\n         0.02873324,  0.01352251], dtype=float32),\n 'up:O76001': array([-0.04945059,  0.10987659,  0.02310636, ..., -0.04616096,\n         0.00877739,  0.01505362], dtype=float32),\n 'up:Q59E85': array([ 0.04839884,  0.02367473,  0.02395795, ..., -0.01719484,\n         0.0112557 ,  0.04903399], dtype=float32),\n 'up:Q5T8R2': array([ 0.02475733,  0.13316804,  0.03000227, ..., -0.058228  ,\n         0.00575665,  0.05962563], dtype=float32),\n 'up:Q5H8V1': array([-0.01447069, -0.0700318 ,  0.0650458 , ..., -0.04547436,\n         0.05265558,  0.11078366], dtype=float32),\n 'up:Q9UNE0': array([ 0.01703721, -0.02044219,  0.04459544, ..., -0.00822006,\n         0.0258692 ,  0.03915408], dtype=float32),\n 'up:P47974': array([-0.02621658,  0.00424962, -0.02054023, ...,  0.01644466,\n        -0.01905307,  0.04351122], dtype=float32),\n 'up:Q9UBX1': array([-7.8192549e-03, -6.3143976e-05,  3.0102635e-02, ...,\n        -2.0664088e-02,  1.3435957e-02,  2.9495614e-02], dtype=float32),\n 'up:Q9NZP0': array([-0.04198059,  0.10664728,  0.00555202, ..., -0.04464945,\n        -0.0067166 , -0.00140399], dtype=float32),\n 'up:P98182': array([-0.05762746,  0.00255002,  0.05083765, ..., -0.05098701,\n         0.02566629,  0.01722536], dtype=float32),\n 'up:Q5DX21': array([ 0.02765158,  0.01003859,  0.01837351, ..., -0.00440006,\n         0.00889972,  0.00171008], dtype=float32),\n 'up:P36873': array([ 0.10504607,  0.1661427 ,  0.00935335, ..., -0.01680997,\n        -0.00230063,  0.0697868 ], dtype=float32),\n 'up:G9J6Q5': array([ 0.02912269,  0.1020742 ,  0.02086072, ..., -0.06339905,\n        -0.00333933,  0.06092087], dtype=float32),\n 'up:Q8NGG8': array([-0.03912253,  0.13003798,  0.02299228, ..., -0.03979013,\n         0.0022784 ,  0.0109055 ], dtype=float32),\n 'up:Q16581': array([ 0.0138382 ,  0.05906441,  0.06830543, ..., -0.01632962,\n         0.03095743,  0.04818636], dtype=float32),\n 'up:Q53ZZ1': array([-0.01277899,  0.0285083 ,  0.0842761 , ..., -0.04866074,\n         0.01539478,  0.01759789], dtype=float32),\n 'up:Q92574': array([ 0.02265024, -0.04088345,  0.0125731 , ...,  0.03191249,\n         0.02417246, -0.00812952], dtype=float32),\n 'up:O95819': array([ 0.05945146,  0.10287591,  0.04954343, ...,  0.0286235 ,\n        -0.00533631, -0.00803069], dtype=float32),\n 'up:Q9Y4A9': array([-0.07756336,  0.06842224,  0.00732493, ..., -0.03771278,\n         0.02823561,  0.01578644], dtype=float32),\n 'up:Q8NGF3': array([-0.04013988,  0.10001452,  0.02035254, ...,  0.01688991,\n         0.0069584 ,  0.02779461], dtype=float32),\n 'up:Q8TCU6': array([ 0.02571071,  0.05208066,  0.03387436, ..., -0.00039931,\n        -0.02577174,  0.0143059 ], dtype=float32),\n 'up:Q6ICR9': array([-0.01942531,  0.01386835,  0.03906976, ..., -0.00034401,\n         0.0699802 ,  0.05383744], dtype=float32),\n 'up:P40238': array([-0.03579123,  0.01358286,  0.05696852, ..., -0.03981541,\n         0.02816489,  0.07127806], dtype=float32),\n 'up:P34896': array([ 0.04311233,  0.08865288,  0.01137213, ..., -0.01935401,\n         0.01143759,  0.03657995], dtype=float32),\n 'up:Q96AP7': array([-0.00939036, -0.01582112,  0.01897426, ..., -0.02686246,\n         0.03173422,  0.03932748], dtype=float32),\n 'up:P21709': array([-0.01535694,  0.03669652,  0.04351902, ...,  0.0150352 ,\n         0.00575466,  0.00537421], dtype=float32),\n 'up:P10600': array([ 0.01396843,  0.0517889 ,  0.00872862, ...,  0.02008959,\n        -0.00598663,  0.0166218 ], dtype=float32),\n 'up:Q04721': array([0.02169833, 0.03925791, 0.03535297, ..., 0.00186283, 0.0080741 ,\n        0.01078341], dtype=float32),\n 'up:Q5TCK7': array([ 0.01795038,  0.07143355,  0.03251258, ..., -0.0260555 ,\n        -0.05853814,  0.04628701], dtype=float32),\n 'up:Q8N5V2': array([-0.02223608,  0.02806204,  0.04730187, ...,  0.01096947,\n        -0.02656459,  0.03968205], dtype=float32),\n 'up:O60296': array([ 0.01726151, -0.01196165,  0.02006088, ...,  0.01229623,\n        -0.01200701, -0.01596015], dtype=float32),\n 'up:Q59FG2': array([ 0.02204596,  0.0753651 ,  0.05442411, ...,  0.01064318,\n        -0.04081938,  0.00424266], dtype=float32),\n 'up:Q6ICV4': array([ 0.06347756, -0.05484991,  0.00735822, ..., -0.03706345,\n         0.03874398, -0.00912715], dtype=float32),\n 'up:B2RBZ9': array([-0.00789211, -0.01847664,  0.04325208, ..., -0.04404889,\n         0.04616548,  0.03950498], dtype=float32),\n 'up:Q14332': array([ 0.03623351,  0.13283172,  0.03843525, ...,  0.00674233,\n        -0.04755167,  0.01399122], dtype=float32),\n 'up:A0A126GWS4': array([-0.05076412,  0.11466273,  0.02753676, ..., -0.04492417,\n         0.00361021,  0.01185489], dtype=float32),\n 'up:I1W660': array([-0.01761458,  0.03325161,  0.05387337, ..., -0.01629596,\n         0.00690947,  0.0348776 ], dtype=float32),\n 'up:P49675': array([ 0.02265082, -0.02859486, -0.01069424, ...,  0.00211726,\n        -0.0040291 , -0.01162279], dtype=float32),\n 'up:A0A140VJJ0': array([ 0.04469342,  0.09213954,  0.04398096, ...,  0.01591594,\n        -0.02658851, -0.0268523 ], dtype=float32),\n 'up:O15197': array([-0.02292567,  0.05694125,  0.04667566, ...,  0.01094523,\n         0.0108407 ,  0.01210242], dtype=float32),\n 'up:Q9BQ95': array([ 0.02380732,  0.00691463,  0.07720234, ..., -0.03758154,\n         0.04077975,  0.05986202], dtype=float32),\n 'up:Q6P534': array([-0.02231801, -0.01925131, -0.00126936, ..., -0.00368916,\n         0.00297109,  0.00697981], dtype=float32),\n 'up:Q9BY31': array([-0.04528805,  0.10344054,  0.01322403, ...,  0.00751549,\n         0.10688157,  0.06450374], dtype=float32),\n 'up:Q8TCJ0': array([ 0.0091505 ,  0.01538397,  0.01247861, ..., -0.01328948,\n        -0.05058817,  0.01567592], dtype=float32),\n 'up:A0A126GWE9': array([-0.08269492,  0.0706721 ,  0.00850945, ..., -0.03824579,\n         0.02970658,  0.01925251], dtype=float32),\n 'up:Q6FGL7': array([ 0.01862085, -0.01194757,  0.00874144, ..., -0.0969459 ,\n         0.05237109,  0.01208946], dtype=float32),\n 'up:Q96SR6': array([-0.09624656,  0.04264899,  0.01820477, ..., -0.00423557,\n         0.10258769,  0.08621699], dtype=float32),\n 'up:A0A090N7T4': array([ 0.02707816,  0.12261949,  0.04135716, ..., -0.00926163,\n        -0.02079965,  0.00303052], dtype=float32),\n 'up:P37268': array([ 0.07288584,  0.04585465,  0.00885587, ...,  0.00746039,\n        -0.05172763,  0.05722298], dtype=float32),\n 'up:P30281': array([-0.00967668,  0.04403926, -0.00674549, ..., -0.01465298,\n        -0.0583453 ,  0.03681459], dtype=float32),\n 'up:A0A140VJG0': array([-0.00278368, -0.01956118, -0.04001138, ..., -0.01497522,\n        -0.02548801,  0.05441502], dtype=float32),\n 'up:P24043': array([ 0.01895621,  0.00615195,  0.05833112, ...,  0.03360474,\n         0.0644035 , -0.01986691], dtype=float32),\n 'up:Q96N38': array([-0.02003495,  0.08414999,  0.02208986, ...,  0.00050403,\n         0.08460565,  0.05245601], dtype=float32),\n 'up:Q3KP31': array([-0.07231411,  0.11868875,  0.01691055, ...,  0.01879336,\n         0.059359  ,  0.07431672], dtype=float32),\n 'up:Q53H87': array([ 0.0567586 ,  0.08253384,  0.0469576 , ..., -0.01952168,\n        -0.00429493,  0.00464019], dtype=float32),\n 'up:Q13639': array([ 0.00946708,  0.09341999,  0.02554956, ..., -0.01699018,\n        -0.00693698,  0.00306688], dtype=float32),\n 'up:Q53GD3': array([-0.00110252,  0.10340327,  0.04799764, ...,  0.00388305,\n        -0.00482291,  0.0007664 ], dtype=float32),\n 'up:Q6EEV6': array([ 0.01205158,  0.09489369,  0.10032512, ..., -0.00818905,\n         0.04797875,  0.0541052 ], dtype=float32),\n 'up:Q9H269': array([ 0.01873113,  0.02105185,  0.03790456, ..., -0.04394306,\n        -0.00335364,  0.01466243], dtype=float32),\n 'up:P26006': array([ 0.02001   ,  0.06353989,  0.06990445, ...,  0.00448044,\n         0.03454197, -0.0254379 ], dtype=float32),\n 'up:Q02643': array([-0.00340923,  0.1102751 ,  0.03397084, ..., -0.00047408,\n        -0.0247706 ,  0.02199113], dtype=float32),\n 'up:A0A024R8G3': array([ 0.00690205,  0.06180099,  0.06137254, ..., -0.05030029,\n        -0.00220374,  0.08152361], dtype=float32),\n 'up:A0A126GW34': array([-0.06568566,  0.09485032,  0.00781099, ..., -0.03666862,\n         0.01140865,  0.01147336], dtype=float32),\n 'up:Q8IVP9': array([-0.07754668,  0.07689834,  0.03840864, ..., -0.0055908 ,\n         0.06496208,  0.07925664], dtype=float32),\n 'up:Q4G0N4': array([ 0.07585941,  0.09970694,  0.08024212, ..., -0.01902426,\n         0.03290781,  0.00090717], dtype=float32),\n 'up:O15031': array([0.0194433 , 0.05520879, 0.06817921, ..., 0.00492307, 0.02033621,\n        0.00365065], dtype=float32),\n 'up:Q12866': array([ 0.02565419,  0.01611029,  0.03997668, ..., -0.00343001,\n         0.01306967,  0.01412601], dtype=float32),\n 'up:Q16878': array([ 0.07501757,  0.05189691, -0.01660806, ..., -0.00605734,\n        -0.01144423,  0.0082732 ], dtype=float32),\n 'up:Q14571': array([0.04496318, 0.05141914, 0.03608193, ..., 0.03387022, 0.00655418,\n        0.00423937], dtype=float32),\n 'up:A4D275': array([ 0.00963595,  0.11510289,  0.05378411, ..., -0.06134363,\n        -0.01264006, -0.0130901 ], dtype=float32),\n 'up:Q9Y4Z2': array([-0.03876339, -0.03341925,  0.01907347, ..., -0.00870005,\n        -0.00165465,  0.06717581], dtype=float32),\n 'up:Q10567': array([ 0.06051861,  0.09196797,  0.03637509, ...,  0.00542707,\n        -0.0094707 ,  0.04213668], dtype=float32),\n 'up:Q05932': array([ 0.0548146 ,  0.08277226,  0.05370634, ..., -0.05547855,\n         0.01314215,  0.01440811], dtype=float32),\n 'up:P25788': array([ 0.0087702 ,  0.08785864,  0.02088266, ..., -0.01957768,\n         0.02488052,  0.0001299 ], dtype=float32),\n 'up:Q8IVS2': array([ 0.04378376,  0.04879621,  0.03710645, ..., -0.02660959,\n         0.03070054,  0.03076847], dtype=float32),\n 'up:P11532': array([-0.00105171, -0.04704912,  0.04789304, ...,  0.0106415 ,\n         0.068283  ,  0.0246359 ], dtype=float32),\n 'up:P21802': array([ 0.06202316,  0.09454497,  0.04510118, ...,  0.00805806,\n        -0.01102028,  0.00790947], dtype=float32),\n 'up:Q05329': array([ 0.06992371,  0.09655007,  0.03453964, ...,  0.01831337,\n        -0.01006196,  0.01251638], dtype=float32),\n 'up:Q96GR2': array([ 0.01205469,  0.04840075,  0.04162799, ..., -0.00421507,\n         0.03993667,  0.01599235], dtype=float32),\n 'up:P52566': array([ 0.0205555 ,  0.03890554,  0.03086869, ..., -0.00979737,\n         0.0277448 ,  0.0157027 ], dtype=float32),\n 'up:P48357': array([-0.02539426, -0.00272114,  0.0465523 , ..., -0.03479841,\n         0.05856696,  0.05798936], dtype=float32),\n 'up:A0A126GVH6': array([-0.04849732,  0.09487884,  0.01978067, ..., -0.03402882,\n         0.03805782,  0.00819453], dtype=float32),\n 'up:Q9HCK8': array([ 0.03875425,  0.0739663 ,  0.0583962 , ...,  0.01965028,\n        -0.01920993, -0.00496159], dtype=float32),\n 'up:O14905': array([-0.04629277,  0.0772532 , -0.05959249, ...,  0.00020739,\n        -0.01444585, -0.00512043], dtype=float32),\n 'up:A4D1B1': array([ 0.0153908 ,  0.03651006, -0.00690963, ..., -0.00406889,\n         0.02340309, -0.0017122 ], dtype=float32),\n 'up:Q8TAA9': array([ 0.00990849,  0.0186824 ,  0.01520387, ..., -0.00036304,\n         0.00389278, -0.01187255], dtype=float32),\n 'up:O43676': array([ 0.00833985, -0.03497314,  0.0422281 , ...,  0.02012162,\n         0.08631769,  0.06640211], dtype=float32),\n 'up:Q86Y78': array([ 0.04838943,  0.04503273,  0.06327429, ..., -0.02853722,\n        -0.02804701,  0.01922817], dtype=float32),\n 'up:P23434': array([ 0.04203558,  0.07628452,  0.05662713, ..., -0.04911871,\n         0.01439603,  0.09988067], dtype=float32),\n 'up:O15230': array([-0.00656601,  0.03371998,  0.07816415, ...,  0.02352141,\n         0.0468919 ,  0.0059023 ], dtype=float32),\n 'up:P02778': array([-0.00558154,  0.02602357,  0.09423648, ..., -0.01281678,\n         0.02576702, -0.01419938], dtype=float32),\n 'up:A0A126GW70': array([-0.08310048,  0.07841117,  0.03901775, ..., -0.03339623,\n         0.04990602,  0.01878728], dtype=float32),\n 'up:Q96DE5': array([ 0.00419901, -0.00920971,  0.01851862, ...,  0.06887724,\n         0.01070568, -0.06532416], dtype=float32),\n 'up:P12980': array([-0.03369158, -0.02872017,  0.03852968, ..., -0.01574454,\n        -0.02276531,  0.07505357], dtype=float32),\n 'up:A0A7U3L5M4': array([-0.03467791,  0.07449436,  0.08392628, ...,  0.02161308,\n        -0.01456191,  0.00760304], dtype=float32),\n 'up:P15559': array([ 0.02760698,  0.09901572,  0.04686651, ..., -0.02989392,\n         0.00278926,  0.01437626], dtype=float32),\n 'up:Q14623': array([ 0.00725362,  0.07123725,  0.0442827 , ...,  0.06188617,\n        -0.02273575,  0.01156563], dtype=float32),\n 'up:P02771': array([-0.0404227 ,  0.00967599,  0.08731637, ...,  0.04342527,\n         0.03529713,  0.03213177], dtype=float32),\n 'up:A0N0L5': array([-0.02328236, -0.01972637,  0.03830395, ..., -0.04794713,\n         0.02993051,  0.06153407], dtype=float32),\n 'up:Q9UKK3': array([ 0.01020874,  0.04993655,  0.09400793, ...,  0.01387282,\n         0.01755356, -0.04205271], dtype=float32),\n 'up:A0A024R9I0': array([ 9.39795282e-03,  9.09155607e-02,  4.41807434e-02, ...,\n        -4.25988017e-03, -2.03760901e-05,  1.29303755e-02], dtype=float32),\n 'up:A0A1V0E3Q8': array([-0.03130496,  0.05899576,  0.03323356, ..., -0.00780708,\n         0.01684582,  0.02276795], dtype=float32),\n 'up:X5D945': array([ 0.08569515,  0.146717  ,  0.01896082, ..., -0.04076965,\n        -0.01644809,  0.02936454], dtype=float32),\n 'up:O60755': array([-0.04630635,  0.07818437,  0.00152272, ..., -0.01494299,\n         0.02762939,  0.06839831], dtype=float32),\n 'up:P35236': array([-0.00655127,  0.00064172,  0.00184897, ..., -0.01004791,\n         0.0050576 ,  0.01977504], dtype=float32),\n 'up:B3KTM1': array([0.00506105, 0.11276449, 0.04499569, ..., 0.00024029, 0.01533962,\n        0.05122869], dtype=float32),\n 'up:Q08431': array([-0.0230481 ,  0.093748  ,  0.02308325, ...,  0.00413379,\n         0.0274568 , -0.03000587], dtype=float32),\n 'up:Q13177': array([ 0.06456772,  0.08943193,  0.04284495, ...,  0.02748328,\n        -0.01698985,  0.00829872], dtype=float32),\n 'up:A6NNF4': array([-0.0202778 ,  0.11044043,  0.00818337, ...,  0.00091104,\n         0.08163904,  0.04603384], dtype=float32),\n 'up:Q6FH11': array([ 0.05738418,  0.04301011,  0.00052992, ..., -0.04120458,\n        -0.01910524,  0.07960664], dtype=float32),\n 'up:Q86XE5': array([ 0.05248526,  0.05480852,  0.00884208, ..., -0.03987137,\n         0.01546406,  0.03421614], dtype=float32),\n 'up:Q66SS1': array([ 0.04657917,  0.09829843,  0.03566216, ..., -0.01435714,\n        -0.04382958,  0.0011557 ], dtype=float32),\n 'up:P00747': array([ 0.01072119,  0.09850731,  0.02982713, ...,  0.00168682,\n         0.01985031, -0.01300174], dtype=float32),\n 'up:P13533': array([ 0.06512842,  0.09470364, -0.00264891, ...,  0.02445024,\n        -0.01047671,  0.02434317], dtype=float32),\n 'up:Q9UBN1': array([ 0.04072116,  0.08137158,  0.01974362, ..., -0.00143669,\n         0.00601701, -0.00609612], dtype=float32),\n 'up:P37840': array([ 0.02630952,  0.03850942,  0.03339565, ..., -0.03420162,\n         0.01776468,  0.04452677], dtype=float32),\n 'up:Q05CP7': array([ 0.01334706, -0.01434637,  0.01925411, ..., -0.08656796,\n         0.03622051, -0.0122776 ], dtype=float32),\n 'up:P05155': array([0.00457891, 0.0207981 , 0.05521851, ..., 0.00635943, 0.04095934,\n        0.05407409], dtype=float32),\n 'up:Q53F85': array([ 0.03814993, -0.00300465,  0.04400818, ...,  0.00948786,\n         0.01461672,  0.03046405], dtype=float32),\n 'up:Q9HAV0': array([ 0.04242321,  0.10483293,  0.03550509, ..., -0.05516103,\n        -0.01175149,  0.00340722], dtype=float32),\n 'up:A0AAG2UY17': array([-0.04616357,  0.09158803,  0.01489549, ..., -0.03514943,\n         0.02229485,  0.022503  ], dtype=float32),\n 'up:P51959': array([-0.0360003 , -0.0114793 , -0.05145298, ...,  0.00734886,\n        -0.04381823,  0.01692783], dtype=float32),\n 'up:Q8TD08': array([-0.00982876,  0.02724385, -0.00710712, ..., -0.00157559,\n         0.00530864,  0.01722475], dtype=float32),\n 'up:Q9NX65': array([-0.09635802, -0.02912806,  0.06219228, ..., -0.03780093,\n         0.06461713,  0.10234565], dtype=float32),\n 'up:Q93077': array([ 0.04800352,  0.15426296,  0.01813153, ..., -0.01486026,\n         0.04189342,  0.08258495], dtype=float32),\n 'up:Q16671': array([-0.03949461,  0.01841602,  0.03880651, ..., -0.03787945,\n         0.00898347,  0.05750642], dtype=float32),\n 'up:Q9UMX1': array([ 0.0342039 ,  0.02164119,  0.04965256, ...,  0.00144298,\n         0.00413224, -0.01405612], dtype=float32),\n 'up:Q8NGL1': array([-0.03975417,  0.11312241,  0.00748577, ..., -0.03559053,\n         0.01139446,  0.00449344], dtype=float32),\n 'up:O60725': array([ 0.01145057,  0.06750745,  0.02033896, ..., -0.04606761,\n        -0.04476838,  0.02765406], dtype=float32),\n 'up:P35680': array([ 0.01575685,  0.05459043,  0.04640372, ..., -0.02858901,\n        -0.03965677, -0.01934815], dtype=float32),\n 'up:Q9Y6R4': array([ 0.02819794, -0.00047434,  0.00761227, ...,  0.01238818,\n         0.00829091, -0.01360933], dtype=float32),\n 'up:P35575': array([ 0.04840954,  0.0526158 ,  0.0445499 , ..., -0.02449827,\n        -0.01833647, -0.01336162], dtype=float32),\n 'up:O95169': array([0.02771952, 0.01281841, 0.02748634, ..., 0.00680345, 0.01013639,\n        0.04432485], dtype=float32),\n 'up:Q14410': array([ 0.05334233,  0.1181726 ,  0.04541172, ..., -0.05162375,\n        -0.0132661 ,  0.00625586], dtype=float32),\n 'up:P78396': array([-0.00439389, -0.0205147 , -0.04045119, ..., -0.01600698,\n        -0.02467488,  0.05496343], dtype=float32),\n 'up:A0A126GWE3': array([-0.07557229,  0.07987072,  0.02336772, ..., -0.02693979,\n         0.04173861,  0.02442796], dtype=float32),\n 'up:Q13595': array([ 0.05975877,  0.03690814,  0.03544006, ...,  0.01074501,\n         0.09189767, -0.00249472], dtype=float32),\n 'up:A0A126GVC8': array([ 0.00465052,  0.16360082,  0.02938277, ..., -0.06122294,\n         0.00151052,  0.02046257], dtype=float32),\n 'up:P42858': array([ 0.05916797, -0.0554564 , -0.02425636, ...,  0.02004633,\n         0.05365336,  0.01626801], dtype=float32),\n 'up:F8J2B5': array([ 0.01752861, -0.00255811,  0.05233089, ...,  0.02469619,\n        -0.00214364,  0.01232549], dtype=float32),\n 'up:A7MBN3': array([0.09071877, 0.07300151, 0.0513018 , ..., 0.04768959, 0.03300425,\n        0.01551184], dtype=float32),\n 'up:Q5JPD2': array([-0.02542479, -0.0204993 ,  0.04797998, ...,  0.037814  ,\n         0.00325989,  0.02463751], dtype=float32),\n 'up:V9HW45': array([ 0.05754573,  0.06273628,  0.00188636, ..., -0.09194809,\n         0.00760174,  0.0543521 ], dtype=float32),\n 'up:P55773': array([ 0.01826565,  0.01343216,  0.07624735, ..., -0.03441083,\n         0.00619242,  0.00534346], dtype=float32),\n 'up:B3GN61': array([0.03182505, 0.02359766, 0.0525043 , ..., 0.03305956, 0.0468409 ,\n        0.01662578], dtype=float32),\n 'up:Q4LE69': array([ 0.04800971,  0.0422201 ,  0.02261123, ...,  0.01778569,\n        -0.00639212,  0.0128843 ], dtype=float32),\n 'up:P20062': array([ 0.06645527, -0.00531254,  0.09260266, ..., -0.03421655,\n         0.05197946,  0.05326491], dtype=float32),\n 'up:Q15928': array([-0.05447812,  0.07928252,  0.02581789, ...,  0.01084618,\n         0.07476182,  0.06060282], dtype=float32),\n 'up:Q9Y272': array([ 0.00595289,  0.09026626,  0.03027861, ..., -0.00562637,\n         0.00277448,  0.00447996], dtype=float32),\n 'up:Q92934': array([ 0.00060352, -0.0733693 ,  0.02194797, ...,  0.04262329,\n         0.0352996 ,  0.01181723], dtype=float32),\n 'up:Q9BSQ5': array([ 0.0167006 , -0.01132366,  0.04452941, ...,  0.01422752,\n         0.0057544 ,  0.02498454], dtype=float32),\n 'up:P0C869': array([-0.01131177,  0.02999784,  0.05620933, ..., -0.01326962,\n         0.01709619, -0.00460886], dtype=float32),\n 'up:Q96RJ3': array([-0.01447069, -0.0700318 ,  0.0650458 , ..., -0.04547436,\n         0.05265558,  0.11078366], dtype=float32),\n 'up:Q96K75': array([-0.07996014,  0.03748497,  0.01636088, ..., -0.02985903,\n         0.06789704,  0.07995606], dtype=float32),\n 'up:O15530': array([ 0.02733938,  0.04709502,  0.01876534, ..., -0.00323724,\n        -0.00940718,  0.00903666], dtype=float32),\n 'up:A0A0U5JXL4': array([ 0.00165352, -0.00272742,  0.05946042, ..., -0.00937141,\n         0.04659152,  0.01905311], dtype=float32),\n 'up:B3KVA3': array([ 0.01944639,  0.05228726,  0.07044663, ..., -0.05706579,\n        -0.00841155, -0.01963792], dtype=float32),\n 'up:A0A0S2Z3C7': array([-0.00098019,  0.04043339,  0.08415087, ...,  0.00612486,\n         0.07266667,  0.02580879], dtype=float32),\n 'up:Q8N6C5': array([-0.05826944,  0.06128876,  0.04840153, ...,  0.03687315,\n         0.07891265,  0.05062356], dtype=float32),\n 'up:Q5TCX8': array([-0.008176  ,  0.00819118,  0.02349081, ...,  0.00103454,\n         0.00603173,  0.01103608], dtype=float32),\n 'up:P20963': array([-0.04997784, -0.02913409,  0.07563537, ...,  0.05952891,\n        -0.0014212 ,  0.1091591 ], dtype=float32),\n 'up:P51679': array([-0.02283667,  0.10712878,  0.03719436, ..., -0.00775865,\n        -0.00398503,  0.00100003], dtype=float32),\n 'up:Q8N3P4': array([ 0.01164001,  0.01223209,  0.0322663 , ..., -0.01516013,\n         0.02833048,  0.02791279], dtype=float32),\n 'up:O95996': array([-0.01876174, -0.05538982, -0.00224666, ...,  0.02225412,\n         0.02553865,  0.03960067], dtype=float32),\n 'up:Q5ZGX3': array([-0.00454959,  0.05510462,  0.0328702 , ...,  0.00790473,\n         0.01942314,  0.02140409], dtype=float32),\n 'up:P07358': array([ 0.01731318,  0.05696977,  0.02771459, ..., -0.00964909,\n         0.01427587, -0.00927142], dtype=float32),\n 'up:Q504U8': array([ 0.04556544,  0.0987995 ,  0.07385322, ...,  0.02135189,\n        -0.01295828,  0.02494214], dtype=float32),\n 'up:Q8NH37': array([-0.05829408,  0.08626248,  0.01141393, ..., -0.04058284,\n         0.02375009,  0.01566026], dtype=float32),\n 'up:P11150': array([-0.01366723,  0.05637192,  0.02443281, ..., -0.01381899,\n         0.00535782, -0.01763115], dtype=float32),\n 'up:Q12913': array([0.01837553, 0.01653914, 0.07152025, ..., 0.02403464, 0.08459714,\n        0.02418794], dtype=float32),\n 'up:X5CKB3': array([-0.02116595, -0.00087539,  0.01972061, ..., -0.08150766,\n        -0.01737779,  0.04871125], dtype=float32),\n 'up:P35625': array([ 0.01570145,  0.07686313,  0.05098648, ..., -0.01519591,\n        -0.02059682,  0.03674883], dtype=float32),\n 'up:P41220': array([ 0.00768143,  0.01740056, -0.00152209, ..., -0.00847673,\n        -0.01315923,  0.05196377], dtype=float32),\n 'up:O00763': array([ 0.05653886,  0.06086081,  0.0659462 , ...,  0.02089906,\n        -0.00019663,  0.01151   ], dtype=float32),\n 'up:P46976': array([ 0.01800026,  0.04918699,  0.03611078, ...,  0.00542169,\n        -0.03263116, -0.01102261], dtype=float32),\n 'up:Q9UGF6': array([-0.04444307,  0.10658704,  0.04204202, ..., -0.05828774,\n         0.05902842,  0.01878039], dtype=float32),\n 'up:Q93100': array([ 0.06525095,  0.08538181,  0.04180441, ...,  0.00205205,\n        -0.00478426,  0.01063574], dtype=float32),\n 'up:Q86UQ0': array([-0.09983122, -0.02414091,  0.0474837 , ..., -0.00572064,\n         0.04872206,  0.08836886], dtype=float32),\n 'up:O00469': array([ 0.03281771,  0.0420731 ,  0.06408788, ...,  0.01279943,\n        -0.02452553, -0.02093988], dtype=float32),\n 'up:Q71UM8': array([ 0.06354237,  0.1146382 ,  0.04543963, ...,  0.03488239,\n        -0.05464468,  0.00374499], dtype=float32),\n 'up:A0A1V0E3Q5': array([-0.03130496,  0.05899576,  0.03323356, ..., -0.00780708,\n         0.01684582,  0.02276795], dtype=float32),\n 'up:A0A126GWD2': array([-0.04512982,  0.11419224,  0.02584817, ...,  0.01133963,\n         0.01895119,  0.0155724 ], dtype=float32),\n 'up:P41235': array([ 0.00931118,  0.05316649,  0.00198558, ..., -0.0320066 ,\n        -0.04438124, -0.01292558], dtype=float32),\n 'up:Q96CG3': array([ 0.00394148, -0.0335506 ,  0.08192375, ..., -0.05088203,\n         0.03185382,  0.0073333 ], dtype=float32),\n 'up:P17948': array([0.03116255, 0.0289627 , 0.03277293, ..., 0.00419681, 0.02729599,\n        0.00456083], dtype=float32),\n 'up:A0A126GV72': array([-0.08117352,  0.06970969,  0.01843193, ..., -0.04069779,\n         0.04389452,  0.02769275], dtype=float32),\n 'up:Q9NZN5': array([ 0.010812  , -0.00555988,  0.04964326, ...,  0.01946895,\n        -0.01733794,  0.02418309], dtype=float32),\n 'up:Q8NGT9': array([-0.06934767,  0.10706441,  0.02947216, ..., -0.05519304,\n         0.03682014,  0.01234313], dtype=float32),\n 'up:Q15848': array([ 0.03113267,  0.10312227,  0.0295866 , ...,  0.01032611,\n        -0.02360584, -0.00416375], dtype=float32),\n 'up:A0A1U9X777': array([ 0.02227494, -0.01051668,  0.06283417, ..., -0.04787682,\n         0.01478968,  0.03036254], dtype=float32),\n 'up:P27540': array([ 0.03255709,  0.03982698,  0.04614156, ..., -0.01113415,\n        -0.02691649, -0.00581024], dtype=float32),\n 'up:Q7Z6B7': array([ 0.03178674,  0.06160204,  0.03233374, ...,  0.01174074,\n        -0.03137935,  0.01865526], dtype=float32),\n 'up:P21266': array([ 0.03085229,  0.10643003,  0.01755932, ..., -0.06718058,\n         0.02041163,  0.06060071], dtype=float32),\n 'up:Q0IJ44': array([ 0.04714509,  0.10844176,  0.04871374, ...,  0.00837567,\n        -0.02210454,  0.00315631], dtype=float32),\n 'up:P05026': array([ 0.02055099,  0.07075184,  0.03417513, ...,  0.00532657,\n        -0.02633267,  0.02660575], dtype=float32),\n 'up:Q53SH4': array([ 0.03346721,  0.09244204,  0.01276169, ...,  0.0270752 ,\n        -0.03696659,  0.00066011], dtype=float32),\n 'up:Q8N883': array([-7.2559752e-02,  5.1362533e-02,  7.7105090e-03, ...,\n        -5.2714808e-05,  8.6483657e-02,  8.5946158e-02], dtype=float32),\n 'up:P98160': array([ 0.00302485,  0.04621469,  0.05150946, ...,  0.03414511,\n         0.06093818, -0.00530964], dtype=float32),\n 'up:Q7Z3T8': array([ 0.02343904, -0.03048189,  0.0238789 , ...,  0.00459483,\n         0.0485489 ,  0.03305308], dtype=float32),\n 'up:P63027': array([0.06289386, 0.10979176, 0.0716694 , ..., 0.03946037, 0.00580173,\n        0.0112488 ], dtype=float32),\n 'up:A0A0S2Z3H3': array([ 0.0408117 ,  0.14052913, -0.01656916, ..., -0.05355543,\n         0.02090771,  0.05224429], dtype=float32),\n 'up:Q96E52': array([ 0.04391173,  0.01546713,  0.01842722, ..., -0.01164969,\n         0.04697747,  0.02881601], dtype=float32),\n 'up:Q9BQ51': array([-0.02539771,  0.00290316,  0.04713566, ...,  0.01223275,\n         0.06211699,  0.0078504 ], dtype=float32),\n 'up:Q8NGP3': array([-0.05164256,  0.08734421,  0.01574633, ..., -0.03990114,\n         0.04113372,  0.01748151], dtype=float32),\n 'up:O00238': array([ 0.04539677,  0.08406048,  0.05844903, ..., -0.02279895,\n        -0.04289261, -0.0162006 ], dtype=float32),\n 'up:P04731': array([-0.0149968 ,  0.05257214,  0.10261399, ...,  0.05686114,\n         0.06943374,  0.0920089 ], dtype=float32),\n 'up:O60565': array([ 0.02578417,  0.03392911,  0.02596881, ..., -0.00767334,\n         0.04183948,  0.03046895], dtype=float32),\n 'up:P06733': array([ 0.05542368,  0.08718207, -0.00400386, ..., -0.03992298,\n         0.00308644,  0.03705578], dtype=float32),\n 'up:L7RTI5': array([ 0.03761909,  0.10074089,  0.02736945, ...,  0.01326062,\n        -0.01916907,  0.00092312], dtype=float32),\n 'up:Q8NGW6': array([-0.03244043,  0.08280686,  0.01290156, ..., -0.00363058,\n         0.00374303,  0.03506437], dtype=float32),\n 'up:P06400': array([ 0.02494727,  0.00986618,  0.03860594, ..., -0.01686154,\n        -0.03328066, -0.004493  ], dtype=float32),\n 'up:Q8IV77': array([ 0.01099668,  0.03500541,  0.03771703, ...,  0.03122339,\n        -0.02633094,  0.00041752], dtype=float32),\n 'up:O75881': array([ 0.02632647,  0.02895965,  0.0038366 , ..., -0.03479154,\n        -0.02827533, -0.0078288 ], dtype=float32),\n 'up:P0CB33': array([-0.04476575,  0.06510044,  0.00521345, ..., -0.00990745,\n         0.07253772,  0.07511094], dtype=float32),\n 'up:P35504': array([0.04748714, 0.10071407, 0.03625996, ..., 0.0002437 , 0.00352852,\n        0.01204853], dtype=float32),\n 'up:P09237': array([0.03247752, 0.00488071, 0.07282458, ..., 0.01624105, 0.01437312,\n        0.00206144], dtype=float32),\n 'up:A5JSJ9': array([ 0.02844133,  0.09845173,  0.03384054, ..., -0.01238087,\n         0.00064922, -0.04352474], dtype=float32),\n 'up:P12931': array([ 0.03797252,  0.08355277,  0.04561864, ..., -0.00032475,\n        -0.01939166,  0.01147588], dtype=float32),\n 'up:Q9NYQ3': array([ 0.04988677,  0.04854653, -0.00489413, ..., -0.03815654,\n         0.03600351, -0.00092487], dtype=float32),\n 'up:Q3KQV3': array([-0.09079137,  0.02816897,  0.05670232, ..., -0.01171264,\n         0.0735667 ,  0.08041079], dtype=float32),\n 'up:Q9P255': array([-0.02080277,  0.11347695, -0.00305413, ...,  0.014767  ,\n         0.09659756,  0.03615989], dtype=float32),\n 'up:O75908': array([ 0.01972686,  0.0485408 ,  0.01742821, ..., -0.00658316,\n         0.00126901,  0.08216672], dtype=float32),\n 'up:A0A126GVM2': array([-0.04013988,  0.10001452,  0.02035254, ...,  0.01688991,\n         0.0069584 ,  0.02779461], dtype=float32),\n 'up:Q96AT9': array([ 0.09331065,  0.05470811, -0.00142205, ..., -0.05594731,\n        -0.01721418,  0.02934958], dtype=float32),\n 'up:Q6GRK0': array([ 0.0509464 ,  0.09162647,  0.00921242, ..., -0.0194495 ,\n        -0.03229647, -0.00849869], dtype=float32),\n 'up:A0A140VKA7': array([ 0.03969654,  0.0953199 ,  0.04943077, ..., -0.00149495,\n         0.02077571,  0.01027405], dtype=float32),\n 'up:Q15653': array([-0.00088973, -0.02108611,  0.03360141, ..., -0.03868101,\n         0.04711092,  0.06883375], dtype=float32),\n 'up:Q8N2W9': array([ 0.00070726,  0.05498099,  0.02604966, ...,  0.00634647,\n        -0.04390845, -0.01032769], dtype=float32),\n 'up:A8K3B6': array([ 0.03239048,  0.0948275 ,  0.03749071, ..., -0.00693976,\n        -0.04216126, -0.00821079], dtype=float32),\n 'up:Q9Y5U5': array([-0.01353595,  0.00357322,  0.06022637, ..., -0.03152739,\n         0.0650655 ,  0.09993616], dtype=float32),\n 'up:B2R5B3': array([ 0.04379113,  0.15568392,  0.02330106, ..., -0.01561613,\n         0.0470713 ,  0.07998937], dtype=float32),\n 'up:B4DXS2': array([ 0.01893941, -0.06642924,  0.04015264, ..., -0.04234701,\n         0.03959887,  0.04254276], dtype=float32),\n 'up:P20382': array([ 0.04956905, -0.0696281 ,  0.02913665, ...,  0.0088645 ,\n         0.05370049,  0.0142009 ], dtype=float32),\n 'up:P21817': array([ 0.04026031,  0.04969301,  0.03788799, ...,  0.02650343,\n         0.00483976, -0.01507671], dtype=float32),\n 'up:Q9H1C0': array([-0.05364686,  0.06560278,  0.02340653, ..., -0.00097599,\n         0.00972804,  0.06687846], dtype=float32),\n 'up:O95166': array([0.0512056 , 0.15468454, 0.04074834, ..., 0.00555443, 0.02066325,\n        0.10510279], dtype=float32),\n 'up:V9HWB4': array([ 0.05833341,  0.08351937,  0.00430778, ..., -0.01238402,\n         0.00594815,  0.04550129], dtype=float32),\n 'up:O94898': array([ 0.01395504, -0.01915382, -0.00917517, ..., -0.01741737,\n         0.02648758,  0.04022396], dtype=float32),\n 'up:P01569': array([ 0.02694435, -0.03251962,  0.06333257, ..., -0.02130974,\n         0.00954706,  0.05208207], dtype=float32),\n 'up:Q16654': array([ 0.05835441,  0.03774292,  0.02992596, ...,  0.02484947,\n        -0.0080384 , -0.01503159], dtype=float32),\n 'up:Q9NQX0': array([-0.01175072,  0.04781832,  0.03480274, ..., -0.036537  ,\n        -0.03057048,  0.03023539], dtype=float32),\n 'up:P36507': array([ 0.06722154,  0.08827875,  0.04130468, ...,  0.01975839,\n        -0.00824601, -0.009481  ], dtype=float32),\n 'up:P25116': array([-0.01964281,  0.06523621,  0.04218119, ..., -0.02335725,\n         0.00394936,  0.04448966], dtype=float32),\n 'up:O75311': array([ 0.05020048,  0.11283571,  0.01838594, ...,  0.0381141 ,\n        -0.04141867,  0.01622804], dtype=float32),\n 'up:A0A024R782': array([ 0.06548884,  0.10323901,  0.01935204, ..., -0.09651095,\n        -0.00224866,  0.03106161], dtype=float32),\n 'up:Q9Y3N9': array([-0.05543345,  0.08942461,  0.03057996, ..., -0.03526651,\n         0.01431873,  0.00754002], dtype=float32),\n 'up:A8K270': array([ 0.01279406,  0.07033324,  0.03810702, ...,  0.0171455 ,\n        -0.04015229,  0.01105923], dtype=float32),\n 'up:P30542': array([ 0.00335823,  0.10159604,  0.0303982 , ..., -0.00174574,\n        -0.01161148,  0.01635262], dtype=float32),\n 'up:B3KMF1': array([ 0.05109525,  0.04866776,  0.05799922, ...,  0.0012346 ,\n        -0.01275291,  0.00846038], dtype=float32),\n 'up:P49189': array([ 0.05514166,  0.05003018, -0.0083977 , ..., -0.02629541,\n         0.0240872 , -0.00059394], dtype=float32),\n 'up:A0A024RA73': array([-0.01903974,  0.01463976,  0.03651202, ..., -0.00722954,\n         0.02786531,  0.05547684], dtype=float32),\n 'up:P42262': array([ 0.06393945,  0.11615695,  0.05342722, ...,  0.00331763,\n        -0.01715138,  0.00095086], dtype=float32),\n 'up:Q16644': array([ 0.03436448,  0.07997447,  0.02677308, ...,  0.00561232,\n        -0.01338774,  0.026889  ], dtype=float32),\n 'up:Q8TAW3': array([-0.09589001,  0.00798739,  0.03627404, ..., -0.01230037,\n         0.07268374,  0.07691919], dtype=float32),\n 'up:P98164': array([-7.4956886e-04, -2.6735199e-05,  2.6319545e-02, ...,\n         1.1733152e-02,  2.6987419e-03, -1.2403972e-02], dtype=float32),\n 'up:P51692': array([ 0.01777675,  0.06368657,  0.06166426, ..., -0.01500153,\n        -0.02978232, -0.00120537], dtype=float32),\n 'up:F1D8S4': array([ 0.01303452,  0.07024179,  0.01768507, ..., -0.0231165 ,\n        -0.06916238, -0.0046793 ], dtype=float32),\n 'up:P09086': array([ 0.02316585,  0.07984436,  0.0411166 , ..., -0.00416362,\n        -0.03017217,  0.00434479], dtype=float32),\n 'up:Q7L7L0': array([ 0.04585535,  0.15155944,  0.02006092, ..., -0.01316194,\n         0.04206006,  0.08008711], dtype=float32),\n 'up:P23416': array([ 0.05282911,  0.11452489,  0.01929033, ...,  0.03656203,\n        -0.04928732,  0.01388677], dtype=float32),\n 'up:Q01814': array([ 0.06471924,  0.08889997,  0.05564017, ...,  0.04529219,\n        -0.01167145,  0.02566864], dtype=float32),\n 'up:Q8NHW4': array([ 0.01893971,  0.09743094,  0.06586459, ..., -0.0155243 ,\n        -0.02758354, -0.00358831], dtype=float32),\n 'up:Q4KMQ2': array([ 0.02196003,  0.11986497,  0.01430884, ...,  0.01037087,\n        -0.0008002 ,  0.02049693], dtype=float32),\n 'up:P41240': array([ 0.03395599,  0.09624141,  0.03792245, ..., -0.00710021,\n        -0.0430815 , -0.00818434], dtype=float32),\n 'up:O15211': array([-0.0099241 ,  0.01297505,  0.02779541, ...,  0.03408214,\n         0.01531787,  0.05110913], dtype=float32),\n 'up:Q9HBT8': array([-0.09450053,  0.01647181,  0.02384229, ...,  0.00765421,\n         0.07500488,  0.06935515], dtype=float32),\n 'up:P43657': array([-0.01298952,  0.10624193,  0.00677406, ..., -0.00020417,\n        -0.00162774,  0.03468039], dtype=float32),\n 'up:Q9BYV1': array([ 0.05638062,  0.0825002 ,  0.01663162, ..., -0.00521237,\n         0.02282131,  0.02033701], dtype=float32),\n 'up:P41219': array([-0.05142215,  0.02486277, -0.01619807, ..., -0.03411754,\n         0.01541023,  0.01691334], dtype=float32),\n 'up:P23771': array([-0.00812777,  0.07699845, -0.00301499, ..., -0.01161718,\n        -0.01937346,  0.02125525], dtype=float32),\n 'up:Q6NUI8': array([-0.08231169,  0.03048141,  0.03374279, ..., -0.00627958,\n         0.09286294,  0.10775176], dtype=float32),\n 'up:Q49A63': array([ 0.0289006 ,  0.05917849,  0.00964442, ..., -0.03770405,\n        -0.00688661,  0.02397291], dtype=float32),\n 'up:A2RRL5': array([-0.03175652,  0.04446759,  0.02424103, ..., -0.03081526,\n         0.03323228,  0.03314963], dtype=float32),\n 'up:A0A0S2Z3Y2': array([-0.00903453, -0.04445847,  0.04991339, ..., -0.02358188,\n         0.07303314,  0.07088142], dtype=float32),\n 'up:Q9Y297': array([ 0.02973084,  0.05600988, -0.0023919 , ..., -0.00752764,\n        -0.01412961,  0.00297345], dtype=float32),\n 'up:P28074': array([ 0.03722313,  0.0828111 ,  0.04033822, ..., -0.01965946,\n         0.01363317,  0.01904459], dtype=float32),\n 'up:P80404': array([0.07335415, 0.1058621 , 0.04794838, ..., 0.00287922, 0.01669773,\n        0.01702824], dtype=float32),\n 'up:P02795': array([-0.00843727,  0.05224   ,  0.10723342, ...,  0.05742902,\n         0.07043394,  0.08850019], dtype=float32),\n 'up:O95671': array([ 0.03493912,  0.03936206,  0.01591811, ..., -0.04319918,\n        -0.01723009,  0.0250111 ], dtype=float32),\n 'up:P35372': array([ 0.04170849,  0.13270774,  0.05006824, ..., -0.02650238,\n        -0.02056888,  0.03300142], dtype=float32),\n 'up:P55017': array([ 0.03268701,  0.11237714,  0.04504322, ...,  0.03700116,\n        -0.00085663,  0.00202301], dtype=float32),\n 'up:A0A0K0K1K3': array([ 0.04958564,  0.0789879 ,  0.03760793, ...,  0.03607911,\n        -0.03557716, -0.00029453], dtype=float32),\n 'up:Q6ZW95': array([ 0.07640888, -0.00357182,  0.01392737, ...,  0.02477259,\n        -0.02716917, -0.01311847], dtype=float32),\n 'up:Q96IF1': array([-0.02070792, -0.0055031 , -0.02025675, ..., -0.00129518,\n         0.02146121,  0.05956811], dtype=float32),\n 'up:P16104': array([ 0.04575084,  0.14672409,  0.01932917, ..., -0.01577728,\n         0.0486042 ,  0.08663467], dtype=float32),\n 'up:P01116': array([ 0.07701498,  0.14904667,  0.01323807, ..., -0.04055177,\n        -0.00494989,  0.02235197], dtype=float32),\n 'up:Q13956': array([ 0.054921  ,  0.01434282,  0.05160011, ...,  0.06980322,\n        -0.01583805, -0.02267541], dtype=float32),\n 'up:Q8IY17': array([ 0.03434027,  0.05870197,  0.04622956, ...,  0.01505444,\n        -0.0154631 ,  0.01459401], dtype=float32),\n 'up:P15735': array([ 0.0164825 ,  0.03458384,  0.00500604, ..., -0.00950634,\n        -0.00688726,  0.00784297], dtype=float32),\n 'up:Q8IUC6': array([-0.0070963 , -0.02339655,  0.07147968, ..., -0.02080647,\n         0.05301221,  0.03974072], dtype=float32),\n 'up:O14672': array([ 0.0373647 ,  0.08076572,  0.03667639, ..., -0.00035882,\n        -0.01316138, -0.00296345], dtype=float32),\n 'up:P22033': array([ 0.0721374 ,  0.07453764, -0.00647581, ...,  0.00041278,\n        -0.00334224,  0.03789333], dtype=float32),\n 'up:Q96PC3': array([ 0.06590327,  0.10259496,  0.02460739, ...,  0.01030687,\n        -0.01677232,  0.0461655 ], dtype=float32),\n 'up:Q14994': array([-0.03318115,  0.02619426,  0.00125453, ..., -0.02940634,\n        -0.0443535 ,  0.00823484], dtype=float32),\n 'up:P17861': array([-0.01790089, -0.08783539,  0.0348581 , ..., -0.06652971,\n        -0.02251677, -0.02764486], dtype=float32),\n 'up:P68032': array([ 0.12951107,  0.18578589, -0.02241144, ..., -0.03622688,\n         0.02740392,  0.10308491], dtype=float32),\n 'up:A0A024RAB9': array([ 0.02537016,  0.10055868,  0.04955509, ...,  0.02788384,\n        -0.02214432, -0.01495309], dtype=float32),\n 'up:O75916': array([ 0.00713945,  0.05632095,  0.04705913, ...,  0.01796567,\n        -0.03376499,  0.00242046], dtype=float32),\n 'up:P28330': array([ 0.068289  ,  0.06914257,  0.00472333, ..., -0.02331462,\n         0.01000941,  0.01541665], dtype=float32),\n 'up:Q9P1W9': array([-0.01462994,  0.06736879, -0.00279554, ..., -0.02788504,\n         0.01906552,  0.04379381], dtype=float32),\n 'up:Q6PF04': array([-0.09640545,  0.06033594,  0.03434565, ...,  0.0127316 ,\n         0.06372183,  0.06844941], dtype=float32),\n 'up:P02671': array([ 0.02805762,  0.04514801,  0.03358073, ..., -0.02253729,\n         0.0505781 ,  0.00435094], dtype=float32),\n 'up:Q53H12': array([ 0.04892498,  0.0022078 ,  0.07724001, ..., -0.04044657,\n         0.04279426,  0.00442263], dtype=float32),\n 'up:Q8NGP4': array([-0.05435263,  0.08021922,  0.0141086 , ..., -0.02589625,\n         0.04080934,  0.01475788], dtype=float32),\n 'up:A0A024R625': array([ 0.07794733,  0.15055119,  0.01620218, ..., -0.01160687,\n        -0.00547122,  0.04558817], dtype=float32),\n 'up:Q13018': array([ 0.01356813,  0.0469032 ,  0.04044928, ..., -0.00994848,\n         0.02675824,  0.02596638], dtype=float32),\n 'up:Q92796': array([ 0.03648235,  0.10501736,  0.05197695, ...,  0.02080732,\n        -0.00050064,  0.03230271], dtype=float32),\n 'up:Q9UBP9': array([ 0.0174108 ,  0.01990572,  0.02857425, ..., -0.00728548,\n         0.00077519, -0.01725503], dtype=float32),\n 'up:Q9Y5Z0': array([ 0.02986074,  0.05589598, -0.01014691, ...,  0.00368735,\n        -0.00509781,  0.00047673], dtype=float32),\n 'up:P84095': array([ 0.02410382,  0.11548676,  0.01161652, ..., -0.04899012,\n         0.03839595, -0.00592625], dtype=float32),\n 'up:A6XAA7': array([ 0.02578417,  0.03392911,  0.02596881, ..., -0.00767334,\n         0.04183948,  0.03046895], dtype=float32),\n 'up:P53675': array([ 0.01980464,  0.04036689,  0.02841208, ..., -0.01722945,\n         0.02142052,  0.04144932], dtype=float32),\n 'up:A0A384P5H7': array([ 0.07415119,  0.04171649,  0.0241434 , ..., -0.01154547,\n        -0.00041654, -0.01623693], dtype=float32),\n 'up:P41247': array([ 0.04302415,  0.08531029,  0.04098508, ..., -0.0190197 ,\n        -0.00957141, -0.03070753], dtype=float32),\n 'up:Q17RR3': array([-0.00390544,  0.05566404,  0.02815619, ..., -0.02014197,\n         0.02249951, -0.04232098], dtype=float32),\n 'up:Q9Y2P7': array([-0.06572518,  0.07833128,  0.03639292, ...,  0.00545411,\n         0.06364422,  0.07156228], dtype=float32),\n 'up:P21964': array([ 0.00240569,  0.02606589,  0.00801682, ..., -0.04855895,\n        -0.00575025,  0.00760324], dtype=float32),\n 'up:A0A024R579': array([-0.00960189,  0.03614154,  0.02097337, ...,  0.00271925,\n         0.02443875,  0.00794528], dtype=float32),\n 'up:Q16795': array([ 0.00518203,  0.00796844,  0.03676888, ..., -0.00913724,\n         0.04286182, -0.00161708], dtype=float32),\n 'up:A0A024R7H5': array([ 0.01499301, -0.05674468,  0.09102254, ..., -0.04995668,\n         0.04947287,  0.03849559], dtype=float32),\n 'up:P55055': array([-0.00584467,  0.03042056,  0.02652441, ..., -0.01044039,\n        -0.04730609,  0.01088786], dtype=float32),\n 'up:B3KSP5': array([-0.08702113,  0.02678773, -0.01240644, ...,  0.01212778,\n         0.06852701,  0.06708634], dtype=float32),\n 'up:P48549': array([ 0.0130135 ,  0.08591297,  0.03521048, ...,  0.00215897,\n        -0.01405652, -0.00092155], dtype=float32),\n 'up:Q99728': array([ 0.00259794,  0.00292416,  0.02761419, ..., -0.00523844,\n         0.02280332,  0.02879116], dtype=float32),\n 'up:V9HW43': array([ 0.02412371, -0.00368939, -0.03498013, ...,  0.03279141,\n         0.10189949,  0.0813032 ], dtype=float32),\n 'up:O00144': array([ 0.00847708,  0.10621211,  0.02410654, ...,  0.0097345 ,\n        -0.0281427 ,  0.03035123], dtype=float32),\n 'up:C8C060': array([ 0.00133578,  0.06487323,  0.01613018, ...,  0.01143359,\n        -0.01025588,  0.02430128], dtype=float32),\n 'up:A0A140VKA9': array([ 0.05019364,  0.06792276,  0.06522537, ..., -0.05222392,\n         0.01141923, -0.0278041 ], dtype=float32),\n 'up:Q99735': array([ 0.04804612,  0.09941357,  0.00735195, ..., -0.02163517,\n        -0.03713172,  0.00810331], dtype=float32),\n 'up:B4DZ60': array([ 0.05702843,  0.03456331,  0.00601736, ..., -0.0169097 ,\n        -0.10201496, -0.03523744], dtype=float32),\n 'up:P58400': array([ 0.05177225,  0.06809549,  0.06868406, ...,  0.03952042,\n        -0.01502359, -0.01019362], dtype=float32),\n 'up:Q8IXL1': array([ 0.03299526, -0.00858526,  0.0638562 , ..., -0.00598268,\n         0.00380546,  0.03041349], dtype=float32),\n 'up:A0A7R8C397': array([ 0.02287586, -0.03971181,  0.05798014, ..., -0.02414072,\n         0.01292968,  0.04611832], dtype=float32),\n 'up:A0A0S2Z493': array([ 0.01053048, -0.00401173,  0.05507841, ..., -0.02313861,\n        -0.0226905 ,  0.01646245], dtype=float32),\n 'up:P10275': array([ 0.01106538,  0.03938231,  0.0232281 , ..., -0.05607507,\n        -0.03335248,  0.04120521], dtype=float32),\n 'up:Q96PE3': array([ 0.02224748,  0.05196243,  0.01566517, ...,  0.02902432,\n        -0.01344466, -0.0012716 ], dtype=float32),\n 'up:Q6ZUQ0': array([-0.10409109,  0.06982571,  0.03041519, ...,  0.00655608,\n         0.06728344,  0.06550898], dtype=float32),\n 'up:Q5VZ77': array([-0.03589679,  0.02393049,  0.08835548, ..., -0.03220965,\n         0.01134582,  0.04013826], dtype=float32),\n 'up:Q8TDV5': array([-0.06145323,  0.01079353, -0.01650789, ..., -0.01830667,\n         0.01983459,  0.02638727], dtype=float32),\n 'up:B6D4Y2': array([ 0.02478763,  0.03403853,  0.07005031, ..., -0.01933222,\n        -0.0075477 ,  0.01062774], dtype=float32),\n 'up:P05771': array([ 0.04233698,  0.10776896,  0.02088041, ...,  0.01214694,\n        -0.01333372, -0.00348908], dtype=float32),\n 'up:A0A126GVD1': array([-0.07247487,  0.09180109,  0.03325875, ..., -0.0428922 ,\n         0.04967266,  0.00734537], dtype=float32),\n 'up:Q9BZM2': array([ 0.01322751,  0.06207295,  0.05150351, ..., -0.03784168,\n        -0.01737333, -0.01075954], dtype=float32),\n 'up:A6NHL2': array([-0.00407215,  0.08182915,  0.01299434, ..., -0.04490086,\n         0.09721885,  0.05828172], dtype=float32),\n 'up:P32245': array([ 0.01021966,  0.08714763,  0.02048434, ...,  0.004148  ,\n        -0.03229501,  0.01136159], dtype=float32),\n 'up:P12644': array([-0.00184619,  0.0520454 ,  0.01717748, ...,  0.02183114,\n        -0.00163564,  0.02445022], dtype=float32),\n 'up:P37173': array([ 0.03455617,  0.06865224,  0.05047068, ..., -0.04129355,\n        -0.02540251,  0.01253259], dtype=float32),\n 'up:Q8IY73': array([ 0.02541232,  0.11238654,  0.04311814, ..., -0.04850463,\n         0.03460687,  0.00355947], dtype=float32),\n 'up:Q8NGV5': array([-0.04033408,  0.07807872,  0.02041227, ..., -0.02026147,\n         0.02633708,  0.00046222], dtype=float32),\n 'up:Q9Y243': array([ 0.06103067,  0.10224179,  0.01601489, ...,  0.00630359,\n        -0.0165484 ,  0.00389068], dtype=float32),\n 'up:B3KQE6': array([-0.0785109 , -0.0619579 ,  0.03522289, ..., -0.02314968,\n         0.01381903,  0.08965719], dtype=float32),\n 'up:Q9HBU9': array([ 0.00742749,  0.05828196,  0.05849149, ..., -0.02836359,\n         0.00499022,  0.0511202 ], dtype=float32),\n 'up:Q9Y566': array([0.012003  , 0.02062676, 0.048512  , ..., 0.03692682, 0.00801751,\n        0.03144747], dtype=float32),\n 'up:Q9BY76': array([-0.02460345,  0.00483496,  0.03002695, ..., -0.0111348 ,\n         0.0264219 ,  0.05511669], dtype=float32),\n 'up:O60403': array([-0.0772816 ,  0.06724928,  0.01349676, ..., -0.03712249,\n         0.03152758,  0.01688704], dtype=float32),\n 'up:B7ZW36': array([ 0.01887802,  0.0979896 ,  0.06723308, ..., -0.01838147,\n        -0.0268152 , -0.00542372], dtype=float32),\n 'up:P17676': array([-0.02332418, -0.03492984, -0.00913001, ..., -0.04705718,\n        -0.03707235,  0.07719874], dtype=float32),\n 'up:Q8NGQ1': array([-0.06604265,  0.07687084,  0.02816145, ..., -0.04351042,\n         0.04828048,  0.02691004], dtype=float32),\n 'up:O95221': array([-0.06568298,  0.08325531,  0.03815278, ..., -0.04186179,\n         0.05110261,  0.01230298], dtype=float32),\n 'up:Q7Z6C1': array([ 0.07160326,  0.07437584,  0.02862855, ...,  0.00085637,\n        -0.02404773,  0.01745127], dtype=float32),\n 'up:Q96T58': array([ 0.04017683, -0.07221556,  0.05732267, ..., -0.00068766,\n         0.09161049,  0.02071609], dtype=float32),\n 'up:A0A0S2Z5B3': array([ 0.04572234,  0.0606808 ,  0.01558697, ..., -0.05254242,\n         0.02386661,  0.04338397], dtype=float32),\n 'up:A0A0S2Z490': array([ 0.01520347, -0.01943041,  0.02154665, ...,  0.08618855,\n         0.03416901, -0.05493633], dtype=float32),\n 'up:O14495': array([ 0.04152016,  0.06618179,  0.02596473, ...,  0.00547412,\n        -0.00024487, -0.03216593], dtype=float32),\n 'up:P08670': array([-0.03348034,  0.02718294, -0.02339811, ..., -0.0219594 ,\n         0.01467765, -0.01420948], dtype=float32),\n 'up:P46092': array([-0.08001951,  0.05019961,  0.03455553, ..., -0.01703906,\n         0.01482514,  0.06605781], dtype=float32),\n 'up:O00305': array([0.01896536, 0.06613879, 0.04669434, ..., 0.02563754, 0.00717054,\n        0.01638978], dtype=float32),\n 'up:P50583': array([ 0.07453985, -0.04491094, -0.06835334, ..., -0.09252027,\n         0.01934404, -0.00206737], dtype=float32),\n 'up:A0A024R897': array([ 0.00564468, -0.01060696,  0.06750908, ..., -0.02150322,\n        -0.03771467,  0.04474093], dtype=float32),\n 'up:Q8TDS4': array([-0.04098835,  0.054165  ,  0.05490352, ..., -0.00100647,\n         0.03135822,  0.03183551], dtype=float32),\n 'up:P0DN82': array([-0.06492667,  0.09044386,  0.03690083, ..., -0.03954535,\n         0.06273396,  0.02095879], dtype=float32),\n 'up:Q6IBQ5': array([-0.00417652,  0.11959296,  0.0332181 , ..., -0.01926196,\n        -0.01316103,  0.06430311], dtype=float32),\n 'up:P02452': array([0.08689744, 0.04745068, 0.05137987, ..., 0.03924354, 0.0177487 ,\n        0.01216337], dtype=float32),\n 'up:Q59GK3': array([-0.00025908,  0.07305628,  0.05476969, ..., -0.02099241,\n        -0.00955397,  0.03081941], dtype=float32),\n 'up:P56704': array([ 0.00275929,  0.12366416, -0.06985112, ...,  0.01471654,\n        -0.02787161, -0.03352291], dtype=float32),\n 'up:A0A384NPR0': array([ 0.01577006, -0.02257546,  0.10606585, ..., -0.00914128,\n         0.02394156,  0.088806  ], dtype=float32),\n 'up:P24557': array([-0.00314875,  0.03559632,  0.00343054, ..., -0.02221913,\n         0.01081882,  0.02274927], dtype=float32),\n 'up:A0A348GSI3': array([ 0.02684295,  0.01678067, -0.01284274, ..., -0.04678739,\n         0.00099302,  0.03354681], dtype=float32),\n 'up:P07948': array([ 0.03572808,  0.06809051,  0.03495493, ..., -0.00079785,\n        -0.01079608, -0.00355752], dtype=float32),\n 'up:P54849': array([ 0.03925929,  0.04618514,  0.02125225, ..., -0.0414317 ,\n         0.05463693, -0.06512723], dtype=float32),\n 'up:P16581': array([-0.00377972,  0.08084262,  0.05232867, ...,  0.02876428,\n         0.05849721,  0.02003767], dtype=float32),\n 'up:Q2TNI1': array([ 0.00216427,  0.00295   , -0.00587977, ..., -0.03331878,\n         0.01077988,  0.04580045], dtype=float32),\n 'up:A0A126GV98': array([-0.06805707,  0.07422467,  0.03829588, ..., -0.0469479 ,\n         0.05010292,  0.0097359 ], dtype=float32),\n 'up:Q16773': array([ 0.04391653,  0.09622677,  0.02824624, ..., -0.03061445,\n         0.01163547,  0.02419866], dtype=float32),\n 'up:Q9BYX4': array([ 0.02768161, -0.00776074,  0.0372614 , ...,  0.00186252,\n         0.05413322,  0.00644755], dtype=float32),\n 'up:P51149': array([ 0.05468484,  0.13890782,  0.0246735 , ..., -0.03710216,\n         0.00199432,  0.02158584], dtype=float32),\n 'up:P40145': array([ 0.04958564,  0.0789879 ,  0.03760793, ...,  0.03607911,\n        -0.03557716, -0.00029453], dtype=float32),\n 'up:A0A0S2Z3P9': array([ 0.06543476,  0.04833066, -0.02120224, ...,  0.00178122,\n         0.01007659,  0.02153326], dtype=float32),\n 'up:B3KP24': array([ 0.05416536,  0.1484661 ,  0.03561459, ..., -0.02608366,\n         0.00678161,  0.0277639 ], dtype=float32),\n 'up:Q9Y315': array([ 0.06034316,  0.0872137 ,  0.01779117, ...,  0.00210373,\n        -0.00226255,  0.01468487], dtype=float32),\n 'up:A0A384NKX5': array([ 0.02428357,  0.05499477, -0.02608557, ..., -0.06432395,\n         0.06900969,  0.047773  ], dtype=float32),\n 'up:Q96I59': array([ 0.02553681,  0.05235563, -0.00939296, ..., -0.04968468,\n         0.03351109,  0.04249981], dtype=float32),\n 'up:Q99759': array([ 0.02572455,  0.02029684, -0.00492514, ...,  0.00739975,\n        -0.01550737, -0.00261902], dtype=float32),\n 'up:B4DUF7': array([ 0.02351913,  0.05261802,  0.00944973, ...,  0.00802337,\n        -0.00531482,  0.01934065], dtype=float32),\n 'up:Q8TD57': array([0.05464753, 0.04407262, 0.04768753, ..., 0.03408791, 0.00312584,\n        0.02298322], dtype=float32),\n 'up:E7EVR1': array([-0.07236739,  0.00131528,  0.01180113, ..., -0.00307375,\n         0.08027464,  0.07405874], dtype=float32),\n 'up:A0A1U9X8L0': array([ 0.02089258,  0.05692131,  0.03583505, ...,  0.0375816 ,\n        -0.02020254,  0.00501118], dtype=float32),\n 'up:P28566': array([-0.02893352,  0.04543483, -0.00133028, ..., -0.00778209,\n         0.02938696, -0.0062434 ], dtype=float32),\n 'up:Q9Y217': array([-0.00261821,  0.06402177,  0.00734416, ..., -0.00696525,\n        -0.00881248, -0.02020079], dtype=float32),\n 'up:Q9GZQ8': array([0.02839205, 0.11265957, 0.03862362, ..., 0.02791451, 0.00858426,\n        0.08656073], dtype=float32),\n 'up:O95382': array([ 0.02070649,  0.02341096,  0.04436108, ..., -0.0162225 ,\n        -0.00674697,  0.03987614], dtype=float32),\n 'up:P54840': array([ 0.0294972 ,  0.06815313,  0.05152147, ...,  0.02065965,\n         0.03159573, -0.00434669], dtype=float32),\n 'up:P63151': array([ 0.03076375,  0.12275888,  0.05571985, ..., -0.01011996,\n        -0.01980923,  0.00836927], dtype=float32),\n 'up:A0A126GVR1': array([-0.00843236,  0.1402456 ,  0.03708815, ..., -0.05998202,\n         0.00854604,  0.02067989], dtype=float32),\n 'up:P50897': array([ 0.00744987,  0.09520303,  0.04357092, ..., -0.05504622,\n         0.0468244 ,  0.02060497], dtype=float32),\n 'up:A0A140VJL2': array([ 0.04453751,  0.0964051 ,  0.05022525, ...,  0.03082281,\n         0.00043525, -0.02064313], dtype=float32),\n 'up:Q13485': array([ 0.03237845,  0.09402615,  0.05636856, ..., -0.01371243,\n        -0.04994513, -0.02240004], dtype=float32),\n 'up:P0DP24': array([ 0.20658886,  0.14372177, -0.08916346, ..., -0.13262294,\n         0.03997082,  0.15153721], dtype=float32),\n 'up:P36871': array([ 0.04194661,  0.11859727,  0.05883677, ..., -0.0406798 ,\n         0.00239555,  0.0278464 ], dtype=float32),\n 'up:Q9UJM8': array([ 0.04710611,  0.05165584, -0.01784792, ..., -0.03752613,\n         0.02411378, -0.01514324], dtype=float32),\n 'up:Q9NPP4': array([ 0.00831918, -0.03495108,  0.03085097, ...,  0.01049956,\n         0.07495577,  0.04691913], dtype=float32),\n 'up:P35913': array([ 0.04450196,  0.05996533,  0.03640913, ...,  0.00797766,\n        -0.00478159,  0.00814673], dtype=float32),\n 'up:P13807': array([ 0.02813665,  0.07741528,  0.05365437, ...,  0.01519364,\n         0.02075215, -0.00246849], dtype=float32),\n 'up:P09622': array([ 3.9245959e-02,  7.5015657e-02,  1.3166865e-02, ...,\n         1.6336940e-02, -6.9031979e-05,  2.9861072e-02], dtype=float32),\n 'up:P10244': array([ 0.01916704, -0.00373017,  0.04484413, ..., -0.01061823,\n        -0.00623862,  0.00745265], dtype=float32),\n 'up:B7Z7U6': array([0.00516351, 0.00795981, 0.05654714, ..., 0.00879511, 0.00029705,\n        0.0148614 ], dtype=float32),\n 'up:Q7LC44': array([-0.00257471, -0.07966085,  0.03387138, ..., -0.04708257,\n         0.01264675,  0.02753703], dtype=float32),\n 'up:A3KLL5': array([ 0.02055099,  0.07075184,  0.03417513, ...,  0.00532657,\n        -0.02633267,  0.02660575], dtype=float32),\n 'up:P22310': array([ 0.05069948,  0.10525502,  0.03900284, ..., -0.00384303,\n        -0.00018506,  0.01517613], dtype=float32),\n 'up:Q96PD4': array([0.00544668, 0.01181184, 0.03758333, ..., 0.04784954, 0.06988753,\n        0.02608988], dtype=float32),\n 'up:P32297': array([ 0.03365315,  0.10597757,  0.00801952, ...,  0.02932218,\n        -0.02925988,  0.01057354], dtype=float32),\n 'up:P56975': array([ 0.02732313,  0.01229027,  0.0525426 , ..., -0.00177083,\n        -0.0186254 ,  0.02521981], dtype=float32),\n 'up:P58173': array([-0.042482  ,  0.11061918,  0.02320568, ..., -0.04905892,\n         0.00550004,  0.0039561 ], dtype=float32),\n 'up:Q2M1H9': array([ 0.02821131,  0.06132597,  0.0460251 , ..., -0.01412127,\n        -0.01191963,  0.04058838], dtype=float32),\n 'up:P00395': array([ 0.07971611,  0.1746794 , -0.06184532, ..., -0.02350222,\n        -0.03970347,  0.0706523 ], dtype=float32),\n 'up:Q8WWM7': array([ 0.03562636, -0.00223101,  0.04579346, ..., -0.02401874,\n         0.01247046,  0.02445577], dtype=float32),\n 'up:P26651': array([-0.04180093, -0.03332515, -0.02672405, ...,  0.01717362,\n         0.01739531,  0.06120013], dtype=float32),\n 'up:P17019': array([-0.01497253,  0.11893243, -0.00075601, ...,  0.01211947,\n         0.06406234,  0.04099875], dtype=float32),\n 'up:Q12833': array([ 0.05717817,  0.04749188,  0.01348164, ..., -0.00993634,\n         0.02707875,  0.04551575], dtype=float32),\n 'up:P56945': array([0.00131596, 0.00832266, 0.04317234, ..., 0.04666244, 0.01914025,\n        0.05720649], dtype=float32),\n 'up:Q8IZD2': array([ 0.03920983, -0.00486823,  0.05290359, ..., -0.02757084,\n         0.02827109,  0.02019976], dtype=float32),\n 'up:P62714': array([ 0.09426761,  0.14783283,  0.01205552, ..., -0.02046351,\n        -0.00357769,  0.05982233], dtype=float32),\n 'up:Q59ET0': array([ 0.05196934,  0.07811563,  0.0264186 , ..., -0.0003845 ,\n         0.04086939,  0.00712504], dtype=float32),\n 'up:Q16629': array([ 0.03892145,  0.05026515,  0.01902321, ..., -0.0129275 ,\n         0.08735301, -0.00888654], dtype=float32),\n 'up:P06307': array([ 0.04456842, -0.0727021 ,  0.09690491, ..., -0.05624321,\n         0.01145874,  0.08862155], dtype=float32),\n 'up:Q15910': array([ 0.0527694 ,  0.12343065,  0.02880548, ...,  0.01233466,\n        -0.06105844, -0.02892816], dtype=float32),\n 'up:P42765': array([ 0.03809062,  0.04608146, -0.00042559, ..., -0.02206658,\n         0.02635944, -0.00167624], dtype=float32),\n 'up:O00429': array([ 0.0403072 ,  0.11301904,  0.0250552 , ...,  0.03101926,\n        -0.00103797,  0.00544946], dtype=float32),\n 'up:Q96DP5': array([ 0.045682  ,  0.03221942,  0.04039931, ..., -0.05989537,\n         0.01754088,  0.01436471], dtype=float32),\n 'up:Q66LE6': array([ 0.02490046,  0.12332206,  0.05493509, ..., -0.00378793,\n        -0.01638025,  0.01064268], dtype=float32),\n 'up:P34998': array([ 0.02743179,  0.14210445,  0.04940065, ..., -0.0017103 ,\n        -0.02473747,  0.00093309], dtype=float32),\n 'up:P32927': array([-0.01722337, -0.02612722,  0.08252115, ..., -0.0449505 ,\n         0.05026768,  0.08577955], dtype=float32),\n 'up:A0A126GW96': array([-0.07704695,  0.08898029,  0.01847404, ..., -0.03490655,\n         0.02821303,  0.01063271], dtype=float32),\n 'up:P52740': array([-0.07359967,  0.05171127,  0.03351821, ...,  0.00897164,\n         0.07616962,  0.05612772], dtype=float32),\n 'up:Q08722': array([ 0.0175772 , -0.02961477,  0.06887874, ..., -0.02807829,\n         0.05325949, -0.00067107], dtype=float32),\n 'up:B3KVQ4': array([-0.00603139,  0.08080985,  0.03808283, ..., -0.01480381,\n         0.00801744,  0.02714707], dtype=float32),\n 'up:Q8TC07': array([ 0.03478565,  0.02769385,  0.03281076, ..., -0.01155384,\n        -0.02044836,  0.01891196], dtype=float32),\n 'up:Q6QHC5': array([ 0.00161241,  0.09079217,  0.00802892, ..., -0.0142472 ,\n        -0.03801466,  0.01375552], dtype=float32),\n 'up:Q5GH72': array([-0.02717792,  0.06036841,  0.03134997, ...,  0.00432546,\n         0.00241785,  0.03473179], dtype=float32),\n 'up:Q9UBK8': array([ 0.02871551,  0.05274753,  0.02161029, ..., -0.02301829,\n         0.01505736,  0.01560854], dtype=float32),\n 'up:P58005': array([ 0.06991231, -0.01879087,  0.03691453, ...,  0.05122557,\n        -0.05970897,  0.04817332], dtype=float32),\n 'up:Q9NU63': array([-0.08392316,  0.03401459,  0.06804795, ..., -0.00688659,\n         0.023307  ,  0.04509589], dtype=float32),\n 'up:Q9NQX4': array([0.02871639, 0.03395419, 0.00712331, ..., 0.00601807, 0.01553094,\n        0.01458526], dtype=float32),\n 'up:A5YM48': array([-0.01099196,  0.03288178,  0.02565944, ...,  0.05166316,\n         0.06897625, -0.00181265], dtype=float32),\n 'up:V9HWF5': array([ 0.11136595,  0.17411281, -0.02675482, ..., -0.08918194,\n         0.03456731,  0.06585661], dtype=float32),\n 'up:O60258': array([-0.0032126 ,  0.06199953,  0.07106287, ...,  0.01711141,\n        -0.03694772,  0.03071613], dtype=float32),\n 'up:A0A1U9X785': array([-0.01115038, -0.04664436,  0.04809091, ..., -0.00811336,\n         0.07236896,  0.06285055], dtype=float32),\n 'up:Q9UIE0': array([-0.08014213,  0.03736012,  0.03008005, ...,  0.02026744,\n         0.07515423,  0.06176803], dtype=float32),\n 'up:Q05CQ2': array([-0.04077483,  0.07974505,  0.02739185, ...,  0.0083491 ,\n        -0.00427365,  0.00027658], dtype=float32),\n 'up:P62324': array([ 0.01410113, -0.00465784,  0.01718919, ...,  0.01138078,\n        -0.00506542,  0.01443043], dtype=float32),\n 'up:Q8NGK1': array([-0.04816505,  0.12353022,  0.03180931, ...,  0.00626309,\n         0.00409871,  0.01108411], dtype=float32),\n 'up:Q9H2C5': array([-0.04512982,  0.11419224,  0.02584817, ...,  0.01133963,\n         0.01895119,  0.0155724 ], dtype=float32),\n 'up:O95760': array([ 0.0019149 , -0.00219821,  0.08903728, ...,  0.01726709,\n         0.05509853,  0.01941333], dtype=float32),\n 'up:P54852': array([ 0.03867859,  0.07782915,  0.03186052, ..., -0.0345557 ,\n         0.0269228 , -0.07063782], dtype=float32),\n 'up:P01225': array([-0.00288039,  0.0267652 ,  0.00512765, ...,  0.01108958,\n         0.05033613, -0.03683866], dtype=float32),\n 'up:P28335': array([0.01223415, 0.07497552, 0.03892244, ..., 0.01663619, 0.00492713,\n        0.01219041], dtype=float32),\n 'up:Q8NGR2': array([-0.05640288,  0.07805967,  0.02562216, ..., -0.03053007,\n         0.0397841 ,  0.02260656], dtype=float32),\n 'up:O14920': array([ 0.0056378 , -0.00308097,  0.03951262, ..., -0.04049207,\n         0.00250442,  0.006116  ], dtype=float32),\n 'up:A0A1U9X8W3': array([-0.06961555,  0.01449479,  0.01859262, ..., -0.00039512,\n         0.05243686,  0.05239505], dtype=float32),\n 'up:Q06330': array([ 0.03168211,  0.09644771,  0.0600417 , ...,  0.01990578,\n        -0.00622375, -0.04143754], dtype=float32),\n 'up:P35580': array([ 3.8020685e-02,  4.8945501e-02, -7.6095888e-04, ...,\n         1.6976565e-02,  1.3298269e-05,  2.6804598e-02], dtype=float32),\n 'up:Q7Z656': array([ 0.02617292,  0.00332375,  0.02260599, ..., -0.00365477,\n        -0.00454914,  0.01540596], dtype=float32),\n 'up:O75093': array([ 0.0074961 ,  0.05944175,  0.02355403, ...,  0.01816615,\n        -0.01299435,  0.01476933], dtype=float32),\n 'up:Q00653': array([-0.0033805 ,  0.01097548,  0.04308955, ..., -0.0113563 ,\n         0.00322278,  0.01453378], dtype=float32),\n 'up:P0DTE4': array([ 0.04501531,  0.11662386,  0.06137247, ...,  0.01437879,\n        -0.00383669,  0.00825166], dtype=float32),\n 'up:Q6NW12': array([ 0.01356431, -0.05625264, -0.00891153, ...,  0.01896775,\n         0.01890437,  0.01538431], dtype=float32),\n 'up:O15244': array([ 0.0088246 ,  0.13374843,  0.04425036, ..., -0.02455486,\n        -0.01765478, -0.01652416], dtype=float32),\n 'up:Q93086': array([ 0.00792599,  0.06655435,  0.03921944, ..., -0.0132192 ,\n         0.01041128,  0.02337474], dtype=float32),\n 'up:B2R761': array([ 0.04797948,  0.06747504,  0.02835589, ..., -0.0015152 ,\n         0.0076779 ,  0.0038746 ], dtype=float32),\n 'up:Q9BTI6': array([0.05524332, 0.01574513, 0.01483954, ..., 0.01489741, 0.0163468 ,\n        0.00559341], dtype=float32),\n 'up:S5RV20': array([ 0.03268824,  0.1139494 ,  0.01500834, ..., -0.02063668,\n        -0.02726834, -0.03074038], dtype=float32),\n 'up:Q16236': array([-0.00073392, -0.07192784,  0.00521994, ..., -0.06773621,\n        -0.00743492, -0.00320167], dtype=float32),\n 'up:Q14185': array([ 0.06912862,  0.06891429,  0.04814726, ...,  0.0075808 ,\n        -0.0059809 , -0.00366907], dtype=float32),\n 'up:Q6P1M3': array([ 0.00152233,  0.05595994,  0.07762001, ..., -0.0117625 ,\n         0.02600838,  0.00086964], dtype=float32),\n 'up:Q9NPH5': array([ 0.03199405,  0.07228221,  0.02057444, ..., -0.01935757,\n         0.00125285,  0.00899201], dtype=float32),\n 'up:A0A024RCH9': array([-0.06929202,  0.07283313,  0.02971943, ..., -0.02407473,\n         0.06065042,  0.01901005], dtype=float32),\n 'up:Q8NGC1': array([-0.04732009,  0.06667076,  0.01079357, ..., -0.0313393 ,\n         0.02712163,  0.01280636], dtype=float32),\n 'up:Q6IBB5': array([ 0.05224391, -0.0198499 , -0.05156492, ..., -0.01897233,\n         0.03002887,  0.04109668], dtype=float32),\n 'up:Q9Y2S2': array([ 0.05508878,  0.07981491,  0.03512226, ..., -0.0379702 ,\n         0.02559708,  0.01928376], dtype=float32),\n 'up:Q658L4': array([-0.08573032,  0.14745344,  0.11859624, ..., -0.04534725,\n         0.07391647,  0.03363742], dtype=float32),\n 'up:P0DMC3': array([-0.02623189,  0.10419108,  0.06553442, ...,  0.08249088,\n        -0.02086247, -0.04554088], dtype=float32),\n 'up:Q9Y3L5': array([ 0.07259233,  0.16204898,  0.01003752, ..., -0.04351702,\n        -0.00937374,  0.02526706], dtype=float32),\n 'up:Q9UBK5': array([-0.01685671, -0.02323222,  0.051287  , ..., -0.01393581,\n         0.0338304 ,  0.13834392], dtype=float32),\n 'up:P04628': array([-0.01916461,  0.10466465, -0.05843057, ..., -0.00452791,\n        -0.01437989, -0.01360729], dtype=float32),\n 'up:O43516': array([-0.01106218,  0.08729175,  0.08500089, ...,  0.09007033,\n         0.03097807,  0.01461708], dtype=float32),\n 'up:O76083': array([ 0.03737563,  0.03995012,  0.00943283, ..., -0.00417731,\n        -0.01538743,  0.01106818], dtype=float32),\n 'up:A0A140VJL0': array([ 0.06106528,  0.05823278,  0.01177833, ..., -0.02950873,\n         0.02353045,  0.00970582], dtype=float32),\n 'up:Q8IVC0': array([ 0.00754582,  0.01439068,  0.03264731, ..., -0.00471438,\n         0.01470007,  0.04909115], dtype=float32),\n 'up:A0A140VK24': array([ 0.01045573,  0.07750268,  0.04683349, ..., -0.04125509,\n         0.02135826,  0.0340612 ], dtype=float32),\n 'up:A0A140VJQ8': array([ 0.02053092,  0.07247614,  0.02344947, ...,  0.01946415,\n        -0.01403661,  0.05236851], dtype=float32),\n 'up:O95180': array([ 0.03108441,  0.05423831,  0.0408085 , ...,  0.0119111 ,\n        -0.01261239,  0.05408829], dtype=float32),\n 'up:O96007': array([ 0.08976784,  0.00271217, -0.01132268, ...,  0.01781816,\n         0.01221519, -0.02014166], dtype=float32),\n 'up:P08172': array([-0.01290998,  0.05930154,  0.03203985, ...,  0.02688763,\n         0.03364307,  0.00258942], dtype=float32),\n 'up:Q6FHV6': array([ 0.05942481,  0.05929976, -0.0085281 , ..., -0.04339727,\n         0.01288744,  0.03256031], dtype=float32),\n 'up:P54762': array([ 0.05081842,  0.11599214,  0.04485283, ...,  0.01439884,\n        -0.03186124, -0.02282544], dtype=float32),\n 'up:B3KN83': array([ 0.03252558, -0.01793326,  0.0567672 , ...,  0.01967539,\n        -0.04626846, -0.03578451], dtype=float32),\n 'up:Q96A32': array([ 0.02590058,  0.07038262,  0.05303577, ..., -0.04335736,\n         0.00505891,  0.05938214], dtype=float32),\n 'up:B0YJ53': array([ 0.00985839,  0.04226112,  0.05442793, ..., -0.05966677,\n         0.02944724,  0.007086  ], dtype=float32),\n 'up:P31152': array([ 0.00498251,  0.02532154,  0.02738108, ..., -0.0232447 ,\n         0.00644214,  0.01405204], dtype=float32),\n 'up:P20700': array([-0.03220814,  0.02283048,  0.00949176, ..., -0.02869199,\n         0.0109308 ,  0.00172597], dtype=float32),\n 'up:A0A140VKA8': array([0.04089841, 0.03663621, 0.00774658, ..., 0.01494129, 0.02441   ,\n        0.03170261], dtype=float32),\n 'up:P14621': array([ 0.02948814,  0.05419244,  0.02160048, ..., -0.00499899,\n         0.00110169,  0.01119659], dtype=float32),\n 'up:P49023': array([ 0.02053092,  0.07247614,  0.02344947, ...,  0.01946415,\n        -0.01403661,  0.05236851], dtype=float32),\n 'up:Q9Y6H5': array([ 8.8387867e-05, -3.4300402e-02,  2.5922649e-02, ...,\n         1.2263302e-03,  2.5059632e-03,  9.0333568e-03], dtype=float32),\n 'up:Q9BW91': array([ 0.05167892, -0.01183982,  0.03191104, ..., -0.00870262,\n         0.02364167, -0.00106829], dtype=float32),\n 'up:Q04828': array([ 0.03172014,  0.12774841,  0.03570082, ..., -0.05989273,\n        -0.01021065, -0.0282259 ], dtype=float32),\n 'up:P07478': array([ 0.0214334 ,  0.07411657,  0.02779895, ...,  0.00955929,\n         0.01777921, -0.0151432 ], dtype=float32),\n 'up:Q8N4E7': array([ 0.05446696,  0.03392507, -0.01134822, ..., -0.04131085,\n         0.01313909,  0.11811431], dtype=float32),\n 'up:P49715': array([-0.00607347, -0.00410055,  0.02172261, ..., -0.04923154,\n        -0.04110405,  0.06046131], dtype=float32),\n 'up:V9HWF3': array([ 0.01960256,  0.05650241,  0.00061967, ..., -0.05423021,\n        -0.02466005,  0.04497508], dtype=float32),\n 'up:P47872': array([ 0.01386822,  0.11555567,  0.04747641, ..., -0.01062281,\n        -0.02290088,  0.01983117], dtype=float32),\n 'up:P08173': array([0.00203303, 0.07479153, 0.03349186, ..., 0.02534309, 0.00963101,\n        0.01111885], dtype=float32),\n 'up:A0A7R8GUN5': array([ 0.02376449, -0.02754173,  0.07109631, ..., -0.02782169,\n         0.00768632,  0.04375188], dtype=float32),\n 'up:Q99523': array([ 0.00407026,  0.03452119,  0.10157249, ..., -0.03025663,\n         0.00079622, -0.02216199], dtype=float32),\n 'up:Q9NYJ7': array([-0.0228405 ,  0.04213342,  0.02600089, ..., -0.02208605,\n         0.02535729,  0.05511175], dtype=float32),\n 'up:B4DN28': array([ 0.0317991 ,  0.09070413,  0.07109734, ...,  0.01050018,\n         0.01577846, -0.03417036], dtype=float32),\n 'up:Q9BV20': array([ 0.05448737,  0.07607147,  0.02956959, ..., -0.0443347 ,\n         0.01482334,  0.03522931], dtype=float32),\n 'up:A0A140VK44': array([ 0.03869042,  0.12833154,  0.0408796 , ..., -0.0246937 ,\n         0.01982672,  0.00668743], dtype=float32),\n 'up:P62879': array([ 0.03924203,  0.09396741,  0.03721087, ..., -0.05330589,\n        -0.00626466,  0.00294294], dtype=float32),\n 'up:Q9BY67': array([ 0.03029247,  0.04341917,  0.03951599, ...,  0.01556448,\n         0.01926076, -0.01674421], dtype=float32),\n 'up:P27037': array([ 0.04074408,  0.10036593,  0.06087134, ..., -0.0294941 ,\n        -0.04811277, -0.00617884], dtype=float32),\n 'up:O43166': array([ 0.0225204 ,  0.00100261,  0.02245533, ...,  0.01269404,\n         0.01207221, -0.00832148], dtype=float32),\n 'up:P04899': array([ 0.07556088,  0.14342055,  0.03794504, ..., -0.03428261,\n         0.00811337,  0.0303923 ], dtype=float32),\n 'up:P0CG48': array([0.18904045, 0.115333  , 0.01448674, ..., 0.01057167, 0.04565859,\n        0.11622703], dtype=float32),\n 'up:P78318': array([ 0.0304143 ,  0.02971059,  0.03599932, ..., -0.03040508,\n         0.01151728,  0.00924839], dtype=float32),\n 'up:Q96SQ5': array([-0.07426105,  0.04161555,  0.04058372, ..., -0.00376963,\n         0.07122883,  0.0753983 ], dtype=float32),\n 'up:Q9BX69': array([-0.05634008,  0.05101914,  0.12047448, ..., -0.03357248,\n         0.13584833,  0.06858606], dtype=float32),\n 'up:P07949': array([ 0.03150284,  0.01546779,  0.0472972 , ..., -0.01104206,\n         0.02879362,  0.0303162 ], dtype=float32),\n 'up:O43295': array([ 0.02728641,  0.05884222,  0.03447556, ...,  0.01325887,\n        -0.03207554,  0.01991275], dtype=float32),\n 'up:P10147': array([ 0.03985179,  0.07993607,  0.0768665 , ..., -0.0225739 ,\n        -0.02884625, -0.00715639], dtype=float32),\n 'up:P01130': array([ 0.01033977,  0.07773637,  0.04165453, ..., -0.01068956,\n        -0.02436144,  0.00428817], dtype=float32),\n 'up:Q92854': array([-0.00196093,  0.03466577,  0.03779868, ..., -0.00843611,\n         0.02634386,  0.01522958], dtype=float32),\n 'up:Q7L945': array([-0.08118889,  0.10055633,  0.02044814, ..., -0.00279517,\n         0.07098429,  0.0813557 ], dtype=float32),\n 'up:Q14766': array([ 0.00961399,  0.0573182 ,  0.05880959, ...,  0.00046578,\n        -0.00590159,  0.02984794], dtype=float32),\n 'up:Q6NS90': array([-0.02286771,  0.00290181,  0.02506002, ..., -0.03366547,\n        -0.0297137 ,  0.06490859], dtype=float32),\n 'up:Q08462': array([ 0.06802718,  0.10185923,  0.04962791, ...,  0.02789699,\n        -0.04033209, -0.00311681], dtype=float32),\n 'up:K7PPU3': array([ 0.05482243, -0.06855195, -0.01936504, ..., -0.04263381,\n         0.04535156,  0.02431212], dtype=float32),\n 'up:A0A1V0E3P1': array([-0.03130496,  0.05899576,  0.03323356, ..., -0.00780708,\n         0.01684582,  0.02276795], dtype=float32),\n 'up:P33261': array([ 0.03834113,  0.11569116,  0.01303174, ..., -0.02237041,\n        -0.02961354, -0.02628644], dtype=float32),\n 'up:P21399': array([ 0.041333  ,  0.11376563,  0.02706292, ...,  0.0115485 ,\n        -0.00532316,  0.04124654], dtype=float32),\n 'up:O94887': array([-0.01467409,  0.05351082,  0.04094334, ...,  0.02497113,\n        -0.02857599,  0.02418805], dtype=float32),\n 'up:Q69FE3': array([ 0.03942042, -0.03638078,  0.01662745, ..., -0.01450297,\n         0.06573699, -0.02485763], dtype=float32),\n 'up:Q06418': array([ 0.00302232,  0.00818289,  0.03716517, ..., -0.00082522,\n         0.0201733 ,  0.03408307], dtype=float32),\n 'up:Q9H0K1': array([ 0.03419778,  0.01720156,  0.03226538, ..., -0.01858175,\n         0.00745021,  0.01027596], dtype=float32),\n 'up:Q9HCT0': array([-0.05086342,  0.09021417,  0.08788788, ..., -0.00150744,\n        -0.00639443,  0.06294054], dtype=float32),\n 'up:Q86X09': array([-0.07118137, -0.03185278, -0.01225571, ..., -0.01447421,\n         0.03266057,  0.04533296], dtype=float32),\n 'up:P60228': array([ 0.05520996,  0.0821616 ,  0.02487112, ..., -0.01094313,\n        -0.01836964,  0.0329526 ], dtype=float32),\n 'up:P01266': array([0.02212585, 0.04772133, 0.06079162, ..., 0.01708176, 0.03450459,\n        0.03381636], dtype=float32),\n 'up:P32241': array([ 0.01180349,  0.11613977,  0.04682437, ..., -0.00173693,\n        -0.02029841,  0.02473792], dtype=float32),\n 'up:O75385': array([ 0.02635729,  0.03388174,  0.01980353, ...,  0.02979781,\n        -0.00568986,  0.01090913], dtype=float32),\n 'up:Q7LD69': array([0.06963706, 0.12378415, 0.00724934, ..., 0.00353885, 0.03290675,\n        0.07281455], dtype=float32),\n 'up:A0A096LP55': array([-0.00283436, -0.03600336,  0.01450421, ...,  0.06156808,\n        -0.00390082,  0.0673921 ], dtype=float32),\n 'up:X5D8S6': array([ 0.09337266,  0.07703909,  0.00207478, ...,  0.00284842,\n        -0.00895295,  0.03012953], dtype=float32),\n 'up:Q9UP38': array([ 0.03300834,  0.10264029,  0.04401317, ...,  0.00947582,\n        -0.02552443,  0.03136312], dtype=float32),\n 'up:Q86TP1': array([ 0.02470691,  0.02951902,  0.04917116, ..., -0.05824854,\n         0.0151801 ,  0.00299748], dtype=float32),\n 'up:Q7Z6K4': array([ 0.04984453,  0.0209098 ,  0.01368315, ..., -0.05281361,\n         0.02240262,  0.01090414], dtype=float32),\n 'up:Q59HA3': array([ 0.01940744,  0.02647641,  0.05768696, ...,  0.00466931,\n        -0.00944712,  0.01191049], dtype=float32),\n 'up:P48651': array([ 0.0488112 ,  0.06669527,  0.03092338, ..., -0.00064702,\n         0.00136521,  0.00132043], dtype=float32),\n 'up:Q53QY6': array([-0.04855002, -0.01841111,  0.04314329, ...,  0.00640933,\n         0.06161801,  0.05078796], dtype=float32),\n 'up:P62995': array([0.05544539, 0.02903615, 0.02570438, ..., 0.00762125, 0.09089304,\n        0.00581813], dtype=float32),\n 'up:A0A1B1RVA9': array([ 0.00590257,  0.07448379,  0.03114629, ..., -0.02254034,\n        -0.00128122, -0.02182523], dtype=float32),\n 'up:Q99424': array([0.05887638, 0.06715642, 0.00427978, ..., 0.01597016, 0.03237757,\n        0.02146245], dtype=float32),\n 'up:Q8NGB6': array([-0.06204363,  0.08107805,  0.02917437, ..., -0.02554402,\n         0.03169745,  0.00130321], dtype=float32),\n 'up:Q01664': array([ 0.01536446,  0.000202  ,  0.0385379 , ..., -0.00360524,\n        -0.04339967, -0.0184085 ], dtype=float32),\n 'up:P15336': array([ 0.02269989,  0.03832128,  0.05777794, ..., -0.00079831,\n        -0.03627177, -0.01578855], dtype=float32),\n 'up:B2RN74': array([-0.07189879,  0.06554836,  0.00834169, ..., -0.03222366,\n         0.04273038,  0.01743015], dtype=float32),\n 'up:Q92782': array([ 0.01630108,  0.10927019,  0.02860892, ...,  0.00969504,\n        -0.05968175,  0.00348882], dtype=float32),\n 'up:Q96H40': array([-0.03554748,  0.07802294,  0.013422  , ...,  0.00034639,\n         0.08047127,  0.06837605], dtype=float32),\n 'up:Q6FII1': array([ 0.04317031,  0.07109623,  0.00740438, ..., -0.05177826,\n        -0.00343925,  0.05061068], dtype=float32),\n 'up:P25090': array([-0.00094874,  0.07000475,  0.04700892, ..., -0.0046216 ,\n         0.02585907,  0.02732451], dtype=float32),\n 'up:Q2M2H8': array([0.04473791, 0.09493354, 0.06622061, ..., 0.01252392, 0.04661659,\n        0.04576536], dtype=float32),\n 'up:Q9UPR5': array([0.01906007, 0.11326618, 0.0233666 , ..., 0.00955704, 0.01308079,\n        0.03719216], dtype=float32),\n 'up:P07101': array([0.05081473, 0.02858391, 0.02770824, ..., 0.02526057, 0.00209603,\n        0.0493121 ], dtype=float32),\n 'up:P0DTE8': array([ 0.05015257,  0.10308179,  0.02284381, ..., -0.01459989,\n         0.01774756, -0.00548851], dtype=float32),\n 'up:Q13585': array([-0.04587841,  0.1240417 ,  0.07908145, ..., -0.03546535,\n         0.06622481,  0.04641507], dtype=float32),\n 'up:A0A0K0K1K4': array([ 0.02934613,  0.1016582 ,  0.02327255, ..., -0.03994824,\n         0.02841123,  0.00420799], dtype=float32),\n 'up:O15169': array([-0.00239274, -0.03228459, -0.01512614, ...,  0.01811248,\n        -0.01005415,  0.03148995], dtype=float32),\n 'up:B0ZBE0': array([-0.02579345,  0.05717342,  0.03521716, ..., -0.0251625 ,\n         0.01127262,  0.04101096], dtype=float32),\n 'up:Q15109': array([-0.01115038, -0.04664436,  0.04809091, ..., -0.00811336,\n         0.07236896,  0.06285055], dtype=float32),\n 'up:Q9BUF5': array([ 0.05610957,  0.13846649, -0.0085581 , ..., -0.02345061,\n         0.00015024,  0.0535062 ], dtype=float32),\n 'up:P05089': array([ 0.07767297,  0.08364798,  0.01248659, ..., -0.05854065,\n         0.02954051, -0.00031968], dtype=float32),\n 'up:A0A2K8FKV1': array([ 0.00769937,  0.06598209,  0.038661  , ...,  0.01646541,\n        -0.00643605, -0.00482657], dtype=float32),\n 'up:O43451': array([0.09109931, 0.13150634, 0.04293426, ..., 0.00119869, 0.00029026,\n        0.02701258], dtype=float32),\n 'up:P54257': array([-0.01526048, -0.03541812,  0.00362766, ..., -0.02200585,\n         0.05106258,  0.01442516], dtype=float32),\n 'up:Q9GZN2': array([ 0.00157928,  0.01395925,  0.03030682, ...,  0.00253688,\n        -0.02702479,  0.01572865], dtype=float32),\n 'up:Q9HC97': array([-0.04148972,  0.04378663,  0.0166955 , ..., -0.00326481,\n         0.00266058,  0.05192827], dtype=float32),\n 'up:Q86SQ9': array([ 0.01669354,  0.07790624,  0.04864739, ..., -0.03387814,\n        -0.03571125,  0.02611435], dtype=float32),\n 'up:O14511': array([ 0.02610708,  0.01731428,  0.04039793, ..., -0.03318807,\n        -0.00805571,  0.05331392], dtype=float32),\n 'up:Q9H2L5': array([-0.0153776 ,  0.02253837,  0.04463411, ...,  0.02061755,\n        -0.01135349,  0.0128274 ], dtype=float32),\n 'up:Q53X91': array([ 0.04227854,  0.08659323,  0.02206556, ..., -0.0610223 ,\n         0.00600063,  0.03082328], dtype=float32),\n 'up:P07360': array([ 0.00545291,  0.05409868,  0.04560238, ..., -0.02612951,\n        -0.00615628,  0.08681809], dtype=float32),\n ...}"
     },
     "execution_count": 28,
     "metadata": {},
     "output_type": "execute_result"
    }
   ],
   "source": [
    "protein_embeddings = kamping.get_uniprot_protein_embeddings(gene_graphs, '../data/embedding/protein_embedding.h5') \n",
    "protein_embeddings"
   ],
   "metadata": {
    "collapsed": false,
    "ExecuteTime": {
     "end_time": "2024-12-16T17:15:26.800967Z",
     "start_time": "2024-12-16T17:15:26.024975Z"
    }
   },
   "id": "3e176d26663c876c",
   "execution_count": 28
  },
  {
   "cell_type": "code",
   "outputs": [
    {
     "data": {
      "text/plain": "8837"
     },
     "execution_count": 29,
     "metadata": {},
     "output_type": "execute_result"
    }
   ],
   "source": [
    "# combine protein embeddings and metabolite embeddings into one dictionary\n",
    "embeddings = {**protein_embeddings, **mol_embeddings}\n",
    "len(embeddings)"
   ],
   "metadata": {
    "collapsed": false,
    "ExecuteTime": {
     "end_time": "2024-12-16T17:15:26.829020Z",
     "start_time": "2024-12-16T17:15:26.802369Z"
    }
   },
   "id": "83f48e93339ac4c1",
   "execution_count": 29
  },
  {
   "cell_type": "code",
   "outputs": [
    {
     "name": "stderr",
     "output_type": "stream",
     "text": [
      "/Users/cgu3/Documents/experiments/KAMPING/kamping/data/convert.py:323: UserWarning: To copy construct from a tensor, it is recommended to use sourceTensor.clone().detach() or sourceTensor.clone().detach().requires_grad_(True), rather than torch.tensor(sourceTensor).\n",
      "  hetero_data_dict[group][key] = torch.tensor(value)\n"
     ]
    },
    {
     "data": {
      "text/plain": "HeteroData(\n  name='combined',\n  type='mixed',\n  compound={ x=[1432, 1024] },\n  gene={ x=[7405, 1024] },\n  (compound, to, compound)={ edge_index=[2, 362] },\n  (compound, to, gene)={ edge_index=[2, 8789] },\n  (gene, to, compound)={ edge_index=[2, 6955] },\n  (gene, to, gene)={ edge_index=[2, 77375] }\n)"
     },
     "execution_count": 96,
     "metadata": {},
     "output_type": "execute_result"
    }
   ],
   "source": [
    "pyg_graph = kamping.convert_to_single_pyg(gene_graphs, embeddings=embeddings)\n",
    "data= pyg_graph\n",
    "data"
   ],
   "metadata": {
    "collapsed": false,
    "ExecuteTime": {
     "end_time": "2024-12-16T17:27:11.915440Z",
     "start_time": "2024-12-16T17:27:09.865804Z"
    }
   },
   "id": "8bc39d3f80ad5dc5",
   "execution_count": 96
  },
  {
   "cell_type": "code",
   "outputs": [],
   "source": [
    "# # del data['compound']\n",
    "# # del data[('gene', 'to', 'gene')]\n",
    "# # del data[('gene', 'to', 'compound')]\n",
    "# # del data[('compound', 'to', 'gene')]\n",
    "# # del data[('compound', 'to', 'compound')]\n",
    "# data"
   ],
   "metadata": {
    "collapsed": false,
    "ExecuteTime": {
     "end_time": "2024-12-16T17:27:12.373294Z",
     "start_time": "2024-12-16T17:27:12.343485Z"
    }
   },
   "id": "46e9dd189a482ee0",
   "execution_count": 97
  },
  {
   "cell_type": "code",
   "outputs": [],
   "source": [
    "# to undirected graph\n",
    "from torch_geometric.transforms.to_undirected import ToUndirected\n",
    "# transform = ToUndirected()\n",
    "# data = transform(data)"
   ],
   "metadata": {
    "collapsed": false,
    "ExecuteTime": {
     "end_time": "2024-12-16T17:27:12.572949Z",
     "start_time": "2024-12-16T17:27:12.544798Z"
    }
   },
   "id": "16021c0d7806ec0f",
   "execution_count": 98
  },
  {
   "cell_type": "code",
   "outputs": [],
   "source": [
    "import torch_geometric.transforms as T\n",
    "transform = T.RandomLinkSplit(\n",
    "    num_val=0.1,\n",
    "    num_test=0.1,\n",
    "    is_undirected=True,\n",
    "    # disjoint_train_ratio=0.3, # TODO\n",
    "    neg_sampling_ratio=1.0, # TODO\n",
    "    add_negative_train_samples=False,\n",
    "    edge_types=(\"gene\", \"to\", \"gene\")\n",
    ")\n",
    "train_data, val_data, test_data = transform(data)"
   ],
   "metadata": {
    "collapsed": false,
    "ExecuteTime": {
     "end_time": "2024-12-16T17:27:12.759699Z",
     "start_time": "2024-12-16T17:27:12.724039Z"
    }
   },
   "id": "389fc6df9800e2a8",
   "execution_count": 99
  },
  {
   "cell_type": "code",
   "outputs": [],
   "source": [
    "import torch"
   ],
   "metadata": {
    "collapsed": false,
    "ExecuteTime": {
     "end_time": "2024-12-16T17:27:13.049936Z",
     "start_time": "2024-12-16T17:27:13.022694Z"
    }
   },
   "id": "8042718c663e2beb",
   "execution_count": 100
  },
  {
   "cell_type": "code",
   "outputs": [],
   "source": [
    "from torch.utils.data import random_split\n",
    "import torch.nn as nn\n",
    "from torch_geometric.nn import GCNConv, GAE, GATConv, Linear, to_hetero, SAGEConv\n",
    "from torch_geometric.loader import DataLoader\n",
    "import torch\n",
    "from tqdm import tqdm\n",
    "import torch_geometric.utils as utils\n",
    "import torch.nn.functional as F\n",
    "\n",
    "class GCNEncoder(torch.nn.Module):\n",
    "    def __init__(self, in_channels, out_channels):\n",
    "        super().__init__()\n",
    "        self.conv1 = SAGEConv(in_channels, 2 * out_channels)\n",
    "        self.conv2 = SAGEConv(2 * out_channels, out_channels)\n",
    "\n",
    "    def forward(self, x, edge_index):\n",
    "        x = self.conv1(x, edge_index).relu()\n",
    "        return self.conv2(x, edge_index)\n"
   ],
   "metadata": {
    "collapsed": false,
    "ExecuteTime": {
     "end_time": "2024-12-16T17:27:13.520376Z",
     "start_time": "2024-12-16T17:27:13.492860Z"
    }
   },
   "id": "50d140fd839b8e0f",
   "execution_count": 101
  },
  {
   "cell_type": "code",
   "outputs": [
    {
     "data": {
      "text/plain": "tensor([[0., 0., 0.,  ..., 0., 0., 0.],\n        [0., 0., 0.,  ..., 0., 0., 0.],\n        [0., 1., 0.,  ..., 0., 0., 0.],\n        ...,\n        [0., 0., 0.,  ..., 0., 0., 0.],\n        [0., 0., 0.,  ..., 0., 0., 0.],\n        [0., 0., 0.,  ..., 0., 0., 0.]])"
     },
     "execution_count": 102,
     "metadata": {},
     "output_type": "execute_result"
    }
   ],
   "source": [
    "train_data['compound'].x"
   ],
   "metadata": {
    "collapsed": false,
    "ExecuteTime": {
     "end_time": "2024-12-16T17:27:13.940727Z",
     "start_time": "2024-12-16T17:27:13.913031Z"
    }
   },
   "id": "8849dd5b1c62e64b",
   "execution_count": 102
  },
  {
   "cell_type": "code",
   "outputs": [],
   "source": [
    "from sklearn.metrics import roc_auc_score"
   ],
   "metadata": {
    "collapsed": false,
    "ExecuteTime": {
     "end_time": "2024-12-16T17:27:15.309674Z",
     "start_time": "2024-12-16T17:27:15.277628Z"
    }
   },
   "id": "c9b1c050ef90d829",
   "execution_count": 103
  },
  {
   "cell_type": "markdown",
   "source": [],
   "metadata": {
    "collapsed": false
   },
   "id": "8a16883c96a0d23"
  },
  {
   "cell_type": "code",
   "outputs": [],
   "source": [
    "def train(model, optimizer, data):\n",
    "\n",
    "    z_dict = model(data.x_dict, data.edge_index_dict)\n",
    "\n",
    "    pos_edge_label_index = data[('gene', 'to', 'gene')].edge_label_index\n",
    "    pos_edge_label = torch.ones(pos_edge_label_index.size(1))\n",
    "\n",
    "    neg_edge_label_index = utils.negative_sampling(edge_index=pos_edge_label_index, #positive edges\n",
    "                                                    num_nodes=data['gene'].x.size(0), # number of nodes\n",
    "                                                    num_neg_samples=pos_edge_label_index.size(1))\n",
    "    neg_edge_label = torch.zeros(neg_edge_label_index.size(1))\n",
    "\n",
    "    edge_label_index = torch.cat([pos_edge_label_index, neg_edge_label_index], dim=1)\n",
    "    edge_label = torch.cat([pos_edge_label, neg_edge_label], dim=0)\n",
    "\n",
    "    z_src = z_dict['gene'][edge_label_index[0]]\n",
    "    z_dst = z_dict['gene'][edge_label_index[1]]\n",
    "\n",
    "    recon = (z_src * z_dst).sum(dim=-1)\n",
    "    loss = F.binary_cross_entropy_with_logits(recon, edge_label)\n",
    "    # calculate AUC\n",
    "    auc = roc_auc_score(edge_label.cpu().detach().numpy(), recon.cpu().detach().numpy())\n",
    "    optimizer.zero_grad()\n",
    "    loss.backward()\n",
    "    optimizer.step()\n",
    "\n",
    "    return loss.item(), auc\n"
   ],
   "metadata": {
    "collapsed": false,
    "ExecuteTime": {
     "end_time": "2024-12-16T17:27:15.919493Z",
     "start_time": "2024-12-16T17:27:15.886997Z"
    }
   },
   "id": "88a3d9f96ec56466",
   "execution_count": 104
  },
  {
   "cell_type": "code",
   "outputs": [],
   "source": [
    "def main():\n",
    "    num_epochs = 1000\n",
    "    batch_size = 10\n",
    "    in_channels, out_channels = 1024, 10\n",
    "    device = torch.device('cuda' if torch.cuda.is_available() else 'cpu')\n",
    "\n",
    "    model = GCNEncoder(in_channels, out_channels)\n",
    "    model = to_hetero(model, data.metadata(), aggr='sum')\n",
    "    model = model.to(device)\n",
    "\n",
    "    optimizer = torch.optim.Adam(params=model.parameters(), lr=0.01)\n",
    "\n",
    "    for _ in tqdm(range(num_epochs)):\n",
    "        loss, auc = train(model, optimizer, train_data)\n",
    "        print(\"Loss is : \", loss)\n",
    "        print(\"AUC is : \", auc)\n"
   ],
   "metadata": {
    "collapsed": false,
    "ExecuteTime": {
     "end_time": "2024-12-16T17:27:16.204882Z",
     "start_time": "2024-12-16T17:27:16.176045Z"
    }
   },
   "id": "7972eee123d1be10",
   "execution_count": 105
  },
  {
   "cell_type": "code",
   "outputs": [
    {
     "data": {
      "text/plain": "HeteroData(\n  name='combined',\n  type='mixed',\n  compound={ x=[1432, 1024] },\n  gene={ x=[7405, 1024] },\n  (compound, to, compound)={ edge_index=[2, 362] },\n  (compound, to, gene)={ edge_index=[2, 8789] },\n  (gene, to, compound)={ edge_index=[2, 6955] },\n  (gene, to, gene)={ edge_index=[2, 77375] }\n)"
     },
     "execution_count": 107,
     "metadata": {},
     "output_type": "execute_result"
    }
   ],
   "source": [
    "data"
   ],
   "metadata": {
    "collapsed": false,
    "ExecuteTime": {
     "end_time": "2024-12-16T17:27:46.716237Z",
     "start_time": "2024-12-16T17:27:46.684419Z"
    }
   },
   "id": "89e8ff1c87df3d91",
   "execution_count": 107
  },
  {
   "cell_type": "code",
   "outputs": [
    {
     "name": "stderr",
     "output_type": "stream",
     "text": [
      "  0%|          | 2/1000 [00:00<01:51,  8.95it/s]"
     ]
    },
    {
     "name": "stdout",
     "output_type": "stream",
     "text": [
      "Loss is :  0.7060911655426025\n",
      "AUC is :  0.5770540960328022\n",
      "Loss is :  0.8108980655670166\n",
      "AUC is :  0.7511234942053767\n"
     ]
    },
    {
     "name": "stderr",
     "output_type": "stream",
     "text": [
      "  0%|          | 4/1000 [00:00<01:51,  8.92it/s]"
     ]
    },
    {
     "name": "stdout",
     "output_type": "stream",
     "text": [
      "Loss is :  0.6988070607185364\n",
      "AUC is :  0.8725923880934381\n",
      "Loss is :  0.6101466417312622\n",
      "AUC is :  0.8689185786405437\n"
     ]
    },
    {
     "name": "stderr",
     "output_type": "stream",
     "text": [
      "  1%|          | 6/1000 [00:00<01:50,  8.96it/s]"
     ]
    },
    {
     "name": "stdout",
     "output_type": "stream",
     "text": [
      "Loss is :  0.5839148759841919\n",
      "AUC is :  0.8840822951889831\n",
      "Loss is :  0.5937895178794861\n",
      "AUC is :  0.8781830781398758\n"
     ]
    },
    {
     "name": "stderr",
     "output_type": "stream",
     "text": [
      "  1%|          | 8/1000 [00:00<01:47,  9.20it/s]"
     ]
    },
    {
     "name": "stdout",
     "output_type": "stream",
     "text": [
      "Loss is :  0.5696653723716736\n",
      "AUC is :  0.8833380028537744\n",
      "Loss is :  0.5591142773628235\n",
      "AUC is :  0.8853442321534339\n"
     ]
    },
    {
     "name": "stderr",
     "output_type": "stream",
     "text": [
      "  1%|          | 10/1000 [00:01<01:48,  9.15it/s]"
     ]
    },
    {
     "name": "stdout",
     "output_type": "stream",
     "text": [
      "Loss is :  0.5454058647155762\n",
      "AUC is :  0.8868895920234667\n",
      "Loss is :  0.5405158400535583\n",
      "AUC is :  0.8834632372418629\n"
     ]
    },
    {
     "name": "stderr",
     "output_type": "stream",
     "text": [
      "  1%|▏         | 13/1000 [00:01<01:42,  9.66it/s]"
     ]
    },
    {
     "name": "stdout",
     "output_type": "stream",
     "text": [
      "Loss is :  0.5324928760528564\n",
      "AUC is :  0.8808450532755107\n",
      "Loss is :  0.5231932401657104\n",
      "AUC is :  0.8825571158949255\n",
      "Loss is :  0.512742817401886\n",
      "AUC is :  0.8900623668777694\n"
     ]
    },
    {
     "name": "stderr",
     "output_type": "stream",
     "text": [
      "  2%|▏         | 15/1000 [00:01<01:40,  9.78it/s]"
     ]
    },
    {
     "name": "stdout",
     "output_type": "stream",
     "text": [
      "Loss is :  0.5065770745277405\n",
      "AUC is :  0.8994640179170846\n",
      "Loss is :  0.5021194219589233\n",
      "AUC is :  0.908784216285038\n",
      "Loss is :  0.4964260756969452\n",
      "AUC is :  0.9166534757303947\n"
     ]
    },
    {
     "name": "stderr",
     "output_type": "stream",
     "text": [
      "  2%|▏         | 19/1000 [00:01<01:36, 10.19it/s]"
     ]
    },
    {
     "name": "stdout",
     "output_type": "stream",
     "text": [
      "Loss is :  0.491542786359787\n",
      "AUC is :  0.9213433466834\n",
      "Loss is :  0.487273633480072\n",
      "AUC is :  0.9266961184267786\n",
      "Loss is :  0.4851556718349457\n",
      "AUC is :  0.9294341828537437\n"
     ]
    },
    {
     "name": "stderr",
     "output_type": "stream",
     "text": [
      "  2%|▏         | 21/1000 [00:02<01:35, 10.24it/s]"
     ]
    },
    {
     "name": "stdout",
     "output_type": "stream",
     "text": [
      "Loss is :  0.4828897714614868\n",
      "AUC is :  0.9324222106602484\n",
      "Loss is :  0.481884628534317\n",
      "AUC is :  0.9350535305279937\n",
      "Loss is :  0.47576630115509033\n",
      "AUC is :  0.9391204352172355\n"
     ]
    },
    {
     "name": "stderr",
     "output_type": "stream",
     "text": [
      "  2%|▎         | 25/1000 [00:02<01:34, 10.35it/s]"
     ]
    },
    {
     "name": "stdout",
     "output_type": "stream",
     "text": [
      "Loss is :  0.471223920583725\n",
      "AUC is :  0.941451248260629\n",
      "Loss is :  0.47000038623809814\n",
      "AUC is :  0.9427903262707603\n",
      "Loss is :  0.4676051735877991\n",
      "AUC is :  0.9441071138945126\n"
     ]
    },
    {
     "name": "stderr",
     "output_type": "stream",
     "text": [
      "  3%|▎         | 27/1000 [00:02<01:35, 10.17it/s]"
     ]
    },
    {
     "name": "stdout",
     "output_type": "stream",
     "text": [
      "Loss is :  0.4686444103717804\n",
      "AUC is :  0.9432127263198913\n",
      "Loss is :  0.4659672975540161\n",
      "AUC is :  0.9431435707931579\n"
     ]
    },
    {
     "name": "stderr",
     "output_type": "stream",
     "text": [
      "  3%|▎         | 29/1000 [00:02<01:35, 10.16it/s]"
     ]
    },
    {
     "name": "stdout",
     "output_type": "stream",
     "text": [
      "Loss is :  0.46610772609710693\n",
      "AUC is :  0.9422878637061068\n",
      "Loss is :  0.46234041452407837\n",
      "AUC is :  0.9443701696936891\n",
      "Loss is :  0.4601728320121765\n",
      "AUC is :  0.946619656099795\n"
     ]
    },
    {
     "name": "stderr",
     "output_type": "stream",
     "text": [
      "  3%|▎         | 33/1000 [00:03<01:33, 10.30it/s]"
     ]
    },
    {
     "name": "stdout",
     "output_type": "stream",
     "text": [
      "Loss is :  0.4598025679588318\n",
      "AUC is :  0.9494973101959108\n",
      "Loss is :  0.4571104943752289\n",
      "AUC is :  0.9519973699864754\n",
      "Loss is :  0.4541993737220764\n",
      "AUC is :  0.9542966581268666\n"
     ]
    },
    {
     "name": "stderr",
     "output_type": "stream",
     "text": [
      "  4%|▎         | 35/1000 [00:03<01:33, 10.29it/s]"
     ]
    },
    {
     "name": "stdout",
     "output_type": "stream",
     "text": [
      "Loss is :  0.4562593400478363\n",
      "AUC is :  0.9537251181766059\n",
      "Loss is :  0.4533967077732086\n",
      "AUC is :  0.9552584071331736\n",
      "Loss is :  0.4506532847881317\n",
      "AUC is :  0.9576329495891531\n"
     ]
    },
    {
     "name": "stderr",
     "output_type": "stream",
     "text": [
      "  4%|▍         | 39/1000 [00:03<01:32, 10.39it/s]"
     ]
    },
    {
     "name": "stdout",
     "output_type": "stream",
     "text": [
      "Loss is :  0.4497893154621124\n",
      "AUC is :  0.9601104707062127\n",
      "Loss is :  0.45207515358924866\n",
      "AUC is :  0.9602737094090628\n",
      "Loss is :  0.45037150382995605\n",
      "AUC is :  0.9594460133950224\n"
     ]
    },
    {
     "name": "stderr",
     "output_type": "stream",
     "text": [
      "  4%|▍         | 41/1000 [00:04<01:32, 10.36it/s]"
     ]
    },
    {
     "name": "stdout",
     "output_type": "stream",
     "text": [
      "Loss is :  0.4476616084575653\n",
      "AUC is :  0.9597937766955293\n",
      "Loss is :  0.4457118511199951\n",
      "AUC is :  0.9610665355757693\n",
      "Loss is :  0.44631290435791016\n",
      "AUC is :  0.9625279378472138\n"
     ]
    },
    {
     "name": "stderr",
     "output_type": "stream",
     "text": [
      "  4%|▍         | 45/1000 [00:04<01:32, 10.37it/s]"
     ]
    },
    {
     "name": "stdout",
     "output_type": "stream",
     "text": [
      "Loss is :  0.4457659125328064\n",
      "AUC is :  0.9637393565736672\n",
      "Loss is :  0.4427776634693146\n",
      "AUC is :  0.9652121012816275\n",
      "Loss is :  0.43895474076271057\n",
      "AUC is :  0.9660040433193029\n"
     ]
    },
    {
     "name": "stderr",
     "output_type": "stream",
     "text": [
      "  5%|▍         | 47/1000 [00:04<01:31, 10.41it/s]"
     ]
    },
    {
     "name": "stdout",
     "output_type": "stream",
     "text": [
      "Loss is :  0.4418790340423584\n",
      "AUC is :  0.9652167147589168\n",
      "Loss is :  0.43941229581832886\n",
      "AUC is :  0.9662950591476902\n",
      "Loss is :  0.4393623471260071\n",
      "AUC is :  0.9675018057910096\n"
     ]
    },
    {
     "name": "stderr",
     "output_type": "stream",
     "text": [
      "  5%|▌         | 51/1000 [00:05<01:30, 10.46it/s]"
     ]
    },
    {
     "name": "stdout",
     "output_type": "stream",
     "text": [
      "Loss is :  0.435165137052536\n",
      "AUC is :  0.9701500740908949\n",
      "Loss is :  0.43479475378990173\n",
      "AUC is :  0.970846698448696\n",
      "Loss is :  0.43349018692970276\n",
      "AUC is :  0.9716090300409578\n"
     ]
    },
    {
     "name": "stderr",
     "output_type": "stream",
     "text": [
      "  5%|▌         | 53/1000 [00:05<01:30, 10.45it/s]"
     ]
    },
    {
     "name": "stdout",
     "output_type": "stream",
     "text": [
      "Loss is :  0.4343411922454834\n",
      "AUC is :  0.9716191430150788\n",
      "Loss is :  0.43287378549575806\n",
      "AUC is :  0.9717433445539285\n"
     ]
    },
    {
     "name": "stderr",
     "output_type": "stream",
     "text": [
      "  6%|▌         | 55/1000 [00:05<01:36,  9.76it/s]"
     ]
    },
    {
     "name": "stdout",
     "output_type": "stream",
     "text": [
      "Loss is :  0.4335426092147827\n",
      "AUC is :  0.9728745999376001\n",
      "Loss is :  0.4297180473804474\n",
      "AUC is :  0.9744469575666864\n"
     ]
    },
    {
     "name": "stderr",
     "output_type": "stream",
     "text": [
      "  6%|▌         | 58/1000 [00:05<01:35,  9.91it/s]"
     ]
    },
    {
     "name": "stdout",
     "output_type": "stream",
     "text": [
      "Loss is :  0.429848849773407\n",
      "AUC is :  0.9744882293148239\n",
      "Loss is :  0.4263664782047272\n",
      "AUC is :  0.9752094983755115\n",
      "Loss is :  0.42545974254608154\n",
      "AUC is :  0.9754002547279716\n"
     ]
    },
    {
     "name": "stderr",
     "output_type": "stream",
     "text": [
      "  6%|▌         | 60/1000 [00:05<01:33, 10.07it/s]"
     ]
    },
    {
     "name": "stdout",
     "output_type": "stream",
     "text": [
      "Loss is :  0.4239937663078308\n",
      "AUC is :  0.976012187968872\n",
      "Loss is :  0.42693278193473816\n",
      "AUC is :  0.9750185025583104\n",
      "Loss is :  0.4244385063648224\n",
      "AUC is :  0.9759080447529455\n"
     ]
    },
    {
     "name": "stderr",
     "output_type": "stream",
     "text": [
      "  6%|▋         | 64/1000 [00:06<01:30, 10.31it/s]"
     ]
    },
    {
     "name": "stdout",
     "output_type": "stream",
     "text": [
      "Loss is :  0.424399197101593\n",
      "AUC is :  0.9765180975654573\n",
      "Loss is :  0.4243509769439697\n",
      "AUC is :  0.9768105823209807\n",
      "Loss is :  0.422747939825058\n",
      "AUC is :  0.9775244430987814\n"
     ]
    },
    {
     "name": "stderr",
     "output_type": "stream",
     "text": [
      "  7%|▋         | 66/1000 [00:06<01:31, 10.15it/s]"
     ]
    },
    {
     "name": "stdout",
     "output_type": "stream",
     "text": [
      "Loss is :  0.4230428636074066\n",
      "AUC is :  0.9773700078760206\n",
      "Loss is :  0.42158666253089905\n",
      "AUC is :  0.9782186551644005\n",
      "Loss is :  0.4220104217529297\n",
      "AUC is :  0.9782251156710486\n"
     ]
    },
    {
     "name": "stderr",
     "output_type": "stream",
     "text": [
      "  7%|▋         | 68/1000 [00:06<01:31, 10.13it/s]"
     ]
    },
    {
     "name": "stdout",
     "output_type": "stream",
     "text": [
      "Loss is :  0.4235648214817047\n",
      "AUC is :  0.9778904945736382\n",
      "Loss is :  0.4186919629573822\n",
      "AUC is :  0.9795329082429188\n"
     ]
    },
    {
     "name": "stderr",
     "output_type": "stream",
     "text": [
      "  7%|▋         | 72/1000 [00:07<01:32, 10.07it/s]"
     ]
    },
    {
     "name": "stdout",
     "output_type": "stream",
     "text": [
      "Loss is :  0.4172747731208801\n",
      "AUC is :  0.9796999078025458\n",
      "Loss is :  0.41800209879875183\n",
      "AUC is :  0.9794071911443256\n",
      "Loss is :  0.4160032272338867\n",
      "AUC is :  0.9800777699305041\n"
     ]
    },
    {
     "name": "stderr",
     "output_type": "stream",
     "text": [
      "  7%|▋         | 74/1000 [00:07<01:31, 10.17it/s]"
     ]
    },
    {
     "name": "stdout",
     "output_type": "stream",
     "text": [
      "Loss is :  0.4190983772277832\n",
      "AUC is :  0.9800130438713119\n",
      "Loss is :  0.4183611571788788\n",
      "AUC is :  0.9802621729052795\n",
      "Loss is :  0.41739609837532043\n",
      "AUC is :  0.9806349779160071\n"
     ]
    },
    {
     "name": "stderr",
     "output_type": "stream",
     "text": [
      "  8%|▊         | 78/1000 [00:07<01:31, 10.13it/s]"
     ]
    },
    {
     "name": "stdout",
     "output_type": "stream",
     "text": [
      "Loss is :  0.415302038192749\n",
      "AUC is :  0.9812420727087953\n",
      "Loss is :  0.41336485743522644\n",
      "AUC is :  0.9818824581419665\n",
      "Loss is :  0.41527435183525085\n",
      "AUC is :  0.9818755319394139\n"
     ]
    },
    {
     "name": "stderr",
     "output_type": "stream",
     "text": [
      "  8%|▊         | 80/1000 [00:07<01:30, 10.17it/s]"
     ]
    },
    {
     "name": "stdout",
     "output_type": "stream",
     "text": [
      "Loss is :  0.41723522543907166\n",
      "AUC is :  0.9814672842564849\n",
      "Loss is :  0.41459447145462036\n",
      "AUC is :  0.9821027638133143\n",
      "Loss is :  0.4133888781070709\n",
      "AUC is :  0.9823924373788108\n"
     ]
    },
    {
     "name": "stderr",
     "output_type": "stream",
     "text": [
      "  8%|▊         | 84/1000 [00:08<01:29, 10.21it/s]"
     ]
    },
    {
     "name": "stdout",
     "output_type": "stream",
     "text": [
      "Loss is :  0.4134126901626587\n",
      "AUC is :  0.9824627114579533\n",
      "Loss is :  0.4098944664001465\n",
      "AUC is :  0.9837766040790192\n",
      "Loss is :  0.4126131534576416\n",
      "AUC is :  0.9833203808955412\n"
     ]
    },
    {
     "name": "stderr",
     "output_type": "stream",
     "text": [
      "  9%|▊         | 86/1000 [00:08<01:29, 10.24it/s]"
     ]
    },
    {
     "name": "stdout",
     "output_type": "stream",
     "text": [
      "Loss is :  0.409087598323822\n",
      "AUC is :  0.9839109551418717\n",
      "Loss is :  0.4140607714653015\n",
      "AUC is :  0.9828286072807283\n",
      "Loss is :  0.410148948431015\n",
      "AUC is :  0.9837839474543576\n"
     ]
    },
    {
     "name": "stderr",
     "output_type": "stream",
     "text": [
      "  9%|▉         | 90/1000 [00:08<01:28, 10.33it/s]"
     ]
    },
    {
     "name": "stdout",
     "output_type": "stream",
     "text": [
      "Loss is :  0.41017213463783264\n",
      "AUC is :  0.984208459834574\n",
      "Loss is :  0.40812456607818604\n",
      "AUC is :  0.9851545472166393\n",
      "Loss is :  0.4092620313167572\n",
      "AUC is :  0.9848373364662514\n"
     ]
    },
    {
     "name": "stderr",
     "output_type": "stream",
     "text": [
      "  9%|▉         | 92/1000 [00:09<01:29, 10.20it/s]"
     ]
    },
    {
     "name": "stdout",
     "output_type": "stream",
     "text": [
      "Loss is :  0.4085206687450409\n",
      "AUC is :  0.98455527157782\n",
      "Loss is :  0.40869802236557007\n",
      "AUC is :  0.9849881085086432\n",
      "Loss is :  0.41139549016952515\n",
      "AUC is :  0.9844619212898451\n"
     ]
    },
    {
     "name": "stderr",
     "output_type": "stream",
     "text": [
      "  9%|▉         | 93/1000 [00:09<01:30, 10.03it/s]\n"
     ]
    },
    {
     "ename": "KeyboardInterrupt",
     "evalue": "",
     "output_type": "error",
     "traceback": [
      "\u001B[0;31m---------------------------------------------------------------------------\u001B[0m",
      "\u001B[0;31mKeyboardInterrupt\u001B[0m                         Traceback (most recent call last)",
      "Cell \u001B[0;32mIn[106], line 1\u001B[0m\n\u001B[0;32m----> 1\u001B[0m \u001B[43mmain\u001B[49m\u001B[43m(\u001B[49m\u001B[43m)\u001B[49m\n",
      "Cell \u001B[0;32mIn[105], line 14\u001B[0m, in \u001B[0;36mmain\u001B[0;34m()\u001B[0m\n\u001B[1;32m     11\u001B[0m optimizer \u001B[38;5;241m=\u001B[39m torch\u001B[38;5;241m.\u001B[39moptim\u001B[38;5;241m.\u001B[39mAdam(params\u001B[38;5;241m=\u001B[39mmodel\u001B[38;5;241m.\u001B[39mparameters(), lr\u001B[38;5;241m=\u001B[39m\u001B[38;5;241m0.01\u001B[39m)\n\u001B[1;32m     13\u001B[0m \u001B[38;5;28;01mfor\u001B[39;00m _ \u001B[38;5;129;01min\u001B[39;00m tqdm(\u001B[38;5;28mrange\u001B[39m(num_epochs)):\n\u001B[0;32m---> 14\u001B[0m     loss, auc \u001B[38;5;241m=\u001B[39m \u001B[43mtrain\u001B[49m\u001B[43m(\u001B[49m\u001B[43mmodel\u001B[49m\u001B[43m,\u001B[49m\u001B[43m \u001B[49m\u001B[43moptimizer\u001B[49m\u001B[43m,\u001B[49m\u001B[43m \u001B[49m\u001B[43mtrain_data\u001B[49m\u001B[43m)\u001B[49m\n\u001B[1;32m     15\u001B[0m     \u001B[38;5;28mprint\u001B[39m(\u001B[38;5;124m\"\u001B[39m\u001B[38;5;124mLoss is : \u001B[39m\u001B[38;5;124m\"\u001B[39m, loss)\n\u001B[1;32m     16\u001B[0m     \u001B[38;5;28mprint\u001B[39m(\u001B[38;5;124m\"\u001B[39m\u001B[38;5;124mAUC is : \u001B[39m\u001B[38;5;124m\"\u001B[39m, auc)\n",
      "Cell \u001B[0;32mIn[104], line 3\u001B[0m, in \u001B[0;36mtrain\u001B[0;34m(model, optimizer, data)\u001B[0m\n\u001B[1;32m      1\u001B[0m \u001B[38;5;28;01mdef\u001B[39;00m \u001B[38;5;21mtrain\u001B[39m(model, optimizer, data):\n\u001B[0;32m----> 3\u001B[0m     z_dict \u001B[38;5;241m=\u001B[39m \u001B[43mmodel\u001B[49m\u001B[43m(\u001B[49m\u001B[43mdata\u001B[49m\u001B[38;5;241;43m.\u001B[39;49m\u001B[43mx_dict\u001B[49m\u001B[43m,\u001B[49m\u001B[43m \u001B[49m\u001B[43mdata\u001B[49m\u001B[38;5;241;43m.\u001B[39;49m\u001B[43medge_index_dict\u001B[49m\u001B[43m)\u001B[49m\n\u001B[1;32m      5\u001B[0m     pos_edge_label_index \u001B[38;5;241m=\u001B[39m data[(\u001B[38;5;124m'\u001B[39m\u001B[38;5;124mgene\u001B[39m\u001B[38;5;124m'\u001B[39m, \u001B[38;5;124m'\u001B[39m\u001B[38;5;124mto\u001B[39m\u001B[38;5;124m'\u001B[39m, \u001B[38;5;124m'\u001B[39m\u001B[38;5;124mgene\u001B[39m\u001B[38;5;124m'\u001B[39m)]\u001B[38;5;241m.\u001B[39medge_label_index\n\u001B[1;32m      6\u001B[0m     pos_edge_label \u001B[38;5;241m=\u001B[39m torch\u001B[38;5;241m.\u001B[39mones(pos_edge_label_index\u001B[38;5;241m.\u001B[39msize(\u001B[38;5;241m1\u001B[39m))\n",
      "File \u001B[0;32m~/miniforge3/envs/kamping/lib/python3.10/site-packages/torch/fx/graph_module.py:784\u001B[0m, in \u001B[0;36mGraphModule.recompile.<locals>.call_wrapped\u001B[0;34m(self, *args, **kwargs)\u001B[0m\n\u001B[1;32m    783\u001B[0m \u001B[38;5;28;01mdef\u001B[39;00m \u001B[38;5;21mcall_wrapped\u001B[39m(\u001B[38;5;28mself\u001B[39m, \u001B[38;5;241m*\u001B[39margs, \u001B[38;5;241m*\u001B[39m\u001B[38;5;241m*\u001B[39mkwargs):\n\u001B[0;32m--> 784\u001B[0m     \u001B[38;5;28;01mreturn\u001B[39;00m \u001B[38;5;28;43mself\u001B[39;49m\u001B[38;5;241;43m.\u001B[39;49m\u001B[43m_wrapped_call\u001B[49m\u001B[43m(\u001B[49m\u001B[38;5;28;43mself\u001B[39;49m\u001B[43m,\u001B[49m\u001B[43m \u001B[49m\u001B[38;5;241;43m*\u001B[39;49m\u001B[43margs\u001B[49m\u001B[43m,\u001B[49m\u001B[43m \u001B[49m\u001B[38;5;241;43m*\u001B[39;49m\u001B[38;5;241;43m*\u001B[39;49m\u001B[43mkwargs\u001B[49m\u001B[43m)\u001B[49m\n",
      "File \u001B[0;32m~/miniforge3/envs/kamping/lib/python3.10/site-packages/torch/fx/graph_module.py:348\u001B[0m, in \u001B[0;36m_WrappedCall.__call__\u001B[0;34m(self, obj, *args, **kwargs)\u001B[0m\n\u001B[1;32m    346\u001B[0m         \u001B[38;5;28;01mreturn\u001B[39;00m \u001B[38;5;28mself\u001B[39m\u001B[38;5;241m.\u001B[39mcls_call(obj, \u001B[38;5;241m*\u001B[39margs, \u001B[38;5;241m*\u001B[39m\u001B[38;5;241m*\u001B[39mkwargs)\n\u001B[1;32m    347\u001B[0m     \u001B[38;5;28;01melse\u001B[39;00m:\n\u001B[0;32m--> 348\u001B[0m         \u001B[38;5;28;01mreturn\u001B[39;00m \u001B[38;5;28;43msuper\u001B[39;49m\u001B[43m(\u001B[49m\u001B[38;5;28;43mself\u001B[39;49m\u001B[38;5;241;43m.\u001B[39;49m\u001B[43mcls\u001B[49m\u001B[43m,\u001B[49m\u001B[43m \u001B[49m\u001B[43mobj\u001B[49m\u001B[43m)\u001B[49m\u001B[38;5;241;43m.\u001B[39;49m\u001B[38;5;21;43m__call__\u001B[39;49m\u001B[43m(\u001B[49m\u001B[38;5;241;43m*\u001B[39;49m\u001B[43margs\u001B[49m\u001B[43m,\u001B[49m\u001B[43m \u001B[49m\u001B[38;5;241;43m*\u001B[39;49m\u001B[38;5;241;43m*\u001B[39;49m\u001B[43mkwargs\u001B[49m\u001B[43m)\u001B[49m  \u001B[38;5;66;03m# type: ignore[misc]\u001B[39;00m\n\u001B[1;32m    349\u001B[0m \u001B[38;5;28;01mexcept\u001B[39;00m \u001B[38;5;167;01mException\u001B[39;00m \u001B[38;5;28;01mas\u001B[39;00m e:\n\u001B[1;32m    350\u001B[0m     \u001B[38;5;28;01massert\u001B[39;00m e\u001B[38;5;241m.\u001B[39m__traceback__\n",
      "File \u001B[0;32m~/miniforge3/envs/kamping/lib/python3.10/site-packages/torch/nn/modules/module.py:1736\u001B[0m, in \u001B[0;36mModule._wrapped_call_impl\u001B[0;34m(self, *args, **kwargs)\u001B[0m\n\u001B[1;32m   1734\u001B[0m     \u001B[38;5;28;01mreturn\u001B[39;00m \u001B[38;5;28mself\u001B[39m\u001B[38;5;241m.\u001B[39m_compiled_call_impl(\u001B[38;5;241m*\u001B[39margs, \u001B[38;5;241m*\u001B[39m\u001B[38;5;241m*\u001B[39mkwargs)  \u001B[38;5;66;03m# type: ignore[misc]\u001B[39;00m\n\u001B[1;32m   1735\u001B[0m \u001B[38;5;28;01melse\u001B[39;00m:\n\u001B[0;32m-> 1736\u001B[0m     \u001B[38;5;28;01mreturn\u001B[39;00m \u001B[38;5;28;43mself\u001B[39;49m\u001B[38;5;241;43m.\u001B[39;49m\u001B[43m_call_impl\u001B[49m\u001B[43m(\u001B[49m\u001B[38;5;241;43m*\u001B[39;49m\u001B[43margs\u001B[49m\u001B[43m,\u001B[49m\u001B[43m \u001B[49m\u001B[38;5;241;43m*\u001B[39;49m\u001B[38;5;241;43m*\u001B[39;49m\u001B[43mkwargs\u001B[49m\u001B[43m)\u001B[49m\n",
      "File \u001B[0;32m~/miniforge3/envs/kamping/lib/python3.10/site-packages/torch/nn/modules/module.py:1747\u001B[0m, in \u001B[0;36mModule._call_impl\u001B[0;34m(self, *args, **kwargs)\u001B[0m\n\u001B[1;32m   1742\u001B[0m \u001B[38;5;66;03m# If we don't have any hooks, we want to skip the rest of the logic in\u001B[39;00m\n\u001B[1;32m   1743\u001B[0m \u001B[38;5;66;03m# this function, and just call forward.\u001B[39;00m\n\u001B[1;32m   1744\u001B[0m \u001B[38;5;28;01mif\u001B[39;00m \u001B[38;5;129;01mnot\u001B[39;00m (\u001B[38;5;28mself\u001B[39m\u001B[38;5;241m.\u001B[39m_backward_hooks \u001B[38;5;129;01mor\u001B[39;00m \u001B[38;5;28mself\u001B[39m\u001B[38;5;241m.\u001B[39m_backward_pre_hooks \u001B[38;5;129;01mor\u001B[39;00m \u001B[38;5;28mself\u001B[39m\u001B[38;5;241m.\u001B[39m_forward_hooks \u001B[38;5;129;01mor\u001B[39;00m \u001B[38;5;28mself\u001B[39m\u001B[38;5;241m.\u001B[39m_forward_pre_hooks\n\u001B[1;32m   1745\u001B[0m         \u001B[38;5;129;01mor\u001B[39;00m _global_backward_pre_hooks \u001B[38;5;129;01mor\u001B[39;00m _global_backward_hooks\n\u001B[1;32m   1746\u001B[0m         \u001B[38;5;129;01mor\u001B[39;00m _global_forward_hooks \u001B[38;5;129;01mor\u001B[39;00m _global_forward_pre_hooks):\n\u001B[0;32m-> 1747\u001B[0m     \u001B[38;5;28;01mreturn\u001B[39;00m \u001B[43mforward_call\u001B[49m\u001B[43m(\u001B[49m\u001B[38;5;241;43m*\u001B[39;49m\u001B[43margs\u001B[49m\u001B[43m,\u001B[49m\u001B[43m \u001B[49m\u001B[38;5;241;43m*\u001B[39;49m\u001B[38;5;241;43m*\u001B[39;49m\u001B[43mkwargs\u001B[49m\u001B[43m)\u001B[49m\n\u001B[1;32m   1749\u001B[0m result \u001B[38;5;241m=\u001B[39m \u001B[38;5;28;01mNone\u001B[39;00m\n\u001B[1;32m   1750\u001B[0m called_always_called_hooks \u001B[38;5;241m=\u001B[39m \u001B[38;5;28mset\u001B[39m()\n",
      "File \u001B[0;32m<eval_with_key>.17:16\u001B[0m, in \u001B[0;36mforward\u001B[0;34m(self, x, edge_index)\u001B[0m\n\u001B[1;32m     14\u001B[0m conv1__gene1 \u001B[38;5;241m=\u001B[39m \u001B[38;5;28mself\u001B[39m\u001B[38;5;241m.\u001B[39mconv1\u001B[38;5;241m.\u001B[39mcompound__to__gene((x__compound, x__gene), edge_index__compound__to__gene)\n\u001B[1;32m     15\u001B[0m conv1__compound2 \u001B[38;5;241m=\u001B[39m \u001B[38;5;28mself\u001B[39m\u001B[38;5;241m.\u001B[39mconv1\u001B[38;5;241m.\u001B[39mgene__to__compound((x__gene, x__compound), edge_index__gene__to__compound);  x__compound \u001B[38;5;241m=\u001B[39m \u001B[38;5;28;01mNone\u001B[39;00m\n\u001B[0;32m---> 16\u001B[0m conv1__gene2 \u001B[38;5;241m=\u001B[39m \u001B[38;5;28;43mself\u001B[39;49m\u001B[38;5;241;43m.\u001B[39;49m\u001B[43mconv1\u001B[49m\u001B[38;5;241;43m.\u001B[39;49m\u001B[43mgene__to__gene\u001B[49m\u001B[43m(\u001B[49m\u001B[43mx__gene\u001B[49m\u001B[43m,\u001B[49m\u001B[43m \u001B[49m\u001B[43medge_index__gene__to__gene\u001B[49m\u001B[43m)\u001B[49m;  x__gene \u001B[38;5;241m=\u001B[39m \u001B[38;5;28;01mNone\u001B[39;00m\n\u001B[1;32m     17\u001B[0m conv1__compound \u001B[38;5;241m=\u001B[39m torch\u001B[38;5;241m.\u001B[39madd(conv1__compound1, conv1__compound2);  conv1__compound1 \u001B[38;5;241m=\u001B[39m conv1__compound2 \u001B[38;5;241m=\u001B[39m \u001B[38;5;28;01mNone\u001B[39;00m\n\u001B[1;32m     18\u001B[0m conv1__gene \u001B[38;5;241m=\u001B[39m torch\u001B[38;5;241m.\u001B[39madd(conv1__gene1, conv1__gene2);  conv1__gene1 \u001B[38;5;241m=\u001B[39m conv1__gene2 \u001B[38;5;241m=\u001B[39m \u001B[38;5;28;01mNone\u001B[39;00m\n",
      "File \u001B[0;32m~/miniforge3/envs/kamping/lib/python3.10/site-packages/torch/nn/modules/module.py:1736\u001B[0m, in \u001B[0;36mModule._wrapped_call_impl\u001B[0;34m(self, *args, **kwargs)\u001B[0m\n\u001B[1;32m   1734\u001B[0m     \u001B[38;5;28;01mreturn\u001B[39;00m \u001B[38;5;28mself\u001B[39m\u001B[38;5;241m.\u001B[39m_compiled_call_impl(\u001B[38;5;241m*\u001B[39margs, \u001B[38;5;241m*\u001B[39m\u001B[38;5;241m*\u001B[39mkwargs)  \u001B[38;5;66;03m# type: ignore[misc]\u001B[39;00m\n\u001B[1;32m   1735\u001B[0m \u001B[38;5;28;01melse\u001B[39;00m:\n\u001B[0;32m-> 1736\u001B[0m     \u001B[38;5;28;01mreturn\u001B[39;00m \u001B[38;5;28;43mself\u001B[39;49m\u001B[38;5;241;43m.\u001B[39;49m\u001B[43m_call_impl\u001B[49m\u001B[43m(\u001B[49m\u001B[38;5;241;43m*\u001B[39;49m\u001B[43margs\u001B[49m\u001B[43m,\u001B[49m\u001B[43m \u001B[49m\u001B[38;5;241;43m*\u001B[39;49m\u001B[38;5;241;43m*\u001B[39;49m\u001B[43mkwargs\u001B[49m\u001B[43m)\u001B[49m\n",
      "File \u001B[0;32m~/miniforge3/envs/kamping/lib/python3.10/site-packages/torch/nn/modules/module.py:1747\u001B[0m, in \u001B[0;36mModule._call_impl\u001B[0;34m(self, *args, **kwargs)\u001B[0m\n\u001B[1;32m   1742\u001B[0m \u001B[38;5;66;03m# If we don't have any hooks, we want to skip the rest of the logic in\u001B[39;00m\n\u001B[1;32m   1743\u001B[0m \u001B[38;5;66;03m# this function, and just call forward.\u001B[39;00m\n\u001B[1;32m   1744\u001B[0m \u001B[38;5;28;01mif\u001B[39;00m \u001B[38;5;129;01mnot\u001B[39;00m (\u001B[38;5;28mself\u001B[39m\u001B[38;5;241m.\u001B[39m_backward_hooks \u001B[38;5;129;01mor\u001B[39;00m \u001B[38;5;28mself\u001B[39m\u001B[38;5;241m.\u001B[39m_backward_pre_hooks \u001B[38;5;129;01mor\u001B[39;00m \u001B[38;5;28mself\u001B[39m\u001B[38;5;241m.\u001B[39m_forward_hooks \u001B[38;5;129;01mor\u001B[39;00m \u001B[38;5;28mself\u001B[39m\u001B[38;5;241m.\u001B[39m_forward_pre_hooks\n\u001B[1;32m   1745\u001B[0m         \u001B[38;5;129;01mor\u001B[39;00m _global_backward_pre_hooks \u001B[38;5;129;01mor\u001B[39;00m _global_backward_hooks\n\u001B[1;32m   1746\u001B[0m         \u001B[38;5;129;01mor\u001B[39;00m _global_forward_hooks \u001B[38;5;129;01mor\u001B[39;00m _global_forward_pre_hooks):\n\u001B[0;32m-> 1747\u001B[0m     \u001B[38;5;28;01mreturn\u001B[39;00m \u001B[43mforward_call\u001B[49m\u001B[43m(\u001B[49m\u001B[38;5;241;43m*\u001B[39;49m\u001B[43margs\u001B[49m\u001B[43m,\u001B[49m\u001B[43m \u001B[49m\u001B[38;5;241;43m*\u001B[39;49m\u001B[38;5;241;43m*\u001B[39;49m\u001B[43mkwargs\u001B[49m\u001B[43m)\u001B[49m\n\u001B[1;32m   1749\u001B[0m result \u001B[38;5;241m=\u001B[39m \u001B[38;5;28;01mNone\u001B[39;00m\n\u001B[1;32m   1750\u001B[0m called_always_called_hooks \u001B[38;5;241m=\u001B[39m \u001B[38;5;28mset\u001B[39m()\n",
      "File \u001B[0;32m~/miniforge3/envs/kamping/lib/python3.10/site-packages/torch_geometric/nn/conv/sage_conv.py:134\u001B[0m, in \u001B[0;36mSAGEConv.forward\u001B[0;34m(self, x, edge_index, size)\u001B[0m\n\u001B[1;32m    131\u001B[0m     x \u001B[38;5;241m=\u001B[39m (\u001B[38;5;28mself\u001B[39m\u001B[38;5;241m.\u001B[39mlin(x[\u001B[38;5;241m0\u001B[39m])\u001B[38;5;241m.\u001B[39mrelu(), x[\u001B[38;5;241m1\u001B[39m])\n\u001B[1;32m    133\u001B[0m \u001B[38;5;66;03m# propagate_type: (x: OptPairTensor)\u001B[39;00m\n\u001B[0;32m--> 134\u001B[0m out \u001B[38;5;241m=\u001B[39m \u001B[38;5;28;43mself\u001B[39;49m\u001B[38;5;241;43m.\u001B[39;49m\u001B[43mpropagate\u001B[49m\u001B[43m(\u001B[49m\u001B[43medge_index\u001B[49m\u001B[43m,\u001B[49m\u001B[43m \u001B[49m\u001B[43mx\u001B[49m\u001B[38;5;241;43m=\u001B[39;49m\u001B[43mx\u001B[49m\u001B[43m,\u001B[49m\u001B[43m \u001B[49m\u001B[43msize\u001B[49m\u001B[38;5;241;43m=\u001B[39;49m\u001B[43msize\u001B[49m\u001B[43m)\u001B[49m\n\u001B[1;32m    135\u001B[0m out \u001B[38;5;241m=\u001B[39m \u001B[38;5;28mself\u001B[39m\u001B[38;5;241m.\u001B[39mlin_l(out)\n\u001B[1;32m    137\u001B[0m x_r \u001B[38;5;241m=\u001B[39m x[\u001B[38;5;241m1\u001B[39m]\n",
      "File \u001B[0;32m/var/folders/xs/_jggb8_n03q3bxbybznls2w1q5_5xx/T/torch_geometric.nn.conv.sage_conv_SAGEConv_propagate_5j4nlhtf.py:173\u001B[0m, in \u001B[0;36mpropagate\u001B[0;34m(self, edge_index, x, size)\u001B[0m\n\u001B[1;32m    167\u001B[0m     out \u001B[38;5;241m=\u001B[39m \u001B[38;5;28mself\u001B[39m\u001B[38;5;241m.\u001B[39mupdate(\n\u001B[1;32m    168\u001B[0m         out,\n\u001B[1;32m    169\u001B[0m     )\n\u001B[1;32m    171\u001B[0m \u001B[38;5;28;01melse\u001B[39;00m:\n\u001B[0;32m--> 173\u001B[0m     kwargs \u001B[38;5;241m=\u001B[39m \u001B[38;5;28;43mself\u001B[39;49m\u001B[38;5;241;43m.\u001B[39;49m\u001B[43mcollect\u001B[49m\u001B[43m(\u001B[49m\n\u001B[1;32m    174\u001B[0m \u001B[43m        \u001B[49m\u001B[43medge_index\u001B[49m\u001B[43m,\u001B[49m\n\u001B[1;32m    175\u001B[0m \u001B[43m        \u001B[49m\u001B[43mx\u001B[49m\u001B[43m,\u001B[49m\n\u001B[1;32m    176\u001B[0m \u001B[43m        \u001B[49m\u001B[43mmutable_size\u001B[49m\u001B[43m,\u001B[49m\n\u001B[1;32m    177\u001B[0m \u001B[43m    \u001B[49m\u001B[43m)\u001B[49m\n\u001B[1;32m    179\u001B[0m     \u001B[38;5;66;03m# Begin Message Forward Pre Hook #######################################\u001B[39;00m\n\u001B[1;32m    180\u001B[0m     \u001B[38;5;28;01mif\u001B[39;00m \u001B[38;5;129;01mnot\u001B[39;00m torch\u001B[38;5;241m.\u001B[39mjit\u001B[38;5;241m.\u001B[39mis_scripting() \u001B[38;5;129;01mand\u001B[39;00m \u001B[38;5;129;01mnot\u001B[39;00m is_compiling():\n",
      "File \u001B[0;32m/var/folders/xs/_jggb8_n03q3bxbybznls2w1q5_5xx/T/torch_geometric.nn.conv.sage_conv_SAGEConv_propagate_5j4nlhtf.py:83\u001B[0m, in \u001B[0;36mcollect\u001B[0;34m(self, edge_index, x, size)\u001B[0m\n\u001B[1;32m     81\u001B[0m \u001B[38;5;28;01mif\u001B[39;00m \u001B[38;5;28misinstance\u001B[39m(_x_0, Tensor):\n\u001B[1;32m     82\u001B[0m     \u001B[38;5;28mself\u001B[39m\u001B[38;5;241m.\u001B[39m_set_size(size, \u001B[38;5;241m0\u001B[39m, _x_0)\n\u001B[0;32m---> 83\u001B[0m     x_j \u001B[38;5;241m=\u001B[39m \u001B[38;5;28;43mself\u001B[39;49m\u001B[38;5;241;43m.\u001B[39;49m\u001B[43m_index_select\u001B[49m\u001B[43m(\u001B[49m\u001B[43m_x_0\u001B[49m\u001B[43m,\u001B[49m\u001B[43m \u001B[49m\u001B[43medge_index_j\u001B[49m\u001B[43m)\u001B[49m\n\u001B[1;32m     84\u001B[0m \u001B[38;5;28;01melse\u001B[39;00m:\n\u001B[1;32m     85\u001B[0m     x_j \u001B[38;5;241m=\u001B[39m \u001B[38;5;28;01mNone\u001B[39;00m\n",
      "File \u001B[0;32m~/miniforge3/envs/kamping/lib/python3.10/site-packages/torch_geometric/nn/conv/message_passing.py:267\u001B[0m, in \u001B[0;36mMessagePassing._index_select\u001B[0;34m(self, src, index)\u001B[0m\n\u001B[1;32m    265\u001B[0m     \u001B[38;5;28;01mreturn\u001B[39;00m src\u001B[38;5;241m.\u001B[39mindex_select(\u001B[38;5;28mself\u001B[39m\u001B[38;5;241m.\u001B[39mnode_dim, index)\n\u001B[1;32m    266\u001B[0m \u001B[38;5;28;01melse\u001B[39;00m:\n\u001B[0;32m--> 267\u001B[0m     \u001B[38;5;28;01mreturn\u001B[39;00m \u001B[38;5;28;43mself\u001B[39;49m\u001B[38;5;241;43m.\u001B[39;49m\u001B[43m_index_select_safe\u001B[49m\u001B[43m(\u001B[49m\u001B[43msrc\u001B[49m\u001B[43m,\u001B[49m\u001B[43m \u001B[49m\u001B[43mindex\u001B[49m\u001B[43m)\u001B[49m\n",
      "File \u001B[0;32m~/miniforge3/envs/kamping/lib/python3.10/site-packages/torch_geometric/nn/conv/message_passing.py:271\u001B[0m, in \u001B[0;36mMessagePassing._index_select_safe\u001B[0;34m(self, src, index)\u001B[0m\n\u001B[1;32m    269\u001B[0m \u001B[38;5;28;01mdef\u001B[39;00m \u001B[38;5;21m_index_select_safe\u001B[39m(\u001B[38;5;28mself\u001B[39m, src: Tensor, index: Tensor) \u001B[38;5;241m-\u001B[39m\u001B[38;5;241m>\u001B[39m Tensor:\n\u001B[1;32m    270\u001B[0m     \u001B[38;5;28;01mtry\u001B[39;00m:\n\u001B[0;32m--> 271\u001B[0m         \u001B[38;5;28;01mreturn\u001B[39;00m \u001B[43msrc\u001B[49m\u001B[38;5;241;43m.\u001B[39;49m\u001B[43mindex_select\u001B[49m\u001B[43m(\u001B[49m\u001B[38;5;28;43mself\u001B[39;49m\u001B[38;5;241;43m.\u001B[39;49m\u001B[43mnode_dim\u001B[49m\u001B[43m,\u001B[49m\u001B[43m \u001B[49m\u001B[43mindex\u001B[49m\u001B[43m)\u001B[49m\n\u001B[1;32m    272\u001B[0m     \u001B[38;5;28;01mexcept\u001B[39;00m (\u001B[38;5;167;01mIndexError\u001B[39;00m, \u001B[38;5;167;01mRuntimeError\u001B[39;00m) \u001B[38;5;28;01mas\u001B[39;00m e:\n\u001B[1;32m    273\u001B[0m         \u001B[38;5;28;01mif\u001B[39;00m index\u001B[38;5;241m.\u001B[39mnumel() \u001B[38;5;241m>\u001B[39m \u001B[38;5;241m0\u001B[39m \u001B[38;5;129;01mand\u001B[39;00m index\u001B[38;5;241m.\u001B[39mmin() \u001B[38;5;241m<\u001B[39m \u001B[38;5;241m0\u001B[39m:\n",
      "\u001B[0;31mKeyboardInterrupt\u001B[0m: "
     ]
    }
   ],
   "source": [
    "main()"
   ],
   "metadata": {
    "collapsed": false,
    "ExecuteTime": {
     "end_time": "2024-12-16T17:27:26.129742Z",
     "start_time": "2024-12-16T17:27:16.735450Z"
    }
   },
   "id": "9f1cc09582276960",
   "execution_count": 106
  },
  {
   "cell_type": "code",
   "outputs": [],
   "source": [],
   "metadata": {
    "collapsed": false,
    "ExecuteTime": {
     "end_time": "2024-12-16T17:20:23.836250Z",
     "start_time": "2024-12-16T17:20:23.834389Z"
    }
   },
   "id": "7bba56b5ffc1cb80",
   "execution_count": 59
  },
  {
   "cell_type": "code",
   "outputs": [],
   "source": [],
   "metadata": {
    "collapsed": false,
    "ExecuteTime": {
     "end_time": "2024-12-16T17:20:23.923722Z",
     "start_time": "2024-12-16T17:20:23.921557Z"
    }
   },
   "id": "2a632f318d248575",
   "execution_count": 59
  },
  {
   "cell_type": "code",
   "outputs": [],
   "source": [],
   "metadata": {
    "collapsed": false
   },
   "id": "1e419eb48490daee"
  }
 ],
 "metadata": {
  "kernelspec": {
   "display_name": "Python 3",
   "language": "python",
   "name": "python3"
  },
  "language_info": {
   "codemirror_mode": {
    "name": "ipython",
    "version": 2
   },
   "file_extension": ".py",
   "mimetype": "text/x-python",
   "name": "python",
   "nbconvert_exporter": "python",
   "pygments_lexer": "ipython2",
   "version": "2.7.6"
  }
 },
 "nbformat": 4,
 "nbformat_minor": 5
}
