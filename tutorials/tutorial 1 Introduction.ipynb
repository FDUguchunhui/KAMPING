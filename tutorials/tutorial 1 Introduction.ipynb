{
 "cells": [
  {
   "cell_type": "markdown",
   "source": [
    "# KAMPING Tutorial 1. Introduction and basic use"
   ],
   "metadata": {
    "collapsed": false
   },
   "id": "57f1f419291edee0"
  },
  {
   "cell_type": "markdown",
   "source": [
    "Date created: 2024-10-25"
   ],
   "metadata": {
    "collapsed": false
   },
   "id": "5f01c90d25890ed3"
  },
  {
   "cell_type": "code",
   "outputs": [],
   "source": [
    "# Import kamping library before starting the tutorial\n",
    "import kamping\n",
    "\n",
    "%load_ext autoreload\n",
    "%autoreload 2"
   ],
   "metadata": {
    "collapsed": false,
    "ExecuteTime": {
     "end_time": "2024-10-28T23:57:57.367434Z",
     "start_time": "2024-10-28T23:57:49.238629Z"
    }
   },
   "id": "7131235534a17fa6",
   "execution_count": 1
  },
  {
   "cell_type": "markdown",
   "source": [
    "## 1. Download KGML files"
   ],
   "metadata": {
    "collapsed": false
   },
   "id": "aa5b1b7b6cb23b35"
  },
  {
   "cell_type": "markdown",
   "source": [
    "Next, we need to get the KGML file from KEGG. You can manually download the KGML file from the KEGG website or use the convenient `kamping.kgml` function to download the KGML file. The `kamping.kgml` function will download the KGML file of speificed speice from the KEGG website and save it to the specified directory."
   ],
   "metadata": {
    "collapsed": false
   },
   "id": "2d335c054efe8ec8"
  },
  {
   "cell_type": "code",
   "outputs": [],
   "source": [
    " # you can toggle verbose to False if you don't want to see the progress\n",
    "# replace ../data/kgml_hsa with your desired directory\n",
    "# uncomment if run the first time\n",
    "# kamping.kgml('hsa', out_dir='../data/kgml_hsa', verbose=True)"
   ],
   "metadata": {
    "collapsed": false,
    "ExecuteTime": {
     "end_time": "2024-10-28T23:57:57.393606Z",
     "start_time": "2024-10-28T23:57:57.368442Z"
    }
   },
   "id": "9517d7a71424099c",
   "execution_count": 2
  },
  {
   "cell_type": "markdown",
   "source": [
    "## 2. Create a graph"
   ],
   "metadata": {
    "collapsed": false
   },
   "id": "b9a6af1ad7eb9b9"
  },
  {
   "cell_type": "markdown",
   "source": [
    "Assume you have downloaded the KGML files, now you can use the `kamping.KeggGraph` class to load the KGML file. The `kamping.KeggGraph` class will parse the KGML file and create a instance of a customized KeggGraph class storing all necessary information and allow access to them through API easily."
   ],
   "metadata": {
    "collapsed": false
   },
   "id": "b3b9589bc0e7887c"
  },
  {
   "cell_type": "markdown",
   "source": [
    "There are three type of graph that can be created from the KGML file: mixed, gene, and metabolite. The mixed graph will contain both gene and metabolite nodes, gene graph will contain only gene nodes, and metabolite graph will contain only metabolite nodes. \"gene\" and \"metabolite\" type are created through node propagation."
   ],
   "metadata": {
    "collapsed": false
   },
   "id": "b88304f3986aed74"
  },
  {
   "cell_type": "markdown",
   "source": [
    "Now, let's create a mixed graph from the KGML file hsa00010.xml."
   ],
   "metadata": {
    "collapsed": false
   },
   "id": "a908f30f875a5d3a"
  },
  {
   "cell_type": "code",
   "outputs": [],
   "source": [
    "mixed_graph = kamping.KeggGraph('../data/kgml_hsa/hsa00010.xml', type='mixed',gene_group_as_interaction=False, multi_substrate_as_interaction=False, auto_correction='fix',\n",
    "                  directed=True, verbose=True)"
   ],
   "metadata": {
    "collapsed": false,
    "ExecuteTime": {
     "end_time": "2024-10-28T23:57:57.433123Z",
     "start_time": "2024-10-28T23:57:57.394175Z"
    }
   },
   "id": "5d2bc8324b1b8ea9",
   "execution_count": 3
  },
  {
   "cell_type": "markdown",
   "source": [
    "KeggGraph class has a lot of useful attributes and methods. For example, you can access the nodes and edges of the graph through the `nodes` and `edges` attributes."
   ],
   "metadata": {
    "collapsed": false
   },
   "id": "4c17322a6910cf4d"
  },
  {
   "cell_type": "code",
   "outputs": [
    {
     "data": {
      "text/plain": "['hsa:10327',\n 'hsa:124',\n 'hsa:125',\n 'hsa:126',\n 'hsa:127',\n 'hsa:128',\n 'hsa:130',\n 'hsa:130589',\n 'hsa:131',\n 'hsa:160287',\n 'hsa:1737',\n 'hsa:1738',\n 'hsa:2023',\n 'hsa:2026',\n 'hsa:2027',\n 'hsa:217',\n 'hsa:218',\n 'hsa:219',\n 'hsa:2203',\n 'hsa:221',\n 'hsa:222',\n 'hsa:223',\n 'hsa:224',\n 'hsa:226',\n 'hsa:229',\n 'hsa:230',\n 'hsa:2538',\n 'hsa:2597',\n 'hsa:26330',\n 'hsa:2645',\n 'hsa:2821',\n 'hsa:3098',\n 'hsa:3099',\n 'hsa:3101',\n 'hsa:387712',\n 'hsa:3939',\n 'hsa:3945',\n 'hsa:3948',\n 'hsa:441531',\n 'hsa:501',\n 'hsa:5105',\n 'hsa:5106',\n 'hsa:5160',\n 'hsa:5161',\n 'hsa:5162',\n 'hsa:5211',\n 'hsa:5213',\n 'hsa:5214',\n 'hsa:5223',\n 'hsa:5224',\n 'hsa:5230',\n 'hsa:5232',\n 'hsa:5236',\n 'hsa:5313',\n 'hsa:5315',\n 'hsa:55276',\n 'hsa:55902',\n 'hsa:57818',\n 'hsa:669',\n 'hsa:7167',\n 'hsa:80201',\n 'hsa:83440',\n 'hsa:84532',\n 'hsa:8789',\n 'hsa:92483',\n 'hsa:92579',\n 'hsa:9562',\n 'cpd:C00022',\n 'cpd:C00024',\n 'cpd:C00033',\n 'cpd:C00036',\n 'cpd:C00068',\n 'cpd:C00074',\n 'cpd:C00084',\n 'cpd:C00085',\n 'cpd:C00103',\n 'cpd:C00111',\n 'cpd:C00118',\n 'cpd:C00186',\n 'cpd:C00197',\n 'cpd:C00221',\n 'cpd:C00236',\n 'cpd:C00267',\n 'cpd:C00354',\n 'cpd:C00469',\n 'cpd:C00631',\n 'cpd:C00668',\n 'cpd:C01159',\n 'cpd:C01172',\n 'cpd:C05125',\n 'cpd:C15972',\n 'cpd:C15973',\n 'cpd:C16255']"
     },
     "execution_count": 4,
     "metadata": {},
     "output_type": "execute_result"
    }
   ],
   "source": [
    "mixed_graph.nodes"
   ],
   "metadata": {
    "collapsed": false,
    "ExecuteTime": {
     "end_time": "2024-10-28T23:57:57.458829Z",
     "start_time": "2024-10-28T23:57:57.434403Z"
    }
   },
   "id": "70b25d8865006b94",
   "execution_count": 4
  },
  {
   "cell_type": "markdown",
   "source": [
    "You can access the edges of the graph through the `edges` attribute."
   ],
   "metadata": {
    "collapsed": false
   },
   "id": "8006997002ed0ac1"
  },
  {
   "cell_type": "code",
   "outputs": [
    {
     "data": {
      "text/plain": "         entry1      entry2   type subtype_name subtype_value entry1_type  \\\n0    cpd:C00022  hsa:160287  PCrel     reaction     rn:R00703    compound   \n1    cpd:C00022    hsa:3939  PCrel     reaction     rn:R00703    compound   \n2    cpd:C00022    hsa:3945  PCrel     reaction     rn:R00703    compound   \n3    cpd:C00022    hsa:3948  PCrel     reaction     rn:R00703    compound   \n4    cpd:C00022    hsa:5160  PCrel     reaction     rn:R00014    compound   \n..          ...         ...    ...          ...           ...         ...   \n264    hsa:8789  cpd:C00085  PCrel     reaction     rn:R00762        gene   \n265   hsa:92483  cpd:C00022  PCrel     reaction     rn:R00703        gene   \n266   hsa:92483  cpd:C00186  PCrel     reaction     rn:R00703        gene   \n267   hsa:92579  cpd:C00267  PCrel     reaction     rn:R01788        gene   \n268    hsa:9562  cpd:C00631  PCrel     reaction     rn:R09532        gene   \n\n    entry2_type  \n0          gene  \n1          gene  \n2          gene  \n3          gene  \n4          gene  \n..          ...  \n264    compound  \n265    compound  \n266    compound  \n267    compound  \n268    compound  \n\n[269 rows x 7 columns]",
      "text/html": "<div>\n<style scoped>\n    .dataframe tbody tr th:only-of-type {\n        vertical-align: middle;\n    }\n\n    .dataframe tbody tr th {\n        vertical-align: top;\n    }\n\n    .dataframe thead th {\n        text-align: right;\n    }\n</style>\n<table border=\"1\" class=\"dataframe\">\n  <thead>\n    <tr style=\"text-align: right;\">\n      <th></th>\n      <th>entry1</th>\n      <th>entry2</th>\n      <th>type</th>\n      <th>subtype_name</th>\n      <th>subtype_value</th>\n      <th>entry1_type</th>\n      <th>entry2_type</th>\n    </tr>\n  </thead>\n  <tbody>\n    <tr>\n      <th>0</th>\n      <td>cpd:C00022</td>\n      <td>hsa:160287</td>\n      <td>PCrel</td>\n      <td>reaction</td>\n      <td>rn:R00703</td>\n      <td>compound</td>\n      <td>gene</td>\n    </tr>\n    <tr>\n      <th>1</th>\n      <td>cpd:C00022</td>\n      <td>hsa:3939</td>\n      <td>PCrel</td>\n      <td>reaction</td>\n      <td>rn:R00703</td>\n      <td>compound</td>\n      <td>gene</td>\n    </tr>\n    <tr>\n      <th>2</th>\n      <td>cpd:C00022</td>\n      <td>hsa:3945</td>\n      <td>PCrel</td>\n      <td>reaction</td>\n      <td>rn:R00703</td>\n      <td>compound</td>\n      <td>gene</td>\n    </tr>\n    <tr>\n      <th>3</th>\n      <td>cpd:C00022</td>\n      <td>hsa:3948</td>\n      <td>PCrel</td>\n      <td>reaction</td>\n      <td>rn:R00703</td>\n      <td>compound</td>\n      <td>gene</td>\n    </tr>\n    <tr>\n      <th>4</th>\n      <td>cpd:C00022</td>\n      <td>hsa:5160</td>\n      <td>PCrel</td>\n      <td>reaction</td>\n      <td>rn:R00014</td>\n      <td>compound</td>\n      <td>gene</td>\n    </tr>\n    <tr>\n      <th>...</th>\n      <td>...</td>\n      <td>...</td>\n      <td>...</td>\n      <td>...</td>\n      <td>...</td>\n      <td>...</td>\n      <td>...</td>\n    </tr>\n    <tr>\n      <th>264</th>\n      <td>hsa:8789</td>\n      <td>cpd:C00085</td>\n      <td>PCrel</td>\n      <td>reaction</td>\n      <td>rn:R00762</td>\n      <td>gene</td>\n      <td>compound</td>\n    </tr>\n    <tr>\n      <th>265</th>\n      <td>hsa:92483</td>\n      <td>cpd:C00022</td>\n      <td>PCrel</td>\n      <td>reaction</td>\n      <td>rn:R00703</td>\n      <td>gene</td>\n      <td>compound</td>\n    </tr>\n    <tr>\n      <th>266</th>\n      <td>hsa:92483</td>\n      <td>cpd:C00186</td>\n      <td>PCrel</td>\n      <td>reaction</td>\n      <td>rn:R00703</td>\n      <td>gene</td>\n      <td>compound</td>\n    </tr>\n    <tr>\n      <th>267</th>\n      <td>hsa:92579</td>\n      <td>cpd:C00267</td>\n      <td>PCrel</td>\n      <td>reaction</td>\n      <td>rn:R01788</td>\n      <td>gene</td>\n      <td>compound</td>\n    </tr>\n    <tr>\n      <th>268</th>\n      <td>hsa:9562</td>\n      <td>cpd:C00631</td>\n      <td>PCrel</td>\n      <td>reaction</td>\n      <td>rn:R09532</td>\n      <td>gene</td>\n      <td>compound</td>\n    </tr>\n  </tbody>\n</table>\n<p>269 rows × 7 columns</p>\n</div>"
     },
     "execution_count": 5,
     "metadata": {},
     "output_type": "execute_result"
    }
   ],
   "source": [
    "mixed_graph.edges"
   ],
   "metadata": {
    "collapsed": false,
    "ExecuteTime": {
     "end_time": "2024-10-28T23:57:57.488325Z",
     "start_time": "2024-10-28T23:57:57.459385Z"
    }
   },
   "id": "7445a1925bf26d5f",
   "execution_count": 5
  },
  {
   "cell_type": "markdown",
   "source": [
    "You can also check gene and compound nodes separately."
   ],
   "metadata": {
    "collapsed": false
   },
   "id": "dea9c72069dbddc8"
  },
  {
   "cell_type": "code",
   "outputs": [
    {
     "data": {
      "text/plain": "['hsa:10327',\n 'hsa:124',\n 'hsa:125',\n 'hsa:126',\n 'hsa:127',\n 'hsa:128',\n 'hsa:130',\n 'hsa:130589',\n 'hsa:131',\n 'hsa:160287',\n 'hsa:1737',\n 'hsa:1738',\n 'hsa:2023',\n 'hsa:2026',\n 'hsa:2027',\n 'hsa:217',\n 'hsa:218',\n 'hsa:219',\n 'hsa:2203',\n 'hsa:221',\n 'hsa:222',\n 'hsa:223',\n 'hsa:224',\n 'hsa:226',\n 'hsa:229',\n 'hsa:230',\n 'hsa:2538',\n 'hsa:2597',\n 'hsa:26330',\n 'hsa:2645',\n 'hsa:2821',\n 'hsa:3098',\n 'hsa:3099',\n 'hsa:3101',\n 'hsa:387712',\n 'hsa:3939',\n 'hsa:3945',\n 'hsa:3948',\n 'hsa:441531',\n 'hsa:501',\n 'hsa:5105',\n 'hsa:5106',\n 'hsa:5160',\n 'hsa:5161',\n 'hsa:5162',\n 'hsa:5211',\n 'hsa:5213',\n 'hsa:5214',\n 'hsa:5223',\n 'hsa:5224',\n 'hsa:5230',\n 'hsa:5232',\n 'hsa:5236',\n 'hsa:5313',\n 'hsa:5315',\n 'hsa:55276',\n 'hsa:55902',\n 'hsa:57818',\n 'hsa:669',\n 'hsa:7167',\n 'hsa:80201',\n 'hsa:83440',\n 'hsa:84532',\n 'hsa:8789',\n 'hsa:92483',\n 'hsa:92579',\n 'hsa:9562']"
     },
     "execution_count": 6,
     "metadata": {},
     "output_type": "execute_result"
    }
   ],
   "source": [
    "mixed_graph.genes"
   ],
   "metadata": {
    "collapsed": false,
    "ExecuteTime": {
     "end_time": "2024-10-28T23:57:57.512109Z",
     "start_time": "2024-10-28T23:57:57.488997Z"
    }
   },
   "id": "7b1fc649c8049bf5",
   "execution_count": 6
  },
  {
   "cell_type": "code",
   "outputs": [
    {
     "data": {
      "text/plain": "['cpd:C00022',\n 'cpd:C00024',\n 'cpd:C00033',\n 'cpd:C00036',\n 'cpd:C00068',\n 'cpd:C00074',\n 'cpd:C00084',\n 'cpd:C00085',\n 'cpd:C00103',\n 'cpd:C00111',\n 'cpd:C00118',\n 'cpd:C00186',\n 'cpd:C00197',\n 'cpd:C00221',\n 'cpd:C00236',\n 'cpd:C00267',\n 'cpd:C00354',\n 'cpd:C00469',\n 'cpd:C00631',\n 'cpd:C00668',\n 'cpd:C01159',\n 'cpd:C01172',\n 'cpd:C05125',\n 'cpd:C15972',\n 'cpd:C15973',\n 'cpd:C16255']"
     },
     "execution_count": 7,
     "metadata": {},
     "output_type": "execute_result"
    }
   ],
   "source": [
    "mixed_graph.compounds"
   ],
   "metadata": {
    "collapsed": false,
    "ExecuteTime": {
     "end_time": "2024-10-28T23:57:57.538307Z",
     "start_time": "2024-10-28T23:57:57.512681Z"
    }
   },
   "id": "e5607994af9fd163",
   "execution_count": 7
  },
  {
   "cell_type": "code",
   "outputs": [
    {
     "data": {
      "text/plain": "'path:hsa00010'"
     },
     "execution_count": 8,
     "metadata": {},
     "output_type": "execute_result"
    }
   ],
   "source": [
    "mixed_graph.name"
   ],
   "metadata": {
    "collapsed": false,
    "ExecuteTime": {
     "end_time": "2024-10-28T23:57:57.565261Z",
     "start_time": "2024-10-28T23:57:57.539023Z"
    }
   },
   "id": "a58d0dc099ed1cca",
   "execution_count": 8
  },
  {
   "cell_type": "markdown",
   "source": [
    "A summary and some statistics of the graph can be obtained through directly call the graph object."
   ],
   "metadata": {
    "collapsed": false
   },
   "id": "5d13d3015964e2be"
  },
  {
   "cell_type": "markdown",
   "source": [
    "Let's check the summary of the graph. You can see now the gene ID type is changed to uniprot. You might also notice the number of gene nodes and edges increase after the id conversion. This is because the a single gene node can be converted to multiple uniprot nodes, and the edge is expanded to connect all the uniprot nodes to the original destination node (that node could also be expanded)."
   ],
   "metadata": {
    "collapsed": false
   },
   "id": "657f7bb9555f06ae"
  },
  {
   "cell_type": "code",
   "outputs": [
    {
     "data": {
      "text/plain": "KEGG Pathway: \n            [Title]: Glycolysis / Gluconeogenesis\n            [Name]: path:hsa00010\n            [Org]: hsa\n            [Link]: https://www.kegg.jp/kegg-bin/show_pathway?hsa00010\n            [Image]: https://www.kegg.jp/kegg/pathway/hsa/hsa00010.png\n            [Link]: https://www.kegg.jp/kegg-bin/show_pathway?hsa00010\n            Graph type: mixed \n            Number of Genes: 67\n            Number of Compounds: 26\n            Gene ID type : kegg\n            Compound ID type : kegg\n            Number of Nodes: 93\n            Number of Edges: 269"
     },
     "execution_count": 9,
     "metadata": {},
     "output_type": "execute_result"
    }
   ],
   "source": [
    "mixed_graph"
   ],
   "metadata": {
    "collapsed": false,
    "ExecuteTime": {
     "end_time": "2024-10-28T23:57:57.593522Z",
     "start_time": "2024-10-28T23:57:57.565953Z"
    }
   },
   "id": "4f5b45e62c6fa2fc",
   "execution_count": 9
  },
  {
   "cell_type": "markdown",
   "source": [
    "The KeggGraph class enable you to whether parse derived edges of different types though parameter `gene_group_as_interaction` and `multi_substrate_as_interaction`. The `gene_group_as_interaction` parameter is to parse the gene group as interaction between genes, and the `multi_substrate_as_interaction` parameter is to parse the multi-substrate and multi-product reaction as interaction between the substrate and the product. The `auto_correction` parameter is to fix the error in the KGML file. The `verbose` parameter is to show the progress of the parsing."
   ],
   "metadata": {
    "collapsed": false
   },
   "id": "5269a0db3165a4bc"
  },
  {
   "cell_type": "code",
   "outputs": [],
   "source": [
    "mixed_graph_all = kamping.KeggGraph('../data/kgml_hsa/hsa00010.xml', type='mixed',gene_group_as_interaction=True, multi_substrate_as_interaction=True, auto_correction='fix',\n",
    "                    directed=True, verbose=True)"
   ],
   "metadata": {
    "collapsed": false,
    "ExecuteTime": {
     "end_time": "2024-10-28T23:57:57.632268Z",
     "start_time": "2024-10-28T23:57:57.595785Z"
    }
   },
   "id": "d2caa551be8e52b4",
   "execution_count": 10
  },
  {
   "cell_type": "markdown",
   "source": [
    "You can see now two new derived edge types \"multi-substrate\" and \"multi-product\" are added to the graph."
   ],
   "metadata": {
    "collapsed": false
   },
   "id": "44ace43fff8b3e86"
  },
  {
   "cell_type": "code",
   "outputs": [
    {
     "data": {
      "text/plain": "     type     subtype_name\n0   CCrel  multi-substrate\n1   PCrel         reaction\n24  CCrel    multi-product",
      "text/html": "<div>\n<style scoped>\n    .dataframe tbody tr th:only-of-type {\n        vertical-align: middle;\n    }\n\n    .dataframe tbody tr th {\n        vertical-align: top;\n    }\n\n    .dataframe thead th {\n        text-align: right;\n    }\n</style>\n<table border=\"1\" class=\"dataframe\">\n  <thead>\n    <tr style=\"text-align: right;\">\n      <th></th>\n      <th>type</th>\n      <th>subtype_name</th>\n    </tr>\n  </thead>\n  <tbody>\n    <tr>\n      <th>0</th>\n      <td>CCrel</td>\n      <td>multi-substrate</td>\n    </tr>\n    <tr>\n      <th>1</th>\n      <td>PCrel</td>\n      <td>reaction</td>\n    </tr>\n    <tr>\n      <th>24</th>\n      <td>CCrel</td>\n      <td>multi-product</td>\n    </tr>\n  </tbody>\n</table>\n</div>"
     },
     "execution_count": 11,
     "metadata": {},
     "output_type": "execute_result"
    }
   ],
   "source": [
    "mixed_graph_all.edges[['type', 'subtype_name']].drop_duplicates()"
   ],
   "metadata": {
    "collapsed": false,
    "ExecuteTime": {
     "end_time": "2024-10-28T23:57:57.661924Z",
     "start_time": "2024-10-28T23:57:57.632958Z"
    }
   },
   "id": "e6a7e8cc3d097a60",
   "execution_count": 11
  },
  {
   "cell_type": "markdown",
   "source": [
    "Let create gene-only and metabolite-only graphs from the same KGML file."
   ],
   "metadata": {
    "collapsed": false
   },
   "id": "73c5cde4c5ecd42d"
  },
  {
   "cell_type": "code",
   "outputs": [],
   "source": [
    "gene_graph = kamping.KeggGraph('../data/kgml_hsa/hsa00010.xml', type='gene',gene_group_as_interaction=False, multi_substrate_as_interaction=False, auto_correction='fix',\n",
    "                  directed=True, verbose=True)\n",
    "metabolite_graph = kamping.KeggGraph('../data/kgml_hsa/hsa00010.xml', type='metabolite',gene_group_as_interaction=False, multi_substrate_as_interaction=False, auto_correction='fix',\n",
    "                    directed=True, verbose=True)"
   ],
   "metadata": {
    "collapsed": false,
    "ExecuteTime": {
     "end_time": "2024-10-28T23:57:57.730763Z",
     "start_time": "2024-10-28T23:57:57.662642Z"
    }
   },
   "id": "ff9ed1b468bb9dcd",
   "execution_count": 12
  },
  {
   "cell_type": "code",
   "outputs": [
    {
     "data": {
      "text/plain": "KEGG Pathway: \n            [Title]: Glycolysis / Gluconeogenesis\n            [Name]: path:hsa00010\n            [Org]: hsa\n            [Link]: https://www.kegg.jp/kegg-bin/show_pathway?hsa00010\n            [Image]: https://www.kegg.jp/kegg/pathway/hsa/hsa00010.png\n            [Link]: https://www.kegg.jp/kegg-bin/show_pathway?hsa00010\n            Graph type: gene \n            Number of Genes: 67\n            Number of Compounds: 0\n            Gene ID type : kegg\n            Compound ID type : kegg\n            Number of Nodes: 67\n            Number of Edges: 524"
     },
     "execution_count": 13,
     "metadata": {},
     "output_type": "execute_result"
    }
   ],
   "source": [
    "gene_graph"
   ],
   "metadata": {
    "collapsed": false,
    "ExecuteTime": {
     "end_time": "2024-10-28T23:57:57.758832Z",
     "start_time": "2024-10-28T23:57:57.731392Z"
    }
   },
   "id": "4e0b3673b8dd3221",
   "execution_count": 13
  },
  {
   "cell_type": "code",
   "outputs": [
    {
     "data": {
      "text/plain": "        entry1      entry2   type          subtype_name subtype_value  \\\n0    hsa:10327     hsa:124  PPrel  compound-propagation        custom   \n1    hsa:10327     hsa:125  PPrel  compound-propagation        custom   \n2    hsa:10327     hsa:126  PPrel  compound-propagation        custom   \n3    hsa:10327     hsa:127  PPrel  compound-propagation        custom   \n4    hsa:10327     hsa:128  PPrel  compound-propagation        custom   \n..         ...         ...    ...                   ...           ...   \n519   hsa:9562  hsa:387712  PPrel  compound-propagation        custom   \n520   hsa:9562  hsa:441531  PPrel  compound-propagation        custom   \n521   hsa:9562    hsa:5223  PPrel  compound-propagation        custom   \n522   hsa:9562    hsa:5224  PPrel  compound-propagation        custom   \n523   hsa:9562     hsa:669  PPrel  compound-propagation        custom   \n\n    entry1_type entry2_type  \n0          gene        gene  \n1          gene        gene  \n2          gene        gene  \n3          gene        gene  \n4          gene        gene  \n..          ...         ...  \n519        gene        gene  \n520        gene        gene  \n521        gene        gene  \n522        gene        gene  \n523        gene        gene  \n\n[524 rows x 7 columns]",
      "text/html": "<div>\n<style scoped>\n    .dataframe tbody tr th:only-of-type {\n        vertical-align: middle;\n    }\n\n    .dataframe tbody tr th {\n        vertical-align: top;\n    }\n\n    .dataframe thead th {\n        text-align: right;\n    }\n</style>\n<table border=\"1\" class=\"dataframe\">\n  <thead>\n    <tr style=\"text-align: right;\">\n      <th></th>\n      <th>entry1</th>\n      <th>entry2</th>\n      <th>type</th>\n      <th>subtype_name</th>\n      <th>subtype_value</th>\n      <th>entry1_type</th>\n      <th>entry2_type</th>\n    </tr>\n  </thead>\n  <tbody>\n    <tr>\n      <th>0</th>\n      <td>hsa:10327</td>\n      <td>hsa:124</td>\n      <td>PPrel</td>\n      <td>compound-propagation</td>\n      <td>custom</td>\n      <td>gene</td>\n      <td>gene</td>\n    </tr>\n    <tr>\n      <th>1</th>\n      <td>hsa:10327</td>\n      <td>hsa:125</td>\n      <td>PPrel</td>\n      <td>compound-propagation</td>\n      <td>custom</td>\n      <td>gene</td>\n      <td>gene</td>\n    </tr>\n    <tr>\n      <th>2</th>\n      <td>hsa:10327</td>\n      <td>hsa:126</td>\n      <td>PPrel</td>\n      <td>compound-propagation</td>\n      <td>custom</td>\n      <td>gene</td>\n      <td>gene</td>\n    </tr>\n    <tr>\n      <th>3</th>\n      <td>hsa:10327</td>\n      <td>hsa:127</td>\n      <td>PPrel</td>\n      <td>compound-propagation</td>\n      <td>custom</td>\n      <td>gene</td>\n      <td>gene</td>\n    </tr>\n    <tr>\n      <th>4</th>\n      <td>hsa:10327</td>\n      <td>hsa:128</td>\n      <td>PPrel</td>\n      <td>compound-propagation</td>\n      <td>custom</td>\n      <td>gene</td>\n      <td>gene</td>\n    </tr>\n    <tr>\n      <th>...</th>\n      <td>...</td>\n      <td>...</td>\n      <td>...</td>\n      <td>...</td>\n      <td>...</td>\n      <td>...</td>\n      <td>...</td>\n    </tr>\n    <tr>\n      <th>519</th>\n      <td>hsa:9562</td>\n      <td>hsa:387712</td>\n      <td>PPrel</td>\n      <td>compound-propagation</td>\n      <td>custom</td>\n      <td>gene</td>\n      <td>gene</td>\n    </tr>\n    <tr>\n      <th>520</th>\n      <td>hsa:9562</td>\n      <td>hsa:441531</td>\n      <td>PPrel</td>\n      <td>compound-propagation</td>\n      <td>custom</td>\n      <td>gene</td>\n      <td>gene</td>\n    </tr>\n    <tr>\n      <th>521</th>\n      <td>hsa:9562</td>\n      <td>hsa:5223</td>\n      <td>PPrel</td>\n      <td>compound-propagation</td>\n      <td>custom</td>\n      <td>gene</td>\n      <td>gene</td>\n    </tr>\n    <tr>\n      <th>522</th>\n      <td>hsa:9562</td>\n      <td>hsa:5224</td>\n      <td>PPrel</td>\n      <td>compound-propagation</td>\n      <td>custom</td>\n      <td>gene</td>\n      <td>gene</td>\n    </tr>\n    <tr>\n      <th>523</th>\n      <td>hsa:9562</td>\n      <td>hsa:669</td>\n      <td>PPrel</td>\n      <td>compound-propagation</td>\n      <td>custom</td>\n      <td>gene</td>\n      <td>gene</td>\n    </tr>\n  </tbody>\n</table>\n<p>524 rows × 7 columns</p>\n</div>"
     },
     "execution_count": 14,
     "metadata": {},
     "output_type": "execute_result"
    }
   ],
   "source": [
    "gene_graph.edges"
   ],
   "metadata": {
    "collapsed": false,
    "ExecuteTime": {
     "end_time": "2024-10-28T23:57:57.785194Z",
     "start_time": "2024-10-28T23:57:57.759618Z"
    }
   },
   "id": "983387100e124219",
   "execution_count": 14
  },
  {
   "cell_type": "code",
   "outputs": [
    {
     "data": {
      "text/plain": "KEGG Pathway: \n            [Title]: Glycolysis / Gluconeogenesis\n            [Name]: path:hsa00010\n            [Org]: hsa\n            [Link]: https://www.kegg.jp/kegg-bin/show_pathway?hsa00010\n            [Image]: https://www.kegg.jp/kegg/pathway/hsa/hsa00010.png\n            [Link]: https://www.kegg.jp/kegg-bin/show_pathway?hsa00010\n            Graph type: metabolite \n            Number of Genes: 0\n            Number of Compounds: 26\n            Gene ID type : kegg\n            Compound ID type : kegg\n            Number of Nodes: 26\n            Number of Edges: 56"
     },
     "execution_count": 15,
     "metadata": {},
     "output_type": "execute_result"
    }
   ],
   "source": [
    "metabolite_graph"
   ],
   "metadata": {
    "collapsed": false,
    "ExecuteTime": {
     "end_time": "2024-10-28T23:57:57.812122Z",
     "start_time": "2024-10-28T23:57:57.785826Z"
    }
   },
   "id": "e6ad619c14643f63",
   "execution_count": 15
  },
  {
   "cell_type": "markdown",
   "source": [
    "## Convert id in the graph"
   ],
   "metadata": {
    "collapsed": false
   },
   "id": "e535b71c42f7706b"
  },
  {
   "cell_type": "markdown",
   "source": [
    "Sometimes, the id of nodes in the graph is not the same as the id of interest. You can convert the id in the graph to the id in the database through the kamping.Converter class. The Converter class will convert the id of the nodes in the graph to the id of target."
   ],
   "metadata": {
    "collapsed": false
   },
   "id": "dcc45d4e034fa0dd"
  },
  {
   "cell_type": "markdown",
   "source": [
    "The Converter need to be initial with spice and the target of the gene and compound conversion. The available options for gene are \"kegg\", \"uniprot' and \"ncbi\" (also known as \"entrez\"), and the available options for compound are \"kegg\" and \"chebi\", and \"pubchem\". The option \"kegg\" is to keep the original id in the graph for gene or compound if the convert is only want to convert one type of node."
   ],
   "metadata": {
    "collapsed": false
   },
   "id": "4ea342f316b60247"
  },
  {
   "cell_type": "code",
   "outputs": [],
   "source": [
    "# initial a converter object\n",
    "converter = kamping.Converter('hsa', gene_target='uniprot', compound_target='kegg')\n",
    "converter.convert(mixed_graph)"
   ],
   "metadata": {
    "collapsed": false,
    "ExecuteTime": {
     "end_time": "2024-10-28T23:58:00.659963Z",
     "start_time": "2024-10-28T23:57:57.812775Z"
    }
   },
   "id": "4ad892ea3ab62dc5",
   "execution_count": 16
  },
  {
   "cell_type": "code",
   "outputs": [
    {
     "data": {
      "text/plain": "['up:P14550',\n 'up:V9HWI0',\n 'up:P07327',\n 'up:P00325',\n 'up:V9HW50',\n 'up:P00326',\n 'up:P08319',\n 'up:V9HVX7',\n 'up:P11766',\n 'up:Q6IRT1',\n 'up:P28332',\n 'up:Q8IUN7',\n 'up:Q96C23',\n 'up:A0A384MDW6',\n 'up:P40394',\n 'up:Q6ZMR3',\n 'up:P10515',\n 'up:Q86YI5',\n 'up:P09622',\n 'up:A0A024R713',\n 'up:P06733',\n 'up:A0A024R4F1',\n 'up:P09104',\n 'up:Q6FHV6',\n 'up:P13929',\n 'up:P05091',\n 'up:A0A384NPN7',\n 'up:P30838',\n 'up:Q6PKA6',\n 'up:P30837',\n 'up:A0A384MTJ7',\n 'up:P09467',\n 'up:P43353',\n 'up:P49189',\n 'up:P51648',\n 'up:P04075',\n 'up:V9HWN7',\n 'up:P05062',\n 'up:P09972',\n 'up:A0A024QZ64',\n 'up:P35575',\n 'up:P04406',\n 'up:V9HVZ4',\n 'up:O14556',\n 'up:A0A0K0K1K1',\n 'up:P35557',\n 'up:Q53Y25',\n 'up:P06744',\n 'up:P19367',\n 'up:B3KXY9',\n 'up:A8K7J7',\n 'up:Q59FD4',\n 'up:P52789',\n 'up:P52790',\n 'up:A6NNW6',\n 'up:P00338',\n 'up:V9HWB9',\n 'up:P07195',\n 'up:Q5U077',\n 'up:P07864',\n 'up:A0A140VKA7',\n 'up:Q8N0Y7',\n 'up:P49419',\n 'up:P35558',\n 'up:Q16822',\n 'up:A0A384MTT2',\n 'up:P08559',\n 'up:P29803',\n 'up:P11177',\n 'up:A0A384MDR8',\n 'up:P17858',\n 'up:Q7L2M7',\n 'up:P08237',\n 'up:A0A024R0Y5',\n 'up:Q01813',\n 'up:P18669',\n 'up:Q6FHU2',\n 'up:P15259',\n 'up:P00558',\n 'up:V9HWF4',\n 'up:P07205',\n 'up:A0A140VJR3',\n 'up:P36871',\n 'up:P30613',\n 'up:P14618',\n 'up:V9HWB8',\n 'up:Q96G03',\n 'up:Q9NR19',\n 'up:Q6DKJ3',\n 'up:Q9NQR9',\n 'up:P07738',\n 'up:A0A024R782',\n 'up:P60174',\n 'up:V9HWK1',\n 'up:Q53HE2',\n 'up:Q2TB90',\n 'up:B3KT70',\n 'up:Q9BRR6',\n 'up:Q9NUB1',\n 'up:O00757',\n 'up:Q9BYZ2',\n 'up:A0A140VJM9',\n 'up:Q9BUM1',\n 'up:Q9UNW1']"
     },
     "execution_count": 17,
     "metadata": {},
     "output_type": "execute_result"
    }
   ],
   "source": [
    "# now the id of the gene nodes in the graph is converted to uniprot id\n",
    "mixed_graph.genes"
   ],
   "metadata": {
    "collapsed": false,
    "ExecuteTime": {
     "end_time": "2024-10-28T23:58:00.689458Z",
     "start_time": "2024-10-28T23:58:00.660648Z"
    }
   },
   "id": "1900aa3c8a7cf22e",
   "execution_count": 17
  },
  {
   "cell_type": "markdown",
   "source": [
    "For batch processing a directory of KGML files please check tutorial 2"
   ],
   "metadata": {
    "collapsed": false
   },
   "id": "5fab83000a39ca8b"
  },
  {
   "cell_type": "markdown",
   "source": [
    "## 3. Convert to networkx graph and Visualization"
   ],
   "metadata": {
    "collapsed": false
   },
   "id": "4769c5bf3719affc"
  },
  {
   "cell_type": "markdown",
   "source": [
    "You can easily convert the KeggGrpah object to a networkx graph object through the `to_networkx` method to use the popular networkx library for network analysis."
   ],
   "metadata": {
    "collapsed": false
   },
   "id": "e669bb807791290c"
  },
  {
   "cell_type": "code",
   "outputs": [
    {
     "name": "stdout",
     "output_type": "stream",
     "text": [
      "DiGraph named 'path:hsa00010' with 130 nodes and 414 edges\n"
     ]
    },
    {
     "data": {
      "text/plain": "{'cpd:C00022': 'compound',\n 'up:Q6ZMR3': 'gene',\n 'up:P00338': 'gene',\n 'up:V9HWB9': 'gene',\n 'up:P07195': 'gene',\n 'up:Q5U077': 'gene',\n 'up:P07864': 'gene',\n 'up:A0A140VKA7': 'gene',\n 'up:P08559': 'gene',\n 'up:P29803': 'gene',\n 'up:P11177': 'gene',\n 'up:A0A384MDR8': 'gene',\n 'up:Q9BYZ2': 'gene',\n 'up:A0A140VJM9': 'gene',\n 'cpd:C00024': 'compound',\n 'up:P10515': 'gene',\n 'up:Q86YI5': 'gene',\n 'cpd:C00033': 'compound',\n 'up:P05091': 'gene',\n 'up:A0A384NPN7': 'gene',\n 'up:P30838': 'gene',\n 'up:Q6PKA6': 'gene',\n 'up:P30837': 'gene',\n 'up:A0A384MTJ7': 'gene',\n 'up:P43353': 'gene',\n 'up:P49189': 'gene',\n 'up:P51648': 'gene',\n 'up:P49419': 'gene',\n 'up:Q9NR19': 'gene',\n 'up:Q6DKJ3': 'gene',\n 'up:Q9NUB1': 'gene',\n 'cpd:C00036': 'compound',\n 'up:P35558': 'gene',\n 'up:Q16822': 'gene',\n 'up:A0A384MTT2': 'gene',\n 'cpd:C00068': 'compound',\n 'cpd:C00074': 'compound',\n 'up:P06733': 'gene',\n 'up:A0A024R4F1': 'gene',\n 'up:P09104': 'gene',\n 'up:Q6FHV6': 'gene',\n 'up:P13929': 'gene',\n 'up:A6NNW6': 'gene',\n 'up:P30613': 'gene',\n 'up:P14618': 'gene',\n 'up:V9HWB8': 'gene',\n 'cpd:C00084': 'compound',\n 'up:P14550': 'gene',\n 'up:V9HWI0': 'gene',\n 'up:P07327': 'gene',\n 'up:P00325': 'gene',\n 'up:V9HW50': 'gene',\n 'up:P00326': 'gene',\n 'up:P08319': 'gene',\n 'up:V9HVX7': 'gene',\n 'up:P11766': 'gene',\n 'up:Q6IRT1': 'gene',\n 'up:P28332': 'gene',\n 'up:Q8IUN7': 'gene',\n 'up:P40394': 'gene',\n 'cpd:C00085': 'compound',\n 'up:P06744': 'gene',\n 'up:P17858': 'gene',\n 'up:Q7L2M7': 'gene',\n 'up:P08237': 'gene',\n 'up:A0A024R0Y5': 'gene',\n 'up:Q01813': 'gene',\n 'cpd:C00103': 'compound',\n 'up:P36871': 'gene',\n 'up:Q96G03': 'gene',\n 'cpd:C00111': 'compound',\n 'up:P04075': 'gene',\n 'up:V9HWN7': 'gene',\n 'up:P05062': 'gene',\n 'up:P09972': 'gene',\n 'up:A0A024QZ64': 'gene',\n 'up:P60174': 'gene',\n 'up:V9HWK1': 'gene',\n 'up:Q53HE2': 'gene',\n 'cpd:C00118': 'compound',\n 'up:P04406': 'gene',\n 'up:V9HVZ4': 'gene',\n 'up:O14556': 'gene',\n 'up:A0A0K0K1K1': 'gene',\n 'cpd:C00186': 'compound',\n 'cpd:C00197': 'compound',\n 'up:Q8N0Y7': 'gene',\n 'up:P18669': 'gene',\n 'up:Q6FHU2': 'gene',\n 'up:P15259': 'gene',\n 'up:P00558': 'gene',\n 'up:V9HWF4': 'gene',\n 'up:P07205': 'gene',\n 'up:A0A140VJR3': 'gene',\n 'up:P07738': 'gene',\n 'up:A0A024R782': 'gene',\n 'cpd:C00221': 'compound',\n 'up:Q96C23': 'gene',\n 'up:A0A384MDW6': 'gene',\n 'up:P35557': 'gene',\n 'up:Q53Y25': 'gene',\n 'up:P19367': 'gene',\n 'up:B3KXY9': 'gene',\n 'up:A8K7J7': 'gene',\n 'up:Q59FD4': 'gene',\n 'up:P52789': 'gene',\n 'up:P52790': 'gene',\n 'up:Q2TB90': 'gene',\n 'up:B3KT70': 'gene',\n 'up:Q9BRR6': 'gene',\n 'cpd:C00236': 'compound',\n 'cpd:C00267': 'compound',\n 'cpd:C00354': 'compound',\n 'up:P09467': 'gene',\n 'up:O00757': 'gene',\n 'cpd:C00469': 'compound',\n 'cpd:C00631': 'compound',\n 'cpd:C00668': 'compound',\n 'up:P35575': 'gene',\n 'up:Q9NQR9': 'gene',\n 'up:Q9BUM1': 'gene',\n 'cpd:C01159': 'compound',\n 'up:Q9UNW1': 'gene',\n 'cpd:C01172': 'compound',\n 'cpd:C05125': 'compound',\n 'cpd:C15972': 'compound',\n 'up:P09622': 'gene',\n 'up:A0A024R713': 'gene',\n 'cpd:C15973': 'compound',\n 'cpd:C16255': 'compound'}"
     },
     "execution_count": 18,
     "metadata": {},
     "output_type": "execute_result"
    }
   ],
   "source": [
    "import networkx as nx\n",
    "mixed_graph_nx = mixed_graph.to_networkx()\n",
    "print(mixed_graph_nx)\n",
    "# node attributes available now is \"node_type\" represent the type of the node\n",
    "nx.get_node_attributes(mixed_graph_nx, name='node_type')"
   ],
   "metadata": {
    "collapsed": false,
    "ExecuteTime": {
     "end_time": "2024-10-28T23:58:00.718085Z",
     "start_time": "2024-10-28T23:58:00.690277Z"
    }
   },
   "id": "f2c667d42b9721aa",
   "execution_count": 18
  },
  {
   "cell_type": "markdown",
   "source": [
    "You might notice the number of edges in the networkx graph object is different from the number of edges in the KeggGraph object. This is because the edges in KeggGraph can have subtype, and the returned networkx graph object will only keep consider main edge types from \"PCrel\", \"PPrel\", \"CCrel\", and \"GErel\". You can access the edge type through the `edge_type` attribute."
   ],
   "metadata": {
    "collapsed": false
   },
   "id": "bfab22cb994ae06a"
  },
  {
   "cell_type": "code",
   "outputs": [
    {
     "data": {
      "text/plain": "<Figure size 640x480 with 1 Axes>",
      "image/png": "[encoded data removed]"
     },
     "metadata": {},
     "output_type": "display_data"
    }
   ],
   "source": [
    "from matplotlib import pyplot as plt\n",
    "import networkx as nx\n",
    "\n",
    "graph_nx = mixed_graph.to_networkx()\n",
    "color_map = {'compound': 'green', 'gene': 'blue'}\n",
    "\n",
    "# Extract node types\n",
    "node_types = nx.get_node_attributes(graph_nx, 'type')\n",
    "node_colors = [color_map.get(node_types.get(node), 'gray') for node in graph_nx.nodes]\n",
    "# set label positions offset y \n",
    "\n",
    "pos = nx.nx_agraph.graphviz_layout(graph_nx, prog='dot')  # positions for all nodes\n",
    "# pos = nx.spring_layout(graph_nx)  # positions for all nodes\n",
    "label_pos = {node: (pos[0], pos[1]-20) for node, pos in pos.items()}\n",
    "nx.draw(graph_nx, node_size=100, pos=pos, node_color=node_colors, with_labels=False)\n",
    "# nx.draw_networkx_labels(graph_nx, pos=label_pos, labels={node: node for node in graph_nx.nodes})"
   ],
   "metadata": {
    "collapsed": false,
    "ExecuteTime": {
     "end_time": "2024-10-28T23:58:03.060591Z",
     "start_time": "2024-10-28T23:58:00.718695Z"
    }
   },
   "id": "4a12ce3dbf5af2fc",
   "execution_count": 19
  },
  {
   "cell_type": "code",
   "outputs": [],
   "source": [],
   "metadata": {
    "collapsed": false,
    "ExecuteTime": {
     "end_time": "2024-10-28T23:58:03.063392Z",
     "start_time": "2024-10-28T23:58:03.061350Z"
    }
   },
   "id": "61dc9d6386baa5ec",
   "execution_count": 19
  },
  {
   "cell_type": "code",
   "outputs": [],
   "source": [],
   "metadata": {
    "collapsed": false,
    "ExecuteTime": {
     "end_time": "2024-10-28T23:58:03.065473Z",
     "start_time": "2024-10-28T23:58:03.064008Z"
    }
   },
   "id": "1815bcab8da3856a",
   "execution_count": 19
  },
  {
   "cell_type": "code",
   "outputs": [],
   "source": [],
   "metadata": {
    "collapsed": false,
    "ExecuteTime": {
     "end_time": "2024-10-28T23:58:03.067558Z",
     "start_time": "2024-10-28T23:58:03.066034Z"
    }
   },
   "id": "f9002681e08bc2de",
   "execution_count": 19
  },
  {
   "cell_type": "code",
   "outputs": [],
   "source": [
    "# from torch_geometric.loader import DataLoader\n",
    "# dataloader = DataLoader(pyg_graphs, batch_size=32, shuffle=False)"
   ],
   "metadata": {
    "collapsed": false,
    "ExecuteTime": {
     "end_time": "2024-10-28T23:58:03.094570Z",
     "start_time": "2024-10-28T23:58:03.068128Z"
    }
   },
   "id": "d3074b4a0a197258",
   "execution_count": 20
  },
  {
   "cell_type": "code",
   "outputs": [],
   "source": [
    "# from torch_geometric.utils import train_test_split_edges\n",
    "# from torch_geometric.utils import batched_negative_sampling\n",
    "# \n",
    "# train_data = pyg_graphs[:100]\n",
    "# val_data = pyg_graphs[100:len(pyg_graphs)]\n",
    "# val_negative = batched_negative_sampling(val_data.edge_index, val_data.batch)"
   ],
   "metadata": {
    "collapsed": false,
    "ExecuteTime": {
     "end_time": "2024-10-28T23:58:03.118425Z",
     "start_time": "2024-10-28T23:58:03.095131Z"
    }
   },
   "id": "71bd241fde2f16db",
   "execution_count": 21
  },
  {
   "cell_type": "code",
   "outputs": [],
   "source": [
    "from torch_geometric.nn.models import GCN"
   ],
   "metadata": {
    "collapsed": false,
    "ExecuteTime": {
     "end_time": "2024-10-28T23:58:03.141884Z",
     "start_time": "2024-10-28T23:58:03.119162Z"
    }
   },
   "id": "d9bc2553abec29f",
   "execution_count": 22
  },
  {
   "cell_type": "code",
   "outputs": [],
   "source": [
    "# import torch\n",
    "# import torch.nn.functional as F\n",
    "# from sklearn.metrics import roc_auc_score\n",
    "# \n",
    "# from torch_geometric.utils import negative_sampling\n",
    "# from torch_geometric.datasets import Planetoid\n",
    "# import torch_geometric.transforms as T\n",
    "# from torch_geometric.nn import GCNConv, SAGEConv\n",
    "# \n",
    "# \n",
    "# class Net(torch.nn.Module):\n",
    "#     def __init__(self):\n",
    "#         super(Net, self).__init__()\n",
    "#         self.conv1 = SAGEConv(1024, 128)\n",
    "#         self.conv2 = SAGEConv(128, 64)\n",
    "# \n",
    "#     def encode(self, data):\n",
    "#         x = self.conv1(data.x, data.edge_index) # convolution 1\n",
    "#         x = x.relu()\n",
    "#         return self.conv2(x, data.edge_index) # convolution 2\n",
    "# \n",
    "#     def decode(self, z, pos_edge_index, neg_edge_index): # only pos and neg edges\n",
    "#         edge_index = torch.cat([pos_edge_index, neg_edge_index], dim=-1) # concatenate pos and neg edges\n",
    "#         logits = (z[edge_index[0]] * z[edge_index[1]]).sum(dim=-1)  # dot product \n",
    "#         return logits\n",
    "# \n",
    "#     def decode_all(self, z):\n",
    "#         prob_adj = z @ z.t() # get adj NxN\n",
    "#         return (prob_adj > 0).nonzero(as_tuple=False).t() # get predicted edge_list "
   ],
   "metadata": {
    "collapsed": false,
    "ExecuteTime": {
     "end_time": "2024-10-28T23:58:03.166528Z",
     "start_time": "2024-10-28T23:58:03.142602Z"
    }
   },
   "id": "c20a8b7d31ba808b",
   "execution_count": 23
  },
  {
   "cell_type": "code",
   "outputs": [],
   "source": [
    "# device = torch.device('cuda' if torch.cuda.is_available() else 'cpu')\n",
    "# model, data = Net().to(device), data.to(device)\n",
    "# optimizer = torch.optim.Adam(params=model.parameters(), lr=0.001)"
   ],
   "metadata": {
    "collapsed": false,
    "ExecuteTime": {
     "end_time": "2024-10-28T23:58:03.190048Z",
     "start_time": "2024-10-28T23:58:03.167335Z"
    }
   },
   "id": "7ffab17fc5009d46",
   "execution_count": 24
  },
  {
   "cell_type": "code",
   "outputs": [],
   "source": [],
   "metadata": {
    "collapsed": false,
    "ExecuteTime": {
     "end_time": "2024-10-28T23:58:03.195021Z",
     "start_time": "2024-10-28T23:58:03.193581Z"
    }
   },
   "id": "1628c90d1b138929",
   "execution_count": 24
  },
  {
   "cell_type": "code",
   "outputs": [],
   "source": [
    "# def get_link_labels(pos_edge_index, neg_edge_index):\n",
    "#     # returns a tensor:\n",
    "#     # [1,1,1,1,...,0,0,0,0,0,..] with the number of ones is equel to the lenght of pos_edge_index\n",
    "#     # and the number of zeros is equal to the length of neg_edge_index\n",
    "#     E = pos_edge_index.size(1) + neg_edge_index.size(1)\n",
    "#     link_labels = torch.zeros(E, dtype=torch.float, device=device)\n",
    "#     link_labels[:pos_edge_index.size(1)] = 1.\n",
    "#     return link_labels\n",
    "# \n",
    "# \n",
    "# def train(data):\n",
    "#     model.train()\n",
    "# \n",
    "#     neg_edge_index = batched_negative_sampling(data.edge_index, data.batch)\n",
    "#     optimizer.zero_grad()\n",
    "#     z = model.encode(data) #encode\n",
    "#     link_logits = model.decode(z, data.edge_index, neg_edge_index) # decode\n",
    "#     \n",
    "#     link_labels = get_link_labels(data.edge_index, neg_edge_index)\n",
    "#     loss = F.binary_cross_entropy_with_logits(link_logits, link_labels)\n",
    "#     loss.backward()\n",
    "#     optimizer.step()\n",
    "# \n",
    "#     return loss\n",
    "# \n",
    "# \n",
    "# def test(data):\n",
    "#     model.eval()\n",
    "#     perfs = []\n",
    "#     for prefix in [\"val\", \"test\"]:\n",
    "#         pos_edge_index = data[f'{prefix}_pos_edge_index']\n",
    "#         neg_edge_index = data[f'{prefix}_neg_edge_index']\n",
    "# \n",
    "#         z = model.encode() # encode train\n",
    "#         link_logits = model.decode(z, pos_edge_index, neg_edge_index) # decode test or val\n",
    "#         link_probs = link_logits.sigmoid() # apply sigmoid\n",
    "# \n",
    "#         link_labels = get_link_labels(pos_edge_index, neg_edge_index) # get link\n",
    "# \n",
    "#         perfs.append(roc_auc_score(link_labels.cpu(), link_probs.cpu())) #compute roc_auc score\n",
    "#     return perfs"
   ],
   "metadata": {
    "collapsed": false,
    "ExecuteTime": {
     "end_time": "2024-10-28T23:58:03.219157Z",
     "start_time": "2024-10-28T23:58:03.195573Z"
    }
   },
   "id": "f19751cac2494c1c",
   "execution_count": 25
  },
  {
   "cell_type": "code",
   "outputs": [],
   "source": [
    "# best_val_perf = test_perf = 0\n",
    "# for epoch in range(1, 501):\n",
    "#     batch_loss = 0\n",
    "#     for batch in dataloader:\n",
    "#         batch_loss = batch_loss + train(batch)\n",
    "#     train_loss = batch_loss / len(dataloader)\n",
    "#     log = 'Epoch: {:03d}, Loss: {:.4f}'\n",
    "#     print(log.format(epoch, train_loss))"
   ],
   "metadata": {
    "collapsed": false,
    "ExecuteTime": {
     "end_time": "2024-10-28T23:58:03.244030Z",
     "start_time": "2024-10-28T23:58:03.219900Z"
    }
   },
   "id": "b7103ebc21e94c16",
   "execution_count": 26
  },
  {
   "cell_type": "code",
   "outputs": [],
   "source": [],
   "metadata": {
    "collapsed": false,
    "ExecuteTime": {
     "end_time": "2024-10-28T23:58:03.246055Z",
     "start_time": "2024-10-28T23:58:03.244572Z"
    }
   },
   "id": "bf8456dafe3649f4",
   "execution_count": 26
  }
 ],
 "metadata": {
  "kernelspec": {
   "display_name": "Python 3",
   "language": "python",
   "name": "python3"
  },
  "language_info": {
   "codemirror_mode": {
    "name": "ipython",
    "version": 2
   },
   "file_extension": ".py",
   "mimetype": "text/x-python",
   "name": "python",
   "nbconvert_exporter": "python",
   "pygments_lexer": "ipython2",
   "version": "2.7.6"
  }
 },
 "nbformat": 4,
 "nbformat_minor": 5
}
