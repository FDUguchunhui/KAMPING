{
 "cells": [
  {
   "cell_type": "code",
   "execution_count": 1,
   "id": "initial_id",
   "metadata": {
    "collapsed": true,
    "ExecuteTime": {
     "end_time": "2024-10-06T20:18:30.639669Z",
     "start_time": "2024-10-06T20:18:30.097260Z"
    }
   },
   "outputs": [
    {
     "data": {
      "text/plain": "<module 'KAMPING.main' from '/Users/cgu3/Documents/experiments/knext/KAMPING/main.py'>"
     },
     "execution_count": 1,
     "metadata": {},
     "output_type": "execute_result"
    }
   ],
   "source": [
    "import os\n",
    "\n",
    "import os\n",
    "import KAMPING.main\n",
    "import importlib\n",
    "importlib.reload(KAMPING.main)"
   ]
  },
  {
   "cell_type": "code",
   "outputs": [],
   "source": [],
   "metadata": {
    "collapsed": false,
    "ExecuteTime": {
     "end_time": "2024-10-06T20:18:30.642074Z",
     "start_time": "2024-10-06T20:18:30.640790Z"
    }
   },
   "id": "f03a4ca9c94e0b4",
   "execution_count": 1
  },
  {
   "cell_type": "code",
   "outputs": [],
   "source": [
    "# set working directory\n",
    "os.chdir('/Users/cgu3/Documents/experiments/knext/')"
   ],
   "metadata": {
    "collapsed": false,
    "ExecuteTime": {
     "end_time": "2024-10-06T20:18:30.644059Z",
     "start_time": "2024-10-06T20:18:30.642557Z"
    }
   },
   "id": "7257de0d1b69965a",
   "execution_count": 2
  },
  {
   "cell_type": "code",
   "outputs": [
    {
     "name": "stderr",
     "output_type": "stream",
     "text": [
      "INFO:root:Parsing data/kgml_hsa/hsa00010.xml...\n",
      "INFO:root:Parsing data/kgml_hsa/hsa00020.xml...\n",
      "INFO:root:Parsing data/kgml_hsa/hsa00030.xml...\n",
      "INFO:root:Parsing data/kgml_hsa/hsa00040.xml...\n",
      "INFO:root:Parsing data/kgml_hsa/hsa00051.xml...\n",
      "INFO:root:Parsing data/kgml_hsa/hsa00052.xml...\n",
      "INFO:root:Parsing data/kgml_hsa/hsa00053.xml...\n",
      "INFO:root:Parsing data/kgml_hsa/hsa00061.xml...\n",
      "INFO:root:Parsing data/kgml_hsa/hsa00062.xml...\n",
      "INFO:root:Parsing data/kgml_hsa/hsa00071.xml...\n",
      "INFO:root:Parsing data/kgml_hsa/hsa00100.xml...\n",
      "INFO:root:Parsing data/kgml_hsa/hsa00120.xml...\n",
      "INFO:root:Parsing data/kgml_hsa/hsa00130.xml...\n",
      "INFO:root:Parsing data/kgml_hsa/hsa00140.xml...\n",
      "INFO:root:Parsing data/kgml_hsa/hsa00190.xml...\n",
      "INFO:root:Parsing data/kgml_hsa/hsa00220.xml...\n",
      "INFO:root:Parsing data/kgml_hsa/hsa00230.xml...\n",
      "INFO:root:Parsing data/kgml_hsa/hsa00232.xml...\n",
      "INFO:root:Parsing data/kgml_hsa/hsa00240.xml...\n",
      "INFO:root:Parsing data/kgml_hsa/hsa00250.xml...\n",
      "INFO:root:Parsing data/kgml_hsa/hsa00260.xml...\n",
      "INFO:root:Parsing data/kgml_hsa/hsa00270.xml...\n",
      "INFO:root:Parsing data/kgml_hsa/hsa00280.xml...\n",
      "INFO:root:Parsing data/kgml_hsa/hsa00290.xml...\n"
     ]
    },
    {
     "name": "stdout",
     "output_type": "stream",
     "text": [
      "\u001B[31m\u001B[1mError when parsing data/kgml_hsa/hsa00290.xml: input dataframe does not contain data to parse!\u001B[0m\n"
     ]
    },
    {
     "name": "stderr",
     "output_type": "stream",
     "text": [
      "INFO:root:Parsing data/kgml_hsa/hsa00310.xml...\n",
      "INFO:root:Parsing data/kgml_hsa/hsa00330.xml...\n",
      "INFO:root:Parsing data/kgml_hsa/hsa00340.xml...\n",
      "INFO:root:Parsing data/kgml_hsa/hsa00350.xml...\n",
      "INFO:root:Parsing data/kgml_hsa/hsa00360.xml...\n",
      "INFO:root:Parsing data/kgml_hsa/hsa00380.xml...\n",
      "INFO:root:Parsing data/kgml_hsa/hsa00400.xml...\n",
      "INFO:root:Parsing data/kgml_hsa/hsa00410.xml...\n",
      "INFO:root:Parsing data/kgml_hsa/hsa00430.xml...\n",
      "INFO:root:Parsing data/kgml_hsa/hsa00440.xml...\n",
      "INFO:root:Parsing data/kgml_hsa/hsa00450.xml...\n",
      "INFO:root:Parsing data/kgml_hsa/hsa00470.xml...\n",
      "INFO:root:Parsing data/kgml_hsa/hsa00480.xml...\n",
      "INFO:root:Parsing data/kgml_hsa/hsa00500.xml...\n",
      "INFO:root:Parsing data/kgml_hsa/hsa00510.xml...\n",
      "INFO:root:Parsing data/kgml_hsa/hsa00511.xml...\n"
     ]
    },
    {
     "name": "stdout",
     "output_type": "stream",
     "text": [
      "\u001B[31m\u001B[1mError when parsing data/kgml_hsa/hsa00511.xml: ERROR: File \"data/kgml_hsa/hsa00511.xml\" cannot be parsed.\n",
      "Visit https://www.kegg.jp/kegg-bin/show_pathway?hsa00511 for pathway details.\n",
      "There are likely no edges in which to parse...\u001B[0m\n"
     ]
    },
    {
     "name": "stderr",
     "output_type": "stream",
     "text": [
      "INFO:root:Parsing data/kgml_hsa/hsa00512.xml...\n",
      "INFO:root:Parsing data/kgml_hsa/hsa00513.xml...\n",
      "INFO:root:Parsing data/kgml_hsa/hsa00514.xml...\n"
     ]
    },
    {
     "name": "stdout",
     "output_type": "stream",
     "text": [
      "\u001B[31m\u001B[1mError when parsing data/kgml_hsa/hsa00514.xml: ERROR: File \"data/kgml_hsa/hsa00514.xml\" cannot be parsed.\n",
      "Visit https://www.kegg.jp/kegg-bin/show_pathway?hsa00514 for pathway details.\n",
      "There are likely no edges in which to parse...\u001B[0m\n"
     ]
    },
    {
     "name": "stderr",
     "output_type": "stream",
     "text": [
      "INFO:root:Parsing data/kgml_hsa/hsa00515.xml...\n",
      "INFO:root:Parsing data/kgml_hsa/hsa00520.xml...\n",
      "INFO:root:Parsing data/kgml_hsa/hsa00524.xml...\n"
     ]
    },
    {
     "name": "stdout",
     "output_type": "stream",
     "text": [
      "\u001B[31m\u001B[1mError when parsing data/kgml_hsa/hsa00524.xml: input dataframe does not contain data to parse!\u001B[0m\n"
     ]
    },
    {
     "name": "stderr",
     "output_type": "stream",
     "text": [
      "INFO:root:Parsing data/kgml_hsa/hsa00531.xml...\n",
      "INFO:root:Parsing data/kgml_hsa/hsa00532.xml...\n",
      "INFO:root:Parsing data/kgml_hsa/hsa00533.xml...\n"
     ]
    },
    {
     "name": "stdout",
     "output_type": "stream",
     "text": [
      "\u001B[31m\u001B[1mError when parsing data/kgml_hsa/hsa00533.xml: ERROR: File \"data/kgml_hsa/hsa00533.xml\" cannot be parsed.\n",
      "Visit https://www.kegg.jp/kegg-bin/show_pathway?hsa00533 for pathway details.\n",
      "There are likely no edges in which to parse...\u001B[0m\n"
     ]
    },
    {
     "name": "stderr",
     "output_type": "stream",
     "text": [
      "INFO:root:Parsing data/kgml_hsa/hsa00534.xml...\n",
      "INFO:root:Parsing data/kgml_hsa/hsa00561.xml...\n",
      "INFO:root:Parsing data/kgml_hsa/hsa00562.xml...\n",
      "INFO:root:Parsing data/kgml_hsa/hsa00563.xml...\n",
      "INFO:root:Parsing data/kgml_hsa/hsa00564.xml...\n",
      "INFO:root:Parsing data/kgml_hsa/hsa00565.xml...\n",
      "INFO:root:Parsing data/kgml_hsa/hsa00590.xml...\n",
      "INFO:root:Parsing data/kgml_hsa/hsa00591.xml...\n",
      "INFO:root:Parsing data/kgml_hsa/hsa00592.xml...\n",
      "INFO:root:Parsing data/kgml_hsa/hsa00600.xml...\n",
      "INFO:root:Parsing data/kgml_hsa/hsa00601.xml...\n",
      "INFO:root:Parsing data/kgml_hsa/hsa00603.xml...\n",
      "INFO:root:Parsing data/kgml_hsa/hsa00604.xml...\n",
      "INFO:root:Parsing data/kgml_hsa/hsa00620.xml...\n",
      "INFO:root:Parsing data/kgml_hsa/hsa00630.xml...\n",
      "INFO:root:Parsing data/kgml_hsa/hsa00640.xml...\n",
      "INFO:root:Parsing data/kgml_hsa/hsa00650.xml...\n",
      "INFO:root:Parsing data/kgml_hsa/hsa00670.xml...\n",
      "INFO:root:Parsing data/kgml_hsa/hsa00730.xml...\n",
      "INFO:root:Parsing data/kgml_hsa/hsa00740.xml...\n",
      "INFO:root:Parsing data/kgml_hsa/hsa00750.xml...\n",
      "INFO:root:Parsing data/kgml_hsa/hsa00760.xml...\n",
      "INFO:root:Parsing data/kgml_hsa/hsa00770.xml...\n",
      "INFO:root:Parsing data/kgml_hsa/hsa00780.xml...\n",
      "INFO:root:Parsing data/kgml_hsa/hsa00785.xml...\n",
      "INFO:root:Parsing data/kgml_hsa/hsa00790.xml...\n",
      "INFO:root:Parsing data/kgml_hsa/hsa00830.xml...\n",
      "INFO:root:Parsing data/kgml_hsa/hsa00860.xml...\n",
      "INFO:root:Parsing data/kgml_hsa/hsa00900.xml...\n",
      "INFO:root:Parsing data/kgml_hsa/hsa00910.xml...\n",
      "INFO:root:Parsing data/kgml_hsa/hsa00920.xml...\n",
      "INFO:root:Parsing data/kgml_hsa/hsa00970.xml...\n",
      "INFO:root:Parsing data/kgml_hsa/hsa00980.xml...\n",
      "INFO:root:Parsing data/kgml_hsa/hsa00982.xml...\n",
      "INFO:root:Parsing data/kgml_hsa/hsa00983.xml...\n",
      "INFO:root:Parsing data/kgml_hsa/hsa01040.xml...\n"
     ]
    },
    {
     "name": "stdout",
     "output_type": "stream",
     "text": [
      "\u001B[31m\u001B[1mError when parsing data/kgml_hsa/hsa01040.xml: ERROR: File \"data/kgml_hsa/hsa01040.xml\" cannot be parsed.\n",
      "Visit https://www.kegg.jp/kegg-bin/show_pathway?hsa01040 for pathway details.\n",
      "There are likely no edges in which to parse...\u001B[0m\n"
     ]
    },
    {
     "name": "stderr",
     "output_type": "stream",
     "text": [
      "INFO:root:Parsing data/kgml_hsa/hsa01100.xml...\n"
     ]
    },
    {
     "name": "stdout",
     "output_type": "stream",
     "text": [
      "\u001B[31m\u001B[1mError when parsing data/kgml_hsa/hsa01100.xml: ERROR: File \"data/kgml_hsa/hsa01100.xml\" cannot be parsed.\n",
      "Visit https://www.kegg.jp/kegg-bin/show_pathway?hsa01100 for pathway details.\n",
      "There are likely no edges in which to parse...\u001B[0m\n"
     ]
    },
    {
     "name": "stderr",
     "output_type": "stream",
     "text": [
      "INFO:root:Parsing data/kgml_hsa/hsa01200.xml...\n"
     ]
    },
    {
     "name": "stdout",
     "output_type": "stream",
     "text": [
      "\u001B[31m\u001B[1mError when parsing data/kgml_hsa/hsa01200.xml: ERROR: File \"data/kgml_hsa/hsa01200.xml\" cannot be parsed.\n",
      "Visit https://www.kegg.jp/kegg-bin/show_pathway?hsa01200 for pathway details.\n",
      "There are likely no edges in which to parse...\u001B[0m\n"
     ]
    },
    {
     "name": "stderr",
     "output_type": "stream",
     "text": [
      "INFO:root:Parsing data/kgml_hsa/hsa01210.xml...\n"
     ]
    },
    {
     "name": "stdout",
     "output_type": "stream",
     "text": [
      "\u001B[31m\u001B[1mError when parsing data/kgml_hsa/hsa01210.xml: ERROR: File \"data/kgml_hsa/hsa01210.xml\" cannot be parsed.\n",
      "Visit https://www.kegg.jp/kegg-bin/show_pathway?hsa01210 for pathway details.\n",
      "There are likely no edges in which to parse...\u001B[0m\n"
     ]
    },
    {
     "name": "stderr",
     "output_type": "stream",
     "text": [
      "INFO:root:Parsing data/kgml_hsa/hsa01212.xml...\n"
     ]
    },
    {
     "name": "stdout",
     "output_type": "stream",
     "text": [
      "\u001B[31m\u001B[1mError when parsing data/kgml_hsa/hsa01212.xml: ERROR: File \"data/kgml_hsa/hsa01212.xml\" cannot be parsed.\n",
      "Visit https://www.kegg.jp/kegg-bin/show_pathway?hsa01212 for pathway details.\n",
      "There are likely no edges in which to parse...\u001B[0m\n"
     ]
    },
    {
     "name": "stderr",
     "output_type": "stream",
     "text": [
      "INFO:root:Parsing data/kgml_hsa/hsa01230.xml...\n"
     ]
    },
    {
     "name": "stdout",
     "output_type": "stream",
     "text": [
      "\u001B[31m\u001B[1mError when parsing data/kgml_hsa/hsa01230.xml: ERROR: File \"data/kgml_hsa/hsa01230.xml\" cannot be parsed.\n",
      "Visit https://www.kegg.jp/kegg-bin/show_pathway?hsa01230 for pathway details.\n",
      "There are likely no edges in which to parse...\u001B[0m\n"
     ]
    },
    {
     "name": "stderr",
     "output_type": "stream",
     "text": [
      "INFO:root:Parsing data/kgml_hsa/hsa01232.xml...\n"
     ]
    },
    {
     "name": "stdout",
     "output_type": "stream",
     "text": [
      "\u001B[31m\u001B[1mError when parsing data/kgml_hsa/hsa01232.xml: ERROR: File \"data/kgml_hsa/hsa01232.xml\" cannot be parsed.\n",
      "Visit https://www.kegg.jp/kegg-bin/show_pathway?hsa01232 for pathway details.\n",
      "There are likely no edges in which to parse...\u001B[0m\n"
     ]
    },
    {
     "name": "stderr",
     "output_type": "stream",
     "text": [
      "INFO:root:Parsing data/kgml_hsa/hsa01240.xml...\n"
     ]
    },
    {
     "name": "stdout",
     "output_type": "stream",
     "text": [
      "\u001B[31m\u001B[1mError when parsing data/kgml_hsa/hsa01240.xml: ERROR: File \"data/kgml_hsa/hsa01240.xml\" cannot be parsed.\n",
      "Visit https://www.kegg.jp/kegg-bin/show_pathway?hsa01240 for pathway details.\n",
      "There are likely no edges in which to parse...\u001B[0m\n"
     ]
    },
    {
     "name": "stderr",
     "output_type": "stream",
     "text": [
      "INFO:root:Parsing data/kgml_hsa/hsa01250.xml...\n"
     ]
    },
    {
     "name": "stdout",
     "output_type": "stream",
     "text": [
      "\u001B[31m\u001B[1mError when parsing data/kgml_hsa/hsa01250.xml: ERROR: File \"data/kgml_hsa/hsa01250.xml\" cannot be parsed.\n",
      "Visit https://www.kegg.jp/kegg-bin/show_pathway?hsa01250 for pathway details.\n",
      "There are likely no edges in which to parse...\u001B[0m\n"
     ]
    },
    {
     "name": "stderr",
     "output_type": "stream",
     "text": [
      "INFO:root:Parsing data/kgml_hsa/hsa01521.xml...\n",
      "INFO:root:Parsing data/kgml_hsa/hsa01522.xml...\n",
      "INFO:root:Parsing data/kgml_hsa/hsa01523.xml...\n",
      "INFO:root:Parsing data/kgml_hsa/hsa01524.xml...\n",
      "INFO:root:Parsing data/kgml_hsa/hsa02010.xml...\n"
     ]
    },
    {
     "name": "stdout",
     "output_type": "stream",
     "text": [
      "\u001B[31m\u001B[1mError when parsing data/kgml_hsa/hsa02010.xml: ERROR: File \"data/kgml_hsa/hsa02010.xml\" cannot be parsed.\n",
      "Visit https://www.kegg.jp/kegg-bin/show_pathway?hsa02010 for pathway details.\n",
      "There are likely no edges in which to parse...\u001B[0m\n"
     ]
    },
    {
     "name": "stderr",
     "output_type": "stream",
     "text": [
      "INFO:root:Parsing data/kgml_hsa/hsa03008.xml...\n"
     ]
    },
    {
     "name": "stdout",
     "output_type": "stream",
     "text": [
      "\u001B[31m\u001B[1mError when parsing data/kgml_hsa/hsa03008.xml: ERROR: File \"data/kgml_hsa/hsa03008.xml\" cannot be parsed.\n",
      "Visit https://www.kegg.jp/kegg-bin/show_pathway?hsa03008 for pathway details.\n",
      "There are likely no edges in which to parse...\u001B[0m\n"
     ]
    },
    {
     "name": "stderr",
     "output_type": "stream",
     "text": [
      "INFO:root:Parsing data/kgml_hsa/hsa03010.xml...\n"
     ]
    },
    {
     "name": "stdout",
     "output_type": "stream",
     "text": [
      "\u001B[31m\u001B[1mError when parsing data/kgml_hsa/hsa03010.xml: ERROR: File \"data/kgml_hsa/hsa03010.xml\" cannot be parsed.\n",
      "Visit https://www.kegg.jp/kegg-bin/show_pathway?hsa03010 for pathway details.\n",
      "There are likely no edges in which to parse...\u001B[0m\n"
     ]
    },
    {
     "name": "stderr",
     "output_type": "stream",
     "text": [
      "INFO:root:Parsing data/kgml_hsa/hsa03013.xml...\n"
     ]
    },
    {
     "name": "stdout",
     "output_type": "stream",
     "text": [
      "\u001B[31m\u001B[1mError when parsing data/kgml_hsa/hsa03013.xml: ERROR: File \"data/kgml_hsa/hsa03013.xml\" cannot be parsed.\n",
      "Visit https://www.kegg.jp/kegg-bin/show_pathway?hsa03013 for pathway details.\n",
      "There are likely no edges in which to parse...\u001B[0m\n"
     ]
    },
    {
     "name": "stderr",
     "output_type": "stream",
     "text": [
      "INFO:root:Parsing data/kgml_hsa/hsa03015.xml...\n",
      "INFO:root:Parsing data/kgml_hsa/hsa03018.xml...\n",
      "INFO:root:Parsing data/kgml_hsa/hsa03020.xml...\n"
     ]
    },
    {
     "name": "stdout",
     "output_type": "stream",
     "text": [
      "\u001B[31m\u001B[1mError when parsing data/kgml_hsa/hsa03020.xml: ERROR: File \"data/kgml_hsa/hsa03020.xml\" cannot be parsed.\n",
      "Visit https://www.kegg.jp/kegg-bin/show_pathway?hsa03020 for pathway details.\n",
      "There are likely no edges in which to parse...\u001B[0m\n"
     ]
    },
    {
     "name": "stderr",
     "output_type": "stream",
     "text": [
      "INFO:root:Parsing data/kgml_hsa/hsa03022.xml...\n"
     ]
    },
    {
     "name": "stdout",
     "output_type": "stream",
     "text": [
      "\u001B[31m\u001B[1mError when parsing data/kgml_hsa/hsa03022.xml: ERROR: File \"data/kgml_hsa/hsa03022.xml\" cannot be parsed.\n",
      "Visit https://www.kegg.jp/kegg-bin/show_pathway?hsa03022 for pathway details.\n",
      "There are likely no edges in which to parse...\u001B[0m\n"
     ]
    },
    {
     "name": "stderr",
     "output_type": "stream",
     "text": [
      "INFO:root:Parsing data/kgml_hsa/hsa03030.xml...\n"
     ]
    },
    {
     "name": "stdout",
     "output_type": "stream",
     "text": [
      "\u001B[31m\u001B[1mError when parsing data/kgml_hsa/hsa03030.xml: ERROR: File \"data/kgml_hsa/hsa03030.xml\" cannot be parsed.\n",
      "Visit https://www.kegg.jp/kegg-bin/show_pathway?hsa03030 for pathway details.\n",
      "There are likely no edges in which to parse...\u001B[0m\n"
     ]
    },
    {
     "name": "stderr",
     "output_type": "stream",
     "text": [
      "INFO:root:Parsing data/kgml_hsa/hsa03040.xml...\n"
     ]
    },
    {
     "name": "stdout",
     "output_type": "stream",
     "text": [
      "\u001B[31m\u001B[1mError when parsing data/kgml_hsa/hsa03040.xml: ERROR: File \"data/kgml_hsa/hsa03040.xml\" cannot be parsed.\n",
      "Visit https://www.kegg.jp/kegg-bin/show_pathway?hsa03040 for pathway details.\n",
      "There are likely no edges in which to parse...\u001B[0m\n"
     ]
    },
    {
     "name": "stderr",
     "output_type": "stream",
     "text": [
      "INFO:root:Parsing data/kgml_hsa/hsa03050.xml...\n"
     ]
    },
    {
     "name": "stdout",
     "output_type": "stream",
     "text": [
      "\u001B[31m\u001B[1mError when parsing data/kgml_hsa/hsa03050.xml: ERROR: File \"data/kgml_hsa/hsa03050.xml\" cannot be parsed.\n",
      "Visit https://www.kegg.jp/kegg-bin/show_pathway?hsa03050 for pathway details.\n",
      "There are likely no edges in which to parse...\u001B[0m\n"
     ]
    },
    {
     "name": "stderr",
     "output_type": "stream",
     "text": [
      "INFO:root:Parsing data/kgml_hsa/hsa03060.xml...\n"
     ]
    },
    {
     "name": "stdout",
     "output_type": "stream",
     "text": [
      "\u001B[31m\u001B[1mError when parsing data/kgml_hsa/hsa03060.xml: ERROR: File \"data/kgml_hsa/hsa03060.xml\" cannot be parsed.\n",
      "Visit https://www.kegg.jp/kegg-bin/show_pathway?hsa03060 for pathway details.\n",
      "There are likely no edges in which to parse...\u001B[0m\n"
     ]
    },
    {
     "name": "stderr",
     "output_type": "stream",
     "text": [
      "INFO:root:Parsing data/kgml_hsa/hsa03082.xml...\n"
     ]
    },
    {
     "name": "stdout",
     "output_type": "stream",
     "text": [
      "\u001B[31m\u001B[1mError when parsing data/kgml_hsa/hsa03082.xml: ERROR: File \"data/kgml_hsa/hsa03082.xml\" cannot be parsed.\n",
      "Visit https://www.kegg.jp/kegg-bin/show_pathway?hsa03082 for pathway details.\n",
      "There are likely no edges in which to parse...\u001B[0m\n"
     ]
    },
    {
     "name": "stderr",
     "output_type": "stream",
     "text": [
      "INFO:root:Parsing data/kgml_hsa/hsa03083.xml...\n"
     ]
    },
    {
     "name": "stdout",
     "output_type": "stream",
     "text": [
      "\u001B[31m\u001B[1mError when parsing data/kgml_hsa/hsa03083.xml: ERROR: File \"data/kgml_hsa/hsa03083.xml\" cannot be parsed.\n",
      "Visit https://www.kegg.jp/kegg-bin/show_pathway?hsa03083 for pathway details.\n",
      "There are likely no edges in which to parse...\u001B[0m\n"
     ]
    },
    {
     "name": "stderr",
     "output_type": "stream",
     "text": [
      "INFO:root:Parsing data/kgml_hsa/hsa03250.xml...\n",
      "INFO:root:Parsing data/kgml_hsa/hsa03260.xml...\n"
     ]
    },
    {
     "name": "stdout",
     "output_type": "stream",
     "text": [
      "\u001B[31m\u001B[1mError when parsing data/kgml_hsa/hsa03260.xml: ERROR: File \"data/kgml_hsa/hsa03260.xml\" cannot be parsed.\n",
      "Visit https://www.kegg.jp/kegg-bin/show_pathway?hsa03260 for pathway details.\n",
      "There are likely no edges in which to parse...\u001B[0m\n"
     ]
    },
    {
     "name": "stderr",
     "output_type": "stream",
     "text": [
      "INFO:root:Parsing data/kgml_hsa/hsa03264.xml...\n"
     ]
    },
    {
     "name": "stdout",
     "output_type": "stream",
     "text": [
      "\u001B[31m\u001B[1mError when parsing data/kgml_hsa/hsa03264.xml: ERROR: File \"data/kgml_hsa/hsa03264.xml\" cannot be parsed.\n",
      "Visit https://www.kegg.jp/kegg-bin/show_pathway?hsa03264 for pathway details.\n",
      "There are likely no edges in which to parse...\u001B[0m\n"
     ]
    },
    {
     "name": "stderr",
     "output_type": "stream",
     "text": [
      "INFO:root:Parsing data/kgml_hsa/hsa03265.xml...\n"
     ]
    },
    {
     "name": "stdout",
     "output_type": "stream",
     "text": [
      "\u001B[31m\u001B[1mError when parsing data/kgml_hsa/hsa03265.xml: ERROR: File \"data/kgml_hsa/hsa03265.xml\" cannot be parsed.\n",
      "Visit https://www.kegg.jp/kegg-bin/show_pathway?hsa03265 for pathway details.\n",
      "There are likely no edges in which to parse...\u001B[0m\n"
     ]
    },
    {
     "name": "stderr",
     "output_type": "stream",
     "text": [
      "INFO:root:Parsing data/kgml_hsa/hsa03266.xml...\n"
     ]
    },
    {
     "name": "stdout",
     "output_type": "stream",
     "text": [
      "\u001B[31m\u001B[1mError when parsing data/kgml_hsa/hsa03266.xml: ERROR: File \"data/kgml_hsa/hsa03266.xml\" cannot be parsed.\n",
      "Visit https://www.kegg.jp/kegg-bin/show_pathway?hsa03266 for pathway details.\n",
      "There are likely no edges in which to parse...\u001B[0m\n"
     ]
    },
    {
     "name": "stderr",
     "output_type": "stream",
     "text": [
      "INFO:root:Parsing data/kgml_hsa/hsa03267.xml...\n"
     ]
    },
    {
     "name": "stdout",
     "output_type": "stream",
     "text": [
      "\u001B[31m\u001B[1mError when parsing data/kgml_hsa/hsa03267.xml: ERROR: File \"data/kgml_hsa/hsa03267.xml\" cannot be parsed.\n",
      "Visit https://www.kegg.jp/kegg-bin/show_pathway?hsa03267 for pathway details.\n",
      "There are likely no edges in which to parse...\u001B[0m\n"
     ]
    },
    {
     "name": "stderr",
     "output_type": "stream",
     "text": [
      "INFO:root:Parsing data/kgml_hsa/hsa03271.xml...\n"
     ]
    },
    {
     "name": "stdout",
     "output_type": "stream",
     "text": [
      "\u001B[31m\u001B[1mError when parsing data/kgml_hsa/hsa03271.xml: ERROR: File \"data/kgml_hsa/hsa03271.xml\" cannot be parsed.\n",
      "Visit https://www.kegg.jp/kegg-bin/show_pathway?hsa03271 for pathway details.\n",
      "There are likely no edges in which to parse...\u001B[0m\n"
     ]
    },
    {
     "name": "stderr",
     "output_type": "stream",
     "text": [
      "INFO:root:Parsing data/kgml_hsa/hsa03320.xml...\n",
      "INFO:root:Parsing data/kgml_hsa/hsa03410.xml...\n"
     ]
    },
    {
     "name": "stdout",
     "output_type": "stream",
     "text": [
      "\u001B[31m\u001B[1mError when parsing data/kgml_hsa/hsa03410.xml: ERROR: File \"data/kgml_hsa/hsa03410.xml\" cannot be parsed.\n",
      "Visit https://www.kegg.jp/kegg-bin/show_pathway?hsa03410 for pathway details.\n",
      "There are likely no edges in which to parse...\u001B[0m\n"
     ]
    },
    {
     "name": "stderr",
     "output_type": "stream",
     "text": [
      "INFO:root:Parsing data/kgml_hsa/hsa03420.xml...\n"
     ]
    },
    {
     "name": "stdout",
     "output_type": "stream",
     "text": [
      "\u001B[31m\u001B[1mError when parsing data/kgml_hsa/hsa03420.xml: ERROR: File \"data/kgml_hsa/hsa03420.xml\" cannot be parsed.\n",
      "Visit https://www.kegg.jp/kegg-bin/show_pathway?hsa03420 for pathway details.\n",
      "There are likely no edges in which to parse...\u001B[0m\n"
     ]
    },
    {
     "name": "stderr",
     "output_type": "stream",
     "text": [
      "INFO:root:Parsing data/kgml_hsa/hsa03430.xml...\n"
     ]
    },
    {
     "name": "stdout",
     "output_type": "stream",
     "text": [
      "\u001B[31m\u001B[1mError when parsing data/kgml_hsa/hsa03430.xml: ERROR: File \"data/kgml_hsa/hsa03430.xml\" cannot be parsed.\n",
      "Visit https://www.kegg.jp/kegg-bin/show_pathway?hsa03430 for pathway details.\n",
      "There are likely no edges in which to parse...\u001B[0m\n"
     ]
    },
    {
     "name": "stderr",
     "output_type": "stream",
     "text": [
      "INFO:root:Parsing data/kgml_hsa/hsa03440.xml...\n",
      "INFO:root:Parsing data/kgml_hsa/hsa03450.xml...\n"
     ]
    },
    {
     "name": "stdout",
     "output_type": "stream",
     "text": [
      "\u001B[31m\u001B[1mError when parsing data/kgml_hsa/hsa03450.xml: ERROR: File \"data/kgml_hsa/hsa03450.xml\" cannot be parsed.\n",
      "Visit https://www.kegg.jp/kegg-bin/show_pathway?hsa03450 for pathway details.\n",
      "There are likely no edges in which to parse...\u001B[0m\n"
     ]
    },
    {
     "name": "stderr",
     "output_type": "stream",
     "text": [
      "INFO:root:Parsing data/kgml_hsa/hsa03460.xml...\n",
      "INFO:root:Parsing data/kgml_hsa/hsa04010.xml...\n",
      "INFO:root:Parsing data/kgml_hsa/hsa04012.xml...\n",
      "INFO:root:Parsing data/kgml_hsa/hsa04014.xml...\n",
      "INFO:root:Parsing data/kgml_hsa/hsa04015.xml...\n",
      "INFO:root:Parsing data/kgml_hsa/hsa04020.xml...\n",
      "INFO:root:Parsing data/kgml_hsa/hsa04022.xml...\n",
      "INFO:root:Parsing data/kgml_hsa/hsa04024.xml...\n",
      "INFO:root:Parsing data/kgml_hsa/hsa04060.xml...\n",
      "INFO:root:Parsing data/kgml_hsa/hsa04061.xml...\n",
      "INFO:root:Parsing data/kgml_hsa/hsa04062.xml...\n",
      "INFO:root:Parsing data/kgml_hsa/hsa04064.xml...\n",
      "INFO:root:Parsing data/kgml_hsa/hsa04066.xml...\n",
      "INFO:root:Parsing data/kgml_hsa/hsa04068.xml...\n",
      "INFO:root:Parsing data/kgml_hsa/hsa04070.xml...\n",
      "INFO:root:Parsing data/kgml_hsa/hsa04071.xml...\n",
      "INFO:root:Parsing data/kgml_hsa/hsa04072.xml...\n",
      "INFO:root:Parsing data/kgml_hsa/hsa04080.xml...\n",
      "INFO:root:Parsing data/kgml_hsa/hsa04110.xml...\n",
      "INFO:root:Parsing data/kgml_hsa/hsa04114.xml...\n",
      "INFO:root:Parsing data/kgml_hsa/hsa04115.xml...\n",
      "INFO:root:Parsing data/kgml_hsa/hsa04120.xml...\n"
     ]
    },
    {
     "name": "stdout",
     "output_type": "stream",
     "text": [
      "\u001B[31m\u001B[1mError when parsing data/kgml_hsa/hsa04120.xml: ERROR: File \"data/kgml_hsa/hsa04120.xml\" cannot be parsed.\n",
      "Visit https://www.kegg.jp/kegg-bin/show_pathway?hsa04120 for pathway details.\n",
      "There are likely no edges in which to parse...\u001B[0m\n"
     ]
    },
    {
     "name": "stderr",
     "output_type": "stream",
     "text": [
      "INFO:root:Parsing data/kgml_hsa/hsa04122.xml...\n",
      "INFO:root:Parsing data/kgml_hsa/hsa04130.xml...\n",
      "INFO:root:Parsing data/kgml_hsa/hsa04136.xml...\n",
      "INFO:root:Parsing data/kgml_hsa/hsa04137.xml...\n",
      "INFO:root:Parsing data/kgml_hsa/hsa04140.xml...\n",
      "INFO:root:Parsing data/kgml_hsa/hsa04141.xml...\n",
      "INFO:root:Parsing data/kgml_hsa/hsa04142.xml...\n"
     ]
    },
    {
     "name": "stdout",
     "output_type": "stream",
     "text": [
      "\u001B[31m\u001B[1mError when parsing data/kgml_hsa/hsa04142.xml: ERROR: File \"data/kgml_hsa/hsa04142.xml\" cannot be parsed.\n",
      "Visit https://www.kegg.jp/kegg-bin/show_pathway?hsa04142 for pathway details.\n",
      "There are likely no edges in which to parse...\u001B[0m\n"
     ]
    },
    {
     "name": "stderr",
     "output_type": "stream",
     "text": [
      "INFO:root:Parsing data/kgml_hsa/hsa04144.xml...\n",
      "INFO:root:Parsing data/kgml_hsa/hsa04145.xml...\n",
      "INFO:root:Parsing data/kgml_hsa/hsa04146.xml...\n"
     ]
    },
    {
     "name": "stdout",
     "output_type": "stream",
     "text": [
      "\u001B[31m\u001B[1mError when parsing data/kgml_hsa/hsa04146.xml: ERROR: File \"data/kgml_hsa/hsa04146.xml\" cannot be parsed.\n",
      "Visit https://www.kegg.jp/kegg-bin/show_pathway?hsa04146 for pathway details.\n",
      "There are likely no edges in which to parse...\u001B[0m\n"
     ]
    },
    {
     "name": "stderr",
     "output_type": "stream",
     "text": [
      "INFO:root:Parsing data/kgml_hsa/hsa04148.xml...\n",
      "INFO:root:Parsing data/kgml_hsa/hsa04150.xml...\n",
      "INFO:root:Parsing data/kgml_hsa/hsa04151.xml...\n",
      "INFO:root:Parsing data/kgml_hsa/hsa04152.xml...\n",
      "INFO:root:Parsing data/kgml_hsa/hsa04210.xml...\n",
      "INFO:root:Parsing data/kgml_hsa/hsa04211.xml...\n",
      "INFO:root:Parsing data/kgml_hsa/hsa04213.xml...\n",
      "INFO:root:Parsing data/kgml_hsa/hsa04215.xml...\n",
      "INFO:root:Parsing data/kgml_hsa/hsa04216.xml...\n",
      "INFO:root:Parsing data/kgml_hsa/hsa04217.xml...\n",
      "INFO:root:Parsing data/kgml_hsa/hsa04218.xml...\n",
      "INFO:root:Parsing data/kgml_hsa/hsa04260.xml...\n",
      "INFO:root:Parsing data/kgml_hsa/hsa04261.xml...\n",
      "INFO:root:Parsing data/kgml_hsa/hsa04270.xml...\n",
      "INFO:root:Parsing data/kgml_hsa/hsa04310.xml...\n",
      "INFO:root:Parsing data/kgml_hsa/hsa04330.xml...\n",
      "INFO:root:Parsing data/kgml_hsa/hsa04340.xml...\n",
      "INFO:root:Parsing data/kgml_hsa/hsa04350.xml...\n",
      "INFO:root:Parsing data/kgml_hsa/hsa04360.xml...\n"
     ]
    }
   ],
   "source": [
    "# Parse data into MPI network\n",
    "\n",
    "KAMPING.main.network(input_data='data/kgml_hsa', out_dir='data/converted', type='MPI', unique=False, id_conversion='uniprot')"
   ],
   "metadata": {
    "collapsed": false,
    "is_executing": true,
    "ExecuteTime": {
     "start_time": "2024-10-06T20:18:30.645148Z"
    }
   },
   "id": "6edbcdd02f8ea113",
   "execution_count": null
  },
  {
   "cell_type": "code",
   "outputs": [],
   "source": [],
   "metadata": {
    "collapsed": false,
    "is_executing": true
   },
   "id": "f596efbe50482946"
  }
 ],
 "metadata": {
  "kernelspec": {
   "display_name": "Python 3",
   "language": "python",
   "name": "python3"
  },
  "language_info": {
   "codemirror_mode": {
    "name": "ipython",
    "version": 2
   },
   "file_extension": ".py",
   "mimetype": "text/x-python",
   "name": "python",
   "nbconvert_exporter": "python",
   "pygments_lexer": "ipython2",
   "version": "2.7.6"
  }
 },
 "nbformat": 4,
 "nbformat_minor": 5
}
