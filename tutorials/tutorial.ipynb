{
 "cells": [
  {
   "cell_type": "code",
   "execution_count": 1,
   "id": "initial_id",
   "metadata": {
    "collapsed": true,
    "ExecuteTime": {
     "end_time": "2024-10-04T03:10:48.853629Z",
     "start_time": "2024-10-04T03:10:48.349893Z"
    }
   },
   "outputs": [
    {
     "data": {
      "text/plain": "<module 'KAMPING.main' from '/Users/cgu3/Documents/experiments/knext/KAMPING/main.py'>"
     },
     "execution_count": 1,
     "metadata": {},
     "output_type": "execute_result"
    }
   ],
   "source": [
    "import os\n",
    "\n",
    "import os\n",
    "import KAMPING.main\n",
    "import importlib\n",
    "importlib.reload(KAMPING.main)"
   ]
  },
  {
   "cell_type": "code",
   "outputs": [],
   "source": [
    "# set working directory\n",
    "os.chdir('/Users/cgu3/Documents/experiments/knext/')"
   ],
   "metadata": {
    "collapsed": false,
    "ExecuteTime": {
     "end_time": "2024-10-04T03:10:49.651829Z",
     "start_time": "2024-10-04T03:10:49.649295Z"
    }
   },
   "id": "7257de0d1b69965a",
   "execution_count": 2
  },
  {
   "cell_type": "code",
   "outputs": [
    {
     "name": "stderr",
     "output_type": "stream",
     "text": [
      "INFO:root:Parsing data/kgml_hsa/hsa04371.xml...\n"
     ]
    },
    {
     "name": "stdout",
     "output_type": "stream",
     "text": [
      "\u001B[32m\u001B[22mNow parsing: Apelin signaling pathway...\u001B[0m\n"
     ]
    },
    {
     "name": "stderr",
     "output_type": "stream",
     "text": [
      "INFO:root:Parsing data/kgml_hsa/hsa00513.xml...\n"
     ]
    },
    {
     "name": "stdout",
     "output_type": "stream",
     "text": [
      "\u001B[32m\u001B[22mNow parsing: Various types of N-glycan biosynthesis...\u001B[0m\n"
     ]
    },
    {
     "name": "stderr",
     "output_type": "stream",
     "text": [
      "INFO:root:Parsing data/kgml_hsa/hsa04211.xml...\n"
     ]
    },
    {
     "name": "stdout",
     "output_type": "stream",
     "text": [
      "\u001B[32m\u001B[22mNow parsing: Longevity regulating pathway...\u001B[0m\n"
     ]
    },
    {
     "name": "stderr",
     "output_type": "stream",
     "text": [
      "INFO:root:Parsing data/kgml_hsa/hsa05133.xml...\n"
     ]
    },
    {
     "name": "stdout",
     "output_type": "stream",
     "text": [
      "\u001B[32m\u001B[22mNow parsing: Pertussis...\u001B[0m\n"
     ]
    },
    {
     "name": "stderr",
     "output_type": "stream",
     "text": [
      "INFO:root:Parsing data/kgml_hsa/hsa05132.xml...\n"
     ]
    },
    {
     "name": "stdout",
     "output_type": "stream",
     "text": [
      "\u001B[32m\u001B[22mNow parsing: Salmonella infection...\u001B[0m\n"
     ]
    },
    {
     "name": "stderr",
     "output_type": "stream",
     "text": [
      "INFO:root:Parsing data/kgml_hsa/hsa00062.xml...\n"
     ]
    },
    {
     "name": "stdout",
     "output_type": "stream",
     "text": [
      "\u001B[32m\u001B[22mNow parsing: Fatty acid elongation...\u001B[0m\n"
     ]
    },
    {
     "name": "stderr",
     "output_type": "stream",
     "text": [
      "INFO:root:Parsing data/kgml_hsa/hsa04210.xml...\n"
     ]
    },
    {
     "name": "stdout",
     "output_type": "stream",
     "text": [
      "\u001B[32m\u001B[22mNow parsing: Apoptosis...\u001B[0m\n"
     ]
    },
    {
     "name": "stderr",
     "output_type": "stream",
     "text": [
      "INFO:root:Parsing data/kgml_hsa/hsa05330.xml...\n"
     ]
    },
    {
     "name": "stdout",
     "output_type": "stream",
     "text": [
      "\u001B[32m\u001B[22mNow parsing: Allograft rejection...\u001B[0m\n"
     ]
    },
    {
     "name": "stderr",
     "output_type": "stream",
     "text": [
      "INFO:root:Parsing data/kgml_hsa/hsa00260.xml...\n"
     ]
    },
    {
     "name": "stdout",
     "output_type": "stream",
     "text": [
      "\u001B[32m\u001B[22mNow parsing: Glycine, serine and threonine metabolism...\u001B[0m\n"
     ]
    },
    {
     "name": "stderr",
     "output_type": "stream",
     "text": [
      "INFO:root:Parsing data/kgml_hsa/hsa04012.xml...\n"
     ]
    },
    {
     "name": "stdout",
     "output_type": "stream",
     "text": [
      "\u001B[32m\u001B[22mNow parsing: ErbB signaling pathway...\u001B[0m\n"
     ]
    },
    {
     "name": "stderr",
     "output_type": "stream",
     "text": [
      "INFO:root:Parsing data/kgml_hsa/hsa00512.xml...\n"
     ]
    },
    {
     "name": "stdout",
     "output_type": "stream",
     "text": [
      "\u001B[32m\u001B[22mNow parsing: Mucin type O-glycan biosynthesis...\u001B[0m\n"
     ]
    },
    {
     "name": "stderr",
     "output_type": "stream",
     "text": [
      "INFO:root:Parsing data/kgml_hsa/hsa04614.xml...\n"
     ]
    },
    {
     "name": "stdout",
     "output_type": "stream",
     "text": [
      "\u001B[32m\u001B[22mNow parsing: Renin-angiotensin system...\u001B[0m\n"
     ]
    },
    {
     "name": "stderr",
     "output_type": "stream",
     "text": [
      "INFO:root:Parsing data/kgml_hsa/hsa04370.xml...\n"
     ]
    },
    {
     "name": "stdout",
     "output_type": "stream",
     "text": [
      "\u001B[32m\u001B[22mNow parsing: VEGF signaling pathway...\u001B[0m\n"
     ]
    },
    {
     "name": "stderr",
     "output_type": "stream",
     "text": [
      "INFO:root:Parsing data/kgml_hsa/hsa00670.xml...\n"
     ]
    },
    {
     "name": "stdout",
     "output_type": "stream",
     "text": [
      "\u001B[32m\u001B[22mNow parsing: One carbon pool by folate...\u001B[0m\n"
     ]
    },
    {
     "name": "stderr",
     "output_type": "stream",
     "text": [
      "INFO:root:Parsing data/kgml_hsa/hsa00100.xml...\n"
     ]
    },
    {
     "name": "stdout",
     "output_type": "stream",
     "text": [
      "\u001B[32m\u001B[22mNow parsing: Steroid biosynthesis...\u001B[0m\n"
     ]
    },
    {
     "name": "stderr",
     "output_type": "stream",
     "text": [
      "INFO:root:Parsing data/kgml_hsa/hsa00470.xml...\n"
     ]
    },
    {
     "name": "stdout",
     "output_type": "stream",
     "text": [
      "\u001B[32m\u001B[22mNow parsing: D-Amino acid metabolism...\u001B[0m\n"
     ]
    },
    {
     "name": "stderr",
     "output_type": "stream",
     "text": [
      "INFO:root:Parsing data/kgml_hsa/hsa00510.xml...\n"
     ]
    },
    {
     "name": "stdout",
     "output_type": "stream",
     "text": [
      "\u001B[32m\u001B[22mNow parsing: N-Glycan biosynthesis...\u001B[0m\n"
     ]
    },
    {
     "name": "stderr",
     "output_type": "stream",
     "text": [
      "INFO:root:Parsing data/kgml_hsa/hsa04010.xml...\n"
     ]
    },
    {
     "name": "stdout",
     "output_type": "stream",
     "text": [
      "\u001B[32m\u001B[22mNow parsing: MAPK signaling pathway...\u001B[0m\n"
     ]
    },
    {
     "name": "stderr",
     "output_type": "stream",
     "text": [
      "INFO:root:Parsing data/kgml_hsa/hsa05332.xml...\n"
     ]
    },
    {
     "name": "stdout",
     "output_type": "stream",
     "text": [
      "\u001B[32m\u001B[22mNow parsing: Graft-versus-host disease...\u001B[0m\n"
     ]
    },
    {
     "name": "stderr",
     "output_type": "stream",
     "text": [
      "INFO:root:Parsing data/kgml_hsa/hsa04979.xml...\n"
     ]
    },
    {
     "name": "stdout",
     "output_type": "stream",
     "text": [
      "\u001B[32m\u001B[22mNow parsing: Cholesterol metabolism...\u001B[0m\n"
     ]
    },
    {
     "name": "stderr",
     "output_type": "stream",
     "text": [
      "INFO:root:Parsing data/kgml_hsa/hsa05130.xml...\n"
     ]
    },
    {
     "name": "stdout",
     "output_type": "stream",
     "text": [
      "\u001B[32m\u001B[22mNow parsing: Pathogenic Escherichia coli infection...\u001B[0m\n"
     ]
    },
    {
     "name": "stderr",
     "output_type": "stream",
     "text": [
      "INFO:root:Parsing data/kgml_hsa/hsa00920.xml...\n"
     ]
    },
    {
     "name": "stdout",
     "output_type": "stream",
     "text": [
      "\u001B[32m\u001B[22mNow parsing: Sulfur metabolism...\u001B[0m\n"
     ]
    },
    {
     "name": "stderr",
     "output_type": "stream",
     "text": [
      "INFO:root:Parsing data/kgml_hsa/hsa05131.xml...\n"
     ]
    },
    {
     "name": "stdout",
     "output_type": "stream",
     "text": [
      "\u001B[32m\u001B[22mNow parsing: Shigellosis...\u001B[0m\n"
     ]
    },
    {
     "name": "stderr",
     "output_type": "stream",
     "text": [
      "INFO:root:Parsing data/kgml_hsa/hsa04213.xml...\n"
     ]
    },
    {
     "name": "stdout",
     "output_type": "stream",
     "text": [
      "\u001B[32m\u001B[22mNow parsing: Longevity regulating pathway - multiple species...\u001B[0m\n"
     ]
    },
    {
     "name": "stderr",
     "output_type": "stream",
     "text": [
      "INFO:root:Parsing data/kgml_hsa/hsa00061.xml...\n"
     ]
    },
    {
     "name": "stdout",
     "output_type": "stream",
     "text": [
      "\u001B[32m\u001B[22mNow parsing: Fatty acid biosynthesis...\u001B[0m\n"
     ]
    },
    {
     "name": "stderr",
     "output_type": "stream",
     "text": [
      "INFO:root:Parsing data/kgml_hsa/hsa04950.xml...\n"
     ]
    },
    {
     "name": "stdout",
     "output_type": "stream",
     "text": [
      "\u001B[32m\u001B[22mNow parsing: Maturity onset diabetes of the young...\u001B[0m\n"
     ]
    },
    {
     "name": "stderr",
     "output_type": "stream",
     "text": [
      "INFO:root:Parsing data/kgml_hsa/hsa04978.xml...\n"
     ]
    },
    {
     "name": "stdout",
     "output_type": "stream",
     "text": [
      "\u001B[32m\u001B[22mNow parsing: Mineral absorption...\u001B[0m\n"
     ]
    },
    {
     "name": "stderr",
     "output_type": "stream",
     "text": [
      "INFO:root:Parsing data/kgml_hsa/hsa03030.xml...\n"
     ]
    },
    {
     "name": "stdout",
     "output_type": "stream",
     "text": [
      "\u001B[32m\u001B[22mNow parsing: DNA replication...\u001B[0m\n",
      "\u001B[31m\u001B[1mERROR: File \"data/kgml_hsa/hsa03030.xml\" cannot be parsed.\n",
      "Visit https://www.kegg.jp/kegg-bin/show_pathway?hsa03030 for pathway details.\n",
      "There are likely no edges in which to parse...\u001B[0m\n"
     ]
    },
    {
     "name": "stderr",
     "output_type": "stream",
     "text": [
      "INFO:root:Parsing data/kgml_hsa/hsa03018.xml...\n"
     ]
    },
    {
     "name": "stdout",
     "output_type": "stream",
     "text": [
      "\u001B[32m\u001B[22mNow parsing: RNA degradation...\u001B[0m\n"
     ]
    },
    {
     "name": "stderr",
     "output_type": "stream",
     "text": [
      "INFO:root:Parsing data/kgml_hsa/hsa00511.xml...\n"
     ]
    },
    {
     "name": "stdout",
     "output_type": "stream",
     "text": [
      "\u001B[32m\u001B[22mNow parsing: Other glycan degradation...\u001B[0m\n",
      "\u001B[31m\u001B[1mERROR: File \"data/kgml_hsa/hsa00511.xml\" cannot be parsed.\n",
      "Visit https://www.kegg.jp/kegg-bin/show_pathway?hsa00511 for pathway details.\n",
      "There are likely no edges in which to parse...\u001B[0m\n"
     ]
    },
    {
     "name": "stderr",
     "output_type": "stream",
     "text": [
      "INFO:root:Parsing data/kgml_hsa/hsa03420.xml...\n"
     ]
    },
    {
     "name": "stdout",
     "output_type": "stream",
     "text": [
      "\u001B[32m\u001B[22mNow parsing: Nucleotide excision repair...\u001B[0m\n",
      "\u001B[31m\u001B[1mERROR: File \"data/kgml_hsa/hsa03420.xml\" cannot be parsed.\n",
      "Visit https://www.kegg.jp/kegg-bin/show_pathway?hsa03420 for pathway details.\n",
      "There are likely no edges in which to parse...\u001B[0m\n"
     ]
    },
    {
     "name": "stderr",
     "output_type": "stream",
     "text": [
      "INFO:root:Parsing data/kgml_hsa/hsa03430.xml...\n"
     ]
    },
    {
     "name": "stdout",
     "output_type": "stream",
     "text": [
      "\u001B[32m\u001B[22mNow parsing: Mismatch repair...\u001B[0m\n",
      "\u001B[31m\u001B[1mERROR: File \"data/kgml_hsa/hsa03430.xml\" cannot be parsed.\n",
      "Visit https://www.kegg.jp/kegg-bin/show_pathway?hsa03430 for pathway details.\n",
      "There are likely no edges in which to parse...\u001B[0m\n"
     ]
    },
    {
     "name": "stderr",
     "output_type": "stream",
     "text": [
      "INFO:root:Parsing data/kgml_hsa/hsa04613.xml...\n"
     ]
    },
    {
     "name": "stdout",
     "output_type": "stream",
     "text": [
      "\u001B[32m\u001B[22mNow parsing: Neutrophil extracellular trap formation...\u001B[0m\n"
     ]
    },
    {
     "name": "stderr",
     "output_type": "stream",
     "text": [
      "INFO:root:Parsing data/kgml_hsa/hsa04820.xml...\n"
     ]
    },
    {
     "name": "stdout",
     "output_type": "stream",
     "text": [
      "\u001B[32m\u001B[22mNow parsing: Cytoskeleton in muscle cells...\u001B[0m\n",
      "\u001B[31m\u001B[1mERROR: File \"data/kgml_hsa/hsa04820.xml\" cannot be parsed.\n",
      "Visit https://www.kegg.jp/kegg-bin/show_pathway?hsa04820 for pathway details.\n",
      "There are likely no edges in which to parse...\u001B[0m\n"
     ]
    },
    {
     "name": "stderr",
     "output_type": "stream",
     "text": [
      "INFO:root:Parsing data/kgml_hsa/hsa05323.xml...\n"
     ]
    },
    {
     "name": "stdout",
     "output_type": "stream",
     "text": [
      "\u001B[32m\u001B[22mNow parsing: Rheumatoid arthritis...\u001B[0m\n"
     ]
    },
    {
     "name": "stderr",
     "output_type": "stream",
     "text": [
      "INFO:root:Parsing data/kgml_hsa/hsa03020.xml...\n"
     ]
    },
    {
     "name": "stdout",
     "output_type": "stream",
     "text": [
      "\u001B[32m\u001B[22mNow parsing: RNA polymerase...\u001B[0m\n",
      "\u001B[31m\u001B[1mERROR: File \"data/kgml_hsa/hsa03020.xml\" cannot be parsed.\n",
      "Visit https://www.kegg.jp/kegg-bin/show_pathway?hsa03020 for pathway details.\n",
      "There are likely no edges in which to parse...\u001B[0m\n"
     ]
    },
    {
     "name": "stderr",
     "output_type": "stream",
     "text": [
      "INFO:root:Parsing data/kgml_hsa/hsa03008.xml...\n"
     ]
    },
    {
     "name": "stdout",
     "output_type": "stream",
     "text": [
      "\u001B[32m\u001B[22mNow parsing: Ribosome biogenesis in eukaryotes...\u001B[0m\n",
      "\u001B[31m\u001B[1mERROR: File \"data/kgml_hsa/hsa03008.xml\" cannot be parsed.\n",
      "Visit https://www.kegg.jp/kegg-bin/show_pathway?hsa03008 for pathway details.\n",
      "There are likely no edges in which to parse...\u001B[0m\n"
     ]
    },
    {
     "name": "stderr",
     "output_type": "stream",
     "text": [
      "INFO:root:Parsing data/kgml_hsa/hsa04015.xml...\n"
     ]
    },
    {
     "name": "stdout",
     "output_type": "stream",
     "text": [
      "\u001B[32m\u001B[22mNow parsing: Rap1 signaling pathway...\u001B[0m\n"
     ]
    },
    {
     "name": "stderr",
     "output_type": "stream",
     "text": [
      "INFO:root:Parsing data/kgml_hsa/hsa00515.xml...\n"
     ]
    },
    {
     "name": "stdout",
     "output_type": "stream",
     "text": [
      "\u001B[32m\u001B[22mNow parsing: Mannose type O-glycan biosynthesis...\u001B[0m\n"
     ]
    },
    {
     "name": "stderr",
     "output_type": "stream",
     "text": [
      "INFO:root:Parsing data/kgml_hsa/hsa04940.xml...\n"
     ]
    },
    {
     "name": "stdout",
     "output_type": "stream",
     "text": [
      "\u001B[32m\u001B[22mNow parsing: Type I diabetes mellitus...\u001B[0m\n"
     ]
    },
    {
     "name": "stderr",
     "output_type": "stream",
     "text": [
      "INFO:root:Parsing data/kgml_hsa/hsa05135.xml...\n"
     ]
    },
    {
     "name": "stdout",
     "output_type": "stream",
     "text": [
      "\u001B[32m\u001B[22mNow parsing: Yersinia infection...\u001B[0m\n"
     ]
    },
    {
     "name": "stderr",
     "output_type": "stream",
     "text": [
      "INFO:root:Parsing data/kgml_hsa/hsa00071.xml...\n"
     ]
    },
    {
     "name": "stdout",
     "output_type": "stream",
     "text": [
      "\u001B[32m\u001B[22mNow parsing: Fatty acid degradation...\u001B[0m\n"
     ]
    },
    {
     "name": "stderr",
     "output_type": "stream",
     "text": [
      "INFO:root:Parsing data/kgml_hsa/hsa04217.xml...\n"
     ]
    },
    {
     "name": "stdout",
     "output_type": "stream",
     "text": [
      "\u001B[32m\u001B[22mNow parsing: Necroptosis...\u001B[0m\n"
     ]
    },
    {
     "name": "stderr",
     "output_type": "stream",
     "text": [
      "INFO:root:Parsing data/kgml_hsa/hsa04216.xml...\n"
     ]
    },
    {
     "name": "stdout",
     "output_type": "stream",
     "text": [
      "\u001B[32m\u001B[22mNow parsing: Ferroptosis...\u001B[0m\n"
     ]
    },
    {
     "name": "stderr",
     "output_type": "stream",
     "text": [
      "INFO:root:Parsing data/kgml_hsa/hsa05134.xml...\n"
     ]
    },
    {
     "name": "stdout",
     "output_type": "stream",
     "text": [
      "\u001B[32m\u001B[22mNow parsing: Legionellosis...\u001B[0m\n"
     ]
    },
    {
     "name": "stderr",
     "output_type": "stream",
     "text": [
      "INFO:root:Parsing data/kgml_hsa/hsa05120.xml...\n"
     ]
    },
    {
     "name": "stdout",
     "output_type": "stream",
     "text": [
      "\u001B[32m\u001B[22mNow parsing: Epithelial cell signaling in Helicobacter pylori infection...\u001B[0m\n"
     ]
    },
    {
     "name": "stderr",
     "output_type": "stream",
     "text": [
      "INFO:root:Parsing data/kgml_hsa/hsa04014.xml...\n"
     ]
    },
    {
     "name": "stdout",
     "output_type": "stream",
     "text": [
      "\u001B[32m\u001B[22mNow parsing: Ras signaling pathway...\u001B[0m\n"
     ]
    },
    {
     "name": "stderr",
     "output_type": "stream",
     "text": [
      "INFO:root:Parsing data/kgml_hsa/hsa00514.xml...\n"
     ]
    },
    {
     "name": "stdout",
     "output_type": "stream",
     "text": [
      "\u001B[32m\u001B[22mNow parsing: Other types of O-glycan biosynthesis...\u001B[0m\n",
      "\u001B[31m\u001B[1mERROR: File \"data/kgml_hsa/hsa00514.xml\" cannot be parsed.\n",
      "Visit https://www.kegg.jp/kegg-bin/show_pathway?hsa00514 for pathway details.\n",
      "There are likely no edges in which to parse...\u001B[0m\n"
     ]
    },
    {
     "name": "stderr",
     "output_type": "stream",
     "text": [
      "INFO:root:Parsing data/kgml_hsa/hsa00500.xml...\n"
     ]
    },
    {
     "name": "stdout",
     "output_type": "stream",
     "text": [
      "\u001B[32m\u001B[22mNow parsing: Starch and sucrose metabolism...\u001B[0m\n"
     ]
    },
    {
     "name": "stderr",
     "output_type": "stream",
     "text": [
      "INFO:root:Parsing data/kgml_hsa/hsa05322.xml...\n"
     ]
    },
    {
     "name": "stdout",
     "output_type": "stream",
     "text": [
      "\u001B[32m\u001B[22mNow parsing: Systemic lupus erythematosus...\u001B[0m\n"
     ]
    },
    {
     "name": "stderr",
     "output_type": "stream",
     "text": [
      "INFO:root:Parsing data/kgml_hsa/hsa04612.xml...\n"
     ]
    },
    {
     "name": "stdout",
     "output_type": "stream",
     "text": [
      "\u001B[32m\u001B[22mNow parsing: Antigen processing and presentation...\u001B[0m\n"
     ]
    },
    {
     "name": "stderr",
     "output_type": "stream",
     "text": [
      "INFO:root:Parsing data/kgml_hsa/hsa04148.xml...\n"
     ]
    },
    {
     "name": "stdout",
     "output_type": "stream",
     "text": [
      "\u001B[32m\u001B[22mNow parsing: Efferocytosis...\u001B[0m\n"
     ]
    },
    {
     "name": "stderr",
     "output_type": "stream",
     "text": [
      "INFO:root:Parsing data/kgml_hsa/hsa01232.xml...\n"
     ]
    },
    {
     "name": "stdout",
     "output_type": "stream",
     "text": [
      "\u001B[32m\u001B[22mNow parsing: Nucleotide metabolism...\u001B[0m\n",
      "\u001B[31m\u001B[1mERROR: File \"data/kgml_hsa/hsa01232.xml\" cannot be parsed.\n",
      "Visit https://www.kegg.jp/kegg-bin/show_pathway?hsa01232 for pathway details.\n",
      "There are likely no edges in which to parse...\u001B[0m\n"
     ]
    },
    {
     "name": "stderr",
     "output_type": "stream",
     "text": [
      "INFO:root:Parsing data/kgml_hsa/hsa01230.xml...\n"
     ]
    },
    {
     "name": "stdout",
     "output_type": "stream",
     "text": [
      "\u001B[32m\u001B[22mNow parsing: Biosynthesis of amino acids...\u001B[0m\n",
      "\u001B[31m\u001B[1mERROR: File \"data/kgml_hsa/hsa01230.xml\" cannot be parsed.\n",
      "Visit https://www.kegg.jp/kegg-bin/show_pathway?hsa01230 for pathway details.\n",
      "There are likely no edges in which to parse...\u001B[0m\n"
     ]
    },
    {
     "name": "stderr",
     "output_type": "stream",
     "text": [
      "INFO:root:Parsing data/kgml_hsa/hsa04360.xml...\n"
     ]
    },
    {
     "name": "stdout",
     "output_type": "stream",
     "text": [
      "\u001B[32m\u001B[22mNow parsing: Axon guidance...\u001B[0m\n"
     ]
    },
    {
     "name": "stderr",
     "output_type": "stream",
     "text": [
      "INFO:root:Parsing data/kgml_hsa/hsa00310.xml...\n"
     ]
    },
    {
     "name": "stdout",
     "output_type": "stream",
     "text": [
      "\u001B[32m\u001B[22mNow parsing: Lysine degradation...\u001B[0m\n"
     ]
    },
    {
     "name": "stderr",
     "output_type": "stream",
     "text": [
      "INFO:root:Parsing data/kgml_hsa/hsa04610.xml...\n"
     ]
    },
    {
     "name": "stdout",
     "output_type": "stream",
     "text": [
      "\u001B[32m\u001B[22mNow parsing: Complement and coagulation cascades...\u001B[0m\n"
     ]
    },
    {
     "name": "stderr",
     "output_type": "stream",
     "text": [
      "INFO:root:Parsing data/kgml_hsa/hsa05320.xml...\n"
     ]
    },
    {
     "name": "stdout",
     "output_type": "stream",
     "text": [
      "\u001B[32m\u001B[22mNow parsing: Autoimmune thyroid disease...\u001B[0m\n"
     ]
    },
    {
     "name": "stderr",
     "output_type": "stream",
     "text": [
      "INFO:root:Parsing data/kgml_hsa/hsa04980.xml...\n"
     ]
    },
    {
     "name": "stdout",
     "output_type": "stream",
     "text": [
      "\u001B[32m\u001B[22mNow parsing: Cobalamin transport and metabolism...\u001B[0m\n"
     ]
    },
    {
     "name": "stderr",
     "output_type": "stream",
     "text": [
      "INFO:root:Parsing data/kgml_hsa/hsa00270.xml...\n"
     ]
    },
    {
     "name": "stdout",
     "output_type": "stream",
     "text": [
      "\u001B[32m\u001B[22mNow parsing: Cysteine and methionine metabolism...\u001B[0m\n"
     ]
    },
    {
     "name": "stderr",
     "output_type": "stream",
     "text": [
      "INFO:root:Parsing data/kgml_hsa/hsa04215.xml...\n"
     ]
    },
    {
     "name": "stdout",
     "output_type": "stream",
     "text": [
      "\u001B[32m\u001B[22mNow parsing: Apoptosis - multiple species...\u001B[0m\n"
     ]
    },
    {
     "name": "stderr",
     "output_type": "stream",
     "text": [
      "INFO:root:Parsing data/kgml_hsa/hsa05321.xml...\n"
     ]
    },
    {
     "name": "stdout",
     "output_type": "stream",
     "text": [
      "\u001B[32m\u001B[22mNow parsing: Inflammatory bowel disease...\u001B[0m\n"
     ]
    },
    {
     "name": "stderr",
     "output_type": "stream",
     "text": [
      "INFO:root:Parsing data/kgml_hsa/hsa03022.xml...\n"
     ]
    },
    {
     "name": "stdout",
     "output_type": "stream",
     "text": [
      "\u001B[32m\u001B[22mNow parsing: Basal transcription factors...\u001B[0m\n",
      "\u001B[31m\u001B[1mERROR: File \"data/kgml_hsa/hsa03022.xml\" cannot be parsed.\n",
      "Visit https://www.kegg.jp/kegg-bin/show_pathway?hsa03022 for pathway details.\n",
      "There are likely no edges in which to parse...\u001B[0m\n"
     ]
    },
    {
     "name": "stderr",
     "output_type": "stream",
     "text": [
      "INFO:root:Parsing data/kgml_hsa/hsa04611.xml...\n"
     ]
    },
    {
     "name": "stdout",
     "output_type": "stream",
     "text": [
      "\u001B[32m\u001B[22mNow parsing: Platelet activation...\u001B[0m\n"
     ]
    },
    {
     "name": "stderr",
     "output_type": "stream",
     "text": [
      "INFO:root:Parsing data/kgml_hsa/hsa01524.xml...\n"
     ]
    },
    {
     "name": "stdout",
     "output_type": "stream",
     "text": [
      "\u001B[32m\u001B[22mNow parsing: Platinum drug resistance...\u001B[0m\n"
     ]
    },
    {
     "name": "stderr",
     "output_type": "stream",
     "text": [
      "INFO:root:Parsing data/kgml_hsa/hsa05030.xml...\n"
     ]
    },
    {
     "name": "stdout",
     "output_type": "stream",
     "text": [
      "\u001B[32m\u001B[22mNow parsing: Cocaine addiction...\u001B[0m\n"
     ]
    },
    {
     "name": "stderr",
     "output_type": "stream",
     "text": [
      "INFO:root:Parsing data/kgml_hsa/hsa04662.xml...\n"
     ]
    },
    {
     "name": "stdout",
     "output_type": "stream",
     "text": [
      "\u001B[32m\u001B[22mNow parsing: B cell receptor signaling pathway...\u001B[0m\n"
     ]
    },
    {
     "name": "stderr",
     "output_type": "stream",
     "text": [
      "INFO:root:Parsing data/kgml_hsa/hsa04110.xml...\n"
     ]
    },
    {
     "name": "stdout",
     "output_type": "stream",
     "text": [
      "\u001B[32m\u001B[22mNow parsing: Cell cycle...\u001B[0m\n"
     ]
    },
    {
     "name": "stderr",
     "output_type": "stream",
     "text": [
      "INFO:root:Parsing data/kgml_hsa/hsa00410.xml...\n"
     ]
    },
    {
     "name": "stdout",
     "output_type": "stream",
     "text": [
      "\u001B[32m\u001B[22mNow parsing: beta-Alanine metabolism...\u001B[0m\n"
     ]
    },
    {
     "name": "stderr",
     "output_type": "stream",
     "text": [
      "INFO:root:Parsing data/kgml_hsa/hsa05226.xml...\n"
     ]
    },
    {
     "name": "stdout",
     "output_type": "stream",
     "text": [
      "\u001B[32m\u001B[22mNow parsing: Gastric cancer...\u001B[0m\n"
     ]
    },
    {
     "name": "stderr",
     "output_type": "stream",
     "text": [
      "INFO:root:Parsing data/kgml_hsa/hsa01040.xml...\n"
     ]
    },
    {
     "name": "stdout",
     "output_type": "stream",
     "text": [
      "\u001B[32m\u001B[22mNow parsing: Biosynthesis of unsaturated fatty acids...\u001B[0m\n",
      "\u001B[31m\u001B[1mERROR: File \"data/kgml_hsa/hsa01040.xml\" cannot be parsed.\n",
      "Visit https://www.kegg.jp/kegg-bin/show_pathway?hsa01040 for pathway details.\n",
      "There are likely no edges in which to parse...\u001B[0m\n"
     ]
    },
    {
     "name": "stderr",
     "output_type": "stream",
     "text": [
      "INFO:root:Parsing data/kgml_hsa/hsa04070.xml...\n"
     ]
    },
    {
     "name": "stdout",
     "output_type": "stream",
     "text": [
      "\u001B[32m\u001B[22mNow parsing: Phosphatidylinositol signaling system...\u001B[0m\n"
     ]
    },
    {
     "name": "stderr",
     "output_type": "stream",
     "text": [
      "INFO:root:Parsing data/kgml_hsa/hsa04064.xml...\n"
     ]
    },
    {
     "name": "stdout",
     "output_type": "stream",
     "text": [
      "\u001B[32m\u001B[22mNow parsing: NF-kappa B signaling pathway...\u001B[0m\n"
     ]
    },
    {
     "name": "stderr",
     "output_type": "stream",
     "text": [
      "INFO:root:Parsing data/kgml_hsa/hsa00564.xml...\n"
     ]
    },
    {
     "name": "stdout",
     "output_type": "stream",
     "text": [
      "\u001B[32m\u001B[22mNow parsing: Glycerophospholipid metabolism...\u001B[0m\n"
     ]
    },
    {
     "name": "stderr",
     "output_type": "stream",
     "text": [
      "INFO:root:Parsing data/kgml_hsa/hsa04919.xml...\n"
     ]
    },
    {
     "name": "stdout",
     "output_type": "stream",
     "text": [
      "\u001B[32m\u001B[22mNow parsing: Thyroid hormone signaling pathway...\u001B[0m\n"
     ]
    },
    {
     "name": "stderr",
     "output_type": "stream",
     "text": [
      "INFO:root:Parsing data/kgml_hsa/hsa04931.xml...\n"
     ]
    },
    {
     "name": "stdout",
     "output_type": "stream",
     "text": [
      "\u001B[32m\u001B[22mNow parsing: Insulin resistance...\u001B[0m\n"
     ]
    },
    {
     "name": "stderr",
     "output_type": "stream",
     "text": [
      "INFO:root:Parsing data/kgml_hsa/hsa04925.xml...\n"
     ]
    },
    {
     "name": "stdout",
     "output_type": "stream",
     "text": [
      "\u001B[32m\u001B[22mNow parsing: Aldosterone synthesis and secretion...\u001B[0m\n"
     ]
    },
    {
     "name": "stderr",
     "output_type": "stream",
     "text": [
      "INFO:root:Parsing data/kgml_hsa/hsa04514.xml...\n"
     ]
    },
    {
     "name": "stdout",
     "output_type": "stream",
     "text": [
      "\u001B[32m\u001B[22mNow parsing: Cell adhesion molecules...\u001B[0m\n"
     ]
    },
    {
     "name": "stderr",
     "output_type": "stream",
     "text": [
      "INFO:root:Parsing data/kgml_hsa/hsa05150.xml...\n"
     ]
    },
    {
     "name": "stdout",
     "output_type": "stream",
     "text": [
      "\u001B[32m\u001B[22mNow parsing: Staphylococcus aureus infection...\u001B[0m\n"
     ]
    },
    {
     "name": "stderr",
     "output_type": "stream",
     "text": [
      "INFO:root:Parsing data/kgml_hsa/hsa00982.xml...\n"
     ]
    },
    {
     "name": "stdout",
     "output_type": "stream",
     "text": [
      "\u001B[32m\u001B[22mNow parsing: Drug metabolism - cytochrome P450...\u001B[0m\n"
     ]
    },
    {
     "name": "stderr",
     "output_type": "stream",
     "text": [
      "INFO:root:Parsing data/kgml_hsa/hsa05144.xml...\n"
     ]
    },
    {
     "name": "stdout",
     "output_type": "stream",
     "text": [
      "\u001B[32m\u001B[22mNow parsing: Malaria...\u001B[0m\n"
     ]
    },
    {
     "name": "stderr",
     "output_type": "stream",
     "text": [
      "INFO:root:Parsing data/kgml_hsa/hsa00983.xml...\n"
     ]
    },
    {
     "name": "stdout",
     "output_type": "stream",
     "text": [
      "\u001B[32m\u001B[22mNow parsing: Drug metabolism - other enzymes...\u001B[0m\n"
     ]
    },
    {
     "name": "stderr",
     "output_type": "stream",
     "text": [
      "INFO:root:Parsing data/kgml_hsa/hsa05145.xml...\n"
     ]
    },
    {
     "name": "stdout",
     "output_type": "stream",
     "text": [
      "\u001B[32m\u001B[22mNow parsing: Toxoplasmosis...\u001B[0m\n"
     ]
    },
    {
     "name": "stderr",
     "output_type": "stream",
     "text": [
      "INFO:root:Parsing data/kgml_hsa/hsa04924.xml...\n"
     ]
    },
    {
     "name": "stdout",
     "output_type": "stream",
     "text": [
      "\u001B[32m\u001B[22mNow parsing: Renin secretion...\u001B[0m\n"
     ]
    },
    {
     "name": "stderr",
     "output_type": "stream",
     "text": [
      "INFO:root:Parsing data/kgml_hsa/hsa04930.xml...\n"
     ]
    },
    {
     "name": "stdout",
     "output_type": "stream",
     "text": [
      "\u001B[32m\u001B[22mNow parsing: Type II diabetes mellitus...\u001B[0m\n"
     ]
    },
    {
     "name": "stderr",
     "output_type": "stream",
     "text": [
      "INFO:root:Parsing data/kgml_hsa/hsa04918.xml...\n"
     ]
    },
    {
     "name": "stdout",
     "output_type": "stream",
     "text": [
      "\u001B[32m\u001B[22mNow parsing: Thyroid hormone synthesis...\u001B[0m\n"
     ]
    },
    {
     "name": "stderr",
     "output_type": "stream",
     "text": [
      "INFO:root:Parsing data/kgml_hsa/hsa03050.xml...\n"
     ]
    },
    {
     "name": "stdout",
     "output_type": "stream",
     "text": [
      "\u001B[32m\u001B[22mNow parsing: Proteasome...\u001B[0m\n",
      "\u001B[31m\u001B[1mERROR: File \"data/kgml_hsa/hsa03050.xml\" cannot be parsed.\n",
      "Visit https://www.kegg.jp/kegg-bin/show_pathway?hsa03050 for pathway details.\n",
      "There are likely no edges in which to parse...\u001B[0m\n"
     ]
    },
    {
     "name": "stderr",
     "output_type": "stream",
     "text": [
      "INFO:root:Parsing data/kgml_hsa/hsa00565.xml...\n"
     ]
    },
    {
     "name": "stdout",
     "output_type": "stream",
     "text": [
      "\u001B[32m\u001B[22mNow parsing: Ether lipid metabolism...\u001B[0m\n"
     ]
    },
    {
     "name": "stderr",
     "output_type": "stream",
     "text": [
      "INFO:root:Parsing data/kgml_hsa/hsa04071.xml...\n"
     ]
    },
    {
     "name": "stdout",
     "output_type": "stream",
     "text": [
      "\u001B[32m\u001B[22mNow parsing: Sphingolipid signaling pathway...\u001B[0m\n"
     ]
    },
    {
     "name": "stderr",
     "output_type": "stream",
     "text": [
      "INFO:root:Parsing data/kgml_hsa/hsa05031.xml...\n"
     ]
    },
    {
     "name": "stdout",
     "output_type": "stream",
     "text": [
      "\u001B[32m\u001B[22mNow parsing: Amphetamine addiction...\u001B[0m\n"
     ]
    },
    {
     "name": "stderr",
     "output_type": "stream",
     "text": [
      "INFO:root:Parsing data/kgml_hsa/hsa03440.xml...\n"
     ]
    },
    {
     "name": "stdout",
     "output_type": "stream",
     "text": [
      "\u001B[32m\u001B[22mNow parsing: Homologous recombination...\u001B[0m\n"
     ]
    },
    {
     "name": "stderr",
     "output_type": "stream",
     "text": [
      "INFO:root:Parsing data/kgml_hsa/hsa02010.xml...\n"
     ]
    },
    {
     "name": "stdout",
     "output_type": "stream",
     "text": [
      "\u001B[32m\u001B[22mNow parsing: ABC transporters...\u001B[0m\n",
      "\u001B[31m\u001B[1mERROR: File \"data/kgml_hsa/hsa02010.xml\" cannot be parsed.\n",
      "Visit https://www.kegg.jp/kegg-bin/show_pathway?hsa02010 for pathway details.\n",
      "There are likely no edges in which to parse...\u001B[0m\n"
     ]
    },
    {
     "name": "stderr",
     "output_type": "stream",
     "text": [
      "INFO:root:Parsing data/kgml_hsa/hsa05033.xml...\n"
     ]
    },
    {
     "name": "stdout",
     "output_type": "stream",
     "text": [
      "\u001B[32m\u001B[22mNow parsing: Nicotine addiction...\u001B[0m\n"
     ]
    },
    {
     "name": "stderr",
     "output_type": "stream",
     "text": [
      "INFO:root:Parsing data/kgml_hsa/hsa05219.xml...\n"
     ]
    },
    {
     "name": "stdout",
     "output_type": "stream",
     "text": [
      "\u001B[32m\u001B[22mNow parsing: Bladder cancer...\u001B[0m\n"
     ]
    },
    {
     "name": "stderr",
     "output_type": "stream",
     "text": [
      "INFO:root:Parsing data/kgml_hsa/hsa05231.xml...\n"
     ]
    },
    {
     "name": "stdout",
     "output_type": "stream",
     "text": [
      "\u001B[32m\u001B[22mNow parsing: Choline metabolism in cancer...\u001B[0m\n"
     ]
    },
    {
     "name": "stderr",
     "output_type": "stream",
     "text": [
      "INFO:root:Parsing data/kgml_hsa/hsa05225.xml...\n"
     ]
    },
    {
     "name": "stdout",
     "output_type": "stream",
     "text": [
      "\u001B[32m\u001B[22mNow parsing: Hepatocellular carcinoma...\u001B[0m\n"
     ]
    },
    {
     "name": "stderr",
     "output_type": "stream",
     "text": [
      "INFO:root:Parsing data/kgml_hsa/hsa04926.xml...\n"
     ]
    },
    {
     "name": "stdout",
     "output_type": "stream",
     "text": [
      "\u001B[32m\u001B[22mNow parsing: Relaxin signaling pathway...\u001B[0m\n"
     ]
    },
    {
     "name": "stderr",
     "output_type": "stream",
     "text": [
      "INFO:root:Parsing data/kgml_hsa/hsa04932.xml...\n"
     ]
    },
    {
     "name": "stdout",
     "output_type": "stream",
     "text": [
      "\u001B[32m\u001B[22mNow parsing: Non-alcoholic fatty liver disease...\u001B[0m\n"
     ]
    },
    {
     "name": "stderr",
     "output_type": "stream",
     "text": [
      "INFO:root:Parsing data/kgml_hsa/hsa03250.xml...\n"
     ]
    },
    {
     "name": "stdout",
     "output_type": "stream",
     "text": [
      "\u001B[32m\u001B[22mNow parsing: Viral life cycle - HIV-1...\u001B[0m\n"
     ]
    },
    {
     "name": "stderr",
     "output_type": "stream",
     "text": [
      "INFO:root:Parsing data/kgml_hsa/hsa05152.xml...\n"
     ]
    },
    {
     "name": "stdout",
     "output_type": "stream",
     "text": [
      "\u001B[32m\u001B[22mNow parsing: Tuberculosis...\u001B[0m\n"
     ]
    },
    {
     "name": "stderr",
     "output_type": "stream",
     "text": [
      "INFO:root:Parsing data/kgml_hsa/hsa05146.xml...\n"
     ]
    },
    {
     "name": "stdout",
     "output_type": "stream",
     "text": [
      "\u001B[32m\u001B[22mNow parsing: Amoebiasis...\u001B[0m\n"
     ]
    },
    {
     "name": "stderr",
     "output_type": "stream",
     "text": [
      "INFO:root:Parsing data/kgml_hsa/hsa00980.xml...\n"
     ]
    },
    {
     "name": "stdout",
     "output_type": "stream",
     "text": [
      "\u001B[32m\u001B[22mNow parsing: Metabolism of xenobiotics by cytochrome P450...\u001B[0m\n"
     ]
    },
    {
     "name": "stderr",
     "output_type": "stream",
     "text": [
      "INFO:root:Parsing data/kgml_hsa/hsa00770.xml...\n"
     ]
    },
    {
     "name": "stdout",
     "output_type": "stream",
     "text": [
      "\u001B[32m\u001B[22mNow parsing: Pantothenate and CoA biosynthesis...\u001B[0m\n"
     ]
    },
    {
     "name": "stderr",
     "output_type": "stream",
     "text": [
      "INFO:root:Parsing data/kgml_hsa/hsa04270.xml...\n"
     ]
    },
    {
     "name": "stdout",
     "output_type": "stream",
     "text": [
      "\u001B[32m\u001B[22mNow parsing: Vascular smooth muscle contraction...\u001B[0m\n"
     ]
    },
    {
     "name": "stderr",
     "output_type": "stream",
     "text": [
      "INFO:root:Parsing data/kgml_hsa/hsa04933.xml...\n"
     ]
    },
    {
     "name": "stdout",
     "output_type": "stream",
     "text": [
      "\u001B[32m\u001B[22mNow parsing: AGE-RAGE signaling pathway in diabetic complications...\u001B[0m\n"
     ]
    },
    {
     "name": "stderr",
     "output_type": "stream",
     "text": [
      "INFO:root:Parsing data/kgml_hsa/hsa04927.xml...\n"
     ]
    },
    {
     "name": "stdout",
     "output_type": "stream",
     "text": [
      "\u001B[32m\u001B[22mNow parsing: Cortisol synthesis and secretion...\u001B[0m\n"
     ]
    },
    {
     "name": "stderr",
     "output_type": "stream",
     "text": [
      "INFO:root:Parsing data/kgml_hsa/hsa04728.xml...\n"
     ]
    },
    {
     "name": "stdout",
     "output_type": "stream",
     "text": [
      "\u001B[32m\u001B[22mNow parsing: Dopaminergic synapse...\u001B[0m\n"
     ]
    },
    {
     "name": "stderr",
     "output_type": "stream",
     "text": [
      "INFO:root:Parsing data/kgml_hsa/hsa04072.xml...\n"
     ]
    },
    {
     "name": "stdout",
     "output_type": "stream",
     "text": [
      "\u001B[32m\u001B[22mNow parsing: Phospholipase D signaling pathway...\u001B[0m\n"
     ]
    },
    {
     "name": "stderr",
     "output_type": "stream",
     "text": [
      "INFO:root:Parsing data/kgml_hsa/hsa04714.xml...\n"
     ]
    },
    {
     "name": "stdout",
     "output_type": "stream",
     "text": [
      "\u001B[32m\u001B[22mNow parsing: Thermogenesis...\u001B[0m\n"
     ]
    },
    {
     "name": "stderr",
     "output_type": "stream",
     "text": [
      "INFO:root:Parsing data/kgml_hsa/hsa04066.xml...\n"
     ]
    },
    {
     "name": "stdout",
     "output_type": "stream",
     "text": [
      "\u001B[32m\u001B[22mNow parsing: HIF-1 signaling pathway...\u001B[0m\n"
     ]
    },
    {
     "name": "stderr",
     "output_type": "stream",
     "text": [
      "INFO:root:Parsing data/kgml_hsa/hsa05224.xml...\n"
     ]
    },
    {
     "name": "stdout",
     "output_type": "stream",
     "text": [
      "\u001B[32m\u001B[22mNow parsing: Breast cancer...\u001B[0m\n"
     ]
    },
    {
     "name": "stderr",
     "output_type": "stream",
     "text": [
      "INFO:root:Parsing data/kgml_hsa/hsa05230.xml...\n"
     ]
    },
    {
     "name": "stdout",
     "output_type": "stream",
     "text": [
      "\u001B[32m\u001B[22mNow parsing: Central carbon metabolism in cancer...\u001B[0m\n"
     ]
    },
    {
     "name": "stderr",
     "output_type": "stream",
     "text": [
      "INFO:root:Parsing data/kgml_hsa/hsa05218.xml...\n"
     ]
    },
    {
     "name": "stdout",
     "output_type": "stream",
     "text": [
      "\u001B[32m\u001B[22mNow parsing: Melanoma...\u001B[0m\n"
     ]
    },
    {
     "name": "stderr",
     "output_type": "stream",
     "text": [
      "INFO:root:Parsing data/kgml_hsa/hsa00360.xml...\n"
     ]
    },
    {
     "name": "stdout",
     "output_type": "stream",
     "text": [
      "\u001B[32m\u001B[22mNow parsing: Phenylalanine metabolism...\u001B[0m\n"
     ]
    },
    {
     "name": "stderr",
     "output_type": "stream",
     "text": [
      "INFO:root:Parsing data/kgml_hsa/hsa04660.xml...\n"
     ]
    },
    {
     "name": "stdout",
     "output_type": "stream",
     "text": [
      "\u001B[32m\u001B[22mNow parsing: T cell receptor signaling pathway...\u001B[0m\n"
     ]
    },
    {
     "name": "stderr",
     "output_type": "stream",
     "text": [
      "INFO:root:Parsing data/kgml_hsa/hsa01240.xml...\n"
     ]
    },
    {
     "name": "stdout",
     "output_type": "stream",
     "text": [
      "\u001B[32m\u001B[22mNow parsing: Biosynthesis of cofactors...\u001B[0m\n",
      "\u001B[31m\u001B[1mERROR: File \"data/kgml_hsa/hsa01240.xml\" cannot be parsed.\n",
      "Visit https://www.kegg.jp/kegg-bin/show_pathway?hsa01240 for pathway details.\n",
      "There are likely no edges in which to parse...\u001B[0m\n"
     ]
    },
    {
     "name": "stderr",
     "output_type": "stream",
     "text": [
      "INFO:root:Parsing data/kgml_hsa/hsa05032.xml...\n"
     ]
    },
    {
     "name": "stdout",
     "output_type": "stream",
     "text": [
      "\u001B[32m\u001B[22mNow parsing: Morphine addiction...\u001B[0m\n"
     ]
    },
    {
     "name": "stderr",
     "output_type": "stream",
     "text": [
      "INFO:root:Parsing data/kgml_hsa/hsa00604.xml...\n"
     ]
    },
    {
     "name": "stdout",
     "output_type": "stream",
     "text": [
      "\u001B[32m\u001B[22mNow parsing: Glycosphingolipid biosynthesis - ganglio series...\u001B[0m\n"
     ]
    },
    {
     "name": "stderr",
     "output_type": "stream",
     "text": [
      "INFO:root:Parsing data/kgml_hsa/hsa04310.xml...\n"
     ]
    },
    {
     "name": "stdout",
     "output_type": "stream",
     "text": [
      "\u001B[32m\u001B[22mNow parsing: Wnt signaling pathway...\u001B[0m\n"
     ]
    },
    {
     "name": "stderr",
     "output_type": "stream",
     "text": [
      "INFO:root:Parsing data/kgml_hsa/hsa01250.xml...\n"
     ]
    },
    {
     "name": "stdout",
     "output_type": "stream",
     "text": [
      "\u001B[32m\u001B[22mNow parsing: Biosynthesis of nucleotide sugars...\u001B[0m\n",
      "\u001B[31m\u001B[1mERROR: File \"data/kgml_hsa/hsa01250.xml\" cannot be parsed.\n",
      "Visit https://www.kegg.jp/kegg-bin/show_pathway?hsa01250 for pathway details.\n",
      "There are likely no edges in which to parse...\u001B[0m\n"
     ]
    },
    {
     "name": "stderr",
     "output_type": "stream",
     "text": [
      "INFO:root:Parsing data/kgml_hsa/hsa05022.xml...\n"
     ]
    },
    {
     "name": "stdout",
     "output_type": "stream",
     "text": [
      "\u001B[32m\u001B[22mNow parsing: Pathways of neurodegeneration - multiple diseases...\u001B[0m\n"
     ]
    },
    {
     "name": "stderr",
     "output_type": "stream",
     "text": [
      "INFO:root:Parsing data/kgml_hsa/hsa01522.xml...\n"
     ]
    },
    {
     "name": "stdout",
     "output_type": "stream",
     "text": [
      "\u001B[32m\u001B[22mNow parsing: Endocrine resistance...\u001B[0m\n"
     ]
    },
    {
     "name": "stderr",
     "output_type": "stream",
     "text": [
      "INFO:root:Parsing data/kgml_hsa/hsa00600.xml...\n"
     ]
    },
    {
     "name": "stdout",
     "output_type": "stream",
     "text": [
      "\u001B[32m\u001B[22mNow parsing: Sphingolipid metabolism...\u001B[0m\n"
     ]
    },
    {
     "name": "stderr",
     "output_type": "stream",
     "text": [
      "INFO:root:Parsing data/kgml_hsa/hsa04658.xml...\n"
     ]
    },
    {
     "name": "stdout",
     "output_type": "stream",
     "text": [
      "\u001B[32m\u001B[22mNow parsing: Th1 and Th2 cell differentiation...\u001B[0m\n"
     ]
    },
    {
     "name": "stderr",
     "output_type": "stream",
     "text": [
      "INFO:root:Parsing data/kgml_hsa/hsa05220.xml...\n"
     ]
    },
    {
     "name": "stdout",
     "output_type": "stream",
     "text": [
      "\u001B[32m\u001B[22mNow parsing: Chronic myeloid leukemia...\u001B[0m\n"
     ]
    },
    {
     "name": "stderr",
     "output_type": "stream",
     "text": [
      "INFO:root:Parsing data/kgml_hsa/hsa05208.xml...\n"
     ]
    },
    {
     "name": "stdout",
     "output_type": "stream",
     "text": [
      "\u001B[32m\u001B[22mNow parsing: Chemical carcinogenesis - reactive oxygen species...\u001B[0m\n"
     ]
    },
    {
     "name": "stderr",
     "output_type": "stream",
     "text": [
      "INFO:root:Parsing data/kgml_hsa/hsa04670.xml...\n"
     ]
    },
    {
     "name": "stdout",
     "output_type": "stream",
     "text": [
      "\u001B[32m\u001B[22mNow parsing: Leukocyte transendothelial migration...\u001B[0m\n"
     ]
    },
    {
     "name": "stderr",
     "output_type": "stream",
     "text": [
      "INFO:root:Parsing data/kgml_hsa/hsa04664.xml...\n"
     ]
    },
    {
     "name": "stdout",
     "output_type": "stream",
     "text": [
      "\u001B[32m\u001B[22mNow parsing: Fc epsilon RI signaling pathway...\u001B[0m\n"
     ]
    },
    {
     "name": "stderr",
     "output_type": "stream",
     "text": [
      "INFO:root:Parsing data/kgml_hsa/hsa05340.xml...\n"
     ]
    },
    {
     "name": "stdout",
     "output_type": "stream",
     "text": [
      "\u001B[32m\u001B[22mNow parsing: Primary immunodeficiency...\u001B[0m\n",
      "\u001B[31m\u001B[1mERROR: File \"data/kgml_hsa/hsa05340.xml\" cannot be parsed.\n",
      "Visit https://www.kegg.jp/kegg-bin/show_pathway?hsa05340 for pathway details.\n",
      "There are likely no edges in which to parse...\u001B[0m\n"
     ]
    },
    {
     "name": "stderr",
     "output_type": "stream",
     "text": [
      "INFO:root:Parsing data/kgml_hsa/hsa04062.xml...\n"
     ]
    },
    {
     "name": "stdout",
     "output_type": "stream",
     "text": [
      "\u001B[32m\u001B[22mNow parsing: Chemokine signaling pathway...\u001B[0m\n"
     ]
    },
    {
     "name": "stderr",
     "output_type": "stream",
     "text": [
      "INFO:root:Parsing data/kgml_hsa/hsa00562.xml...\n"
     ]
    },
    {
     "name": "stdout",
     "output_type": "stream",
     "text": [
      "\u001B[32m\u001B[22mNow parsing: Inositol phosphate metabolism...\u001B[0m\n"
     ]
    },
    {
     "name": "stderr",
     "output_type": "stream",
     "text": [
      "INFO:root:Parsing data/kgml_hsa/hsa04710.xml...\n"
     ]
    },
    {
     "name": "stdout",
     "output_type": "stream",
     "text": [
      "\u001B[32m\u001B[22mNow parsing: Circadian rhythm...\u001B[0m\n",
      "\u001B[31m\u001B[1mERROR: File \"data/kgml_hsa/hsa04710.xml\" cannot be parsed.\n",
      "Visit https://www.kegg.jp/kegg-bin/show_pathway?hsa04710 for pathway details.\n",
      "There are likely no edges in which to parse...\u001B[0m\n"
     ]
    },
    {
     "name": "stderr",
     "output_type": "stream",
     "text": [
      "INFO:root:Parsing data/kgml_hsa/hsa04923.xml...\n"
     ]
    },
    {
     "name": "stdout",
     "output_type": "stream",
     "text": [
      "\u001B[32m\u001B[22mNow parsing: Regulation of lipolysis in adipocytes...\u001B[0m\n"
     ]
    },
    {
     "name": "stderr",
     "output_type": "stream",
     "text": [
      "INFO:root:Parsing data/kgml_hsa/hsa05142.xml...\n"
     ]
    },
    {
     "name": "stdout",
     "output_type": "stream",
     "text": [
      "\u001B[32m\u001B[22mNow parsing: Chagas disease...\u001B[0m\n"
     ]
    },
    {
     "name": "stderr",
     "output_type": "stream",
     "text": [
      "INFO:root:Parsing data/kgml_hsa/hsa00760.xml...\n"
     ]
    },
    {
     "name": "stdout",
     "output_type": "stream",
     "text": [
      "\u001B[32m\u001B[22mNow parsing: Nicotinate and nicotinamide metabolism...\u001B[0m\n"
     ]
    },
    {
     "name": "stderr",
     "output_type": "stream",
     "text": [
      "INFO:root:Parsing data/kgml_hsa/hsa04260.xml...\n"
     ]
    },
    {
     "name": "stdout",
     "output_type": "stream",
     "text": [
      "\u001B[32m\u001B[22mNow parsing: Cardiac muscle contraction...\u001B[0m\n"
     ]
    },
    {
     "name": "stderr",
     "output_type": "stream",
     "text": [
      "INFO:root:Parsing data/kgml_hsa/hsa04512.xml...\n"
     ]
    },
    {
     "name": "stdout",
     "output_type": "stream",
     "text": [
      "\u001B[32m\u001B[22mNow parsing: ECM-receptor interaction...\u001B[0m\n"
     ]
    },
    {
     "name": "stderr",
     "output_type": "stream",
     "text": [
      "INFO:root:Parsing data/kgml_hsa/hsa04261.xml...\n"
     ]
    },
    {
     "name": "stdout",
     "output_type": "stream",
     "text": [
      "\u001B[32m\u001B[22mNow parsing: Adrenergic signaling in cardiomyocytes...\u001B[0m\n"
     ]
    },
    {
     "name": "stderr",
     "output_type": "stream",
     "text": [
      "INFO:root:Parsing data/kgml_hsa/hsa05143.xml...\n"
     ]
    },
    {
     "name": "stdout",
     "output_type": "stream",
     "text": [
      "\u001B[32m\u001B[22mNow parsing: African trypanosomiasis...\u001B[0m\n"
     ]
    },
    {
     "name": "stderr",
     "output_type": "stream",
     "text": [
      "INFO:root:Parsing data/kgml_hsa/hsa04936.xml...\n"
     ]
    },
    {
     "name": "stdout",
     "output_type": "stream",
     "text": [
      "\u001B[32m\u001B[22mNow parsing: Alcoholic liver disease...\u001B[0m\n"
     ]
    },
    {
     "name": "stderr",
     "output_type": "stream",
     "text": [
      "INFO:root:Parsing data/kgml_hsa/hsa04922.xml...\n"
     ]
    },
    {
     "name": "stdout",
     "output_type": "stream",
     "text": [
      "\u001B[32m\u001B[22mNow parsing: Glucagon signaling pathway...\u001B[0m\n"
     ]
    },
    {
     "name": "stderr",
     "output_type": "stream",
     "text": [
      "INFO:root:Parsing data/kgml_hsa/hsa00563.xml...\n"
     ]
    },
    {
     "name": "stdout",
     "output_type": "stream",
     "text": [
      "\u001B[32m\u001B[22mNow parsing: Glycosylphosphatidylinositol (GPI)-anchor biosynthesis...\u001B[0m\n"
     ]
    },
    {
     "name": "stderr",
     "output_type": "stream",
     "text": [
      "INFO:root:Parsing data/kgml_hsa/hsa04659.xml...\n"
     ]
    },
    {
     "name": "stdout",
     "output_type": "stream",
     "text": [
      "\u001B[32m\u001B[22mNow parsing: Th17 cell differentiation...\u001B[0m\n"
     ]
    },
    {
     "name": "stderr",
     "output_type": "stream",
     "text": [
      "INFO:root:Parsing data/kgml_hsa/hsa05221.xml...\n"
     ]
    },
    {
     "name": "stdout",
     "output_type": "stream",
     "text": [
      "\u001B[32m\u001B[22mNow parsing: Acute myeloid leukemia...\u001B[0m\n"
     ]
    },
    {
     "name": "stderr",
     "output_type": "stream",
     "text": [
      "INFO:root:Parsing data/kgml_hsa/hsa05235.xml...\n"
     ]
    },
    {
     "name": "stdout",
     "output_type": "stream",
     "text": [
      "\u001B[32m\u001B[22mNow parsing: PD-L1 expression and PD-1 checkpoint pathway in cancer...\u001B[0m\n"
     ]
    },
    {
     "name": "stderr",
     "output_type": "stream",
     "text": [
      "INFO:root:Parsing data/kgml_hsa/hsa00601.xml...\n"
     ]
    },
    {
     "name": "stdout",
     "output_type": "stream",
     "text": [
      "\u001B[32m\u001B[22mNow parsing: Glycosphingolipid biosynthesis - lacto and neolacto series...\u001B[0m\n"
     ]
    },
    {
     "name": "stderr",
     "output_type": "stream",
     "text": [
      "INFO:root:Parsing data/kgml_hsa/hsa01523.xml...\n"
     ]
    },
    {
     "name": "stdout",
     "output_type": "stream",
     "text": [
      "\u001B[32m\u001B[22mNow parsing: Antifolate resistance...\u001B[0m\n"
     ]
    },
    {
     "name": "stderr",
     "output_type": "stream",
     "text": [
      "INFO:root:Parsing data/kgml_hsa/hsa03320.xml...\n"
     ]
    },
    {
     "name": "stdout",
     "output_type": "stream",
     "text": [
      "\u001B[32m\u001B[22mNow parsing: PPAR signaling pathway...\u001B[0m\n"
     ]
    },
    {
     "name": "stderr",
     "output_type": "stream",
     "text": [
      "INFO:root:Parsing data/kgml_hsa/hsa01521.xml...\n"
     ]
    },
    {
     "name": "stdout",
     "output_type": "stream",
     "text": [
      "\u001B[32m\u001B[22mNow parsing: EGFR tyrosine kinase inhibitor resistance...\u001B[0m\n"
     ]
    },
    {
     "name": "stderr",
     "output_type": "stream",
     "text": [
      "INFO:root:Parsing data/kgml_hsa/hsa03450.xml...\n"
     ]
    },
    {
     "name": "stdout",
     "output_type": "stream",
     "text": [
      "\u001B[32m\u001B[22mNow parsing: Non-homologous end-joining...\u001B[0m\n",
      "\u001B[31m\u001B[1mERROR: File \"data/kgml_hsa/hsa03450.xml\" cannot be parsed.\n",
      "Visit https://www.kegg.jp/kegg-bin/show_pathway?hsa03450 for pathway details.\n",
      "There are likely no edges in which to parse...\u001B[0m\n"
     ]
    },
    {
     "name": "stderr",
     "output_type": "stream",
     "text": [
      "INFO:root:Parsing data/kgml_hsa/hsa00603.xml...\n"
     ]
    },
    {
     "name": "stdout",
     "output_type": "stream",
     "text": [
      "\u001B[32m\u001B[22mNow parsing: Glycosphingolipid biosynthesis - globo and isoglobo series...\u001B[0m\n"
     ]
    },
    {
     "name": "stderr",
     "output_type": "stream",
     "text": [
      "INFO:root:Parsing data/kgml_hsa/hsa00830.xml...\n"
     ]
    },
    {
     "name": "stdout",
     "output_type": "stream",
     "text": [
      "\u001B[32m\u001B[22mNow parsing: Retinol metabolism...\u001B[0m\n"
     ]
    },
    {
     "name": "stderr",
     "output_type": "stream",
     "text": [
      "INFO:root:Parsing data/kgml_hsa/hsa05223.xml...\n"
     ]
    },
    {
     "name": "stdout",
     "output_type": "stream",
     "text": [
      "\u001B[32m\u001B[22mNow parsing: Non-small cell lung cancer...\u001B[0m\n"
     ]
    },
    {
     "name": "stderr",
     "output_type": "stream",
     "text": [
      "INFO:root:Parsing data/kgml_hsa/hsa04115.xml...\n"
     ]
    },
    {
     "name": "stdout",
     "output_type": "stream",
     "text": [
      "\u001B[32m\u001B[22mNow parsing: p53 signaling pathway...\u001B[0m\n"
     ]
    },
    {
     "name": "stderr",
     "output_type": "stream",
     "text": [
      "INFO:root:Parsing data/kgml_hsa/hsa03040.xml...\n"
     ]
    },
    {
     "name": "stdout",
     "output_type": "stream",
     "text": [
      "\u001B[32m\u001B[22mNow parsing: Spliceosome...\u001B[0m\n",
      "\u001B[31m\u001B[1mERROR: File \"data/kgml_hsa/hsa03040.xml\" cannot be parsed.\n",
      "Visit https://www.kegg.jp/kegg-bin/show_pathway?hsa03040 for pathway details.\n",
      "There are likely no edges in which to parse...\u001B[0m\n"
     ]
    },
    {
     "name": "stderr",
     "output_type": "stream",
     "text": [
      "INFO:root:Parsing data/kgml_hsa/hsa04713.xml...\n"
     ]
    },
    {
     "name": "stdout",
     "output_type": "stream",
     "text": [
      "\u001B[32m\u001B[22mNow parsing: Circadian entrainment...\u001B[0m\n"
     ]
    },
    {
     "name": "stderr",
     "output_type": "stream",
     "text": [
      "INFO:root:Parsing data/kgml_hsa/hsa00561.xml...\n"
     ]
    },
    {
     "name": "stdout",
     "output_type": "stream",
     "text": [
      "\u001B[32m\u001B[22mNow parsing: Glycerolipid metabolism...\u001B[0m\n"
     ]
    },
    {
     "name": "stderr",
     "output_type": "stream",
     "text": [
      "INFO:root:Parsing data/kgml_hsa/hsa04061.xml...\n"
     ]
    },
    {
     "name": "stdout",
     "output_type": "stream",
     "text": [
      "\u001B[32m\u001B[22mNow parsing: Viral protein interaction with cytokine and cytokine receptor...\u001B[0m\n"
     ]
    },
    {
     "name": "stderr",
     "output_type": "stream",
     "text": [
      "INFO:root:Parsing data/kgml_hsa/hsa03083.xml...\n"
     ]
    },
    {
     "name": "stdout",
     "output_type": "stream",
     "text": [
      "\u001B[32m\u001B[22mNow parsing: Polycomb repressive complex...\u001B[0m\n",
      "\u001B[31m\u001B[1mERROR: File \"data/kgml_hsa/hsa03083.xml\" cannot be parsed.\n",
      "Visit https://www.kegg.jp/kegg-bin/show_pathway?hsa03083 for pathway details.\n",
      "There are likely no edges in which to parse...\u001B[0m\n"
     ]
    },
    {
     "name": "stderr",
     "output_type": "stream",
     "text": [
      "INFO:root:Parsing data/kgml_hsa/hsa04934.xml...\n"
     ]
    },
    {
     "name": "stdout",
     "output_type": "stream",
     "text": [
      "\u001B[32m\u001B[22mNow parsing: Cushing syndrome...\u001B[0m\n"
     ]
    },
    {
     "name": "stderr",
     "output_type": "stream",
     "text": [
      "INFO:root:Parsing data/kgml_hsa/hsa04920.xml...\n"
     ]
    },
    {
     "name": "stdout",
     "output_type": "stream",
     "text": [
      "\u001B[32m\u001B[22mNow parsing: Adipocytokine signaling pathway...\u001B[0m\n"
     ]
    },
    {
     "name": "stderr",
     "output_type": "stream",
     "text": [
      "INFO:root:Parsing data/kgml_hsa/hsa05169.xml...\n"
     ]
    },
    {
     "name": "stdout",
     "output_type": "stream",
     "text": [
      "\u001B[32m\u001B[22mNow parsing: Epstein-Barr virus infection...\u001B[0m\n"
     ]
    },
    {
     "name": "stderr",
     "output_type": "stream",
     "text": [
      "INFO:root:Parsing data/kgml_hsa/hsa04510.xml...\n"
     ]
    },
    {
     "name": "stdout",
     "output_type": "stream",
     "text": [
      "\u001B[32m\u001B[22mNow parsing: Focal adhesion...\u001B[0m\n"
     ]
    },
    {
     "name": "stderr",
     "output_type": "stream",
     "text": [
      "INFO:root:Parsing data/kgml_hsa/hsa00010.xml...\n"
     ]
    },
    {
     "name": "stdout",
     "output_type": "stream",
     "text": [
      "\u001B[32m\u001B[22mNow parsing: Glycolysis / Gluconeogenesis...\u001B[0m\n"
     ]
    },
    {
     "name": "stderr",
     "output_type": "stream",
     "text": [
      "INFO:root:Parsing data/kgml_hsa/hsa05168.xml...\n"
     ]
    },
    {
     "name": "stdout",
     "output_type": "stream",
     "text": [
      "\u001B[32m\u001B[22mNow parsing: Herpes simplex virus 1 infection...\u001B[0m\n"
     ]
    },
    {
     "name": "stderr",
     "output_type": "stream",
     "text": [
      "INFO:root:Parsing data/kgml_hsa/hsa05140.xml...\n"
     ]
    },
    {
     "name": "stdout",
     "output_type": "stream",
     "text": [
      "\u001B[32m\u001B[22mNow parsing: Leishmaniasis...\u001B[0m\n"
     ]
    },
    {
     "name": "stderr",
     "output_type": "stream",
     "text": [
      "INFO:root:Parsing data/kgml_hsa/hsa04921.xml...\n"
     ]
    },
    {
     "name": "stdout",
     "output_type": "stream",
     "text": [
      "\u001B[32m\u001B[22mNow parsing: Oxytocin signaling pathway...\u001B[0m\n"
     ]
    },
    {
     "name": "stderr",
     "output_type": "stream",
     "text": [
      "INFO:root:Parsing data/kgml_hsa/hsa04935.xml...\n"
     ]
    },
    {
     "name": "stdout",
     "output_type": "stream",
     "text": [
      "\u001B[32m\u001B[22mNow parsing: Growth hormone synthesis, secretion and action...\u001B[0m\n"
     ]
    },
    {
     "name": "stderr",
     "output_type": "stream",
     "text": [
      "INFO:root:Parsing data/kgml_hsa/hsa03082.xml...\n"
     ]
    },
    {
     "name": "stdout",
     "output_type": "stream",
     "text": [
      "\u001B[32m\u001B[22mNow parsing: ATP-dependent chromatin remodeling...\u001B[0m\n",
      "\u001B[31m\u001B[1mERROR: File \"data/kgml_hsa/hsa03082.xml\" cannot be parsed.\n",
      "Visit https://www.kegg.jp/kegg-bin/show_pathway?hsa03082 for pathway details.\n",
      "There are likely no edges in which to parse...\u001B[0m\n"
     ]
    },
    {
     "name": "stderr",
     "output_type": "stream",
     "text": [
      "INFO:root:Parsing data/kgml_hsa/hsa05418.xml...\n"
     ]
    },
    {
     "name": "stdout",
     "output_type": "stream",
     "text": [
      "\u001B[32m\u001B[22mNow parsing: Fluid shear stress and atherosclerosis...\u001B[0m\n"
     ]
    },
    {
     "name": "stderr",
     "output_type": "stream",
     "text": [
      "INFO:root:Parsing data/kgml_hsa/hsa04060.xml...\n"
     ]
    },
    {
     "name": "stdout",
     "output_type": "stream",
     "text": [
      "\u001B[32m\u001B[22mNow parsing: Cytokine-cytokine receptor interaction...\u001B[0m\n"
     ]
    },
    {
     "name": "stderr",
     "output_type": "stream",
     "text": [
      "INFO:root:Parsing data/kgml_hsa/hsa04672.xml...\n"
     ]
    },
    {
     "name": "stdout",
     "output_type": "stream",
     "text": [
      "\u001B[32m\u001B[22mNow parsing: Intestinal immune network for IgA production...\u001B[0m\n"
     ]
    },
    {
     "name": "stderr",
     "output_type": "stream",
     "text": [
      "INFO:root:Parsing data/kgml_hsa/hsa04114.xml...\n"
     ]
    },
    {
     "name": "stdout",
     "output_type": "stream",
     "text": [
      "\u001B[32m\u001B[22mNow parsing: Oocyte meiosis...\u001B[0m\n"
     ]
    },
    {
     "name": "stderr",
     "output_type": "stream",
     "text": [
      "INFO:root:Parsing data/kgml_hsa/hsa00400.xml...\n"
     ]
    },
    {
     "name": "stdout",
     "output_type": "stream",
     "text": [
      "\u001B[32m\u001B[22mNow parsing: Phenylalanine, tyrosine and tryptophan biosynthesis...\u001B[0m\n"
     ]
    },
    {
     "name": "stderr",
     "output_type": "stream",
     "text": [
      "INFO:root:Parsing data/kgml_hsa/hsa04666.xml...\n"
     ]
    },
    {
     "name": "stdout",
     "output_type": "stream",
     "text": [
      "\u001B[32m\u001B[22mNow parsing: Fc gamma R-mediated phagocytosis...\u001B[0m\n"
     ]
    },
    {
     "name": "stderr",
     "output_type": "stream",
     "text": [
      "INFO:root:Parsing data/kgml_hsa/hsa05222.xml...\n"
     ]
    },
    {
     "name": "stdout",
     "output_type": "stream",
     "text": [
      "\u001B[32m\u001B[22mNow parsing: Small cell lung cancer...\u001B[0m\n"
     ]
    },
    {
     "name": "stderr",
     "output_type": "stream",
     "text": [
      "INFO:root:Parsing data/kgml_hsa/hsa05034.xml...\n"
     ]
    },
    {
     "name": "stdout",
     "output_type": "stream",
     "text": [
      "\u001B[32m\u001B[22mNow parsing: Alcoholism...\u001B[0m\n"
     ]
    },
    {
     "name": "stderr",
     "output_type": "stream",
     "text": [
      "INFO:root:Parsing data/kgml_hsa/hsa05020.xml...\n"
     ]
    },
    {
     "name": "stdout",
     "output_type": "stream",
     "text": [
      "\u001B[32m\u001B[22mNow parsing: Prion disease...\u001B[0m\n"
     ]
    },
    {
     "name": "stderr",
     "output_type": "stream",
     "text": [
      "INFO:root:Parsing data/kgml_hsa/hsa03460.xml...\n"
     ]
    },
    {
     "name": "stdout",
     "output_type": "stream",
     "text": [
      "\u001B[32m\u001B[22mNow parsing: Fanconi anemia pathway...\u001B[0m\n"
     ]
    },
    {
     "name": "stderr",
     "output_type": "stream",
     "text": [
      "INFO:root:Parsing data/kgml_hsa/hsa04657.xml...\n"
     ]
    },
    {
     "name": "stdout",
     "output_type": "stream",
     "text": [
      "\u001B[32m\u001B[22mNow parsing: IL-17 signaling pathway...\u001B[0m\n"
     ]
    },
    {
     "name": "stderr",
     "output_type": "stream",
     "text": [
      "INFO:root:Parsing data/kgml_hsa/hsa05207.xml...\n"
     ]
    },
    {
     "name": "stdout",
     "output_type": "stream",
     "text": [
      "\u001B[32m\u001B[22mNow parsing: Chemical carcinogenesis - receptor activation...\u001B[0m\n"
     ]
    },
    {
     "name": "stderr",
     "output_type": "stream",
     "text": [
      "INFO:root:Parsing data/kgml_hsa/hsa05213.xml...\n"
     ]
    },
    {
     "name": "stdout",
     "output_type": "stream",
     "text": [
      "\u001B[32m\u001B[22mNow parsing: Endometrial cancer...\u001B[0m\n"
     ]
    },
    {
     "name": "stderr",
     "output_type": "stream",
     "text": [
      "INFO:root:Parsing data/kgml_hsa/hsa00380.xml...\n"
     ]
    },
    {
     "name": "stdout",
     "output_type": "stream",
     "text": [
      "\u001B[32m\u001B[22mNow parsing: Tryptophan metabolism...\u001B[0m\n"
     ]
    },
    {
     "name": "stderr",
     "output_type": "stream",
     "text": [
      "INFO:root:Parsing data/kgml_hsa/hsa04723.xml...\n"
     ]
    },
    {
     "name": "stdout",
     "output_type": "stream",
     "text": [
      "\u001B[32m\u001B[22mNow parsing: Retrograde endocannabinoid signaling...\u001B[0m\n"
     ]
    },
    {
     "name": "stderr",
     "output_type": "stream",
     "text": [
      "INFO:root:Parsing data/kgml_hsa/hsa05415.xml...\n"
     ]
    },
    {
     "name": "stdout",
     "output_type": "stream",
     "text": [
      "\u001B[32m\u001B[22mNow parsing: Diabetic cardiomyopathy...\u001B[0m\n"
     ]
    },
    {
     "name": "stderr",
     "output_type": "stream",
     "text": [
      "INFO:root:Parsing data/kgml_hsa/hsa00592.xml...\n"
     ]
    },
    {
     "name": "stdout",
     "output_type": "stream",
     "text": [
      "\u001B[32m\u001B[22mNow parsing: alpha-Linolenic acid metabolism...\u001B[0m\n"
     ]
    },
    {
     "name": "stderr",
     "output_type": "stream",
     "text": [
      "INFO:root:Parsing data/kgml_hsa/hsa04910.xml...\n"
     ]
    },
    {
     "name": "stdout",
     "output_type": "stream",
     "text": [
      "\u001B[32m\u001B[22mNow parsing: Insulin signaling pathway...\u001B[0m\n"
     ]
    },
    {
     "name": "stderr",
     "output_type": "stream",
     "text": [
      "INFO:root:Parsing data/kgml_hsa/hsa05171.xml...\n"
     ]
    },
    {
     "name": "stdout",
     "output_type": "stream",
     "text": [
      "\u001B[32m\u001B[22mNow parsing: Coronavirus disease - COVID-19...\u001B[0m\n"
     ]
    },
    {
     "name": "stderr",
     "output_type": "stream",
     "text": [
      "INFO:root:Parsing data/kgml_hsa/hsa03266.xml...\n"
     ]
    },
    {
     "name": "stdout",
     "output_type": "stream",
     "text": [
      "\u001B[32m\u001B[22mNow parsing: Virion - Herpesvirus...\u001B[0m\n",
      "\u001B[31m\u001B[1mERROR: File \"data/kgml_hsa/hsa03266.xml\" cannot be parsed.\n",
      "Visit https://www.kegg.jp/kegg-bin/show_pathway?hsa03266 for pathway details.\n",
      "There are likely no edges in which to parse...\u001B[0m\n"
     ]
    },
    {
     "name": "stderr",
     "output_type": "stream",
     "text": [
      "INFO:root:Parsing data/kgml_hsa/hsa05165.xml...\n"
     ]
    },
    {
     "name": "stdout",
     "output_type": "stream",
     "text": [
      "\u001B[32m\u001B[22mNow parsing: Human papillomavirus infection...\u001B[0m\n"
     ]
    },
    {
     "name": "stderr",
     "output_type": "stream",
     "text": [
      "INFO:root:Parsing data/kgml_hsa/hsa00790.xml...\n"
     ]
    },
    {
     "name": "stdout",
     "output_type": "stream",
     "text": [
      "\u001B[32m\u001B[22mNow parsing: Folate biosynthesis...\u001B[0m\n"
     ]
    },
    {
     "name": "stderr",
     "output_type": "stream",
     "text": [
      "INFO:root:Parsing data/kgml_hsa/hsa00785.xml...\n"
     ]
    },
    {
     "name": "stdout",
     "output_type": "stream",
     "text": [
      "\u001B[32m\u001B[22mNow parsing: Lipoic acid metabolism...\u001B[0m\n"
     ]
    },
    {
     "name": "stderr",
     "output_type": "stream",
     "text": [
      "INFO:root:Parsing data/kgml_hsa/hsa05164.xml...\n"
     ]
    },
    {
     "name": "stdout",
     "output_type": "stream",
     "text": [
      "\u001B[32m\u001B[22mNow parsing: Influenza A...\u001B[0m\n"
     ]
    },
    {
     "name": "stderr",
     "output_type": "stream",
     "text": [
      "INFO:root:Parsing data/kgml_hsa/hsa05170.xml...\n"
     ]
    },
    {
     "name": "stdout",
     "output_type": "stream",
     "text": [
      "\u001B[32m\u001B[22mNow parsing: Human immunodeficiency virus 1 infection...\u001B[0m\n"
     ]
    },
    {
     "name": "stderr",
     "output_type": "stream",
     "text": [
      "INFO:root:Parsing data/kgml_hsa/hsa03267.xml...\n"
     ]
    },
    {
     "name": "stdout",
     "output_type": "stream",
     "text": [
      "\u001B[32m\u001B[22mNow parsing: Virion - Adenovirus...\u001B[0m\n",
      "\u001B[31m\u001B[1mERROR: File \"data/kgml_hsa/hsa03267.xml\" cannot be parsed.\n",
      "Visit https://www.kegg.jp/kegg-bin/show_pathway?hsa03267 for pathway details.\n",
      "There are likely no edges in which to parse...\u001B[0m\n"
     ]
    },
    {
     "name": "stderr",
     "output_type": "stream",
     "text": [
      "INFO:root:Parsing data/kgml_hsa/hsa04520.xml...\n"
     ]
    },
    {
     "name": "stdout",
     "output_type": "stream",
     "text": [
      "\u001B[32m\u001B[22mNow parsing: Adherens junction...\u001B[0m\n"
     ]
    },
    {
     "name": "stderr",
     "output_type": "stream",
     "text": [
      "INFO:root:Parsing data/kgml_hsa/hsa00020.xml...\n"
     ]
    },
    {
     "name": "stdout",
     "output_type": "stream",
     "text": [
      "\u001B[32m\u001B[22mNow parsing: Citrate cycle (TCA cycle)...\u001B[0m\n"
     ]
    },
    {
     "name": "stderr",
     "output_type": "stream",
     "text": [
      "INFO:root:Parsing data/kgml_hsa/hsa04911.xml...\n"
     ]
    },
    {
     "name": "stdout",
     "output_type": "stream",
     "text": [
      "\u001B[32m\u001B[22mNow parsing: Insulin secretion...\u001B[0m\n"
     ]
    },
    {
     "name": "stderr",
     "output_type": "stream",
     "text": [
      "INFO:root:Parsing data/kgml_hsa/hsa01100.xml...\n"
     ]
    },
    {
     "name": "stdout",
     "output_type": "stream",
     "text": [
      "\u001B[32m\u001B[22mNow parsing: Metabolic pathways...\u001B[0m\n",
      "\u001B[31m\u001B[1mERROR: File \"data/kgml_hsa/hsa01100.xml\" cannot be parsed.\n",
      "Visit https://www.kegg.jp/kegg-bin/show_pathway?hsa01100 for pathway details.\n",
      "There are likely no edges in which to parse...\u001B[0m\n"
     ]
    },
    {
     "name": "stderr",
     "output_type": "stream",
     "text": [
      "INFO:root:Parsing data/kgml_hsa/hsa05414.xml...\n"
     ]
    },
    {
     "name": "stdout",
     "output_type": "stream",
     "text": [
      "\u001B[32m\u001B[22mNow parsing: Dilated cardiomyopathy...\u001B[0m\n"
     ]
    },
    {
     "name": "stderr",
     "output_type": "stream",
     "text": [
      "INFO:root:Parsing data/kgml_hsa/hsa04722.xml...\n"
     ]
    },
    {
     "name": "stdout",
     "output_type": "stream",
     "text": [
      "\u001B[32m\u001B[22mNow parsing: Neurotrophin signaling pathway...\u001B[0m\n"
     ]
    },
    {
     "name": "stderr",
     "output_type": "stream",
     "text": [
      "INFO:root:Parsing data/kgml_hsa/hsa05212.xml...\n"
     ]
    },
    {
     "name": "stdout",
     "output_type": "stream",
     "text": [
      "\u001B[32m\u001B[22mNow parsing: Pancreatic cancer...\u001B[0m\n"
     ]
    },
    {
     "name": "stderr",
     "output_type": "stream",
     "text": [
      "INFO:root:Parsing data/kgml_hsa/hsa05206.xml...\n"
     ]
    },
    {
     "name": "stdout",
     "output_type": "stream",
     "text": [
      "\u001B[32m\u001B[22mNow parsing: MicroRNAs in cancer...\u001B[0m\n"
     ]
    },
    {
     "name": "stderr",
     "output_type": "stream",
     "text": [
      "INFO:root:Parsing data/kgml_hsa/hsa04130.xml...\n"
     ]
    },
    {
     "name": "stdout",
     "output_type": "stream",
     "text": [
      "\u001B[32m\u001B[22mNow parsing: SNARE interactions in vesicular transport...\u001B[0m\n"
     ]
    },
    {
     "name": "stderr",
     "output_type": "stream",
     "text": [
      "INFO:root:Parsing data/kgml_hsa/hsa00430.xml...\n"
     ]
    },
    {
     "name": "stdout",
     "output_type": "stream",
     "text": [
      "\u001B[32m\u001B[22mNow parsing: Taurine and hypotaurine metabolism...\u001B[0m\n"
     ]
    },
    {
     "name": "stderr",
     "output_type": "stream",
     "text": [
      "INFO:root:Parsing data/kgml_hsa/hsa05010.xml...\n"
     ]
    },
    {
     "name": "stdout",
     "output_type": "stream",
     "text": [
      "\u001B[32m\u001B[22mNow parsing: Alzheimer disease...\u001B[0m\n"
     ]
    },
    {
     "name": "stderr",
     "output_type": "stream",
     "text": [
      "INFO:root:Parsing data/kgml_hsa/hsa00140.xml...\n"
     ]
    },
    {
     "name": "stdout",
     "output_type": "stream",
     "text": [
      "\u001B[32m\u001B[22mNow parsing: Steroid hormone biosynthesis...\u001B[0m\n"
     ]
    },
    {
     "name": "stderr",
     "output_type": "stream",
     "text": [
      "INFO:root:Parsing data/kgml_hsa/hsa04330.xml...\n"
     ]
    },
    {
     "name": "stdout",
     "output_type": "stream",
     "text": [
      "\u001B[32m\u001B[22mNow parsing: Notch signaling pathway...\u001B[0m\n"
     ]
    },
    {
     "name": "stderr",
     "output_type": "stream",
     "text": [
      "INFO:root:Parsing data/kgml_hsa/hsa00630.xml...\n"
     ]
    },
    {
     "name": "stdout",
     "output_type": "stream",
     "text": [
      "\u001B[32m\u001B[22mNow parsing: Glyoxylate and dicarboxylate metabolism...\u001B[0m\n"
     ]
    },
    {
     "name": "stderr",
     "output_type": "stream",
     "text": [
      "INFO:root:Parsing data/kgml_hsa/hsa05012.xml...\n"
     ]
    },
    {
     "name": "stdout",
     "output_type": "stream",
     "text": [
      "\u001B[32m\u001B[22mNow parsing: Parkinson disease...\u001B[0m\n"
     ]
    },
    {
     "name": "stderr",
     "output_type": "stream",
     "text": [
      "INFO:root:Parsing data/kgml_hsa/hsa00340.xml...\n"
     ]
    },
    {
     "name": "stdout",
     "output_type": "stream",
     "text": [
      "\u001B[32m\u001B[22mNow parsing: Histidine metabolism...\u001B[0m\n"
     ]
    },
    {
     "name": "stderr",
     "output_type": "stream",
     "text": [
      "INFO:root:Parsing data/kgml_hsa/hsa04640.xml...\n"
     ]
    },
    {
     "name": "stdout",
     "output_type": "stream",
     "text": [
      "\u001B[32m\u001B[22mNow parsing: Hematopoietic cell lineage...\u001B[0m\n",
      "\u001B[31m\u001B[1mERROR: File \"data/kgml_hsa/hsa04640.xml\" cannot be parsed.\n",
      "Visit https://www.kegg.jp/kegg-bin/show_pathway?hsa04640 for pathway details.\n",
      "There are likely no edges in which to parse...\u001B[0m\n"
     ]
    },
    {
     "name": "stderr",
     "output_type": "stream",
     "text": [
      "INFO:root:Parsing data/kgml_hsa/hsa04668.xml...\n"
     ]
    },
    {
     "name": "stdout",
     "output_type": "stream",
     "text": [
      "\u001B[32m\u001B[22mNow parsing: TNF signaling pathway...\u001B[0m\n"
     ]
    },
    {
     "name": "stderr",
     "output_type": "stream",
     "text": [
      "INFO:root:Parsing data/kgml_hsa/hsa05210.xml...\n"
     ]
    },
    {
     "name": "stdout",
     "output_type": "stream",
     "text": [
      "\u001B[32m\u001B[22mNow parsing: Colorectal cancer...\u001B[0m\n"
     ]
    },
    {
     "name": "stderr",
     "output_type": "stream",
     "text": [
      "INFO:root:Parsing data/kgml_hsa/hsa05204.xml...\n"
     ]
    },
    {
     "name": "stdout",
     "output_type": "stream",
     "text": [
      "\u001B[32m\u001B[22mNow parsing: Chemical carcinogenesis - DNA adducts...\u001B[0m\n"
     ]
    },
    {
     "name": "stderr",
     "output_type": "stream",
     "text": [
      "INFO:root:Parsing data/kgml_hsa/hsa04720.xml...\n"
     ]
    },
    {
     "name": "stdout",
     "output_type": "stream",
     "text": [
      "\u001B[32m\u001B[22mNow parsing: Long-term potentiation...\u001B[0m\n"
     ]
    },
    {
     "name": "stderr",
     "output_type": "stream",
     "text": [
      "INFO:root:Parsing data/kgml_hsa/hsa00220.xml...\n"
     ]
    },
    {
     "name": "stdout",
     "output_type": "stream",
     "text": [
      "\u001B[32m\u001B[22mNow parsing: Arginine biosynthesis...\u001B[0m\n"
     ]
    },
    {
     "name": "stderr",
     "output_type": "stream",
     "text": [
      "INFO:root:Parsing data/kgml_hsa/hsa05416.xml...\n"
     ]
    },
    {
     "name": "stdout",
     "output_type": "stream",
     "text": [
      "\u001B[32m\u001B[22mNow parsing: Viral myocarditis...\u001B[0m\n"
     ]
    },
    {
     "name": "stderr",
     "output_type": "stream",
     "text": [
      "INFO:root:Parsing data/kgml_hsa/hsa00591.xml...\n"
     ]
    },
    {
     "name": "stdout",
     "output_type": "stream",
     "text": [
      "\u001B[32m\u001B[22mNow parsing: Linoleic acid metabolism...\u001B[0m\n"
     ]
    },
    {
     "name": "stderr",
     "output_type": "stream",
     "text": [
      "INFO:root:Parsing data/kgml_hsa/hsa04913.xml...\n"
     ]
    },
    {
     "name": "stdout",
     "output_type": "stream",
     "text": [
      "\u001B[32m\u001B[22mNow parsing: Ovarian steroidogenesis...\u001B[0m\n"
     ]
    },
    {
     "name": "stderr",
     "output_type": "stream",
     "text": [
      "INFO:root:Parsing data/kgml_hsa/hsa00750.xml...\n"
     ]
    },
    {
     "name": "stdout",
     "output_type": "stream",
     "text": [
      "\u001B[32m\u001B[22mNow parsing: Vitamin B6 metabolism...\u001B[0m\n"
     ]
    },
    {
     "name": "stderr",
     "output_type": "stream",
     "text": [
      "INFO:root:Parsing data/kgml_hsa/hsa05166.xml...\n"
     ]
    },
    {
     "name": "stdout",
     "output_type": "stream",
     "text": [
      "\u001B[32m\u001B[22mNow parsing: Human T-cell leukemia virus 1 infection...\u001B[0m\n"
     ]
    },
    {
     "name": "stderr",
     "output_type": "stream",
     "text": [
      "INFO:root:Parsing data/kgml_hsa/hsa03271.xml...\n"
     ]
    },
    {
     "name": "stdout",
     "output_type": "stream",
     "text": [
      "\u001B[32m\u001B[22mNow parsing: Virion - Rotavirus...\u001B[0m\n",
      "\u001B[31m\u001B[1mERROR: File \"data/kgml_hsa/hsa03271.xml\" cannot be parsed.\n",
      "Visit https://www.kegg.jp/kegg-bin/show_pathway?hsa03271 for pathway details.\n",
      "There are likely no edges in which to parse...\u001B[0m\n"
     ]
    },
    {
     "name": "stderr",
     "output_type": "stream",
     "text": [
      "INFO:root:Parsing data/kgml_hsa/hsa03265.xml...\n"
     ]
    },
    {
     "name": "stdout",
     "output_type": "stream",
     "text": [
      "\u001B[32m\u001B[22mNow parsing: Virion - Ebolavirus and Lyssavirus...\u001B[0m\n",
      "\u001B[31m\u001B[1mERROR: File \"data/kgml_hsa/hsa03265.xml\" cannot be parsed.\n",
      "Visit https://www.kegg.jp/kegg-bin/show_pathway?hsa03265 for pathway details.\n",
      "There are likely no edges in which to parse...\u001B[0m\n"
     ]
    },
    {
     "name": "stderr",
     "output_type": "stream",
     "text": [
      "INFO:root:Parsing data/kgml_hsa/hsa03264.xml...\n"
     ]
    },
    {
     "name": "stdout",
     "output_type": "stream",
     "text": [
      "\u001B[32m\u001B[22mNow parsing: Virion - Flavivirus...\u001B[0m\n",
      "\u001B[31m\u001B[1mERROR: File \"data/kgml_hsa/hsa03264.xml\" cannot be parsed.\n",
      "Visit https://www.kegg.jp/kegg-bin/show_pathway?hsa03264 for pathway details.\n",
      "There are likely no edges in which to parse...\u001B[0m\n"
     ]
    },
    {
     "name": "stderr",
     "output_type": "stream",
     "text": [
      "INFO:root:Parsing data/kgml_hsa/hsa05167.xml...\n"
     ]
    },
    {
     "name": "stdout",
     "output_type": "stream",
     "text": [
      "\u001B[32m\u001B[22mNow parsing: Kaposi sarcoma-associated herpesvirus infection...\u001B[0m\n"
     ]
    },
    {
     "name": "stderr",
     "output_type": "stream",
     "text": [
      "INFO:root:Parsing data/kgml_hsa/hsa04912.xml...\n"
     ]
    },
    {
     "name": "stdout",
     "output_type": "stream",
     "text": [
      "\u001B[32m\u001B[22mNow parsing: GnRH signaling pathway...\u001B[0m\n"
     ]
    },
    {
     "name": "stderr",
     "output_type": "stream",
     "text": [
      "INFO:root:Parsing data/kgml_hsa/hsa00590.xml...\n"
     ]
    },
    {
     "name": "stdout",
     "output_type": "stream",
     "text": [
      "\u001B[32m\u001B[22mNow parsing: Arachidonic acid metabolism...\u001B[0m\n"
     ]
    },
    {
     "name": "stderr",
     "output_type": "stream",
     "text": [
      "INFO:root:Parsing data/kgml_hsa/hsa05417.xml...\n"
     ]
    },
    {
     "name": "stdout",
     "output_type": "stream",
     "text": [
      "\u001B[32m\u001B[22mNow parsing: Lipid and atherosclerosis...\u001B[0m\n"
     ]
    },
    {
     "name": "stderr",
     "output_type": "stream",
     "text": [
      "INFO:root:Parsing data/kgml_hsa/hsa04721.xml...\n"
     ]
    },
    {
     "name": "stdout",
     "output_type": "stream",
     "text": [
      "\u001B[32m\u001B[22mNow parsing: Synaptic vesicle cycle...\u001B[0m\n"
     ]
    },
    {
     "name": "stderr",
     "output_type": "stream",
     "text": [
      "INFO:root:Parsing data/kgml_hsa/hsa05205.xml...\n"
     ]
    },
    {
     "name": "stdout",
     "output_type": "stream",
     "text": [
      "\u001B[32m\u001B[22mNow parsing: Proteoglycans in cancer...\u001B[0m\n"
     ]
    },
    {
     "name": "stderr",
     "output_type": "stream",
     "text": [
      "INFO:root:Parsing data/kgml_hsa/hsa05211.xml...\n"
     ]
    },
    {
     "name": "stdout",
     "output_type": "stream",
     "text": [
      "\u001B[32m\u001B[22mNow parsing: Renal cell carcinoma...\u001B[0m\n"
     ]
    },
    {
     "name": "stderr",
     "output_type": "stream",
     "text": [
      "INFO:root:Parsing data/kgml_hsa/hsa05017.xml...\n"
     ]
    },
    {
     "name": "stdout",
     "output_type": "stream",
     "text": [
      "\u001B[32m\u001B[22mNow parsing: Spinocerebellar ataxia...\u001B[0m\n"
     ]
    },
    {
     "name": "stderr",
     "output_type": "stream",
     "text": [
      "INFO:root:Parsing data/kgml_hsa/hsa00190.xml...\n"
     ]
    },
    {
     "name": "stdout",
     "output_type": "stream",
     "text": [
      "\u001B[32m\u001B[22mNow parsing: Oxidative phosphorylation...\u001B[0m\n"
     ]
    },
    {
     "name": "stderr",
     "output_type": "stream",
     "text": [
      "INFO:root:Parsing data/kgml_hsa/hsa05215.xml...\n"
     ]
    },
    {
     "name": "stdout",
     "output_type": "stream",
     "text": [
      "\u001B[32m\u001B[22mNow parsing: Prostate cancer...\u001B[0m\n"
     ]
    },
    {
     "name": "stderr",
     "output_type": "stream",
     "text": [
      "INFO:root:Parsing data/kgml_hsa/hsa04137.xml...\n"
     ]
    },
    {
     "name": "stdout",
     "output_type": "stream",
     "text": [
      "\u001B[32m\u001B[22mNow parsing: Mitophagy - animal...\u001B[0m\n"
     ]
    },
    {
     "name": "stderr",
     "output_type": "stream",
     "text": [
      "INFO:root:Parsing data/kgml_hsa/hsa04725.xml...\n"
     ]
    },
    {
     "name": "stdout",
     "output_type": "stream",
     "text": [
      "\u001B[32m\u001B[22mNow parsing: Cholinergic synapse...\u001B[0m\n"
     ]
    },
    {
     "name": "stderr",
     "output_type": "stream",
     "text": [
      "INFO:root:Parsing data/kgml_hsa/hsa04916.xml...\n"
     ]
    },
    {
     "name": "stdout",
     "output_type": "stream",
     "text": [
      "\u001B[32m\u001B[22mNow parsing: Melanogenesis...\u001B[0m\n"
     ]
    },
    {
     "name": "stderr",
     "output_type": "stream",
     "text": [
      "INFO:root:Parsing data/kgml_hsa/hsa04080.xml...\n"
     ]
    },
    {
     "name": "stdout",
     "output_type": "stream",
     "text": [
      "\u001B[32m\u001B[22mNow parsing: Neuroactive ligand-receptor interaction...\u001B[0m\n"
     ]
    },
    {
     "name": "stderr",
     "output_type": "stream",
     "text": [
      "INFO:root:Parsing data/kgml_hsa/hsa05163.xml...\n"
     ]
    },
    {
     "name": "stdout",
     "output_type": "stream",
     "text": [
      "\u001B[32m\u001B[22mNow parsing: Human cytomegalovirus infection...\u001B[0m\n"
     ]
    },
    {
     "name": "stderr",
     "output_type": "stream",
     "text": [
      "INFO:root:Parsing data/kgml_hsa/hsa03260.xml...\n"
     ]
    },
    {
     "name": "stdout",
     "output_type": "stream",
     "text": [
      "\u001B[32m\u001B[22mNow parsing: Virion - Human immunodeficiency virus...\u001B[0m\n",
      "\u001B[31m\u001B[1mERROR: File \"data/kgml_hsa/hsa03260.xml\" cannot be parsed.\n",
      "Visit https://www.kegg.jp/kegg-bin/show_pathway?hsa03260 for pathway details.\n",
      "There are likely no edges in which to parse...\u001B[0m\n"
     ]
    },
    {
     "name": "stderr",
     "output_type": "stream",
     "text": [
      "INFO:root:Parsing data/kgml_hsa/hsa00740.xml...\n"
     ]
    },
    {
     "name": "stdout",
     "output_type": "stream",
     "text": [
      "\u001B[32m\u001B[22mNow parsing: Riboflavin metabolism...\u001B[0m\n"
     ]
    },
    {
     "name": "stderr",
     "output_type": "stream",
     "text": [
      "INFO:root:Parsing data/kgml_hsa/hsa05162.xml...\n"
     ]
    },
    {
     "name": "stdout",
     "output_type": "stream",
     "text": [
      "\u001B[32m\u001B[22mNow parsing: Measles...\u001B[0m\n"
     ]
    },
    {
     "name": "stderr",
     "output_type": "stream",
     "text": [
      "INFO:root:Parsing data/kgml_hsa/hsa04917.xml...\n"
     ]
    },
    {
     "name": "stdout",
     "output_type": "stream",
     "text": [
      "\u001B[32m\u001B[22mNow parsing: Prolactin signaling pathway...\u001B[0m\n"
     ]
    },
    {
     "name": "stderr",
     "output_type": "stream",
     "text": [
      "INFO:root:Parsing data/kgml_hsa/hsa04730.xml...\n"
     ]
    },
    {
     "name": "stdout",
     "output_type": "stream",
     "text": [
      "\u001B[32m\u001B[22mNow parsing: Long-term depression...\u001B[0m\n"
     ]
    },
    {
     "name": "stderr",
     "output_type": "stream",
     "text": [
      "INFO:root:Parsing data/kgml_hsa/hsa00230.xml...\n"
     ]
    },
    {
     "name": "stdout",
     "output_type": "stream",
     "text": [
      "\u001B[32m\u001B[22mNow parsing: Purine metabolism...\u001B[0m\n"
     ]
    },
    {
     "name": "stderr",
     "output_type": "stream",
     "text": [
      "INFO:root:Parsing data/kgml_hsa/hsa04724.xml...\n"
     ]
    },
    {
     "name": "stdout",
     "output_type": "stream",
     "text": [
      "\u001B[32m\u001B[22mNow parsing: Glutamatergic synapse...\u001B[0m\n"
     ]
    },
    {
     "name": "stderr",
     "output_type": "stream",
     "text": [
      "INFO:root:Parsing data/kgml_hsa/hsa05412.xml...\n"
     ]
    },
    {
     "name": "stdout",
     "output_type": "stream",
     "text": [
      "\u001B[32m\u001B[22mNow parsing: Arrhythmogenic right ventricular cardiomyopathy...\u001B[0m\n"
     ]
    },
    {
     "name": "stderr",
     "output_type": "stream",
     "text": [
      "INFO:root:Parsing data/kgml_hsa/hsa04122.xml...\n"
     ]
    },
    {
     "name": "stdout",
     "output_type": "stream",
     "text": [
      "\u001B[32m\u001B[22mNow parsing: Sulfur relay system...\u001B[0m\n"
     ]
    },
    {
     "name": "stderr",
     "output_type": "stream",
     "text": [
      "INFO:root:Parsing data/kgml_hsa/hsa04136.xml...\n"
     ]
    },
    {
     "name": "stdout",
     "output_type": "stream",
     "text": [
      "\u001B[32m\u001B[22mNow parsing: Autophagy - other...\u001B[0m\n"
     ]
    },
    {
     "name": "stderr",
     "output_type": "stream",
     "text": [
      "INFO:root:Parsing data/kgml_hsa/hsa00350.xml...\n"
     ]
    },
    {
     "name": "stdout",
     "output_type": "stream",
     "text": [
      "\u001B[32m\u001B[22mNow parsing: Tyrosine metabolism...\u001B[0m\n"
     ]
    },
    {
     "name": "stderr",
     "output_type": "stream",
     "text": [
      "INFO:root:Parsing data/kgml_hsa/hsa04650.xml...\n"
     ]
    },
    {
     "name": "stdout",
     "output_type": "stream",
     "text": [
      "\u001B[32m\u001B[22mNow parsing: Natural killer cell mediated cytotoxicity...\u001B[0m\n"
     ]
    },
    {
     "name": "stderr",
     "output_type": "stream",
     "text": [
      "INFO:root:Parsing data/kgml_hsa/hsa05200.xml...\n"
     ]
    },
    {
     "name": "stdout",
     "output_type": "stream",
     "text": [
      "\u001B[32m\u001B[22mNow parsing: Pathways in cancer...\u001B[0m\n"
     ]
    },
    {
     "name": "stderr",
     "output_type": "stream",
     "text": [
      "INFO:root:Parsing data/kgml_hsa/hsa05214.xml...\n"
     ]
    },
    {
     "name": "stdout",
     "output_type": "stream",
     "text": [
      "\u001B[32m\u001B[22mNow parsing: Glioma...\u001B[0m\n"
     ]
    },
    {
     "name": "stderr",
     "output_type": "stream",
     "text": [
      "INFO:root:Parsing data/kgml_hsa/hsa00620.xml...\n"
     ]
    },
    {
     "name": "stdout",
     "output_type": "stream",
     "text": [
      "\u001B[32m\u001B[22mNow parsing: Pyruvate metabolism...\u001B[0m\n"
     ]
    },
    {
     "name": "stderr",
     "output_type": "stream",
     "text": [
      "INFO:root:Parsing data/kgml_hsa/hsa05016.xml...\n"
     ]
    },
    {
     "name": "stdout",
     "output_type": "stream",
     "text": [
      "\u001B[32m\u001B[22mNow parsing: Huntington disease...\u001B[0m\n"
     ]
    },
    {
     "name": "stderr",
     "output_type": "stream",
     "text": [
      "INFO:root:Parsing data/kgml_hsa/hsa05014.xml...\n"
     ]
    },
    {
     "name": "stdout",
     "output_type": "stream",
     "text": [
      "\u001B[32m\u001B[22mNow parsing: Amyotrophic lateral sclerosis...\u001B[0m\n"
     ]
    },
    {
     "name": "stderr",
     "output_type": "stream",
     "text": [
      "INFO:root:Parsing data/kgml_hsa/hsa05202.xml...\n"
     ]
    },
    {
     "name": "stdout",
     "output_type": "stream",
     "text": [
      "\u001B[32m\u001B[22mNow parsing: Transcriptional misregulation in cancer...\u001B[0m\n"
     ]
    },
    {
     "name": "stderr",
     "output_type": "stream",
     "text": [
      "INFO:root:Parsing data/kgml_hsa/hsa05216.xml...\n"
     ]
    },
    {
     "name": "stdout",
     "output_type": "stream",
     "text": [
      "\u001B[32m\u001B[22mNow parsing: Thyroid cancer...\u001B[0m\n"
     ]
    },
    {
     "name": "stderr",
     "output_type": "stream",
     "text": [
      "INFO:root:Parsing data/kgml_hsa/hsa04120.xml...\n"
     ]
    },
    {
     "name": "stdout",
     "output_type": "stream",
     "text": [
      "\u001B[32m\u001B[22mNow parsing: Ubiquitin mediated proteolysis...\u001B[0m\n",
      "\u001B[31m\u001B[1mERROR: File \"data/kgml_hsa/hsa04120.xml\" cannot be parsed.\n",
      "Visit https://www.kegg.jp/kegg-bin/show_pathway?hsa04120 for pathway details.\n",
      "There are likely no edges in which to parse...\u001B[0m\n"
     ]
    },
    {
     "name": "stderr",
     "output_type": "stream",
     "text": [
      "INFO:root:Parsing data/kgml_hsa/hsa04068.xml...\n"
     ]
    },
    {
     "name": "stdout",
     "output_type": "stream",
     "text": [
      "\u001B[32m\u001B[22mNow parsing: FoxO signaling pathway...\u001B[0m\n"
     ]
    },
    {
     "name": "stderr",
     "output_type": "stream",
     "text": [
      "INFO:root:Parsing data/kgml_hsa/hsa05410.xml...\n"
     ]
    },
    {
     "name": "stdout",
     "output_type": "stream",
     "text": [
      "\u001B[32m\u001B[22mNow parsing: Hypertrophic cardiomyopathy...\u001B[0m\n"
     ]
    },
    {
     "name": "stderr",
     "output_type": "stream",
     "text": [
      "INFO:root:Parsing data/kgml_hsa/hsa00232.xml...\n"
     ]
    },
    {
     "name": "stdout",
     "output_type": "stream",
     "text": [
      "\u001B[32m\u001B[22mNow parsing: Caffeine metabolism...\u001B[0m\n"
     ]
    },
    {
     "name": "stderr",
     "output_type": "stream",
     "text": [
      "INFO:root:Parsing data/kgml_hsa/hsa04726.xml...\n"
     ]
    },
    {
     "name": "stdout",
     "output_type": "stream",
     "text": [
      "\u001B[32m\u001B[22mNow parsing: Serotonergic synapse...\u001B[0m\n"
     ]
    },
    {
     "name": "stderr",
     "output_type": "stream",
     "text": [
      "INFO:root:Parsing data/kgml_hsa/hsa04915.xml...\n"
     ]
    },
    {
     "name": "stdout",
     "output_type": "stream",
     "text": [
      "\u001B[32m\u001B[22mNow parsing: Estrogen signaling pathway...\u001B[0m\n"
     ]
    },
    {
     "name": "stderr",
     "output_type": "stream",
     "text": [
      "INFO:root:Parsing data/kgml_hsa/hsa04929.xml...\n"
     ]
    },
    {
     "name": "stdout",
     "output_type": "stream",
     "text": [
      "\u001B[32m\u001B[22mNow parsing: GnRH secretion...\u001B[0m\n",
      "\u001B[31m\u001B[1mERROR: File \"data/kgml_hsa/hsa04929.xml\" cannot be parsed.\n",
      "Visit https://www.kegg.jp/kegg-bin/show_pathway?hsa04929 for pathway details.\n",
      "There are likely no edges in which to parse...\u001B[0m\n"
     ]
    },
    {
     "name": "stderr",
     "output_type": "stream",
     "text": [
      "INFO:root:Parsing data/kgml_hsa/hsa05160.xml...\n"
     ]
    },
    {
     "name": "stdout",
     "output_type": "stream",
     "text": [
      "\u001B[32m\u001B[22mNow parsing: Hepatitis C...\u001B[0m\n"
     ]
    },
    {
     "name": "stderr",
     "output_type": "stream",
     "text": [
      "INFO:root:Parsing data/kgml_hsa/hsa04530.xml...\n"
     ]
    },
    {
     "name": "stdout",
     "output_type": "stream",
     "text": [
      "\u001B[32m\u001B[22mNow parsing: Tight junction...\u001B[0m\n"
     ]
    },
    {
     "name": "stderr",
     "output_type": "stream",
     "text": [
      "INFO:root:Parsing data/kgml_hsa/hsa00030.xml...\n"
     ]
    },
    {
     "name": "stdout",
     "output_type": "stream",
     "text": [
      "\u001B[32m\u001B[22mNow parsing: Pentose phosphate pathway...\u001B[0m\n"
     ]
    },
    {
     "name": "stderr",
     "output_type": "stream",
     "text": [
      "INFO:root:Parsing data/kgml_hsa/hsa00780.xml...\n"
     ]
    },
    {
     "name": "stdout",
     "output_type": "stream",
     "text": [
      "\u001B[32m\u001B[22mNow parsing: Biotin metabolism...\u001B[0m\n"
     ]
    },
    {
     "name": "stderr",
     "output_type": "stream",
     "text": [
      "INFO:root:Parsing data/kgml_hsa/hsa00970.xml...\n"
     ]
    },
    {
     "name": "stdout",
     "output_type": "stream",
     "text": [
      "\u001B[32m\u001B[22mNow parsing: Aminoacyl-tRNA biosynthesis...\u001B[0m\n"
     ]
    },
    {
     "name": "stderr",
     "output_type": "stream",
     "text": [
      "INFO:root:Parsing data/kgml_hsa/hsa05161.xml...\n"
     ]
    },
    {
     "name": "stdout",
     "output_type": "stream",
     "text": [
      "\u001B[32m\u001B[22mNow parsing: Hepatitis B...\u001B[0m\n"
     ]
    },
    {
     "name": "stderr",
     "output_type": "stream",
     "text": [
      "INFO:root:Parsing data/kgml_hsa/hsa04928.xml...\n"
     ]
    },
    {
     "name": "stdout",
     "output_type": "stream",
     "text": [
      "\u001B[32m\u001B[22mNow parsing: Parathyroid hormone synthesis, secretion and action...\u001B[0m\n"
     ]
    },
    {
     "name": "stderr",
     "output_type": "stream",
     "text": [
      "INFO:root:Parsing data/kgml_hsa/hsa04914.xml...\n"
     ]
    },
    {
     "name": "stdout",
     "output_type": "stream",
     "text": [
      "\u001B[32m\u001B[22mNow parsing: Progesterone-mediated oocyte maturation...\u001B[0m\n"
     ]
    },
    {
     "name": "stderr",
     "output_type": "stream",
     "text": [
      "INFO:root:Parsing data/kgml_hsa/hsa04727.xml...\n"
     ]
    },
    {
     "name": "stdout",
     "output_type": "stream",
     "text": [
      "\u001B[32m\u001B[22mNow parsing: GABAergic synapse...\u001B[0m\n"
     ]
    },
    {
     "name": "stderr",
     "output_type": "stream",
     "text": [
      "INFO:root:Parsing data/kgml_hsa/hsa03060.xml...\n"
     ]
    },
    {
     "name": "stdout",
     "output_type": "stream",
     "text": [
      "\u001B[32m\u001B[22mNow parsing: Protein export...\u001B[0m\n",
      "\u001B[31m\u001B[1mERROR: File \"data/kgml_hsa/hsa03060.xml\" cannot be parsed.\n",
      "Visit https://www.kegg.jp/kegg-bin/show_pathway?hsa03060 for pathway details.\n",
      "There are likely no edges in which to parse...\u001B[0m\n"
     ]
    },
    {
     "name": "stderr",
     "output_type": "stream",
     "text": [
      "INFO:root:Parsing data/kgml_hsa/hsa05217.xml...\n"
     ]
    },
    {
     "name": "stdout",
     "output_type": "stream",
     "text": [
      "\u001B[32m\u001B[22mNow parsing: Basal cell carcinoma...\u001B[0m\n"
     ]
    },
    {
     "name": "stderr",
     "output_type": "stream",
     "text": [
      "INFO:root:Parsing data/kgml_hsa/hsa05203.xml...\n"
     ]
    },
    {
     "name": "stdout",
     "output_type": "stream",
     "text": [
      "\u001B[32m\u001B[22mNow parsing: Viral carcinogenesis...\u001B[0m\n"
     ]
    },
    {
     "name": "stderr",
     "output_type": "stream",
     "text": [
      "INFO:root:Parsing data/kgml_hsa/hsa04350.xml...\n"
     ]
    },
    {
     "name": "stdout",
     "output_type": "stream",
     "text": [
      "\u001B[32m\u001B[22mNow parsing: TGF-beta signaling pathway...\u001B[0m\n"
     ]
    },
    {
     "name": "stderr",
     "output_type": "stream",
     "text": [
      "INFO:root:Parsing data/kgml_hsa/hsa00650.xml...\n"
     ]
    },
    {
     "name": "stdout",
     "output_type": "stream",
     "text": [
      "\u001B[32m\u001B[22mNow parsing: Butanoate metabolism...\u001B[0m\n"
     ]
    },
    {
     "name": "stderr",
     "output_type": "stream",
     "text": [
      "INFO:root:Parsing data/kgml_hsa/hsa01200.xml...\n"
     ]
    },
    {
     "name": "stdout",
     "output_type": "stream",
     "text": [
      "\u001B[32m\u001B[22mNow parsing: Carbon metabolism...\u001B[0m\n",
      "\u001B[31m\u001B[1mERROR: File \"data/kgml_hsa/hsa01200.xml\" cannot be parsed.\n",
      "Visit https://www.kegg.jp/kegg-bin/show_pathway?hsa01200 for pathway details.\n",
      "There are likely no edges in which to parse...\u001B[0m\n"
     ]
    },
    {
     "name": "stderr",
     "output_type": "stream",
     "text": [
      "INFO:root:Parsing data/kgml_hsa/hsa04146.xml...\n"
     ]
    },
    {
     "name": "stdout",
     "output_type": "stream",
     "text": [
      "\u001B[32m\u001B[22mNow parsing: Peroxisome...\u001B[0m\n",
      "\u001B[31m\u001B[1mERROR: File \"data/kgml_hsa/hsa04146.xml\" cannot be parsed.\n",
      "Visit https://www.kegg.jp/kegg-bin/show_pathway?hsa04146 for pathway details.\n",
      "There are likely no edges in which to parse...\u001B[0m\n"
     ]
    },
    {
     "name": "stderr",
     "output_type": "stream",
     "text": [
      "INFO:root:Parsing data/kgml_hsa/hsa04620.xml...\n"
     ]
    },
    {
     "name": "stdout",
     "output_type": "stream",
     "text": [
      "\u001B[32m\u001B[22mNow parsing: Toll-like receptor signaling pathway...\u001B[0m\n"
     ]
    },
    {
     "name": "stderr",
     "output_type": "stream",
     "text": [
      "INFO:root:Parsing data/kgml_hsa/hsa04152.xml...\n"
     ]
    },
    {
     "name": "stdout",
     "output_type": "stream",
     "text": [
      "\u001B[32m\u001B[22mNow parsing: AMPK signaling pathway...\u001B[0m\n"
     ]
    },
    {
     "name": "stderr",
     "output_type": "stream",
     "text": [
      "INFO:root:Parsing data/kgml_hsa/hsa00532.xml...\n"
     ]
    },
    {
     "name": "stdout",
     "output_type": "stream",
     "text": [
      "\u001B[32m\u001B[22mNow parsing: Glycosaminoglycan biosynthesis - chondroitin sulfate / dermatan sulfate...\u001B[0m\n"
     ]
    },
    {
     "name": "stderr",
     "output_type": "stream",
     "text": [
      "INFO:root:Parsing data/kgml_hsa/hsa04740.xml...\n"
     ]
    },
    {
     "name": "stdout",
     "output_type": "stream",
     "text": [
      "\u001B[32m\u001B[22mNow parsing: Olfactory transduction...\u001B[0m\n"
     ]
    },
    {
     "name": "stderr",
     "output_type": "stream",
     "text": [
      "INFO:root:Parsing data/kgml_hsa/hsa00240.xml...\n"
     ]
    },
    {
     "name": "stdout",
     "output_type": "stream",
     "text": [
      "\u001B[32m\u001B[22mNow parsing: Pyrimidine metabolism...\u001B[0m\n"
     ]
    },
    {
     "name": "stderr",
     "output_type": "stream",
     "text": [
      "INFO:root:Parsing data/kgml_hsa/hsa05310.xml...\n"
     ]
    },
    {
     "name": "stdout",
     "output_type": "stream",
     "text": [
      "\u001B[32m\u001B[22mNow parsing: Asthma...\u001B[0m\n"
     ]
    },
    {
     "name": "stderr",
     "output_type": "stream",
     "text": [
      "INFO:root:Parsing data/kgml_hsa/hsa03013.xml...\n"
     ]
    },
    {
     "name": "stdout",
     "output_type": "stream",
     "text": [
      "\u001B[32m\u001B[22mNow parsing: Nucleocytoplasmic transport...\u001B[0m\n",
      "\u001B[31m\u001B[1mERROR: File \"data/kgml_hsa/hsa03013.xml\" cannot be parsed.\n",
      "Visit https://www.kegg.jp/kegg-bin/show_pathway?hsa03013 for pathway details.\n",
      "There are likely no edges in which to parse...\u001B[0m\n"
     ]
    },
    {
     "name": "stderr",
     "output_type": "stream",
     "text": [
      "INFO:root:Parsing data/kgml_hsa/hsa04973.xml...\n"
     ]
    },
    {
     "name": "stdout",
     "output_type": "stream",
     "text": [
      "\u001B[32m\u001B[22mNow parsing: Carbohydrate digestion and absorption...\u001B[0m\n"
     ]
    },
    {
     "name": "stderr",
     "output_type": "stream",
     "text": [
      "INFO:root:Parsing data/kgml_hsa/hsa00730.xml...\n"
     ]
    },
    {
     "name": "stdout",
     "output_type": "stream",
     "text": [
      "\u001B[32m\u001B[22mNow parsing: Thiamine metabolism...\u001B[0m\n"
     ]
    },
    {
     "name": "stderr",
     "output_type": "stream",
     "text": [
      "INFO:root:Parsing data/kgml_hsa/hsa04218.xml...\n"
     ]
    },
    {
     "name": "stdout",
     "output_type": "stream",
     "text": [
      "\u001B[32m\u001B[22mNow parsing: Cellular senescence...\u001B[0m\n"
     ]
    },
    {
     "name": "stderr",
     "output_type": "stream",
     "text": [
      "INFO:root:Parsing data/kgml_hsa/hsa04966.xml...\n"
     ]
    },
    {
     "name": "stdout",
     "output_type": "stream",
     "text": [
      "\u001B[32m\u001B[22mNow parsing: Collecting duct acid secretion...\u001B[0m\n"
     ]
    },
    {
     "name": "stderr",
     "output_type": "stream",
     "text": [
      "INFO:root:Parsing data/kgml_hsa/hsa04972.xml...\n"
     ]
    },
    {
     "name": "stdout",
     "output_type": "stream",
     "text": [
      "\u001B[32m\u001B[22mNow parsing: Pancreatic secretion...\u001B[0m\n"
     ]
    },
    {
     "name": "stderr",
     "output_type": "stream",
     "text": [
      "INFO:root:Parsing data/kgml_hsa/hsa00533.xml...\n"
     ]
    },
    {
     "name": "stdout",
     "output_type": "stream",
     "text": [
      "\u001B[32m\u001B[22mNow parsing: Glycosaminoglycan biosynthesis - keratan sulfate...\u001B[0m\n",
      "\u001B[31m\u001B[1mERROR: File \"data/kgml_hsa/hsa00533.xml\" cannot be parsed.\n",
      "Visit https://www.kegg.jp/kegg-bin/show_pathway?hsa00533 for pathway details.\n",
      "There are likely no edges in which to parse...\u001B[0m\n"
     ]
    },
    {
     "name": "stderr",
     "output_type": "stream",
     "text": [
      "INFO:root:Parsing data/kgml_hsa/hsa04621.xml...\n"
     ]
    },
    {
     "name": "stdout",
     "output_type": "stream",
     "text": [
      "\u001B[32m\u001B[22mNow parsing: NOD-like receptor signaling pathway...\u001B[0m\n"
     ]
    },
    {
     "name": "stderr",
     "output_type": "stream",
     "text": [
      "INFO:root:Parsing data/kgml_hsa/hsa04392.xml...\n"
     ]
    },
    {
     "name": "stdout",
     "output_type": "stream",
     "text": [
      "\u001B[32m\u001B[22mNow parsing: Hippo signaling pathway - multiple species...\u001B[0m\n"
     ]
    },
    {
     "name": "stderr",
     "output_type": "stream",
     "text": [
      "INFO:root:Parsing data/kgml_hsa/hsa04390.xml...\n"
     ]
    },
    {
     "name": "stdout",
     "output_type": "stream",
     "text": [
      "\u001B[32m\u001B[22mNow parsing: Hippo signaling pathway...\u001B[0m\n"
     ]
    },
    {
     "name": "stderr",
     "output_type": "stream",
     "text": [
      "INFO:root:Parsing data/kgml_hsa/hsa00860.xml...\n"
     ]
    },
    {
     "name": "stdout",
     "output_type": "stream",
     "text": [
      "\u001B[32m\u001B[22mNow parsing: Porphyrin metabolism...\u001B[0m\n"
     ]
    },
    {
     "name": "stderr",
     "output_type": "stream",
     "text": [
      "INFO:root:Parsing data/kgml_hsa/hsa04151.xml...\n"
     ]
    },
    {
     "name": "stdout",
     "output_type": "stream",
     "text": [
      "\u001B[32m\u001B[22mNow parsing: PI3K-Akt signaling pathway...\u001B[0m\n"
     ]
    },
    {
     "name": "stderr",
     "output_type": "stream",
     "text": [
      "INFO:root:Parsing data/kgml_hsa/hsa04623.xml...\n"
     ]
    },
    {
     "name": "stdout",
     "output_type": "stream",
     "text": [
      "\u001B[32m\u001B[22mNow parsing: Cytosolic DNA-sensing pathway...\u001B[0m\n"
     ]
    },
    {
     "name": "stderr",
     "output_type": "stream",
     "text": [
      "INFO:root:Parsing data/kgml_hsa/hsa04145.xml...\n"
     ]
    },
    {
     "name": "stdout",
     "output_type": "stream",
     "text": [
      "\u001B[32m\u001B[22mNow parsing: Phagosome...\u001B[0m\n"
     ]
    },
    {
     "name": "stderr",
     "output_type": "stream",
     "text": [
      "INFO:root:Parsing data/kgml_hsa/hsa04810.xml...\n"
     ]
    },
    {
     "name": "stdout",
     "output_type": "stream",
     "text": [
      "\u001B[32m\u001B[22mNow parsing: Regulation of actin cytoskeleton...\u001B[0m\n"
     ]
    },
    {
     "name": "stderr",
     "output_type": "stream",
     "text": [
      "INFO:root:Parsing data/kgml_hsa/hsa00531.xml...\n"
     ]
    },
    {
     "name": "stdout",
     "output_type": "stream",
     "text": [
      "\u001B[32m\u001B[22mNow parsing: Glycosaminoglycan degradation...\u001B[0m\n"
     ]
    },
    {
     "name": "stderr",
     "output_type": "stream",
     "text": [
      "INFO:root:Parsing data/kgml_hsa/hsa03010.xml...\n"
     ]
    },
    {
     "name": "stdout",
     "output_type": "stream",
     "text": [
      "\u001B[32m\u001B[22mNow parsing: Ribosome...\u001B[0m\n",
      "\u001B[31m\u001B[1mERROR: File \"data/kgml_hsa/hsa03010.xml\" cannot be parsed.\n",
      "Visit https://www.kegg.jp/kegg-bin/show_pathway?hsa03010 for pathway details.\n",
      "There are likely no edges in which to parse...\u001B[0m\n"
     ]
    },
    {
     "name": "stderr",
     "output_type": "stream",
     "text": [
      "INFO:root:Parsing data/kgml_hsa/hsa00280.xml...\n"
     ]
    },
    {
     "name": "stdout",
     "output_type": "stream",
     "text": [
      "\u001B[32m\u001B[22mNow parsing: Valine, leucine and isoleucine degradation...\u001B[0m\n"
     ]
    },
    {
     "name": "stderr",
     "output_type": "stream",
     "text": [
      "INFO:root:Parsing data/kgml_hsa/hsa04964.xml...\n"
     ]
    },
    {
     "name": "stdout",
     "output_type": "stream",
     "text": [
      "\u001B[32m\u001B[22mNow parsing: Proximal tubule bicarbonate reclamation...\u001B[0m\n"
     ]
    },
    {
     "name": "stderr",
     "output_type": "stream",
     "text": [
      "INFO:root:Parsing data/kgml_hsa/hsa04970.xml...\n"
     ]
    },
    {
     "name": "stdout",
     "output_type": "stream",
     "text": [
      "\u001B[32m\u001B[22mNow parsing: Salivary secretion...\u001B[0m\n"
     ]
    },
    {
     "name": "stderr",
     "output_type": "stream",
     "text": [
      "INFO:root:Parsing data/kgml_hsa/hsa00900.xml...\n"
     ]
    },
    {
     "name": "stdout",
     "output_type": "stream",
     "text": [
      "\u001B[32m\u001B[22mNow parsing: Terpenoid backbone biosynthesis...\u001B[0m\n"
     ]
    },
    {
     "name": "stderr",
     "output_type": "stream",
     "text": [
      "INFO:root:Parsing data/kgml_hsa/hsa05110.xml...\n"
     ]
    },
    {
     "name": "stdout",
     "output_type": "stream",
     "text": [
      "\u001B[32m\u001B[22mNow parsing: Vibrio cholerae infection...\u001B[0m\n"
     ]
    },
    {
     "name": "stderr",
     "output_type": "stream",
     "text": [
      "INFO:root:Parsing data/kgml_hsa/hsa04540.xml...\n"
     ]
    },
    {
     "name": "stdout",
     "output_type": "stream",
     "text": [
      "\u001B[32m\u001B[22mNow parsing: Gap junction...\u001B[0m\n"
     ]
    },
    {
     "name": "stderr",
     "output_type": "stream",
     "text": [
      "INFO:root:Parsing data/kgml_hsa/hsa00040.xml...\n"
     ]
    },
    {
     "name": "stdout",
     "output_type": "stream",
     "text": [
      "\u001B[32m\u001B[22mNow parsing: Pentose and glucuronate interconversions...\u001B[0m\n"
     ]
    },
    {
     "name": "stderr",
     "output_type": "stream",
     "text": [
      "INFO:root:Parsing data/kgml_hsa/hsa04971.xml...\n"
     ]
    },
    {
     "name": "stdout",
     "output_type": "stream",
     "text": [
      "\u001B[32m\u001B[22mNow parsing: Gastric acid secretion...\u001B[0m\n"
     ]
    },
    {
     "name": "stderr",
     "output_type": "stream",
     "text": [
      "INFO:root:Parsing data/kgml_hsa/hsa04024.xml...\n"
     ]
    },
    {
     "name": "stdout",
     "output_type": "stream",
     "text": [
      "\u001B[32m\u001B[22mNow parsing: cAMP signaling pathway...\u001B[0m\n"
     ]
    },
    {
     "name": "stderr",
     "output_type": "stream",
     "text": [
      "INFO:root:Parsing data/kgml_hsa/hsa04742.xml...\n"
     ]
    },
    {
     "name": "stdout",
     "output_type": "stream",
     "text": [
      "\u001B[32m\u001B[22mNow parsing: Taste transduction...\u001B[0m\n"
     ]
    },
    {
     "name": "stderr",
     "output_type": "stream",
     "text": [
      "INFO:root:Parsing data/kgml_hsa/hsa00524.xml...\n"
     ]
    },
    {
     "name": "stdout",
     "output_type": "stream",
     "text": [
      "\u001B[32m\u001B[22mNow parsing: Neomycin, kanamycin and gentamicin biosynthesis...\u001B[0m\n"
     ]
    },
    {
     "ename": "ValueError",
     "evalue": "input dataframe does not contain data to parse!",
     "output_type": "error",
     "traceback": [
      "\u001B[0;31m---------------------------------------------------------------------------\u001B[0m",
      "\u001B[0;31mValueError\u001B[0m                                Traceback (most recent call last)",
      "Cell \u001B[0;32mIn[3], line 3\u001B[0m\n\u001B[1;32m      1\u001B[0m \u001B[38;5;66;03m# Parse data into MPI network\u001B[39;00m\n\u001B[0;32m----> 3\u001B[0m \u001B[43mKAMPING\u001B[49m\u001B[38;5;241;43m.\u001B[39;49m\u001B[43mmain\u001B[49m\u001B[38;5;241;43m.\u001B[39;49m\u001B[43mnetwork\u001B[49m\u001B[43m(\u001B[49m\u001B[43minput_data\u001B[49m\u001B[38;5;241;43m=\u001B[39;49m\u001B[38;5;124;43m'\u001B[39;49m\u001B[38;5;124;43mdata/kgml_hsa\u001B[39;49m\u001B[38;5;124;43m'\u001B[39;49m\u001B[43m,\u001B[49m\u001B[43m \u001B[49m\u001B[43mout_dir\u001B[49m\u001B[38;5;241;43m=\u001B[39;49m\u001B[38;5;124;43m'\u001B[39;49m\u001B[38;5;124;43mdata/converted\u001B[39;49m\u001B[38;5;124;43m'\u001B[39;49m\u001B[43m,\u001B[49m\u001B[43m \u001B[49m\u001B[38;5;28;43mtype\u001B[39;49m\u001B[38;5;241;43m=\u001B[39;49m\u001B[38;5;124;43m'\u001B[39;49m\u001B[38;5;124;43mMPI\u001B[39;49m\u001B[38;5;124;43m'\u001B[39;49m\u001B[43m,\u001B[49m\u001B[43m \u001B[49m\u001B[43munique\u001B[49m\u001B[38;5;241;43m=\u001B[39;49m\u001B[38;5;28;43;01mFalse\u001B[39;49;00m\u001B[43m,\u001B[49m\u001B[43m \u001B[49m\u001B[43mid_conversion\u001B[49m\u001B[38;5;241;43m=\u001B[39;49m\u001B[38;5;124;43m'\u001B[39;49m\u001B[38;5;124;43muniprot\u001B[39;49m\u001B[38;5;124;43m'\u001B[39;49m\u001B[43m)\u001B[49m\n",
      "File \u001B[0;32m~/Documents/experiments/knext/KAMPING/main.py:71\u001B[0m, in \u001B[0;36mnetwork\u001B[0;34m(input_data, type, id_conversion, unique, out_dir, verbose)\u001B[0m\n\u001B[1;32m     66\u001B[0m \u001B[38;5;28;01mtry\u001B[39;00m:\n\u001B[1;32m     67\u001B[0m     logging\u001B[38;5;241m.\u001B[39minfo(\u001B[38;5;124mf\u001B[39m\u001B[38;5;124m'\u001B[39m\u001B[38;5;124mParsing \u001B[39m\u001B[38;5;132;01m{\u001B[39;00mfile\u001B[38;5;132;01m}\u001B[39;00m\u001B[38;5;124m...\u001B[39m\u001B[38;5;124m'\u001B[39m)\n\u001B[1;32m     68\u001B[0m     gip \u001B[38;5;241m=\u001B[39m InteractionParser(\u001B[38;5;28mtype\u001B[39m\u001B[38;5;241m=\u001B[39m\u001B[38;5;28mtype\u001B[39m, input_data\u001B[38;5;241m=\u001B[39mfile,\n\u001B[1;32m     69\u001B[0m                             id_conversion\u001B[38;5;241m=\u001B[39mid_conversion,\n\u001B[1;32m     70\u001B[0m                             unique\u001B[38;5;241m=\u001B[39munique,\n\u001B[0;32m---> 71\u001B[0m                             verbose\u001B[38;5;241m=\u001B[39mverbose)\n\u001B[1;32m     72\u001B[0m     df_out \u001B[38;5;241m=\u001B[39m gip\u001B[38;5;241m.\u001B[39mparse_file()\n\u001B[1;32m     73\u001B[0m     df_out\u001B[38;5;241m.\u001B[39mto_csv(out_dir \u001B[38;5;241m/\u001B[39m \u001B[38;5;124mf\u001B[39m\u001B[38;5;124m'\u001B[39m\u001B[38;5;132;01m{\u001B[39;00mfile\u001B[38;5;241m.\u001B[39mstem\u001B[38;5;132;01m}\u001B[39;00m\u001B[38;5;124m.tsv\u001B[39m\u001B[38;5;124m'\u001B[39m, sep\u001B[38;5;241m=\u001B[39m\u001B[38;5;124m'\u001B[39m\u001B[38;5;130;01m\\t\u001B[39;00m\u001B[38;5;124m'\u001B[39m, index\u001B[38;5;241m=\u001B[39m\u001B[38;5;28;01mFalse\u001B[39;00m)\n",
      "File \u001B[0;32m~/Documents/experiments/knext/KAMPING/kegg_parser/network.py:208\u001B[0m, in \u001B[0;36mInteractionParser.parse_file\u001B[0;34m(self)\u001B[0m\n\u001B[1;32m    206\u001B[0m     \u001B[38;5;28;01mif\u001B[39;00m \u001B[38;5;28mself\u001B[39m\u001B[38;5;241m.\u001B[39mtype \u001B[38;5;241m==\u001B[39m \u001B[38;5;124m'\u001B[39m\u001B[38;5;124mMPI\u001B[39m\u001B[38;5;124m'\u001B[39m:\n\u001B[1;32m    207\u001B[0m         MPI_parser \u001B[38;5;241m=\u001B[39m protein_metabolite_parser\u001B[38;5;241m.\u001B[39mProteinMetabliteParser(keep_PPI\u001B[38;5;241m=\u001B[39m\u001B[38;5;28;01mTrue\u001B[39;00m)\n\u001B[0;32m--> 208\u001B[0m         df \u001B[38;5;241m=\u001B[39m \u001B[43mMPI_parser\u001B[49m\u001B[38;5;241;43m.\u001B[39;49m\u001B[43mparse_dataframe\u001B[49m\u001B[43m(\u001B[49m\u001B[43mdf\u001B[49m\u001B[43m)\u001B[49m\n\u001B[1;32m    209\u001B[0m \u001B[38;5;28;01melif\u001B[39;00m \u001B[38;5;28mself\u001B[39m\u001B[38;5;241m.\u001B[39mtype \u001B[38;5;241m==\u001B[39m \u001B[38;5;124m'\u001B[39m\u001B[38;5;124moriginal\u001B[39m\u001B[38;5;124m'\u001B[39m:\n\u001B[1;32m    210\u001B[0m     \u001B[38;5;28;01mpass\u001B[39;00m\n",
      "File \u001B[0;32m~/Documents/experiments/knext/KAMPING/kegg_parser/protein_metabolite_parser.py:31\u001B[0m, in \u001B[0;36mProteinMetabliteParser.parse_dataframe\u001B[0;34m(self, df)\u001B[0m\n\u001B[1;32m     28\u001B[0m \u001B[38;5;66;03m# if row number greater than 0:\u001B[39;00m\n\u001B[1;32m     29\u001B[0m \u001B[38;5;28;01mif\u001B[39;00m (df\u001B[38;5;241m.\u001B[39mshape[\u001B[38;5;241m0\u001B[39m]) \u001B[38;5;241m==\u001B[39m \u001B[38;5;241m0\u001B[39m:\n\u001B[1;32m     30\u001B[0m     \u001B[38;5;66;03m# throw an error\u001B[39;00m\n\u001B[0;32m---> 31\u001B[0m     \u001B[38;5;28;01mraise\u001B[39;00m \u001B[38;5;167;01mValueError\u001B[39;00m(\u001B[38;5;124mf\u001B[39m\u001B[38;5;124m'\u001B[39m\u001B[38;5;124minput dataframe does not contain data to parse!\u001B[39m\u001B[38;5;124m'\u001B[39m)\n\u001B[1;32m     33\u001B[0m \u001B[38;5;66;03m# expand the relation in the DataFrame\u001B[39;00m\n\u001B[1;32m     34\u001B[0m \u001B[38;5;66;03m# create an empty dataframe\u001B[39;00m\n\u001B[1;32m     35\u001B[0m new_df \u001B[38;5;241m=\u001B[39m pd\u001B[38;5;241m.\u001B[39mDataFrame()\n",
      "\u001B[0;31mValueError\u001B[0m: input dataframe does not contain data to parse!"
     ]
    }
   ],
   "source": [
    "# Parse data into MPI network\n",
    "\n",
    "KAMPING.main.network(input_data='data/kgml_hsa', out_dir='data/converted', type='MPI', unique=False, id_conversion='uniprot')"
   ],
   "metadata": {
    "collapsed": false,
    "ExecuteTime": {
     "end_time": "2024-10-04T03:23:31.711349Z",
     "start_time": "2024-10-04T03:10:50.242697Z"
    }
   },
   "id": "6edbcdd02f8ea113",
   "execution_count": 3
  },
  {
   "cell_type": "code",
   "outputs": [],
   "source": [],
   "metadata": {
    "collapsed": false
   },
   "id": "f596efbe50482946"
  }
 ],
 "metadata": {
  "kernelspec": {
   "display_name": "Python 3",
   "language": "python",
   "name": "python3"
  },
  "language_info": {
   "codemirror_mode": {
    "name": "ipython",
    "version": 2
   },
   "file_extension": ".py",
   "mimetype": "text/x-python",
   "name": "python",
   "nbconvert_exporter": "python",
   "pygments_lexer": "ipython2",
   "version": "2.7.6"
  }
 },
 "nbformat": 4,
 "nbformat_minor": 5
}
