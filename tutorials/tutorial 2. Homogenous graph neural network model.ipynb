{
 "cells": [
  {
   "cell_type": "markdown",
   "source": [
    "# KAMPING Tutorial 2. Homogenous Graph neural network modeling"
   ],
   "metadata": {
    "collapsed": false
   },
   "id": "6d91b7b992ca896d"
  },
  {
   "cell_type": "markdown",
   "source": [
    "Date created: 2024-10-25"
   ],
   "metadata": {
    "collapsed": false
   },
   "id": "9e3fb98dc46f0334"
  },
  {
   "cell_type": "code",
   "outputs": [
    {
     "name": "stdout",
     "output_type": "stream",
     "text": [
      "The autoreload extension is already loaded. To reload it, use:\n",
      "  %reload_ext autoreload\n"
     ]
    }
   ],
   "source": [
    "# Import kamping library before starting the tutorial\n",
    "import kamping\n",
    "\n",
    "%load_ext autoreload\n",
    "%autoreload 2"
   ],
   "metadata": {
    "collapsed": false,
    "ExecuteTime": {
     "end_time": "2024-12-13T21:37:22.120969Z",
     "start_time": "2024-12-13T21:37:22.067257Z"
    }
   },
   "id": "7ff51fe84f013c52",
   "execution_count": 54
  },
  {
   "cell_type": "markdown",
   "source": [
    "flak## 1. Create a list of KeggGraph objects from a directory with KGML files"
   ],
   "metadata": {
    "collapsed": false
   },
   "id": "cdb254ecc4419a93"
  },
  {
   "cell_type": "code",
   "outputs": [],
   "source": [],
   "metadata": {
    "collapsed": false,
    "ExecuteTime": {
     "end_time": "2024-12-13T20:20:41.467482Z",
     "start_time": "2024-12-13T20:20:41.465896Z"
    }
   },
   "id": "8bc1f0d299ead605",
   "execution_count": 2
  },
  {
   "cell_type": "markdown",
   "source": [
    "In the previous tutorial we have shown how to use parse information from a single KGML file into KeggGraph object for storing information in a easily-access way. In this tutorial, we will show you how to dataset can be used in one of the most popular graph-machine learning package \"pytorch-geometric\" through provided utility function with ease."
   ],
   "metadata": {
    "collapsed": false
   },
   "id": "49e301ea4637f011"
  },
  {
   "cell_type": "markdown",
   "source": [
    "Machine-learning graph model also use data contains more than one graphs, you can use `kamping.create_graphs` function to create a list of KeggGraph objects from a directory with KGML files."
   ],
   "metadata": {
    "collapsed": false
   },
   "id": "29a4fa4c0f57f6cc"
  },
  {
   "cell_type": "markdown",
   "source": [
    "In this tutorial we target the homogenous graph, which is defined only have one type of nodes in a graph. In our case, a homogenous graph is a \"gene-only\" graph or \"metbaolite-only\" graph. Training on Homogenous graph is easy to understand, which is the reason why we start from here. Later, we will show you KAMPING can also convert heterogenous graph in a similar way with just a littble bit extra effort. "
   ],
   "metadata": {
    "collapsed": false
   },
   "id": "f90cb5133ab554d9"
  },
  {
   "cell_type": "code",
   "outputs": [
    {
     "name": "stderr",
     "output_type": "stream",
     "text": [
      "WARNING:root:ERROR: File \"../data/kgml_hsa/hsa00190.xml\" cannot be parsed.\n",
      "\n",
      "            Visit https://www.kegg.jp/kegg-bin/show_pathway?hsa00190 for pathway details.\n",
      "\n",
      "            There are likely no edges in which to parse...\n",
      "INFO:KeggGraph:Now parsing: path:hsa00220...\n",
      "INFO:KeggGraph:Graph path:hsa00220 parsed successfully!\n",
      "INFO:KeggGraph:Now parsing: path:hsa00230...\n",
      "INFO:KeggGraph:Graph path:hsa00230 parsed successfully!\n",
      "INFO:KeggGraph:Now parsing: path:hsa00232...\n",
      "INFO:KeggGraph:Graph path:hsa00232 parsed successfully!\n",
      "INFO:KeggGraph:Now parsing: path:hsa00240...\n",
      "INFO:KeggGraph:Graph path:hsa00240 parsed successfully!\n",
      "INFO:KeggGraph:Now parsing: path:hsa00250...\n",
      "INFO:KeggGraph:Graph path:hsa00250 parsed successfully!\n",
      "INFO:KeggGraph:Now parsing: path:hsa00260...\n",
      "INFO:KeggGraph:Graph path:hsa00260 parsed successfully!\n",
      "INFO:KeggGraph:Now parsing: path:hsa00270...\n",
      "INFO:KeggGraph:Graph path:hsa00270 parsed successfully!\n",
      "INFO:KeggGraph:Now parsing: path:hsa00280...\n",
      "INFO:KeggGraph:Graph path:hsa00280 parsed successfully!\n",
      "INFO:KeggGraph:Now parsing: path:hsa00290...\n",
      "WARNING:root:ERROR: File \"../data/kgml_hsa/hsa00290.xml\" cannot be parsed.\n",
      "\n",
      "            Visit https://www.kegg.jp/kegg-bin/show_pathway?hsa00290 for pathway details.\n",
      "\n",
      "            There are likely no edges in which to parse...\n",
      "INFO:KeggGraph:Now parsing: path:hsa00310...\n",
      "INFO:KeggGraph:Graph path:hsa00310 parsed successfully!\n",
      "INFO:KeggGraph:Now parsing: path:hsa00330...\n",
      "INFO:KeggGraph:Graph path:hsa00330 parsed successfully!\n",
      "INFO:KeggGraph:Now parsing: path:hsa00340...\n",
      "INFO:KeggGraph:Graph path:hsa00340 parsed successfully!\n",
      "INFO:KeggGraph:Now parsing: path:hsa00350...\n",
      "INFO:KeggGraph:Graph path:hsa00350 parsed successfully!\n",
      "INFO:KeggGraph:Now parsing: path:hsa00360...\n",
      "INFO:KeggGraph:Graph path:hsa00360 parsed successfully!\n",
      "INFO:KeggGraph:Now parsing: path:hsa00380...\n",
      "INFO:KeggGraph:Graph path:hsa00380 parsed successfully!\n",
      "INFO:KeggGraph:Now parsing: path:hsa00400...\n",
      "INFO:KeggGraph:Graph path:hsa00400 parsed successfully!\n",
      "INFO:KeggGraph:Now parsing: path:hsa00410...\n",
      "INFO:KeggGraph:Graph path:hsa00410 parsed successfully!\n",
      "INFO:KeggGraph:Now parsing: path:hsa00430...\n",
      "INFO:KeggGraph:Graph path:hsa00430 parsed successfully!\n",
      "INFO:KeggGraph:Now parsing: path:hsa00440...\n",
      "INFO:KeggGraph:Graph path:hsa00440 parsed successfully!\n",
      "INFO:KeggGraph:Now parsing: path:hsa00450...\n",
      "INFO:KeggGraph:Graph path:hsa00450 parsed successfully!\n",
      "INFO:KeggGraph:Now parsing: path:hsa00470...\n",
      "INFO:KeggGraph:Graph path:hsa00470 parsed successfully!\n",
      "INFO:KeggGraph:Now parsing: path:hsa00480...\n",
      "INFO:KeggGraph:Graph path:hsa00480 parsed successfully!\n",
      "INFO:KeggGraph:Now parsing: path:hsa00500...\n",
      "INFO:KeggGraph:Graph path:hsa00500 parsed successfully!\n",
      "INFO:KeggGraph:Now parsing: path:hsa00510...\n",
      "INFO:KeggGraph:Graph path:hsa00510 parsed successfully!\n",
      "INFO:KeggGraph:Now parsing: path:hsa00511...\n",
      "WARNING:root:ERROR: File \"../data/kgml_hsa/hsa00511.xml\" cannot be parsed.\n",
      "\n",
      "            Visit https://www.kegg.jp/kegg-bin/show_pathway?hsa00511 for pathway details.\n",
      "\n",
      "            There are likely no edges in which to parse...\n",
      "INFO:KeggGraph:Now parsing: path:hsa00512...\n",
      "INFO:KeggGraph:Graph path:hsa00512 parsed successfully!\n",
      "INFO:KeggGraph:Now parsing: path:hsa00513...\n",
      "INFO:KeggGraph:Graph path:hsa00513 parsed successfully!\n",
      "INFO:KeggGraph:Now parsing: path:hsa00514...\n",
      "WARNING:root:ERROR: File \"../data/kgml_hsa/hsa00514.xml\" cannot be parsed.\n",
      "\n",
      "            Visit https://www.kegg.jp/kegg-bin/show_pathway?hsa00514 for pathway details.\n",
      "\n",
      "            There are likely no edges in which to parse...\n",
      "INFO:KeggGraph:Now parsing: path:hsa00515...\n",
      "INFO:KeggGraph:Graph path:hsa00515 parsed successfully!\n",
      "INFO:KeggGraph:Now parsing: path:hsa00520...\n",
      "INFO:KeggGraph:Graph path:hsa00520 parsed successfully!\n",
      "INFO:KeggGraph:Now parsing: path:hsa00524...\n",
      "WARNING:root:ERROR: File \"../data/kgml_hsa/hsa00524.xml\" cannot be parsed.\n",
      "\n",
      "            Visit https://www.kegg.jp/kegg-bin/show_pathway?hsa00524 for pathway details.\n",
      "\n",
      "            There are likely no edges in which to parse...\n",
      "INFO:KeggGraph:Now parsing: path:hsa00531...\n",
      "INFO:KeggGraph:Graph path:hsa00531 parsed successfully!\n",
      "INFO:KeggGraph:Now parsing: path:hsa00532...\n",
      "INFO:KeggGraph:Graph path:hsa00532 parsed successfully!\n",
      "INFO:KeggGraph:Now parsing: path:hsa00533...\n",
      "WARNING:root:ERROR: File \"../data/kgml_hsa/hsa00533.xml\" cannot be parsed.\n",
      "\n",
      "            Visit https://www.kegg.jp/kegg-bin/show_pathway?hsa00533 for pathway details.\n",
      "\n",
      "            There are likely no edges in which to parse...\n",
      "INFO:KeggGraph:Now parsing: path:hsa00534...\n",
      "INFO:KeggGraph:Graph path:hsa00534 parsed successfully!\n",
      "INFO:KeggGraph:Now parsing: path:hsa00561...\n",
      "INFO:KeggGraph:Graph path:hsa00561 parsed successfully!\n",
      "INFO:KeggGraph:Now parsing: path:hsa00562...\n",
      "INFO:KeggGraph:Graph path:hsa00562 parsed successfully!\n",
      "INFO:KeggGraph:Now parsing: path:hsa00563...\n",
      "INFO:KeggGraph:Graph path:hsa00563 parsed successfully!\n",
      "INFO:KeggGraph:Now parsing: path:hsa00564...\n",
      "INFO:KeggGraph:Graph path:hsa00564 parsed successfully!\n",
      "INFO:KeggGraph:Now parsing: path:hsa00565...\n",
      "INFO:KeggGraph:Graph path:hsa00565 parsed successfully!\n",
      "INFO:KeggGraph:Now parsing: path:hsa00590...\n",
      "INFO:KeggGraph:Graph path:hsa00590 parsed successfully!\n",
      "INFO:KeggGraph:Now parsing: path:hsa00591...\n",
      "INFO:KeggGraph:Graph path:hsa00591 parsed successfully!\n",
      "INFO:KeggGraph:Now parsing: path:hsa00592...\n",
      "INFO:KeggGraph:Graph path:hsa00592 parsed successfully!\n",
      "INFO:KeggGraph:Now parsing: path:hsa00600...\n",
      "INFO:KeggGraph:Graph path:hsa00600 parsed successfully!\n",
      "INFO:KeggGraph:Now parsing: path:hsa00601...\n",
      "INFO:KeggGraph:Graph path:hsa00601 parsed successfully!\n",
      "INFO:KeggGraph:Now parsing: path:hsa00603...\n",
      "INFO:KeggGraph:Graph path:hsa00603 parsed successfully!\n",
      "INFO:KeggGraph:Now parsing: path:hsa00604...\n",
      "INFO:KeggGraph:Graph path:hsa00604 parsed successfully!\n",
      "INFO:KeggGraph:Now parsing: path:hsa00620...\n",
      "INFO:KeggGraph:Graph path:hsa00620 parsed successfully!\n",
      "INFO:KeggGraph:Now parsing: path:hsa00630...\n",
      "INFO:KeggGraph:Graph path:hsa00630 parsed successfully!\n",
      "INFO:KeggGraph:Now parsing: path:hsa00640...\n",
      "INFO:KeggGraph:Graph path:hsa00640 parsed successfully!\n",
      "INFO:KeggGraph:Now parsing: path:hsa00650...\n",
      "INFO:KeggGraph:Graph path:hsa00650 parsed successfully!\n",
      "INFO:KeggGraph:Now parsing: path:hsa00670...\n",
      "INFO:KeggGraph:Graph path:hsa00670 parsed successfully!\n",
      "INFO:KeggGraph:Now parsing: path:hsa00730...\n",
      "INFO:KeggGraph:Graph path:hsa00730 parsed successfully!\n",
      "INFO:KeggGraph:Now parsing: path:hsa00740...\n",
      "INFO:KeggGraph:Graph path:hsa00740 parsed successfully!\n",
      "INFO:KeggGraph:Now parsing: path:hsa00750...\n",
      "INFO:KeggGraph:Graph path:hsa00750 parsed successfully!\n",
      "INFO:KeggGraph:Now parsing: path:hsa00760...\n",
      "INFO:KeggGraph:Graph path:hsa00760 parsed successfully!\n",
      "INFO:KeggGraph:Now parsing: path:hsa00770...\n",
      "INFO:KeggGraph:Graph path:hsa00770 parsed successfully!\n",
      "INFO:KeggGraph:Now parsing: path:hsa00780...\n",
      "INFO:KeggGraph:Graph path:hsa00780 parsed successfully!\n",
      "INFO:KeggGraph:Now parsing: path:hsa00785...\n",
      "INFO:KeggGraph:Graph path:hsa00785 parsed successfully!\n",
      "INFO:KeggGraph:Now parsing: path:hsa00790...\n",
      "INFO:KeggGraph:Graph path:hsa00790 parsed successfully!\n",
      "INFO:KeggGraph:Now parsing: path:hsa00830...\n",
      "INFO:KeggGraph:Graph path:hsa00830 parsed successfully!\n",
      "INFO:KeggGraph:Now parsing: path:hsa00860...\n",
      "INFO:KeggGraph:Graph path:hsa00860 parsed successfully!\n",
      "INFO:KeggGraph:Now parsing: path:hsa00900...\n",
      "INFO:KeggGraph:Graph path:hsa00900 parsed successfully!\n",
      "INFO:KeggGraph:Now parsing: path:hsa00910...\n",
      "INFO:KeggGraph:Graph path:hsa00910 parsed successfully!\n",
      "INFO:KeggGraph:Now parsing: path:hsa00920...\n",
      "INFO:KeggGraph:Graph path:hsa00920 parsed successfully!\n",
      "INFO:KeggGraph:Now parsing: path:hsa00970...\n",
      "INFO:KeggGraph:Graph path:hsa00970 parsed successfully!\n",
      "INFO:KeggGraph:Now parsing: path:hsa00980...\n",
      "INFO:KeggGraph:Graph path:hsa00980 parsed successfully!\n",
      "INFO:KeggGraph:Now parsing: path:hsa00982...\n",
      "INFO:KeggGraph:Graph path:hsa00982 parsed successfully!\n",
      "INFO:KeggGraph:Now parsing: path:hsa00983...\n",
      "INFO:KeggGraph:Graph path:hsa00983 parsed successfully!\n",
      "INFO:KeggGraph:Now parsing: path:hsa01040...\n",
      "INFO:KeggGraph:Graph path:hsa01040 parsed successfully!\n",
      "INFO:KeggGraph:Now parsing: path:hsa01200...\n",
      "INFO:KeggGraph:Graph path:hsa01200 parsed successfully!\n",
      "INFO:KeggGraph:Now parsing: path:hsa01210...\n",
      "INFO:KeggGraph:Graph path:hsa01210 parsed successfully!\n",
      "INFO:KeggGraph:Now parsing: path:hsa01212...\n",
      "INFO:KeggGraph:Graph path:hsa01212 parsed successfully!\n",
      "INFO:KeggGraph:Now parsing: path:hsa01230...\n",
      "INFO:KeggGraph:Graph path:hsa01230 parsed successfully!\n",
      "INFO:KeggGraph:Now parsing: path:hsa01232...\n",
      "INFO:KeggGraph:Graph path:hsa01232 parsed successfully!\n",
      "INFO:KeggGraph:Now parsing: path:hsa01240...\n",
      "INFO:KeggGraph:Graph path:hsa01240 parsed successfully!\n",
      "INFO:KeggGraph:Now parsing: path:hsa01250...\n",
      "INFO:KeggGraph:Graph path:hsa01250 parsed successfully!\n",
      "INFO:KeggGraph:Now parsing: path:hsa01521...\n",
      "INFO:KeggGraph:Graph path:hsa01521 parsed successfully!\n",
      "INFO:KeggGraph:Now parsing: path:hsa01522...\n",
      "INFO:KeggGraph:Graph path:hsa01522 parsed successfully!\n",
      "INFO:KeggGraph:Now parsing: path:hsa01523...\n",
      "INFO:KeggGraph:Graph path:hsa01523 parsed successfully!\n",
      "INFO:KeggGraph:Now parsing: path:hsa01524...\n",
      "INFO:KeggGraph:Graph path:hsa01524 parsed successfully!\n",
      "INFO:KeggGraph:Now parsing: path:hsa02010...\n",
      "WARNING:root:ERROR: File \"../data/kgml_hsa/hsa02010.xml\" cannot be parsed.\n",
      "\n",
      "            Visit https://www.kegg.jp/kegg-bin/show_pathway?hsa02010 for pathway details.\n",
      "\n",
      "            There are likely no edges in which to parse...\n",
      "INFO:KeggGraph:Now parsing: path:hsa03008...\n",
      "WARNING:root:ERROR: File \"../data/kgml_hsa/hsa03008.xml\" cannot be parsed.\n",
      "\n",
      "            Visit https://www.kegg.jp/kegg-bin/show_pathway?hsa03008 for pathway details.\n",
      "\n",
      "            There are likely no edges in which to parse...\n",
      "INFO:KeggGraph:Now parsing: path:hsa03010...\n",
      "WARNING:root:ERROR: File \"../data/kgml_hsa/hsa03010.xml\" cannot be parsed.\n",
      "\n",
      "            Visit https://www.kegg.jp/kegg-bin/show_pathway?hsa03010 for pathway details.\n",
      "\n",
      "            There are likely no edges in which to parse...\n",
      "INFO:KeggGraph:Now parsing: path:hsa03013...\n",
      "WARNING:root:ERROR: File \"../data/kgml_hsa/hsa03013.xml\" cannot be parsed.\n",
      "\n",
      "            Visit https://www.kegg.jp/kegg-bin/show_pathway?hsa03013 for pathway details.\n",
      "\n",
      "            There are likely no edges in which to parse...\n",
      "INFO:KeggGraph:Now parsing: path:hsa03015...\n",
      "INFO:KeggGraph:Graph path:hsa03015 parsed successfully!\n",
      "INFO:KeggGraph:Now parsing: path:hsa03018...\n",
      "INFO:KeggGraph:Graph path:hsa03018 parsed successfully!\n",
      "INFO:KeggGraph:Now parsing: path:hsa03020...\n",
      "WARNING:root:ERROR: File \"../data/kgml_hsa/hsa03020.xml\" cannot be parsed.\n",
      "\n",
      "            Visit https://www.kegg.jp/kegg-bin/show_pathway?hsa03020 for pathway details.\n",
      "\n",
      "            There are likely no edges in which to parse...\n",
      "INFO:KeggGraph:Now parsing: path:hsa03022...\n",
      "WARNING:root:ERROR: File \"../data/kgml_hsa/hsa03022.xml\" cannot be parsed.\n",
      "\n",
      "            Visit https://www.kegg.jp/kegg-bin/show_pathway?hsa03022 for pathway details.\n",
      "\n",
      "            There are likely no edges in which to parse...\n",
      "INFO:KeggGraph:Now parsing: path:hsa03030...\n",
      "WARNING:root:ERROR: File \"../data/kgml_hsa/hsa03030.xml\" cannot be parsed.\n",
      "\n",
      "            Visit https://www.kegg.jp/kegg-bin/show_pathway?hsa03030 for pathway details.\n",
      "\n",
      "            There are likely no edges in which to parse...\n",
      "INFO:KeggGraph:Now parsing: path:hsa03040...\n",
      "WARNING:root:ERROR: File \"../data/kgml_hsa/hsa03040.xml\" cannot be parsed.\n",
      "\n",
      "            Visit https://www.kegg.jp/kegg-bin/show_pathway?hsa03040 for pathway details.\n",
      "\n",
      "            There are likely no edges in which to parse...\n",
      "INFO:KeggGraph:Now parsing: path:hsa03050...\n",
      "WARNING:root:ERROR: File \"../data/kgml_hsa/hsa03050.xml\" cannot be parsed.\n",
      "\n",
      "            Visit https://www.kegg.jp/kegg-bin/show_pathway?hsa03050 for pathway details.\n",
      "\n",
      "            There are likely no edges in which to parse...\n",
      "INFO:KeggGraph:Now parsing: path:hsa03060...\n",
      "WARNING:root:ERROR: File \"../data/kgml_hsa/hsa03060.xml\" cannot be parsed.\n",
      "\n",
      "            Visit https://www.kegg.jp/kegg-bin/show_pathway?hsa03060 for pathway details.\n",
      "\n",
      "            There are likely no edges in which to parse...\n",
      "INFO:KeggGraph:Now parsing: path:hsa03082...\n",
      "WARNING:root:ERROR: File \"../data/kgml_hsa/hsa03082.xml\" cannot be parsed.\n",
      "\n",
      "            Visit https://www.kegg.jp/kegg-bin/show_pathway?hsa03082 for pathway details.\n",
      "\n",
      "            There are likely no edges in which to parse...\n",
      "INFO:KeggGraph:Now parsing: path:hsa03083...\n",
      "WARNING:root:ERROR: File \"../data/kgml_hsa/hsa03083.xml\" cannot be parsed.\n",
      "\n",
      "            Visit https://www.kegg.jp/kegg-bin/show_pathway?hsa03083 for pathway details.\n",
      "\n",
      "            There are likely no edges in which to parse...\n",
      "INFO:KeggGraph:Now parsing: path:hsa03250...\n",
      "INFO:KeggGraph:Graph path:hsa03250 parsed successfully!\n",
      "INFO:KeggGraph:Now parsing: path:hsa03260...\n",
      "WARNING:root:ERROR: File \"../data/kgml_hsa/hsa03260.xml\" cannot be parsed.\n",
      "\n",
      "            Visit https://www.kegg.jp/kegg-bin/show_pathway?hsa03260 for pathway details.\n",
      "\n",
      "            There are likely no edges in which to parse...\n",
      "INFO:KeggGraph:Now parsing: path:hsa03264...\n",
      "WARNING:root:ERROR: File \"../data/kgml_hsa/hsa03264.xml\" cannot be parsed.\n",
      "\n",
      "            Visit https://www.kegg.jp/kegg-bin/show_pathway?hsa03264 for pathway details.\n",
      "\n",
      "            There are likely no edges in which to parse...\n",
      "INFO:KeggGraph:Now parsing: path:hsa03265...\n",
      "WARNING:root:ERROR: File \"../data/kgml_hsa/hsa03265.xml\" cannot be parsed.\n",
      "\n",
      "            Visit https://www.kegg.jp/kegg-bin/show_pathway?hsa03265 for pathway details.\n",
      "\n",
      "            There are likely no edges in which to parse...\n",
      "INFO:KeggGraph:Now parsing: path:hsa03266...\n",
      "WARNING:root:ERROR: File \"../data/kgml_hsa/hsa03266.xml\" cannot be parsed.\n",
      "\n",
      "            Visit https://www.kegg.jp/kegg-bin/show_pathway?hsa03266 for pathway details.\n",
      "\n",
      "            There are likely no edges in which to parse...\n",
      "INFO:KeggGraph:Now parsing: path:hsa03267...\n",
      "WARNING:root:ERROR: File \"../data/kgml_hsa/hsa03267.xml\" cannot be parsed.\n",
      "\n",
      "            Visit https://www.kegg.jp/kegg-bin/show_pathway?hsa03267 for pathway details.\n",
      "\n",
      "            There are likely no edges in which to parse...\n",
      "INFO:KeggGraph:Now parsing: path:hsa03271...\n",
      "WARNING:root:ERROR: File \"../data/kgml_hsa/hsa03271.xml\" cannot be parsed.\n",
      "\n",
      "            Visit https://www.kegg.jp/kegg-bin/show_pathway?hsa03271 for pathway details.\n",
      "\n",
      "            There are likely no edges in which to parse...\n",
      "INFO:KeggGraph:Now parsing: path:hsa03320...\n",
      "INFO:KeggGraph:Graph path:hsa03320 parsed successfully!\n",
      "INFO:KeggGraph:Now parsing: path:hsa03410...\n",
      "WARNING:root:ERROR: File \"../data/kgml_hsa/hsa03410.xml\" cannot be parsed.\n",
      "\n",
      "            Visit https://www.kegg.jp/kegg-bin/show_pathway?hsa03410 for pathway details.\n",
      "\n",
      "            There are likely no edges in which to parse...\n",
      "INFO:KeggGraph:Now parsing: path:hsa03420...\n",
      "WARNING:root:ERROR: File \"../data/kgml_hsa/hsa03420.xml\" cannot be parsed.\n",
      "\n",
      "            Visit https://www.kegg.jp/kegg-bin/show_pathway?hsa03420 for pathway details.\n",
      "\n",
      "            There are likely no edges in which to parse...\n",
      "INFO:KeggGraph:Now parsing: path:hsa03430...\n",
      "WARNING:root:ERROR: File \"../data/kgml_hsa/hsa03430.xml\" cannot be parsed.\n",
      "\n",
      "            Visit https://www.kegg.jp/kegg-bin/show_pathway?hsa03430 for pathway details.\n",
      "\n",
      "            There are likely no edges in which to parse...\n",
      "INFO:KeggGraph:Now parsing: path:hsa03440...\n",
      "INFO:KeggGraph:Graph path:hsa03440 parsed successfully!\n",
      "INFO:KeggGraph:Now parsing: path:hsa03450...\n",
      "WARNING:root:ERROR: File \"../data/kgml_hsa/hsa03450.xml\" cannot be parsed.\n",
      "\n",
      "            Visit https://www.kegg.jp/kegg-bin/show_pathway?hsa03450 for pathway details.\n",
      "\n",
      "            There are likely no edges in which to parse...\n",
      "INFO:KeggGraph:Now parsing: path:hsa03460...\n",
      "INFO:KeggGraph:Graph path:hsa03460 parsed successfully!\n",
      "INFO:KeggGraph:Now parsing: path:hsa04010...\n",
      "INFO:KeggGraph:Graph path:hsa04010 parsed successfully!\n",
      "INFO:KeggGraph:Now parsing: path:hsa04012...\n",
      "INFO:KeggGraph:Graph path:hsa04012 parsed successfully!\n",
      "INFO:KeggGraph:Now parsing: path:hsa04014...\n",
      "INFO:KeggGraph:Graph path:hsa04014 parsed successfully!\n",
      "INFO:KeggGraph:Now parsing: path:hsa04015...\n",
      "INFO:KeggGraph:Graph path:hsa04015 parsed successfully!\n",
      "INFO:KeggGraph:Now parsing: path:hsa04020...\n",
      "INFO:KeggGraph:Graph path:hsa04020 parsed successfully!\n",
      "INFO:KeggGraph:Now parsing: path:hsa04022...\n",
      "INFO:KeggGraph:Graph path:hsa04022 parsed successfully!\n",
      "INFO:KeggGraph:Now parsing: path:hsa04024...\n",
      "INFO:KeggGraph:Graph path:hsa04024 parsed successfully!\n",
      "INFO:KeggGraph:Now parsing: path:hsa04060...\n",
      "INFO:KeggGraph:Graph path:hsa04060 parsed successfully!\n",
      "INFO:KeggGraph:Now parsing: path:hsa04061...\n",
      "INFO:KeggGraph:Graph path:hsa04061 parsed successfully!\n",
      "INFO:KeggGraph:Now parsing: path:hsa04062...\n",
      "INFO:KeggGraph:Graph path:hsa04062 parsed successfully!\n",
      "INFO:KeggGraph:Now parsing: path:hsa04064...\n",
      "INFO:KeggGraph:Graph path:hsa04064 parsed successfully!\n",
      "INFO:KeggGraph:Now parsing: path:hsa04066...\n",
      "INFO:KeggGraph:Graph path:hsa04066 parsed successfully!\n",
      "INFO:KeggGraph:Now parsing: path:hsa04068...\n",
      "INFO:KeggGraph:Graph path:hsa04068 parsed successfully!\n",
      "INFO:KeggGraph:Now parsing: path:hsa04070...\n",
      "WARNING:root:ERROR: File \"../data/kgml_hsa/hsa04070.xml\" cannot be parsed.\n",
      "\n",
      "            Visit https://www.kegg.jp/kegg-bin/show_pathway?hsa04070 for pathway details.\n",
      "\n",
      "            There are likely no edges in which to parse...\n",
      "INFO:KeggGraph:Now parsing: path:hsa04071...\n",
      "INFO:KeggGraph:Graph path:hsa04071 parsed successfully!\n",
      "INFO:KeggGraph:Now parsing: path:hsa04072...\n",
      "INFO:KeggGraph:Graph path:hsa04072 parsed successfully!\n",
      "INFO:KeggGraph:Now parsing: path:hsa04080...\n",
      "INFO:KeggGraph:Graph path:hsa04080 parsed successfully!\n",
      "INFO:KeggGraph:Now parsing: path:hsa04110...\n",
      "INFO:KeggGraph:Graph path:hsa04110 parsed successfully!\n",
      "INFO:KeggGraph:Now parsing: path:hsa04114...\n",
      "INFO:KeggGraph:Graph path:hsa04114 parsed successfully!\n",
      "INFO:KeggGraph:Now parsing: path:hsa04115...\n",
      "INFO:KeggGraph:Graph path:hsa04115 parsed successfully!\n",
      "INFO:KeggGraph:Now parsing: path:hsa04120...\n",
      "WARNING:root:ERROR: File \"../data/kgml_hsa/hsa04120.xml\" cannot be parsed.\n",
      "\n",
      "            Visit https://www.kegg.jp/kegg-bin/show_pathway?hsa04120 for pathway details.\n",
      "\n",
      "            There are likely no edges in which to parse...\n",
      "INFO:KeggGraph:Now parsing: path:hsa04122...\n",
      "INFO:KeggGraph:Graph path:hsa04122 parsed successfully!\n",
      "INFO:KeggGraph:Now parsing: path:hsa04130...\n",
      "INFO:KeggGraph:Graph path:hsa04130 parsed successfully!\n",
      "INFO:KeggGraph:Now parsing: path:hsa04136...\n",
      "INFO:KeggGraph:Graph path:hsa04136 parsed successfully!\n",
      "INFO:KeggGraph:Now parsing: path:hsa04137...\n",
      "INFO:KeggGraph:Graph path:hsa04137 parsed successfully!\n",
      "INFO:KeggGraph:Now parsing: path:hsa04140...\n",
      "INFO:KeggGraph:Graph path:hsa04140 parsed successfully!\n",
      "INFO:KeggGraph:Now parsing: path:hsa04141...\n",
      "INFO:KeggGraph:Graph path:hsa04141 parsed successfully!\n",
      "INFO:KeggGraph:Now parsing: path:hsa04142...\n",
      "WARNING:root:ERROR: File \"../data/kgml_hsa/hsa04142.xml\" cannot be parsed.\n",
      "\n",
      "            Visit https://www.kegg.jp/kegg-bin/show_pathway?hsa04142 for pathway details.\n",
      "\n",
      "            There are likely no edges in which to parse...\n",
      "INFO:KeggGraph:Now parsing: path:hsa04144...\n",
      "INFO:KeggGraph:Graph path:hsa04144 parsed successfully!\n",
      "INFO:KeggGraph:Now parsing: path:hsa04145...\n",
      "INFO:KeggGraph:Graph path:hsa04145 parsed successfully!\n",
      "INFO:KeggGraph:Now parsing: path:hsa04146...\n",
      "WARNING:root:ERROR: File \"../data/kgml_hsa/hsa04146.xml\" cannot be parsed.\n",
      "\n",
      "            Visit https://www.kegg.jp/kegg-bin/show_pathway?hsa04146 for pathway details.\n",
      "\n",
      "            There are likely no edges in which to parse...\n",
      "INFO:KeggGraph:Now parsing: path:hsa04148...\n",
      "INFO:KeggGraph:Graph path:hsa04148 parsed successfully!\n",
      "INFO:KeggGraph:Now parsing: path:hsa04150...\n",
      "INFO:KeggGraph:Graph path:hsa04150 parsed successfully!\n",
      "INFO:KeggGraph:Now parsing: path:hsa04151...\n",
      "INFO:KeggGraph:Graph path:hsa04151 parsed successfully!\n",
      "INFO:KeggGraph:Now parsing: path:hsa04152...\n",
      "INFO:KeggGraph:Graph path:hsa04152 parsed successfully!\n",
      "INFO:KeggGraph:Now parsing: path:hsa04210...\n",
      "INFO:KeggGraph:Graph path:hsa04210 parsed successfully!\n",
      "INFO:KeggGraph:Now parsing: path:hsa04211...\n",
      "INFO:KeggGraph:Graph path:hsa04211 parsed successfully!\n",
      "INFO:KeggGraph:Now parsing: path:hsa04213...\n",
      "INFO:KeggGraph:Graph path:hsa04213 parsed successfully!\n",
      "INFO:KeggGraph:Now parsing: path:hsa04215...\n",
      "INFO:KeggGraph:Graph path:hsa04215 parsed successfully!\n",
      "INFO:KeggGraph:Now parsing: path:hsa04216...\n",
      "INFO:KeggGraph:Graph path:hsa04216 parsed successfully!\n",
      "INFO:KeggGraph:Now parsing: path:hsa04217...\n",
      "INFO:KeggGraph:Graph path:hsa04217 parsed successfully!\n",
      "INFO:KeggGraph:Now parsing: path:hsa04218...\n",
      "INFO:KeggGraph:Graph path:hsa04218 parsed successfully!\n",
      "INFO:KeggGraph:Now parsing: path:hsa04260...\n",
      "INFO:KeggGraph:Graph path:hsa04260 parsed successfully!\n",
      "INFO:KeggGraph:Now parsing: path:hsa04261...\n",
      "INFO:KeggGraph:Graph path:hsa04261 parsed successfully!\n",
      "INFO:KeggGraph:Now parsing: path:hsa04270...\n",
      "INFO:KeggGraph:Graph path:hsa04270 parsed successfully!\n",
      "INFO:KeggGraph:Now parsing: path:hsa04310...\n",
      "INFO:KeggGraph:Graph path:hsa04310 parsed successfully!\n",
      "INFO:KeggGraph:Now parsing: path:hsa04330...\n",
      "INFO:KeggGraph:Graph path:hsa04330 parsed successfully!\n",
      "INFO:KeggGraph:Now parsing: path:hsa04340...\n",
      "INFO:KeggGraph:Graph path:hsa04340 parsed successfully!\n",
      "INFO:KeggGraph:Now parsing: path:hsa04350...\n",
      "INFO:KeggGraph:Graph path:hsa04350 parsed successfully!\n",
      "INFO:KeggGraph:Now parsing: path:hsa04360...\n",
      "INFO:KeggGraph:Graph path:hsa04360 parsed successfully!\n",
      "INFO:KeggGraph:Now parsing: path:hsa04370...\n",
      "INFO:KeggGraph:Graph path:hsa04370 parsed successfully!\n",
      "INFO:KeggGraph:Now parsing: path:hsa04371...\n",
      "INFO:KeggGraph:Graph path:hsa04371 parsed successfully!\n",
      "INFO:KeggGraph:Now parsing: path:hsa04380...\n",
      "INFO:KeggGraph:Graph path:hsa04380 parsed successfully!\n",
      "INFO:KeggGraph:Now parsing: path:hsa04390...\n",
      "INFO:KeggGraph:Graph path:hsa04390 parsed successfully!\n",
      "INFO:KeggGraph:Now parsing: path:hsa04392...\n",
      "INFO:KeggGraph:Graph path:hsa04392 parsed successfully!\n",
      "INFO:KeggGraph:Now parsing: path:hsa04510...\n",
      "INFO:KeggGraph:Graph path:hsa04510 parsed successfully!\n",
      "INFO:KeggGraph:Now parsing: path:hsa04512...\n",
      "INFO:KeggGraph:Graph path:hsa04512 parsed successfully!\n",
      "INFO:KeggGraph:Now parsing: path:hsa04514...\n",
      "INFO:KeggGraph:Graph path:hsa04514 parsed successfully!\n",
      "INFO:KeggGraph:Now parsing: path:hsa04520...\n",
      "INFO:KeggGraph:Graph path:hsa04520 parsed successfully!\n",
      "INFO:KeggGraph:Now parsing: path:hsa04530...\n",
      "INFO:KeggGraph:Graph path:hsa04530 parsed successfully!\n",
      "INFO:KeggGraph:Now parsing: path:hsa04540...\n",
      "INFO:KeggGraph:Graph path:hsa04540 parsed successfully!\n",
      "INFO:KeggGraph:Now parsing: path:hsa04550...\n",
      "INFO:KeggGraph:Graph path:hsa04550 parsed successfully!\n",
      "INFO:KeggGraph:Now parsing: path:hsa04610...\n",
      "INFO:KeggGraph:Graph path:hsa04610 parsed successfully!\n",
      "INFO:KeggGraph:Now parsing: path:hsa04611...\n",
      "INFO:KeggGraph:Graph path:hsa04611 parsed successfully!\n",
      "INFO:KeggGraph:Now parsing: path:hsa04612...\n",
      "INFO:KeggGraph:Graph path:hsa04612 parsed successfully!\n",
      "INFO:KeggGraph:Now parsing: path:hsa04613...\n",
      "INFO:KeggGraph:Graph path:hsa04613 parsed successfully!\n",
      "INFO:KeggGraph:Now parsing: path:hsa04614...\n",
      "INFO:KeggGraph:Graph path:hsa04614 parsed successfully!\n",
      "INFO:KeggGraph:Now parsing: path:hsa04620...\n",
      "INFO:KeggGraph:Graph path:hsa04620 parsed successfully!\n",
      "INFO:KeggGraph:Now parsing: path:hsa04621...\n",
      "INFO:KeggGraph:Graph path:hsa04621 parsed successfully!\n",
      "INFO:KeggGraph:Now parsing: path:hsa04622...\n",
      "INFO:KeggGraph:Graph path:hsa04622 parsed successfully!\n",
      "INFO:KeggGraph:Now parsing: path:hsa04623...\n",
      "INFO:KeggGraph:Graph path:hsa04623 parsed successfully!\n",
      "INFO:KeggGraph:Now parsing: path:hsa04625...\n",
      "INFO:KeggGraph:Graph path:hsa04625 parsed successfully!\n",
      "INFO:KeggGraph:Now parsing: path:hsa04630...\n",
      "INFO:KeggGraph:Graph path:hsa04630 parsed successfully!\n",
      "INFO:KeggGraph:Now parsing: path:hsa04640...\n",
      "WARNING:root:ERROR: File \"../data/kgml_hsa/hsa04640.xml\" cannot be parsed.\n",
      "\n",
      "            Visit https://www.kegg.jp/kegg-bin/show_pathway?hsa04640 for pathway details.\n",
      "\n",
      "            There are likely no edges in which to parse...\n",
      "INFO:KeggGraph:Now parsing: path:hsa04650...\n",
      "INFO:KeggGraph:Graph path:hsa04650 parsed successfully!\n",
      "INFO:KeggGraph:Now parsing: path:hsa04657...\n",
      "INFO:KeggGraph:Graph path:hsa04657 parsed successfully!\n",
      "INFO:KeggGraph:Now parsing: path:hsa04658...\n",
      "INFO:KeggGraph:Graph path:hsa04658 parsed successfully!\n",
      "INFO:KeggGraph:Now parsing: path:hsa04659...\n",
      "INFO:KeggGraph:Graph path:hsa04659 parsed successfully!\n",
      "INFO:KeggGraph:Now parsing: path:hsa04660...\n",
      "INFO:KeggGraph:Graph path:hsa04660 parsed successfully!\n",
      "INFO:KeggGraph:Now parsing: path:hsa04662...\n",
      "INFO:KeggGraph:Graph path:hsa04662 parsed successfully!\n",
      "INFO:KeggGraph:Now parsing: path:hsa04664...\n",
      "INFO:KeggGraph:Graph path:hsa04664 parsed successfully!\n",
      "INFO:KeggGraph:Now parsing: path:hsa04666...\n",
      "INFO:KeggGraph:Graph path:hsa04666 parsed successfully!\n",
      "INFO:KeggGraph:Now parsing: path:hsa04668...\n",
      "INFO:KeggGraph:Graph path:hsa04668 parsed successfully!\n",
      "INFO:KeggGraph:Now parsing: path:hsa04670...\n",
      "INFO:KeggGraph:Graph path:hsa04670 parsed successfully!\n",
      "INFO:KeggGraph:Now parsing: path:hsa04672...\n",
      "INFO:KeggGraph:Graph path:hsa04672 parsed successfully!\n",
      "INFO:KeggGraph:Now parsing: path:hsa04710...\n",
      "INFO:KeggGraph:Graph path:hsa04710 parsed successfully!\n",
      "INFO:KeggGraph:Now parsing: path:hsa04713...\n",
      "INFO:KeggGraph:Graph path:hsa04713 parsed successfully!\n",
      "INFO:KeggGraph:Now parsing: path:hsa04714...\n",
      "INFO:KeggGraph:Graph path:hsa04714 parsed successfully!\n",
      "INFO:KeggGraph:Now parsing: path:hsa04720...\n",
      "INFO:KeggGraph:Graph path:hsa04720 parsed successfully!\n",
      "INFO:KeggGraph:Now parsing: path:hsa04721...\n",
      "INFO:KeggGraph:Graph path:hsa04721 parsed successfully!\n",
      "INFO:KeggGraph:Now parsing: path:hsa04722...\n",
      "INFO:KeggGraph:Graph path:hsa04722 parsed successfully!\n",
      "INFO:KeggGraph:Now parsing: path:hsa04723...\n",
      "INFO:KeggGraph:Graph path:hsa04723 parsed successfully!\n",
      "INFO:KeggGraph:Now parsing: path:hsa04724...\n",
      "INFO:KeggGraph:Graph path:hsa04724 parsed successfully!\n",
      "INFO:KeggGraph:Now parsing: path:hsa04725...\n",
      "INFO:KeggGraph:Graph path:hsa04725 parsed successfully!\n",
      "INFO:KeggGraph:Now parsing: path:hsa04726...\n",
      "INFO:KeggGraph:Graph path:hsa04726 parsed successfully!\n",
      "INFO:KeggGraph:Now parsing: path:hsa04727...\n",
      "INFO:KeggGraph:Graph path:hsa04727 parsed successfully!\n",
      "INFO:KeggGraph:Now parsing: path:hsa04728...\n",
      "INFO:KeggGraph:Graph path:hsa04728 parsed successfully!\n",
      "INFO:KeggGraph:Now parsing: path:hsa04730...\n",
      "INFO:KeggGraph:Graph path:hsa04730 parsed successfully!\n",
      "INFO:KeggGraph:Now parsing: path:hsa04740...\n",
      "INFO:KeggGraph:Graph path:hsa04740 parsed successfully!\n",
      "INFO:KeggGraph:Now parsing: path:hsa04742...\n",
      "INFO:KeggGraph:Graph path:hsa04742 parsed successfully!\n",
      "INFO:KeggGraph:Now parsing: path:hsa04744...\n",
      "INFO:KeggGraph:Graph path:hsa04744 parsed successfully!\n",
      "INFO:KeggGraph:Now parsing: path:hsa04750...\n",
      "INFO:KeggGraph:Graph path:hsa04750 parsed successfully!\n",
      "INFO:KeggGraph:Now parsing: path:hsa04810...\n",
      "INFO:KeggGraph:Graph path:hsa04810 parsed successfully!\n",
      "INFO:KeggGraph:Now parsing: path:hsa04814...\n",
      "WARNING:root:ERROR: File \"../data/kgml_hsa/hsa04814.xml\" cannot be parsed.\n",
      "\n",
      "            Visit https://www.kegg.jp/kegg-bin/show_pathway?hsa04814 for pathway details.\n",
      "\n",
      "            There are likely no edges in which to parse...\n",
      "INFO:KeggGraph:Now parsing: path:hsa04820...\n",
      "WARNING:root:ERROR: File \"../data/kgml_hsa/hsa04820.xml\" cannot be parsed.\n",
      "\n",
      "            Visit https://www.kegg.jp/kegg-bin/show_pathway?hsa04820 for pathway details.\n",
      "\n",
      "            There are likely no edges in which to parse...\n",
      "INFO:KeggGraph:Now parsing: path:hsa04910...\n",
      "INFO:KeggGraph:Graph path:hsa04910 parsed successfully!\n",
      "INFO:KeggGraph:Now parsing: path:hsa04911...\n",
      "INFO:KeggGraph:Graph path:hsa04911 parsed successfully!\n",
      "INFO:KeggGraph:Now parsing: path:hsa04912...\n",
      "INFO:KeggGraph:Graph path:hsa04912 parsed successfully!\n",
      "INFO:KeggGraph:Now parsing: path:hsa04913...\n",
      "INFO:KeggGraph:Graph path:hsa04913 parsed successfully!\n",
      "INFO:KeggGraph:Now parsing: path:hsa04914...\n",
      "INFO:KeggGraph:Graph path:hsa04914 parsed successfully!\n",
      "INFO:KeggGraph:Now parsing: path:hsa04915...\n",
      "INFO:KeggGraph:Graph path:hsa04915 parsed successfully!\n",
      "INFO:KeggGraph:Now parsing: path:hsa04916...\n",
      "INFO:KeggGraph:Graph path:hsa04916 parsed successfully!\n",
      "INFO:KeggGraph:Now parsing: path:hsa04917...\n",
      "INFO:KeggGraph:Graph path:hsa04917 parsed successfully!\n",
      "INFO:KeggGraph:Now parsing: path:hsa04918...\n",
      "INFO:KeggGraph:Graph path:hsa04918 parsed successfully!\n",
      "INFO:KeggGraph:Now parsing: path:hsa04919...\n",
      "INFO:KeggGraph:Graph path:hsa04919 parsed successfully!\n",
      "INFO:KeggGraph:Now parsing: path:hsa04920...\n",
      "INFO:KeggGraph:Graph path:hsa04920 parsed successfully!\n",
      "INFO:KeggGraph:Now parsing: path:hsa04921...\n",
      "INFO:KeggGraph:Graph path:hsa04921 parsed successfully!\n",
      "INFO:KeggGraph:Now parsing: path:hsa04922...\n",
      "INFO:KeggGraph:Graph path:hsa04922 parsed successfully!\n",
      "INFO:KeggGraph:Now parsing: path:hsa04923...\n",
      "INFO:KeggGraph:Graph path:hsa04923 parsed successfully!\n",
      "INFO:KeggGraph:Now parsing: path:hsa04924...\n",
      "INFO:KeggGraph:Graph path:hsa04924 parsed successfully!\n",
      "INFO:KeggGraph:Now parsing: path:hsa04925...\n",
      "INFO:KeggGraph:Graph path:hsa04925 parsed successfully!\n",
      "INFO:KeggGraph:Now parsing: path:hsa04926...\n",
      "INFO:KeggGraph:Graph path:hsa04926 parsed successfully!\n",
      "INFO:KeggGraph:Now parsing: path:hsa04927...\n",
      "INFO:KeggGraph:Graph path:hsa04927 parsed successfully!\n",
      "INFO:KeggGraph:Now parsing: path:hsa04928...\n",
      "INFO:KeggGraph:Graph path:hsa04928 parsed successfully!\n",
      "INFO:KeggGraph:Now parsing: path:hsa04929...\n",
      "WARNING:root:ERROR: File \"../data/kgml_hsa/hsa04929.xml\" cannot be parsed.\n",
      "\n",
      "            Visit https://www.kegg.jp/kegg-bin/show_pathway?hsa04929 for pathway details.\n",
      "\n",
      "            There are likely no edges in which to parse...\n",
      "INFO:KeggGraph:Now parsing: path:hsa04930...\n",
      "INFO:KeggGraph:Graph path:hsa04930 parsed successfully!\n",
      "INFO:KeggGraph:Now parsing: path:hsa04931...\n",
      "INFO:KeggGraph:Graph path:hsa04931 parsed successfully!\n",
      "INFO:KeggGraph:Now parsing: path:hsa04932...\n",
      "INFO:KeggGraph:Graph path:hsa04932 parsed successfully!\n",
      "INFO:KeggGraph:Now parsing: path:hsa04933...\n",
      "INFO:KeggGraph:Graph path:hsa04933 parsed successfully!\n",
      "INFO:KeggGraph:Now parsing: path:hsa04934...\n",
      "INFO:KeggGraph:Graph path:hsa04934 parsed successfully!\n",
      "INFO:KeggGraph:Now parsing: path:hsa04935...\n",
      "INFO:KeggGraph:Graph path:hsa04935 parsed successfully!\n",
      "INFO:KeggGraph:Now parsing: path:hsa04936...\n",
      "INFO:KeggGraph:Graph path:hsa04936 parsed successfully!\n",
      "INFO:KeggGraph:Now parsing: path:hsa04940...\n",
      "INFO:KeggGraph:Graph path:hsa04940 parsed successfully!\n",
      "INFO:KeggGraph:Now parsing: path:hsa04950...\n",
      "INFO:KeggGraph:Graph path:hsa04950 parsed successfully!\n",
      "INFO:KeggGraph:Now parsing: path:hsa04960...\n",
      "INFO:KeggGraph:Graph path:hsa04960 parsed successfully!\n",
      "INFO:KeggGraph:Now parsing: path:hsa04961...\n",
      "INFO:KeggGraph:Graph path:hsa04961 parsed successfully!\n",
      "INFO:KeggGraph:Now parsing: path:hsa04962...\n",
      "INFO:KeggGraph:Graph path:hsa04962 parsed successfully!\n",
      "INFO:KeggGraph:Now parsing: path:hsa04964...\n",
      "WARNING:root:ERROR: File \"../data/kgml_hsa/hsa04964.xml\" cannot be parsed.\n",
      "\n",
      "            Visit https://www.kegg.jp/kegg-bin/show_pathway?hsa04964 for pathway details.\n",
      "\n",
      "            There are likely no edges in which to parse...\n",
      "INFO:KeggGraph:Now parsing: path:hsa04966...\n",
      "WARNING:root:ERROR: File \"../data/kgml_hsa/hsa04966.xml\" cannot be parsed.\n",
      "\n",
      "            Visit https://www.kegg.jp/kegg-bin/show_pathway?hsa04966 for pathway details.\n",
      "\n",
      "            There are likely no edges in which to parse...\n",
      "INFO:KeggGraph:Now parsing: path:hsa04970...\n",
      "INFO:KeggGraph:Graph path:hsa04970 parsed successfully!\n",
      "INFO:KeggGraph:Now parsing: path:hsa04971...\n",
      "INFO:KeggGraph:Graph path:hsa04971 parsed successfully!\n",
      "INFO:KeggGraph:Now parsing: path:hsa04972...\n",
      "INFO:KeggGraph:Graph path:hsa04972 parsed successfully!\n",
      "INFO:KeggGraph:Now parsing: path:hsa04973...\n",
      "INFO:KeggGraph:Graph path:hsa04973 parsed successfully!\n",
      "INFO:KeggGraph:Now parsing: path:hsa04974...\n",
      "WARNING:root:ERROR: File \"../data/kgml_hsa/hsa04974.xml\" cannot be parsed.\n",
      "\n",
      "            Visit https://www.kegg.jp/kegg-bin/show_pathway?hsa04974 for pathway details.\n",
      "\n",
      "            There are likely no edges in which to parse...\n",
      "INFO:KeggGraph:Now parsing: path:hsa04975...\n",
      "WARNING:root:ERROR: File \"../data/kgml_hsa/hsa04975.xml\" cannot be parsed.\n",
      "\n",
      "            Visit https://www.kegg.jp/kegg-bin/show_pathway?hsa04975 for pathway details.\n",
      "\n",
      "            There are likely no edges in which to parse...\n",
      "INFO:KeggGraph:Now parsing: path:hsa04976...\n",
      "INFO:KeggGraph:Graph path:hsa04976 parsed successfully!\n",
      "INFO:KeggGraph:Now parsing: path:hsa04977...\n",
      "INFO:KeggGraph:Graph path:hsa04977 parsed successfully!\n",
      "INFO:KeggGraph:Now parsing: path:hsa04978...\n",
      "INFO:KeggGraph:Graph path:hsa04978 parsed successfully!\n",
      "INFO:KeggGraph:Now parsing: path:hsa04979...\n",
      "INFO:KeggGraph:Graph path:hsa04979 parsed successfully!\n",
      "INFO:KeggGraph:Now parsing: path:hsa04980...\n",
      "INFO:KeggGraph:Graph path:hsa04980 parsed successfully!\n",
      "INFO:KeggGraph:Now parsing: path:hsa05010...\n",
      "INFO:KeggGraph:Graph path:hsa05010 parsed successfully!\n",
      "INFO:KeggGraph:Now parsing: path:hsa05012...\n",
      "INFO:KeggGraph:Graph path:hsa05012 parsed successfully!\n",
      "INFO:KeggGraph:Now parsing: path:hsa05014...\n",
      "INFO:KeggGraph:Graph path:hsa05014 parsed successfully!\n",
      "INFO:KeggGraph:Now parsing: path:hsa05016...\n",
      "INFO:KeggGraph:Graph path:hsa05016 parsed successfully!\n",
      "INFO:KeggGraph:Now parsing: path:hsa05017...\n",
      "INFO:KeggGraph:Graph path:hsa05017 parsed successfully!\n",
      "INFO:KeggGraph:Now parsing: path:hsa05020...\n",
      "INFO:KeggGraph:Graph path:hsa05020 parsed successfully!\n",
      "INFO:KeggGraph:Now parsing: path:hsa05022...\n",
      "INFO:KeggGraph:Graph path:hsa05022 parsed successfully!\n",
      "INFO:KeggGraph:Now parsing: path:hsa05030...\n",
      "INFO:KeggGraph:Graph path:hsa05030 parsed successfully!\n",
      "INFO:KeggGraph:Now parsing: path:hsa05031...\n",
      "INFO:KeggGraph:Graph path:hsa05031 parsed successfully!\n",
      "INFO:KeggGraph:Now parsing: path:hsa05032...\n",
      "INFO:KeggGraph:Graph path:hsa05032 parsed successfully!\n",
      "INFO:KeggGraph:Now parsing: path:hsa05033...\n",
      "WARNING:root:ERROR: File \"../data/kgml_hsa/hsa05033.xml\" cannot be parsed.\n",
      "\n",
      "            Visit https://www.kegg.jp/kegg-bin/show_pathway?hsa05033 for pathway details.\n",
      "\n",
      "            There are likely no edges in which to parse...\n",
      "INFO:KeggGraph:Now parsing: path:hsa05034...\n",
      "INFO:KeggGraph:Graph path:hsa05034 parsed successfully!\n",
      "INFO:KeggGraph:Now parsing: path:hsa05100...\n",
      "INFO:KeggGraph:Graph path:hsa05100 parsed successfully!\n",
      "INFO:KeggGraph:Now parsing: path:hsa05110...\n",
      "INFO:KeggGraph:Graph path:hsa05110 parsed successfully!\n",
      "INFO:KeggGraph:Now parsing: path:hsa05120...\n",
      "INFO:KeggGraph:Graph path:hsa05120 parsed successfully!\n",
      "INFO:KeggGraph:Now parsing: path:hsa05130...\n",
      "INFO:KeggGraph:Graph path:hsa05130 parsed successfully!\n",
      "INFO:KeggGraph:Now parsing: path:hsa05131...\n",
      "INFO:KeggGraph:Graph path:hsa05131 parsed successfully!\n",
      "INFO:KeggGraph:Now parsing: path:hsa05132...\n",
      "INFO:KeggGraph:Graph path:hsa05132 parsed successfully!\n",
      "INFO:KeggGraph:Now parsing: path:hsa05133...\n",
      "INFO:KeggGraph:Graph path:hsa05133 parsed successfully!\n",
      "INFO:KeggGraph:Now parsing: path:hsa05134...\n",
      "INFO:KeggGraph:Graph path:hsa05134 parsed successfully!\n",
      "INFO:KeggGraph:Now parsing: path:hsa05135...\n",
      "INFO:KeggGraph:Graph path:hsa05135 parsed successfully!\n",
      "INFO:KeggGraph:Now parsing: path:hsa05140...\n",
      "INFO:KeggGraph:Graph path:hsa05140 parsed successfully!\n",
      "INFO:KeggGraph:Now parsing: path:hsa05142...\n",
      "INFO:KeggGraph:Graph path:hsa05142 parsed successfully!\n",
      "INFO:KeggGraph:Now parsing: path:hsa05143...\n",
      "INFO:KeggGraph:Graph path:hsa05143 parsed successfully!\n",
      "INFO:KeggGraph:Now parsing: path:hsa05144...\n",
      "INFO:KeggGraph:Graph path:hsa05144 parsed successfully!\n",
      "INFO:KeggGraph:Now parsing: path:hsa05145...\n",
      "INFO:KeggGraph:Graph path:hsa05145 parsed successfully!\n",
      "INFO:KeggGraph:Now parsing: path:hsa05146...\n",
      "INFO:KeggGraph:Graph path:hsa05146 parsed successfully!\n",
      "INFO:KeggGraph:Now parsing: path:hsa05150...\n",
      "INFO:KeggGraph:Graph path:hsa05150 parsed successfully!\n",
      "INFO:KeggGraph:Now parsing: path:hsa05152...\n",
      "INFO:KeggGraph:Graph path:hsa05152 parsed successfully!\n",
      "INFO:KeggGraph:Now parsing: path:hsa05160...\n",
      "INFO:KeggGraph:Graph path:hsa05160 parsed successfully!\n",
      "INFO:KeggGraph:Now parsing: path:hsa05161...\n",
      "INFO:KeggGraph:Graph path:hsa05161 parsed successfully!\n",
      "INFO:KeggGraph:Now parsing: path:hsa05162...\n",
      "INFO:KeggGraph:Graph path:hsa05162 parsed successfully!\n",
      "INFO:KeggGraph:Now parsing: path:hsa05163...\n",
      "INFO:KeggGraph:Graph path:hsa05163 parsed successfully!\n",
      "INFO:KeggGraph:Now parsing: path:hsa05164...\n",
      "INFO:KeggGraph:Graph path:hsa05164 parsed successfully!\n",
      "INFO:KeggGraph:Now parsing: path:hsa05165...\n",
      "INFO:KeggGraph:Graph path:hsa05165 parsed successfully!\n",
      "INFO:KeggGraph:Now parsing: path:hsa05166...\n",
      "INFO:KeggGraph:Graph path:hsa05166 parsed successfully!\n",
      "INFO:KeggGraph:Now parsing: path:hsa05167...\n",
      "INFO:KeggGraph:Graph path:hsa05167 parsed successfully!\n",
      "INFO:KeggGraph:Now parsing: path:hsa05168...\n",
      "INFO:KeggGraph:Graph path:hsa05168 parsed successfully!\n",
      "INFO:KeggGraph:Now parsing: path:hsa05169...\n",
      "INFO:KeggGraph:Graph path:hsa05169 parsed successfully!\n",
      "INFO:KeggGraph:Now parsing: path:hsa05170...\n",
      "INFO:KeggGraph:Graph path:hsa05170 parsed successfully!\n",
      "INFO:KeggGraph:Now parsing: path:hsa05171...\n",
      "INFO:KeggGraph:Graph path:hsa05171 parsed successfully!\n",
      "INFO:KeggGraph:Now parsing: path:hsa05200...\n",
      "INFO:KeggGraph:Graph path:hsa05200 parsed successfully!\n",
      "INFO:KeggGraph:Now parsing: path:hsa05202...\n",
      "INFO:KeggGraph:Graph path:hsa05202 parsed successfully!\n",
      "INFO:KeggGraph:Now parsing: path:hsa05203...\n",
      "INFO:KeggGraph:Graph path:hsa05203 parsed successfully!\n",
      "INFO:KeggGraph:Now parsing: path:hsa05204...\n",
      "WARNING:root:ERROR: File \"../data/kgml_hsa/hsa05204.xml\" cannot be parsed.\n",
      "\n",
      "            Visit https://www.kegg.jp/kegg-bin/show_pathway?hsa05204 for pathway details.\n",
      "\n",
      "            There are likely no edges in which to parse...\n",
      "INFO:KeggGraph:Now parsing: path:hsa05205...\n",
      "INFO:KeggGraph:Graph path:hsa05205 parsed successfully!\n",
      "INFO:KeggGraph:Now parsing: path:hsa05206...\n",
      "INFO:KeggGraph:Graph path:hsa05206 parsed successfully!\n",
      "INFO:KeggGraph:Now parsing: path:hsa05207...\n",
      "INFO:KeggGraph:Graph path:hsa05207 parsed successfully!\n",
      "INFO:KeggGraph:Now parsing: path:hsa05208...\n",
      "INFO:KeggGraph:Graph path:hsa05208 parsed successfully!\n",
      "INFO:KeggGraph:Now parsing: path:hsa05210...\n",
      "INFO:KeggGraph:Graph path:hsa05210 parsed successfully!\n",
      "INFO:KeggGraph:Now parsing: path:hsa05211...\n",
      "INFO:KeggGraph:Graph path:hsa05211 parsed successfully!\n",
      "INFO:KeggGraph:Now parsing: path:hsa05212...\n",
      "INFO:KeggGraph:Graph path:hsa05212 parsed successfully!\n",
      "INFO:KeggGraph:Now parsing: path:hsa05213...\n",
      "INFO:KeggGraph:Graph path:hsa05213 parsed successfully!\n",
      "INFO:KeggGraph:Now parsing: path:hsa05214...\n",
      "INFO:KeggGraph:Graph path:hsa05214 parsed successfully!\n",
      "INFO:KeggGraph:Now parsing: path:hsa05215...\n",
      "INFO:KeggGraph:Graph path:hsa05215 parsed successfully!\n",
      "INFO:KeggGraph:Now parsing: path:hsa05216...\n",
      "INFO:KeggGraph:Graph path:hsa05216 parsed successfully!\n",
      "INFO:KeggGraph:Now parsing: path:hsa05217...\n",
      "INFO:KeggGraph:Graph path:hsa05217 parsed successfully!\n",
      "INFO:KeggGraph:Now parsing: path:hsa05218...\n",
      "INFO:KeggGraph:Graph path:hsa05218 parsed successfully!\n",
      "INFO:KeggGraph:Now parsing: path:hsa05219...\n",
      "INFO:KeggGraph:Graph path:hsa05219 parsed successfully!\n",
      "INFO:KeggGraph:Now parsing: path:hsa05220...\n",
      "INFO:KeggGraph:Graph path:hsa05220 parsed successfully!\n",
      "INFO:KeggGraph:Now parsing: path:hsa05221...\n",
      "INFO:KeggGraph:Graph path:hsa05221 parsed successfully!\n",
      "INFO:KeggGraph:Now parsing: path:hsa05222...\n",
      "INFO:KeggGraph:Graph path:hsa05222 parsed successfully!\n",
      "INFO:KeggGraph:Now parsing: path:hsa05223...\n",
      "INFO:KeggGraph:Graph path:hsa05223 parsed successfully!\n",
      "INFO:KeggGraph:Now parsing: path:hsa05224...\n",
      "INFO:KeggGraph:Graph path:hsa05224 parsed successfully!\n",
      "INFO:KeggGraph:Now parsing: path:hsa05225...\n",
      "INFO:KeggGraph:Graph path:hsa05225 parsed successfully!\n",
      "INFO:KeggGraph:Now parsing: path:hsa05226...\n",
      "INFO:KeggGraph:Graph path:hsa05226 parsed successfully!\n",
      "INFO:KeggGraph:Now parsing: path:hsa05230...\n",
      "INFO:KeggGraph:Graph path:hsa05230 parsed successfully!\n",
      "INFO:KeggGraph:Now parsing: path:hsa05231...\n",
      "INFO:KeggGraph:Graph path:hsa05231 parsed successfully!\n",
      "INFO:KeggGraph:Now parsing: path:hsa05235...\n",
      "INFO:KeggGraph:Graph path:hsa05235 parsed successfully!\n",
      "INFO:KeggGraph:Now parsing: path:hsa05310...\n",
      "INFO:KeggGraph:Graph path:hsa05310 parsed successfully!\n",
      "INFO:KeggGraph:Now parsing: path:hsa05320...\n",
      "INFO:KeggGraph:Graph path:hsa05320 parsed successfully!\n",
      "INFO:KeggGraph:Now parsing: path:hsa05321...\n",
      "INFO:KeggGraph:Graph path:hsa05321 parsed successfully!\n",
      "INFO:KeggGraph:Now parsing: path:hsa05322...\n",
      "INFO:KeggGraph:Graph path:hsa05322 parsed successfully!\n",
      "INFO:KeggGraph:Now parsing: path:hsa05323...\n",
      "INFO:KeggGraph:Graph path:hsa05323 parsed successfully!\n",
      "INFO:KeggGraph:Now parsing: path:hsa05330...\n",
      "INFO:KeggGraph:Graph path:hsa05330 parsed successfully!\n",
      "INFO:KeggGraph:Now parsing: path:hsa05332...\n",
      "INFO:KeggGraph:Graph path:hsa05332 parsed successfully!\n",
      "INFO:KeggGraph:Now parsing: path:hsa05340...\n",
      "WARNING:root:ERROR: File \"../data/kgml_hsa/hsa05340.xml\" cannot be parsed.\n",
      "\n",
      "            Visit https://www.kegg.jp/kegg-bin/show_pathway?hsa05340 for pathway details.\n",
      "\n",
      "            There are likely no edges in which to parse...\n",
      "INFO:KeggGraph:Now parsing: path:hsa05410...\n",
      "INFO:KeggGraph:Graph path:hsa05410 parsed successfully!\n",
      "INFO:KeggGraph:Now parsing: path:hsa05412...\n",
      "INFO:KeggGraph:Graph path:hsa05412 parsed successfully!\n",
      "INFO:KeggGraph:Now parsing: path:hsa05414...\n",
      "INFO:KeggGraph:Graph path:hsa05414 parsed successfully!\n",
      "INFO:KeggGraph:Now parsing: path:hsa05415...\n",
      "INFO:KeggGraph:Graph path:hsa05415 parsed successfully!\n",
      "INFO:KeggGraph:Now parsing: path:hsa05416...\n",
      "INFO:KeggGraph:Graph path:hsa05416 parsed successfully!\n",
      "INFO:KeggGraph:Now parsing: path:hsa05417...\n",
      "INFO:KeggGraph:Graph path:hsa05417 parsed successfully!\n",
      "INFO:KeggGraph:Now parsing: path:hsa05418...\n",
      "INFO:KeggGraph:Graph path:hsa05418 parsed successfully!\n"
     ]
    }
   ],
   "source": [
    "gene_graphs = kamping.create_graphs('../data/kgml_hsa', type='gene', verbose=True, ignore_file=['hsa01100.xml'])"
   ],
   "metadata": {
    "collapsed": false,
    "ExecuteTime": {
     "end_time": "2024-12-13T20:20:52.783098Z",
     "start_time": "2024-12-13T20:20:41.468014Z"
    }
   },
   "id": "c6783f147f78162f",
   "execution_count": 3
  },
  {
   "cell_type": "markdown",
   "source": [
    "The batch processing of KGML could also be useful in regular task. To access the result of specific KGML file you can use code below.  "
   ],
   "metadata": {
    "collapsed": false
   },
   "id": "b0d563e082a9aeda"
  },
  {
   "cell_type": "code",
   "outputs": [],
   "source": [
    "gene_graph_00010 = [graph for graph in gene_graphs if graph.name == 'path:hsa00010'][0]"
   ],
   "metadata": {
    "collapsed": false,
    "ExecuteTime": {
     "end_time": "2024-12-13T20:20:52.820319Z",
     "start_time": "2024-12-13T20:20:52.784435Z"
    }
   },
   "id": "e28299561ceba127",
   "execution_count": 4
  },
  {
   "cell_type": "code",
   "outputs": [
    {
     "data": {
      "text/plain": "KEGG Pathway: \n            [Title]: Glycolysis / Gluconeogenesis\n            [Name]: path:hsa00010\n            [Org]: hsa\n            [Link]: https://www.kegg.jp/kegg-bin/show_pathway?hsa00010\n            [Image]: https://www.kegg.jp/kegg/pathway/hsa/hsa00010.png\n            [Link]: https://www.kegg.jp/kegg-bin/show_pathway?hsa00010\n            Graph type: gene \n            Number of Genes: 67\n            Number of Compounds: 0\n            Gene ID type : kegg\n            Compound ID type : kegg\n            Number of Nodes: 67\n            Number of Edges: 559"
     },
     "execution_count": 5,
     "metadata": {},
     "output_type": "execute_result"
    }
   ],
   "source": [
    "gene_graph_00010"
   ],
   "metadata": {
    "collapsed": false,
    "ExecuteTime": {
     "end_time": "2024-12-13T20:20:52.849050Z",
     "start_time": "2024-12-13T20:20:52.821178Z"
    }
   },
   "id": "3cd50ba1b4037dde",
   "execution_count": 5
  },
  {
   "cell_type": "code",
   "outputs": [
    {
     "data": {
      "text/plain": "        entry1      entry2   type          subtype_name subtype_value  \\\n0    hsa:10327     hsa:124  PPrel  compound-propagation        custom   \n1    hsa:10327     hsa:125  PPrel  compound-propagation        custom   \n2    hsa:10327     hsa:126  PPrel  compound-propagation        custom   \n3    hsa:10327     hsa:127  PPrel  compound-propagation        custom   \n4    hsa:10327     hsa:128  PPrel  compound-propagation        custom   \n..         ...         ...    ...                   ...           ...   \n554   hsa:9562  hsa:387712  PPrel  compound-propagation        custom   \n555   hsa:9562  hsa:441531  PPrel  compound-propagation        custom   \n556   hsa:9562    hsa:5223  PPrel  compound-propagation        custom   \n557   hsa:9562    hsa:5224  PPrel  compound-propagation        custom   \n558   hsa:9562     hsa:669  PPrel  compound-propagation        custom   \n\n    entry1_type entry2_type  \n0          gene        gene  \n1          gene        gene  \n2          gene        gene  \n3          gene        gene  \n4          gene        gene  \n..          ...         ...  \n554        gene        gene  \n555        gene        gene  \n556        gene        gene  \n557        gene        gene  \n558        gene        gene  \n\n[559 rows x 7 columns]",
      "text/html": "<div>\n<style scoped>\n    .dataframe tbody tr th:only-of-type {\n        vertical-align: middle;\n    }\n\n    .dataframe tbody tr th {\n        vertical-align: top;\n    }\n\n    .dataframe thead th {\n        text-align: right;\n    }\n</style>\n<table border=\"1\" class=\"dataframe\">\n  <thead>\n    <tr style=\"text-align: right;\">\n      <th></th>\n      <th>entry1</th>\n      <th>entry2</th>\n      <th>type</th>\n      <th>subtype_name</th>\n      <th>subtype_value</th>\n      <th>entry1_type</th>\n      <th>entry2_type</th>\n    </tr>\n  </thead>\n  <tbody>\n    <tr>\n      <th>0</th>\n      <td>hsa:10327</td>\n      <td>hsa:124</td>\n      <td>PPrel</td>\n      <td>compound-propagation</td>\n      <td>custom</td>\n      <td>gene</td>\n      <td>gene</td>\n    </tr>\n    <tr>\n      <th>1</th>\n      <td>hsa:10327</td>\n      <td>hsa:125</td>\n      <td>PPrel</td>\n      <td>compound-propagation</td>\n      <td>custom</td>\n      <td>gene</td>\n      <td>gene</td>\n    </tr>\n    <tr>\n      <th>2</th>\n      <td>hsa:10327</td>\n      <td>hsa:126</td>\n      <td>PPrel</td>\n      <td>compound-propagation</td>\n      <td>custom</td>\n      <td>gene</td>\n      <td>gene</td>\n    </tr>\n    <tr>\n      <th>3</th>\n      <td>hsa:10327</td>\n      <td>hsa:127</td>\n      <td>PPrel</td>\n      <td>compound-propagation</td>\n      <td>custom</td>\n      <td>gene</td>\n      <td>gene</td>\n    </tr>\n    <tr>\n      <th>4</th>\n      <td>hsa:10327</td>\n      <td>hsa:128</td>\n      <td>PPrel</td>\n      <td>compound-propagation</td>\n      <td>custom</td>\n      <td>gene</td>\n      <td>gene</td>\n    </tr>\n    <tr>\n      <th>...</th>\n      <td>...</td>\n      <td>...</td>\n      <td>...</td>\n      <td>...</td>\n      <td>...</td>\n      <td>...</td>\n      <td>...</td>\n    </tr>\n    <tr>\n      <th>554</th>\n      <td>hsa:9562</td>\n      <td>hsa:387712</td>\n      <td>PPrel</td>\n      <td>compound-propagation</td>\n      <td>custom</td>\n      <td>gene</td>\n      <td>gene</td>\n    </tr>\n    <tr>\n      <th>555</th>\n      <td>hsa:9562</td>\n      <td>hsa:441531</td>\n      <td>PPrel</td>\n      <td>compound-propagation</td>\n      <td>custom</td>\n      <td>gene</td>\n      <td>gene</td>\n    </tr>\n    <tr>\n      <th>556</th>\n      <td>hsa:9562</td>\n      <td>hsa:5223</td>\n      <td>PPrel</td>\n      <td>compound-propagation</td>\n      <td>custom</td>\n      <td>gene</td>\n      <td>gene</td>\n    </tr>\n    <tr>\n      <th>557</th>\n      <td>hsa:9562</td>\n      <td>hsa:5224</td>\n      <td>PPrel</td>\n      <td>compound-propagation</td>\n      <td>custom</td>\n      <td>gene</td>\n      <td>gene</td>\n    </tr>\n    <tr>\n      <th>558</th>\n      <td>hsa:9562</td>\n      <td>hsa:669</td>\n      <td>PPrel</td>\n      <td>compound-propagation</td>\n      <td>custom</td>\n      <td>gene</td>\n      <td>gene</td>\n    </tr>\n  </tbody>\n</table>\n<p>559 rows × 7 columns</p>\n</div>"
     },
     "execution_count": 6,
     "metadata": {},
     "output_type": "execute_result"
    }
   ],
   "source": [
    "gene_graph_00010.edges"
   ],
   "metadata": {
    "collapsed": false,
    "ExecuteTime": {
     "end_time": "2024-12-13T20:20:52.879251Z",
     "start_time": "2024-12-13T20:20:52.849705Z"
    }
   },
   "id": "2867376b0a09ecfe",
   "execution_count": 6
  },
  {
   "cell_type": "markdown",
   "source": [
    "In this tutorial, we will use pre-processed protein embedding information directly from uniprot, so we need to convert the KEGG gene ID into UniProt ID. We don't need to convert the KEGG compound id so we keep it untouched. If you didn't specify the \"compound_target\" when initalizing the converter, it will be default as \"kegg\". The same if you only want to convert gene ID. "
   ],
   "metadata": {
    "collapsed": false
   },
   "id": "f96b553da4f024bd"
  },
  {
   "cell_type": "code",
   "outputs": [],
   "source": [
    "converter = kamping.Converter('hsa', gene_target='uniprot', verbose=True)"
   ],
   "metadata": {
    "collapsed": false,
    "ExecuteTime": {
     "end_time": "2024-12-13T20:20:57.551283Z",
     "start_time": "2024-12-13T20:20:52.879923Z"
    }
   },
   "id": "8520704fa221bcf0",
   "execution_count": 7
  },
  {
   "cell_type": "code",
   "outputs": [
    {
     "name": "stderr",
     "output_type": "stream",
     "text": [
      "INFO:kamping.parser.convert:Conversion of path:hsa00010 complete!\n",
      "INFO:kamping.parser.convert:Conversion of path:hsa00020 complete!\n",
      "INFO:kamping.parser.convert:Conversion of path:hsa00030 complete!\n",
      "INFO:kamping.parser.convert:Conversion of path:hsa00040 complete!\n",
      "INFO:kamping.parser.convert:Conversion of path:hsa00051 complete!\n",
      "INFO:kamping.parser.convert:Conversion of path:hsa00052 complete!\n",
      "INFO:kamping.parser.convert:Conversion of path:hsa00053 complete!\n",
      "INFO:kamping.parser.convert:Conversion of path:hsa00061 complete!\n",
      "INFO:kamping.parser.convert:Conversion of path:hsa00062 complete!\n",
      "INFO:kamping.parser.convert:Conversion of path:hsa00071 complete!\n",
      "INFO:kamping.parser.convert:Conversion of path:hsa00100 complete!\n",
      "INFO:kamping.parser.convert:Conversion of path:hsa00120 complete!\n",
      "INFO:kamping.parser.convert:Conversion of path:hsa00130 complete!\n",
      "INFO:kamping.parser.convert:Conversion of path:hsa00140 complete!\n",
      "INFO:kamping.parser.convert:Conversion of path:hsa00220 complete!\n",
      "INFO:kamping.parser.convert:Conversion of path:hsa00230 complete!\n",
      "INFO:kamping.parser.convert:Conversion of path:hsa00232 complete!\n",
      "INFO:kamping.parser.convert:Conversion of path:hsa00240 complete!\n",
      "INFO:kamping.parser.convert:Conversion of path:hsa00250 complete!\n",
      "INFO:kamping.parser.convert:Conversion of path:hsa00260 complete!\n",
      "INFO:kamping.parser.convert:Conversion of path:hsa00270 complete!\n",
      "INFO:kamping.parser.convert:Conversion of path:hsa00280 complete!\n",
      "INFO:kamping.parser.convert:Conversion of path:hsa00310 complete!\n",
      "INFO:kamping.parser.convert:Conversion of path:hsa00330 complete!\n",
      "INFO:kamping.parser.convert:Conversion of path:hsa00340 complete!\n",
      "INFO:kamping.parser.convert:Conversion of path:hsa00350 complete!\n",
      "INFO:kamping.parser.convert:Conversion of path:hsa00360 complete!\n",
      "INFO:kamping.parser.convert:Conversion of path:hsa00380 complete!\n",
      "INFO:kamping.parser.convert:Conversion of path:hsa00400 complete!\n",
      "INFO:kamping.parser.convert:Conversion of path:hsa00410 complete!\n",
      "INFO:kamping.parser.convert:Conversion of path:hsa00430 complete!\n",
      "INFO:kamping.parser.convert:Conversion of path:hsa00440 complete!\n",
      "INFO:kamping.parser.convert:Conversion of path:hsa00450 complete!\n",
      "INFO:kamping.parser.convert:Conversion of path:hsa00470 complete!\n",
      "INFO:kamping.parser.convert:Conversion of path:hsa00480 complete!\n",
      "INFO:kamping.parser.convert:Conversion of path:hsa00500 complete!\n",
      "INFO:kamping.parser.convert:Conversion of path:hsa00510 complete!\n",
      "INFO:kamping.parser.convert:Conversion of path:hsa00512 complete!\n",
      "INFO:kamping.parser.convert:Conversion of path:hsa00513 complete!\n",
      "INFO:kamping.parser.convert:Conversion of path:hsa00515 complete!\n",
      "INFO:kamping.parser.convert:Conversion of path:hsa00520 complete!\n",
      "INFO:kamping.parser.convert:Conversion of path:hsa00531 complete!\n",
      "INFO:kamping.parser.convert:Conversion of path:hsa00532 complete!\n",
      "INFO:kamping.parser.convert:Conversion of path:hsa00534 complete!\n",
      "INFO:kamping.parser.convert:Conversion of path:hsa00561 complete!\n",
      "INFO:kamping.parser.convert:Conversion of path:hsa00562 complete!\n",
      "INFO:kamping.parser.convert:Conversion of path:hsa00563 complete!\n",
      "INFO:kamping.parser.convert:Conversion of path:hsa00564 complete!\n",
      "INFO:kamping.parser.convert:Conversion of path:hsa00565 complete!\n",
      "INFO:kamping.parser.convert:Conversion of path:hsa00590 complete!\n",
      "INFO:kamping.parser.convert:Conversion of path:hsa00591 complete!\n",
      "INFO:kamping.parser.convert:Conversion of path:hsa00592 complete!\n",
      "INFO:kamping.parser.convert:Conversion of path:hsa00600 complete!\n",
      "INFO:kamping.parser.convert:Conversion of path:hsa00601 complete!\n",
      "INFO:kamping.parser.convert:Conversion of path:hsa00603 complete!\n",
      "INFO:kamping.parser.convert:Conversion of path:hsa00604 complete!\n",
      "INFO:kamping.parser.convert:Conversion of path:hsa00620 complete!\n",
      "INFO:kamping.parser.convert:Conversion of path:hsa00630 complete!\n",
      "INFO:kamping.parser.convert:Conversion of path:hsa00640 complete!\n",
      "INFO:kamping.parser.convert:Conversion of path:hsa00650 complete!\n",
      "INFO:kamping.parser.convert:Conversion of path:hsa00670 complete!\n",
      "INFO:kamping.parser.convert:Conversion of path:hsa00730 complete!\n",
      "INFO:kamping.parser.convert:Conversion of path:hsa00740 complete!\n",
      "INFO:kamping.parser.convert:Conversion of path:hsa00750 complete!\n",
      "INFO:kamping.parser.convert:Conversion of path:hsa00760 complete!\n",
      "INFO:kamping.parser.convert:Conversion of path:hsa00770 complete!\n",
      "INFO:kamping.parser.convert:Conversion of path:hsa00780 complete!\n",
      "INFO:kamping.parser.convert:Conversion of path:hsa00785 complete!\n",
      "INFO:kamping.parser.convert:Conversion of path:hsa00790 complete!\n",
      "INFO:kamping.parser.convert:Conversion of path:hsa00830 complete!\n",
      "INFO:kamping.parser.convert:Conversion of path:hsa00860 complete!\n",
      "INFO:kamping.parser.convert:Conversion of path:hsa00900 complete!\n",
      "INFO:kamping.parser.convert:Conversion of path:hsa00910 complete!\n",
      "INFO:kamping.parser.convert:Conversion of path:hsa00920 complete!\n",
      "INFO:kamping.parser.convert:Conversion of path:hsa00970 complete!\n",
      "INFO:kamping.parser.convert:Conversion of path:hsa00980 complete!\n",
      "INFO:kamping.parser.convert:Conversion of path:hsa00982 complete!\n",
      "INFO:kamping.parser.convert:Conversion of path:hsa00983 complete!\n",
      "INFO:kamping.parser.convert:Conversion of path:hsa01040 complete!\n",
      "INFO:kamping.parser.convert:Conversion of path:hsa01200 complete!\n",
      "INFO:kamping.parser.convert:Conversion of path:hsa01210 complete!\n",
      "INFO:kamping.parser.convert:Conversion of path:hsa01212 complete!\n",
      "INFO:kamping.parser.convert:Conversion of path:hsa01230 complete!\n",
      "INFO:kamping.parser.convert:Conversion of path:hsa01232 complete!\n",
      "INFO:kamping.parser.convert:Conversion of path:hsa01240 complete!\n",
      "INFO:kamping.parser.convert:Conversion of path:hsa01250 complete!\n",
      "INFO:kamping.parser.convert:Conversion of path:hsa01521 complete!\n",
      "INFO:kamping.parser.convert:Conversion of path:hsa01522 complete!\n",
      "INFO:kamping.parser.convert:Conversion of path:hsa01523 complete!\n",
      "INFO:kamping.parser.convert:Conversion of path:hsa01524 complete!\n",
      "INFO:kamping.parser.convert:Conversion of path:hsa03015 complete!\n",
      "INFO:kamping.parser.convert:Conversion of path:hsa03018 complete!\n",
      "INFO:kamping.parser.convert:Conversion of path:hsa03250 complete!\n",
      "INFO:kamping.parser.convert:Conversion of path:hsa03320 complete!\n",
      "INFO:kamping.parser.convert:Conversion of path:hsa03440 complete!\n",
      "INFO:kamping.parser.convert:Conversion of path:hsa03460 complete!\n",
      "INFO:kamping.parser.convert:Conversion of path:hsa04010 complete!\n",
      "INFO:kamping.parser.convert:Conversion of path:hsa04012 complete!\n",
      "INFO:kamping.parser.convert:Conversion of path:hsa04014 complete!\n",
      "INFO:kamping.parser.convert:Conversion of path:hsa04015 complete!\n",
      "INFO:kamping.parser.convert:Conversion of path:hsa04020 complete!\n",
      "INFO:kamping.parser.convert:Conversion of path:hsa04022 complete!\n",
      "INFO:kamping.parser.convert:Conversion of path:hsa04024 complete!\n",
      "INFO:kamping.parser.convert:Conversion of path:hsa04060 complete!\n",
      "INFO:kamping.parser.convert:Conversion of path:hsa04061 complete!\n",
      "INFO:kamping.parser.convert:Conversion of path:hsa04062 complete!\n",
      "INFO:kamping.parser.convert:Conversion of path:hsa04064 complete!\n",
      "INFO:kamping.parser.convert:Conversion of path:hsa04066 complete!\n",
      "INFO:kamping.parser.convert:Conversion of path:hsa04068 complete!\n",
      "INFO:kamping.parser.convert:Conversion of path:hsa04071 complete!\n",
      "INFO:kamping.parser.convert:Conversion of path:hsa04072 complete!\n",
      "INFO:kamping.parser.convert:Conversion of path:hsa04080 complete!\n",
      "INFO:kamping.parser.convert:Conversion of path:hsa04110 complete!\n",
      "INFO:kamping.parser.convert:Conversion of path:hsa04114 complete!\n",
      "INFO:kamping.parser.convert:Conversion of path:hsa04115 complete!\n",
      "INFO:kamping.parser.convert:Conversion of path:hsa04122 complete!\n",
      "INFO:kamping.parser.convert:Conversion of path:hsa04130 complete!\n",
      "INFO:kamping.parser.convert:Conversion of path:hsa04136 complete!\n",
      "INFO:kamping.parser.convert:Conversion of path:hsa04137 complete!\n",
      "INFO:kamping.parser.convert:Conversion of path:hsa04140 complete!\n",
      "INFO:kamping.parser.convert:Conversion of path:hsa04141 complete!\n",
      "INFO:kamping.parser.convert:Conversion of path:hsa04144 complete!\n",
      "INFO:kamping.parser.convert:Conversion of path:hsa04145 complete!\n",
      "INFO:kamping.parser.convert:Conversion of path:hsa04148 complete!\n",
      "INFO:kamping.parser.convert:Conversion of path:hsa04150 complete!\n",
      "INFO:kamping.parser.convert:Conversion of path:hsa04151 complete!\n",
      "INFO:kamping.parser.convert:Conversion of path:hsa04152 complete!\n",
      "INFO:kamping.parser.convert:Conversion of path:hsa04210 complete!\n",
      "INFO:kamping.parser.convert:Conversion of path:hsa04211 complete!\n",
      "INFO:kamping.parser.convert:Conversion of path:hsa04213 complete!\n",
      "INFO:kamping.parser.convert:Conversion of path:hsa04215 complete!\n",
      "INFO:kamping.parser.convert:Conversion of path:hsa04216 complete!\n",
      "INFO:kamping.parser.convert:Conversion of path:hsa04217 complete!\n",
      "INFO:kamping.parser.convert:Conversion of path:hsa04218 complete!\n",
      "INFO:kamping.parser.convert:Conversion of path:hsa04260 complete!\n",
      "INFO:kamping.parser.convert:Conversion of path:hsa04261 complete!\n",
      "INFO:kamping.parser.convert:Conversion of path:hsa04270 complete!\n",
      "INFO:kamping.parser.convert:Conversion of path:hsa04310 complete!\n",
      "INFO:kamping.parser.convert:Conversion of path:hsa04330 complete!\n",
      "INFO:kamping.parser.convert:Conversion of path:hsa04340 complete!\n",
      "INFO:kamping.parser.convert:Conversion of path:hsa04350 complete!\n",
      "INFO:kamping.parser.convert:Conversion of path:hsa04360 complete!\n",
      "INFO:kamping.parser.convert:Conversion of path:hsa04370 complete!\n",
      "INFO:kamping.parser.convert:Conversion of path:hsa04371 complete!\n",
      "INFO:kamping.parser.convert:Conversion of path:hsa04380 complete!\n",
      "INFO:kamping.parser.convert:Conversion of path:hsa04390 complete!\n",
      "INFO:kamping.parser.convert:Conversion of path:hsa04392 complete!\n",
      "INFO:kamping.parser.convert:Conversion of path:hsa04510 complete!\n",
      "INFO:kamping.parser.convert:Conversion of path:hsa04512 complete!\n",
      "INFO:kamping.parser.convert:Conversion of path:hsa04514 complete!\n",
      "INFO:kamping.parser.convert:Conversion of path:hsa04520 complete!\n",
      "INFO:kamping.parser.convert:Conversion of path:hsa04530 complete!\n",
      "INFO:kamping.parser.convert:Conversion of path:hsa04540 complete!\n",
      "INFO:kamping.parser.convert:Conversion of path:hsa04550 complete!\n",
      "INFO:kamping.parser.convert:Conversion of path:hsa04610 complete!\n",
      "INFO:kamping.parser.convert:Conversion of path:hsa04611 complete!\n",
      "INFO:kamping.parser.convert:Conversion of path:hsa04612 complete!\n",
      "INFO:kamping.parser.convert:Conversion of path:hsa04613 complete!\n",
      "INFO:kamping.parser.convert:Conversion of path:hsa04614 complete!\n",
      "INFO:kamping.parser.convert:Conversion of path:hsa04620 complete!\n",
      "INFO:kamping.parser.convert:Conversion of path:hsa04621 complete!\n",
      "INFO:kamping.parser.convert:Conversion of path:hsa04622 complete!\n",
      "INFO:kamping.parser.convert:Conversion of path:hsa04623 complete!\n",
      "INFO:kamping.parser.convert:Conversion of path:hsa04625 complete!\n",
      "INFO:kamping.parser.convert:Conversion of path:hsa04630 complete!\n",
      "INFO:kamping.parser.convert:Conversion of path:hsa04650 complete!\n",
      "INFO:kamping.parser.convert:Conversion of path:hsa04657 complete!\n",
      "INFO:kamping.parser.convert:Conversion of path:hsa04658 complete!\n",
      "INFO:kamping.parser.convert:Conversion of path:hsa04659 complete!\n",
      "INFO:kamping.parser.convert:Conversion of path:hsa04660 complete!\n",
      "INFO:kamping.parser.convert:Conversion of path:hsa04662 complete!\n",
      "INFO:kamping.parser.convert:Conversion of path:hsa04664 complete!\n",
      "INFO:kamping.parser.convert:Conversion of path:hsa04666 complete!\n",
      "INFO:kamping.parser.convert:Conversion of path:hsa04668 complete!\n",
      "INFO:kamping.parser.convert:Conversion of path:hsa04670 complete!\n",
      "INFO:kamping.parser.convert:Conversion of path:hsa04672 complete!\n",
      "INFO:kamping.parser.convert:Conversion of path:hsa04710 complete!\n",
      "INFO:kamping.parser.convert:Conversion of path:hsa04713 complete!\n",
      "INFO:kamping.parser.convert:Conversion of path:hsa04714 complete!\n",
      "INFO:kamping.parser.convert:Conversion of path:hsa04720 complete!\n",
      "INFO:kamping.parser.convert:Conversion of path:hsa04721 complete!\n",
      "INFO:kamping.parser.convert:Conversion of path:hsa04722 complete!\n",
      "INFO:kamping.parser.convert:Conversion of path:hsa04723 complete!\n",
      "INFO:kamping.parser.convert:Conversion of path:hsa04724 complete!\n",
      "INFO:kamping.parser.convert:Conversion of path:hsa04725 complete!\n",
      "INFO:kamping.parser.convert:Conversion of path:hsa04726 complete!\n",
      "INFO:kamping.parser.convert:Conversion of path:hsa04727 complete!\n",
      "INFO:kamping.parser.convert:Conversion of path:hsa04728 complete!\n",
      "INFO:kamping.parser.convert:Conversion of path:hsa04730 complete!\n",
      "INFO:kamping.parser.convert:Conversion of path:hsa04740 complete!\n",
      "INFO:kamping.parser.convert:Conversion of path:hsa04742 complete!\n",
      "INFO:kamping.parser.convert:Conversion of path:hsa04744 complete!\n",
      "INFO:kamping.parser.convert:Conversion of path:hsa04750 complete!\n",
      "INFO:kamping.parser.convert:Conversion of path:hsa04810 complete!\n",
      "INFO:kamping.parser.convert:Conversion of path:hsa04910 complete!\n",
      "INFO:kamping.parser.convert:Conversion of path:hsa04911 complete!\n",
      "INFO:kamping.parser.convert:Conversion of path:hsa04912 complete!\n",
      "INFO:kamping.parser.convert:Conversion of path:hsa04913 complete!\n",
      "INFO:kamping.parser.convert:Conversion of path:hsa04914 complete!\n",
      "INFO:kamping.parser.convert:Conversion of path:hsa04915 complete!\n",
      "INFO:kamping.parser.convert:Conversion of path:hsa04916 complete!\n",
      "INFO:kamping.parser.convert:Conversion of path:hsa04917 complete!\n",
      "INFO:kamping.parser.convert:Conversion of path:hsa04918 complete!\n",
      "INFO:kamping.parser.convert:Conversion of path:hsa04919 complete!\n",
      "INFO:kamping.parser.convert:Conversion of path:hsa04920 complete!\n",
      "INFO:kamping.parser.convert:Conversion of path:hsa04921 complete!\n",
      "INFO:kamping.parser.convert:Conversion of path:hsa04922 complete!\n",
      "INFO:kamping.parser.convert:Conversion of path:hsa04923 complete!\n",
      "INFO:kamping.parser.convert:Conversion of path:hsa04924 complete!\n",
      "INFO:kamping.parser.convert:Conversion of path:hsa04925 complete!\n",
      "INFO:kamping.parser.convert:Conversion of path:hsa04926 complete!\n",
      "INFO:kamping.parser.convert:Conversion of path:hsa04927 complete!\n",
      "INFO:kamping.parser.convert:Conversion of path:hsa04928 complete!\n",
      "INFO:kamping.parser.convert:Conversion of path:hsa04930 complete!\n",
      "INFO:kamping.parser.convert:Conversion of path:hsa04931 complete!\n",
      "INFO:kamping.parser.convert:Conversion of path:hsa04932 complete!\n",
      "INFO:kamping.parser.convert:Conversion of path:hsa04933 complete!\n",
      "INFO:kamping.parser.convert:Conversion of path:hsa04934 complete!\n",
      "INFO:kamping.parser.convert:Conversion of path:hsa04935 complete!\n",
      "INFO:kamping.parser.convert:Conversion of path:hsa04936 complete!\n",
      "INFO:kamping.parser.convert:Conversion of path:hsa04940 complete!\n",
      "INFO:kamping.parser.convert:Conversion of path:hsa04950 complete!\n",
      "INFO:kamping.parser.convert:Conversion of path:hsa04960 complete!\n",
      "INFO:kamping.parser.convert:Conversion of path:hsa04961 complete!\n",
      "INFO:kamping.parser.convert:Conversion of path:hsa04962 complete!\n",
      "INFO:kamping.parser.convert:Conversion of path:hsa04970 complete!\n",
      "INFO:kamping.parser.convert:Conversion of path:hsa04971 complete!\n",
      "INFO:kamping.parser.convert:Conversion of path:hsa04972 complete!\n",
      "INFO:kamping.parser.convert:Conversion of path:hsa04973 complete!\n",
      "INFO:kamping.parser.convert:Conversion of path:hsa04976 complete!\n",
      "INFO:kamping.parser.convert:Conversion of path:hsa04977 complete!\n",
      "INFO:kamping.parser.convert:Conversion of path:hsa04978 complete!\n",
      "INFO:kamping.parser.convert:Conversion of path:hsa04979 complete!\n",
      "INFO:kamping.parser.convert:Conversion of path:hsa04980 complete!\n",
      "INFO:kamping.parser.convert:Conversion of path:hsa05010 complete!\n",
      "INFO:kamping.parser.convert:Conversion of path:hsa05012 complete!\n",
      "INFO:kamping.parser.convert:Conversion of path:hsa05014 complete!\n",
      "INFO:kamping.parser.convert:Conversion of path:hsa05016 complete!\n",
      "INFO:kamping.parser.convert:Conversion of path:hsa05017 complete!\n",
      "INFO:kamping.parser.convert:Conversion of path:hsa05020 complete!\n",
      "INFO:kamping.parser.convert:Conversion of path:hsa05022 complete!\n",
      "INFO:kamping.parser.convert:Conversion of path:hsa05030 complete!\n",
      "INFO:kamping.parser.convert:Conversion of path:hsa05031 complete!\n",
      "INFO:kamping.parser.convert:Conversion of path:hsa05032 complete!\n",
      "INFO:kamping.parser.convert:Conversion of path:hsa05034 complete!\n",
      "INFO:kamping.parser.convert:Conversion of path:hsa05100 complete!\n",
      "INFO:kamping.parser.convert:Conversion of path:hsa05110 complete!\n",
      "INFO:kamping.parser.convert:Conversion of path:hsa05120 complete!\n",
      "INFO:kamping.parser.convert:Conversion of path:hsa05130 complete!\n",
      "INFO:kamping.parser.convert:Conversion of path:hsa05131 complete!\n",
      "INFO:kamping.parser.convert:Conversion of path:hsa05132 complete!\n",
      "INFO:kamping.parser.convert:Conversion of path:hsa05133 complete!\n",
      "INFO:kamping.parser.convert:Conversion of path:hsa05134 complete!\n",
      "INFO:kamping.parser.convert:Conversion of path:hsa05135 complete!\n",
      "INFO:kamping.parser.convert:Conversion of path:hsa05140 complete!\n",
      "INFO:kamping.parser.convert:Conversion of path:hsa05142 complete!\n",
      "INFO:kamping.parser.convert:Conversion of path:hsa05143 complete!\n",
      "INFO:kamping.parser.convert:Conversion of path:hsa05144 complete!\n",
      "INFO:kamping.parser.convert:Conversion of path:hsa05145 complete!\n",
      "INFO:kamping.parser.convert:Conversion of path:hsa05146 complete!\n",
      "INFO:kamping.parser.convert:Conversion of path:hsa05150 complete!\n",
      "INFO:kamping.parser.convert:Conversion of path:hsa05152 complete!\n",
      "INFO:kamping.parser.convert:Conversion of path:hsa05160 complete!\n",
      "INFO:kamping.parser.convert:Conversion of path:hsa05161 complete!\n",
      "INFO:kamping.parser.convert:Conversion of path:hsa05162 complete!\n",
      "INFO:kamping.parser.convert:Conversion of path:hsa05163 complete!\n",
      "INFO:kamping.parser.convert:Conversion of path:hsa05164 complete!\n",
      "INFO:kamping.parser.convert:Conversion of path:hsa05165 complete!\n",
      "INFO:kamping.parser.convert:Conversion of path:hsa05166 complete!\n",
      "INFO:kamping.parser.convert:Conversion of path:hsa05167 complete!\n",
      "INFO:kamping.parser.convert:Conversion of path:hsa05168 complete!\n",
      "INFO:kamping.parser.convert:Conversion of path:hsa05169 complete!\n",
      "INFO:kamping.parser.convert:Conversion of path:hsa05170 complete!\n",
      "INFO:kamping.parser.convert:Conversion of path:hsa05171 complete!\n",
      "INFO:kamping.parser.convert:Conversion of path:hsa05200 complete!\n",
      "INFO:kamping.parser.convert:Conversion of path:hsa05202 complete!\n",
      "INFO:kamping.parser.convert:Conversion of path:hsa05203 complete!\n",
      "INFO:kamping.parser.convert:Conversion of path:hsa05205 complete!\n",
      "INFO:kamping.parser.convert:Conversion of path:hsa05206 complete!\n",
      "INFO:kamping.parser.convert:Conversion of path:hsa05207 complete!\n",
      "INFO:kamping.parser.convert:Conversion of path:hsa05208 complete!\n",
      "INFO:kamping.parser.convert:Conversion of path:hsa05210 complete!\n",
      "INFO:kamping.parser.convert:Conversion of path:hsa05211 complete!\n",
      "INFO:kamping.parser.convert:Conversion of path:hsa05212 complete!\n",
      "INFO:kamping.parser.convert:Conversion of path:hsa05213 complete!\n",
      "INFO:kamping.parser.convert:Conversion of path:hsa05214 complete!\n",
      "INFO:kamping.parser.convert:Conversion of path:hsa05215 complete!\n",
      "INFO:kamping.parser.convert:Conversion of path:hsa05216 complete!\n",
      "INFO:kamping.parser.convert:Conversion of path:hsa05217 complete!\n",
      "INFO:kamping.parser.convert:Conversion of path:hsa05218 complete!\n",
      "INFO:kamping.parser.convert:Conversion of path:hsa05219 complete!\n",
      "INFO:kamping.parser.convert:Conversion of path:hsa05220 complete!\n",
      "INFO:kamping.parser.convert:Conversion of path:hsa05221 complete!\n",
      "INFO:kamping.parser.convert:Conversion of path:hsa05222 complete!\n",
      "INFO:kamping.parser.convert:Conversion of path:hsa05223 complete!\n",
      "INFO:kamping.parser.convert:Conversion of path:hsa05224 complete!\n",
      "INFO:kamping.parser.convert:Conversion of path:hsa05225 complete!\n",
      "INFO:kamping.parser.convert:Conversion of path:hsa05226 complete!\n",
      "INFO:kamping.parser.convert:Conversion of path:hsa05230 complete!\n",
      "INFO:kamping.parser.convert:Conversion of path:hsa05231 complete!\n",
      "INFO:kamping.parser.convert:Conversion of path:hsa05235 complete!\n",
      "INFO:kamping.parser.convert:Conversion of path:hsa05310 complete!\n",
      "INFO:kamping.parser.convert:Conversion of path:hsa05320 complete!\n",
      "INFO:kamping.parser.convert:Conversion of path:hsa05321 complete!\n",
      "INFO:kamping.parser.convert:Conversion of path:hsa05322 complete!\n",
      "INFO:kamping.parser.convert:Conversion of path:hsa05323 complete!\n",
      "INFO:kamping.parser.convert:Conversion of path:hsa05330 complete!\n",
      "INFO:kamping.parser.convert:Conversion of path:hsa05332 complete!\n",
      "INFO:kamping.parser.convert:Conversion of path:hsa05410 complete!\n",
      "INFO:kamping.parser.convert:Conversion of path:hsa05412 complete!\n",
      "INFO:kamping.parser.convert:Conversion of path:hsa05414 complete!\n",
      "INFO:kamping.parser.convert:Conversion of path:hsa05415 complete!\n",
      "INFO:kamping.parser.convert:Conversion of path:hsa05416 complete!\n",
      "INFO:kamping.parser.convert:Conversion of path:hsa05417 complete!\n",
      "INFO:kamping.parser.convert:Conversion of path:hsa05418 complete!\n"
     ]
    }
   ],
   "source": [
    "for graph in gene_graphs:\n",
    "    converter.convert(graph)"
   ],
   "metadata": {
    "collapsed": false,
    "ExecuteTime": {
     "end_time": "2024-12-13T20:21:00.235914Z",
     "start_time": "2024-12-13T20:20:57.552583Z"
    }
   },
   "id": "59bee3bb4ce1668",
   "execution_count": 8
  },
  {
   "cell_type": "markdown",
   "source": [
    "If you didn't convert Compound ID into other ID. You can use `kamping.get_kegg_mol` function to retrieve the molfile from KEGG for each compound in all graphs and create a MOL object using RDKit (https://www.rdkit.org/). It will return a pd.dataframe with first column the compound ID and second column as the MOL object."
   ],
   "metadata": {
    "collapsed": false
   },
   "id": "dc626c4de0dc43d7"
  },
  {
   "cell_type": "code",
   "outputs": [],
   "source": [
    "# uncomment to run for the first time\n",
    "# mols = kamping.get_kegg_mol(graphs)"
   ],
   "metadata": {
    "collapsed": false,
    "ExecuteTime": {
     "end_time": "2024-12-13T20:21:00.264208Z",
     "start_time": "2024-12-13T20:21:00.236515Z"
    }
   },
   "id": "18f764dbe4e9ad41",
   "execution_count": 9
  },
  {
   "cell_type": "markdown",
   "source": [
    "The process might take a while due to the large number of compounds from so many graphs. It could a good idea to save the created pd.DataFrame for repeated use when testing different approach of embedding metabolite."
   ],
   "metadata": {
    "collapsed": false
   },
   "id": "9109aebb92f98920"
  },
  {
   "cell_type": "code",
   "outputs": [],
   "source": [
    "import pandas as pd\n",
    "\n",
    "# uncommented code below if run the first time\n",
    "# save the mols to a file\n",
    "# mols.to_pickle('data/mols.pkl')\n",
    "# retrieve mol from file\n",
    "mols = pd.read_pickle('data/mols.pkl')"
   ],
   "metadata": {
    "collapsed": false,
    "ExecuteTime": {
     "end_time": "2024-12-13T20:21:00.311841Z",
     "start_time": "2024-12-13T20:21:00.266261Z"
    }
   },
   "id": "a819b7b813758528",
   "execution_count": 10
  },
  {
   "cell_type": "markdown",
   "source": [
    "Not all compound has a molFile from KEGG. Most compounds without molFile are glycan which is doesn't have a fixed atom composition.  Right now, we can just ignore them."
   ],
   "metadata": {
    "collapsed": false
   },
   "id": "2ef27b97041d72c7"
  },
  {
   "cell_type": "code",
   "outputs": [
    {
     "data": {
      "text/plain": "              id                                          ROMol\n0     cpd:C00038  <rdkit.Chem.rdchem.Mol object at 0x2ce43b1a0>\n1     cpd:C01180  <rdkit.Chem.rdchem.Mol object at 0x2cb6ca610>\n2      gl:G00083                                           None\n3     cpd:C20683  <rdkit.Chem.rdchem.Mol object at 0x2ce412480>\n4     cpd:C02593  <rdkit.Chem.rdchem.Mol object at 0x2ce4db650>\n...          ...                                            ...\n1658   gl:G10599                                           None\n1659  cpd:C03090  <rdkit.Chem.rdchem.Mol object at 0x2ce7aa070>\n1660  cpd:C00097  <rdkit.Chem.rdchem.Mol object at 0x2ce79a020>\n1661  cpd:C11134  <rdkit.Chem.rdchem.Mol object at 0x2ce7a9fd0>\n1662  cpd:C22395  <rdkit.Chem.rdchem.Mol object at 0x2ce7a9f80>\n\n[1663 rows x 2 columns]",
      "text/html": "<div>\n<style scoped>\n    .dataframe tbody tr th:only-of-type {\n        vertical-align: middle;\n    }\n\n    .dataframe tbody tr th {\n        vertical-align: top;\n    }\n\n    .dataframe thead th {\n        text-align: right;\n    }\n</style>\n<table border=\"1\" class=\"dataframe\">\n  <thead>\n    <tr style=\"text-align: right;\">\n      <th></th>\n      <th>id</th>\n      <th>ROMol</th>\n    </tr>\n  </thead>\n  <tbody>\n    <tr>\n      <th>0</th>\n      <td>cpd:C00038</td>\n      <td>&lt;rdkit.Chem.rdchem.Mol object at 0x2ce43b1a0&gt;</td>\n    </tr>\n    <tr>\n      <th>1</th>\n      <td>cpd:C01180</td>\n      <td>&lt;rdkit.Chem.rdchem.Mol object at 0x2cb6ca610&gt;</td>\n    </tr>\n    <tr>\n      <th>2</th>\n      <td>gl:G00083</td>\n      <td>None</td>\n    </tr>\n    <tr>\n      <th>3</th>\n      <td>cpd:C20683</td>\n      <td>&lt;rdkit.Chem.rdchem.Mol object at 0x2ce412480&gt;</td>\n    </tr>\n    <tr>\n      <th>4</th>\n      <td>cpd:C02593</td>\n      <td>&lt;rdkit.Chem.rdchem.Mol object at 0x2ce4db650&gt;</td>\n    </tr>\n    <tr>\n      <th>...</th>\n      <td>...</td>\n      <td>...</td>\n    </tr>\n    <tr>\n      <th>1658</th>\n      <td>gl:G10599</td>\n      <td>None</td>\n    </tr>\n    <tr>\n      <th>1659</th>\n      <td>cpd:C03090</td>\n      <td>&lt;rdkit.Chem.rdchem.Mol object at 0x2ce7aa070&gt;</td>\n    </tr>\n    <tr>\n      <th>1660</th>\n      <td>cpd:C00097</td>\n      <td>&lt;rdkit.Chem.rdchem.Mol object at 0x2ce79a020&gt;</td>\n    </tr>\n    <tr>\n      <th>1661</th>\n      <td>cpd:C11134</td>\n      <td>&lt;rdkit.Chem.rdchem.Mol object at 0x2ce7a9fd0&gt;</td>\n    </tr>\n    <tr>\n      <th>1662</th>\n      <td>cpd:C22395</td>\n      <td>&lt;rdkit.Chem.rdchem.Mol object at 0x2ce7a9f80&gt;</td>\n    </tr>\n  </tbody>\n</table>\n<p>1663 rows × 2 columns</p>\n</div>"
     },
     "execution_count": 11,
     "metadata": {},
     "output_type": "execute_result"
    }
   ],
   "source": [
    "mols"
   ],
   "metadata": {
    "collapsed": false,
    "ExecuteTime": {
     "end_time": "2024-12-13T20:21:00.339814Z",
     "start_time": "2024-12-13T20:21:00.312524Z"
    }
   },
   "id": "8b7efe582beca52d",
   "execution_count": 11
  },
  {
   "cell_type": "markdown",
   "source": [
    "After we get the MOL object of each compound, we can use RDkit to embedding them into vectors that can be understanded by machine."
   ],
   "metadata": {
    "collapsed": false
   },
   "id": "ffc0b36cef73f84a"
  },
  {
   "cell_type": "code",
   "outputs": [],
   "source": [
    "# todo: Might be a good idea to depend on scikit-mol  "
   ],
   "metadata": {
    "collapsed": false,
    "ExecuteTime": {
     "end_time": "2024-12-13T20:21:00.364182Z",
     "start_time": "2024-12-13T20:21:00.340505Z"
    }
   },
   "id": "2ce860884d864085",
   "execution_count": 12
  },
  {
   "cell_type": "code",
   "outputs": [
    {
     "name": "stderr",
     "output_type": "stream",
     "text": [
      "WARNING:root:Successfully parse 1432 rows with valid SMILES from the MOL file!\n",
      "'\n",
      "                    total 231 Invalid rows with \"None\" in the ROMol column\n"
     ]
    }
   ],
   "source": [
    "mol_embeddings = kamping.get_mol_embeddings_from_dataframe(mols, transformer='morgan')"
   ],
   "metadata": {
    "collapsed": false,
    "ExecuteTime": {
     "end_time": "2024-12-13T20:21:00.459267Z",
     "start_time": "2024-12-13T20:21:00.364891Z"
    }
   },
   "id": "886ca1764e0b8092",
   "execution_count": 13
  },
  {
   "cell_type": "code",
   "outputs": [],
   "source": [
    "protein_embeddings = kamping.get_uniprot_protein_embeddings(gene_graphs, '../data/embedding/protein_embedding.h5')"
   ],
   "metadata": {
    "collapsed": false,
    "ExecuteTime": {
     "end_time": "2024-12-13T20:21:01.280261Z",
     "start_time": "2024-12-13T20:21:00.460025Z"
    }
   },
   "id": "db9d1c644911c800",
   "execution_count": 14
  },
  {
   "cell_type": "code",
   "outputs": [
    {
     "data": {
      "text/plain": "KEGG Pathway: \n            [Title]: Glycolysis / Gluconeogenesis\n            [Name]: path:hsa00010\n            [Org]: hsa\n            [Link]: https://www.kegg.jp/kegg-bin/show_pathway?hsa00010\n            [Image]: https://www.kegg.jp/kegg/pathway/hsa/hsa00010.png\n            [Link]: https://www.kegg.jp/kegg-bin/show_pathway?hsa00010\n            Graph type: gene \n            Number of Genes: 104\n            Number of Compounds: 0\n            Gene ID type : uniprot\n            Compound ID type : kegg\n            Number of Nodes: 104\n            Number of Edges: 1278"
     },
     "execution_count": 15,
     "metadata": {},
     "output_type": "execute_result"
    }
   ],
   "source": [
    "gene_graphs[0]"
   ],
   "metadata": {
    "collapsed": false,
    "ExecuteTime": {
     "end_time": "2024-12-13T20:21:01.310155Z",
     "start_time": "2024-12-13T20:21:01.280931Z"
    }
   },
   "id": "74d188a36dfc3bca",
   "execution_count": 15
  },
  {
   "cell_type": "markdown",
   "source": [
    "## 2. Create a Pytorch-geometric data object"
   ],
   "metadata": {
    "collapsed": false
   },
   "id": "5b26efb4a375e79a"
  },
  {
   "cell_type": "code",
   "outputs": [],
   "source": [
    "pyg_one_graph = kamping.convert_to_single_pyg(gene_graphs, embeddings=protein_embeddings)"
   ],
   "metadata": {
    "collapsed": false,
    "ExecuteTime": {
     "end_time": "2024-12-13T21:48:30.115357Z",
     "start_time": "2024-12-13T21:48:27.818390Z"
    }
   },
   "id": "bdc85552d65b3d70",
   "execution_count": 68
  },
  {
   "cell_type": "code",
   "outputs": [
    {
     "data": {
      "text/plain": "Data(x=[7275, 1024])"
     },
     "execution_count": 69,
     "metadata": {},
     "output_type": "execute_result"
    }
   ],
   "source": [
    "data = pyg_one_graph\n",
    "data"
   ],
   "metadata": {
    "collapsed": false,
    "ExecuteTime": {
     "end_time": "2024-12-13T21:48:30.876789Z",
     "start_time": "2024-12-13T21:48:30.842778Z"
    }
   },
   "id": "3384f417c00032c4",
   "execution_count": 69
  },
  {
   "cell_type": "code",
   "outputs": [],
   "source": [
    "original_edge_index = data.edge_index"
   ],
   "metadata": {
    "collapsed": false,
    "ExecuteTime": {
     "end_time": "2024-12-13T21:30:54.097443Z",
     "start_time": "2024-12-13T21:30:54.066756Z"
    }
   },
   "id": "661488e3f459ebbd",
   "execution_count": 29
  },
  {
   "cell_type": "markdown",
   "source": [
    "Pytorch-geometric data mainly consist of \"edge_index\" and \"x\", which is the feature of nodes. Other information are also saved for prediction interpretation, such as the node_type, node original name (\"node_name\"), \"edge_type\", \"edge_subtype_name\". Other information such as \"name\" is \"combined\" indicate it  is a combined graph from small graphs and type=\"gene\" indicate it is a homogenous \"gene\" graph."
   ],
   "metadata": {
    "collapsed": false
   },
   "id": "4b7dd9f16f72e2d9"
  },
  {
   "cell_type": "code",
   "outputs": [],
   "source": [
    "from torch_geometric.loader import DataLoader\n",
    "dataloader = DataLoader([data])\n",
    "batch = next(iter(dataloader))"
   ],
   "metadata": {
    "collapsed": false,
    "ExecuteTime": {
     "end_time": "2024-11-30T01:44:32.474404Z",
     "start_time": "2024-11-30T01:44:32.435510Z"
    }
   },
   "id": "9f85b528e8295fe9",
   "execution_count": 23
  },
  {
   "cell_type": "code",
   "outputs": [
    {
     "data": {
      "text/plain": "[['up:P14550',\n  'up:P07327',\n  'up:V9HWI0',\n  'up:P00325',\n  'up:V9HW50',\n  'up:P00326',\n  'up:P08319',\n  'up:V9HVX7',\n  'up:P11766',\n  'up:Q6IRT1',\n  'up:P28332',\n  'up:Q8IUN7',\n  'up:P40394',\n  'up:P05091',\n  'up:A0A384NPN7',\n  'up:P30838',\n  'up:Q6PKA6',\n  'up:P30837',\n  'up:A0A384MTJ7',\n  'up:P43353',\n  'up:P49189',\n  'up:P51648',\n  'up:P49419',\n  'up:Q96C23',\n  'up:P35557',\n  'up:Q53Y25',\n  'up:A0A384MDW6',\n  'up:P19367',\n  'up:B3KXY9',\n  'up:A8K7J7',\n  'up:Q59FD4',\n  'up:P52789',\n  'up:P52790',\n  'up:Q2TB90',\n  'up:B3KT70',\n  'up:Q9BRR6',\n  'up:Q6ZMR3',\n  'up:P10515',\n  'up:Q86YI5',\n  'up:P08559',\n  'up:P29803',\n  'up:P11177',\n  'up:A0A384MDR8',\n  'up:P09622',\n  'up:A0A024R713',\n  'up:P00338',\n  'up:V9HWB9',\n  'up:P07195',\n  'up:Q5U077',\n  'up:P07864',\n  'up:A0A140VKA7',\n  'up:Q9BYZ2',\n  'up:A0A140VJM9',\n  'up:P06733',\n  'up:Q8N0Y7',\n  'up:A0A024R4F1',\n  'up:P18669',\n  'up:Q6FHU2',\n  'up:P15259',\n  'up:P30613',\n  'up:P14618',\n  'up:V9HWB8',\n  'up:P07738',\n  'up:A0A024R782',\n  'up:P09104',\n  'up:Q6FHV6',\n  'up:P13929',\n  'up:Q9NR19',\n  'up:Q6DKJ3',\n  'up:Q9NUB1',\n  'up:P09467',\n  'up:P06744',\n  'up:P17858',\n  'up:Q7L2M7',\n  'up:P08237',\n  'up:A0A024R0Y5',\n  'up:Q01813',\n  'up:P04075',\n  'up:V9HWN7',\n  'up:P04406',\n  'up:V9HVZ4',\n  'up:O14556',\n  'up:A0A0K0K1K1',\n  'up:P60174',\n  'up:V9HWK1',\n  'up:Q53HE2',\n  'up:O00757',\n  'up:P05062',\n  'up:P09972',\n  'up:A0A024QZ64',\n  'up:P35575',\n  'up:P00558',\n  'up:V9HWF4',\n  'up:P07205',\n  'up:A0A140VJR3',\n  'up:P36871',\n  'up:Q96G03',\n  'up:Q9NQR9',\n  'up:Q9BUM1',\n  'up:A6NNW6',\n  'up:P35558',\n  'up:Q16822',\n  'up:A0A384MTT2',\n  'up:Q9UNW1',\n  'up:O75390',\n  'up:P40925',\n  'up:V9HWF2',\n  'up:P40926',\n  'up:A0A024R4K3',\n  'up:B3KTM1',\n  'up:P53396',\n  'up:P21399',\n  'up:V9HWB7',\n  'up:Q9HBB2',\n  'up:Q99798',\n  'up:P11498',\n  'up:P36957',\n  'up:Q02218',\n  'up:B4E3E9',\n  'up:Q9ULD0',\n  'up:Q96I99',\n  'up:P53597',\n  'up:Q9P2R7',\n  'up:E5KS60',\n  'up:Q9Y4T0',\n  'up:O75874',\n  'up:A0A024R3Y6',\n  'up:P48735',\n  'up:P50213',\n  'up:O43837',\n  'up:P51553',\n  'up:P07954',\n  'up:A0A0S2Z4C3',\n  'up:P31040',\n  'up:P21912',\n  'up:Q99643',\n  'up:A0A0S2Z4B7',\n  'up:O14521',\n  'up:A0A0S2Z4J3',\n  'up:Q9Y315',\n  'up:P37837',\n  'up:A0A140VK56',\n  'up:P29401',\n  'up:V9HWD9',\n  'up:P51854',\n  'up:Q9H0I9',\n  'up:A0A140VKC2',\n  'up:P21108',\n  'up:P49247',\n  'up:Q96AT9',\n  'up:Q9H477',\n  'up:Q2QD12',\n  'up:P60891',\n  'up:P11908',\n  'up:Q9UHJ6',\n  'up:A0A0B4J2A0',\n  'up:P11413',\n  'up:O95336',\n  'up:A0A0K0K1K7',\n  'up:A0A384NL00',\n  'up:P52209',\n  'up:Q5T6J7',\n  'up:Q15493',\n  'up:V9HWF8',\n  'up:Q9Y2S2',\n  'up:V9HWG2',\n  'up:O75310',\n  'up:P08236',\n  'up:O60701',\n  'up:Q9UEF7',\n  'up:P0DTE4',\n  'up:P15121',\n  'up:Q9UQ10',\n  'up:Q7Z4W1',\n  'up:A0A384NY14',\n  'up:Q00796',\n  'up:C9JRZ8',\n  'up:O60218',\n  'up:Q9BY64',\n  'up:Q9HAW8',\n  'up:Q5DT02',\n  'up:Q9HAW9',\n  'up:Q5DSZ6',\n  'up:Q9HAW7',\n  'up:Q5DSZ7',\n  'up:P19224',\n  'up:Q5DSZ8',\n  'up:P35504',\n  'up:Q5DSZ9',\n  'up:O60656',\n  'up:Q5DSZ5',\n  'up:P22310',\n  'up:P22309',\n  'up:Q5DT03',\n  'up:P35503',\n  'up:Q5DT01',\n  'up:Q96C11',\n  'up:P0DTE5',\n  'up:O75191',\n  'up:P06133',\n  'up:P16662',\n  'up:P36537',\n  'up:P54855',\n  'up:O75795',\n  'up:Q6UWM9',\n  'up:Q16851',\n  'up:P16118',\n  'up:O60825',\n  'up:Q16875',\n  'up:Q16877',\n  'up:Q9NQ88',\n  'up:P06280',\n  'up:Q53Y83',\n  'up:P10253',\n  'up:P07902',\n  'up:B2RAT6',\n  'up:A0A0S2Z3Y7',\n  'up:Q8TET4',\n  'up:P16278',\n  'up:P14410',\n  'up:O43451',\n  'up:Q2M2H8',\n  'up:Q9UGB7',\n  'up:P86397',\n  'up:P49327',\n  'up:L0R6P0',\n  'up:Q9BV79',\n  'up:Q8N4T8',\n  'up:Q4G176',\n  'up:Q8IVS2',\n  'up:Q13085',\n  'up:O00763',\n  'up:P33121',\n  'up:A8K9T3',\n  'up:O95573',\n  'up:O60488',\n  'up:Q96GR2',\n  'up:B3KNS7',\n  'up:Q9UKU0',\n  'up:B2RB13',\n  'up:Q9ULC5',\n  'up:Q9NWU1',\n  'up:Q9NV23',\n  'up:Q5FVE4',\n  'up:A0A140VJD4',\n  'up:Q92506',\n  'up:A0A1U9X7U3',\n  'up:P42765',\n  'up:P40939',\n  'up:E9KL44',\n  'up:B3KNP8',\n  'up:Q16836',\n  'up:A0A140VK76',\n  'up:P30084',\n  'up:Q6Y1H2',\n  'up:Q9NZ01',\n  'up:P55084',\n  'up:Q5VWC8',\n  'up:P50897',\n  'up:Q9UMR5',\n  'up:A0A1U9X8D2',\n  'up:Q53GQ0',\n  'up:Q9P035',\n  'up:B0YJ81',\n  'up:Q9NXB9',\n  'up:Q9NYP7',\n  'up:B3KWH9',\n  'up:Q9BW60',\n  'up:Q9GZR5',\n  'up:Q9H5J4',\n  'up:A1L3X0',\n  'up:Q9HB03',\n  'up:P49753',\n  'up:O00154',\n  'up:Q5T1C6',\n  'up:A8K0C9',\n  'up:Q8N9L9',\n  'up:Q8N1Q8',\n  'up:Q86TX2',\n  'up:E9KL42',\n  'up:Q08426',\n  'up:P09110',\n  'up:A0A024R2M6',\n  'up:P28330',\n  'up:P11310',\n  'up:A0A0S2Z366',\n  'up:P16219',\n  'up:E5KSD5',\n  'up:P45954',\n  'up:A0A0S2Z3P9',\n  'up:P49748',\n  'up:P24752',\n  'up:A0A140VJX1',\n  'up:Q9BWD1',\n  'up:Q15067',\n  'up:O15254',\n  'up:Q8TCG5',\n  'up:P23786',\n  'up:A0A140VK13',\n  'up:B3KU49',\n  'up:P50416',\n  'up:Q8WZ48',\n  'up:B2RAQ8',\n  'up:Q92523',\n  'up:A5PLL0',\n  'up:Q53FV7',\n  'up:Q7Z449',\n  'up:Q92947',\n  'up:B4DSX9',\n  'up:Q15392',\n  'up:Q86SR3',\n  'up:O75612',\n  'up:P35610',\n  'up:O75908',\n  'up:Q15125',\n  'up:A0A024QYX0',\n  'up:O75845',\n  'up:Q6VVX0',\n  'up:Q07973',\n  'up:O15528',\n  'up:Q16850',\n  'up:Q14739',\n  'up:O76062',\n  'up:Q9UBM7',\n  'up:A0A024R5F7',\n  'up:Q15800',\n  'up:P37268',\n  'up:Q6IAX1',\n  'up:Q14534',\n  'up:Q5HYI4',\n  'up:P38571',\n  'up:P48449',\n  'up:B2R694',\n  'up:Q15738',\n  'up:P56937',\n  'up:A0A384NPZ7',\n  'up:Q14032',\n  'up:P17516',\n  'up:Q9UNU6',\n  'up:Q02318',\n  'up:P22680',\n  'up:P51857',\n  'up:O75881',\n  'up:Q05C57',\n  'up:Q99424',\n  'up:P22307',\n  'up:A0A384NY87',\n  'up:Q59HG9',\n  'up:B2R761',\n  'up:P15559',\n  'up:P17735',\n  'up:P32754',\n  'up:A0A140VKB7',\n  'up:P24462',\n  'up:P05181',\n  'up:P08684',\n  'up:Q6GRK0',\n  'up:P14060',\n  'up:P26439',\n  'up:O00204',\n  'up:P42330',\n  'up:A0A0A0MSS8',\n  'up:P05093',\n  'up:Q1HB44',\n  'up:P52895',\n  'up:P28845',\n  'up:X5D2L1',\n  'up:P37058',\n  'up:Q6FH62',\n  'up:Q7Z5J1',\n  'up:Q8NBQ5',\n  'up:O14756',\n  'up:P21964',\n  'up:A0A140VJG8',\n  'up:P04798',\n  'up:A0N0X8',\n  'up:Q8WZ04',\n  'up:P14061',\n  'up:P37059',\n  'up:P05177',\n  'up:Q16678',\n  'up:Q53TK1',\n  'up:P20815',\n  'up:P05108',\n  'up:A0A0S2Z3R3',\n  'up:P08686',\n  'up:Q08AG9',\n  'up:P08842',\n  'up:P15538',\n  'up:P19099',\n  'up:Q8TDD0',\n  'up:P80365',\n  'up:P11511',\n  'up:Q8TCA4',\n  'up:Q8IYG4',\n  'up:Q04828',\n  'up:P18405',\n  'up:P31213',\n  'up:Q9H8P0',\n  'up:P49888',\n  'up:Q53X91',\n  'up:B4DNW0',\n  'up:P00480',\n  'up:P31327',\n  'up:Q6PEK7',\n  'up:Q8NHS2',\n  'up:Q8N159',\n  'up:P00367',\n  'up:E9KL48',\n  'up:P49448',\n  'up:A0A140VK14',\n  'up:Q9UI32',\n  'up:P15104',\n  'up:A8YXX4',\n  'up:O94925',\n  'up:P17174',\n  'up:A0A140VK69',\n  'up:P00505',\n  'up:P24298',\n  'up:P05089',\n  'up:P78540',\n  'up:P04424',\n  'up:A0A024RDL8',\n  'up:P29475',\n  'up:B3VK56',\n  'up:A0PJJ7',\n  'up:B4DG68',\n  'up:P35228',\n  'up:P29474',\n  'up:P00966',\n  'up:Q5T6L4',\n  'up:Q8TD30',\n  'up:Q03154',\n  'up:V9HWA0',\n  'up:P00813',\n  'up:Q8IV20',\n  'up:A0A0S2Z381',\n  'up:P00491',\n  'up:V9HWH6',\n  'up:Q96P26',\n  'up:Q9Y3D8',\n  'up:Q96M32',\n  'up:P55263',\n  'up:Q96MA6',\n  'up:P27707',\n  'up:F5CTF3',\n  'up:Q16854',\n  'up:E5KSL5',\n  'up:P00568',\n  'up:Q6FGX9',\n  'up:P54819',\n  'up:A0A140VK93',\n  'up:P27144',\n  'up:Q5TCS8',\n  'up:Q9Y6K8',\n  'up:Q16774',\n  'up:Q6IBG8',\n  'up:Q7Z4H3',\n  'up:A0A140VJK7',\n  'up:Q9NZK5',\n  'up:O75414',\n  'up:Q08828',\n  'up:Q08462',\n  'up:Q71UM8',\n  'up:O60266',\n  'up:O95622',\n  'up:A0A384P5Q5',\n  'up:B7Z2C7',\n  'up:O43306',\n  'up:P51828',\n  'up:Q86YI0',\n  'up:P40145',\n  'up:A0A0K0K1K3',\n  'up:Q4F7X0',\n  'up:O60503',\n  'up:Q8WVQ1',\n  'up:Q96DE0',\n  'up:Q8NFM4',\n  'up:P33402',\n  'up:Q02108',\n  'up:Q02153',\n  'up:P25092',\n  'up:P51841',\n  'up:Q02846',\n  'up:P50583',\n  'up:Q9BY32',\n  'up:A0A0S2Z3W7',\n  'up:Q8N4P3',\n  'up:Q5MY95',\n  'up:P16066',\n  'up:A0A140VJE6',\n  'up:P20594',\n  'up:Q7LG56',\n  'up:Q9UIJ7',\n  'up:Q7Z4Y4',\n  'up:P22413',\n  'up:O14638',\n  'up:Q96PN6',\n  'up:A0A0K0K1J8',\n  'up:P23921',\n  'up:P31350',\n  'up:Q9BSD7',\n  'up:Q5TDE9',\n  'up:P49961',\n  'up:Q9Y5L3',\n  'up:O75354',\n  'up:O75355',\n  'up:O75356',\n  'up:Q9Y227',\n  'up:P49902',\n  'up:A0A384MED8',\n  'up:A8K6K2',\n  'up:P23109',\n  'up:Q01433',\n  'up:Q01432',\n  'up:Q9Y5B8',\n  'up:Q8TCD5',\n  'up:V9HWF3',\n  'up:P07741',\n  'up:P15531',\n  'up:A0A384MTW7',\n  'up:P22392',\n  'up:Q6FHN3',\n  'up:Q13232',\n  'up:O00746',\n  'up:P21589',\n  'up:Q6NZX3',\n  'up:Q9NPB1',\n  'up:Q9BXI3',\n  'up:A0A140VJC7',\n  'up:P22234',\n  'up:P30566',\n  'up:X5D8S6',\n  'up:Q9Y233',\n  'up:Q9HCR9',\n  'up:P54750',\n  'up:Q14123',\n  'up:O00408',\n  'up:Q8IW54',\n  'up:Q14432',\n  'up:Q13370',\n  'up:A7E2E5',\n  'up:P16499',\n  'up:P51160',\n  'up:O43924',\n  'up:Q6IB24',\n  'up:P18545',\n  'up:Q13956',\n  'up:O76083',\n  'up:A0A0S2Z4T6',\n  'up:Q01064',\n  'up:P35913',\n  'up:O76074',\n  'up:P36959',\n  'up:Q9P2T1',\n  'up:Q9UKK9',\n  'up:Q8N142',\n  'up:P30520',\n  'up:A0A024R5Q7',\n  'up:P20839',\n  'up:P12268',\n  'up:A0A384N6C2',\n  'up:P31939',\n  'up:V9HWH7',\n  'up:P00492',\n  'up:A0A140VJL3',\n  'up:P47989',\n  'up:Q9Y2T3',\n  'up:Q06203',\n  'up:A8K4H7',\n  'up:Q59G63',\n  'up:P22102',\n  'up:O15067',\n  'up:Q6P4B4',\n  'up:A8K9T9',\n  'up:P49915',\n  'up:A0A140VJK6',\n  'up:Q86TP1',\n  'up:Q9BW91',\n  'up:Q96KB3',\n  'up:Q3LIE5',\n  'up:W0NWJ0',\n  'up:O95340',\n  'up:Q5TB52',\n  'up:O43252',\n  'up:P11245',\n  'up:A4Z6T7',\n  'up:P11509',\n  'up:P20853',\n  'up:P18440',\n  'up:O95045',\n  'up:A0A0S2Z634',\n  'up:P19971',\n  'up:E5KRG5',\n  'up:B2RBL3',\n  'up:Q9NWZ5',\n  'up:Q53HM1',\n  'up:P04183',\n  'up:A0A384MDV9',\n  'up:O00142',\n  'up:Q8IZR3',\n  'up:Q9BZX2',\n  'up:Q16831',\n  'up:B4DND0',\n  'up:Q9HA47',\n  'up:P32320',\n  'up:Q5EBM0',\n  'up:P17812',\n  'up:P33316',\n  'up:P30085',\n  'up:A0A494BXC7',\n  'up:Q9NRF8',\n  'up:Q9H773',\n  'up:O95671',\n  'up:B3KM43',\n  'up:Q969T7',\n  'up:P32321',\n  'up:Q9H0P0',\n  'up:Q12882',\n  'up:P23919',\n  'up:Q6FGU2',\n  'up:P04818',\n  'up:Q53Y97',\n  'up:Q02127',\n  'up:P11172',\n  'up:A8K5J1',\n  'up:P27708',\n  'up:Q14117',\n  'up:Q9UBR1',\n  'up:B3KNC1',\n  'up:Q96RQ9',\n  'up:P80404',\n  'up:P51649',\n  'up:X5DQN2',\n  'up:X5D8S1',\n  'up:P21549',\n  'up:Q99259',\n  'up:A0A0S2Z3V5',\n  'up:Q8IVA8',\n  'up:Q05329',\n  'up:Q5VZ30',\n  'up:Q9BYV1',\n  'up:P35520',\n  'up:P32929',\n  'up:Q8IVS8',\n  'up:P14920',\n  'up:A0A024RBI1',\n  'up:P13196',\n  'up:Q5JAM2',\n  'up:P22557',\n  'up:O75600',\n  'up:A8K228',\n  'up:P50440',\n  'up:A0A140VK19',\n  'up:Q14749',\n  'up:V9HW60',\n  'up:P23378',\n  'up:P34896',\n  'up:P34897',\n  'up:V9HW06',\n  'up:Q5BJF5',\n  'up:Q9UL12',\n  'up:A8K596',\n  'up:P20132',\n  'up:Q8WW81',\n  'up:Q96GA7',\n  'up:Q9GZT4',\n  'up:Q3ZK31',\n  'up:Q8N3F4',\n  'up:Q9NTF0',\n  'up:Q9UBQ7',\n  'up:A0A384N605',\n  'up:O43175',\n  'up:Q9Y617',\n  'up:Q14353',\n  'up:V9HWB2',\n  'up:Q9P0Z9',\n  'up:P48728',\n  'up:Q9UI17',\n  'up:B3KQ84',\n  'up:P78330',\n  'up:Q93088',\n  'up:V9HWA4',\n  'up:Q8NE62',\n  'up:Q6YP21',\n  'up:B4DW13',\n  'up:Q16773',\n  'up:A8K563',\n  'up:Q16878',\n  'up:O43865',\n  'up:A0A024R0A8',\n  'up:Q9H2M3',\n  'up:Q99707',\n  'up:P25325',\n  'up:A0A140VJX3',\n  'up:P54687',\n  'up:O15382',\n  'up:Q16762',\n  'up:A0A384NKQ2',\n  'up:Q9BV20',\n  'up:P26358',\n  'up:I6L9H2',\n  'up:P23526',\n  'up:A0A384MTQ3',\n  'up:Q96HN2',\n  'up:Q9Y6K1',\n  'up:Q9UBC3',\n  'up:Q9NZL9',\n  'up:A0A140VJP2',\n  'up:Q00266',\n  'up:P31153',\n  'up:A0A140VJP5',\n  'up:P17707',\n  'up:P52788',\n  'up:B4DZ60',\n  'up:Q6N0B2',\n  'up:A0A088AWN0',\n  'up:P19623',\n  'up:P48506',\n  'up:P48637',\n  'up:V9HWJ1',\n  'up:Q14TF0',\n  'up:P48507',\n  'up:Q13126',\n  'up:A0A384ME80',\n  'up:Q96GX9',\n  'up:Q9UHY7',\n  'up:Q9BV57',\n  'up:Q01581',\n  'up:P54868',\n  'up:A0A140VJL2',\n  'up:P55809',\n  'up:A0A024R040',\n  'up:P05165',\n  'up:P05166',\n  'up:Q9BYC2',\n  'up:Q86V21',\n  'up:P31937',\n  'up:A0A024RA75',\n  'up:Q06278',\n  'up:Q02252',\n  'up:A0A024R6G4',\n  'up:P11182',\n  'up:Q9UKU7',\n  'up:P26440',\n  'up:A0A0A0MT83',\n  'up:P12694',\n  'up:P21953',\n  'up:A0A140VKB3',\n  'up:Q6NVY1',\n  'up:A0A140VJL0',\n  'up:Q99714',\n  'up:A0A0S2Z410',\n  'up:Q96RQ3',\n  'up:A0A0S2Z693',\n  'up:Q9HCC0',\n  'up:A0A140VK29',\n  'up:P22033',\n  'up:A0A024RD82',\n  'up:B2R6K1',\n  'up:Q96PE7',\n  'up:P35914',\n  'up:Q8TB92',\n  'up:O95896',\n  'up:Q13825',\n  'up:Q9UDR5',\n  'up:A4D0W4',\n  'up:Q96KQ7',\n  'up:A0A024RCN9',\n  'up:Q9NQW5',\n  'up:Q8NB12',\n  'up:Q5HYE8',\n  'up:Q92800',\n  'up:Q15910',\n  'up:Q9BYW2',\n  'up:Q03164',\n  'up:Q4FZB7',\n  'up:Q9BZ95',\n  'up:Q9NR48',\n  'up:Q8IZD2',\n  'up:Q9NRG4',\n  'up:Q9NQV7',\n  'up:A0AAG2UW24',\n  'up:Q8NEZ4',\n  'up:Q53H47',\n  'up:Q96L73',\n  'up:Q9H7B4',\n  'up:O43463',\n  'up:O96028',\n  'up:Q13029',\n  'up:Q9H5I1',\n  'up:Q9H9B1',\n  'up:Q7Z624',\n  'up:O14686',\n  'up:Q59FG6',\n  'up:Q6PIA1',\n  'up:Q96T68',\n  'up:Q8TEK3',\n  'up:Q86Y97',\n  'up:O15047',\n  'up:Q9UMN6',\n  'up:Q15047',\n  'up:A2RU49',\n  'up:Q8IUZ5',\n  'up:Q96HY7',\n  'up:Q03112',\n  'up:O75936',\n  'up:Q9NQR1',\n  'up:Q8N5Z0',\n  'up:Q4W5N8',\n  'up:Q02809',\n  'up:Q8IYK4',\n  'up:Q8NBJ5',\n  'up:O60568',\n  'up:Q9UG85',\n  'up:O00469',\n  'up:Q9HAZ2',\n  'up:Q8WTS6',\n  'up:Q9NQX0',\n  'up:P21397',\n  'up:Q53YE7',\n  'up:Q49A63',\n  'up:P27338',\n  'up:Q86XE5',\n  'up:Q96KP4',\n  'up:A5YM72',\n  'up:Q96KN2',\n  'up:P19801',\n  'up:Q9NWM0',\n  'up:Q96N76',\n  'up:Q96NU7',\n  'up:B3KVC5',\n  'up:O95954',\n  'up:P42357',\n  'up:P19113',\n  'up:P50135',\n  'up:Q8N4J0',\n  'up:P20711',\n  'up:Q53Y41',\n  'up:A0A0S2Z3N4',\n  'up:P14174',\n  'up:I4AY87',\n  'up:P07101',\n  'up:P78428',\n  'up:P07202',\n  'up:Q502Y3',\n  'up:Q6P534',\n  'up:P14679',\n  'up:L8B082',\n  'up:P09172',\n  'up:P11086',\n  'up:P40126',\n  'up:P17643',\n  'up:O75106',\n  'up:Q16853',\n  'up:Q9UEU7',\n  'up:O43708',\n  'up:P16930',\n  'up:A0A384P5L6',\n  'up:A0A0C4DFM0',\n  'up:Q93099',\n  'up:P00439',\n  'up:Q8IWU9',\n  'up:Q6ZQW0',\n  'up:P14902',\n  'up:A0A348GSI3',\n  'up:Q63HM1',\n  'up:O15229',\n  'up:A8K693',\n  'up:Q16719',\n  'up:Q8TDX5',\n  'up:Q9H2A2',\n  'up:Q16613',\n  'up:P46597',\n  'up:F1T0I5',\n  'up:O95050',\n  'up:P46952',\n  'up:P48775',\n  'up:P17752',\n  'up:P04040',\n  'up:A0A384P5Q0',\n  'up:Q6ZQY3',\n  'up:Q9Y600',\n  'up:Q86V02',\n  'up:Q01740',\n  'up:Q6P531',\n  'up:Q6ZPD7',\n  'up:B2RCG5',\n  'up:P19440',\n  'up:A0A140VJJ9',\n  'up:Q9UJ14',\n  'up:A0PJJ9',\n  'up:P36269',\n  'up:Q99518',\n  'up:Q5JPC7',\n  'up:P31513',\n  'up:Q53FW5',\n  'up:A0A024R8Z4',\n  'up:P31512',\n  'up:P49326',\n  'up:Q96SZ5',\n  'up:B3KXN9',\n  'up:P49585',\n  'up:Q9Y6K0',\n  'up:B4E322',\n  'up:Q8WUD6',\n  'up:Q99447',\n  'up:Q9C0D9',\n  'up:Q9Y5K3',\n  'up:Q9NNW7',\n  'up:Q86VQ6',\n  'up:Q8IV42',\n  'up:Q9HD40',\n  'up:P56192',\n  'up:Q96GW9',\n  'up:Q16881',\n  'up:Q7Z3D6',\n  'up:Q9H4Y5',\n  'up:Q7RTV2',\n  'up:P59796',\n  'up:O60760',\n  'up:A0A384P5J0',\n  'up:P07203',\n  'up:Q7L4Q3',\n  'up:P18283',\n  'up:P22352',\n  'up:P36969',\n  'up:O75715',\n  'up:V9HWN8',\n  'up:Q96SL4',\n  'up:P15144',\n  'up:Q59E93',\n  'up:P08263',\n  'up:A0A140VJK4',\n  'up:P09210',\n  'up:A0A140VKE2',\n  'up:A8K987',\n  'up:Q16772',\n  'up:O15217',\n  'up:P09488',\n  'up:X5DR03',\n  'up:P28161',\n  'up:A0A384P5E9',\n  'up:Q0D2I8',\n  'up:P21266',\n  'up:Q6FGJ9',\n  'up:Q03013',\n  'up:A0A140VKE3',\n  'up:P46439',\n  'up:Q5T8R2',\n  'up:P09211',\n  'up:V9HWE9',\n  'up:P30711',\n  'up:P0CG29',\n  'up:Q9Y2Q3',\n  'up:Q6FII1',\n  'up:P10620',\n  'up:Q99735',\n  'up:O14880',\n  'up:Q8TED1',\n  'up:P0CG30',\n  'up:G9J6Q5',\n  'up:P78417',\n  'up:V9HWG9',\n  'up:P00390',\n  'up:V9HW90',\n  'up:P35573',\n  'up:Q6PCE3',\n  'up:A0A0S2A4E4',\n  'up:Q9H227',\n  'up:A8K9N1',\n  'up:Q04446',\n  'up:Q59ET0',\n  'up:P0DUB6',\n  'up:P0DTE7',\n  'up:P0DTE8',\n  'up:Q6NSB3',\n  'up:P04746',\n  'up:Q53F26',\n  'up:P19961',\n  'up:P11216',\n  'up:P06737',\n  'up:P11217',\n  'up:P46976',\n  'up:P13807',\n  'up:P54840',\n  'up:O15488',\n  'up:Q92685',\n  'up:Q86YN1',\n  'up:Q9H3H5',\n  'up:Q9Y673',\n  'up:Q9BT22',\n  'up:Q9UPQ8',\n  'up:A0A0S2Z597',\n  'up:Q9Y672',\n  'up:O43286',\n  'up:O75072',\n  'up:A4D126',\n  'up:P06865',\n  'up:A0A0S2Z3W3',\n  ...]]"
     },
     "execution_count": 25,
     "metadata": {},
     "output_type": "execute_result"
    }
   ],
   "source": [
    "batch.node_name"
   ],
   "metadata": {
    "collapsed": false,
    "ExecuteTime": {
     "end_time": "2024-11-30T01:45:00.314083Z",
     "start_time": "2024-11-30T01:45:00.278192Z"
    }
   },
   "id": "861700e5fc5e2771",
   "execution_count": 25
  },
  {
   "cell_type": "markdown",
   "source": [
    "## 3. Training graph neural network model"
   ],
   "metadata": {
    "collapsed": false
   },
   "id": "6727802b4c5e222c"
  },
  {
   "cell_type": "code",
   "outputs": [],
   "source": [
    "import torch\n",
    "import torch.nn.functional as F\n",
    "from sklearn.metrics import roc_auc_score\n",
    "\n",
    "from torch_geometric.utils import negative_sampling\n",
    "from torch_geometric.datasets import Planetoid\n",
    "import torch_geometric.transforms as T\n",
    "from torch_geometric.nn import GCNConv, SAGEConv\n",
    "from torch_geometric.utils import train_test_split_edges"
   ],
   "metadata": {
    "collapsed": false,
    "ExecuteTime": {
     "end_time": "2024-11-22T23:03:50.655543Z",
     "start_time": "2024-11-22T23:03:50.612123Z"
    }
   },
   "id": "5d4a5a1739020968",
   "execution_count": 69
  },
  {
   "cell_type": "code",
   "outputs": [
    {
     "name": "stderr",
     "output_type": "stream",
     "text": [
      "/Users/cgu3/miniforge3/envs/kamping/lib/python3.10/site-packages/torch_geometric/deprecation.py:26: UserWarning: 'train_test_split_edges' is deprecated, use 'transforms.RandomLinkSplit' instead\n",
      "  warnings.warn(out)\n"
     ]
    }
   ],
   "source": [
    "from torch_geometric import transforms\n",
    "data.train_mask = data.val_mask = data.test_mask = data.y = None\n",
    "data = train_test_split_edges(data)"
   ],
   "metadata": {
    "collapsed": false,
    "ExecuteTime": {
     "end_time": "2024-11-22T23:45:35.844180Z",
     "start_time": "2024-11-22T23:45:35.327937Z"
    }
   },
   "id": "5577de8a330e41db",
   "execution_count": 122
  },
  {
   "cell_type": "code",
   "outputs": [],
   "source": [
    "device = torch.device('cuda' if torch.cuda.is_available() else 'cpu')\n",
    "device = \"cpu\""
   ],
   "metadata": {
    "collapsed": false,
    "ExecuteTime": {
     "end_time": "2024-11-22T23:03:51.173637Z",
     "start_time": "2024-11-22T23:03:51.144276Z"
    }
   },
   "id": "fe8acba01e391582",
   "execution_count": 71
  },
  {
   "cell_type": "code",
   "outputs": [],
   "source": [
    "class Net(torch.nn.Module):\n",
    "    def __init__(self):\n",
    "        super(Net, self).__init__()\n",
    "        self.conv1 = SAGEConv(1024, 128)\n",
    "        self.conv2 = SAGEConv(128, 64)\n",
    "\n",
    "    def encode(self):\n",
    "        x = self.conv1(data.x, data.train_pos_edge_index) # convolution 1\n",
    "        x = x.relu()\n",
    "        return self.conv2(x, data.train_pos_edge_index) # convolution 2\n",
    "\n",
    "    def decode(self, z, pos_edge_index, neg_edge_index): # only pos and neg edges\n",
    "        edge_index = torch.cat([pos_edge_index, neg_edge_index], dim=-1) # concatenate pos and neg edges\n",
    "        logits = (z[edge_index[0]] * z[edge_index[1]]).sum(dim=-1)  # dot product \n",
    "        return logits\n",
    "\n",
    "    def decode_all(self, z):\n",
    "        prob_adj = z @ z.t() # get adj NxN\n",
    "        return (prob_adj > 0).nonzero(as_tuple=False).t() # get predicted edge_list "
   ],
   "metadata": {
    "collapsed": false,
    "ExecuteTime": {
     "end_time": "2024-11-22T23:03:57.115818Z",
     "start_time": "2024-11-22T23:03:57.078350Z"
    }
   },
   "id": "2780063e9df00214",
   "execution_count": 72
  },
  {
   "cell_type": "code",
   "outputs": [],
   "source": [
    "model, data = Net().to(device), data.to(device)\n",
    "optimizer = torch.optim.Adam(params=model.parameters(), lr=0.01)"
   ],
   "metadata": {
    "collapsed": false,
    "ExecuteTime": {
     "end_time": "2024-11-22T23:03:58.337902Z",
     "start_time": "2024-11-22T23:03:57.782568Z"
    }
   },
   "id": "ab758143733c3df9",
   "execution_count": 73
  },
  {
   "cell_type": "code",
   "outputs": [],
   "source": [
    "def get_link_labels(pos_edge_index, neg_edge_index):\n",
    "    # returns a tensor:\n",
    "    # [1,1,1,1,...,0,0,0,0,0,..] with the number of ones is equel to the lenght of pos_edge_index\n",
    "    # and the number of zeros is equal to the length of neg_edge_index\n",
    "    E = pos_edge_index.size(1) + neg_edge_index.size(1)\n",
    "    link_labels = torch.zeros(E, dtype=torch.float, device=device)\n",
    "    link_labels[:pos_edge_index.size(1)] = 1.\n",
    "    return link_labels\n",
    "\n",
    "def train():\n",
    "    model.train()\n",
    "\n",
    "    neg_edge_index = negative_sampling(\n",
    "        edge_index=data.train_pos_edge_index, #positive edges\n",
    "        num_nodes=data.num_nodes, # number of nodes\n",
    "        num_neg_samples=data.train_pos_edge_index.size(1)) # number of neg_sample equal to number of pos_edges\n",
    "\n",
    "    optimizer.zero_grad()\n",
    "\n",
    "    z = model.encode() #encode\n",
    "    link_logits = model.decode(z, data.train_pos_edge_index, neg_edge_index) # decode\n",
    "\n",
    "    link_labels = get_link_labels(data.train_pos_edge_index, neg_edge_index)\n",
    "    loss = F.binary_cross_entropy_with_logits(link_logits, link_labels)\n",
    "    loss.backward()\n",
    "    optimizer.step()\n",
    "\n",
    "    return loss\n",
    "\n",
    "@torch.no_grad()\n",
    "def test():\n",
    "    model.eval()\n",
    "    perfs = []\n",
    "    for prefix in [\"val\", \"test\"]:\n",
    "        pos_edge_index = data[f'{prefix}_pos_edge_index']\n",
    "        neg_edge_index = data[f'{prefix}_neg_edge_index']\n",
    "\n",
    "        z = model.encode() # encode train\n",
    "        link_logits = model.decode(z, pos_edge_index, neg_edge_index) # decode test or val\n",
    "        link_probs = link_logits.sigmoid() # apply sigmoid\n",
    "\n",
    "        link_labels = get_link_labels(pos_edge_index, neg_edge_index) # get link\n",
    "\n",
    "        perfs.append(roc_auc_score(link_labels.cpu(), link_probs.cpu())) #compute roc_auc score\n",
    "    return perfs"
   ],
   "metadata": {
    "collapsed": false,
    "ExecuteTime": {
     "end_time": "2024-11-22T23:04:00.231479Z",
     "start_time": "2024-11-22T23:04:00.192237Z"
    }
   },
   "id": "951234c0a0571d3c",
   "execution_count": 74
  },
  {
   "cell_type": "code",
   "outputs": [
    {
     "name": "stdout",
     "output_type": "stream",
     "text": [
      "Epoch: 001, Loss: 0.6950, AUC Val: 0.6688, AUC Test: 0.6845\n",
      "Epoch: 002, Loss: 1.4109, AUC Val: 0.6688, AUC Test: 0.6845\n",
      "Epoch: 003, Loss: 0.6942, AUC Val: 0.7254, AUC Test: 0.7318\n",
      "Epoch: 004, Loss: 0.7089, AUC Val: 0.7426, AUC Test: 0.7492\n",
      "Epoch: 005, Loss: 0.6844, AUC Val: 0.7426, AUC Test: 0.7492\n",
      "Epoch: 006, Loss: 0.6761, AUC Val: 0.7426, AUC Test: 0.7492\n",
      "Epoch: 007, Loss: 0.6645, AUC Val: 0.7426, AUC Test: 0.7492\n",
      "Epoch: 008, Loss: 0.6527, AUC Val: 0.7796, AUC Test: 0.7764\n",
      "Epoch: 009, Loss: 0.6355, AUC Val: 0.7874, AUC Test: 0.7786\n",
      "Epoch: 010, Loss: 0.6217, AUC Val: 0.7943, AUC Test: 0.7858\n",
      "Epoch: 011, Loss: 0.6071, AUC Val: 0.8031, AUC Test: 0.7971\n",
      "Epoch: 012, Loss: 0.5969, AUC Val: 0.8087, AUC Test: 0.8023\n",
      "Epoch: 013, Loss: 0.5799, AUC Val: 0.8231, AUC Test: 0.8175\n",
      "Epoch: 014, Loss: 0.5656, AUC Val: 0.8431, AUC Test: 0.8384\n",
      "Epoch: 015, Loss: 0.5548, AUC Val: 0.8625, AUC Test: 0.8593\n",
      "Epoch: 016, Loss: 0.5450, AUC Val: 0.8790, AUC Test: 0.8766\n",
      "Epoch: 017, Loss: 0.5341, AUC Val: 0.8894, AUC Test: 0.8876\n",
      "Epoch: 018, Loss: 0.5291, AUC Val: 0.8960, AUC Test: 0.8940\n",
      "Epoch: 019, Loss: 0.5206, AUC Val: 0.9031, AUC Test: 0.9008\n",
      "Epoch: 020, Loss: 0.5103, AUC Val: 0.9099, AUC Test: 0.9082\n",
      "Epoch: 021, Loss: 0.5019, AUC Val: 0.9149, AUC Test: 0.9142\n",
      "Epoch: 022, Loss: 0.4942, AUC Val: 0.9185, AUC Test: 0.9178\n",
      "Epoch: 023, Loss: 0.4890, AUC Val: 0.9203, AUC Test: 0.9192\n",
      "Epoch: 024, Loss: 0.4894, AUC Val: 0.9220, AUC Test: 0.9207\n",
      "Epoch: 025, Loss: 0.4879, AUC Val: 0.9256, AUC Test: 0.9244\n",
      "Epoch: 026, Loss: 0.4818, AUC Val: 0.9281, AUC Test: 0.9270\n",
      "Epoch: 027, Loss: 0.4821, AUC Val: 0.9295, AUC Test: 0.9278\n",
      "Epoch: 028, Loss: 0.4771, AUC Val: 0.9309, AUC Test: 0.9288\n",
      "Epoch: 029, Loss: 0.4750, AUC Val: 0.9339, AUC Test: 0.9318\n",
      "Epoch: 030, Loss: 0.4728, AUC Val: 0.9363, AUC Test: 0.9339\n",
      "Epoch: 031, Loss: 0.4692, AUC Val: 0.9375, AUC Test: 0.9344\n",
      "Epoch: 032, Loss: 0.4671, AUC Val: 0.9380, AUC Test: 0.9344\n",
      "Epoch: 033, Loss: 0.4678, AUC Val: 0.9391, AUC Test: 0.9357\n",
      "Epoch: 034, Loss: 0.4652, AUC Val: 0.9403, AUC Test: 0.9371\n",
      "Epoch: 035, Loss: 0.4654, AUC Val: 0.9413, AUC Test: 0.9378\n",
      "Epoch: 036, Loss: 0.4616, AUC Val: 0.9425, AUC Test: 0.9390\n",
      "Epoch: 037, Loss: 0.4595, AUC Val: 0.9444, AUC Test: 0.9413\n",
      "Epoch: 038, Loss: 0.4585, AUC Val: 0.9451, AUC Test: 0.9422\n",
      "Epoch: 039, Loss: 0.4592, AUC Val: 0.9453, AUC Test: 0.9421\n",
      "Epoch: 040, Loss: 0.4572, AUC Val: 0.9467, AUC Test: 0.9437\n",
      "Epoch: 041, Loss: 0.4554, AUC Val: 0.9475, AUC Test: 0.9443\n",
      "Epoch: 042, Loss: 0.4550, AUC Val: 0.9477, AUC Test: 0.9443\n",
      "Epoch: 043, Loss: 0.4535, AUC Val: 0.9495, AUC Test: 0.9464\n",
      "Epoch: 044, Loss: 0.4516, AUC Val: 0.9505, AUC Test: 0.9475\n",
      "Epoch: 045, Loss: 0.4511, AUC Val: 0.9506, AUC Test: 0.9472\n",
      "Epoch: 046, Loss: 0.4505, AUC Val: 0.9516, AUC Test: 0.9486\n",
      "Epoch: 047, Loss: 0.4490, AUC Val: 0.9533, AUC Test: 0.9511\n",
      "Epoch: 048, Loss: 0.4497, AUC Val: 0.9533, AUC Test: 0.9511\n",
      "Epoch: 049, Loss: 0.4466, AUC Val: 0.9542, AUC Test: 0.9518\n",
      "Epoch: 050, Loss: 0.4463, AUC Val: 0.9551, AUC Test: 0.9530\n",
      "Epoch: 051, Loss: 0.4441, AUC Val: 0.9551, AUC Test: 0.9530\n",
      "Epoch: 052, Loss: 0.4444, AUC Val: 0.9553, AUC Test: 0.9531\n",
      "Epoch: 053, Loss: 0.4420, AUC Val: 0.9567, AUC Test: 0.9546\n",
      "Epoch: 054, Loss: 0.4419, AUC Val: 0.9567, AUC Test: 0.9546\n",
      "Epoch: 055, Loss: 0.4415, AUC Val: 0.9580, AUC Test: 0.9555\n",
      "Epoch: 056, Loss: 0.4420, AUC Val: 0.9585, AUC Test: 0.9557\n",
      "Epoch: 057, Loss: 0.4409, AUC Val: 0.9585, AUC Test: 0.9557\n",
      "Epoch: 058, Loss: 0.4420, AUC Val: 0.9606, AUC Test: 0.9574\n",
      "Epoch: 059, Loss: 0.4412, AUC Val: 0.9610, AUC Test: 0.9576\n",
      "Epoch: 060, Loss: 0.4383, AUC Val: 0.9610, AUC Test: 0.9576\n",
      "Epoch: 061, Loss: 0.4383, AUC Val: 0.9627, AUC Test: 0.9595\n",
      "Epoch: 062, Loss: 0.4382, AUC Val: 0.9627, AUC Test: 0.9595\n",
      "Epoch: 063, Loss: 0.4358, AUC Val: 0.9629, AUC Test: 0.9595\n",
      "Epoch: 064, Loss: 0.4358, AUC Val: 0.9635, AUC Test: 0.9602\n",
      "Epoch: 065, Loss: 0.4363, AUC Val: 0.9635, AUC Test: 0.9602\n",
      "Epoch: 066, Loss: 0.4341, AUC Val: 0.9644, AUC Test: 0.9611\n",
      "Epoch: 067, Loss: 0.4341, AUC Val: 0.9644, AUC Test: 0.9611\n",
      "Epoch: 068, Loss: 0.4338, AUC Val: 0.9644, AUC Test: 0.9611\n",
      "Epoch: 069, Loss: 0.4333, AUC Val: 0.9652, AUC Test: 0.9621\n",
      "Epoch: 070, Loss: 0.4326, AUC Val: 0.9652, AUC Test: 0.9621\n",
      "Epoch: 071, Loss: 0.4320, AUC Val: 0.9656, AUC Test: 0.9624\n",
      "Epoch: 072, Loss: 0.4316, AUC Val: 0.9658, AUC Test: 0.9631\n",
      "Epoch: 073, Loss: 0.4314, AUC Val: 0.9658, AUC Test: 0.9631\n",
      "Epoch: 074, Loss: 0.4308, AUC Val: 0.9664, AUC Test: 0.9635\n",
      "Epoch: 075, Loss: 0.4315, AUC Val: 0.9664, AUC Test: 0.9635\n",
      "Epoch: 076, Loss: 0.4329, AUC Val: 0.9664, AUC Test: 0.9635\n",
      "Epoch: 077, Loss: 0.4299, AUC Val: 0.9672, AUC Test: 0.9643\n",
      "Epoch: 078, Loss: 0.4292, AUC Val: 0.9672, AUC Test: 0.9643\n",
      "Epoch: 079, Loss: 0.4296, AUC Val: 0.9672, AUC Test: 0.9643\n",
      "Epoch: 080, Loss: 0.4280, AUC Val: 0.9673, AUC Test: 0.9644\n",
      "Epoch: 081, Loss: 0.4286, AUC Val: 0.9673, AUC Test: 0.9644\n",
      "Epoch: 082, Loss: 0.4284, AUC Val: 0.9677, AUC Test: 0.9652\n",
      "Epoch: 083, Loss: 0.4278, AUC Val: 0.9677, AUC Test: 0.9652\n",
      "Epoch: 084, Loss: 0.4281, AUC Val: 0.9680, AUC Test: 0.9657\n",
      "Epoch: 085, Loss: 0.4297, AUC Val: 0.9680, AUC Test: 0.9657\n",
      "Epoch: 086, Loss: 0.4264, AUC Val: 0.9680, AUC Test: 0.9657\n",
      "Epoch: 087, Loss: 0.4255, AUC Val: 0.9683, AUC Test: 0.9660\n",
      "Epoch: 088, Loss: 0.4265, AUC Val: 0.9683, AUC Test: 0.9660\n",
      "Epoch: 089, Loss: 0.4276, AUC Val: 0.9685, AUC Test: 0.9660\n",
      "Epoch: 090, Loss: 0.4242, AUC Val: 0.9686, AUC Test: 0.9663\n",
      "Epoch: 091, Loss: 0.4251, AUC Val: 0.9686, AUC Test: 0.9663\n",
      "Epoch: 092, Loss: 0.4255, AUC Val: 0.9692, AUC Test: 0.9668\n",
      "Epoch: 093, Loss: 0.4250, AUC Val: 0.9692, AUC Test: 0.9668\n",
      "Epoch: 094, Loss: 0.4244, AUC Val: 0.9692, AUC Test: 0.9668\n",
      "Epoch: 095, Loss: 0.4245, AUC Val: 0.9696, AUC Test: 0.9674\n",
      "Epoch: 096, Loss: 0.4224, AUC Val: 0.9696, AUC Test: 0.9674\n",
      "Epoch: 097, Loss: 0.4227, AUC Val: 0.9696, AUC Test: 0.9674\n",
      "Epoch: 098, Loss: 0.4213, AUC Val: 0.9696, AUC Test: 0.9674\n",
      "Epoch: 099, Loss: 0.4222, AUC Val: 0.9696, AUC Test: 0.9674\n",
      "Epoch: 100, Loss: 0.4244, AUC Val: 0.9696, AUC Test: 0.9674\n"
     ]
    }
   ],
   "source": [
    "best_val_perf = test_perf = 0\n",
    "for epoch in range(1, 101):\n",
    "    train_loss = train()\n",
    "    val_perf, tmp_test_perf = test()\n",
    "    if val_perf > best_val_perf:\n",
    "        best_val_perf = val_perf\n",
    "        test_perf = tmp_test_perf\n",
    "    log = 'Epoch: {:03d}, Loss: {:.4f}, AUC Val: {:.4f}, AUC Test: {:.4f}'\n",
    "    print(log.format(epoch, train_loss, best_val_perf, test_perf))"
   ],
   "metadata": {
    "collapsed": false,
    "ExecuteTime": {
     "end_time": "2024-11-22T23:04:27.612193Z",
     "start_time": "2024-11-22T23:04:00.950976Z"
    }
   },
   "id": "54e20e58cb159d9c",
   "execution_count": 75
  },
  {
   "cell_type": "markdown",
   "source": [
    "# prediction\n"
   ],
   "metadata": {
    "collapsed": false
   },
   "id": "b0277f6107b46534"
  },
  {
   "cell_type": "code",
   "outputs": [
    {
     "name": "stdout",
     "output_type": "stream",
     "text": [
      "tensor([[1729, 1695],\n",
      "        [3068, 3048],\n",
      "        [3049, 1636],\n",
      "        ...,\n",
      "        [4685, 2539],\n",
      "        [5464, 2331],\n",
      "        [2331, 5464]])\n"
     ]
    }
   ],
   "source": [
    "z = model.encode() #encode\n",
    "predict_adj = torch.sigmoid(z @ z.t())\n",
    "# get 2D index of the top 10% edges\n",
    "# get the number of top edges to select\n",
    "\n",
    "# this is not sorted by the value of the tensor\n",
    "num_top_edges = int(0.01 * predict_adj.numel())\n",
    "\n",
    "value, indices = torch.topk(predict_adj.view(-1), num_top_edges, largest=True)\n",
    "\n",
    "# convert the 1D indices to 2D indices\n",
    "indices_2d = torch.stack(torch.unravel_index(indices, predict_adj.shape)).t()\n",
    "\n",
    "value\n",
    "print(indices_2d)"
   ],
   "metadata": {
    "collapsed": false,
    "ExecuteTime": {
     "end_time": "2024-11-22T23:57:52.323774Z",
     "start_time": "2024-11-22T23:57:50.890210Z"
    }
   },
   "id": "e380cb3a31ef760f",
   "execution_count": 134
  },
  {
   "cell_type": "code",
   "outputs": [],
   "source": [
    "original_edge_index = original_edge_index.t()"
   ],
   "metadata": {
    "collapsed": false,
    "ExecuteTime": {
     "end_time": "2024-11-22T23:45:51.489974Z",
     "start_time": "2024-11-22T23:45:51.461197Z"
    }
   },
   "id": "54e583a63837b168",
   "execution_count": 126
  },
  {
   "cell_type": "code",
   "outputs": [],
   "source": [],
   "metadata": {
    "collapsed": false,
    "ExecuteTime": {
     "end_time": "2024-11-22T23:45:52.267666Z",
     "start_time": "2024-11-22T23:45:52.265671Z"
    }
   },
   "id": "30e75834c5cd3ce7",
   "execution_count": 126
  },
  {
   "cell_type": "code",
   "outputs": [
    {
     "data": {
      "text/plain": "tensor([1695, 3048, 1636,  ..., 2539, 2331, 5464])"
     },
     "execution_count": 127,
     "metadata": {},
     "output_type": "execute_result"
    }
   ],
   "source": [
    "indices_2d[:, 1]"
   ],
   "metadata": {
    "collapsed": false,
    "ExecuteTime": {
     "end_time": "2024-11-22T23:45:52.555576Z",
     "start_time": "2024-11-22T23:45:52.521173Z"
    }
   },
   "id": "cd16ddf9c486d1fc",
   "execution_count": 127
  },
  {
   "cell_type": "code",
   "outputs": [
    {
     "data": {
      "text/plain": "array([['up:P22612', 'up:Q499G7'],\n       ['up:R9QE65', 'up:A0A0S2Z392'],\n       ['up:P35626', 'up:P31749'],\n       ...,\n       ['up:A0A384ME58', 'up:Q13255'],\n       ['up:Q8N1C3', 'up:Q6FHM2'],\n       ['up:Q6FHM2', 'up:Q8N1C3']], dtype='<U13')"
     },
     "execution_count": 136,
     "metadata": {},
     "output_type": "execute_result"
    }
   ],
   "source": [
    "import numpy as np\n",
    "entry1 = np.array(data.node_name)[indices_2d[:, 0].numpy()]\n",
    "entry2 = np.array(data.node_name)[indices_2d[:, 1].numpy()]\n",
    "# combine the two entries\n",
    "edges = np.stack([entry1, entry2], axis=1)\n",
    "edges"
   ],
   "metadata": {
    "collapsed": false,
    "ExecuteTime": {
     "end_time": "2024-11-23T00:12:27.072254Z",
     "start_time": "2024-11-23T00:12:26.973354Z"
    }
   },
   "id": "c5b678ad2060c3cc",
   "execution_count": 136
  },
  {
   "cell_type": "code",
   "outputs": [
    {
     "name": "stderr",
     "output_type": "stream",
     "text": [
      "[autoreload of jedi.inference.cache failed: Traceback (most recent call last):\n",
      "  File \"/Users/cgu3/miniforge3/envs/kamping/lib/python3.10/site-packages/IPython/extensions/autoreload.py\", line 276, in check\n",
      "    superreload(m, reload, self.old_objects)\n",
      "  File \"/Users/cgu3/miniforge3/envs/kamping/lib/python3.10/site-packages/IPython/extensions/autoreload.py\", line 500, in superreload\n",
      "    update_generic(old_obj, new_obj)\n",
      "  File \"/Users/cgu3/miniforge3/envs/kamping/lib/python3.10/site-packages/IPython/extensions/autoreload.py\", line 397, in update_generic\n",
      "    update(a, b)\n",
      "  File \"/Users/cgu3/miniforge3/envs/kamping/lib/python3.10/site-packages/IPython/extensions/autoreload.py\", line 365, in update_class\n",
      "    update_instances(old, new)\n",
      "  File \"/Users/cgu3/miniforge3/envs/kamping/lib/python3.10/site-packages/IPython/extensions/autoreload.py\", line 323, in update_instances\n",
      "    object.__setattr__(ref, \"__class__\", new)\n",
      "TypeError: can't apply this __setattr__ to CachedMetaClass object\n",
      "]\n",
      "[autoreload of jedi.inference.filters failed: Traceback (most recent call last):\n",
      "  File \"/Users/cgu3/miniforge3/envs/kamping/lib/python3.10/site-packages/IPython/extensions/autoreload.py\", line 276, in check\n",
      "    superreload(m, reload, self.old_objects)\n",
      "  File \"/Users/cgu3/miniforge3/envs/kamping/lib/python3.10/site-packages/IPython/extensions/autoreload.py\", line 500, in superreload\n",
      "    update_generic(old_obj, new_obj)\n",
      "  File \"/Users/cgu3/miniforge3/envs/kamping/lib/python3.10/site-packages/IPython/extensions/autoreload.py\", line 397, in update_generic\n",
      "    update(a, b)\n",
      "  File \"/Users/cgu3/miniforge3/envs/kamping/lib/python3.10/site-packages/IPython/extensions/autoreload.py\", line 365, in update_class\n",
      "    update_instances(old, new)\n",
      "  File \"/Users/cgu3/miniforge3/envs/kamping/lib/python3.10/site-packages/IPython/extensions/autoreload.py\", line 323, in update_instances\n",
      "    object.__setattr__(ref, \"__class__\", new)\n",
      "TypeError: can't apply this __setattr__ to _OverwriteMeta object\n",
      "]\n"
     ]
    }
   ],
   "source": [
    "from unipressed import IdMappingClient\n",
    "request = IdMappingClient.submit(\n",
    "    source=\"UniProtKB_AC-ID\",\n",
    "    dest=\"Gene_Name\",\n",
    "    ids=entry1\n",
    ")"
   ],
   "metadata": {
    "collapsed": false,
    "is_executing": true,
    "ExecuteTime": {
     "start_time": "2024-11-25T20:16:22.832284Z"
    }
   },
   "id": "5200a281bc038bce"
  },
  {
   "cell_type": "code",
   "outputs": [
    {
     "data": {
      "text/plain": "array([['up:P35626', 'up:P16520']], dtype='<U13')"
     },
     "execution_count": 154,
     "metadata": {},
     "output_type": "execute_result"
    }
   ],
   "source": [
    "# check if first column is 'upQ8NFJ5' and second column is 'P35626'\n",
    "test = 'up:P16520'\n",
    "edges[(edges[:, 0] == test) & (edges[:, 1] == 'up:P35626')]\n",
    "edges[(edges[:, 0] == 'up:P35626') & (edges[:, 1] == test)]"
   ],
   "metadata": {
    "collapsed": false,
    "ExecuteTime": {
     "end_time": "2024-11-23T00:20:51.787457Z",
     "start_time": "2024-11-23T00:20:51.737268Z"
    }
   },
   "id": "d17f342139772d7f",
   "execution_count": 154
  },
  {
   "cell_type": "code",
   "outputs": [
    {
     "ename": "TypeError",
     "evalue": "ufunc 'bitwise_and' not supported for the input types, and the inputs could not be safely coerced to any supported types according to the casting rule ''safe''",
     "output_type": "error",
     "traceback": [
      "\u001B[0;31m---------------------------------------------------------------------------\u001B[0m",
      "\u001B[0;31mTypeError\u001B[0m                                 Traceback (most recent call last)",
      "Cell \u001B[0;32mIn[138], line 1\u001B[0m\n\u001B[0;32m----> 1\u001B[0m edges[edges[:, \u001B[38;5;241m0\u001B[39m] \u001B[38;5;241m==\u001B[39m \u001B[38;5;124;43m'\u001B[39;49m\u001B[38;5;124;43mupQ8NFJ5\u001B[39;49m\u001B[38;5;124;43m'\u001B[39;49m\u001B[43m \u001B[49m\u001B[38;5;241;43m&\u001B[39;49m\u001B[43m \u001B[49m\u001B[43medges\u001B[49m\u001B[43m[\u001B[49m\u001B[43m:\u001B[49m\u001B[43m,\u001B[49m\u001B[43m \u001B[49m\u001B[38;5;241;43m1\u001B[39;49m\u001B[43m]\u001B[49m \u001B[38;5;241m==\u001B[39m \u001B[38;5;124m'\u001B[39m\u001B[38;5;124mP35626\u001B[39m\u001B[38;5;124m'\u001B[39m]\n",
      "\u001B[0;31mTypeError\u001B[0m: ufunc 'bitwise_and' not supported for the input types, and the inputs could not be safely coerced to any supported types according to the casting rule ''safe''"
     ]
    }
   ],
   "source": [
    "edges[edges[:, 0] == 'upQ8NFJ5' & edges[:, 1] == 'P35626']"
   ],
   "metadata": {
    "collapsed": false,
    "ExecuteTime": {
     "end_time": "2024-11-23T00:17:14.587169Z",
     "start_time": "2024-11-23T00:17:14.546023Z"
    }
   },
   "id": "f824d2409ed36849",
   "execution_count": 138
  },
  {
   "cell_type": "code",
   "outputs": [
    {
     "data": {
      "text/plain": "tensor([[   0,    1],\n        [   0,    3],\n        [   0,    4],\n        ...,\n        [7276, 1754],\n        [7276, 1755],\n        [7276, 1756]])"
     },
     "execution_count": 129,
     "metadata": {},
     "output_type": "execute_result"
    }
   ],
   "source": [
    "original_edge_index"
   ],
   "metadata": {
    "collapsed": false,
    "ExecuteTime": {
     "end_time": "2024-11-22T23:45:54.481534Z",
     "start_time": "2024-11-22T23:45:54.445537Z"
    }
   },
   "id": "87a3fefc5e438a1c",
   "execution_count": 129
  },
  {
   "cell_type": "code",
   "outputs": [
    {
     "data": {
      "text/plain": "array([['up:P14550', 'up:P07327'],\n       ['up:P14550', 'up:P00325'],\n       ['up:P14550', 'up:V9HW50'],\n       ...,\n       ['up:P63165', 'up:P04637'],\n       ['up:P63165', 'up:K7PPA8'],\n       ['up:P63165', 'up:Q53GA5']], dtype='<U13')"
     },
     "execution_count": 130,
     "metadata": {},
     "output_type": "execute_result"
    }
   ],
   "source": [
    "entry1 = np.array(data.node_name)[original_edge_index[:, 0].numpy()]\n",
    "entry2 = np.array(data.node_name)[original_edge_index[:, 1].numpy()]\n",
    "# combine the two entries\n",
    "edges = np.stack([entry1, entry2], axis=1)\n",
    "edges"
   ],
   "metadata": {
    "collapsed": false,
    "ExecuteTime": {
     "end_time": "2024-11-22T23:45:54.893516Z",
     "start_time": "2024-11-22T23:45:54.845773Z"
    }
   },
   "id": "f25192087c05ebca",
   "execution_count": 130
  },
  {
   "cell_type": "code",
   "outputs": [],
   "source": [],
   "metadata": {
    "collapsed": false
   },
   "id": "9590a68f3f47264"
  }
 ],
 "metadata": {
  "kernelspec": {
   "display_name": "Python 3",
   "language": "python",
   "name": "python3"
  },
  "language_info": {
   "codemirror_mode": {
    "name": "ipython",
    "version": 2
   },
   "file_extension": ".py",
   "mimetype": "text/x-python",
   "name": "python",
   "nbconvert_exporter": "python",
   "pygments_lexer": "ipython2",
   "version": "2.7.6"
  }
 },
 "nbformat": 4,
 "nbformat_minor": 5
}
