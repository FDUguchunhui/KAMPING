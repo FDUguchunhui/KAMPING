{
 "cells": [
  {
   "cell_type": "markdown",
   "id": "6d91b7b992ca896d",
   "metadata": {
    "collapsed": false
   },
   "source": [
    "# KAMPING Tutorial 2. Homogenous Graph neural network modeling"
   ]
  },
  {
   "cell_type": "markdown",
   "id": "9e3fb98dc46f0334",
   "metadata": {
    "collapsed": false
   },
   "source": [
    "Date created: 2024-10-25"
   ]
  },
  {
   "cell_type": "code",
   "execution_count": 1,
   "id": "7ff51fe84f013c52",
   "metadata": {
    "ExecuteTime": {
     "end_time": "2025-01-07T21:22:55.961336Z",
     "start_time": "2025-01-07T21:22:52.628205Z"
    },
    "collapsed": false
   },
   "outputs": [
    {
     "ename": "ModuleNotFoundError",
     "evalue": "No module named 'kamping'",
     "output_type": "error",
     "traceback": [
      "\u001b[0;31m---------------------------------------------------------------------------\u001b[0m",
      "\u001b[0;31mModuleNotFoundError\u001b[0m                       Traceback (most recent call last)",
      "Cell \u001b[0;32mIn[1], line 2\u001b[0m\n\u001b[1;32m      1\u001b[0m \u001b[38;5;66;03m# Import kamping library before starting the tutorial\u001b[39;00m\n\u001b[0;32m----> 2\u001b[0m \u001b[38;5;28;01mimport\u001b[39;00m \u001b[38;5;21;01mkamping\u001b[39;00m\n\u001b[1;32m      4\u001b[0m get_ipython()\u001b[38;5;241m.\u001b[39mrun_line_magic(\u001b[38;5;124m'\u001b[39m\u001b[38;5;124mload_ext\u001b[39m\u001b[38;5;124m'\u001b[39m, \u001b[38;5;124m'\u001b[39m\u001b[38;5;124mautoreload\u001b[39m\u001b[38;5;124m'\u001b[39m)\n\u001b[1;32m      5\u001b[0m get_ipython()\u001b[38;5;241m.\u001b[39mrun_line_magic(\u001b[38;5;124m'\u001b[39m\u001b[38;5;124mautoreload\u001b[39m\u001b[38;5;124m'\u001b[39m, \u001b[38;5;124m'\u001b[39m\u001b[38;5;124m2\u001b[39m\u001b[38;5;124m'\u001b[39m)\n",
      "\u001b[0;31mModuleNotFoundError\u001b[0m: No module named 'kamping'"
     ]
    }
   ],
   "source": [
    "# Import kamping library before starting the tutorial\n",
    "import kamping\n",
    "\n",
    "%load_ext autoreload\n",
    "%autoreload 2"
   ]
  },
  {
   "cell_type": "markdown",
   "id": "cdb254ecc4419a93",
   "metadata": {
    "collapsed": false
   },
   "source": [
    "flak## 1. Create a list of KeggGraph objects from a directory with KGML files"
   ]
  },
  {
   "cell_type": "code",
   "execution_count": 2,
   "id": "8bc1f0d299ead605",
   "metadata": {
    "ExecuteTime": {
     "end_time": "2025-01-07T21:22:55.964208Z",
     "start_time": "2025-01-07T21:22:55.962462Z"
    },
    "collapsed": false
   },
   "outputs": [],
   "source": []
  },
  {
   "cell_type": "markdown",
   "id": "49e301ea4637f011",
   "metadata": {
    "collapsed": false
   },
   "source": [
    "In the previous tutorial we have shown how to use parse information from a single KGML file into KeggGraph object for storing information in a easily-access way. In this tutorial, we will show you how to dataset can be used in one of the most popular graph-machine learning package \"pytorch-geometric\" through provided utility function with ease."
   ]
  },
  {
   "cell_type": "markdown",
   "id": "29a4fa4c0f57f6cc",
   "metadata": {
    "collapsed": false
   },
   "source": [
    "Machine-learning graph model also use data contains more than one graphs, you can use `kamping.create_graphs` function to create a list of KeggGraph objects from a directory with KGML files."
   ]
  },
  {
   "cell_type": "markdown",
   "id": "f90cb5133ab554d9",
   "metadata": {
    "collapsed": false
   },
   "source": [
    "In this tutorial we target the homogenous graph, which is defined only have one type of nodes in a graph. In our case, a homogenous graph is a \"gene-only\" graph or \"metbaolite-only\" graph. Training on Homogenous graph is easy to understand, which is the reason why we start from here. Later, we will show you KAMPING can also convert heterogenous graph in a similar way with just a littble bit extra effort. "
   ]
  },
  {
   "cell_type": "code",
   "execution_count": null,
   "id": "c6783f147f78162f",
   "metadata": {
    "ExecuteTime": {
     "end_time": "2025-01-07T21:23:07.561454Z",
     "start_time": "2025-01-07T21:22:55.964782Z"
    },
    "collapsed": false
   },
   "outputs": [],
   "source": [
    "gene_graphs = kamping.create_graphs('../data/kgml_hsa', type='gene', verbose=True, ignore_file=['hsa01100.xml'])"
   ]
  },
  {
   "cell_type": "markdown",
   "id": "b0d563e082a9aeda",
   "metadata": {
    "collapsed": false
   },
   "source": [
    "The batch processing of KGML could also be useful in regular task. To access the result of specific KGML file you can use code below.  "
   ]
  },
  {
   "cell_type": "code",
   "execution_count": 4,
   "id": "e28299561ceba127",
   "metadata": {
    "ExecuteTime": {
     "end_time": "2025-01-07T21:23:07.606325Z",
     "start_time": "2025-01-07T21:23:07.562983Z"
    },
    "collapsed": false
   },
   "outputs": [],
   "source": [
    "gene_graph_00010 = [graph for graph in gene_graphs if graph.name == 'path:hsa00010'][0]"
   ]
  },
  {
   "cell_type": "code",
   "execution_count": null,
   "id": "3cd50ba1b4037dde",
   "metadata": {
    "ExecuteTime": {
     "end_time": "2025-01-07T21:23:07.634486Z",
     "start_time": "2025-01-07T21:23:07.607086Z"
    },
    "collapsed": false
   },
   "outputs": [],
   "source": [
    "gene_graph_00010"
   ]
  },
  {
   "cell_type": "code",
   "execution_count": null,
   "id": "2867376b0a09ecfe",
   "metadata": {
    "ExecuteTime": {
     "end_time": "2025-01-07T21:23:07.664145Z",
     "start_time": "2025-01-07T21:23:07.635121Z"
    },
    "collapsed": false
   },
   "outputs": [],
   "source": [
    "gene_graph_00010.edges"
   ]
  },
  {
   "cell_type": "markdown",
   "id": "f96b553da4f024bd",
   "metadata": {
    "collapsed": false
   },
   "source": [
    "In this tutorial, we will use pre-processed protein embedding information directly from uniprot, so we need to convert the KEGG gene ID into UniProt ID. We don't need to convert the KEGG compound id so we keep it untouched. If you didn't specify the \"compound_target\" when initalizing the converter, it will be default as \"kegg\". The same if you only want to convert gene ID. "
   ]
  },
  {
   "cell_type": "code",
   "execution_count": 7,
   "id": "8520704fa221bcf0",
   "metadata": {
    "ExecuteTime": {
     "end_time": "2025-01-07T21:23:10.952777Z",
     "start_time": "2025-01-07T21:23:07.664902Z"
    },
    "collapsed": false
   },
   "outputs": [],
   "source": [
    "converter = kamping.Converter('hsa', gene_target='uniprot', verbose=True)"
   ]
  },
  {
   "cell_type": "code",
   "execution_count": null,
   "id": "59bee3bb4ce1668",
   "metadata": {
    "ExecuteTime": {
     "end_time": "2025-01-07T21:23:13.640359Z",
     "start_time": "2025-01-07T21:23:10.953813Z"
    },
    "collapsed": false
   },
   "outputs": [],
   "source": [
    "for graph in gene_graphs:\n",
    "    converter.convert(graph)"
   ]
  },
  {
   "cell_type": "markdown",
   "id": "dc626c4de0dc43d7",
   "metadata": {
    "collapsed": false
   },
   "source": [
    "If you didn't convert Compound ID into other ID. You can use `kamping.get_kegg_mol` function to retrieve the molfile from KEGG for each compound in all graphs and create a MOL object using RDKit (https://www.rdkit.org/). It will return a pd.dataframe with first column the compound ID and second column as the MOL object."
   ]
  },
  {
   "cell_type": "code",
   "execution_count": 9,
   "id": "18f764dbe4e9ad41",
   "metadata": {
    "ExecuteTime": {
     "end_time": "2025-01-07T21:23:13.666403Z",
     "start_time": "2025-01-07T21:23:13.641Z"
    },
    "collapsed": false
   },
   "outputs": [],
   "source": [
    "# uncomment to run for the first time\n",
    "# mols = kamping.get_kegg_mol(graphs)"
   ]
  },
  {
   "cell_type": "markdown",
   "id": "9109aebb92f98920",
   "metadata": {
    "collapsed": false
   },
   "source": [
    "The process might take a while due to the large number of compounds from so many graphs. It could a good idea to save the created pd.DataFrame for repeated use when testing different approach of embedding metabolite."
   ]
  },
  {
   "cell_type": "code",
   "execution_count": 10,
   "id": "a819b7b813758528",
   "metadata": {
    "ExecuteTime": {
     "end_time": "2025-01-07T21:23:13.711470Z",
     "start_time": "2025-01-07T21:23:13.668872Z"
    },
    "collapsed": false
   },
   "outputs": [],
   "source": [
    "import pandas as pd\n",
    "\n",
    "# uncommented code below if run the first time\n",
    "# save the mols to a file\n",
    "# mols.to_pickle('data/mols.pkl')\n",
    "# retrieve mol from file\n",
    "mols = pd.read_pickle('data/mols.pkl')"
   ]
  },
  {
   "cell_type": "markdown",
   "id": "2ef27b97041d72c7",
   "metadata": {
    "collapsed": false
   },
   "source": [
    "Not all compound has a molFile from KEGG. Most compounds without molFile are glycan which is doesn't have a fixed atom composition.  Right now, we can just ignore them."
   ]
  },
  {
   "cell_type": "code",
   "execution_count": null,
   "id": "8b7efe582beca52d",
   "metadata": {
    "ExecuteTime": {
     "end_time": "2025-01-07T21:23:13.739073Z",
     "start_time": "2025-01-07T21:23:13.712329Z"
    },
    "collapsed": false
   },
   "outputs": [],
   "source": [
    "mols"
   ]
  },
  {
   "cell_type": "markdown",
   "id": "ffc0b36cef73f84a",
   "metadata": {
    "collapsed": false
   },
   "source": [
    "After we get the MOL object of each compound, we can use RDkit to embedding them into vectors that can be understanded by machine."
   ]
  },
  {
   "cell_type": "code",
   "execution_count": 12,
   "id": "2ce860884d864085",
   "metadata": {
    "ExecuteTime": {
     "end_time": "2025-01-07T21:23:13.763015Z",
     "start_time": "2025-01-07T21:23:13.739891Z"
    },
    "collapsed": false
   },
   "outputs": [],
   "source": [
    "# todo: Might be a good idea to depend on scikit-mol  "
   ]
  },
  {
   "cell_type": "code",
   "execution_count": null,
   "id": "886ca1764e0b8092",
   "metadata": {
    "ExecuteTime": {
     "end_time": "2025-01-07T21:23:13.858257Z",
     "start_time": "2025-01-07T21:23:13.763754Z"
    },
    "collapsed": false
   },
   "outputs": [],
   "source": [
    "mol_embeddings = kamping.get_mol_embeddings_from_dataframe(mols, transformer='morgan')"
   ]
  },
  {
   "cell_type": "code",
   "execution_count": 14,
   "id": "db9d1c644911c800",
   "metadata": {
    "ExecuteTime": {
     "end_time": "2025-01-07T21:23:14.636966Z",
     "start_time": "2025-01-07T21:23:13.859135Z"
    },
    "collapsed": false
   },
   "outputs": [],
   "source": [
    "protein_embeddings = kamping.get_uniprot_protein_embeddings(gene_graphs, '../data/embedding/protein_embedding.h5')"
   ]
  },
  {
   "cell_type": "code",
   "execution_count": null,
   "id": "74d188a36dfc3bca",
   "metadata": {
    "ExecuteTime": {
     "end_time": "2025-01-07T21:23:14.667433Z",
     "start_time": "2025-01-07T21:23:14.637908Z"
    },
    "collapsed": false
   },
   "outputs": [],
   "source": [
    "gene_graphs[0]"
   ]
  },
  {
   "cell_type": "markdown",
   "id": "5b26efb4a375e79a",
   "metadata": {
    "collapsed": false
   },
   "source": [
    "## 2. Create a Pytorch-geometric data object"
   ]
  },
  {
   "cell_type": "code",
   "execution_count": 90,
   "id": "bdc85552d65b3d70",
   "metadata": {
    "ExecuteTime": {
     "end_time": "2025-01-07T23:51:24.177423Z",
     "start_time": "2025-01-07T23:51:21.491499Z"
    },
    "collapsed": false
   },
   "outputs": [],
   "source": [
    "pyg_one_graph, mapping = kamping.convert_to_single_pyg(gene_graphs, embeddings=protein_embeddings)"
   ]
  },
  {
   "cell_type": "code",
   "execution_count": null,
   "id": "3384f417c00032c4",
   "metadata": {
    "ExecuteTime": {
     "end_time": "2025-01-07T23:51:25.067315Z",
     "start_time": "2025-01-07T23:51:25.032701Z"
    },
    "collapsed": false
   },
   "outputs": [],
   "source": [
    "data = pyg_one_graph\n",
    "data"
   ]
  },
  {
   "cell_type": "code",
   "execution_count": 92,
   "id": "661488e3f459ebbd",
   "metadata": {
    "ExecuteTime": {
     "end_time": "2025-01-07T23:51:25.420275Z",
     "start_time": "2025-01-07T23:51:25.390756Z"
    },
    "collapsed": false
   },
   "outputs": [],
   "source": [
    "original_edge_index = data.edge_index"
   ]
  },
  {
   "cell_type": "markdown",
   "id": "4b7dd9f16f72e2d9",
   "metadata": {
    "collapsed": false
   },
   "source": [
    "Pytorch-geometric data mainly consist of \"edge_index\" and \"x\", which is the feature of nodes. Other information are also saved for prediction interpretation, such as the node_type, node original name (\"node_name\"), \"edge_type\", \"edge_subtype_name\". Other information such as \"name\" is \"combined\" indicate it  is a combined graph from small graphs and type=\"gene\" indicate it is a homogenous \"gene\" graph."
   ]
  },
  {
   "cell_type": "code",
   "execution_count": 46,
   "id": "9f85b528e8295fe9",
   "metadata": {
    "ExecuteTime": {
     "end_time": "2025-01-07T21:38:44.589306Z",
     "start_time": "2025-01-07T21:38:44.555601Z"
    },
    "collapsed": false
   },
   "outputs": [],
   "source": [
    "from torch_geometric.loader import DataLoader\n",
    "dataloader = DataLoader([data])\n",
    "batch = next(iter(dataloader))"
   ]
  },
  {
   "cell_type": "code",
   "execution_count": 46,
   "id": "861700e5fc5e2771",
   "metadata": {
    "ExecuteTime": {
     "end_time": "2025-01-07T21:38:45.093674Z",
     "start_time": "2025-01-07T21:38:45.091157Z"
    },
    "collapsed": false
   },
   "outputs": [],
   "source": []
  },
  {
   "cell_type": "markdown",
   "id": "6727802b4c5e222c",
   "metadata": {
    "collapsed": false
   },
   "source": [
    "## 3. Training graph neural network model"
   ]
  },
  {
   "cell_type": "code",
   "execution_count": 47,
   "id": "5d4a5a1739020968",
   "metadata": {
    "ExecuteTime": {
     "end_time": "2025-01-07T21:38:45.974802Z",
     "start_time": "2025-01-07T21:38:45.946539Z"
    },
    "collapsed": false
   },
   "outputs": [],
   "source": [
    "import torch\n",
    "import torch.nn.functional as F\n",
    "from sklearn.metrics import roc_auc_score\n",
    "\n",
    "from torch_geometric.utils import negative_sampling\n",
    "from torch_geometric.datasets import Planetoid\n",
    "import torch_geometric.transforms as T\n",
    "from torch_geometric.nn import GCNConv, SAGEConv\n",
    "from torch_geometric.utils import train_test_split_edges"
   ]
  },
  {
   "cell_type": "code",
   "execution_count": null,
   "id": "8bb54ff6df62b744",
   "metadata": {
    "ExecuteTime": {
     "end_time": "2025-01-07T21:38:47.629596Z",
     "start_time": "2025-01-07T21:38:47.592620Z"
    },
    "collapsed": false
   },
   "outputs": [],
   "source": [
    "data"
   ]
  },
  {
   "cell_type": "code",
   "execution_count": 49,
   "id": "5577de8a330e41db",
   "metadata": {
    "ExecuteTime": {
     "end_time": "2025-01-07T21:38:47.894259Z",
     "start_time": "2025-01-07T21:38:47.842630Z"
    },
    "collapsed": false
   },
   "outputs": [],
   "source": [
    "import torch_geometric.transforms as T\n",
    "transform = T.RandomLinkSplit(\n",
    "    num_val=0.1,\n",
    "    num_test=0.1,\n",
    "    is_undirected=True,\n",
    "    neg_sampling_ratio=1.0,\n",
    "    add_negative_train_samples=False\n",
    ")\n",
    "train_data, val_data, test_data = transform(data)"
   ]
  },
  {
   "cell_type": "code",
   "execution_count": null,
   "id": "5a50c33495d021b7",
   "metadata": {
    "ExecuteTime": {
     "end_time": "2025-01-07T21:40:27.063928Z",
     "start_time": "2025-01-07T21:40:27.025087Z"
    },
    "collapsed": false
   },
   "outputs": [],
   "source": [
    "train_data"
   ]
  },
  {
   "cell_type": "code",
   "execution_count": 50,
   "id": "fe8acba01e391582",
   "metadata": {
    "ExecuteTime": {
     "end_time": "2025-01-07T21:38:50.366596Z",
     "start_time": "2025-01-07T21:38:50.329416Z"
    },
    "collapsed": false
   },
   "outputs": [],
   "source": [
    "device = torch.device('cuda' if torch.cuda.is_available() else 'cpu')\n",
    "device = \"cpu\""
   ]
  },
  {
   "cell_type": "code",
   "execution_count": 78,
   "id": "2780063e9df00214",
   "metadata": {
    "ExecuteTime": {
     "end_time": "2025-01-07T21:54:48.978231Z",
     "start_time": "2025-01-07T21:54:48.941372Z"
    },
    "collapsed": false
   },
   "outputs": [],
   "source": [
    "class Net(torch.nn.Module):\n",
    "    def __init__(self):\n",
    "        super(Net, self).__init__()\n",
    "        self.conv1 = SAGEConv(1024, 128)\n",
    "        self.conv2 = SAGEConv(128, 64)\n",
    "\n",
    "    def forward(self, x, edge_index):\n",
    "        x = self.conv1(x, edge_index) # convolution 1\n",
    "        x = x.relu()\n",
    "        return self.conv2(x, edge_index) # convolution 2\n",
    "\n",
    "    def decode(self, z, pos_edge_index, neg_edge_index): # only pos and neg edges\n",
    "        edge_index = torch.cat([pos_edge_index, neg_edge_index], dim=-1) # concatenate pos and neg edges\n",
    "        logits = (z[edge_index[0]] * z[edge_index[1]]).sum(dim=-1)  # dot product \n",
    "        return logits\n",
    "\n",
    "    def decode_all(self, z):\n",
    "        prob_adj = z @ z.t() # get adj NxN\n",
    "        return (prob_adj > 0).nonzero(as_tuple=False).t() # get predicted edge_list "
   ]
  },
  {
   "cell_type": "code",
   "execution_count": 79,
   "id": "ab758143733c3df9",
   "metadata": {
    "ExecuteTime": {
     "end_time": "2025-01-07T21:54:49.539563Z",
     "start_time": "2025-01-07T21:54:49.507860Z"
    },
    "collapsed": false
   },
   "outputs": [],
   "source": [
    "model, data = Net().to(device), data.to(device)\n",
    "optimizer = torch.optim.Adam(params=model.parameters(), lr=0.01)"
   ]
  },
  {
   "cell_type": "code",
   "execution_count": 84,
   "id": "951234c0a0571d3c",
   "metadata": {
    "ExecuteTime": {
     "end_time": "2025-01-07T21:55:13.466339Z",
     "start_time": "2025-01-07T21:55:13.432188Z"
    },
    "collapsed": false
   },
   "outputs": [],
   "source": [
    "import torch_geometric.utils as utils\n",
    "\n",
    "def get_link_labels(pos_edge_index, neg_edge_index):\n",
    "    # returns a tensor:\n",
    "    # [1,1,1,1,...,0,0,0,0,0,..] with the number of ones is equel to the lenght of pos_edge_index\n",
    "    # and the number of zeros is equal to the length of neg_edge_index\n",
    "    E = pos_edge_index.size(1) + neg_edge_index.size(1)\n",
    "    link_labels = torch.zeros(E, dtype=torch.float, device=device)\n",
    "    link_labels[:pos_edge_index.size(1)] = 1.\n",
    "    return link_labels\n",
    "\n",
    "def train(model, data):\n",
    "    model.train()\n",
    "\n",
    "    pos_edge_label_index = data.edge_label_index\n",
    "    pos_edge_label = torch.ones(pos_edge_label_index.size(1))\n",
    "\n",
    "\n",
    "    neg_edge_label_index = utils.negative_sampling(edge_index=pos_edge_label_index, #positive edges\n",
    "                                                   num_nodes=data.x.size(0), # number of nodes\n",
    "                                                   num_neg_samples=pos_edge_label_index.size(1))\n",
    "    neg_edge_label = torch.zeros(neg_edge_label_index.size(1))\n",
    "\n",
    "    optimizer.zero_grad()\n",
    "\n",
    "    z = model(data.x, pos_edge_label_index) #encode\n",
    "    link_logits = model.decode(z, pos_edge_label_index, neg_edge_label_index) # decode\n",
    "\n",
    "    link_labels = get_link_labels(pos_edge_label_index, neg_edge_label_index)\n",
    "    loss = F.binary_cross_entropy_with_logits(link_logits, link_labels)\n",
    "    loss.backward()\n",
    "    optimizer.step()\n",
    "\n",
    "    return loss"
   ]
  },
  {
   "cell_type": "code",
   "execution_count": 85,
   "id": "f0c51c4f4bbc21dc",
   "metadata": {
    "ExecuteTime": {
     "end_time": "2025-01-07T21:55:14.827198Z",
     "start_time": "2025-01-07T21:55:14.797035Z"
    },
    "collapsed": false
   },
   "outputs": [],
   "source": [
    "@torch.no_grad()\n",
    "def validate(model, data):\n",
    "    z = model(data.x, data.edge_index)\n",
    "    edge_label_index = data.edge_label_index\n",
    "    edge_label = data.edge_label\n",
    "    z_src = z[edge_label_index[0]]\n",
    "    z_dst = z[edge_label_index[1]]\n",
    "\n",
    "    recon = (z_src * z_dst).sum(dim=-1)\n",
    "    loss = F.binary_cross_entropy_with_logits(recon, edge_label)\n",
    "    # calculate AUC\n",
    "    auc = roc_auc_score(edge_label.cpu().detach().numpy(), recon.cpu().detach().numpy())\n",
    "\n",
    "    return loss.item(), auc\n"
   ]
  },
  {
   "cell_type": "code",
   "execution_count": 86,
   "id": "e439583f13f076f6",
   "metadata": {
    "ExecuteTime": {
     "end_time": "2025-01-07T21:55:15.252592Z",
     "start_time": "2025-01-07T21:55:15.225161Z"
    },
    "collapsed": false
   },
   "outputs": [],
   "source": [
    "@torch.no_grad()\n",
    "def test(model, data):\n",
    "    z = model(data.x, data.edge_index)\n",
    "    edge_label_index = data.edge_label_index\n",
    "    edge_label = data.edge_label\n",
    "    z_src = z[edge_label_index[0]]\n",
    "    z_dst = z[edge_label_index[1]]\n",
    "\n",
    "    recon = (z_src * z_dst).sum(dim=-1)\n",
    "    loss = F.binary_cross_entropy_with_logits(recon, edge_label)\n",
    "    # calculate AUC\n",
    "    auc = roc_auc_score(edge_label.cpu().detach().numpy(), recon.cpu().detach().numpy())\n",
    "\n",
    "    return loss.item(), auc\n"
   ]
  },
  {
   "cell_type": "code",
   "execution_count": null,
   "id": "54e20e58cb159d9c",
   "metadata": {
    "ExecuteTime": {
     "end_time": "2025-01-07T21:56:48.905612Z",
     "start_time": "2025-01-07T21:55:15.630991Z"
    },
    "collapsed": false
   },
   "outputs": [],
   "source": [
    "for epoch in range(1, 1001):\n",
    "    train_loss = train(model, train_data)\n",
    "    val_loss, val_auc= test(model, val_data)\n",
    "    test_loss, test_auc = test(model, test_data)\n",
    "    print(f'Epoch: {epoch:03d}, Loss: {train_loss:.4f}, AUC Val: {val_auc:.4f}, AUC Test: {test_auc:.4f}')"
   ]
  },
  {
   "cell_type": "markdown",
   "id": "e53ad237f1b0825b",
   "metadata": {
    "collapsed": false
   },
   "source": [
    "# Save data and load data for later use"
   ]
  },
  {
   "cell_type": "markdown",
   "id": "b0277f6107b46534",
   "metadata": {
    "collapsed": false
   },
   "source": [
    "# prediction\n"
   ]
  },
  {
   "cell_type": "code",
   "execution_count": null,
   "id": "e380cb3a31ef760f",
   "metadata": {
    "collapsed": false
   },
   "outputs": [],
   "source": [
    "z = model.encode() #encode\n",
    "predict_adj = torch.sigmoid(z @ z.t())\n",
    "# get 2D index of the top 10% edges\n",
    "# get the number of top edges to select\n",
    "\n",
    "# this is not sorted by the value of the tensor\n",
    "num_top_edges = int(0.01 * predict_adj.numel())\n",
    "\n",
    "value, indices = torch.topk(predict_adj.view(-1), num_top_edges, largest=True)\n",
    "\n",
    "# convert the 1D indices to 2D indices\n",
    "indices_2d = torch.stack(torch.unravel_index(indices, predict_adj.shape)).t()\n",
    "\n",
    "value\n",
    "print(indices_2d)"
   ]
  },
  {
   "cell_type": "code",
   "execution_count": null,
   "id": "54e583a63837b168",
   "metadata": {
    "collapsed": false
   },
   "outputs": [],
   "source": [
    "original_edge_index = original_edge_index.t()"
   ]
  },
  {
   "cell_type": "code",
   "execution_count": null,
   "id": "30e75834c5cd3ce7",
   "metadata": {
    "collapsed": false
   },
   "outputs": [],
   "source": []
  },
  {
   "cell_type": "code",
   "execution_count": null,
   "id": "cd16ddf9c486d1fc",
   "metadata": {
    "collapsed": false
   },
   "outputs": [],
   "source": [
    "indices_2d[:, 1]"
   ]
  },
  {
   "cell_type": "code",
   "execution_count": null,
   "id": "c5b678ad2060c3cc",
   "metadata": {
    "collapsed": false
   },
   "outputs": [],
   "source": [
    "import numpy as np\n",
    "entry1 = np.array(data.node_name)[indices_2d[:, 0].numpy()]\n",
    "entry2 = np.array(data.node_name)[indices_2d[:, 1].numpy()]\n",
    "# combine the two entries\n",
    "edges = np.stack([entry1, entry2], axis=1)\n",
    "edges"
   ]
  },
  {
   "cell_type": "code",
   "execution_count": null,
   "id": "5200a281bc038bce",
   "metadata": {
    "collapsed": false
   },
   "outputs": [],
   "source": [
    "from unipressed import IdMappingClient\n",
    "request = IdMappingClient.submit(\n",
    "    source=\"UniProtKB_AC-ID\",\n",
    "    dest=\"Gene_Name\",\n",
    "    ids=entry1\n",
    ")"
   ]
  },
  {
   "cell_type": "code",
   "execution_count": null,
   "id": "d17f342139772d7f",
   "metadata": {
    "collapsed": false
   },
   "outputs": [],
   "source": [
    "# check if first column is 'upQ8NFJ5' and second column is 'P35626'\n",
    "test = 'up:P16520'\n",
    "edges[(edges[:, 0] == test) & (edges[:, 1] == 'up:P35626')]\n",
    "edges[(edges[:, 0] == 'up:P35626') & (edges[:, 1] == test)]"
   ]
  },
  {
   "cell_type": "code",
   "execution_count": null,
   "id": "f824d2409ed36849",
   "metadata": {
    "collapsed": false
   },
   "outputs": [],
   "source": [
    "edges[edges[:, 0] == 'upQ8NFJ5' & edges[:, 1] == 'P35626']"
   ]
  },
  {
   "cell_type": "code",
   "execution_count": null,
   "id": "87a3fefc5e438a1c",
   "metadata": {
    "collapsed": false
   },
   "outputs": [],
   "source": [
    "original_edge_index"
   ]
  },
  {
   "cell_type": "code",
   "execution_count": null,
   "id": "f25192087c05ebca",
   "metadata": {
    "collapsed": false
   },
   "outputs": [],
   "source": [
    "entry1 = np.array(data.node_name)[original_edge_index[:, 0].numpy()]\n",
    "entry2 = np.array(data.node_name)[original_edge_index[:, 1].numpy()]\n",
    "# combine the two entries\n",
    "edges = np.stack([entry1, entry2], axis=1)\n",
    "edges"
   ]
  },
  {
   "cell_type": "code",
   "execution_count": null,
   "id": "9590a68f3f47264",
   "metadata": {
    "collapsed": false
   },
   "outputs": [],
   "source": []
  }
 ],
 "metadata": {
  "kernelspec": {
   "display_name": ".venv",
   "language": "python",
   "name": "python3"
  },
  "language_info": {
   "codemirror_mode": {
    "name": "ipython",
    "version": 3
   },
   "file_extension": ".py",
   "mimetype": "text/x-python",
   "name": "python",
   "nbconvert_exporter": "python",
   "pygments_lexer": "ipython3",
   "version": "3.11.12"
  }
 },
 "nbformat": 4,
 "nbformat_minor": 5
}
