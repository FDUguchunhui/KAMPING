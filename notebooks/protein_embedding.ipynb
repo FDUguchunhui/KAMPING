{
 "cells": [
  {
   "cell_type": "code",
   "execution_count": 18,
   "id": "initial_id",
   "metadata": {
    "collapsed": true,
    "ExecuteTime": {
     "end_time": "2024-10-01T04:41:42.455083Z",
     "start_time": "2024-10-01T04:41:39.895914Z"
    }
   },
   "outputs": [
    {
     "data": {
      "text/plain": "array([ 0.07192861, -0.07396872,  0.04011194, ...,  0.0279322 ,\n       -0.020931  ,  0.02410343], dtype=float32)"
     },
     "execution_count": 18,
     "metadata": {},
     "output_type": "execute_result"
    }
   ],
   "source": [
    "from bio_embeddings.embed import ProtTransBertBFDEmbedder\n",
    "embedder = ProtTransBertBFDEmbedder()\n",
    "embedding = embedder.embed(\"SEQVENCE\")\n",
    "# per-protein embeddings\n",
    "embedder.reduce_per_protein(embedding)"
   ]
  },
  {
   "cell_type": "code",
   "outputs": [
    {
     "data": {
      "text/plain": "array([[-0.0467555 , -0.07190941, -0.0314257 , ...,  0.01172287,\n         0.01092037,  0.04518341],\n       [ 0.10794733, -0.09779151,  0.09046077, ...,  0.11499642,\n         0.02417662, -0.04991413],\n       [ 0.09692698, -0.07898042,  0.02561175, ..., -0.05614557,\n        -0.14321952,  0.06902924],\n       ...,\n       [-0.04686003, -0.10101403, -0.02419611, ...,  0.03296087,\n         0.00505309,  0.14111729],\n       [ 0.05784511, -0.08158087,  0.11660787, ...,  0.01369378,\n        -0.1004184 ,  0.07407311],\n       [ 0.09855117, -0.07230176,  0.09183894, ...,  0.05356697,\n        -0.00147113, -0.06082158]], dtype=float32)"
     },
     "execution_count": 17,
     "metadata": {},
     "output_type": "execute_result"
    }
   ],
   "source": [
    "embedding"
   ],
   "metadata": {
    "collapsed": false,
    "ExecuteTime": {
     "end_time": "2024-10-01T04:39:56.985940Z",
     "start_time": "2024-10-01T04:39:56.963277Z"
    }
   },
   "id": "10f46108f4c80f42",
   "execution_count": 17
  },
  {
   "cell_type": "code",
   "outputs": [],
   "source": [
    "from bio_embeddings.embed import ProtTransT5XLU50Embedder\n",
    "embedder =ProtTransT5XLU50Embedder(model_directory='/Users/cgu3/embedding_model/prottrans_t5_xl_u50')\n",
    "embedding = list(embedder.embed_many([\"SEQVENCE\", \"SEQVENCE\"]))"
   ],
   "metadata": {
    "collapsed": false,
    "is_executing": true,
    "ExecuteTime": {
     "start_time": "2024-10-01T23:22:10.081105Z"
    }
   },
   "id": "b97d3b6ce12e7d20",
   "execution_count": null
  },
  {
   "cell_type": "code",
   "outputs": [],
   "source": [
    "embedding"
   ],
   "metadata": {
    "collapsed": false,
    "is_executing": true
   },
   "id": "4b22ccaa48360e85",
   "execution_count": null
  },
  {
   "cell_type": "code",
   "outputs": [],
   "source": [],
   "metadata": {
    "collapsed": false
   },
   "id": "56af264710064d2"
  }
 ],
 "metadata": {
  "kernelspec": {
   "display_name": "Python 3",
   "language": "python",
   "name": "python3"
  },
  "language_info": {
   "codemirror_mode": {
    "name": "ipython",
    "version": 2
   },
   "file_extension": ".py",
   "mimetype": "text/x-python",
   "name": "python",
   "nbconvert_exporter": "python",
   "pygments_lexer": "ipython2",
   "version": "2.7.6"
  }
 },
 "nbformat": 4,
 "nbformat_minor": 5
}
