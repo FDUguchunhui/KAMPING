{
 "cells": [
  {
   "cell_type": "code",
   "execution_count": 1,
   "id": "initial_id",
   "metadata": {
    "collapsed": true,
    "ExecuteTime": {
     "end_time": "2024-10-21T01:28:04.252742Z",
     "start_time": "2024-10-21T01:28:01.734445Z"
    }
   },
   "outputs": [],
   "source": [
    "import kamping.parser.network as network\n",
    "import kamping.parser.utils as utils\n",
    "import networkx as nx"
   ]
  },
  {
   "cell_type": "code",
   "outputs": [],
   "source": [],
   "metadata": {
    "collapsed": false,
    "ExecuteTime": {
     "end_time": "2024-10-21T01:28:04.255046Z",
     "start_time": "2024-10-21T01:28:04.253768Z"
    }
   },
   "id": "754e4cdf8806ec0a",
   "execution_count": 1
  },
  {
   "cell_type": "code",
   "outputs": [
    {
     "data": {
      "text/plain": "     entry1  entry2   type subtype_name subtype_value entry1_type entry2_type\n232    5160  C00068  PCrel     reaction     rn:R03270        gene    compound\n233    5160  C05125  PCrel     reaction     rn:R00014        gene    compound\n234    5160  C16255  PCrel     reaction     rn:R03270        gene    compound\n5    C00022    5160  PCrel     reaction     rn:R00014    compound        gene\n25   C00068    5160  PCrel     reaction     rn:R00014    compound        gene\n133  C05125    5160  PCrel     reaction     rn:R03270    compound        gene\n138  C15972    5160  PCrel     reaction     rn:R03270    compound        gene",
      "text/html": "<div>\n<style scoped>\n    .dataframe tbody tr th:only-of-type {\n        vertical-align: middle;\n    }\n\n    .dataframe tbody tr th {\n        vertical-align: top;\n    }\n\n    .dataframe thead th {\n        text-align: right;\n    }\n</style>\n<table border=\"1\" class=\"dataframe\">\n  <thead>\n    <tr style=\"text-align: right;\">\n      <th></th>\n      <th>entry1</th>\n      <th>entry2</th>\n      <th>type</th>\n      <th>subtype_name</th>\n      <th>subtype_value</th>\n      <th>entry1_type</th>\n      <th>entry2_type</th>\n    </tr>\n  </thead>\n  <tbody>\n    <tr>\n      <th>232</th>\n      <td>5160</td>\n      <td>C00068</td>\n      <td>PCrel</td>\n      <td>reaction</td>\n      <td>rn:R03270</td>\n      <td>gene</td>\n      <td>compound</td>\n    </tr>\n    <tr>\n      <th>233</th>\n      <td>5160</td>\n      <td>C05125</td>\n      <td>PCrel</td>\n      <td>reaction</td>\n      <td>rn:R00014</td>\n      <td>gene</td>\n      <td>compound</td>\n    </tr>\n    <tr>\n      <th>234</th>\n      <td>5160</td>\n      <td>C16255</td>\n      <td>PCrel</td>\n      <td>reaction</td>\n      <td>rn:R03270</td>\n      <td>gene</td>\n      <td>compound</td>\n    </tr>\n    <tr>\n      <th>5</th>\n      <td>C00022</td>\n      <td>5160</td>\n      <td>PCrel</td>\n      <td>reaction</td>\n      <td>rn:R00014</td>\n      <td>compound</td>\n      <td>gene</td>\n    </tr>\n    <tr>\n      <th>25</th>\n      <td>C00068</td>\n      <td>5160</td>\n      <td>PCrel</td>\n      <td>reaction</td>\n      <td>rn:R00014</td>\n      <td>compound</td>\n      <td>gene</td>\n    </tr>\n    <tr>\n      <th>133</th>\n      <td>C05125</td>\n      <td>5160</td>\n      <td>PCrel</td>\n      <td>reaction</td>\n      <td>rn:R03270</td>\n      <td>compound</td>\n      <td>gene</td>\n    </tr>\n    <tr>\n      <th>138</th>\n      <td>C15972</td>\n      <td>5160</td>\n      <td>PCrel</td>\n      <td>reaction</td>\n      <td>rn:R03270</td>\n      <td>compound</td>\n      <td>gene</td>\n    </tr>\n  </tbody>\n</table>\n</div>"
     },
     "execution_count": 2,
     "metadata": {},
     "output_type": "execute_result"
    }
   ],
   "source": [
    "# graph  = network.KeggGraph('../data/kgml_hsa/hsa04910.xml', type='metabolite', protein_group_as_interaction=False)\n",
    "graph  = network.KeggGraph('../data/kgml_hsa/hsa00010.xml', type='mpi', protein_group_as_interaction=True, multi_substrate_as_interaction=True)\n",
    "# sort by entry1 and entry2\n",
    "graph.interaction.sort_values(by=['entry1', 'entry2']).loc[(graph.interaction['entry2'] == '5160') | (graph.interaction['entry1'] == '5160' )]"
   ],
   "metadata": {
    "collapsed": false,
    "ExecuteTime": {
     "end_time": "2024-10-21T01:28:04.279540Z",
     "start_time": "2024-10-21T01:28:04.255794Z"
    }
   },
   "id": "6085925856ef1638",
   "execution_count": 2
  },
  {
   "cell_type": "code",
   "outputs": [
    {
     "data": {
      "text/plain": "     entry1  entry2   type     subtype_name subtype_value entry1_type  \\\n0    C00022  C00068  CCrel  multi-substrate     rn:R00014    compound   \n1    C00022  160287  PCrel         reaction     rn:R00703    compound   \n2    C00022    3939  PCrel         reaction     rn:R00703    compound   \n3    C00022    3945  PCrel         reaction     rn:R00703    compound   \n4    C00022    3948  PCrel         reaction     rn:R00703    compound   \n..      ...     ...    ...              ...           ...         ...   \n274    8789  C00085  PCrel         reaction     rn:R00762        gene   \n275   92483  C00022  PCrel         reaction     rn:R00703        gene   \n276   92483  C00186  PCrel         reaction     rn:R00703        gene   \n277   92579  C00267  PCrel         reaction     rn:R01788        gene   \n278    9562  C00631  PCrel         reaction     rn:R09532        gene   \n\n    entry2_type  \n0      compound  \n1          gene  \n2          gene  \n3          gene  \n4          gene  \n..          ...  \n274    compound  \n275    compound  \n276    compound  \n277    compound  \n278    compound  \n\n[279 rows x 7 columns]",
      "text/html": "<div>\n<style scoped>\n    .dataframe tbody tr th:only-of-type {\n        vertical-align: middle;\n    }\n\n    .dataframe tbody tr th {\n        vertical-align: top;\n    }\n\n    .dataframe thead th {\n        text-align: right;\n    }\n</style>\n<table border=\"1\" class=\"dataframe\">\n  <thead>\n    <tr style=\"text-align: right;\">\n      <th></th>\n      <th>entry1</th>\n      <th>entry2</th>\n      <th>type</th>\n      <th>subtype_name</th>\n      <th>subtype_value</th>\n      <th>entry1_type</th>\n      <th>entry2_type</th>\n    </tr>\n  </thead>\n  <tbody>\n    <tr>\n      <th>0</th>\n      <td>C00022</td>\n      <td>C00068</td>\n      <td>CCrel</td>\n      <td>multi-substrate</td>\n      <td>rn:R00014</td>\n      <td>compound</td>\n      <td>compound</td>\n    </tr>\n    <tr>\n      <th>1</th>\n      <td>C00022</td>\n      <td>160287</td>\n      <td>PCrel</td>\n      <td>reaction</td>\n      <td>rn:R00703</td>\n      <td>compound</td>\n      <td>gene</td>\n    </tr>\n    <tr>\n      <th>2</th>\n      <td>C00022</td>\n      <td>3939</td>\n      <td>PCrel</td>\n      <td>reaction</td>\n      <td>rn:R00703</td>\n      <td>compound</td>\n      <td>gene</td>\n    </tr>\n    <tr>\n      <th>3</th>\n      <td>C00022</td>\n      <td>3945</td>\n      <td>PCrel</td>\n      <td>reaction</td>\n      <td>rn:R00703</td>\n      <td>compound</td>\n      <td>gene</td>\n    </tr>\n    <tr>\n      <th>4</th>\n      <td>C00022</td>\n      <td>3948</td>\n      <td>PCrel</td>\n      <td>reaction</td>\n      <td>rn:R00703</td>\n      <td>compound</td>\n      <td>gene</td>\n    </tr>\n    <tr>\n      <th>...</th>\n      <td>...</td>\n      <td>...</td>\n      <td>...</td>\n      <td>...</td>\n      <td>...</td>\n      <td>...</td>\n      <td>...</td>\n    </tr>\n    <tr>\n      <th>274</th>\n      <td>8789</td>\n      <td>C00085</td>\n      <td>PCrel</td>\n      <td>reaction</td>\n      <td>rn:R00762</td>\n      <td>gene</td>\n      <td>compound</td>\n    </tr>\n    <tr>\n      <th>275</th>\n      <td>92483</td>\n      <td>C00022</td>\n      <td>PCrel</td>\n      <td>reaction</td>\n      <td>rn:R00703</td>\n      <td>gene</td>\n      <td>compound</td>\n    </tr>\n    <tr>\n      <th>276</th>\n      <td>92483</td>\n      <td>C00186</td>\n      <td>PCrel</td>\n      <td>reaction</td>\n      <td>rn:R00703</td>\n      <td>gene</td>\n      <td>compound</td>\n    </tr>\n    <tr>\n      <th>277</th>\n      <td>92579</td>\n      <td>C00267</td>\n      <td>PCrel</td>\n      <td>reaction</td>\n      <td>rn:R01788</td>\n      <td>gene</td>\n      <td>compound</td>\n    </tr>\n    <tr>\n      <th>278</th>\n      <td>9562</td>\n      <td>C00631</td>\n      <td>PCrel</td>\n      <td>reaction</td>\n      <td>rn:R09532</td>\n      <td>gene</td>\n      <td>compound</td>\n    </tr>\n  </tbody>\n</table>\n<p>279 rows × 7 columns</p>\n</div>"
     },
     "execution_count": 3,
     "metadata": {},
     "output_type": "execute_result"
    }
   ],
   "source": [
    "network.KeggGraph('../data/kgml_hsa/hsa00010.xml', type='mixed', protein_group_as_interaction=True, multi_substrate_as_interaction=True).interaction"
   ],
   "metadata": {
    "collapsed": false,
    "ExecuteTime": {
     "end_time": "2024-10-21T01:28:04.301995Z",
     "start_time": "2024-10-21T01:28:04.280108Z"
    }
   },
   "id": "3ad3a3d30ab838d9",
   "execution_count": 3
  },
  {
   "cell_type": "code",
   "outputs": [
    {
     "data": {
      "text/plain": "    entry1 entry2   type subtype_name        subtype_value entry1_type  \\\n21  C00036   5105  PCrel     reaction  rn:R00431 rn:R00726    compound   \n22  C00036   5106  PCrel     reaction  rn:R00431 rn:R00726    compound   \n\n   entry2_type  \n21        gene  \n22        gene  ",
      "text/html": "<div>\n<style scoped>\n    .dataframe tbody tr th:only-of-type {\n        vertical-align: middle;\n    }\n\n    .dataframe tbody tr th {\n        vertical-align: top;\n    }\n\n    .dataframe thead th {\n        text-align: right;\n    }\n</style>\n<table border=\"1\" class=\"dataframe\">\n  <thead>\n    <tr style=\"text-align: right;\">\n      <th></th>\n      <th>entry1</th>\n      <th>entry2</th>\n      <th>type</th>\n      <th>subtype_name</th>\n      <th>subtype_value</th>\n      <th>entry1_type</th>\n      <th>entry2_type</th>\n    </tr>\n  </thead>\n  <tbody>\n    <tr>\n      <th>21</th>\n      <td>C00036</td>\n      <td>5105</td>\n      <td>PCrel</td>\n      <td>reaction</td>\n      <td>rn:R00431 rn:R00726</td>\n      <td>compound</td>\n      <td>gene</td>\n    </tr>\n    <tr>\n      <th>22</th>\n      <td>C00036</td>\n      <td>5106</td>\n      <td>PCrel</td>\n      <td>reaction</td>\n      <td>rn:R00431 rn:R00726</td>\n      <td>compound</td>\n      <td>gene</td>\n    </tr>\n  </tbody>\n</table>\n</div>"
     },
     "execution_count": 4,
     "metadata": {},
     "output_type": "execute_result"
    }
   ],
   "source": [
    "graph.interaction.sort_values(by=['entry1', 'entry2']).loc[(graph.interaction['entry1'] == 'C00036')]"
   ],
   "metadata": {
    "collapsed": false,
    "ExecuteTime": {
     "end_time": "2024-10-21T01:28:04.309311Z",
     "start_time": "2024-10-21T01:28:04.303419Z"
    }
   },
   "id": "967a0f44ff3ebff8",
   "execution_count": 4
  },
  {
   "cell_type": "code",
   "outputs": [
    {
     "ename": "KeyError",
     "evalue": "'direction'",
     "output_type": "error",
     "traceback": [
      "\u001B[0;31m---------------------------------------------------------------------------\u001B[0m",
      "\u001B[0;31mKeyError\u001B[0m                                  Traceback (most recent call last)",
      "File \u001B[0;32m~/miniforge3/envs/mpi/lib/python3.10/site-packages/pandas/core/indexes/base.py:3802\u001B[0m, in \u001B[0;36mIndex.get_loc\u001B[0;34m(self, key, method, tolerance)\u001B[0m\n\u001B[1;32m   3801\u001B[0m \u001B[38;5;28;01mtry\u001B[39;00m:\n\u001B[0;32m-> 3802\u001B[0m     \u001B[38;5;28;01mreturn\u001B[39;00m \u001B[38;5;28;43mself\u001B[39;49m\u001B[38;5;241;43m.\u001B[39;49m\u001B[43m_engine\u001B[49m\u001B[38;5;241;43m.\u001B[39;49m\u001B[43mget_loc\u001B[49m\u001B[43m(\u001B[49m\u001B[43mcasted_key\u001B[49m\u001B[43m)\u001B[49m\n\u001B[1;32m   3803\u001B[0m \u001B[38;5;28;01mexcept\u001B[39;00m \u001B[38;5;167;01mKeyError\u001B[39;00m \u001B[38;5;28;01mas\u001B[39;00m err:\n",
      "File \u001B[0;32m~/miniforge3/envs/mpi/lib/python3.10/site-packages/pandas/_libs/index.pyx:138\u001B[0m, in \u001B[0;36mpandas._libs.index.IndexEngine.get_loc\u001B[0;34m()\u001B[0m\n",
      "File \u001B[0;32m~/miniforge3/envs/mpi/lib/python3.10/site-packages/pandas/_libs/index.pyx:165\u001B[0m, in \u001B[0;36mpandas._libs.index.IndexEngine.get_loc\u001B[0;34m()\u001B[0m\n",
      "File \u001B[0;32mpandas/_libs/hashtable_class_helper.pxi:5745\u001B[0m, in \u001B[0;36mpandas._libs.hashtable.PyObjectHashTable.get_item\u001B[0;34m()\u001B[0m\n",
      "File \u001B[0;32mpandas/_libs/hashtable_class_helper.pxi:5753\u001B[0m, in \u001B[0;36mpandas._libs.hashtable.PyObjectHashTable.get_item\u001B[0;34m()\u001B[0m\n",
      "\u001B[0;31mKeyError\u001B[0m: 'direction'",
      "\nThe above exception was the direct cause of the following exception:\n",
      "\u001B[0;31mKeyError\u001B[0m                                  Traceback (most recent call last)",
      "Cell \u001B[0;32mIn[5], line 2\u001B[0m\n\u001B[1;32m      1\u001B[0m \u001B[38;5;28;01mfrom\u001B[39;00m \u001B[38;5;21;01mmatplotlib\u001B[39;00m \u001B[38;5;28;01mimport\u001B[39;00m pyplot \u001B[38;5;28;01mas\u001B[39;00m plt\n\u001B[0;32m----> 2\u001B[0m graph_nx \u001B[38;5;241m=\u001B[39m \u001B[43mgraph\u001B[49m\u001B[38;5;241;43m.\u001B[39;49m\u001B[43mto_networkx\u001B[49m\u001B[43m(\u001B[49m\u001B[43m)\u001B[49m\n\u001B[1;32m      3\u001B[0m color_map \u001B[38;5;241m=\u001B[39m {\u001B[38;5;124m'\u001B[39m\u001B[38;5;124mcompound\u001B[39m\u001B[38;5;124m'\u001B[39m: \u001B[38;5;124m'\u001B[39m\u001B[38;5;124mgreen\u001B[39m\u001B[38;5;124m'\u001B[39m, \u001B[38;5;124m'\u001B[39m\u001B[38;5;124mgene\u001B[39m\u001B[38;5;124m'\u001B[39m: \u001B[38;5;124m'\u001B[39m\u001B[38;5;124mblue\u001B[39m\u001B[38;5;124m'\u001B[39m}\n\u001B[1;32m      5\u001B[0m \u001B[38;5;66;03m# Extract node types\u001B[39;00m\n",
      "File \u001B[0;32m~/Documents/experiments/KAMPING/kamping/parser/network.py:441\u001B[0m, in \u001B[0;36mKeggGraph.to_networkx\u001B[0;34m(self)\u001B[0m\n\u001B[1;32m    437\u001B[0m \u001B[38;5;28;01mdef\u001B[39;00m \u001B[38;5;21mto_networkx\u001B[39m(\u001B[38;5;28mself\u001B[39m) \u001B[38;5;241m-\u001B[39m\u001B[38;5;241m>\u001B[39m nx\u001B[38;5;241m.\u001B[39mDiGraph:\n\u001B[1;32m    438\u001B[0m \u001B[38;5;250m    \u001B[39m\u001B[38;5;124;03m'''\u001B[39;00m\n\u001B[1;32m    439\u001B[0m \u001B[38;5;124;03m    Convert the graph to networkx\u001B[39;00m\n\u001B[1;32m    440\u001B[0m \u001B[38;5;124;03m    '''\u001B[39;00m\n\u001B[0;32m--> 441\u001B[0m     G \u001B[38;5;241m=\u001B[39m nx\u001B[38;5;241m.\u001B[39mfrom_pandas_edgelist(\u001B[38;5;28;43mself\u001B[39;49m\u001B[38;5;241;43m.\u001B[39;49m\u001B[43mexpand_undirected_edges\u001B[49m\u001B[43m(\u001B[49m\u001B[43m)\u001B[49m,\n\u001B[1;32m    442\u001B[0m                                 source\u001B[38;5;241m=\u001B[39m\u001B[38;5;124m'\u001B[39m\u001B[38;5;124mentry1\u001B[39m\u001B[38;5;124m'\u001B[39m, target\u001B[38;5;241m=\u001B[39m\u001B[38;5;124m'\u001B[39m\u001B[38;5;124mentry2\u001B[39m\u001B[38;5;124m'\u001B[39m, edge_attr\u001B[38;5;241m=\u001B[39m[\u001B[38;5;124m'\u001B[39m\u001B[38;5;124mname\u001B[39m\u001B[38;5;124m'\u001B[39m, \u001B[38;5;124m'\u001B[39m\u001B[38;5;124mtype\u001B[39m\u001B[38;5;124m'\u001B[39m, \u001B[38;5;124m'\u001B[39m\u001B[38;5;124mvalue\u001B[39m\u001B[38;5;124m'\u001B[39m, \u001B[38;5;124m'\u001B[39m\u001B[38;5;124mdirection\u001B[39m\u001B[38;5;124m'\u001B[39m, \u001B[38;5;124m'\u001B[39m\u001B[38;5;124mentry1_type\u001B[39m\u001B[38;5;124m'\u001B[39m, \u001B[38;5;124m'\u001B[39m\u001B[38;5;124mentry2_type\u001B[39m\u001B[38;5;124m'\u001B[39m,], create_using\u001B[38;5;241m=\u001B[39mnx\u001B[38;5;241m.\u001B[39mDiGraph())\n\u001B[1;32m    444\u001B[0m     \u001B[38;5;66;03m# set node attribute\u001B[39;00m\n\u001B[1;32m    445\u001B[0m     \u001B[38;5;66;03m# create dict with key in self.proteins and value as \"gene\"\u001B[39;00m\n\u001B[1;32m    446\u001B[0m \n\u001B[1;32m    447\u001B[0m     \u001B[38;5;66;03m# create dict with key in self.molecules and value as \"compound\"\u001B[39;00m\n\u001B[1;32m    448\u001B[0m     \u001B[38;5;66;03m# combine the two dictionaries\u001B[39;00m\n\u001B[1;32m    449\u001B[0m     node_attributes \u001B[38;5;241m=\u001B[39m {\u001B[38;5;241m*\u001B[39m\u001B[38;5;241m*\u001B[39m{protein: \u001B[38;5;124m'\u001B[39m\u001B[38;5;124mgene\u001B[39m\u001B[38;5;124m'\u001B[39m \u001B[38;5;28;01mfor\u001B[39;00m protein \u001B[38;5;129;01min\u001B[39;00m \u001B[38;5;28mself\u001B[39m\u001B[38;5;241m.\u001B[39mproteins},\n\u001B[1;32m    450\u001B[0m                        \u001B[38;5;241m*\u001B[39m\u001B[38;5;241m*\u001B[39m{molecule: \u001B[38;5;124m'\u001B[39m\u001B[38;5;124mcompound\u001B[39m\u001B[38;5;124m'\u001B[39m \u001B[38;5;28;01mfor\u001B[39;00m molecule \u001B[38;5;129;01min\u001B[39;00m \u001B[38;5;28mself\u001B[39m\u001B[38;5;241m.\u001B[39mcompounds}}\n",
      "File \u001B[0;32m~/Documents/experiments/KAMPING/kamping/parser/network.py:461\u001B[0m, in \u001B[0;36mKeggGraph.expand_undirected_edges\u001B[0;34m(self)\u001B[0m\n\u001B[1;32m    457\u001B[0m \u001B[38;5;250m\u001B[39m\u001B[38;5;124;03m'''\u001B[39;00m\n\u001B[1;32m    458\u001B[0m \u001B[38;5;124;03mExpand the unidirectional edges\u001B[39;00m\n\u001B[1;32m    459\u001B[0m \u001B[38;5;124;03m'''\u001B[39;00m\n\u001B[1;32m    460\u001B[0m \u001B[38;5;66;03m# if indirection is \"undirected\", add the reverse edge\u001B[39;00m\n\u001B[0;32m--> 461\u001B[0m \u001B[38;5;28;01mreturn\u001B[39;00m pd\u001B[38;5;241m.\u001B[39mconcat([\u001B[38;5;28mself\u001B[39m\u001B[38;5;241m.\u001B[39medges, \u001B[38;5;28mself\u001B[39m\u001B[38;5;241m.\u001B[39medges[\u001B[38;5;28;43mself\u001B[39;49m\u001B[38;5;241;43m.\u001B[39;49m\u001B[43medges\u001B[49m\u001B[43m[\u001B[49m\u001B[38;5;124;43m'\u001B[39;49m\u001B[38;5;124;43mdirection\u001B[39;49m\u001B[38;5;124;43m'\u001B[39;49m\u001B[43m]\u001B[49m \u001B[38;5;241m==\u001B[39m \u001B[38;5;124m'\u001B[39m\u001B[38;5;124mundirected\u001B[39m\u001B[38;5;124m'\u001B[39m]\u001B[38;5;241m.\u001B[39mrename(columns\u001B[38;5;241m=\u001B[39m{\u001B[38;5;124m'\u001B[39m\u001B[38;5;124mentry1\u001B[39m\u001B[38;5;124m'\u001B[39m: \u001B[38;5;124m'\u001B[39m\u001B[38;5;124mentry2\u001B[39m\u001B[38;5;124m'\u001B[39m, \u001B[38;5;124m'\u001B[39m\u001B[38;5;124mentry2\u001B[39m\u001B[38;5;124m'\u001B[39m: \u001B[38;5;124m'\u001B[39m\u001B[38;5;124mentry1\u001B[39m\u001B[38;5;124m'\u001B[39m})])\n",
      "File \u001B[0;32m~/miniforge3/envs/mpi/lib/python3.10/site-packages/pandas/core/frame.py:3807\u001B[0m, in \u001B[0;36mDataFrame.__getitem__\u001B[0;34m(self, key)\u001B[0m\n\u001B[1;32m   3805\u001B[0m \u001B[38;5;28;01mif\u001B[39;00m \u001B[38;5;28mself\u001B[39m\u001B[38;5;241m.\u001B[39mcolumns\u001B[38;5;241m.\u001B[39mnlevels \u001B[38;5;241m>\u001B[39m \u001B[38;5;241m1\u001B[39m:\n\u001B[1;32m   3806\u001B[0m     \u001B[38;5;28;01mreturn\u001B[39;00m \u001B[38;5;28mself\u001B[39m\u001B[38;5;241m.\u001B[39m_getitem_multilevel(key)\n\u001B[0;32m-> 3807\u001B[0m indexer \u001B[38;5;241m=\u001B[39m \u001B[38;5;28;43mself\u001B[39;49m\u001B[38;5;241;43m.\u001B[39;49m\u001B[43mcolumns\u001B[49m\u001B[38;5;241;43m.\u001B[39;49m\u001B[43mget_loc\u001B[49m\u001B[43m(\u001B[49m\u001B[43mkey\u001B[49m\u001B[43m)\u001B[49m\n\u001B[1;32m   3808\u001B[0m \u001B[38;5;28;01mif\u001B[39;00m is_integer(indexer):\n\u001B[1;32m   3809\u001B[0m     indexer \u001B[38;5;241m=\u001B[39m [indexer]\n",
      "File \u001B[0;32m~/miniforge3/envs/mpi/lib/python3.10/site-packages/pandas/core/indexes/base.py:3804\u001B[0m, in \u001B[0;36mIndex.get_loc\u001B[0;34m(self, key, method, tolerance)\u001B[0m\n\u001B[1;32m   3802\u001B[0m     \u001B[38;5;28;01mreturn\u001B[39;00m \u001B[38;5;28mself\u001B[39m\u001B[38;5;241m.\u001B[39m_engine\u001B[38;5;241m.\u001B[39mget_loc(casted_key)\n\u001B[1;32m   3803\u001B[0m \u001B[38;5;28;01mexcept\u001B[39;00m \u001B[38;5;167;01mKeyError\u001B[39;00m \u001B[38;5;28;01mas\u001B[39;00m err:\n\u001B[0;32m-> 3804\u001B[0m     \u001B[38;5;28;01mraise\u001B[39;00m \u001B[38;5;167;01mKeyError\u001B[39;00m(key) \u001B[38;5;28;01mfrom\u001B[39;00m \u001B[38;5;21;01merr\u001B[39;00m\n\u001B[1;32m   3805\u001B[0m \u001B[38;5;28;01mexcept\u001B[39;00m \u001B[38;5;167;01mTypeError\u001B[39;00m:\n\u001B[1;32m   3806\u001B[0m     \u001B[38;5;66;03m# If we have a listlike key, _check_indexing_error will raise\u001B[39;00m\n\u001B[1;32m   3807\u001B[0m     \u001B[38;5;66;03m#  InvalidIndexError. Otherwise we fall through and re-raise\u001B[39;00m\n\u001B[1;32m   3808\u001B[0m     \u001B[38;5;66;03m#  the TypeError.\u001B[39;00m\n\u001B[1;32m   3809\u001B[0m     \u001B[38;5;28mself\u001B[39m\u001B[38;5;241m.\u001B[39m_check_indexing_error(key)\n",
      "\u001B[0;31mKeyError\u001B[0m: 'direction'"
     ]
    }
   ],
   "source": [
    "from matplotlib import pyplot as plt\n",
    "graph_nx = graph.to_networkx()\n",
    "color_map = {'compound': 'green', 'gene': 'blue'}\n",
    "\n",
    "# Extract node types\n",
    "node_types = nx.get_node_attributes(graph_nx, 'type')\n",
    "node_colors = [color_map.get(node_types.get(node), 'gray') for node in graph_nx.nodes]\n",
    "# set label positions offset y \n",
    "\n",
    "pos = nx.nx_agraph.graphviz_layout(graph_nx, prog='dot')  # positions for all nodes\n",
    "label_pos = {node: (pos[0], pos[1]-20) for node, pos in pos.items()}\n",
    "nx.draw(graph_nx, node_size=100, pos=pos, node_color=node_colors, with_labels=False)\n",
    "nx.draw_networkx_labels(graph_nx, pos=label_pos, labels={node: node for node in graph_nx.nodes})"
   ],
   "metadata": {
    "collapsed": false,
    "ExecuteTime": {
     "end_time": "2024-10-21T01:28:05.118783Z",
     "start_time": "2024-10-21T01:28:04.310034Z"
    }
   },
   "id": "1ad4c6b715ed7072",
   "execution_count": 5
  },
  {
   "cell_type": "code",
   "outputs": [],
   "source": [
    "protein_embedding = utils.get_protein_embedding('../data/embedding/protein_embedding.h5')\n",
    "metabolite_embedding = utils.get_mol_embedding(graph, transformer='morgan')"
   ],
   "metadata": {
    "collapsed": false,
    "ExecuteTime": {
     "end_time": "2024-10-21T01:28:05.119657Z",
     "start_time": "2024-10-21T01:28:05.119599Z"
    }
   },
   "id": "9036245a18c86dbf",
   "execution_count": null
  },
  {
   "cell_type": "code",
   "outputs": [],
   "source": [
    "data = utils.convert_to_pyg_data(graph, mol_embedding=metabolite_embedding, protein_embedding=protein_embedding)"
   ],
   "metadata": {
    "collapsed": false
   },
   "id": "c9d0f9d3f151bb6c",
   "execution_count": null
  },
  {
   "cell_type": "code",
   "outputs": [],
   "source": [
    "data"
   ],
   "metadata": {
    "collapsed": false
   },
   "id": "f1218948b2e781a5",
   "execution_count": null
  },
  {
   "cell_type": "code",
   "outputs": [],
   "source": [
    " "
   ],
   "metadata": {
    "collapsed": false
   },
   "id": "8a1c354b6ea11686",
   "execution_count": null
  }
 ],
 "metadata": {
  "kernelspec": {
   "display_name": "Python 3",
   "language": "python",
   "name": "python3"
  },
  "language_info": {
   "codemirror_mode": {
    "name": "ipython",
    "version": 2
   },
   "file_extension": ".py",
   "mimetype": "text/x-python",
   "name": "python",
   "nbconvert_exporter": "python",
   "pygments_lexer": "ipython2",
   "version": "2.7.6"
  }
 },
 "nbformat": 4,
 "nbformat_minor": 5
}
