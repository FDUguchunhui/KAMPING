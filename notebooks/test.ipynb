{
 "cells": [
  {
   "cell_type": "code",
   "execution_count": 31,
   "id": "initial_id",
   "metadata": {
    "collapsed": true,
    "ExecuteTime": {
     "end_time": "2024-09-26T22:51:06.250342Z",
     "start_time": "2024-09-26T22:51:06.092538Z"
    }
   },
   "outputs": [
    {
     "name": "stdout",
     "output_type": "stream",
     "text": [
      "/Users/cgu3/Documents/experiments/knext\n"
     ]
    },
    {
     "data": {
      "text/plain": "'/Users/cgu3/Documents/experiments/knext'"
     },
     "execution_count": 31,
     "metadata": {},
     "output_type": "execute_result"
    }
   ],
   "source": [
    "import networkx as nx\n",
    "import pandas as pd\n",
    "import json\n",
    "from src.parser import utils\n",
    "from src.parser import protein_metabolite_parser as pm_parser\n",
    "# reload src\n",
    "import importlib\n",
    "import src.main\n",
    "%cd /Users/cgu3/Documents/experiments/knext\n",
    "%pwd"
   ]
  },
  {
   "cell_type": "code",
   "outputs": [
    {
     "name": "stdout",
     "output_type": "stream",
     "text": [
      "The autoreload extension is already loaded. To reload it, use:\n",
      "  %reload_ext autoreload\n"
     ]
    }
   ],
   "source": [
    "%load_ext autoreload\n",
    "%autoreload 2"
   ],
   "metadata": {
    "collapsed": false,
    "ExecuteTime": {
     "end_time": "2024-09-26T20:25:37.855451Z",
     "start_time": "2024-09-26T20:25:37.644925Z"
    }
   },
   "id": "2ee01c54f32c01a8",
   "execution_count": 12
  },
  {
   "cell_type": "code",
   "outputs": [
    {
     "name": "stderr",
     "output_type": "stream",
     "text": [
      "\n",
      "Aborted!\n"
     ]
    },
    {
     "ename": "SystemExit",
     "evalue": "1",
     "output_type": "error",
     "traceback": [
      "An exception has occurred, use %tb to see the full traceback.\n",
      "\u001B[0;31mSystemExit\u001B[0m\u001B[0;31m:\u001B[0m 1\n"
     ]
    },
    {
     "name": "stderr",
     "output_type": "stream",
     "text": [
      "/Users/cgu3/anaconda3/envs/knext/lib/python3.11/site-packages/IPython/core/interactiveshell.py:3585: UserWarning: To exit: use 'exit', 'quit', or Ctrl-D.\n",
      "  warn(\"To exit: use 'exit', 'quit', or Ctrl-D.\", stacklevel=1)\n"
     ]
    }
   ],
   "source": [
    "# parse mixed output\n",
    "src.main.mixed(['data/kgml_hsa/hsa04071.xml', '-r', 'data/mixed_output'])"
   ],
   "metadata": {
    "collapsed": false,
    "ExecuteTime": {
     "end_time": "2024-09-26T20:46:27.035431Z",
     "start_time": "2024-09-26T20:43:38.751230Z"
    }
   },
   "id": "98b17c12e465be0f",
   "execution_count": 24
  },
  {
   "cell_type": "code",
   "outputs": [],
   "source": [],
   "metadata": {
    "collapsed": false
   },
   "id": "b7b45f470750e59e"
  },
  {
   "cell_type": "code",
   "outputs": [
    {
     "name": "stdout",
     "output_type": "stream",
     "text": [
      "\u001B[31m\u001B[1mNo data to parse in data/mixed_output/hsa00290.tsv!\u001B[0m\n",
      "\u001B[31m\u001B[1mNo data to parse in data/mixed_output/hsa00524.tsv!\u001B[0m\n"
     ]
    }
   ],
   "source": [
    "pm_parser.parse_to_mpi('data/mixed_output', wd='data/mixed_output_PC', keep_PPI=True, keep_glycan=False)"
   ],
   "metadata": {
    "collapsed": false,
    "ExecuteTime": {
     "end_time": "2024-09-26T23:04:38.942089Z",
     "start_time": "2024-09-26T23:04:19.544746Z"
    }
   },
   "id": "9ba3b6a51152ca4a",
   "execution_count": 33
  },
  {
   "cell_type": "code",
   "outputs": [],
   "source": [
    "# convert ID to uniprot ID\n",
    "src.main.convert(['hsa', 'data/mixed_output_PC', '-r',\n",
    "                         'data/mixed_output_converted', '-up'])"
   ],
   "metadata": {
    "collapsed": false
   },
   "id": "73ef6b7f49d99cee",
   "execution_count": null
  },
  {
   "cell_type": "code",
   "outputs": [],
   "source": [
    "mol_file_string = utils.fetch_mol_file_string('C00002')"
   ],
   "metadata": {
    "collapsed": false
   },
   "id": "4b869b7ab13629c7",
   "execution_count": null
  },
  {
   "cell_type": "code",
   "outputs": [],
   "source": [
    "utils.get_smiles(mol_file_string)"
   ],
   "metadata": {
    "collapsed": false
   },
   "id": "71c0e6d97181cd16",
   "execution_count": null
  },
  {
   "cell_type": "code",
   "outputs": [],
   "source": [],
   "metadata": {
    "collapsed": false
   },
   "id": "8003d404746714d8"
  }
 ],
 "metadata": {
  "kernelspec": {
   "display_name": "Python 3",
   "language": "python",
   "name": "python3"
  },
  "language_info": {
   "codemirror_mode": {
    "name": "ipython",
    "version": 2
   },
   "file_extension": ".py",
   "mimetype": "text/x-python",
   "name": "python",
   "nbconvert_exporter": "python",
   "pygments_lexer": "ipython2",
   "version": "2.7.6"
  }
 },
 "nbformat": 4,
 "nbformat_minor": 5
}
