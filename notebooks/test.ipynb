{
 "cells": [
  {
   "cell_type": "code",
   "execution_count": 6,
   "id": "initial_id",
   "metadata": {
    "collapsed": true,
    "ExecuteTime": {
     "end_time": "2024-09-26T18:06:56.492518Z",
     "start_time": "2024-09-26T18:06:56.463903Z"
    }
   },
   "outputs": [
    {
     "name": "stdout",
     "output_type": "stream",
     "text": [
      "/Users/cgu3/Documents/experiments/knext\n"
     ]
    },
    {
     "data": {
      "text/plain": "'/Users/cgu3/Documents/experiments/knext'"
     },
     "execution_count": 6,
     "metadata": {},
     "output_type": "execute_result"
    }
   ],
   "source": [
    "import networkx as nx\n",
    "import pandas as pd\n",
    "import json\n",
    "from src.parser import utils\n",
    "from src.parser import protein_metabolite_parser as pm_parser\n",
    "# reload src\n",
    "import importlib\n",
    "import src.main\n",
    "importlib.reload(utils)\n",
    "importlib.reload(pm_parser)\n",
    "importlib.reload(src.main)\n",
    "\n",
    "%cd /Users/cgu3/Documents/experiments/knext\n",
    "%pwd"
   ]
  },
  {
   "cell_type": "code",
   "outputs": [
    {
     "name": "stderr",
     "output_type": "stream",
     "text": [
      "\n",
      "Aborted!\n"
     ]
    },
    {
     "ename": "SystemExit",
     "evalue": "1",
     "output_type": "error",
     "traceback": [
      "An exception has occurred, use %tb to see the full traceback.\n",
      "\u001B[0;31mSystemExit\u001B[0m\u001B[0;31m:\u001B[0m 1\n"
     ]
    },
    {
     "name": "stderr",
     "output_type": "stream",
     "text": [
      "/Users/cgu3/anaconda3/envs/knext/lib/python3.11/site-packages/IPython/core/interactiveshell.py:3585: UserWarning: To exit: use 'exit', 'quit', or Ctrl-D.\n",
      "  warn(\"To exit: use 'exit', 'quit', or Ctrl-D.\", stacklevel=1)\n"
     ]
    }
   ],
   "source": [
    "# parse mixed output\n",
    "src.main.mixed(['data/kgml_hsa//hsa00020.xml', '-r', 'data/mixed_output'])"
   ],
   "metadata": {
    "collapsed": false,
    "ExecuteTime": {
     "end_time": "2024-09-26T19:08:07.544419Z",
     "start_time": "2024-09-26T18:06:58.724262Z"
    }
   },
   "id": "98b17c12e465be0f",
   "execution_count": 7
  },
  {
   "cell_type": "code",
   "outputs": [
    {
     "name": "stdout",
     "output_type": "stream",
     "text": [
      "\u001B[31m\u001B[1mNo data to parse in data/mixed_output_unique/hsa00290.tsv!\u001B[0m\n",
      "\u001B[31m\u001B[1mNo data to parse in data/mixed_output_unique/hsa00524.tsv!\u001B[0m\n"
     ]
    }
   ],
   "source": [
    "pm_parser.parse_to_mpi('data/mixed_output_unique', wd='data/mixed_output_PC')"
   ],
   "metadata": {
    "collapsed": false,
    "ExecuteTime": {
     "end_time": "2024-09-26T15:49:35.644113Z",
     "start_time": "2024-09-26T15:49:19.441855Z"
    }
   },
   "id": "9ba3b6a51152ca4a",
   "execution_count": 4
  },
  {
   "cell_type": "code",
   "outputs": [
    {
     "name": "stdout",
     "output_type": "stream",
     "text": [
      "Now converting hsa04512_mpi.tsv to UniProt IDs...\n",
      "\u001B[32m\u001B[1mConversion of hsa04512_mpi.tsv complete!\u001B[0m\n",
      "Now converting hsa05160_mpi.tsv to UniProt IDs...\n",
      "\u001B[32m\u001B[1mConversion of hsa05160_mpi.tsv complete!\u001B[0m\n",
      "Now converting hsa05170_mpi.tsv to UniProt IDs...\n",
      "\u001B[32m\u001B[1mConversion of hsa05170_mpi.tsv complete!\u001B[0m\n",
      "Now converting hsa05206_mpi.tsv to UniProt IDs...\n",
      "\u001B[32m\u001B[1mConversion of hsa05206_mpi.tsv complete!\u001B[0m\n",
      "Now converting hsa04664_mpi.tsv to UniProt IDs...\n",
      "\u001B[32m\u001B[1mConversion of hsa04664_mpi.tsv complete!\u001B[0m\n",
      "Now converting hsa05216_mpi.tsv to UniProt IDs...\n",
      "\u001B[32m\u001B[1mConversion of hsa05216_mpi.tsv complete!\u001B[0m\n",
      "Now converting hsa00430_mpi.tsv to UniProt IDs...\n",
      "\u001B[32m\u001B[1mConversion of hsa00430_mpi.tsv complete!\u001B[0m\n",
      "Now converting hsa04911_mpi.tsv to UniProt IDs...\n",
      "\u001B[32m\u001B[1mConversion of hsa04911_mpi.tsv complete!\u001B[0m\n",
      "Now converting hsa04973_mpi.tsv to UniProt IDs...\n",
      "\u001B[32m\u001B[1mConversion of hsa04973_mpi.tsv complete!\u001B[0m\n",
      "Now converting hsa03015_mpi.tsv to UniProt IDs...\n",
      "\u001B[32m\u001B[1mConversion of hsa03015_mpi.tsv complete!\u001B[0m\n",
      "Now converting hsa00980_mpi.tsv to UniProt IDs...\n",
      "\u001B[32m\u001B[1mConversion of hsa00980_mpi.tsv complete!\u001B[0m\n",
      "Now converting hsa04723_mpi.tsv to UniProt IDs...\n",
      "\u001B[32m\u001B[1mConversion of hsa04723_mpi.tsv complete!\u001B[0m\n",
      "Now converting hsa00601_mpi.tsv to UniProt IDs...\n",
      "\u001B[32m\u001B[1mConversion of hsa00601_mpi.tsv complete!\u001B[0m\n",
      "Now converting hsa04210_mpi.tsv to UniProt IDs...\n",
      "\u001B[32m\u001B[1mConversion of hsa04210_mpi.tsv complete!\u001B[0m\n",
      "Now converting hsa05323_mpi.tsv to UniProt IDs...\n",
      "\u001B[32m\u001B[1mConversion of hsa05323_mpi.tsv complete!\u001B[0m\n",
      "Now converting hsa00515_mpi.tsv to UniProt IDs...\n",
      "\u001B[32m\u001B[1mConversion of hsa00515_mpi.tsv complete!\u001B[0m\n"
     ]
    },
    {
     "name": "stderr",
     "output_type": "stream",
     "text": [
      "\n",
      "Aborted!\n"
     ]
    },
    {
     "ename": "AttributeError",
     "evalue": "'tuple' object has no attribute 'tb_frame'",
     "output_type": "error",
     "traceback": [
      "\u001B[0;31m---------------------------------------------------------------------------\u001B[0m",
      "\u001B[0;31mKeyboardInterrupt\u001B[0m                         Traceback (most recent call last)",
      "File \u001B[0;32m~/anaconda3/envs/knext/lib/python3.11/site-packages/click/core.py:1078\u001B[0m, in \u001B[0;36mBaseCommand.main\u001B[0;34m(self, args, prog_name, complete_var, standalone_mode, windows_expand_args, **extra)\u001B[0m\n\u001B[1;32m   1077\u001B[0m \u001B[38;5;28;01mwith\u001B[39;00m \u001B[38;5;28mself\u001B[39m\u001B[38;5;241m.\u001B[39mmake_context(prog_name, args, \u001B[38;5;241m*\u001B[39m\u001B[38;5;241m*\u001B[39mextra) \u001B[38;5;28;01mas\u001B[39;00m ctx:\n\u001B[0;32m-> 1078\u001B[0m     rv \u001B[38;5;241m=\u001B[39m \u001B[38;5;28mself\u001B[39m\u001B[38;5;241m.\u001B[39minvoke(ctx)\n\u001B[1;32m   1079\u001B[0m     \u001B[38;5;28;01mif\u001B[39;00m \u001B[38;5;129;01mnot\u001B[39;00m standalone_mode:\n",
      "File \u001B[0;32m~/anaconda3/envs/knext/lib/python3.11/site-packages/click/core.py:1434\u001B[0m, in \u001B[0;36mCommand.invoke\u001B[0;34m(self, ctx)\u001B[0m\n\u001B[1;32m   1433\u001B[0m \u001B[38;5;28;01mif\u001B[39;00m \u001B[38;5;28mself\u001B[39m\u001B[38;5;241m.\u001B[39mcallback \u001B[38;5;129;01mis\u001B[39;00m \u001B[38;5;129;01mnot\u001B[39;00m \u001B[38;5;28;01mNone\u001B[39;00m:\n\u001B[0;32m-> 1434\u001B[0m     \u001B[38;5;28;01mreturn\u001B[39;00m ctx\u001B[38;5;241m.\u001B[39minvoke(\u001B[38;5;28mself\u001B[39m\u001B[38;5;241m.\u001B[39mcallback, \u001B[38;5;241m*\u001B[39m\u001B[38;5;241m*\u001B[39mctx\u001B[38;5;241m.\u001B[39mparams)\n",
      "File \u001B[0;32m~/anaconda3/envs/knext/lib/python3.11/site-packages/click/core.py:783\u001B[0m, in \u001B[0;36mContext.invoke\u001B[0;34m(_Context__self, _Context__callback, *args, **kwargs)\u001B[0m\n\u001B[1;32m    782\u001B[0m \u001B[38;5;28;01mwith\u001B[39;00m ctx:\n\u001B[0;32m--> 783\u001B[0m     \u001B[38;5;28;01mreturn\u001B[39;00m __callback(\u001B[38;5;241m*\u001B[39margs, \u001B[38;5;241m*\u001B[39m\u001B[38;5;241m*\u001B[39mkwargs)\n",
      "File \u001B[0;32m~/Documents/experiments/knext/src/main.py:157\u001B[0m, in \u001B[0;36mconvert\u001B[0;34m(input_data, species, graphics, results, uniprot, unique, verbose)\u001B[0m\n\u001B[1;32m    155\u001B[0m         wd \u001B[38;5;241m=\u001B[39m Path(results)\n\u001B[0;32m--> 157\u001B[0m genes_convert(species, input_data, wd\u001B[38;5;241m=\u001B[39mwd,  graphics\u001B[38;5;241m=\u001B[39mgraphics,\n\u001B[1;32m    158\u001B[0m               uniprot\u001B[38;5;241m=\u001B[39muniprot, unique\u001B[38;5;241m=\u001B[39munique, verbose\u001B[38;5;241m=\u001B[39mverbose)\n",
      "File \u001B[0;32m~/Documents/experiments/knext/src/knext/convert.py:150\u001B[0m, in \u001B[0;36mgenes_convert\u001B[0;34m(species, input_data, wd, graphics, uniprot, unique, verbose)\u001B[0m\n\u001B[1;32m    149\u001B[0m \u001B[38;5;28;01mtry\u001B[39;00m:\n\u001B[0;32m--> 150\u001B[0m     converter \u001B[38;5;241m=\u001B[39m Converter(species, file, wd\u001B[38;5;241m=\u001B[39mwd, graphics\u001B[38;5;241m=\u001B[39mgraphics,\n\u001B[1;32m    151\u001B[0m                           unique\u001B[38;5;241m=\u001B[39munique, uniprot\u001B[38;5;241m=\u001B[39muniprot,\n\u001B[1;32m    152\u001B[0m                           verbose\u001B[38;5;241m=\u001B[39mverbose)\n\u001B[1;32m    153\u001B[0m     converter\u001B[38;5;241m.\u001B[39mconvert_file()\n",
      "File \u001B[0;32m~/Documents/experiments/knext/src/knext/convert.py:36\u001B[0m, in \u001B[0;36mConverter.__init__\u001B[0;34m(self, species, input_data, wd, graphics, uniprot, unique, verbose)\u001B[0m\n\u001B[1;32m     35\u001B[0m \u001B[38;5;28;01mif\u001B[39;00m uniprot:\n\u001B[0;32m---> 36\u001B[0m     \u001B[38;5;28mself\u001B[39m\u001B[38;5;241m.\u001B[39mconversion \u001B[38;5;241m=\u001B[39m UP(\u001B[38;5;28mself\u001B[39m\u001B[38;5;241m.\u001B[39mspecies)\n\u001B[1;32m     37\u001B[0m     \u001B[38;5;28mself\u001B[39m\u001B[38;5;241m.\u001B[39mprefix \u001B[38;5;241m=\u001B[39m \u001B[38;5;124m'\u001B[39m\u001B[38;5;124mup:\u001B[39m\u001B[38;5;124m'\u001B[39m\n",
      "File \u001B[0;32m~/Documents/experiments/knext/src/knext/utils.py:143\u001B[0m, in \u001B[0;36mUP\u001B[0;34m(species)\u001B[0m\n\u001B[1;32m    142\u001B[0m url \u001B[38;5;241m=\u001B[39m \u001B[38;5;124m'\u001B[39m\u001B[38;5;124mhttp://rest.kegg.jp/conv/\u001B[39m\u001B[38;5;132;01m%s\u001B[39;00m\u001B[38;5;124m/uniprot\u001B[39m\u001B[38;5;124m'\u001B[39m\n\u001B[0;32m--> 143\u001B[0m response \u001B[38;5;241m=\u001B[39m request\u001B[38;5;241m.\u001B[39murlopen(url \u001B[38;5;241m%\u001B[39m species)\u001B[38;5;241m.\u001B[39mread()\u001B[38;5;241m.\u001B[39mdecode(\u001B[38;5;124m'\u001B[39m\u001B[38;5;124mutf-8\u001B[39m\u001B[38;5;124m'\u001B[39m)\n\u001B[1;32m    144\u001B[0m response \u001B[38;5;241m=\u001B[39m response\u001B[38;5;241m.\u001B[39mrstrip()\u001B[38;5;241m.\u001B[39mrsplit(\u001B[38;5;124m'\u001B[39m\u001B[38;5;130;01m\\n\u001B[39;00m\u001B[38;5;124m'\u001B[39m)\n",
      "File \u001B[0;32m~/anaconda3/envs/knext/lib/python3.11/urllib/request.py:216\u001B[0m, in \u001B[0;36murlopen\u001B[0;34m(url, data, timeout, cafile, capath, cadefault, context)\u001B[0m\n\u001B[1;32m    215\u001B[0m     opener \u001B[38;5;241m=\u001B[39m _opener\n\u001B[0;32m--> 216\u001B[0m \u001B[38;5;28;01mreturn\u001B[39;00m opener\u001B[38;5;241m.\u001B[39mopen(url, data, timeout)\n",
      "File \u001B[0;32m~/anaconda3/envs/knext/lib/python3.11/urllib/request.py:525\u001B[0m, in \u001B[0;36mOpenerDirector.open\u001B[0;34m(self, fullurl, data, timeout)\u001B[0m\n\u001B[1;32m    524\u001B[0m     meth \u001B[38;5;241m=\u001B[39m \u001B[38;5;28mgetattr\u001B[39m(processor, meth_name)\n\u001B[0;32m--> 525\u001B[0m     response \u001B[38;5;241m=\u001B[39m meth(req, response)\n\u001B[1;32m    527\u001B[0m \u001B[38;5;28;01mreturn\u001B[39;00m response\n",
      "File \u001B[0;32m~/anaconda3/envs/knext/lib/python3.11/urllib/request.py:634\u001B[0m, in \u001B[0;36mHTTPErrorProcessor.http_response\u001B[0;34m(self, request, response)\u001B[0m\n\u001B[1;32m    633\u001B[0m \u001B[38;5;28;01mif\u001B[39;00m \u001B[38;5;129;01mnot\u001B[39;00m (\u001B[38;5;241m200\u001B[39m \u001B[38;5;241m<\u001B[39m\u001B[38;5;241m=\u001B[39m code \u001B[38;5;241m<\u001B[39m \u001B[38;5;241m300\u001B[39m):\n\u001B[0;32m--> 634\u001B[0m     response \u001B[38;5;241m=\u001B[39m \u001B[38;5;28mself\u001B[39m\u001B[38;5;241m.\u001B[39mparent\u001B[38;5;241m.\u001B[39merror(\n\u001B[1;32m    635\u001B[0m         \u001B[38;5;124m'\u001B[39m\u001B[38;5;124mhttp\u001B[39m\u001B[38;5;124m'\u001B[39m, request, response, code, msg, hdrs)\n\u001B[1;32m    637\u001B[0m \u001B[38;5;28;01mreturn\u001B[39;00m response\n",
      "File \u001B[0;32m~/anaconda3/envs/knext/lib/python3.11/urllib/request.py:557\u001B[0m, in \u001B[0;36mOpenerDirector.error\u001B[0;34m(self, proto, *args)\u001B[0m\n\u001B[1;32m    556\u001B[0m args \u001B[38;5;241m=\u001B[39m (\u001B[38;5;28mdict\u001B[39m, proto, meth_name) \u001B[38;5;241m+\u001B[39m args\n\u001B[0;32m--> 557\u001B[0m result \u001B[38;5;241m=\u001B[39m \u001B[38;5;28mself\u001B[39m\u001B[38;5;241m.\u001B[39m_call_chain(\u001B[38;5;241m*\u001B[39margs)\n\u001B[1;32m    558\u001B[0m \u001B[38;5;28;01mif\u001B[39;00m result:\n",
      "File \u001B[0;32m~/anaconda3/envs/knext/lib/python3.11/urllib/request.py:496\u001B[0m, in \u001B[0;36mOpenerDirector._call_chain\u001B[0;34m(self, chain, kind, meth_name, *args)\u001B[0m\n\u001B[1;32m    495\u001B[0m func \u001B[38;5;241m=\u001B[39m \u001B[38;5;28mgetattr\u001B[39m(handler, meth_name)\n\u001B[0;32m--> 496\u001B[0m result \u001B[38;5;241m=\u001B[39m func(\u001B[38;5;241m*\u001B[39margs)\n\u001B[1;32m    497\u001B[0m \u001B[38;5;28;01mif\u001B[39;00m result \u001B[38;5;129;01mis\u001B[39;00m \u001B[38;5;129;01mnot\u001B[39;00m \u001B[38;5;28;01mNone\u001B[39;00m:\n",
      "File \u001B[0;32m~/anaconda3/envs/knext/lib/python3.11/urllib/request.py:749\u001B[0m, in \u001B[0;36mHTTPRedirectHandler.http_error_302\u001B[0;34m(self, req, fp, code, msg, headers)\u001B[0m\n\u001B[1;32m    747\u001B[0m fp\u001B[38;5;241m.\u001B[39mclose()\n\u001B[0;32m--> 749\u001B[0m \u001B[38;5;28;01mreturn\u001B[39;00m \u001B[38;5;28mself\u001B[39m\u001B[38;5;241m.\u001B[39mparent\u001B[38;5;241m.\u001B[39mopen(new, timeout\u001B[38;5;241m=\u001B[39mreq\u001B[38;5;241m.\u001B[39mtimeout)\n",
      "File \u001B[0;32m~/anaconda3/envs/knext/lib/python3.11/urllib/request.py:519\u001B[0m, in \u001B[0;36mOpenerDirector.open\u001B[0;34m(self, fullurl, data, timeout)\u001B[0m\n\u001B[1;32m    518\u001B[0m sys\u001B[38;5;241m.\u001B[39maudit(\u001B[38;5;124m'\u001B[39m\u001B[38;5;124murllib.Request\u001B[39m\u001B[38;5;124m'\u001B[39m, req\u001B[38;5;241m.\u001B[39mfull_url, req\u001B[38;5;241m.\u001B[39mdata, req\u001B[38;5;241m.\u001B[39mheaders, req\u001B[38;5;241m.\u001B[39mget_method())\n\u001B[0;32m--> 519\u001B[0m response \u001B[38;5;241m=\u001B[39m \u001B[38;5;28mself\u001B[39m\u001B[38;5;241m.\u001B[39m_open(req, data)\n\u001B[1;32m    521\u001B[0m \u001B[38;5;66;03m# post-process response\u001B[39;00m\n",
      "File \u001B[0;32m~/anaconda3/envs/knext/lib/python3.11/urllib/request.py:536\u001B[0m, in \u001B[0;36mOpenerDirector._open\u001B[0;34m(self, req, data)\u001B[0m\n\u001B[1;32m    535\u001B[0m protocol \u001B[38;5;241m=\u001B[39m req\u001B[38;5;241m.\u001B[39mtype\n\u001B[0;32m--> 536\u001B[0m result \u001B[38;5;241m=\u001B[39m \u001B[38;5;28mself\u001B[39m\u001B[38;5;241m.\u001B[39m_call_chain(\u001B[38;5;28mself\u001B[39m\u001B[38;5;241m.\u001B[39mhandle_open, protocol, protocol \u001B[38;5;241m+\u001B[39m\n\u001B[1;32m    537\u001B[0m                           \u001B[38;5;124m'\u001B[39m\u001B[38;5;124m_open\u001B[39m\u001B[38;5;124m'\u001B[39m, req)\n\u001B[1;32m    538\u001B[0m \u001B[38;5;28;01mif\u001B[39;00m result:\n",
      "File \u001B[0;32m~/anaconda3/envs/knext/lib/python3.11/urllib/request.py:496\u001B[0m, in \u001B[0;36mOpenerDirector._call_chain\u001B[0;34m(self, chain, kind, meth_name, *args)\u001B[0m\n\u001B[1;32m    495\u001B[0m func \u001B[38;5;241m=\u001B[39m \u001B[38;5;28mgetattr\u001B[39m(handler, meth_name)\n\u001B[0;32m--> 496\u001B[0m result \u001B[38;5;241m=\u001B[39m func(\u001B[38;5;241m*\u001B[39margs)\n\u001B[1;32m    497\u001B[0m \u001B[38;5;28;01mif\u001B[39;00m result \u001B[38;5;129;01mis\u001B[39;00m \u001B[38;5;129;01mnot\u001B[39;00m \u001B[38;5;28;01mNone\u001B[39;00m:\n",
      "File \u001B[0;32m~/anaconda3/envs/knext/lib/python3.11/urllib/request.py:1391\u001B[0m, in \u001B[0;36mHTTPSHandler.https_open\u001B[0;34m(self, req)\u001B[0m\n\u001B[1;32m   1390\u001B[0m \u001B[38;5;28;01mdef\u001B[39;00m \u001B[38;5;21mhttps_open\u001B[39m(\u001B[38;5;28mself\u001B[39m, req):\n\u001B[0;32m-> 1391\u001B[0m     \u001B[38;5;28;01mreturn\u001B[39;00m \u001B[38;5;28mself\u001B[39m\u001B[38;5;241m.\u001B[39mdo_open(http\u001B[38;5;241m.\u001B[39mclient\u001B[38;5;241m.\u001B[39mHTTPSConnection, req,\n\u001B[1;32m   1392\u001B[0m         context\u001B[38;5;241m=\u001B[39m\u001B[38;5;28mself\u001B[39m\u001B[38;5;241m.\u001B[39m_context, check_hostname\u001B[38;5;241m=\u001B[39m\u001B[38;5;28mself\u001B[39m\u001B[38;5;241m.\u001B[39m_check_hostname)\n",
      "File \u001B[0;32m~/anaconda3/envs/knext/lib/python3.11/urllib/request.py:1352\u001B[0m, in \u001B[0;36mAbstractHTTPHandler.do_open\u001B[0;34m(self, http_class, req, **http_conn_args)\u001B[0m\n\u001B[1;32m   1351\u001B[0m         \u001B[38;5;28;01mraise\u001B[39;00m URLError(err)\n\u001B[0;32m-> 1352\u001B[0m     r \u001B[38;5;241m=\u001B[39m h\u001B[38;5;241m.\u001B[39mgetresponse()\n\u001B[1;32m   1353\u001B[0m \u001B[38;5;28;01mexcept\u001B[39;00m:\n",
      "File \u001B[0;32m~/anaconda3/envs/knext/lib/python3.11/http/client.py:1395\u001B[0m, in \u001B[0;36mHTTPConnection.getresponse\u001B[0;34m(self)\u001B[0m\n\u001B[1;32m   1394\u001B[0m \u001B[38;5;28;01mtry\u001B[39;00m:\n\u001B[0;32m-> 1395\u001B[0m     response\u001B[38;5;241m.\u001B[39mbegin()\n\u001B[1;32m   1396\u001B[0m \u001B[38;5;28;01mexcept\u001B[39;00m \u001B[38;5;167;01mConnectionError\u001B[39;00m:\n",
      "File \u001B[0;32m~/anaconda3/envs/knext/lib/python3.11/http/client.py:325\u001B[0m, in \u001B[0;36mHTTPResponse.begin\u001B[0;34m(self)\u001B[0m\n\u001B[1;32m    324\u001B[0m \u001B[38;5;28;01mwhile\u001B[39;00m \u001B[38;5;28;01mTrue\u001B[39;00m:\n\u001B[0;32m--> 325\u001B[0m     version, status, reason \u001B[38;5;241m=\u001B[39m \u001B[38;5;28mself\u001B[39m\u001B[38;5;241m.\u001B[39m_read_status()\n\u001B[1;32m    326\u001B[0m     \u001B[38;5;28;01mif\u001B[39;00m status \u001B[38;5;241m!=\u001B[39m CONTINUE:\n",
      "File \u001B[0;32m~/anaconda3/envs/knext/lib/python3.11/http/client.py:286\u001B[0m, in \u001B[0;36mHTTPResponse._read_status\u001B[0;34m(self)\u001B[0m\n\u001B[1;32m    285\u001B[0m \u001B[38;5;28;01mdef\u001B[39;00m \u001B[38;5;21m_read_status\u001B[39m(\u001B[38;5;28mself\u001B[39m):\n\u001B[0;32m--> 286\u001B[0m     line \u001B[38;5;241m=\u001B[39m \u001B[38;5;28mstr\u001B[39m(\u001B[38;5;28mself\u001B[39m\u001B[38;5;241m.\u001B[39mfp\u001B[38;5;241m.\u001B[39mreadline(_MAXLINE \u001B[38;5;241m+\u001B[39m \u001B[38;5;241m1\u001B[39m), \u001B[38;5;124m\"\u001B[39m\u001B[38;5;124miso-8859-1\u001B[39m\u001B[38;5;124m\"\u001B[39m)\n\u001B[1;32m    287\u001B[0m     \u001B[38;5;28;01mif\u001B[39;00m \u001B[38;5;28mlen\u001B[39m(line) \u001B[38;5;241m>\u001B[39m _MAXLINE:\n",
      "File \u001B[0;32m~/anaconda3/envs/knext/lib/python3.11/socket.py:706\u001B[0m, in \u001B[0;36mSocketIO.readinto\u001B[0;34m(self, b)\u001B[0m\n\u001B[1;32m    705\u001B[0m \u001B[38;5;28;01mtry\u001B[39;00m:\n\u001B[0;32m--> 706\u001B[0m     \u001B[38;5;28;01mreturn\u001B[39;00m \u001B[38;5;28mself\u001B[39m\u001B[38;5;241m.\u001B[39m_sock\u001B[38;5;241m.\u001B[39mrecv_into(b)\n\u001B[1;32m    707\u001B[0m \u001B[38;5;28;01mexcept\u001B[39;00m timeout:\n",
      "File \u001B[0;32m~/anaconda3/envs/knext/lib/python3.11/ssl.py:1314\u001B[0m, in \u001B[0;36mSSLSocket.recv_into\u001B[0;34m(self, buffer, nbytes, flags)\u001B[0m\n\u001B[1;32m   1311\u001B[0m         \u001B[38;5;28;01mraise\u001B[39;00m \u001B[38;5;167;01mValueError\u001B[39;00m(\n\u001B[1;32m   1312\u001B[0m           \u001B[38;5;124m\"\u001B[39m\u001B[38;5;124mnon-zero flags not allowed in calls to recv_into() on \u001B[39m\u001B[38;5;132;01m%s\u001B[39;00m\u001B[38;5;124m\"\u001B[39m \u001B[38;5;241m%\u001B[39m\n\u001B[1;32m   1313\u001B[0m           \u001B[38;5;28mself\u001B[39m\u001B[38;5;241m.\u001B[39m\u001B[38;5;18m__class__\u001B[39m)\n\u001B[0;32m-> 1314\u001B[0m     \u001B[38;5;28;01mreturn\u001B[39;00m \u001B[38;5;28mself\u001B[39m\u001B[38;5;241m.\u001B[39mread(nbytes, buffer)\n\u001B[1;32m   1315\u001B[0m \u001B[38;5;28;01melse\u001B[39;00m:\n",
      "File \u001B[0;32m~/anaconda3/envs/knext/lib/python3.11/ssl.py:1166\u001B[0m, in \u001B[0;36mSSLSocket.read\u001B[0;34m(self, len, buffer)\u001B[0m\n\u001B[1;32m   1165\u001B[0m \u001B[38;5;28;01mif\u001B[39;00m buffer \u001B[38;5;129;01mis\u001B[39;00m \u001B[38;5;129;01mnot\u001B[39;00m \u001B[38;5;28;01mNone\u001B[39;00m:\n\u001B[0;32m-> 1166\u001B[0m     \u001B[38;5;28;01mreturn\u001B[39;00m \u001B[38;5;28mself\u001B[39m\u001B[38;5;241m.\u001B[39m_sslobj\u001B[38;5;241m.\u001B[39mread(\u001B[38;5;28mlen\u001B[39m, buffer)\n\u001B[1;32m   1167\u001B[0m \u001B[38;5;28;01melse\u001B[39;00m:\n",
      "\u001B[0;31mKeyboardInterrupt\u001B[0m: ",
      "\nThe above exception was the direct cause of the following exception:\n",
      "\u001B[0;31mAbort\u001B[0m                                     Traceback (most recent call last)",
      "File \u001B[0;32m~/anaconda3/envs/knext/lib/python3.11/site-packages/click/core.py:1091\u001B[0m, in \u001B[0;36mBaseCommand.main\u001B[0;34m(self, args, prog_name, complete_var, standalone_mode, windows_expand_args, **extra)\u001B[0m\n\u001B[1;32m   1090\u001B[0m     echo(file\u001B[38;5;241m=\u001B[39msys\u001B[38;5;241m.\u001B[39mstderr)\n\u001B[0;32m-> 1091\u001B[0m     \u001B[38;5;28;01mraise\u001B[39;00m Abort() \u001B[38;5;28;01mfrom\u001B[39;00m \u001B[38;5;21;01me\u001B[39;00m\n\u001B[1;32m   1092\u001B[0m \u001B[38;5;28;01mexcept\u001B[39;00m ClickException \u001B[38;5;28;01mas\u001B[39;00m e:\n",
      "\u001B[0;31mAbort\u001B[0m: ",
      "\nDuring handling of the above exception, another exception occurred:\n",
      "\u001B[0;31mSystemExit\u001B[0m                                Traceback (most recent call last)",
      "    \u001B[0;31m[... skipping hidden 1 frame]\u001B[0m\n",
      "Cell \u001B[0;32mIn[79], line 2\u001B[0m\n\u001B[1;32m      1\u001B[0m \u001B[38;5;66;03m# convert ID to uniprot ID\u001B[39;00m\n\u001B[0;32m----> 2\u001B[0m src\u001B[38;5;241m.\u001B[39mmain\u001B[38;5;241m.\u001B[39mconvert([\u001B[38;5;124m'\u001B[39m\u001B[38;5;124mhsa\u001B[39m\u001B[38;5;124m'\u001B[39m, \u001B[38;5;124m'\u001B[39m\u001B[38;5;124mdata/mixed_output_PC\u001B[39m\u001B[38;5;124m'\u001B[39m, \u001B[38;5;124m'\u001B[39m\u001B[38;5;124m-r\u001B[39m\u001B[38;5;124m'\u001B[39m,\n\u001B[1;32m      3\u001B[0m                          \u001B[38;5;124m'\u001B[39m\u001B[38;5;124mdata/mixed_output_converted\u001B[39m\u001B[38;5;124m'\u001B[39m, \u001B[38;5;124m'\u001B[39m\u001B[38;5;124m-up\u001B[39m\u001B[38;5;124m'\u001B[39m])\n",
      "File \u001B[0;32m~/anaconda3/envs/knext/lib/python3.11/site-packages/click/core.py:1157\u001B[0m, in \u001B[0;36mBaseCommand.__call__\u001B[0;34m(self, *args, **kwargs)\u001B[0m\n\u001B[1;32m   1156\u001B[0m \u001B[38;5;250m\u001B[39m\u001B[38;5;124;03m\"\"\"Alias for :meth:`main`.\"\"\"\u001B[39;00m\n\u001B[0;32m-> 1157\u001B[0m \u001B[38;5;28;01mreturn\u001B[39;00m \u001B[38;5;28mself\u001B[39m\u001B[38;5;241m.\u001B[39mmain(\u001B[38;5;241m*\u001B[39margs, \u001B[38;5;241m*\u001B[39m\u001B[38;5;241m*\u001B[39mkwargs)\n",
      "File \u001B[0;32m~/anaconda3/envs/knext/lib/python3.11/site-packages/click/core.py:1121\u001B[0m, in \u001B[0;36mBaseCommand.main\u001B[0;34m(self, args, prog_name, complete_var, standalone_mode, windows_expand_args, **extra)\u001B[0m\n\u001B[1;32m   1120\u001B[0m echo(_(\u001B[38;5;124m\"\u001B[39m\u001B[38;5;124mAborted!\u001B[39m\u001B[38;5;124m\"\u001B[39m), file\u001B[38;5;241m=\u001B[39msys\u001B[38;5;241m.\u001B[39mstderr)\n\u001B[0;32m-> 1121\u001B[0m sys\u001B[38;5;241m.\u001B[39mexit(\u001B[38;5;241m1\u001B[39m)\n",
      "\u001B[0;31mSystemExit\u001B[0m: 1",
      "\nDuring handling of the above exception, another exception occurred:\n",
      "\u001B[0;31mAttributeError\u001B[0m                            Traceback (most recent call last)",
      "    \u001B[0;31m[... skipping hidden 1 frame]\u001B[0m\n",
      "File \u001B[0;32m~/anaconda3/envs/knext/lib/python3.11/site-packages/IPython/core/interactiveshell.py:2121\u001B[0m, in \u001B[0;36mInteractiveShell.showtraceback\u001B[0;34m(self, exc_tuple, filename, tb_offset, exception_only, running_compiled_code)\u001B[0m\n\u001B[1;32m   2118\u001B[0m \u001B[38;5;28;01mif\u001B[39;00m exception_only:\n\u001B[1;32m   2119\u001B[0m     stb \u001B[38;5;241m=\u001B[39m [\u001B[38;5;124m'\u001B[39m\u001B[38;5;124mAn exception has occurred, use \u001B[39m\u001B[38;5;124m%\u001B[39m\u001B[38;5;124mtb to see \u001B[39m\u001B[38;5;124m'\u001B[39m\n\u001B[1;32m   2120\u001B[0m            \u001B[38;5;124m'\u001B[39m\u001B[38;5;124mthe full traceback.\u001B[39m\u001B[38;5;130;01m\\n\u001B[39;00m\u001B[38;5;124m'\u001B[39m]\n\u001B[0;32m-> 2121\u001B[0m     stb\u001B[38;5;241m.\u001B[39mextend(\u001B[38;5;28mself\u001B[39m\u001B[38;5;241m.\u001B[39mInteractiveTB\u001B[38;5;241m.\u001B[39mget_exception_only(etype,\n\u001B[1;32m   2122\u001B[0m                                                      value))\n\u001B[1;32m   2123\u001B[0m \u001B[38;5;28;01melse\u001B[39;00m:\n\u001B[1;32m   2125\u001B[0m     \u001B[38;5;28;01mdef\u001B[39;00m \u001B[38;5;21mcontains_exceptiongroup\u001B[39m(val):\n",
      "File \u001B[0;32m~/anaconda3/envs/knext/lib/python3.11/site-packages/IPython/core/ultratb.py:710\u001B[0m, in \u001B[0;36mListTB.get_exception_only\u001B[0;34m(self, etype, value)\u001B[0m\n\u001B[1;32m    702\u001B[0m \u001B[38;5;28;01mdef\u001B[39;00m \u001B[38;5;21mget_exception_only\u001B[39m(\u001B[38;5;28mself\u001B[39m, etype, value):\n\u001B[1;32m    703\u001B[0m \u001B[38;5;250m    \u001B[39m\u001B[38;5;124;03m\"\"\"Only print the exception type and message, without a traceback.\u001B[39;00m\n\u001B[1;32m    704\u001B[0m \n\u001B[1;32m    705\u001B[0m \u001B[38;5;124;03m    Parameters\u001B[39;00m\n\u001B[0;32m   (...)\u001B[0m\n\u001B[1;32m    708\u001B[0m \u001B[38;5;124;03m    value : exception value\u001B[39;00m\n\u001B[1;32m    709\u001B[0m \u001B[38;5;124;03m    \"\"\"\u001B[39;00m\n\u001B[0;32m--> 710\u001B[0m     \u001B[38;5;28;01mreturn\u001B[39;00m ListTB\u001B[38;5;241m.\u001B[39mstructured_traceback(\u001B[38;5;28mself\u001B[39m, etype, value)\n",
      "File \u001B[0;32m~/anaconda3/envs/knext/lib/python3.11/site-packages/IPython/core/ultratb.py:568\u001B[0m, in \u001B[0;36mListTB.structured_traceback\u001B[0;34m(self, etype, evalue, etb, tb_offset, context)\u001B[0m\n\u001B[1;32m    565\u001B[0m     chained_exc_ids\u001B[38;5;241m.\u001B[39madd(\u001B[38;5;28mid\u001B[39m(exception[\u001B[38;5;241m1\u001B[39m]))\n\u001B[1;32m    566\u001B[0m     chained_exceptions_tb_offset \u001B[38;5;241m=\u001B[39m \u001B[38;5;241m0\u001B[39m\n\u001B[1;32m    567\u001B[0m     out_list \u001B[38;5;241m=\u001B[39m (\n\u001B[0;32m--> 568\u001B[0m         \u001B[38;5;28mself\u001B[39m\u001B[38;5;241m.\u001B[39mstructured_traceback(\n\u001B[1;32m    569\u001B[0m             etype,\n\u001B[1;32m    570\u001B[0m             evalue,\n\u001B[1;32m    571\u001B[0m             (etb, chained_exc_ids),  \u001B[38;5;66;03m# type: ignore\u001B[39;00m\n\u001B[1;32m    572\u001B[0m             chained_exceptions_tb_offset,\n\u001B[1;32m    573\u001B[0m             context,\n\u001B[1;32m    574\u001B[0m         )\n\u001B[1;32m    575\u001B[0m         \u001B[38;5;241m+\u001B[39m chained_exception_message\n\u001B[1;32m    576\u001B[0m         \u001B[38;5;241m+\u001B[39m out_list)\n\u001B[1;32m    578\u001B[0m \u001B[38;5;28;01mreturn\u001B[39;00m out_list\n",
      "File \u001B[0;32m~/anaconda3/envs/knext/lib/python3.11/site-packages/IPython/core/ultratb.py:1435\u001B[0m, in \u001B[0;36mAutoFormattedTB.structured_traceback\u001B[0;34m(self, etype, evalue, etb, tb_offset, number_of_lines_of_context)\u001B[0m\n\u001B[1;32m   1433\u001B[0m \u001B[38;5;28;01melse\u001B[39;00m:\n\u001B[1;32m   1434\u001B[0m     \u001B[38;5;28mself\u001B[39m\u001B[38;5;241m.\u001B[39mtb \u001B[38;5;241m=\u001B[39m etb\n\u001B[0;32m-> 1435\u001B[0m \u001B[38;5;28;01mreturn\u001B[39;00m FormattedTB\u001B[38;5;241m.\u001B[39mstructured_traceback(\n\u001B[1;32m   1436\u001B[0m     \u001B[38;5;28mself\u001B[39m, etype, evalue, etb, tb_offset, number_of_lines_of_context\n\u001B[1;32m   1437\u001B[0m )\n",
      "File \u001B[0;32m~/anaconda3/envs/knext/lib/python3.11/site-packages/IPython/core/ultratb.py:1326\u001B[0m, in \u001B[0;36mFormattedTB.structured_traceback\u001B[0;34m(self, etype, value, tb, tb_offset, number_of_lines_of_context)\u001B[0m\n\u001B[1;32m   1323\u001B[0m mode \u001B[38;5;241m=\u001B[39m \u001B[38;5;28mself\u001B[39m\u001B[38;5;241m.\u001B[39mmode\n\u001B[1;32m   1324\u001B[0m \u001B[38;5;28;01mif\u001B[39;00m mode \u001B[38;5;129;01min\u001B[39;00m \u001B[38;5;28mself\u001B[39m\u001B[38;5;241m.\u001B[39mverbose_modes:\n\u001B[1;32m   1325\u001B[0m     \u001B[38;5;66;03m# Verbose modes need a full traceback\u001B[39;00m\n\u001B[0;32m-> 1326\u001B[0m     \u001B[38;5;28;01mreturn\u001B[39;00m VerboseTB\u001B[38;5;241m.\u001B[39mstructured_traceback(\n\u001B[1;32m   1327\u001B[0m         \u001B[38;5;28mself\u001B[39m, etype, value, tb, tb_offset, number_of_lines_of_context\n\u001B[1;32m   1328\u001B[0m     )\n\u001B[1;32m   1329\u001B[0m \u001B[38;5;28;01melif\u001B[39;00m mode \u001B[38;5;241m==\u001B[39m \u001B[38;5;124m'\u001B[39m\u001B[38;5;124mMinimal\u001B[39m\u001B[38;5;124m'\u001B[39m:\n\u001B[1;32m   1330\u001B[0m     \u001B[38;5;28;01mreturn\u001B[39;00m ListTB\u001B[38;5;241m.\u001B[39mget_exception_only(\u001B[38;5;28mself\u001B[39m, etype, value)\n",
      "File \u001B[0;32m~/anaconda3/envs/knext/lib/python3.11/site-packages/IPython/core/ultratb.py:1173\u001B[0m, in \u001B[0;36mVerboseTB.structured_traceback\u001B[0;34m(self, etype, evalue, etb, tb_offset, number_of_lines_of_context)\u001B[0m\n\u001B[1;32m   1164\u001B[0m \u001B[38;5;28;01mdef\u001B[39;00m \u001B[38;5;21mstructured_traceback\u001B[39m(\n\u001B[1;32m   1165\u001B[0m     \u001B[38;5;28mself\u001B[39m,\n\u001B[1;32m   1166\u001B[0m     etype: \u001B[38;5;28mtype\u001B[39m,\n\u001B[0;32m   (...)\u001B[0m\n\u001B[1;32m   1170\u001B[0m     number_of_lines_of_context: \u001B[38;5;28mint\u001B[39m \u001B[38;5;241m=\u001B[39m \u001B[38;5;241m5\u001B[39m,\n\u001B[1;32m   1171\u001B[0m ):\n\u001B[1;32m   1172\u001B[0m \u001B[38;5;250m    \u001B[39m\u001B[38;5;124;03m\"\"\"Return a nice text document describing the traceback.\"\"\"\u001B[39;00m\n\u001B[0;32m-> 1173\u001B[0m     formatted_exception \u001B[38;5;241m=\u001B[39m \u001B[38;5;28mself\u001B[39m\u001B[38;5;241m.\u001B[39mformat_exception_as_a_whole(etype, evalue, etb, number_of_lines_of_context,\n\u001B[1;32m   1174\u001B[0m                                                            tb_offset)\n\u001B[1;32m   1176\u001B[0m     colors \u001B[38;5;241m=\u001B[39m \u001B[38;5;28mself\u001B[39m\u001B[38;5;241m.\u001B[39mColors  \u001B[38;5;66;03m# just a shorthand + quicker name lookup\u001B[39;00m\n\u001B[1;32m   1177\u001B[0m     colorsnormal \u001B[38;5;241m=\u001B[39m colors\u001B[38;5;241m.\u001B[39mNormal  \u001B[38;5;66;03m# used a lot\u001B[39;00m\n",
      "File \u001B[0;32m~/anaconda3/envs/knext/lib/python3.11/site-packages/IPython/core/ultratb.py:1063\u001B[0m, in \u001B[0;36mVerboseTB.format_exception_as_a_whole\u001B[0;34m(self, etype, evalue, etb, number_of_lines_of_context, tb_offset)\u001B[0m\n\u001B[1;32m   1060\u001B[0m \u001B[38;5;28;01massert\u001B[39;00m \u001B[38;5;28misinstance\u001B[39m(tb_offset, \u001B[38;5;28mint\u001B[39m)\n\u001B[1;32m   1061\u001B[0m head \u001B[38;5;241m=\u001B[39m \u001B[38;5;28mself\u001B[39m\u001B[38;5;241m.\u001B[39mprepare_header(\u001B[38;5;28mstr\u001B[39m(etype), \u001B[38;5;28mself\u001B[39m\u001B[38;5;241m.\u001B[39mlong_header)\n\u001B[1;32m   1062\u001B[0m records \u001B[38;5;241m=\u001B[39m (\n\u001B[0;32m-> 1063\u001B[0m     \u001B[38;5;28mself\u001B[39m\u001B[38;5;241m.\u001B[39mget_records(etb, number_of_lines_of_context, tb_offset) \u001B[38;5;28;01mif\u001B[39;00m etb \u001B[38;5;28;01melse\u001B[39;00m []\n\u001B[1;32m   1064\u001B[0m )\n\u001B[1;32m   1066\u001B[0m frames \u001B[38;5;241m=\u001B[39m []\n\u001B[1;32m   1067\u001B[0m skipped \u001B[38;5;241m=\u001B[39m \u001B[38;5;241m0\u001B[39m\n",
      "File \u001B[0;32m~/anaconda3/envs/knext/lib/python3.11/site-packages/IPython/core/ultratb.py:1131\u001B[0m, in \u001B[0;36mVerboseTB.get_records\u001B[0;34m(self, etb, number_of_lines_of_context, tb_offset)\u001B[0m\n\u001B[1;32m   1129\u001B[0m \u001B[38;5;28;01mwhile\u001B[39;00m cf \u001B[38;5;129;01mis\u001B[39;00m \u001B[38;5;129;01mnot\u001B[39;00m \u001B[38;5;28;01mNone\u001B[39;00m:\n\u001B[1;32m   1130\u001B[0m     \u001B[38;5;28;01mtry\u001B[39;00m:\n\u001B[0;32m-> 1131\u001B[0m         mod \u001B[38;5;241m=\u001B[39m inspect\u001B[38;5;241m.\u001B[39mgetmodule(cf\u001B[38;5;241m.\u001B[39mtb_frame)\n\u001B[1;32m   1132\u001B[0m         \u001B[38;5;28;01mif\u001B[39;00m mod \u001B[38;5;129;01mis\u001B[39;00m \u001B[38;5;129;01mnot\u001B[39;00m \u001B[38;5;28;01mNone\u001B[39;00m:\n\u001B[1;32m   1133\u001B[0m             mod_name \u001B[38;5;241m=\u001B[39m mod\u001B[38;5;241m.\u001B[39m\u001B[38;5;18m__name__\u001B[39m\n",
      "\u001B[0;31mAttributeError\u001B[0m: 'tuple' object has no attribute 'tb_frame'"
     ]
    }
   ],
   "source": [
    "# convert ID to uniprot ID\n",
    "src.main.convert(['hsa', 'data/mixed_output_PC', '-r',\n",
    "                         'data/mixed_output_converted', '-up'])"
   ],
   "metadata": {
    "collapsed": false,
    "ExecuteTime": {
     "end_time": "2024-09-26T02:20:33.484300Z",
     "start_time": "2024-09-26T02:19:52.165908Z"
    }
   },
   "id": "73ef6b7f49d99cee",
   "execution_count": 79
  },
  {
   "cell_type": "code",
   "outputs": [],
   "source": [
    "mol_file_string = utils.fetch_mol_file_string('C00002')"
   ],
   "metadata": {
    "collapsed": false,
    "ExecuteTime": {
     "end_time": "2024-09-23T22:03:51.408891Z",
     "start_time": "2024-09-23T22:03:50.541797Z"
    }
   },
   "id": "4b869b7ab13629c7",
   "execution_count": 12
  },
  {
   "cell_type": "code",
   "outputs": [
    {
     "data": {
      "text/plain": "'Nc1ncnc2c1ncn2[C@@H]1O[C@H](COP(=O)(O)OP(=O)(O)OP(=O)(O)O)[C@@H](O)[C@H]1O'"
     },
     "execution_count": 14,
     "metadata": {},
     "output_type": "execute_result"
    }
   ],
   "source": [
    "utils.get_smiles(mol_file_string)"
   ],
   "metadata": {
    "collapsed": false,
    "ExecuteTime": {
     "end_time": "2024-09-23T22:03:52.100764Z",
     "start_time": "2024-09-23T22:03:52.095959Z"
    }
   },
   "id": "71c0e6d97181cd16",
   "execution_count": 14
  },
  {
   "cell_type": "code",
   "outputs": [],
   "source": [],
   "metadata": {
    "collapsed": false
   },
   "id": "8003d404746714d8"
  }
 ],
 "metadata": {
  "kernelspec": {
   "display_name": "Python 3",
   "language": "python",
   "name": "python3"
  },
  "language_info": {
   "codemirror_mode": {
    "name": "ipython",
    "version": 2
   },
   "file_extension": ".py",
   "mimetype": "text/x-python",
   "name": "python",
   "nbconvert_exporter": "python",
   "pygments_lexer": "ipython2",
   "version": "2.7.6"
  }
 },
 "nbformat": 4,
 "nbformat_minor": 5
}
